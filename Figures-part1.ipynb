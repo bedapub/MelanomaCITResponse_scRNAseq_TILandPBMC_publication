{
 "cells": [
  {
   "cell_type": "code",
   "execution_count": null,
   "metadata": {},
   "outputs": [],
   "source": [
    "import besca as bc\n",
    "import numpy as np\n",
    "import pandas as pd\n",
    "import scanpy as sc\n",
    "import matplotlib.pyplot as plt\n",
    "from scipy import sparse, io\n",
    "import os\n",
    "import time\n",
    "import logging\n",
    "import seaborn as sns\n",
    "from scipy.stats import fisher_exact\n",
    "sc.logging.print_versions()\n",
    "\n",
    "# for standard processing, set verbosity to minimum\n",
    "sc.settings.verbosity = 0  # verbosity: errors (0), warnings (1), info (2), hints (3)\n",
    "sc.settings.set_figure_params(dpi=80)\n",
    "version = '2.8'\n",
    "start0 = time.time()"
   ]
  },
  {
   "cell_type": "code",
   "execution_count": null,
   "metadata": {},
   "outputs": [],
   "source": [
    "### Plot parameters for publication \n",
    "def set_pub():    \n",
    "    small_size = 10\n",
    "    medium_size = 12\n",
    "    large_size = 14\n",
    "\n",
    "    resolution = 300 #in dpi\n",
    "    plt.rcParams['font.weight'] = 'normal'\n",
    "    #plt.rc('font', **{'family':'sans-serif','sans-serif':['Helvetica']})\n",
    "    plt.rc('axes', titlesize=large_size, titleweight = \"bold\")               # fontsize of the axes title\n",
    "    plt.rc('axes', labelsize=medium_size, labelweight = \"bold\")               # fontsize of the x and y labels\n",
    "    plt.rc('xtick', labelsize=small_size)               # fontsize of the tick labels\n",
    "    plt.rc('ytick', labelsize=small_size)               # fontsize of the tick labels\n",
    "    plt.rc('legend', fontsize=small_size, title_fontsize = medium_size)               # legend fontsize\n",
    "    plt.rc('figure', titlesize=large_size, titleweight = \"bold\")              # fontsize of the figure title\n",
    "    plt.rc('savefig', dpi=resolution)                   # higher res outputs\n",
    "\n",
    "    plt.rcParams['svg.fonttype'] = 'none'\n",
    "\n",
    "\n",
    "set_pub()"
   ]
  },
  {
   "cell_type": "code",
   "execution_count": null,
   "metadata": {},
   "outputs": [],
   "source": [
    "#define standardized filepaths based on above input\n",
    "root_path = os.getcwd()\n",
    "bescapath_full = os.path.dirname(bc.__file__)\n",
    "bescapath = os.path.split(bescapath_full)[0]\n",
    "\n",
    "### Uncomment this when running after the standard workflow\n",
    "analysis_name = 'sw_besca2_immune'\n",
    "\n",
    "clusters='leiden'\n"
   ]
  },
  {
   "cell_type": "code",
   "execution_count": null,
   "metadata": {},
   "outputs": [],
   "source": [
    "results_folder = os.path.join(root_path, 'analyzed', analysis_name)\n",
    "adata = sc.read_h5ad(os.path.join(results_folder, analysis_name + '.annotated.h5ad') )\n",
    "\n",
    "figdir=os.path.join(root_path, 'analyzed', analysis_name+'/figures/publication/')\n",
    "sc.settings.figdir = figdir\n",
    "if not os.path.exists(figdir):\n",
    "    os.makedirs(figdir)"
   ]
  },
  {
   "cell_type": "code",
   "execution_count": null,
   "metadata": {},
   "outputs": [],
   "source": [
    "os.path.join(results_folder, analysis_name + '.annotated.h5ad')"
   ]
  },
  {
   "cell_type": "code",
   "execution_count": null,
   "metadata": {},
   "outputs": [],
   "source": [
    "figdir"
   ]
  },
  {
   "cell_type": "code",
   "execution_count": null,
   "metadata": {},
   "outputs": [],
   "source": [
    "sc.pl.umap(adata,color='celltype3_merged')"
   ]
  },
  {
   "cell_type": "code",
   "execution_count": null,
   "metadata": {},
   "outputs": [],
   "source": [
    "adata"
   ]
  },
  {
   "cell_type": "markdown",
   "metadata": {},
   "source": [
    "### Adjust nomenclature "
   ]
  },
  {
   "cell_type": "code",
   "execution_count": null,
   "metadata": {},
   "outputs": [],
   "source": [
    "adata.obs['RCat']=adata.obs['Response3'].copy()\n",
    "adata.obs['RCat']=list(adata.obs['RCat'].replace('NR', 'NR_nadj'))\n",
    "adata.obs['RCat']=list(adata.obs['RCat'].replace('PD', 'NR_adj'))\n",
    "#adata.obs['RCat']=list(adata.obs['RCat'].replace('TF', 'R_adj'))\n",
    "#adata.obs['RCat']=list(adata.obs['RCat'].replace('R', 'R_nadj'))"
   ]
  },
  {
   "cell_type": "code",
   "execution_count": null,
   "metadata": {},
   "outputs": [],
   "source": [
    "#set(adata.obs['celltype3'])"
   ]
  },
  {
   "cell_type": "code",
   "execution_count": null,
   "metadata": {},
   "outputs": [],
   "source": [
    "newc=adata.obs['celltype2_merged'].copy()\n",
    "newc=newc.replace('CD4-positive, alpha-beta T cell', 'CD4-positive T cell').copy()\n",
    "newc=newc.replace('CD8-positive, alpha-beta T cell', 'CD8-positive T cell').copy()\n",
    "newc=newc.replace('lymphocyte of B lineage', 'B cell').copy()\n",
    "adata.obs['celltype2_pub']=list(newc)"
   ]
  },
  {
   "cell_type": "code",
   "execution_count": null,
   "metadata": {},
   "outputs": [],
   "source": [
    "newc=adata.obs['celltype3_merged'].copy()\n",
    "newc=newc.replace('CD4-positive, alpha-beta T cell', 'CD4-positive T cell').copy()\n",
    "newc=newc.replace('CD4-positive, alpha-beta cytotoxic T cell', 'CD4-positive, cytotoxic T cell').copy()\n",
    "newc=newc.replace('CD8-positive, alpha-beta cytotoxic T cell', 'exhausted-like CD8-positive T cell').copy()\n",
    "newc=newc.replace('central memory CD4-positive, alpha-beta T cell', 'central memory CD4-positive T cell').copy()\n",
    "newc=newc.replace('effector memory CD4-positive, alpha-beta T cell', 'effector memory CD4-positive T cell').copy()\n",
    "newc=newc.replace('effector memory CD8-positive, alpha-beta T cell', 'effector memory CD8-positive T cell').copy()\n",
    "newc=newc.replace('CD8-positive, alpha-beta cytokine secreting effector T cell', 'cytokine secreting effector CD8-positive T cell').copy()\n",
    "newc=newc.replace('lymphocyte of B lineage', 'B cell').copy()\n",
    "newc=newc.replace('naive thymus-derived CD4-positive, alpha-beta T cell', 'naive CD4-positive T cell').copy()\n",
    "newc=newc.replace('naive thymus-derived CD8-positive, alpha-beta T cell', 'naive CD8-positive T cell').copy()\n",
    "newc=newc.replace('proliferating CD8-positive, alpha-beta T cell', 'proliferating CD8-positive T cell').copy()\n",
    "newc=newc.replace('proliferating CD4-positive, alpha-beta T cell', 'proliferating CD4-positive T cell').copy()\n",
    "newc=newc.replace('IL7R-max CD4-positive, alpha-beta cytotoxic T cell', 'IL7R-max CD4-positive T cell').copy()\n",
    "newc=newc.replace('exhausted-like CD8-positive, alpha-beta T cell', 'exhausted-like CD8-positive T cell').copy()\n",
    "newc=newc.replace('exhausted-like CD4-positive, alpha-beta T cell', 'exhausted-like CD4-positive T cell').copy()\n",
    "\n",
    "adata.obs['celltype3_pub']=list(newc)"
   ]
  },
  {
   "cell_type": "code",
   "execution_count": null,
   "metadata": {},
   "outputs": [],
   "source": [
    "newc=adata.obs['celltype4_merged'].copy()\n",
    "newc=newc.replace('CD4-positive, alpha-beta T cell', 'CD4-positive T cell').copy()\n",
    "newc=newc.replace('CD4-positive, alpha-beta cytotoxic T cell', 'CD4-positive, cytotoxic T cell').copy()\n",
    "newc=newc.replace('CD8-positive, alpha-beta cytotoxic T cell', 'exhausted-like CD8-positive T cell').copy()\n",
    "newc=newc.replace('central memory CD4-positive, alpha-beta T cell', 'central memory CD4-positive T cell').copy()\n",
    "newc=newc.replace('effector memory CD4-positive, alpha-beta T cell', 'effector memory CD4-positive T cell').copy()\n",
    "newc=newc.replace('effector memory CD8-positive, alpha-beta T cell', 'effector memory CD8-positive T cell').copy()\n",
    "newc=newc.replace('CD8-positive, alpha-beta cytokine secreting effector T cell', 'cytokine secreting effector CD8-positive T cell').copy()\n",
    "newc=newc.replace('lymphocyte of B lineage', 'B cell').copy()\n",
    "newc=newc.replace('naive thymus-derived CD4-positive, alpha-beta T cell', 'naive CD4-positive T cell').copy()\n",
    "newc=newc.replace('naive thymus-derived CD8-positive, alpha-beta T cell', 'naive CD8-positive T cell').copy()\n",
    "newc=newc.replace('proliferating CD8-positive, alpha-beta T cell', 'proliferating CD8-positive T cell').copy()\n",
    "newc=newc.replace('proliferating CD4-positive, alpha-beta T cell', 'proliferating CD4-positive T cell').copy()\n",
    "newc=newc.replace('IL7R-max CD4-positive, alpha-beta cytotoxic T cell', 'IL7R-max CD4-positive T cell').copy()\n",
    "newc=newc.replace('exhausted-like CD8-positive, alpha-beta T cell', 'exhausted-like CD8-positive T cell').copy()\n",
    "newc=newc.replace('exhausted-like CD4-positive, alpha-beta T cell', 'exhausted-like CD4-positive T cell').copy()\n",
    "\n",
    "adata.obs['celltype4_pub']=list(newc)"
   ]
  },
  {
   "cell_type": "code",
   "execution_count": null,
   "metadata": {},
   "outputs": [],
   "source": [
    "#adata.write(os.path.join(results_folder, analysis_name + '.annotated.h5ad'))"
   ]
  },
  {
   "cell_type": "code",
   "execution_count": null,
   "metadata": {},
   "outputs": [],
   "source": [
    "#adata=sc.read(results_folder, analysis_name + '.annotated.h5ad')\n",
    "adata = sc.read_h5ad(os.path.join(results_folder, analysis_name + '.annotated.h5ad') )"
   ]
  },
  {
   "cell_type": "code",
   "execution_count": null,
   "metadata": {},
   "outputs": [],
   "source": [
    "sc.pl.umap(adata[adata.obs['PatientID'].isin([79])],color=['celltype2_merged','experiment'])"
   ]
  },
  {
   "cell_type": "markdown",
   "metadata": {},
   "source": [
    "#### Perform some checks on the patients with multiple samples"
   ]
  },
  {
   "cell_type": "code",
   "execution_count": null,
   "metadata": {},
   "outputs": [],
   "source": [
    "adata[adata.obs['experiment'].isin(['M79_TIL'])].obs['percent_mito'].mean() #n_genes"
   ]
  },
  {
   "cell_type": "code",
   "execution_count": null,
   "metadata": {},
   "outputs": [],
   "source": [
    "adata[adata.obs['experiment'].isin(['M79_TIL'])].obs['n_genes'].mean() #n_genes"
   ]
  },
  {
   "cell_type": "code",
   "execution_count": null,
   "metadata": {},
   "outputs": [],
   "source": [
    "adata[adata.obs['experiment'].isin(['M79_TIL_2'])].obs['percent_mito'].mean() #n_genes"
   ]
  },
  {
   "cell_type": "code",
   "execution_count": null,
   "metadata": {},
   "outputs": [],
   "source": [
    "adata[adata.obs['experiment'].isin(['M79_TIL_2'])].obs['n_genes'].mean() #n_genes"
   ]
  },
  {
   "cell_type": "code",
   "execution_count": null,
   "metadata": {},
   "outputs": [],
   "source": [
    "adata[adata.obs['experiment'].isin(['M79_TIL'])].obs['celltype3_pub'].value_counts().sum()\n"
   ]
  },
  {
   "cell_type": "code",
   "execution_count": null,
   "metadata": {},
   "outputs": [],
   "source": [
    "adata[adata.obs['experiment'].isin(['M79_TIL_2'])].obs['celltype3_pub'].value_counts().sum()"
   ]
  },
  {
   "cell_type": "code",
   "execution_count": null,
   "metadata": {},
   "outputs": [],
   "source": [
    "sc.pl.umap(adata[adata.obs['PatientID'].isin([64])],color=['celltype2_merged','readout_id'])"
   ]
  },
  {
   "cell_type": "code",
   "execution_count": null,
   "metadata": {},
   "outputs": [],
   "source": [
    "adata[adata.obs['experiment'].isin(['M64_TIL'])].obs['percent_mito'].mean() #n_genes"
   ]
  },
  {
   "cell_type": "code",
   "execution_count": null,
   "metadata": {},
   "outputs": [],
   "source": [
    "adata[adata.obs['experiment'].isin(['M64_TIL'])].obs['n_genes'].mean() #n_genes"
   ]
  },
  {
   "cell_type": "code",
   "execution_count": null,
   "metadata": {},
   "outputs": [],
   "source": [
    "adata[adata.obs['experiment'].isin(['M64_TIL_2'])].obs['percent_mito'].mean() #n_genes"
   ]
  },
  {
   "cell_type": "code",
   "execution_count": null,
   "metadata": {},
   "outputs": [],
   "source": [
    "adata[adata.obs['experiment'].isin(['M64_TIL_2'])].obs['n_genes'].mean() #n_genes"
   ]
  },
  {
   "cell_type": "code",
   "execution_count": null,
   "metadata": {},
   "outputs": [],
   "source": [
    "sc.pl.umap(adata[adata.obs['PatientID'].isin([67])][adata[adata.obs['PatientID'].isin([67])].obs.sample(frac=1).index],color=['celltype2_merged','experiment'])\n"
   ]
  },
  {
   "cell_type": "code",
   "execution_count": null,
   "metadata": {},
   "outputs": [],
   "source": [
    "sc.pl.umap(adata[(adata.obs['Sample type'].isin(['PBMC']))&(adata.obs['PBMCs2'].isin(['Before']))], color='PatientID', save='-PBMC-Beforevsafter-Before.svg')"
   ]
  },
  {
   "cell_type": "code",
   "execution_count": null,
   "metadata": {},
   "outputs": [],
   "source": [
    "sc.pl.umap(adata[(adata.obs['Sample type'].isin(['PBMC']))&(adata.obs['PBMCs2'].isin(['After']))], color='PatientID', save='-PBMC-Beforevsafter-After.svg')"
   ]
  },
  {
   "cell_type": "markdown",
   "metadata": {},
   "source": [
    "#### Check cell type proportions PBMC before or after CIT"
   ]
  },
  {
   "cell_type": "code",
   "execution_count": null,
   "metadata": {},
   "outputs": [],
   "source": [
    "PBMConly=adata[(adata.obs['Sample type'].isin(['PBMC']))].copy()"
   ]
  },
  {
   "cell_type": "code",
   "execution_count": null,
   "metadata": {},
   "outputs": [],
   "source": [
    "df1=bc.tl.count_occurrence_subset_conditions(PBMConly, subset_variable = 'experiment', count_variable = 'celltype2_pub', condition_identifier = 'PBMCs2',  return_percentage = True)\n",
    "#df1.to_csv(propdir+'AllCD8_PBMCvsTIL_celltypeFreq_'+what+'.tsv')\n"
   ]
  },
  {
   "cell_type": "code",
   "execution_count": null,
   "metadata": {},
   "outputs": [],
   "source": [
    "what='celltype2_pub'\n",
    "\n",
    "rs=[x.split(' ')[2] for x in list(df1.columns)]\n",
    "patid=[x.split(' ')[1] for x in list(df1.columns)]\n",
    "\n",
    "toplot=df1.transpose()\n",
    "toplot['Sampling']=rs"
   ]
  },
  {
   "cell_type": "code",
   "execution_count": null,
   "metadata": {},
   "outputs": [],
   "source": [
    "fig, axes = plt.subplots(3, 5,figsize=(14,9), gridspec_kw={'wspace': 0.5, 'left': 0.25})\n",
    "plt.subplots_adjust(left=0.2, right=0.98, top=0.86, bottom=0.1)\n",
    "\n",
    "axes = axes.flatten()\n",
    "\n",
    "i=0\n",
    "for mycell in list(df1.index):\n",
    "    ax=sns.boxplot(y=mycell,x='Sampling',data=toplot,ax=axes[i],\n",
    "                   orient='v',order=['Before','After'])\n",
    "    ax=sns.swarmplot(y=mycell,x='Sampling',data=toplot,color='black',ax=axes[i],\n",
    "                    order=['Before','After'])\n",
    "    ax.set_xticklabels(ax.get_xticklabels(), rotation=90,fontsize=10)\n",
    "    ax.tick_params(axis='y', labelsize=10)\n",
    "    ax.set_ylabel(ylabel='Perc '+mycell,fontsize=10)\n",
    "    ax.set_xlabel(xlabel='Sampling ',fontsize=10)\n",
    "    i=i+1"
   ]
  },
  {
   "cell_type": "code",
   "execution_count": null,
   "metadata": {},
   "outputs": [],
   "source": [
    "fig.savefig(figdir+'Celltypefreq-PBMC-samplingplot.svg', format='svg', bbox_inches=\"tight\")"
   ]
  },
  {
   "cell_type": "code",
   "execution_count": null,
   "metadata": {},
   "outputs": [],
   "source": [
    "adata[adata.obs['experiment'].isin(['Count_M180122_digest_CD45pos'])].obs['celltype3_pub'].value_counts().sum()\n"
   ]
  },
  {
   "cell_type": "code",
   "execution_count": null,
   "metadata": {},
   "outputs": [],
   "source": [
    "adata[adata.obs['experiment'].isin(['Count_M180122_digest_CD45pos'])].obs['n_genes'].mean() #n_genes"
   ]
  },
  {
   "cell_type": "code",
   "execution_count": null,
   "metadata": {},
   "outputs": [],
   "source": [
    "adata[adata.obs['experiment'].isin(['Count_M180122_digest_CD45pos'])].obs['percent_mito'].mean() #n_genes"
   ]
  },
  {
   "cell_type": "code",
   "execution_count": null,
   "metadata": {},
   "outputs": [],
   "source": [
    "adata[adata.obs['experiment'].isin(['Count_M180327_digest_CD45pos'])].obs['celltype3_pub'].value_counts().sum()"
   ]
  },
  {
   "cell_type": "code",
   "execution_count": null,
   "metadata": {},
   "outputs": [],
   "source": [
    "adata[adata.obs['experiment'].isin(['Count_M180327_digest_CD45pos'])].obs['percent_mito'].mean() #n_genes"
   ]
  },
  {
   "cell_type": "code",
   "execution_count": null,
   "metadata": {},
   "outputs": [],
   "source": [
    "adata[adata.obs['experiment'].isin(['Count_M180327_digest_CD45pos'])].obs['n_genes'].mean() #n_genes"
   ]
  },
  {
   "cell_type": "code",
   "execution_count": null,
   "metadata": {},
   "outputs": [],
   "source": [
    "#adata[adata.obs['PatientID']==77].obs.iloc[0:2,:].loc[:,['Response','Respond','Response3','RCat','Adjuvant','Lesion']]"
   ]
  },
  {
   "cell_type": "markdown",
   "metadata": {},
   "source": [
    "### Overall cell nrs. for manuscript"
   ]
  },
  {
   "cell_type": "code",
   "execution_count": null,
   "metadata": {},
   "outputs": [],
   "source": [
    "len(adata[adata.obs['Sample type']=='TIL'])"
   ]
  },
  {
   "cell_type": "code",
   "execution_count": null,
   "metadata": {},
   "outputs": [],
   "source": [
    "len(adata[adata.obs['Sample type']=='PBMC'])"
   ]
  },
  {
   "cell_type": "code",
   "execution_count": null,
   "metadata": {},
   "outputs": [],
   "source": [
    "np.median(adata.obs['n_genes'])"
   ]
  },
  {
   "cell_type": "markdown",
   "metadata": {},
   "source": [
    "### Read TMB data, plot and analyse"
   ]
  },
  {
   "cell_type": "code",
   "execution_count": null,
   "metadata": {},
   "outputs": [],
   "source": [
    "adata.obs['SampleID']=list(adata.obs['SampleID'].replace('M180613 ', 'M180613'))\n",
    "adata.obs['SampleID']=list(adata.obs['SampleID'].replace('M180807 ', 'M180807'))\n",
    "adata.obs['SampleID']=list(adata.obs['SampleID'].replace('M181201 ', 'M181201'))"
   ]
  },
  {
   "cell_type": "code",
   "execution_count": null,
   "metadata": {},
   "outputs": [],
   "source": [
    "### Patients 38 and 12 should be removed from R vs. NR analysis\n",
    "#ddata=ddata[ddata.obs['PatientID']!='P38'].copy() #M170418\n",
    "#ddata=ddata[ddata.obs['PatientID']!='P12'].copy() #M161109"
   ]
  },
  {
   "cell_type": "code",
   "execution_count": null,
   "metadata": {},
   "outputs": [],
   "source": [
    "tmb=pd.read_csv('/Fullanalysis//TMB.csv')"
   ]
  },
  {
   "cell_type": "code",
   "execution_count": null,
   "metadata": {},
   "outputs": [],
   "source": [
    "tmb"
   ]
  },
  {
   "cell_type": "code",
   "execution_count": null,
   "metadata": {},
   "outputs": [],
   "source": [
    "### Patients 38 and 12 are rmoved from R vs. NR analysis\n",
    "tmb=tmb.loc[~tmb['SampleID'].isin(['M38_TIL','M12_TIL','M64_TIL','M79_TIL']),:]"
   ]
  },
  {
   "cell_type": "code",
   "execution_count": null,
   "metadata": {},
   "outputs": [],
   "source": [
    "#set(adata.obs['Mutation'])"
   ]
  },
  {
   "cell_type": "code",
   "execution_count": null,
   "metadata": {},
   "outputs": [],
   "source": [
    "#set(adata.obs['Mutation2'])"
   ]
  },
  {
   "cell_type": "code",
   "execution_count": null,
   "metadata": {},
   "outputs": [],
   "source": [
    "rlist=[]\n",
    "patid=[]\n",
    "ihc=[]\n",
    "gender=[]\n",
    "lesion=[]\n",
    "mutation=[]\n",
    "for myid in list(tmb['SampleID']):\n",
    "    mysub=adata[adata.obs['SampleID']==myid].copy()\n",
    "    rlist.append(list(mysub.obs['RCat'])[0])\n",
    "    patid.append(list(mysub.obs['PatientID'])[0])\n",
    "    ihc.append(list(mysub.obs['CD3IHC_RICZ'])[0])\n",
    "    gender.append(list(mysub.obs['Gender'])[0])\n",
    "    lesion.append(list(mysub.obs['Lesion'])[0])\n",
    "    mutation.append(list(mysub.obs['Mutation'])[0])"
   ]
  },
  {
   "cell_type": "code",
   "execution_count": null,
   "metadata": {},
   "outputs": [],
   "source": [
    "tmb['RCat']=rlist\n",
    "tmb['PatientID']=patid\n",
    "tmb['CD3IHC_RICZ']=ihc\n",
    "tmb['Gender']=gender\n",
    "tmb['Lesion']=lesion\n",
    "tmb['Mutation']=mutation"
   ]
  },
  {
   "cell_type": "code",
   "execution_count": null,
   "metadata": {},
   "outputs": [],
   "source": [
    "tmb['group']='PatientID'"
   ]
  },
  {
   "cell_type": "code",
   "execution_count": null,
   "metadata": {},
   "outputs": [],
   "source": [
    "tmb"
   ]
  },
  {
   "cell_type": "code",
   "execution_count": null,
   "metadata": {},
   "outputs": [],
   "source": [
    "tmb.groupby('RCat')['CD3IHC_RICZ'].value_counts()\n"
   ]
  },
  {
   "cell_type": "code",
   "execution_count": null,
   "metadata": {},
   "outputs": [],
   "source": [
    "tmb.loc[tmb['SampleID']!='M64_TIL',:].groupby('RCat')['TMB (Mts/Mb)'].median()"
   ]
  },
  {
   "cell_type": "code",
   "execution_count": null,
   "metadata": {},
   "outputs": [],
   "source": [
    "#R; TF; NR_nadj; NR_adj"
   ]
  },
  {
   "cell_type": "code",
   "execution_count": null,
   "metadata": {},
   "outputs": [],
   "source": [
    "color_dict = {'R': 'coral', 'TF': 'firebrick', 'NR_nadj': 'lightskyblue','NR_adj': 'royalblue'}"
   ]
  },
  {
   "cell_type": "code",
   "execution_count": null,
   "metadata": {},
   "outputs": [],
   "source": [
    "from scipy import stats\n",
    "import itertools\n",
    "\n",
    "totest=list(itertools.combinations(['R','TF','NR_nadj','NR_adj'], 2))\n",
    "pwilc={}\n",
    "pt={}\n",
    "for pairs in totest:\n",
    "    pwilc[pairs[0]+'-'+pairs[1]]=stats.mannwhitneyu(list(tmb.loc[tmb['RCat']==pairs[0],:]['TMB (Mts/Mb)']), \n",
    "                           list(tmb.loc[tmb['RCat']==pairs[1],:]['TMB (Mts/Mb)']))[1]\n",
    "    pt[pairs[0]+'-'+pairs[1]]=stats.ttest_ind(list(tmb.loc[tmb['RCat']==pairs[0],:]['TMB (Mts/Mb)']), \n",
    "                           list(tmb.loc[tmb['RCat']==pairs[1],:]['TMB (Mts/Mb)']))[1]"
   ]
  },
  {
   "cell_type": "code",
   "execution_count": null,
   "metadata": {},
   "outputs": [],
   "source": [
    "myps=pd.DataFrame([pwilc,pt]).transpose()\n",
    "myps.columns=['MannWhitney','T-test']"
   ]
  },
  {
   "cell_type": "code",
   "execution_count": null,
   "metadata": {},
   "outputs": [],
   "source": [
    "myps.to_csv(figdir+'Pvals-TMB.tsv',sep='\\t')"
   ]
  },
  {
   "cell_type": "code",
   "execution_count": null,
   "metadata": {},
   "outputs": [],
   "source": [
    "myps"
   ]
  },
  {
   "cell_type": "code",
   "execution_count": null,
   "metadata": {},
   "outputs": [],
   "source": [
    "fig=sns.boxplot(x='RCat',y='TMB (Mts/Mb)',data=tmb.loc[tmb['SampleID']!='M64_TIL',:],\n",
    "            palette=color_dict)\n",
    "fig=sns.swarmplot(x='RCat',y='TMB (Mts/Mb)',data=tmb.loc[tmb['SampleID']!='M64_TIL',:],\n",
    "              color='black')\n",
    "#fig.figure.savefig(figdir+'/TMB-per-response.pdf', bbox_inches=\"tight\", dpi=300) \n",
    "#fig.figure.savefig(figdir+'/TMB-per-response.eps', format='eps', bbox_inches=\"tight\", dpi=300)\n",
    "#fig.figure.savefig(figdir+'/TMB-per-response.svg', format='svg', bbox_inches=\"tight\", dpi=300)"
   ]
  },
  {
   "cell_type": "code",
   "execution_count": null,
   "metadata": {},
   "outputs": [],
   "source": [
    "tmb"
   ]
  },
  {
   "cell_type": "code",
   "execution_count": null,
   "metadata": {},
   "outputs": [],
   "source": [
    "tmb.index=tmb['PatientID']"
   ]
  },
  {
   "cell_type": "code",
   "execution_count": null,
   "metadata": {},
   "outputs": [],
   "source": [
    "tmb"
   ]
  },
  {
   "cell_type": "code",
   "execution_count": null,
   "metadata": {},
   "outputs": [],
   "source": [
    "#porderk=[63,72,40,86,33,91,29,87,13,34,67,68,69,79,82,11,43,64,77]\n",
    "#adata[adata.obs['PatientID']==83].obs['Lesion']\n",
    "#tmb.loc[porderk,:]['Lesion']"
   ]
  },
  {
   "cell_type": "code",
   "execution_count": null,
   "metadata": {},
   "outputs": [],
   "source": [
    "#lorder=['Brain','Brain','Sinon','Brain','LN','Subc','LN','Subc','LN','LN','LN','LN',\n",
    "#'LN','LN','LN','Subc','Brain','Subc','LN','Lung']\n",
    "lcolor=['brown','brown','gray','brown','yellow','orange','yellow','orange','yellow','yellow','yellow','yellow',\n",
    "'yellow','yellow','yellow','orange','brown','orange','yellow','green']"
   ]
  },
  {
   "cell_type": "code",
   "execution_count": null,
   "metadata": {},
   "outputs": [],
   "source": [
    "porder=[63,72,40,86,33,91,29,87,13,34,67,68,69,83,79,82,11,43,64,77]\n",
    "pcolor=['coral','coral','coral','lightskyblue','lightskyblue','lightskyblue','lightskyblue','lightskyblue',\n",
    "                  'firebrick','firebrick','firebrick','firebrick','firebrick','firebrick','firebrick','firebrick','firebrick',\n",
    "                  'royalblue','royalblue','royalblue']\n",
    "from matplotlib import rcParams\n",
    "rcParams['figure.figsize'] = 8,4\n"
   ]
  },
  {
   "cell_type": "code",
   "execution_count": null,
   "metadata": {},
   "outputs": [],
   "source": [
    "sns.barplot(x='PatientID',y='TMB (Mts/Mb)',\n",
    "            data=tmb.loc[:,['PatientID','TMB (Mts/Mb)']], order=porder, palette=pcolor)"
   ]
  },
  {
   "cell_type": "code",
   "execution_count": null,
   "metadata": {},
   "outputs": [],
   "source": [
    "sns.barplot(x='PatientID',y='TMB (Mts/Mb)',\n",
    "            data=tmb.loc[:,['PatientID','TMB (Mts/Mb)']], order=porder, palette=lcolor)"
   ]
  },
  {
   "cell_type": "code",
   "execution_count": null,
   "metadata": {},
   "outputs": [],
   "source": [
    "sc.settings.set_figure_params()"
   ]
  },
  {
   "cell_type": "code",
   "execution_count": null,
   "metadata": {},
   "outputs": [],
   "source": [
    "adata=adata[adata.obs['celltype0']!='melanocytic melanoma cell'].copy()"
   ]
  },
  {
   "cell_type": "markdown",
   "metadata": {},
   "source": [
    "### Score additional signatures "
   ]
  },
  {
   "cell_type": "code",
   "execution_count": null,
   "metadata": {},
   "outputs": [],
   "source": [
    "sade={}\n",
    "sade['good']=['PLAC8', 'LTB', 'LY9', 'SELL', 'TCF7',  'CCR7','IL7R']\n",
    "sade['bad']=['CCL3', 'CD38', 'HAVCR2', 'ENTPD1', 'WARS']\n",
    "\n",
    "sc.tl.score_genes(adata,sade['good'],score_name=\"SADE_G\",use_raw=True)\n",
    "sc.tl.score_genes(adata,sade['bad'],score_name=\"SADE_B\",use_raw=True)"
   ]
  },
  {
   "cell_type": "code",
   "execution_count": null,
   "metadata": {},
   "outputs": [],
   "source": [
    "tirosh={}\n",
    "tirosh['Tnai']=['CCR7', 'TCF7', 'SELL', 'LEF1']\n",
    "tirosh['Texh']=['PDCD1', 'TIGIT', 'LAG3', 'HAVCR2', 'CTLA4']\n",
    "tirosh['Tcyt']=['NKG7', 'CCL4', 'CST7', 'PRF1', 'GZMB', 'GZMA', 'IFNG', 'CCL3']\n",
    "\n",
    "\n",
    "sc.tl.score_genes(adata,tirosh['Tnai'],score_name=\"TIR_NAI\",use_raw=True)\n",
    "sc.tl.score_genes(adata,tirosh['Texh'],score_name=\"TIR_EXH\",use_raw=True)\n",
    "sc.tl.score_genes(adata,tirosh['Tcyt'],score_name=\"TIR_CYT\",use_raw=True)\n"
   ]
  },
  {
   "cell_type": "code",
   "execution_count": null,
   "metadata": {},
   "outputs": [],
   "source": [
    "chu={}\n",
    "chu['TStr']=['HSPA1A', 'NR4A1', 'BAG3', 'HSPA1B']\n",
    "sc.tl.score_genes(adata,chu['TStr'],score_name=\"CHU_TSTR\",use_raw=True)"
   ]
  },
  {
   "cell_type": "code",
   "execution_count": null,
   "metadata": {},
   "outputs": [],
   "source": [
    "li={}\n",
    "li['NaiTcell']=['CCR7','IL7R','TCF7']\n",
    "li['MemTcell']=[ 'SELL', 'C1orf21', 'KLRB1', 'ARL4C']\n",
    "li['CD8Cyt']=['GZMH', 'GNLY', 'FGFBP2', 'CX3CR1','KLF2','TBX21', 'PLAC8', 'FGR','SPON2', 'MYBL1','ZNF683','KLRG1']\n",
    "li['CD8Dys']=['PDCD1','LAG3','TIGIT', 'CXCL13','RBPJ', 'ZBED2', 'ETV1', 'ID3', 'MAF', 'PRDM1','EOMES', 'IFNG', \n",
    "              'HAVCR2','PTMS','FAM3C','ICOS','TNFRSF4', 'CCL4L2', 'PRDM1','SPOCK2', 'CCL3', 'TOX', 'ENTPD1','ITGAE']\n",
    "li['CD8Trans']=['GZMK']\n",
    "li['CD4Treg']=['FOXP3','IKZF2','IL2RA'] #ENTPD1, ITGAE, KLRG1\n",
    "li['TExh']=['TNFRSF9', 'CSF1', 'TIGIT']\n",
    "\n",
    "sc.tl.score_genes(adata,li['NaiTcell'],score_name=\"LI_NAI\",use_raw=True)\n",
    "sc.tl.score_genes(adata,li['MemTcell'],score_name=\"LI_MEM\",use_raw=True)\n",
    "sc.tl.score_genes(adata,li['CD8Cyt'],score_name=\"LI_CYT\",use_raw=True)\n",
    "sc.tl.score_genes(adata,li['CD8Dys'],score_name=\"LI_DYS\",use_raw=True)\n",
    "sc.tl.score_genes(adata,li['CD8Trans'],score_name=\"LI_TRANS\",use_raw=True)\n",
    "sc.tl.score_genes(adata,li['TExh'],score_name=\"LI_EXH\",use_raw=True)\n"
   ]
  },
  {
   "cell_type": "code",
   "execution_count": null,
   "metadata": {},
   "outputs": [],
   "source": [
    "wu={}\n",
    "wu['CD4Tcell']=['IL6ST','CRIP1']\n",
    "wu['Teff']=['CX3CR1','GNLY', 'NKG7',  'GZMH', 'KLRD1', 'GZMB', 'PRF1', \n",
    "       'IFITM2', 'LITAF','ITGB2','GZMA','GPR56','KLRC2','GZMM','RAP1B'] ## KLRC2 is higher in Rs\n",
    "wu['TEM']=['GZMK','CCL4',   'DUSP2', 'CD74','DNAJB1','FOS','CCL3','IFNG'] ## DNAJ1, DUSP2, GZMK is higher in NRs\n",
    "wu['TRM']=['CCL4', 'XCL1',   'XCL2',   'ZNF683']\n",
    "wu['IL17']=['NCR3','KLRB1','LYAR','IL7R']\n",
    "\n",
    "sc.tl.score_genes(adata,wu['CD4Tcell'],score_name=\"WU_CD4\",use_raw=True)\n",
    "sc.tl.score_genes(adata,wu['Teff'],score_name=\"WU_TEFF\",use_raw=True)\n",
    "sc.tl.score_genes(adata,wu['TEM'],score_name=\"WU_TEM\",use_raw=True)\n",
    "sc.tl.score_genes(adata,wu['TRM'],score_name=\"WU_TRM\",use_raw=True)\n",
    "sc.tl.score_genes(adata,wu['IL17'],score_name=\"WU_IL17\",use_raw=True)"
   ]
  },
  {
   "cell_type": "code",
   "execution_count": null,
   "metadata": {},
   "outputs": [],
   "source": [
    "maier={}\n",
    "maier['aDC']=['CD80', 'CD86', 'CD40', 'RELB','CD83','CD274', 'PDCD1LG2','CD200','FAS','SOCS1','SOCS2','ALDH1A2']\n",
    "maier['cDC1']=['XCR1','CLEC9A','CADM1']\n",
    "maier['cDC2']=['ITGAM','CD209A','SIRPA'] #Itgam, Cd209a and Sirpa \n",
    "\n",
    "sc.tl.score_genes(adata,maier['aDC'],score_name=\"MA-MREGDC\",use_raw=True)\n",
    "sc.tl.score_genes(adata,maier['cDC1'],score_name=\"MA-cDC1\",use_raw=True)\n",
    "sc.tl.score_genes(adata,maier['cDC2'],score_name=\"MA-cDC2\",use_raw=True)"
   ]
  },
  {
   "cell_type": "code",
   "execution_count": null,
   "metadata": {},
   "outputs": [],
   "source": [
    "res=['S1PR5','KLRG1','SLAMF6','CXCR3','S1PR1','ITGB7','CD8A','IL7R','TCF7','PDCD1']\n",
    "sc.tl.score_genes(adata,res,score_name=\"ResCD8Tcell\",use_raw=True)\n"
   ]
  },
  {
   "cell_type": "code",
   "execution_count": null,
   "metadata": {},
   "outputs": [],
   "source": [
    "inhrec=['CD160','LAG3','CD224A','BTLA','PDCD1','HAVCR2','TIGIT','CD1010'] ## Lowe antiIl2 and anti comb compared to untreated and antiPD1\n",
    "eff=['GZMA','GZMB','LAMP1'] \n",
    "migration=['CCR2','CXCR3','CXCR4','CX3CR1','S1PR1','ITGA1','ITGA4','ITGAE','ITGB1','ITGB7','CD44','LY6C2','CXCR5']\n",
    "tf=['KLF2','LEF1','BACH2','TBX21','TCF7','AHR','BATHF','BCL6','EGR1','EGR2',\n",
    "'EOMES','FOXO1','FOXO3','IKZF2','IRF4','MAF','NFATC1','NR4A1','NR4A2','NR4A3','PRDM1','TOX','TOX2']\n"
   ]
  },
  {
   "cell_type": "code",
   "execution_count": null,
   "metadata": {},
   "outputs": [],
   "source": [
    "sc.tl.score_genes(adata,inhrec,score_name=\"INHREC\",use_raw=True)\n",
    "sc.tl.score_genes(adata,eff,score_name=\"EFF\",use_raw=True)\n",
    "sc.tl.score_genes(adata,migration,score_name=\"MIGRATION\",use_raw=True)\n",
    "sc.tl.score_genes(adata,tf,score_name=\"TF\",use_raw=True)"
   ]
  },
  {
   "cell_type": "code",
   "execution_count": null,
   "metadata": {},
   "outputs": [],
   "source": [
    "apoptosis= root_path+'/ALL_geneset_apoptosis.gmt'\n",
    "bc.tl.sig.combined_signature_score(adata, apoptosis,\n",
    "                             UP_suffix='_UP', DN_suffix='_DN', method='scanpy',\n",
    "                             overwrite=False, verbose=False,\n",
    "                             use_raw=True, conversion=None)\n",
    "#score_HALLMARK_APOPTOSIS_scanpy\n",
    "#score_APOPTOTIC_PROGRAM_scanpy\n",
    "#score_IND_OF_APOP_BY_EXCEL_SIGNALS_scanpy"
   ]
  },
  {
   "cell_type": "code",
   "execution_count": null,
   "metadata": {},
   "outputs": [],
   "source": [
    "sc.pl.umap(adata, color=['INHREC','MIGRATION','TF'])"
   ]
  },
  {
   "cell_type": "code",
   "execution_count": null,
   "metadata": {},
   "outputs": [],
   "source": [
    "sc.pl.umap(adata, color=['CHU_TSTR'])"
   ]
  },
  {
   "cell_type": "markdown",
   "metadata": {},
   "source": [
    "### Further read annotations from separate analyses "
   ]
  },
  {
   "cell_type": "code",
   "execution_count": null,
   "metadata": {},
   "outputs": [],
   "source": [
    "velodir=results_folder+'/velocity/'"
   ]
  },
  {
   "cell_type": "code",
   "execution_count": null,
   "metadata": {},
   "outputs": [],
   "source": [
    "velodir=results_folder+'/velocity/'\n",
    "cd8tcdata=sc.read(velodir+'Velo-CD8Tcell-All-PBMCandTIL-dyn_after_terminal_initial_exclude.h5ad')\n",
    "cd8tcdata_full=sc.read(velodir+'Velo-CD8Tcell-All-PBMCandTIL-dyn_after_terminal_initial.h5ad')"
   ]
  },
  {
   "cell_type": "code",
   "execution_count": null,
   "metadata": {},
   "outputs": [],
   "source": [
    "sc.tl.score_genes(cd8tcdata_full,chu['TStr'],score_name=\"CHU_TSTR\",use_raw=True)\n",
    "\n",
    "sc.tl.score_genes(cd8tcdata_full,sade['good'],score_name=\"SADE_G\",use_raw=True)\n",
    "sc.tl.score_genes(cd8tcdata_full,sade['bad'],score_name=\"SADE_B\",use_raw=True)\n",
    "\n",
    "sc.tl.score_genes(cd8tcdata_full,tirosh['Tnai'],score_name=\"TIR_NAI\",use_raw=True)\n",
    "sc.tl.score_genes(cd8tcdata_full,tirosh['Texh'],score_name=\"TIR_EXH\",use_raw=True)\n",
    "sc.tl.score_genes(cd8tcdata_full,tirosh['Tcyt'],score_name=\"TIR_CYT\",use_raw=True)\n",
    "\n",
    "\n",
    "sc.tl.score_genes(cd8tcdata_full,li['NaiTcell'],score_name=\"LI_NAI\",use_raw=True)\n",
    "sc.tl.score_genes(cd8tcdata_full,li['MemTcell'],score_name=\"LI_MEM\",use_raw=True)\n",
    "sc.tl.score_genes(cd8tcdata_full,li['CD8Cyt'],score_name=\"LI_CYT\",use_raw=True)\n",
    "sc.tl.score_genes(cd8tcdata_full,li['CD8Dys'],score_name=\"LI_DYS\",use_raw=True)\n",
    "sc.tl.score_genes(cd8tcdata_full,li['CD8Trans'],score_name=\"LI_TRANS\",use_raw=True)\n",
    "sc.tl.score_genes(cd8tcdata_full,li['TExh'],score_name=\"LI_EXH\",use_raw=True)\n",
    "\n",
    "\n",
    "sc.tl.score_genes(cd8tcdata_full,wu['CD4Tcell'],score_name=\"WU_CD4\",use_raw=True)\n",
    "sc.tl.score_genes(cd8tcdata_full,wu['Teff'],score_name=\"WU_TEFF\",use_raw=True)\n",
    "sc.tl.score_genes(cd8tcdata_full,wu['TEM'],score_name=\"WU_TEM\",use_raw=True)\n",
    "sc.tl.score_genes(cd8tcdata_full,wu['TRM'],score_name=\"WU_TRM\",use_raw=True)\n",
    "sc.tl.score_genes(cd8tcdata_full,wu['IL17'],score_name=\"WU_IL17\",use_raw=True)\n",
    "\n",
    "sc.tl.score_genes(cd8tcdata_full,res,score_name=\"ResCD8Tcell\",use_raw=True)\n",
    "\n",
    "sc.tl.score_genes(cd8tcdata_full,inhrec,score_name=\"INHREC\",use_raw=True)\n",
    "sc.tl.score_genes(cd8tcdata_full,eff,score_name=\"EFF\",use_raw=True)\n",
    "sc.tl.score_genes(cd8tcdata_full,migration,score_name=\"MIGRATION\",use_raw=True)\n",
    "sc.tl.score_genes(cd8tcdata_full,tf,score_name=\"TF\",use_raw=True)\n",
    "\n",
    "bc.tl.sig.combined_signature_score(cd8tcdata_full, apoptosis,\n",
    "                             UP_suffix='_UP', DN_suffix='_DN', method='scanpy',\n",
    "                             overwrite=False, verbose=False,\n",
    "                             use_raw=True, conversion=None)\n",
    "#score_HALLMARK_APOPTOSIS_scanpy\n"
   ]
  },
  {
   "cell_type": "code",
   "execution_count": null,
   "metadata": {},
   "outputs": [],
   "source": [
    "velosubset='CD8Tcell'\n",
    "sc.set_figure_params(6)\n",
    "sc.pl.umap(cd8tcdata_full,color=['PatientID'],ncols=2,\n",
    "           save='-subsettrajectorymap-'+velosubset+'.PatientID.svg')\n",
    "\n",
    "sc.pl.umap(cd8tcdata_full,color=['RCat'],ncols=2,\n",
    "           save='-subsettrajectorymap-'+velosubset+'.RCat.svg')\n",
    "\n",
    "sc.pl.umap(cd8tcdata_full,color=['Sample type'],ncols=2,\n",
    "           save='-subsettrajectorymap-'+velosubset+'.SampleType.svg')\n",
    "\n",
    "sc.pl.umap(cd8tcdata_full,color=['Lesion'],ncols=2,\n",
    "           save='-subsettrajectorymap-'+velosubset+'.Lesion.svg')\n",
    "\n",
    "sc.pl.umap(cd8tcdata_full,color=['leiden'],ncols=2,\n",
    "           save='-subsettrajectorymap-'+velosubset+'.leiden.svg', legend_loc='on data')"
   ]
  },
  {
   "cell_type": "code",
   "execution_count": null,
   "metadata": {},
   "outputs": [],
   "source": [
    "sc.pl.umap(cd8tcdata_full,color=['celltype3_pub'],ncols=2,\n",
    "           save='-subsettrajectorymap-'+velosubset+'.celltype3_pub.svg')\n"
   ]
  },
  {
   "cell_type": "code",
   "execution_count": null,
   "metadata": {},
   "outputs": [],
   "source": [
    "apoptosissig = bc.tl.sig.read_GMT_sign(apoptosis,directed=False)"
   ]
  },
  {
   "cell_type": "code",
   "execution_count": null,
   "metadata": {},
   "outputs": [],
   "source": [
    "macrodata_full=sc.read(velodir+'Velo-MonoMacro-All-PBMCandTIL-dyn.h5ad')"
   ]
  },
  {
   "cell_type": "code",
   "execution_count": null,
   "metadata": {},
   "outputs": [],
   "source": [
    "velosubset='MonoMacro'"
   ]
  },
  {
   "cell_type": "code",
   "execution_count": null,
   "metadata": {},
   "outputs": [],
   "source": [
    "sc.set_figure_params(6)\n",
    "sc.pl.umap(macrodata_full,color=['celltype3_pub'],ncols=2,\n",
    "           save='-subsettrajectorymap-'+velosubset+'.celltype3_pub.svg')"
   ]
  },
  {
   "cell_type": "code",
   "execution_count": null,
   "metadata": {},
   "outputs": [],
   "source": [
    "sc.set_figure_params(6)\n",
    "sc.pl.umap(macrodata_full,color=['PatientID'],ncols=2,\n",
    "           save='-subsettrajectorymap-'+velosubset+'.PatientID.svg')"
   ]
  },
  {
   "cell_type": "code",
   "execution_count": null,
   "metadata": {},
   "outputs": [],
   "source": [
    "sc.pl.umap(macrodata_full,color=['RCat'],ncols=2,\n",
    "           save='-subsettrajectorymap-'+velosubset+'.RCat.svg')"
   ]
  },
  {
   "cell_type": "code",
   "execution_count": null,
   "metadata": {},
   "outputs": [],
   "source": [
    "sc.pl.umap(macrodata_full,color=['Sample type'],ncols=2,\n",
    "           save='-subsettrajectorymap-'+velosubset+'.SampleType.svg')"
   ]
  },
  {
   "cell_type": "code",
   "execution_count": null,
   "metadata": {},
   "outputs": [],
   "source": [
    "sc.pl.umap(macrodata_full,color=['Lesion'],ncols=2,\n",
    "           save='-subsettrajectorymap-'+velosubset+'.Lesion.svg')"
   ]
  },
  {
   "cell_type": "code",
   "execution_count": null,
   "metadata": {},
   "outputs": [],
   "source": [
    "sc.pl.umap(macrodata_full,color=['leiden'],ncols=2,\n",
    "           save='-subsettrajectorymap-'+velosubset+'.leiden.svg', legend_loc='on data')"
   ]
  },
  {
   "cell_type": "code",
   "execution_count": null,
   "metadata": {},
   "outputs": [],
   "source": [
    "dcdataold=sc.read(velodir+'Velo-DCs-All-PBMCandTIL-dyn.h5ad')"
   ]
  },
  {
   "cell_type": "code",
   "execution_count": null,
   "metadata": {},
   "outputs": [],
   "source": [
    "sc.pl.umap(dcdataold, color=['CLEC9A','CD40','CCR7','CLEC10A'], color_map='viridis')"
   ]
  },
  {
   "cell_type": "code",
   "execution_count": null,
   "metadata": {},
   "outputs": [],
   "source": [
    "dcdata=sc.read(velodir+'Velo-DCs-All-PBMCandTIL-dyn.h5ad')\n",
    "macrodata=sc.read(velodir+'Velo-MonoMacro-All-PBMCandTIL-dyn.subsampled.origmap.h5ad')\n",
    "\n",
    "bc.tl.sig.combined_signature_score(dcdata, apoptosis,\n",
    "                             UP_suffix='_UP', DN_suffix='_DN', method='scanpy',\n",
    "                             overwrite=False, verbose=False,\n",
    "                             use_raw=True, conversion=None)\n",
    "\n",
    "bc.tl.sig.combined_signature_score(macrodata, apoptosis,\n",
    "                             UP_suffix='_UP', DN_suffix='_DN', method='scanpy',\n",
    "                             overwrite=False, verbose=False,\n",
    "                             use_raw=True, conversion=None)\n"
   ]
  },
  {
   "cell_type": "code",
   "execution_count": null,
   "metadata": {},
   "outputs": [],
   "source": [
    "sc.tl.score_genes(macrodata,inhrec,score_name=\"INHREC\",use_raw=True)\n",
    "sc.tl.score_genes(macrodata,eff,score_name=\"EFF\",use_raw=True)\n",
    "sc.tl.score_genes(macrodata,migration,score_name=\"MIGRATION\",use_raw=True)\n",
    "sc.tl.score_genes(macrodata,tf,score_name=\"TF\",use_raw=True)"
   ]
  },
  {
   "cell_type": "code",
   "execution_count": null,
   "metadata": {},
   "outputs": [],
   "source": [
    "#list(cd8tcdata.obs.columns)"
   ]
  },
  {
   "cell_type": "code",
   "execution_count": null,
   "metadata": {},
   "outputs": [],
   "source": [
    "#cd8tcdata.obs['terminal_states_probs'].sort_values()"
   ]
  },
  {
   "cell_type": "code",
   "execution_count": null,
   "metadata": {},
   "outputs": [],
   "source": [
    "sc.pl.umap(cd8tcdata_full,color=['leiden','velocity_length','RCat'],legend_loc='on data')"
   ]
  },
  {
   "cell_type": "code",
   "execution_count": null,
   "metadata": {},
   "outputs": [],
   "source": [
    "sc.pl.umap(cd8tcdata,color=['leiden','velocity_length','RCat'],legend_loc='on data')"
   ]
  },
  {
   "cell_type": "code",
   "execution_count": null,
   "metadata": {},
   "outputs": [],
   "source": [
    "velosubset='CD8Tcell'\n",
    "clustercomp=bc.tl.count_occurrence_subset(cd8tcdata_full, 'leiden', count_variable ='PatientID', return_percentage = True)\n"
   ]
  },
  {
   "cell_type": "code",
   "execution_count": null,
   "metadata": {},
   "outputs": [],
   "source": [
    "import matplotlib"
   ]
  },
  {
   "cell_type": "code",
   "execution_count": null,
   "metadata": {},
   "outputs": [],
   "source": [
    "clustercomp[clustercomp.max().sort_values().index].transpose().plot.bar(stacked=True, figsize=(12, 8))\n",
    "plt.legend(loc='center left', bbox_to_anchor=(2, 0.5))\n",
    "plt.ylabel('Percentage donor per cluster')\n",
    "#plt.savefig(figdir+'Clustercomp-'+velosubset+'.PatientID.pdf', bbox_inches=\"tight\", dpi=300)\n",
    "#plt.savefig(figdir+'Clustercomp-'+velosubset+'.PatientID.eps', format='eps', bbox_inches=\"tight\", dpi=300)\n",
    "#plt.savefig(figdir+'Clustercomp-'+velosubset+'.PatientID.svg', format='svg', bbox_inches=\"tight\", dpi=300)\n",
    "plt.show()"
   ]
  },
  {
   "cell_type": "code",
   "execution_count": null,
   "metadata": {},
   "outputs": [],
   "source": [
    "sc.pl.umap(cd8tcdata_full, color=['INHREC','MIGRATION','TF','score_HALLMARK_APOPTOSIS_scanpy',\n",
    "                                  'score_APOPTOTIC_PROGRAM_scanpy',''\n",
    "'score_IND_OF_APOP_BY_EXCEL_SIGNALS_scanpy'], \n",
    "          color_map=sns.cubehelix_palette(dark=0, light=.9, as_cmap=True), \n",
    "          save='-pathways-hallmark-CD8Velomap.cd8tcdata_full.svg')"
   ]
  },
  {
   "cell_type": "code",
   "execution_count": null,
   "metadata": {},
   "outputs": [],
   "source": [
    "\n",
    "sc.pl.umap(cd8tcdata_full[cd8tcdata.obs.index], color=['INHREC','MIGRATION','TF','score_HALLMARK_APOPTOSIS_scanpy',\n",
    "                                                       'score_HALLMARK_HYPOXIA_scanpy',\n",
    "                                                       'score_HALLMARK_ANGIOGENESIS_scanpy',\n",
    "                                  'score_APOPTOTIC_PROGRAM_scanpy',\n",
    "'score_IND_OF_APOP_BY_EXCEL_SIGNALS_scanpy'], \n",
    "           color_map=sns.cubehelix_palette(dark=0, light=.9, as_cmap=True), \n",
    "           save='-pathways-hallmark-CD8Velomap.svg')"
   ]
  },
  {
   "cell_type": "code",
   "execution_count": null,
   "metadata": {},
   "outputs": [],
   "source": [
    "inter=['CD44', 'CD2', 'SELL', 'XCL1', 'BTLA', 'IL15RA', \n",
    "       'TNFRSF1A', 'HAVCR2','NAMPT', 'FAS','TNFRSF14', 'CD74', 'SEMA4A']\n",
    "sc.pl.umap(cd8tcdata, color=['SELL','XCL1','BTLA','HAVCR2', 'NAMPT', 'FAS', 'SEMA4A'], \n",
    "           color_map=sns.cubehelix_palette(dark=0, light=.9, as_cmap=True), ncols=7, \n",
    "           save='-interactiongenes-CD8Tvelomap.pdf')\n",
    "sc.pl.umap(cd8tcdata, color=['SELL','XCL1','BTLA','HAVCR2', 'NAMPT', 'FAS', 'SEMA4A'], \n",
    "           color_map=sns.cubehelix_palette(dark=0, light=.9, as_cmap=True), ncols=7, \n",
    "           save='-interactiongenes-CD8Tvelomap.svg')"
   ]
  },
  {
   "cell_type": "code",
   "execution_count": null,
   "metadata": {},
   "outputs": [],
   "source": [
    "goi=['CDCA2','CDC20','DLGAP5','MKI67','BIRC5','AURKB','TYMS','STMN1',\n",
    "     'CD40LG','TMIGD2','ACTN1','KLF2','PLAC8','TCF7','SELL','CCR7','IL7R',  'PTGER2',\n",
    "      'PIK3R1','KLRG1','ZNF683','FCRL6','MATK','GNLY',\n",
    "     'XCL1','XCL2','CD200','CXCR3','SLAMF6','IL2','IL18R1','CXCR5','ID3','S1PR1','KLF3','IFNG','CCL4','CCL3','CXCL13',\n",
    "     'KLRF1','KLRB1','CRTAM','CD28','CAV1','IFITM1','CXCR6','KLRC2','ITGA1','CD101','CD69','FOS','GZMK','CD27',\n",
    "     'HLA-DQA1','GZMB','GZMA','PRF1','TNFRSF9','PRDM1','TOX','TIGIT','LAG3','HAVCR2','PDCD1',\n",
    "     'ENTPD1','CTLA4','ITGAE','CD38','DUSP4','DUSP1','ATF3','HSPA1A','HSPA1B']"
   ]
  },
  {
   "cell_type": "code",
   "execution_count": null,
   "metadata": {},
   "outputs": [],
   "source": [
    "average_obs,fraction_obs=bc.get_means(cd8tcdata, 'leiden')\n",
    "myorder=['16','10','3','7','1','9','8','15','13','6','0','11','5']\n",
    "mycol=['#6A3A4C','#5A0007','#5A0007','#6A3A4C','#6A3A4C','#5A0007','#004D43','#5A0007','#6B7900','#6A3A4C','#D16100','#D16100','#6B7900']\n",
    "\n",
    "mycol=pd.Series(mycol)\n",
    "mycol.index=['0','1','3','5','6','7','8','9','10','11','13','15','16']"
   ]
  },
  {
   "cell_type": "code",
   "execution_count": null,
   "metadata": {},
   "outputs": [],
   "source": [
    "sns.set(font_scale=0.6)\n",
    "a=sns.clustermap(average_obs.loc[myorder,goi],col_cluster=False, row_cluster=False,figsize=(15,4),\n",
    "                 cmap='viridis',row_colors=list(mycol[myorder]),metric='cosine', standard_scale=1,\n",
    "                 )\n",
    "#a.savefig(figdir+'Heatmap-goi-'+velosubset+'.celltype3_pub.tdata.nc.standard.pdf')\n",
    "#a.savefig(figdir+'Heatmap-goi-'+velosubset+'.celltype3_pub.tdata.nc.standard.svg', format='svg', bbox_inches=\"tight\", dpi=300)"
   ]
  },
  {
   "cell_type": "code",
   "execution_count": null,
   "metadata": {},
   "outputs": [],
   "source": [
    "boldg=[ 'XCL1','XCL2','IFITM1','CD69','KLRB1','ZNF331','ITGAL',\n",
    "       'LGALS9','DUSP1','DUSP4','AMICA1','ITGA1','KLRK1','KLRD1','HAVCR2','CD2',\n",
    "                            'KLRC2','CXCR6','FAM3C','PRF1','TNFRSF1B',\n",
    "                            'RDH10','TNFSF4','TIGIT','LAG3','CCL3','CCL4','CCL4L1','CCL4L2','GRN','NAMPT',\n",
    "                            'TNFSF13B','HSPA6','HSPH1','SERPINH1','HSPA1A','HSPA1B']\n",
    "\n",
    "cd8tcdata.obs['leidenRcat']=cd8tcdata.obs['leiden'].astype('str')+cd8tcdata.obs['RCat'].astype('str')\n",
    "cd8tcdata.obs['leidenRespond']=cd8tcdata.obs['leiden'].astype('str')+cd8tcdata.obs['Respond'].astype('str')\n",
    "\n",
    "#sc.pl.matrixplot(tdata[tdata.obs['leiden'].isin(['1','9','11','0','5','6'])],\n",
    "#                 var_names=boldg,\n",
    "#                 groupby='leidenRcat',dendrogram=True,standard_scale='var',\n",
    "#                svg='-boldg-c1-9-11-0-5-6.CD8Tvelo.leidenRespond.svg')\n",
    "\n",
    "sc.pl.matrixplot(cd8tcdata[cd8tcdata.obs['leiden'].isin(['1','9','11','0','5','6'])],\n",
    "                 var_names=boldg,\n",
    "                 groupby='leidenRespond',categories_order=['1R','1PD','9R','9PD','0R','0PD',\n",
    "                                                           '11R','11PD','6R','6PD','5R','5PD'],standard_scale='var',\n",
    "                 save='-boldg-c1-9-11-0-5-6.CD8Tvelo.leidenRespond.svg')"
   ]
  },
  {
   "cell_type": "code",
   "execution_count": null,
   "metadata": {},
   "outputs": [],
   "source": [
    "sc.pl.matrixplot(cd8tcdata[cd8tcdata.obs['leiden'].isin(['15','13','8','11','0','5','6'])],\n",
    "                 var_names=boldg,\n",
    "                 groupby='leidenRespond',categories_order=['15R','15PD','13R','13PD','8R','8PD','0R','0PD',\n",
    "                                                           '11R','11PD','6R','6PD','5R','5PD'],standard_scale='var',\n",
    "                      save='-boldg-c1-15-13-8-11-0-5-6.CD8Tvelo.leidenRespond.svg')"
   ]
  },
  {
   "cell_type": "code",
   "execution_count": null,
   "metadata": {},
   "outputs": [],
   "source": [
    "apoptosis_short =['RHOB','MCL1','JUN','ANXA1','F2R','CDKN1B','PMAIP1','BTG2',\n",
    "            'GADD45B','SQSTM1','DDIT3','CASP3','LGALS3','CASP7','ATF3',\n",
    "            'BTG3','HSPB1','DNAJA1','TNF','SAT1','CASP4','BIRC3','CASP1']"
   ]
  },
  {
   "cell_type": "code",
   "execution_count": null,
   "metadata": {},
   "outputs": [],
   "source": [
    "sc.set_figure_params()"
   ]
  },
  {
   "cell_type": "code",
   "execution_count": null,
   "metadata": {},
   "outputs": [],
   "source": [
    "sc.pl.umap(cd8tcdata_full, color=['CCR2',\n",
    " 'CXCR3',\n",
    " 'CXCR4',\n",
    " 'CX3CR1',\n",
    " 'S1PR1',\n",
    " 'ITGA1',\n",
    " 'ITGA4',\n",
    " 'ITGAE',\n",
    " 'ITGB1',\n",
    " 'ITGB7',\n",
    " 'CD44',\n",
    " 'CXCR5'])"
   ]
  },
  {
   "cell_type": "code",
   "execution_count": null,
   "metadata": {},
   "outputs": [],
   "source": [
    "sc.pl.umap(cd8tcdata_full, \n",
    "           color=apoptosis_short)"
   ]
  },
  {
   "cell_type": "code",
   "execution_count": null,
   "metadata": {},
   "outputs": [],
   "source": [
    "#sc.pl.umap(cd8tcdata_full, \n",
    "#           color=agoi)"
   ]
  },
  {
   "cell_type": "code",
   "execution_count": null,
   "metadata": {},
   "outputs": [],
   "source": [
    "sc.pl.umap(cd8tcdata_full, \n",
    "           color=['XCL1',  'NAMPT', 'IFITM1'],color_map='viridis')"
   ]
  },
  {
   "cell_type": "code",
   "execution_count": null,
   "metadata": {},
   "outputs": [],
   "source": [
    "sc.settings.set_figure_params()"
   ]
  },
  {
   "cell_type": "code",
   "execution_count": null,
   "metadata": {},
   "outputs": [],
   "source": [
    "sc.pl.umap(macrodata, color=['TREM2', 'MERTK','C1QC', 'ITM2B','SPP1', 'MARCO', 'VEGFA','SDC2',\n",
    "                             'CD68', 'CD80', 'MAF','CD86','LYVE1','CD163','EREG','HLA-DQA2',\n",
    "                            'IL10','CD33'],ncols=3,\n",
    "           color_map='viridis', save='-TREM2-C1QC-SPP1-MonoMacro-All-PBMCandTIL.svg')"
   ]
  },
  {
   "cell_type": "markdown",
   "metadata": {},
   "source": [
    "plot (ATF3, BIRC3, ANXA1), TGFb (TGIF1, PPP1R15A) and TNFa signaling (PPP1R15A,BTG3,BTG2,PLEK,TNFAIP3), for Tcdata"
   ]
  },
  {
   "cell_type": "code",
   "execution_count": null,
   "metadata": {},
   "outputs": [],
   "source": [
    "### Prepare means\n",
    "condition='RCat'\n",
    "#condlist=list(set(cdata.obs[condition]))\n",
    "condlist=['R','TF','NR_nadj','NR_adj']\n",
    "cd8_TIL=cd8tcdata[cd8tcdata.obs['Sample type'].isin(['TIL'])]\n",
    "cd8_PBMC=cd8tcdata[cd8tcdata.obs['Sample type'].isin(['PBMC'])]\n"
   ]
  },
  {
   "cell_type": "code",
   "execution_count": null,
   "metadata": {},
   "outputs": [],
   "source": [
    "\n",
    "mean,fct=bc.get_means(cd8_TIL,'PatientID', condition)\n",
    "#meanmacro,fct=bc.get_means(macromacro,'PatientID', condition)\n",
    "#meanmtil,fct=bc.get_means(macro_TIL,'PatientID', condition)\n",
    "#meanmpbmc,fct=bc.get_means(macro_PBMC,'PatientID', condition)\n",
    "\n",
    "### Prepare means\n",
    "condition='RCat'\n",
    "#condlist=list(set(cdata.obs[condition]))\n",
    "condlist=['R','TF','NR_nadj','NR_adj']\n",
    "#macro_TIL=macrodata[macrodata.obs['Sample type'].isin(['TIL'])]\n",
    "#macro_PBMC=macrodata[macrodata.obs['Sample type'].isin(['PBMC'])]\n"
   ]
  },
  {
   "cell_type": "code",
   "execution_count": null,
   "metadata": {},
   "outputs": [],
   "source": [
    "\n",
    "#sc.pl.matrixplot(macromacro, var_names=goi, groupby='RCat', standard_scale='var')\n",
    "\n",
    "\n",
    "goi=['BTG2','AMICA1','KLRC2','XCL1','ATF3','BIRC3','ANXA1','TGIF1','PPP1R15A','TNFAIP3']\n",
    "\n",
    "myg=goi[5]\n"
   ]
  },
  {
   "cell_type": "code",
   "execution_count": null,
   "metadata": {},
   "outputs": [],
   "source": [
    "figdir"
   ]
  },
  {
   "cell_type": "code",
   "execution_count": null,
   "metadata": {},
   "outputs": [],
   "source": [
    "for myg in goi:\n",
    "    bc.pl.box_per_ind(mean, myg,\n",
    "                  condition,order=condlist)\n",
    "    #plt.savefig(figdir+'Geneplots_cd8til_'+myg+'.pdf', bbox_inches=\"tight\", dpi=300)\n",
    "    #plt.savefig(figdir+'Geneplots_cd8til_'+myg+'.eps', format='eps', bbox_inches=\"tight\", dpi=300)\n",
    "    plt.savefig(figdir+'Geneplots_cd8til_'+myg+'.svg', format='svg', bbox_inches=\"tight\", dpi=300)"
   ]
  },
  {
   "cell_type": "code",
   "execution_count": null,
   "metadata": {},
   "outputs": [],
   "source": [
    "sc.pl.umap(macrodata, color=['INHREC','MIGRATION','TF','score_HALLMARK_APOPTOSIS_scanpy'])"
   ]
  },
  {
   "cell_type": "code",
   "execution_count": null,
   "metadata": {},
   "outputs": [],
   "source": [
    "sc.pl.umap(macrodata, color=['CCR2',\n",
    " 'CXCR3',\n",
    " 'CXCR4',\n",
    " 'CX3CR1',\n",
    " 'S1PR1',\n",
    " 'ITGA1',\n",
    " 'ITGA4',\n",
    " 'ITGAE',\n",
    " 'ITGB1',\n",
    " 'ITGB7',\n",
    " 'CD44',\n",
    " 'CXCR5'])"
   ]
  },
  {
   "cell_type": "code",
   "execution_count": null,
   "metadata": {},
   "outputs": [],
   "source": [
    "sc.pl.umap(macrodata, color=apoptosis_short)"
   ]
  },
  {
   "cell_type": "code",
   "execution_count": null,
   "metadata": {},
   "outputs": [],
   "source": [
    "sc.pl.umap(macrodata, color=['NAMPT'])"
   ]
  },
  {
   "cell_type": "code",
   "execution_count": null,
   "metadata": {},
   "outputs": [],
   "source": [
    "sc.pl.umap(dcdata,color=['leiden','latent_time','velocity_length'],legend_loc='on data')"
   ]
  },
  {
   "cell_type": "code",
   "execution_count": null,
   "metadata": {},
   "outputs": [],
   "source": [
    "sc.pl.umap(macrodata,color=['leiden','latent_time','velocity_length'],legend_loc='on data')"
   ]
  },
  {
   "cell_type": "markdown",
   "metadata": {},
   "source": [
    "Plot THBS1 (TGFb), IFITM3;IFITM2;IFI30 (IFNa pathway), BTG1;TNFAIP6;VEGFA (TNFa) in macrodata"
   ]
  },
  {
   "cell_type": "code",
   "execution_count": null,
   "metadata": {},
   "outputs": [],
   "source": [
    "### Prepare means\n",
    "condition='RCat'\n",
    "#condlist=list(set(cdata.obs[condition]))\n",
    "condlist=['R','TF','NR_nadj','NR_adj']\n",
    "macro_TIL=macrodata[macrodata.obs['Sample type'].isin(['TIL'])]\n",
    "macro_PBMC=macrodata[macrodata.obs['Sample type'].isin(['PBMC'])]\n",
    "\n",
    "macromacro=macro_TIL[macro_TIL.obs['celltype2_pub'].isin(['macrophage'])]\n",
    "monomacro=macro_TIL[macro_TIL.obs['celltype2_pub'].isin(['classical monocyte'])]\n",
    "mean,fct=bc.get_means(monomacro,'PatientID', condition)\n",
    "meanmacro,fct=bc.get_means(macromacro,'PatientID', condition)\n",
    "meanmtil,fct=bc.get_means(macro_TIL,'PatientID', condition)\n",
    "meanmpbmc,fct=bc.get_means(macro_PBMC,'PatientID', condition)\n"
   ]
  },
  {
   "cell_type": "code",
   "execution_count": null,
   "metadata": {},
   "outputs": [],
   "source": [
    "sc.settings.set_figure_params()"
   ]
  },
  {
   "cell_type": "code",
   "execution_count": null,
   "metadata": {},
   "outputs": [],
   "source": [
    "sc.pl.umap(macrodata, color=['leiden'], legend_loc='on data', save='-leiden-MonoMacro-All-PBMCandTIL.svg')"
   ]
  },
  {
   "cell_type": "code",
   "execution_count": null,
   "metadata": {},
   "outputs": [],
   "source": [
    "sc.pl.umap(macrodata, color=['celltype3_pub'], save='-celltype3_pub-MonoMacro-All-PBMCandTIL.svg')"
   ]
  },
  {
   "cell_type": "code",
   "execution_count": null,
   "metadata": {},
   "outputs": [],
   "source": [
    "sc.pl.umap(macrodata, color=['CXCL9','PTX3'], color_map='viridis', save='-CXCL9-PTX3-MonoMacro-All-PBMCandTIL.svg')"
   ]
  },
  {
   "cell_type": "code",
   "execution_count": null,
   "metadata": {},
   "outputs": [],
   "source": [
    "sc.pl.umap(macrodata, color=['TREM1','NR4A2'], color_map='viridis', save='-TREM1-NR4A2-MonoMacro-All-PBMCandTIL.svg')"
   ]
  },
  {
   "cell_type": "code",
   "execution_count": null,
   "metadata": {},
   "outputs": [],
   "source": [
    "lgoi=['S100A12',  'S100A8','FCN1', 'SELL', 'CD300E', 'MARCKSL1', 'CD68', 'CD163', 'MSR1',\n",
    "'NR4A1','TREM2','HLA-DQA1', 'HLA-DPA1', 'NLRP3', 'FN1', \n",
    "'AREG', 'ISG15', 'IFIT1', 'IFIT3', 'IFI27','CXCL11', 'CXCL10', 'CXCL9','CD274','IDO1', 'TNF',\n",
    " 'AXL',  'MARCO', 'PTX3', 'CD36', 'MRC1', 'GPNMB', \n",
    "'LGALS2','APOE', 'EREG', 'INHBA', 'HILPDA', 'SPP1',\n",
    "'CXCL12',  'CCL20', 'CXCL3', 'IL8', 'CCL4', 'IL6', 'IL1B', 'IL18','FOLR2',\n",
    "'C1QB', 'LGMN', 'GAS6','G0S2', 'C3',\n",
    "      'SLAMF9', 'TNFSF14', 'VSIG4', 'TLR10', 'TLR1', \n",
    "     'TLR3', 'TLR7',  'EGR3', 'EGR4', 'NFKB1','SLC2A1', 'HK2', 'FBP1', 'CX3CR1','PTGS2']\n",
    "#PTX3, IL8, EREG, PTGS2\n",
    "#mycol=['#6A3A4C','#5A0007','#5A0007','#6A3A4C','#6A3A4C','#5A0007','#004D43','#004D43','#6B7900','#6A3A4C','#D16100','#D16100','#6B7900']\n",
    "#mycol=['0','1','3','5','6','7','8','9','10','11','13','15','16']\n",
    "#mycol=['#6A3A4C','#6A3A4C','#6A3A4C','#6A3A4C','#6A3A4C','#6A3A4C','#004D43','#004D43','#6B7900','#6A3A4C','#6A3A4C','#6A3A4C','#6B7900']\n",
    "#mycol=['#A30059', '#7A4900', '#0000A6', '#B79762', '#3B5DFF', '#00C2A0']\n",
    "mycol=['#B79762','#0000A6','#B79762','#0000A6','#7A4900','#7A4900','#A30059','#3B5DFF','#0000A6','#B79762']\n",
    "#mycol=['5','7','12','13','14','16','19','22','23','29']\n",
    "\n",
    "average_obs,fraction_obs=bc.get_means(macrodata, 'leiden')\n"
   ]
  },
  {
   "cell_type": "code",
   "execution_count": null,
   "metadata": {},
   "outputs": [],
   "source": [
    "agoi=['TREM1','VCAN','FCN1','S100A12','INHBA','IL1RN','VEGFA','SPP1','PPARG','MARCO','MRC1','SDC2','MT1G','TNFSF14',\n",
    "     'EREG','MMP10','TNFAIP3','CCL3','PLAUR','HES1','IL1B','CCL4','NLRP3','IL10','LYVE1','FOLR2','SEPP1','MERTK','MAF',\n",
    "     'PLTP','APOE','HLA-DRB1','C1QC','TREM2','CD9','LIPA','MSR1','ITM2B','CD68','CD86','CD80','ISG15','CXCL9','CXCL10',\n",
    "      'IL4I1','IDO1','CD274','IL12B','APOBEC3A','CXCL2','MITF','HLA-A','MMP9','CD33','IRF8','HIF1A',\n",
    "    'CXCL12', 'IL6','MIF','THBS1']\n",
    "sns.set(font_scale=0.7)\n",
    "a=sns.clustermap(fraction_obs.loc[:,agoi],col_cluster=True, row_cluster=True,figsize=(15,4),\n",
    "                 cmap='viridis',metric='correlation',row_colors=mycol, vmax=0.8, standard_scale=1) #row_colors=mycol,\n",
    "a.savefig(figdir+'Heatmap-new-goi-MonoMacro.celltype3_pub.dyn-subsampled.08.svg', format='svg')"
   ]
  },
  {
   "cell_type": "code",
   "execution_count": null,
   "metadata": {},
   "outputs": [],
   "source": [
    "\n",
    "agoi=['SLC2A3','IFI30','ITGB2','HK2','LDHA','PPP1R15A','RAB31','TGIF1','ID2','ARID4B','JUNB','CD3D','LAIR2','LAIR1']\n",
    "sns.set(font_scale=0.8)\n",
    "#a.savefig(figdir+'Heatmap-goi-'+velosubset+'.celltype3_pub.dyn-subsampled.08.pdf')\n",
    "#a.savefig(figdir+'Heatmap-new-goi-MonoMacro.celltype3_pub.dyn-subsampled.08.svg', format='svg')\n",
    "a=sns.clustermap(fraction_obs.loc[:,agoi],col_cluster=True, row_cluster=True,figsize=(15,4),\n",
    "                 cmap='viridis',metric='correlation',row_colors=mycol, vmax=0.8, standard_scale=1) #row_colors=mycol,\n"
   ]
  },
  {
   "cell_type": "code",
   "execution_count": null,
   "metadata": {},
   "outputs": [],
   "source": [
    "sc.settings.set_figure_params()"
   ]
  },
  {
   "cell_type": "code",
   "execution_count": null,
   "metadata": {},
   "outputs": [],
   "source": [
    "sc.pl.umap(macrodata, color=agoi, color_map='viridis')"
   ]
  },
  {
   "cell_type": "code",
   "execution_count": null,
   "metadata": {},
   "outputs": [],
   "source": [
    "sc.pl.matrixplot(macrodata, var_names=agoi, groupby='celltype3_pub', standard_scale='var')"
   ]
  },
  {
   "cell_type": "code",
   "execution_count": null,
   "metadata": {},
   "outputs": [],
   "source": [
    "sc.pl.matrixplot(macrodata, var_names=agoi, groupby='leiden', standard_scale='var')"
   ]
  },
  {
   "cell_type": "code",
   "execution_count": null,
   "metadata": {},
   "outputs": [],
   "source": [
    "sc.pl.dotplot(macrodata, var_names=agoi, groupby='leiden')"
   ]
  },
  {
   "cell_type": "code",
   "execution_count": null,
   "metadata": {},
   "outputs": [],
   "source": [
    "#a=sns.clustermap(fraction_obs.loc[:,agoi],col_cluster=True, row_cluster=True,figsize=(15,4),\n",
    "#                 cmap='viridis',metric='correlation',row_colors=mycol, vmax=0.8, standard_scale=1) #row_colors=mycol,\n"
   ]
  },
  {
   "cell_type": "code",
   "execution_count": null,
   "metadata": {},
   "outputs": [],
   "source": [
    "\n",
    "sns.set(font_scale=0.6)\n",
    "a=sns.clustermap(fraction_obs.loc[:,lgoi],col_cluster=True, row_cluster=True,figsize=(15,4),\n",
    "                 cmap='viridis',metric='correlation',row_colors=mycol, vmax=0.8, standard_scale=1) #row_colors=mycol,\n",
    "#a.savefig(figdir+'Heatmap-goi-'+velosubset+'.celltype3_pub.dyn-subsampled.08.pdf')\n",
    "a.savefig(figdir+'Heatmap-goi-MonoMacro.celltype3_pub.dyn-subsampled.08.svg', format='svg')\n"
   ]
  },
  {
   "cell_type": "code",
   "execution_count": null,
   "metadata": {},
   "outputs": [],
   "source": [
    "sc.pl.matrixplot(macromacro, var_names=goi, groupby='RCat', standard_scale='var')"
   ]
  },
  {
   "cell_type": "code",
   "execution_count": null,
   "metadata": {},
   "outputs": [],
   "source": [
    "goi=['JUNB','TGIF1','ID2','ARID4B','PPP1R15A','RAB31']\n",
    "goi=['BTG1','VEGFA','BIRC3','FOSB','TNFAIP3','G0S2','TNF','ATF3']\n",
    "#goi=['FCN1','SERPINA1','FCER1G','PLSCR1','S100A12','TIMP1','CD36','S100A9']\n",
    "#goi=['LYZ','IFITM2','CXCL9','IFITM3','PLSCR1','IFI30']\n",
    "#goi=['TREM1', 'LYZ', 'FCN1', 'IFITM2','IFIT1','IFIT3','IFITM3','SPP1','MARCO']\n",
    "#goi=['STAC','TNFSF18','IFI6','CCL3','HSPA1B','SIGLEC12','ANGPTL4']\n",
    "#goi=[,'UNB']\n",
    "goi=['JUNB','ATF3','BIRC3', 'TNF','TGIF1','ID2','ARID4B','PPP1R15A','RAB31']\n",
    "myg=goi[3]"
   ]
  },
  {
   "cell_type": "code",
   "execution_count": null,
   "metadata": {},
   "outputs": [],
   "source": [
    "\n",
    "bc.pl.box_per_ind(mean, myg,\n",
    "                  condition,order=condlist)"
   ]
  },
  {
   "cell_type": "code",
   "execution_count": null,
   "metadata": {},
   "outputs": [],
   "source": [
    "bc.pl.box_per_ind(meanmacro, myg,\n",
    "                  condition,order=condlist)"
   ]
  },
  {
   "cell_type": "code",
   "execution_count": null,
   "metadata": {},
   "outputs": [],
   "source": [
    "figdir"
   ]
  },
  {
   "cell_type": "code",
   "execution_count": null,
   "metadata": {},
   "outputs": [],
   "source": [
    "for myg in goi:\n",
    "    bc.pl.box_per_ind(meanmtil, myg,\n",
    "                      condition,order=condlist)\n",
    "    plt.savefig(figdir+'Geneplots_meanmacromonotil_'+myg+'.pdf', bbox_inches=\"tight\", dpi=300)\n",
    "    plt.savefig(figdir+'Geneplots_meanmacromonotil_'+myg+'.eps', format='eps', bbox_inches=\"tight\", dpi=300)\n",
    "    plt.savefig(figdir+'Geneplots_meanmacromonotil_'+myg+'.svg', format='svg', bbox_inches=\"tight\", dpi=300)"
   ]
  },
  {
   "cell_type": "code",
   "execution_count": null,
   "metadata": {},
   "outputs": [],
   "source": [
    "bc.pl.box_per_ind(meanmpbmc, myg,\n",
    "                  condition,order=condlist)"
   ]
  },
  {
   "cell_type": "code",
   "execution_count": null,
   "metadata": {},
   "outputs": [],
   "source": [
    "sc.pl.violin(macro_TIL, keys=[myg], groupby='RCat')"
   ]
  },
  {
   "cell_type": "code",
   "execution_count": null,
   "metadata": {},
   "outputs": [],
   "source": [
    "sc.pl.umap(macro_TIL, color='leiden')"
   ]
  },
  {
   "cell_type": "code",
   "execution_count": null,
   "metadata": {},
   "outputs": [],
   "source": [
    "sc.pl.umap(dcdata,color=['XCR1', 'TNFRSF14', 'SELPLG', 'IL15', 'P2RY6'],legend_loc='on data')"
   ]
  },
  {
   "cell_type": "code",
   "execution_count": null,
   "metadata": {},
   "outputs": [],
   "source": [
    "sc.pl.umap(dcdata,color=['XCR1',  'P2RY6'],legend_loc='on data')"
   ]
  },
  {
   "cell_type": "code",
   "execution_count": null,
   "metadata": {},
   "outputs": [],
   "source": [
    "sc.pl.dotplot(dcdata,var_names=['XCR1',  'P2RY6'],groupby='celltype3_pub')"
   ]
  },
  {
   "cell_type": "code",
   "execution_count": null,
   "metadata": {},
   "outputs": [],
   "source": [
    "sc.pl.dotplot(dcdata,var_names=['XCR1',  'P2RY6'],groupby='RCat')"
   ]
  },
  {
   "cell_type": "code",
   "execution_count": null,
   "metadata": {},
   "outputs": [],
   "source": [
    "sc.pl.dotplot(dcdata,var_names=['XCR1', 'TNFRSF14', 'SELPLG', 'IL15', 'P2RY6', 'HBEGF', 'TNFRSF1A'],groupby='celltype3_pub')"
   ]
  },
  {
   "cell_type": "code",
   "execution_count": null,
   "metadata": {},
   "outputs": [],
   "source": [
    "sc.pl.dotplot(dcdata[dcdata.obs['celltype3_pub'].isin([\n",
    "                                                       'CD141-positive myeloid dendritic cell'])],\n",
    "              var_names=['XCR1', 'TNFRSF14', 'SELPLG', 'IL15','P2RY6', 'HBEGF', 'TNFRSF1A'],groupby='RCat')"
   ]
  },
  {
   "cell_type": "code",
   "execution_count": null,
   "metadata": {},
   "outputs": [],
   "source": [
    "sc.pl.dotplot(dcdata[dcdata.obs['celltype3_pub'].isin([\n",
    "                                                       'CCR7-positive myeloid dendritic cell'])],\n",
    "              var_names=['XCR1', 'TNFRSF14', 'SELPLG', 'IL15','P2RY6', 'HBEGF', 'TNFRSF1A'],groupby='RCat')"
   ]
  },
  {
   "cell_type": "code",
   "execution_count": null,
   "metadata": {},
   "outputs": [],
   "source": [
    "sc.pl.dotplot(dcdata[dcdata.obs['celltype3_pub'].isin(['CD1c-positive myeloid dendritic cell'])],\n",
    "              var_names=['XCR1', 'TNFRSF14', 'SELPLG', 'IL15','P2RY6', 'HBEGF', 'TNFRSF1A'],groupby='RCat')"
   ]
  },
  {
   "cell_type": "code",
   "execution_count": null,
   "metadata": {},
   "outputs": [],
   "source": [
    "sc.pl.umap(macrodata[macrodata.obs['celltype3_pub']=='classical monocyte'],color=['TNF', 'ICAM1',  'CCL20', 'HBEGF'],legend_loc='on data')"
   ]
  },
  {
   "cell_type": "code",
   "execution_count": null,
   "metadata": {},
   "outputs": [],
   "source": [
    "sc.pl.dotplot(macrodata[macrodata.obs['celltype3_pub']=='classical monocyte'],\n",
    "              var_names=['TNF', 'ICAM1',  'CCL20', 'HBEGF'],groupby='RCat')"
   ]
  },
  {
   "cell_type": "code",
   "execution_count": null,
   "metadata": {},
   "outputs": [],
   "source": [
    "sc.pl.dotplot(macrodata[macrodata.obs['celltype3_pub']=='CXCL9-positive macrophage'],\n",
    "              var_names=['TNF', 'ICAM1',  'CCL20', 'HBEGF'],groupby='RCat')"
   ]
  },
  {
   "cell_type": "code",
   "execution_count": null,
   "metadata": {},
   "outputs": [],
   "source": [
    "sc.pl.dotplot(macrodata[macrodata.obs['celltype3_pub']=='MSR1-positive macrophage'],\n",
    "              var_names=['TNF', 'ICAM1',  'CCL20', 'HBEGF'],groupby='RCat')"
   ]
  },
  {
   "cell_type": "code",
   "execution_count": null,
   "metadata": {},
   "outputs": [],
   "source": [
    "sc.pl.dotplot(macrodata[macrodata.obs['celltype3_pub']=='MARCO-positive macrophage'],\n",
    "              var_names=['TNF', 'ICAM1',  'CCL20', 'HBEGF'],groupby='RCat')"
   ]
  },
  {
   "cell_type": "code",
   "execution_count": null,
   "metadata": {},
   "outputs": [],
   "source": [
    "sc.pl.dotplot(macrodata,\n",
    "              var_names=['TNF', 'ICAM1',  'CCL20', 'HBEGF'],groupby='RCat')"
   ]
  },
  {
   "cell_type": "code",
   "execution_count": null,
   "metadata": {},
   "outputs": [],
   "source": [
    "tildata=adata[adata.obs['Sample type']=='TIL'].copy()\n",
    "pbmcdata=adata[adata.obs['Sample type']=='PBMC'].copy()\n",
    "\n",
    "### or read the separate analysis ###"
   ]
  },
  {
   "cell_type": "code",
   "execution_count": null,
   "metadata": {},
   "outputs": [],
   "source": [
    "set(tildata.obs['celltype3_pub'])"
   ]
  },
  {
   "cell_type": "code",
   "execution_count": null,
   "metadata": {},
   "outputs": [],
   "source": [
    "sc.pl.dotplot(tildata[tildata.obs['celltype3_pub'].isin(['proliferating CD8-positive T cell',\n",
    "                                                         'exhausted-like CD8-positive T cell',\n",
    "                                                         'effector memory CD8-positive T cell',\n",
    "                                                         'cytokine secreting effector CD8-positive T cell'\n",
    "                                                         'naive CD8-positive T cell'])],\n",
    "              var_names=['XCL1',   'NAMPT'],groupby='RCat')"
   ]
  },
  {
   "cell_type": "code",
   "execution_count": null,
   "metadata": {},
   "outputs": [],
   "source": [
    "#sc.pl.umap(cd8tcdata, color=['SPRY1'], color_map='viridis')\n",
    "#cd8tcdata.obs['PatRCat']=list(cd8tcdata.obs['PatientID'].astype(str)+\"_\"+cd8tcdata.obs['RCat'].astype(str))\n",
    "#sc.pl.dotplot(cd8tcdata, var_names=['SPRY1'], groupby='PatRCat')\n",
    "#sc.pl.dotplot(cd8tcdata[cd8tcdata.obs['leiden'].isin(['9'])], var_names=['SPRY1'], groupby='PatRCat')\n",
    "#sc.pl.dotplot(cd8tcdata[cd8tcdata.obs['leiden'].isin(['11'])], var_names=['SPRY1'], groupby='PatRCat')\n",
    "#sc.pl.dotplot(cd8tcdata, var_names=['SPRY1'], groupby='leiden')"
   ]
  },
  {
   "cell_type": "markdown",
   "metadata": {},
   "source": [
    "### Export pdf for publication"
   ]
  },
  {
   "cell_type": "code",
   "execution_count": null,
   "metadata": {},
   "outputs": [],
   "source": [
    "sc.pl.umap(adata,color=['celltype1'], save='-allcells-celltype1.pdf')\n",
    "sc.pl.umap(adata,color=['celltype1'], save='-allcells-celltype1.svg')"
   ]
  },
  {
   "cell_type": "code",
   "execution_count": null,
   "metadata": {},
   "outputs": [],
   "source": [
    "sc.pl.umap(adata,color=['celltype2_pub'], save='-allcells-celltype2.pdf')\n",
    "sc.pl.umap(adata,color=['celltype2_pub'], save='-allcells-celltype2.svg')"
   ]
  },
  {
   "cell_type": "code",
   "execution_count": null,
   "metadata": {},
   "outputs": [],
   "source": [
    "sc.pl.umap(adata,color=['celltype3_pub'], save='-allcells-celltype3.pdf')\n",
    "sc.pl.umap(adata,color=['celltype3_pub'], save='-allcells-celltype3.svg')"
   ]
  },
  {
   "cell_type": "code",
   "execution_count": null,
   "metadata": {},
   "outputs": [],
   "source": [
    "sc.pl.umap(adata,color=['celltype4_pub'], save='-allcells-celltype4.pdf')\n",
    "sc.pl.umap(adata,color=['celltype4_pub'], save='-allcells-celltype4.svg')"
   ]
  },
  {
   "cell_type": "code",
   "execution_count": null,
   "metadata": {},
   "outputs": [],
   "source": [
    "#sc.pl.umap(adata,color=['my_type'], save='-allcells-my_type.pdf')"
   ]
  },
  {
   "cell_type": "code",
   "execution_count": null,
   "metadata": {},
   "outputs": [],
   "source": [
    "sc.pl.umap(adata,color=['PatientID','Sample type','Adjuvant','Lesion','Mutation',\n",
    "                        'Stage','Age','Gender','RCat','CIT2','CIT', 'Fresh','CD3IHC'], save='-variables.pdf',ncols=1)"
   ]
  },
  {
   "cell_type": "code",
   "execution_count": null,
   "metadata": {},
   "outputs": [],
   "source": [
    "#sc.pl.umap(adata,color=['Fresh','CD3IHC'],ncols=2)\n",
    "sc.pl.umap(adata,color=['PatientID','Sample type','Adjuvant','Lesion','Mutation',\n",
    "                        'Stage','Age','Gender','RCat','CIT2','CIT', 'Fresh','CD3IHC'], save='-variables.svg',ncols=1)"
   ]
  },
  {
   "cell_type": "markdown",
   "metadata": {},
   "source": [
    "### Plot main signatures "
   ]
  },
  {
   "cell_type": "code",
   "execution_count": null,
   "metadata": {},
   "outputs": [],
   "source": [
    "sc.pl.umap(adata, color= ['score_Myeloid_scanpy','score_Bcell_scanpy',\n",
    "                             'score_Plasma_scanpy','score_Tcell_scanpy','score_CD8Tcell_scanpy',\n",
    "                          'score_CD4Tcell_scanpy','score_NaiCD4Tcell_scanpy',\n",
    "                          'score_CMCD4Tcell_scanpy','score_RegTcell_scanpy',\n",
    "                          'score_EMCD8Tcell_scanpy',\n",
    "                          'score_CytotoxCD4Tcell_scanpy',\n",
    "                          'score_ExhCD8Tcell_scanpy','score_CD8Tcell_IL7Rmax_scanpy',\n",
    "                          'score_NKcell_scanpy','score_CD56dimNK_scanpy','score_CD56brightNK_scanpy',\n",
    "                         'score_Macrophage_scanpy','score_ClassMonocyte_scanpy','score_NClassMonocyte_scanpy',\n",
    "                          'score_cDC_scanpy','score_cDC_CCR7_scanpy','score_cDC1_scanpy',\n",
    "                          'score_pDC_scanpy','score_ProlifBcell_scanpy'], \n",
    "           color_map = 'viridis',save='-signatures.svg') #,save='-signatures.pdf'"
   ]
  },
  {
   "cell_type": "code",
   "execution_count": null,
   "metadata": {},
   "outputs": [],
   "source": []
  },
  {
   "cell_type": "code",
   "execution_count": null,
   "metadata": {},
   "outputs": [],
   "source": [
    "goi=['CD3D','TYROBP','FOXP3',\n",
    "     'MKI67','CD19','SELL','XCL1',\n",
    "     'CD38','PDCD1','TCF7', 'HAVCR2',\n",
    "     'MS4A1','GNLY','XCR1','CLEC9A',\n",
    "     'CCR7','SAT1','CX3CR1','LYAR','NCAM1']"
   ]
  },
  {
   "cell_type": "code",
   "execution_count": null,
   "metadata": {},
   "outputs": [],
   "source": [
    "### Plot the Marker genes\n",
    "\n",
    "sc.pl.umap(adata,color=goi,save='-markers.svg', color_map='viridis')\n",
    "#sc.pl.umap(adata,color=goi,save='-markers.pdf')"
   ]
  },
  {
   "cell_type": "markdown",
   "metadata": {},
   "source": [
    "### Plot the UMAPs individually\n"
   ]
  },
  {
   "cell_type": "code",
   "execution_count": null,
   "metadata": {},
   "outputs": [],
   "source": [
    "tildata=adata[adata.obs['Sample type']=='TIL'].copy()\n",
    "pbmcdata=adata[adata.obs['Sample type']=='PBMC'].copy()\n",
    "\n",
    "### or read the separate analysis ###"
   ]
  },
  {
   "cell_type": "markdown",
   "metadata": {},
   "source": [
    "#### PBMCs"
   ]
  },
  {
   "cell_type": "code",
   "execution_count": null,
   "metadata": {},
   "outputs": [],
   "source": [
    "#import bbknn\n",
    "#bbknn.bbknn(pbmcdata)"
   ]
  },
  {
   "cell_type": "code",
   "execution_count": null,
   "metadata": {},
   "outputs": [],
   "source": [
    "sc.pp.neighbors(pbmcdata)"
   ]
  },
  {
   "cell_type": "code",
   "execution_count": null,
   "metadata": {},
   "outputs": [],
   "source": [
    "sc.tl.umap(pbmcdata)"
   ]
  },
  {
   "cell_type": "code",
   "execution_count": null,
   "metadata": {},
   "outputs": [],
   "source": [
    "sc.pl.umap(pbmcdata,color=['celltype4_pub'], save='-PBMC_celltype4.pdf')"
   ]
  },
  {
   "cell_type": "code",
   "execution_count": null,
   "metadata": {},
   "outputs": [],
   "source": [
    "sc.pl.umap(pbmcdata,color=['celltype3_pub'], save='-PBMC_celltype3.pdf')"
   ]
  },
  {
   "cell_type": "code",
   "execution_count": null,
   "metadata": {},
   "outputs": [],
   "source": [
    "sc.pl.umap(pbmcdata,color=['celltype2_pub'], save='-PBMC_celltype2.pdf')"
   ]
  },
  {
   "cell_type": "code",
   "execution_count": null,
   "metadata": {},
   "outputs": [],
   "source": [
    "sc.pl.umap(pbmcdata,color=['celltype1'], save='-PBMC_celltype1.pdf')"
   ]
  },
  {
   "cell_type": "code",
   "execution_count": null,
   "metadata": {
    "scrolled": true
   },
   "outputs": [],
   "source": [
    "#sc.pl.umap(pbmcdata,color=['celltype3_PBMC'], save='-PBMC_celltype3_PBMCannot.pdf')"
   ]
  },
  {
   "cell_type": "code",
   "execution_count": null,
   "metadata": {},
   "outputs": [],
   "source": [
    "### Plot the Marker genes\n",
    "\n",
    "sc.pl.umap(pbmcdata,color=goi,save='-PBMC_markers.svg')"
   ]
  },
  {
   "cell_type": "markdown",
   "metadata": {},
   "source": [
    "#### TILs"
   ]
  },
  {
   "cell_type": "code",
   "execution_count": null,
   "metadata": {},
   "outputs": [],
   "source": [
    "#import bbknn\n",
    "#bbknn.bbknn(tildata)\n",
    "sc.pp.neighbors(tildata)"
   ]
  },
  {
   "cell_type": "code",
   "execution_count": null,
   "metadata": {},
   "outputs": [],
   "source": [
    "sc.tl.umap(tildata)"
   ]
  },
  {
   "cell_type": "code",
   "execution_count": null,
   "metadata": {},
   "outputs": [],
   "source": [
    "sc.pl.umap(tildata,color=['celltype4_pub'], save='-TIL_celltype4.pdf')"
   ]
  },
  {
   "cell_type": "code",
   "execution_count": null,
   "metadata": {},
   "outputs": [],
   "source": [
    "sc.pl.umap(tildata,color=['celltype3_pub'], save='-TIL_celltype3.pdf')"
   ]
  },
  {
   "cell_type": "code",
   "execution_count": null,
   "metadata": {},
   "outputs": [],
   "source": [
    "sc.pl.umap(tildata,color=['celltype2_pub'], save='-TIL_celltype2.pdf')"
   ]
  },
  {
   "cell_type": "code",
   "execution_count": null,
   "metadata": {
    "scrolled": true
   },
   "outputs": [],
   "source": [
    "sc.pl.umap(tildata,color=['celltype1'], save='-TIL_celltype1.pdf')"
   ]
  },
  {
   "cell_type": "code",
   "execution_count": null,
   "metadata": {
    "scrolled": true
   },
   "outputs": [],
   "source": [
    "#sc.pl.umap(tildata,color=['celltype3_TIL'], save='-TIL_celltype3_TILannot.pdf')"
   ]
  },
  {
   "cell_type": "code",
   "execution_count": null,
   "metadata": {},
   "outputs": [],
   "source": [
    "### Plot the Marker genes\n",
    "\n",
    "sc.pl.umap(tildata,color=goi,save='-TIL_markers.svg')"
   ]
  },
  {
   "cell_type": "markdown",
   "metadata": {},
   "source": [
    "## Plot Heatmap of marker gene expression"
   ]
  },
  {
   "cell_type": "code",
   "execution_count": null,
   "metadata": {},
   "outputs": [],
   "source": [
    "gmt_file_anno= bescapath + '/besca/datasets/genesets/CellNames_scseqCMs6_sigs.gmt'\n",
    "\n",
    "mymarkers = bc.tl.sig.read_GMT_sign(gmt_file_anno,directed=False)\n",
    "mymarkers = bc.tl.sig.filter_siggenes(adata, my markers) ### remove genes not present in dataset or empty signatures\n"
   ]
  },
  {
   "cell_type": "code",
   "execution_count": null,
   "metadata": {},
   "outputs": [],
   "source": [
    "#mymarkers"
   ]
  },
  {
   "cell_type": "code",
   "execution_count": null,
   "metadata": {},
   "outputs": [],
   "source": [
    "### Hand-picked markers ###\n",
    "\n",
    "cDC1=['CLEC9A', 'CLNK', 'XCR1', 'ASB2', 'VAC14'][0:2]# --- should allow us to uniquely identify\n",
    "cDC2=['FCER1A', 'CD1C', 'CD1E', 'PKIB', 'CLEC10A'][0:2]# --- should allow us to uniquely identify\n",
    "TAMCx=['CXCL11', 'CXCL10', 'CXCL9'][0:2]# --- also expressed by other macrophages and sometimes DCs, but DCs will be identified by other markers\n",
    "TMid=['MARCO', 'BAG3', 'CLEC5A', 'PPARG', 'CXCL5'][0:2] #--- should allow us to uniquely identify\n",
    "TAM=['GPR34','C3', 'APOE', 'MSR1', 'F13A1'][0:2]# -- should allow us to uniquely identify\n",
    "NK=['KLRC1',  'KLRF1', 'NCR1', 'IL18RAP'][0:2]# -- should allow us to identify all NKs; if one adds SELL then the two types can be distinguished\n",
    "Tmem=['IL7R',  'KLRB1', 'AQP3','GPR183' ][0:2]\n",
    "Tc4CM=['TNFRSF4', 'TNFRSF18' ]\n",
    "macro=['FCGR1A','MRC1']\n",
    "plasma=['SDC1','TNFRSF17']\n",
    "tmo=['MGST1','S100A12', 'S100A8', 'S100A9', 'VCAN', 'CD300E', 'IL1B'][0:3]\n",
    "\n",
    "#sc.pl.dotplot(tildata,var_names=list(treg)[0:15],groupby='my_type')\n",
    "tregc=['FOXP3','RTKN2','IL2RA','LAYN']\n",
    "tcmil7=['NCR3','GRAP2','KLRG1']\n",
    "tcnai=['LEF1','FOXP1','CCR7','SELL','TCF7','IL7R']\n",
    "tc8em=['LYAR','GZMM','C12orf75','PIK3R1']\n",
    "tc8exp=['GPR171','XCL1','XCL2','TGIF1','PDCD1']\n",
    "exh=['LAG3','CD38','IFNG','ENTPD1','HAVCR2','TOX']\n",
    "cytox=['KLRD1','PRF1','GZMK','GZMB']\n",
    "cc=['TOP2A','MKI67','TCF19','STMN1','PCNA']\n",
    "bcell=['CD19','CD79A','MS4A1']\n",
    "\n",
    "dcact=['LAMP3','CLEC9A','CLEC10A','CD68','CD163','MS4A1','CD40','CD80','CD86','CD70']"
   ]
  },
  {
   "cell_type": "code",
   "execution_count": null,
   "metadata": {},
   "outputs": [],
   "source": [
    "set(adata.obs['celltype3_pub'])"
   ]
  },
  {
   "cell_type": "code",
   "execution_count": null,
   "metadata": {},
   "outputs": [],
   "source": [
    "myelobc=adata[adata.obs['celltype1'].isin(['myeloid leukocyte','lymphocyte of B lineage'])].copy()\n",
    "tnk=adata[adata.obs['celltype1'].isin(['T cell','natural killer cell'])].copy()\n",
    "cdc=adata[adata.obs['celltype3_pub'].isin(['CCR7-positive myeloid dendritic cell',\n",
    "                                          'CD1c-positive myeloid dendritic cell',\n",
    "                                           'CD141-positive myeloid dendritic cell'])].copy()"
   ]
  },
  {
   "cell_type": "markdown",
   "metadata": {},
   "source": [
    "#### B cells and Myeloids"
   ]
  },
  {
   "cell_type": "code",
   "execution_count": null,
   "metadata": {},
   "outputs": [],
   "source": [
    "cmarkers=['NaiBcell','MemBcell','GermCenterBcell','Plasma','Myeloid','cDC1','cDC2','cDC_CCR7','pDC',\n",
    "                    'NClassMonocyte','Macrophage_MARCO','Macrophage_MSR1','Macrophage_CXCL9','ClassMonocyte']"
   ]
  },
  {
   "cell_type": "code",
   "execution_count": null,
   "metadata": {},
   "outputs": [],
   "source": [
    "\n",
    "markersgoi=mymarkers['Bcell'].copy()\n",
    "for x in cmarkers:\n",
    "    markersgoi=markersgoi+mymarkers[x][0:4]"
   ]
  },
  {
   "cell_type": "code",
   "execution_count": null,
   "metadata": {},
   "outputs": [],
   "source": [
    "#markersgoi"
   ]
  },
  {
   "cell_type": "code",
   "execution_count": null,
   "metadata": {},
   "outputs": [],
   "source": [
    "import scanpy as sc\n",
    "#sc.tl.dendrogram(myelobc)\n",
    "sc.tl.dendrogram(myelobc, groupby='celltype3_pub')"
   ]
  },
  {
   "cell_type": "code",
   "execution_count": null,
   "metadata": {},
   "outputs": [],
   "source": [
    "\n",
    "#goi=bc+plasma+macro+cDC1+cDC2+TAMCx+TMid+TAM+tmo+NK+['CD3D','CD2','CD8A','CD8B','CD4']+\n",
    "#tcnai+tregc+tcmil7+Tc4CM+Tmem+tc8em+cytox+tc8exp+exh+cc\n",
    "sc.pl.dotplot(myelobc,var_names=markersgoi,groupby='celltype3_pub',dot_max=0.5,vmax=1,\n",
    "              dendrogram=True,save='-MarkerPlot-myelobc-v1.svg')"
   ]
  },
  {
   "cell_type": "code",
   "execution_count": null,
   "metadata": {},
   "outputs": [],
   "source": [
    "#sc.pl.dotplot(myelobc,var_names=markersgoi,groupby='celltype2_merged',dot_max=0.5,vmax=1,\n",
    "#              dendrogram=True,save='-MarkerPlot-myelobc-v1-celltype2.pdf')"
   ]
  },
  {
   "cell_type": "code",
   "execution_count": null,
   "metadata": {
    "scrolled": true
   },
   "outputs": [],
   "source": [
    "sc.pl.heatmap(myelobc[myelobc.obs.sample(frac=0.25).index],\n",
    "              var_names=markersgoi,standard_scale='var',\n",
    "              groupby='celltype3_pub',dendrogram=True, vmax=1,\n",
    "              figsize=(18, 22), use_raw=True,show_gene_labels=True,cmap='OrRd',\n",
    "              save='-MarkerPlot-myelobc_v2.svg')"
   ]
  },
  {
   "cell_type": "code",
   "execution_count": null,
   "metadata": {},
   "outputs": [],
   "source": [
    "#sc.pl.heatmap(myelobc[myelobc.obs.sample(frac=0.25).index],\n",
    "#              var_names=markersgoi,standard_scale='var',\n",
    "#              groupby='celltype2_merged',dendrogram=True, vmax=1,\n",
    "#              figsize=(18, 14), use_raw=True,show_gene_labels=True,cmap='OrRd',\n",
    "#              save='-MarkerPlot-myelobc_v2_celltype2.pdf')"
   ]
  },
  {
   "cell_type": "code",
   "execution_count": null,
   "metadata": {},
   "outputs": [],
   "source": [
    "#sc.pl.heatmap(adata, markers, groupby='bulk_labels', dendrogram=True, swap_axes=True)"
   ]
  },
  {
   "cell_type": "code",
   "execution_count": null,
   "metadata": {},
   "outputs": [],
   "source": [
    "### Try lymphocy separate myelo, keep all populations"
   ]
  },
  {
   "cell_type": "markdown",
   "metadata": {},
   "source": [
    "### cDCs"
   ]
  },
  {
   "cell_type": "code",
   "execution_count": null,
   "metadata": {},
   "outputs": [],
   "source": [
    "sc.pl.dotplot(cdc,var_names=dcact,groupby='celltype3_pub',dot_max=1,vmax=2,dendrogram=True)"
   ]
  },
  {
   "cell_type": "code",
   "execution_count": null,
   "metadata": {},
   "outputs": [],
   "source": [
    "sc.pl.dotplot(cdc[cdc.obs['Sample type']=='TIL'],var_names=dcact,dot_max=1,vmax=2,groupby='celltype3_pub',dendrogram=True)"
   ]
  },
  {
   "cell_type": "code",
   "execution_count": null,
   "metadata": {},
   "outputs": [],
   "source": [
    "sc.pl.dotplot(cdc[cdc.obs['Sample type']=='PBMC'],var_names=dcact,dot_max=1,vmax=2,groupby='celltype3_pub',dendrogram=True)"
   ]
  },
  {
   "cell_type": "code",
   "execution_count": null,
   "metadata": {},
   "outputs": [],
   "source": [
    "#import bbknn\n",
    "#bbknn.bbknn(tildata)\n",
    "sc.pp.neighbors(cdc)\n",
    "\n",
    "sc.tl.umap(cdc)\n",
    "\n",
    "sc.pl.umap(cdc,color=['celltype3_pub','Sample type'])"
   ]
  },
  {
   "cell_type": "code",
   "execution_count": null,
   "metadata": {},
   "outputs": [],
   "source": [
    "sc.pl.umap(cdc,color=['Sample type','PatientID'])"
   ]
  },
  {
   "cell_type": "markdown",
   "metadata": {},
   "source": [
    "#### T and NK cells"
   ]
  },
  {
   "cell_type": "code",
   "execution_count": null,
   "metadata": {},
   "outputs": [],
   "source": [
    "mymarkers.keys()"
   ]
  },
  {
   "cell_type": "code",
   "execution_count": null,
   "metadata": {},
   "outputs": [],
   "source": [
    "cmarkers=['NaiCD4Tcell','CD4Tcell','CMCD4Tcell','RegTcell','CD8Tcell_IL7Rmax','CD8Tcell','EMCD8Tcell',\n",
    "          'CytotoxCD8Tcell','ExhCD8Tcell','NKcell',\n",
    "          'CD56dimNK','CD56brightNK','ProlifCD8Tcell']\n"
   ]
  },
  {
   "cell_type": "code",
   "execution_count": null,
   "metadata": {},
   "outputs": [],
   "source": [
    "\n",
    "markersgoi=mymarkers['Tcell'].copy()\n",
    "for x in cmarkers:\n",
    "    markersgoi=markersgoi+mymarkers[x][0:4]\n",
    "\n",
    "#markersgoi\n",
    "\n",
    "import scanpy as sc\n",
    "#sc.tl.dendrogram(myelobc)\n",
    "sc.tl.dendrogram(tnk, groupby='celltype3_pub')\n"
   ]
  },
  {
   "cell_type": "code",
   "execution_count": null,
   "metadata": {},
   "outputs": [],
   "source": [
    "#markersgoi\n",
    "markersgoi=['CD3E',\n",
    " 'CD3D',\n",
    " 'CD3G',\n",
    " 'BCL11B',\n",
    " 'TRAT1',\n",
    " 'CD2',\n",
    " 'SELL',\n",
    " 'CCR7',\n",
    " 'TCF7',\n",
    " 'LEF1',\n",
    " 'CD4',\n",
    " 'TRAT1',\n",
    " 'CMTM8',\n",
    " 'PKIA',\n",
    " 'TNFRSF4',\n",
    " 'AP3M2',\n",
    " 'AQP3',\n",
    " 'FANK1',\n",
    " 'FOXP3',\n",
    " 'IL2RA',\n",
    " 'RTKN2',\n",
    " 'CXCR6',\n",
    " 'SLC4A10',\n",
    " 'IL7R',\n",
    " 'IL18RAP',\n",
    " 'CD8A',\n",
    " 'CD8B',\n",
    " 'TIGIT',\n",
    " 'GZMK',\n",
    " 'CD84',\n",
    " 'CD27',\n",
    " 'GZMH',\n",
    " 'KLRD1',\n",
    " 'FGFBP2',\n",
    " 'FCGR3A',\n",
    " 'PDCD1',\n",
    " 'HAVCR2',\n",
    " 'LAG3',\n",
    " 'CD244',\n",
    " 'SH2D1B',\n",
    " 'PTGDR',\n",
    " 'IL2RB',\n",
    " 'KLRF1',\n",
    " 'CD160',\n",
    " 'SPON2',\n",
    " 'FCGR3A',\n",
    " 'CCL4',\n",
    " 'XCL1',\n",
    " 'NCAM1',\n",
    " 'SELL',\n",
    " 'CCR7',\n",
    " 'FUT7',\n",
    " 'MKI67',\n",
    " 'PCNA',\n",
    " 'STMN1',\n",
    " 'HMGB2']"
   ]
  },
  {
   "cell_type": "code",
   "execution_count": null,
   "metadata": {},
   "outputs": [],
   "source": [
    "klrb1goi=['CD3D','CD3E','CD8A','CD8B','CD4','FOXP3','IL7R','LAG3','GZMK','GZMA','GZMB','LEF1','CCR7','CXCR3','CXCR5','TOX','TOX2','HAVCR2',\n",
    "                             'NCAM1','FCGR3A','XCL1','MKI67','KLRB1']\n",
    "sc.pl.dotplot(tnk,var_names=klrb1goi,groupby='celltype3_pub',dot_max=0.5,vmax=1,\n",
    "              dendrogram=True)\n"
   ]
  },
  {
   "cell_type": "code",
   "execution_count": null,
   "metadata": {},
   "outputs": [],
   "source": [
    "sc.pl.umap(tnk,color=['celltype3_pub'])"
   ]
  },
  {
   "cell_type": "code",
   "execution_count": null,
   "metadata": {},
   "outputs": [],
   "source": [
    "sc.pl.umap(tnk,color=['KLRB1'])"
   ]
  },
  {
   "cell_type": "code",
   "execution_count": null,
   "metadata": {
    "scrolled": true
   },
   "outputs": [],
   "source": [
    "#goi=bc+plasma+macro+cDC1+cDC2+TAMCx+TMid+TAM+tmo+NK+['CD3D','CD2','CD8A','CD8B','CD4']+\n",
    "#tcnai+tregc+tcmil7+Tc4CM+Tmem+tc8em+cytox+tc8exp+exh+cc\n",
    "sc.pl.dotplot(tnk,var_names=markersgoi,groupby='celltype3_pub',dot_max=0.5,vmax=1,\n",
    "              dendrogram=True,save='-MarkerPlot-tnk-v1.svg')\n"
   ]
  },
  {
   "cell_type": "code",
   "execution_count": null,
   "metadata": {},
   "outputs": [],
   "source": [
    "\n",
    "\n",
    "\n",
    "sc.pl.heatmap(tnk[tnk.obs.sample(frac=0.25).index],\n",
    "              var_names=markersgoi,standard_scale='var',\n",
    "              groupby='celltype3_pub',dendrogram=True, vmax=1,\n",
    "              figsize=(18, 14), use_raw=True,show_gene_labels=True,cmap='OrRd',\n",
    "              save='-MarkerPlot-tnk_v2.svg')"
   ]
  },
  {
   "cell_type": "code",
   "execution_count": null,
   "metadata": {},
   "outputs": [],
   "source": [
    "#['PRF1','GZMB']"
   ]
  },
  {
   "cell_type": "code",
   "execution_count": null,
   "metadata": {},
   "outputs": [],
   "source": []
  },
  {
   "cell_type": "code",
   "execution_count": null,
   "metadata": {},
   "outputs": [],
   "source": [
    "! jupyter nbconvert --to html Figures-part1.ipynb"
   ]
  },
  {
   "cell_type": "code",
   "execution_count": null,
   "metadata": {},
   "outputs": [],
   "source": []
  }
 ],
 "metadata": {
  "kernelspec": {
   "display_name": "besca_dev_scvelo",
   "language": "python",
   "name": "besca_dev_scvelo"
  },
  "language_info": {
   "codemirror_mode": {
    "name": "ipython",
    "version": 3
   },
   "file_extension": ".py",
   "mimetype": "text/x-python",
   "name": "python",
   "nbconvert_exporter": "python",
   "pygments_lexer": "ipython3",
   "version": "3.9.17"
  }
 },
 "nbformat": 4,
 "nbformat_minor": 2
}
