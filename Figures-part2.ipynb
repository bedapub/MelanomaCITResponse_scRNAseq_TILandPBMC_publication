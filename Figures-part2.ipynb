{
 "cells": [
  {
   "cell_type": "code",
   "execution_count": null,
   "metadata": {},
   "outputs": [],
   "source": [
    "import besca as bc\n",
    "import numpy as np\n",
    "import pandas as pd\n",
    "import scanpy as sc\n",
    "import matplotlib.pyplot as plt\n",
    "from scipy import sparse, io\n",
    "import os\n",
    "import time\n",
    "import logging\n",
    "import seaborn as sns\n",
    "from scipy.stats import fisher_exact\n",
    "sc.logging.print_versions()\n",
    "\n",
    "# for standard processing, set verbosity to minimum\n",
    "sc.settings.verbosity = 0  # verbosity: errors (0), warnings (1), info (2), hints (3)\n",
    "sc.settings.set_figure_params(dpi=80)\n",
    "version = '2.8'\n",
    "start0 = time.time()"
   ]
  },
  {
   "cell_type": "code",
   "execution_count": null,
   "metadata": {},
   "outputs": [],
   "source": [
    "### Plot parameters for publication \n",
    "def set_pub():    \n",
    "    small_size = 10\n",
    "    medium_size = 12\n",
    "    large_size = 14\n",
    "\n",
    "    resolution = 300 #in dpi\n",
    "    plt.rcParams['font.weight'] = 'normal'\n",
    "    #plt.rc('font', **{'family':'sans-serif','sans-serif':['Helvetica']})\n",
    "    plt.rc('axes', titlesize=large_size, titleweight = \"bold\")               # fontsize of the axes title\n",
    "    plt.rc('axes', labelsize=medium_size, labelweight = \"bold\")               # fontsize of the x and y labels\n",
    "    plt.rc('xtick', labelsize=small_size)               # fontsize of the tick labels\n",
    "    plt.rc('ytick', labelsize=small_size)               # fontsize of the tick labels\n",
    "    plt.rc('legend', fontsize=small_size, title_fontsize = medium_size)               # legend fontsize\n",
    "    plt.rc('figure', titlesize=large_size, titleweight = \"bold\")              # fontsize of the figure title\n",
    "    plt.rc('savefig', dpi=resolution)                   # higher res outputs\n",
    "\n",
    "    plt.rcParams['svg.fonttype'] = 'none'\n",
    "\n",
    "\n",
    "set_pub()"
   ]
  },
  {
   "cell_type": "code",
   "execution_count": null,
   "metadata": {},
   "outputs": [],
   "source": [
    "#define standardized filepaths based on above input\n",
    "root_path = os.getcwd()\n",
    "bescapath_full = os.path.dirname(bc.__file__)\n",
    "bescapath = os.path.split(bescapath_full)[0]\n",
    "\n",
    "### Uncomment this when running after the standard workflow\n",
    "analysis_name = 'sw_besca2_immune'\n",
    "\n",
    "clusters='leiden'\n"
   ]
  },
  {
   "cell_type": "code",
   "execution_count": null,
   "metadata": {},
   "outputs": [],
   "source": [
    "results_folder = os.path.join(root_path, 'analyzed', analysis_name)\n",
    "adata = sc.read_h5ad(os.path.join(results_folder, analysis_name + '.annotated.h5ad') )\n",
    "\n",
    "figdir=os.path.join(root_path, 'analyzed', analysis_name+'/figures/publication/')\n",
    "sc.settings.figdir = figdir\n",
    "if not os.path.exists(figdir):\n",
    "    os.makedirs(figdir)"
   ]
  },
  {
   "cell_type": "code",
   "execution_count": null,
   "metadata": {},
   "outputs": [],
   "source": [
    "os.path.join(results_folder, analysis_name + '.annotated.h5ad')"
   ]
  },
  {
   "cell_type": "code",
   "execution_count": null,
   "metadata": {},
   "outputs": [],
   "source": [
    "figdir"
   ]
  },
  {
   "cell_type": "markdown",
   "metadata": {},
   "source": [
    "### Adjust nomenclature "
   ]
  },
  {
   "cell_type": "code",
   "execution_count": null,
   "metadata": {},
   "outputs": [],
   "source": [
    "adata.obs['RCat']=adata.obs['Response3'].copy()\n",
    "adata.obs['RCat']=list(adata.obs['RCat'].replace('NR', 'NR_nadj'))\n",
    "adata.obs['RCat']=list(adata.obs['RCat'].replace('PD', 'NR_adj'))\n",
    "#adata.obs['RCat']=list(adata.obs['RCat'].replace('TF', 'R_adj'))\n",
    "#adata.obs['RCat']=list(adata.obs['RCat'].replace('R', 'R_nadj'))"
   ]
  },
  {
   "cell_type": "code",
   "execution_count": null,
   "metadata": {},
   "outputs": [],
   "source": [
    "#set(adata.obs['celltype3'])"
   ]
  },
  {
   "cell_type": "code",
   "execution_count": null,
   "metadata": {},
   "outputs": [],
   "source": [
    "newc=adata.obs['celltype2_merged'].copy()\n",
    "newc=newc.replace('CD4-positive, alpha-beta T cell', 'CD4-positive T cell').copy()\n",
    "newc=newc.replace('CD8-positive, alpha-beta T cell', 'CD8-positive T cell').copy()\n",
    "newc=newc.replace('lymphocyte of B lineage', 'B cell').copy()\n",
    "adata.obs['celltype2_pub']=list(newc)"
   ]
  },
  {
   "cell_type": "code",
   "execution_count": null,
   "metadata": {},
   "outputs": [],
   "source": [
    "newc=adata.obs['celltype3_merged'].copy()\n",
    "newc=newc.replace('CD4-positive, alpha-beta T cell', 'CD4-positive T cell').copy()\n",
    "newc=newc.replace('CD4-positive, alpha-beta cytotoxic T cell', 'CD4-positive, cytotoxic T cell').copy()\n",
    "newc=newc.replace('CD8-positive, alpha-beta cytotoxic T cell', 'exhausted-like CD8-positive T cell').copy()\n",
    "newc=newc.replace('central memory CD4-positive, alpha-beta T cell', 'central memory CD4-positive T cell').copy()\n",
    "newc=newc.replace('effector memory CD4-positive, alpha-beta T cell', 'effector memory CD4-positive T cell').copy()\n",
    "newc=newc.replace('effector memory CD8-positive, alpha-beta T cell', 'effector memory CD8-positive T cell').copy()\n",
    "newc=newc.replace('CD8-positive, alpha-beta cytokine secreting effector T cell', 'cytokine secreting effector CD8-positive T cell').copy()\n",
    "newc=newc.replace('lymphocyte of B lineage', 'B cell').copy()\n",
    "newc=newc.replace('naive thymus-derived CD4-positive, alpha-beta T cell', 'naive CD4-positive T cell').copy()\n",
    "newc=newc.replace('naive thymus-derived CD8-positive, alpha-beta T cell', 'naive CD8-positive T cell').copy()\n",
    "newc=newc.replace('proliferating CD8-positive, alpha-beta T cell', 'proliferating CD8-positive T cell').copy()\n",
    "newc=newc.replace('proliferating CD4-positive, alpha-beta T cell', 'proliferating CD4-positive T cell').copy()\n",
    "newc=newc.replace('IL7R-max CD4-positive, alpha-beta cytotoxic T cell', 'IL7R-max CD4-positive T cell').copy()\n",
    "newc=newc.replace('exhausted-like CD8-positive, alpha-beta T cell', 'exhausted-like CD8-positive T cell').copy()\n",
    "newc=newc.replace('exhausted-like CD4-positive, alpha-beta T cell', 'exhausted-like CD4-positive T cell').copy()\n",
    "\n",
    "adata.obs['celltype3_pub']=list(newc)"
   ]
  },
  {
   "cell_type": "code",
   "execution_count": null,
   "metadata": {},
   "outputs": [],
   "source": [
    "newc=adata.obs['celltype4_merged'].copy()\n",
    "newc=newc.replace('CD4-positive, alpha-beta T cell', 'CD4-positive T cell').copy()\n",
    "newc=newc.replace('CD4-positive, alpha-beta cytotoxic T cell', 'CD4-positive, cytotoxic T cell').copy()\n",
    "newc=newc.replace('CD8-positive, alpha-beta cytotoxic T cell', 'exhausted-like CD8-positive T cell').copy()\n",
    "newc=newc.replace('central memory CD4-positive, alpha-beta T cell', 'central memory CD4-positive T cell').copy()\n",
    "newc=newc.replace('effector memory CD4-positive, alpha-beta T cell', 'effector memory CD4-positive T cell').copy()\n",
    "newc=newc.replace('effector memory CD8-positive, alpha-beta T cell', 'effector memory CD8-positive T cell').copy()\n",
    "newc=newc.replace('CD8-positive, alpha-beta cytokine secreting effector T cell', 'cytokine secreting effector CD8-positive T cell').copy()\n",
    "newc=newc.replace('lymphocyte of B lineage', 'B cell').copy()\n",
    "newc=newc.replace('naive thymus-derived CD4-positive, alpha-beta T cell', 'naive CD4-positive T cell').copy()\n",
    "newc=newc.replace('naive thymus-derived CD8-positive, alpha-beta T cell', 'naive CD8-positive T cell').copy()\n",
    "newc=newc.replace('proliferating CD8-positive, alpha-beta T cell', 'proliferating CD8-positive T cell').copy()\n",
    "newc=newc.replace('proliferating CD4-positive, alpha-beta T cell', 'proliferating CD4-positive T cell').copy()\n",
    "newc=newc.replace('IL7R-max CD4-positive, alpha-beta cytotoxic T cell', 'IL7R-max CD4-positive T cell').copy()\n",
    "newc=newc.replace('exhausted-like CD8-positive, alpha-beta T cell', 'exhausted-like CD8-positive T cell').copy()\n",
    "newc=newc.replace('exhausted-like CD4-positive, alpha-beta T cell', 'exhausted-like CD4-positive T cell').copy()\n",
    "\n",
    "adata.obs['celltype4_pub']=list(newc)"
   ]
  },
  {
   "cell_type": "code",
   "execution_count": null,
   "metadata": {},
   "outputs": [],
   "source": [
    "#adata.write(os.path.join(results_folder, analysis_name + '.annotated.h5ad'))"
   ]
  },
  {
   "cell_type": "code",
   "execution_count": null,
   "metadata": {},
   "outputs": [],
   "source": [
    "#adata=sc.read(results_folder, analysis_name + '.annotated.h5ad')\n",
    "adata = sc.read_h5ad(os.path.join(results_folder, analysis_name + '.annotated.h5ad') )"
   ]
  },
  {
   "cell_type": "markdown",
   "metadata": {},
   "source": [
    "### Read TMB data, plot and analyse"
   ]
  },
  {
   "cell_type": "code",
   "execution_count": null,
   "metadata": {},
   "outputs": [],
   "source": [
    "### Patients 38 and 12 should be removed from R vs. NR analysis\n",
    "#ddata=ddata[ddata.obs['PatientID']!='P38'].copy() \n",
    "#ddata=ddata[ddata.obs['PatientID']!='P12'].copy() "
   ]
  },
  {
   "cell_type": "code",
   "execution_count": null,
   "metadata": {},
   "outputs": [],
   "source": [
    "tmb=pd.read_csv('/Fullanalysis//TMB.csv')"
   ]
  },
  {
   "cell_type": "code",
   "execution_count": null,
   "metadata": {},
   "outputs": [],
   "source": [
    "tmb"
   ]
  },
  {
   "cell_type": "code",
   "execution_count": null,
   "metadata": {},
   "outputs": [],
   "source": [
    "### Patients 38 and 12 are rmoved from R vs. NR analysis\n",
    "tmb=tmb.loc[~tmb['SampleID'].isin(['M38_TIL','M12_TIL','M64_TIL','M79_TIL']),:]"
   ]
  },
  {
   "cell_type": "code",
   "execution_count": null,
   "metadata": {},
   "outputs": [],
   "source": [
    "rlist=[]\n",
    "patid=[]\n",
    "ihc=[]\n",
    "gender=[]\n",
    "lesion=[]\n",
    "mutation=[]\n",
    "for myid in list(tmb['SampleID']):\n",
    "    mysub=adata[adata.obs['SampleID']==myid].copy()\n",
    "    rlist.append(list(mysub.obs['RCat'])[0])\n",
    "    patid.append(list(mysub.obs['PatientID'])[0])\n",
    "    ihc.append(list(mysub.obs['CD3IHC_RICZ'])[0])\n",
    "    gender.append(list(mysub.obs['Gender'])[0])\n",
    "    lesion.append(list(mysub.obs['Lesion'])[0])\n",
    "    mutation.append(list(mysub.obs['Mutation'])[0])"
   ]
  },
  {
   "cell_type": "code",
   "execution_count": null,
   "metadata": {},
   "outputs": [],
   "source": [
    "tmb['RCat']=rlist\n",
    "tmb['PatientID']=patid\n",
    "tmb['CD3IHC_RICZ']=ihc\n",
    "tmb['Gender']=gender\n",
    "tmb['Lesion']=lesion\n",
    "tmb['Mutation']=mutation"
   ]
  },
  {
   "cell_type": "code",
   "execution_count": null,
   "metadata": {},
   "outputs": [],
   "source": [
    "tmb['group']='PatientID'"
   ]
  },
  {
   "cell_type": "code",
   "execution_count": null,
   "metadata": {},
   "outputs": [],
   "source": [
    "tmb"
   ]
  },
  {
   "cell_type": "code",
   "execution_count": null,
   "metadata": {},
   "outputs": [],
   "source": [
    "tmb.groupby('RCat')['CD3IHC_RICZ'].value_counts()\n"
   ]
  },
  {
   "cell_type": "code",
   "execution_count": null,
   "metadata": {},
   "outputs": [],
   "source": [
    "tmb.loc[tmb['SampleID']!='M64_TIL',:].groupby('RCat')['TMB (Mts/Mb)'].median()"
   ]
  },
  {
   "cell_type": "code",
   "execution_count": null,
   "metadata": {},
   "outputs": [],
   "source": [
    "#R; TF; NR_nadj; NR_adj"
   ]
  },
  {
   "cell_type": "code",
   "execution_count": null,
   "metadata": {},
   "outputs": [],
   "source": [
    "color_dict = {'R': 'coral', 'TF': 'firebrick', 'NR_nadj': 'lightskyblue','NR_adj': 'royalblue'}"
   ]
  },
  {
   "cell_type": "code",
   "execution_count": null,
   "metadata": {},
   "outputs": [],
   "source": [
    "from scipy import stats\n",
    "import itertools\n",
    "\n",
    "totest=list(itertools.combinations(['R','TF','NR_nadj','NR_adj'], 2))\n",
    "pwilc={}\n",
    "pt={}\n",
    "for pairs in totest:\n",
    "    pwilc[pairs[0]+'-'+pairs[1]]=stats.mannwhitneyu(list(tmb.loc[tmb['RCat']==pairs[0],:]['TMB (Mts/Mb)']), \n",
    "                           list(tmb.loc[tmb['RCat']==pairs[1],:]['TMB (Mts/Mb)']))[1]\n",
    "    pt[pairs[0]+'-'+pairs[1]]=stats.ttest_ind(list(tmb.loc[tmb['RCat']==pairs[0],:]['TMB (Mts/Mb)']), \n",
    "                           list(tmb.loc[tmb['RCat']==pairs[1],:]['TMB (Mts/Mb)']))[1]"
   ]
  },
  {
   "cell_type": "code",
   "execution_count": null,
   "metadata": {},
   "outputs": [],
   "source": [
    "myps=pd.DataFrame([pwilc,pt]).transpose()\n",
    "myps.columns=['MannWhitney','T-test']"
   ]
  },
  {
   "cell_type": "code",
   "execution_count": null,
   "metadata": {},
   "outputs": [],
   "source": [
    "myps.to_csv(figdir+'Pvals-TMB.tsv',sep='\\t')"
   ]
  },
  {
   "cell_type": "code",
   "execution_count": null,
   "metadata": {},
   "outputs": [],
   "source": [
    "myps"
   ]
  },
  {
   "cell_type": "code",
   "execution_count": null,
   "metadata": {},
   "outputs": [],
   "source": [
    "fig=sns.boxplot(x='RCat',y='TMB (Mts/Mb)',data=tmb.loc[tmb['SampleID']!='M64_TIL',:],\n",
    "            palette=color_dict)\n",
    "fig=sns.swarmplot(x='RCat',y='TMB (Mts/Mb)',data=tmb.loc[tmb['SampleID']!='M64_TIL',:],\n",
    "              color='black')\n",
    "#fig.figure.savefig(figdir+'/TMB-per-response.pdf', bbox_inches=\"tight\", dpi=300) \n",
    "#fig.figure.savefig(figdir+'/TMB-per-response.eps', format='eps', bbox_inches=\"tight\", dpi=300)\n",
    "#fig.figure.savefig(figdir+'/TMB-per-response.svg', format='svg', bbox_inches=\"tight\", dpi=300)"
   ]
  },
  {
   "cell_type": "code",
   "execution_count": null,
   "metadata": {},
   "outputs": [],
   "source": [
    "tmb"
   ]
  },
  {
   "cell_type": "code",
   "execution_count": null,
   "metadata": {},
   "outputs": [],
   "source": [
    "tmb.index=tmb['PatientID']"
   ]
  },
  {
   "cell_type": "code",
   "execution_count": null,
   "metadata": {},
   "outputs": [],
   "source": [
    "tmb"
   ]
  },
  {
   "cell_type": "code",
   "execution_count": null,
   "metadata": {},
   "outputs": [],
   "source": [
    "adata=adata[adata.obs['celltype0']!='melanocytic melanoma cell'].copy()"
   ]
  },
  {
   "cell_type": "markdown",
   "metadata": {},
   "source": [
    "### Score additional signatures "
   ]
  },
  {
   "cell_type": "code",
   "execution_count": null,
   "metadata": {},
   "outputs": [],
   "source": [
    "sade={}\n",
    "sade['good']=['PLAC8', 'LTB', 'LY9', 'SELL', 'TCF7',  'CCR7','IL7R']\n",
    "sade['bad']=['CCL3', 'CD38', 'HAVCR2', 'ENTPD1', 'WARS']\n",
    "\n",
    "sc.tl.score_genes(adata,sade['good'],score_name=\"SADE_G\",use_raw=True)\n",
    "sc.tl.score_genes(adata,sade['bad'],score_name=\"SADE_B\",use_raw=True)"
   ]
  },
  {
   "cell_type": "code",
   "execution_count": null,
   "metadata": {},
   "outputs": [],
   "source": [
    "tirosh={}\n",
    "tirosh['Tnai']=['CCR7', 'TCF7', 'SELL', 'LEF1']\n",
    "tirosh['Texh']=['PDCD1', 'TIGIT', 'LAG3', 'HAVCR2', 'CTLA4']\n",
    "tirosh['Tcyt']=['NKG7', 'CCL4', 'CST7', 'PRF1', 'GZMB', 'GZMA', 'IFNG', 'CCL3']\n",
    "\n",
    "\n",
    "sc.tl.score_genes(adata,tirosh['Tnai'],score_name=\"TIR_NAI\",use_raw=True)\n",
    "sc.tl.score_genes(adata,tirosh['Texh'],score_name=\"TIR_EXH\",use_raw=True)\n",
    "sc.tl.score_genes(adata,tirosh['Tcyt'],score_name=\"TIR_CYT\",use_raw=True)\n"
   ]
  },
  {
   "cell_type": "code",
   "execution_count": null,
   "metadata": {},
   "outputs": [],
   "source": [
    "chu={}\n",
    "chu['TStr']=['HSPA1A', 'NR4A1', 'BAG3', 'HSPA1B']\n",
    "sc.tl.score_genes(adata,chu['TStr'],score_name=\"CHU_TSTR\",use_raw=True)"
   ]
  },
  {
   "cell_type": "code",
   "execution_count": null,
   "metadata": {},
   "outputs": [],
   "source": [
    "li={}\n",
    "li['NaiTcell']=['CCR7','IL7R','TCF7']\n",
    "li['MemTcell']=[ 'SELL', 'C1orf21', 'KLRB1', 'ARL4C']\n",
    "li['CD8Cyt']=['GZMH', 'GNLY', 'FGFBP2', 'CX3CR1','KLF2','TBX21', 'PLAC8', 'FGR','SPON2', 'MYBL1','ZNF683','KLRG1']\n",
    "li['CD8Dys']=['PDCD1','LAG3','TIGIT', 'CXCL13','RBPJ', 'ZBED2', 'ETV1', 'ID3', 'MAF', 'PRDM1','EOMES', 'IFNG', \n",
    "              'HAVCR2','PTMS','FAM3C','ICOS','TNFRSF4', 'CCL4L2', 'PRDM1','SPOCK2', 'CCL3', 'TOX', 'ENTPD1','ITGAE']\n",
    "li['CD8Trans']=['GZMK']\n",
    "li['CD4Treg']=['FOXP3','IKZF2','IL2RA'] #ENTPD1, ITGAE, KLRG1\n",
    "li['TExh']=['TNFRSF9', 'CSF1', 'TIGIT']\n",
    "\n",
    "sc.tl.score_genes(adata,li['NaiTcell'],score_name=\"LI_NAI\",use_raw=True)\n",
    "sc.tl.score_genes(adata,li['MemTcell'],score_name=\"LI_MEM\",use_raw=True)\n",
    "sc.tl.score_genes(adata,li['CD8Cyt'],score_name=\"LI_CYT\",use_raw=True)\n",
    "sc.tl.score_genes(adata,li['CD8Dys'],score_name=\"LI_DYS\",use_raw=True)\n",
    "sc.tl.score_genes(adata,li['CD8Trans'],score_name=\"LI_TRANS\",use_raw=True)\n",
    "sc.tl.score_genes(adata,li['TExh'],score_name=\"LI_EXH\",use_raw=True)\n"
   ]
  },
  {
   "cell_type": "code",
   "execution_count": null,
   "metadata": {},
   "outputs": [],
   "source": [
    "wu={}\n",
    "wu['CD4Tcell']=['IL6ST','CRIP1']\n",
    "wu['Teff']=['CX3CR1','GNLY', 'NKG7',  'GZMH', 'KLRD1', 'GZMB', 'PRF1', \n",
    "       'IFITM2', 'LITAF','ITGB2','GZMA','GPR56','KLRC2','GZMM','RAP1B'] ## KLRC2 is higher in Rs\n",
    "wu['TEM']=['GZMK','CCL4',   'DUSP2', 'CD74','DNAJB1','FOS','CCL3','IFNG'] ## DNAJ1, DUSP2, GZMK is higher in NRs\n",
    "wu['TRM']=['CCL4', 'XCL1',   'XCL2',   'ZNF683']\n",
    "wu['IL17']=['NCR3','KLRB1','LYAR','IL7R']\n",
    "\n",
    "sc.tl.score_genes(adata,wu['CD4Tcell'],score_name=\"WU_CD4\",use_raw=True)\n",
    "sc.tl.score_genes(adata,wu['Teff'],score_name=\"WU_TEFF\",use_raw=True)\n",
    "sc.tl.score_genes(adata,wu['TEM'],score_name=\"WU_TEM\",use_raw=True)\n",
    "sc.tl.score_genes(adata,wu['TRM'],score_name=\"WU_TRM\",use_raw=True)\n",
    "sc.tl.score_genes(adata,wu['IL17'],score_name=\"WU_IL17\",use_raw=True)"
   ]
  },
  {
   "cell_type": "code",
   "execution_count": null,
   "metadata": {},
   "outputs": [],
   "source": [
    "maier={}\n",
    "maier['aDC']=['CD80', 'CD86', 'CD40', 'RELB','CD83','CD274', 'PDCD1LG2','CD200','FAS','SOCS1','SOCS2','ALDH1A2']\n",
    "maier['cDC1']=['XCR1','CLEC9A','CADM1']\n",
    "maier['cDC2']=['ITGAM','CD209A','SIRPA'] #Itgam, Cd209a and Sirpa \n",
    "\n",
    "sc.tl.score_genes(adata,maier['aDC'],score_name=\"MA-MREGDC\",use_raw=True)\n",
    "sc.tl.score_genes(adata,maier['cDC1'],score_name=\"MA-cDC1\",use_raw=True)\n",
    "sc.tl.score_genes(adata,maier['cDC2'],score_name=\"MA-cDC2\",use_raw=True)"
   ]
  },
  {
   "cell_type": "code",
   "execution_count": null,
   "metadata": {},
   "outputs": [],
   "source": [
    "res=['S1PR5','KLRG1','SLAMF6','CXCR3','S1PR1','ITGB7','CD8A','IL7R','TCF7','PDCD1']\n",
    "sc.tl.score_genes(adata,res,score_name=\"ResCD8Tcell\",use_raw=True)\n"
   ]
  },
  {
   "cell_type": "code",
   "execution_count": null,
   "metadata": {},
   "outputs": [],
   "source": [
    "inhrec=['CD160','LAG3','CD224A','BTLA','PDCD1','HAVCR2','TIGIT','CD1010'] ## Lowe antiIl2 and anti comb compared to untreated and antiPD1\n",
    "eff=['GZMA','GZMB','LAMP1'] \n",
    "migration=['CCR2','CXCR3','CXCR4','CX3CR1','S1PR1','ITGA1','ITGA4','ITGAE','ITGB1','ITGB7','CD44','LY6C2','CXCR5']\n",
    "tf=['KLF2','LEF1','BACH2','TBX21','TCF7','AHR','BATHF','BCL6','EGR1','EGR2',\n",
    "'EOMES','FOXO1','FOXO3','IKZF2','IRF4','MAF','NFATC1','NR4A1','NR4A2','NR4A3','PRDM1','TOX','TOX2']\n"
   ]
  },
  {
   "cell_type": "code",
   "execution_count": null,
   "metadata": {},
   "outputs": [],
   "source": [
    "sc.tl.score_genes(adata,inhrec,score_name=\"INHREC\",use_raw=True)\n",
    "sc.tl.score_genes(adata,eff,score_name=\"EFF\",use_raw=True)\n",
    "sc.tl.score_genes(adata,migration,score_name=\"MIGRATION\",use_raw=True)\n",
    "sc.tl.score_genes(adata,tf,score_name=\"TF\",use_raw=True)"
   ]
  },
  {
   "cell_type": "code",
   "execution_count": null,
   "metadata": {},
   "outputs": [],
   "source": [
    "apoptosis= root_path+'/ALL_geneset_apoptosis.gmt'\n",
    "bc.tl.sig.combined_signature_score(adata, apoptosis,\n",
    "                             UP_suffix='_UP', DN_suffix='_DN', method='scanpy',\n",
    "                             overwrite=False, verbose=False,\n",
    "                             use_raw=True, conversion=None)\n",
    "#score_HALLMARK_APOPTOSIS_scanpy\n",
    "#score_APOPTOTIC_PROGRAM_scanpy\n",
    "#score_IND_OF_APOP_BY_EXCEL_SIGNALS_scanpy"
   ]
  },
  {
   "cell_type": "markdown",
   "metadata": {},
   "source": [
    "### Further read annotations from separate analyses "
   ]
  },
  {
   "cell_type": "code",
   "execution_count": null,
   "metadata": {},
   "outputs": [],
   "source": [
    "velodir=results_folder+'/velocity/'"
   ]
  },
  {
   "cell_type": "code",
   "execution_count": null,
   "metadata": {},
   "outputs": [],
   "source": [
    "velodir"
   ]
  },
  {
   "cell_type": "code",
   "execution_count": null,
   "metadata": {},
   "outputs": [],
   "source": [
    "cd4tcdata=sc.read(velodir+'Velo-subCD4TnoTregnoProlif_v2-dyn.calculatedVelo.final.h5ad')"
   ]
  },
  {
   "cell_type": "code",
   "execution_count": null,
   "metadata": {},
   "outputs": [],
   "source": [
    "#sc.pl.umap(cd4tcdata,color='celltype3_pub')"
   ]
  },
  {
   "cell_type": "code",
   "execution_count": null,
   "metadata": {},
   "outputs": [],
   "source": [
    "velodir=results_folder+'/velocity/'\n",
    "cd8tcdata=sc.read(velodir+'Velo-CD8Tcell-All-PBMCandTIL-dyn_after_terminal_initial_exclude.h5ad')\n",
    "cd8tcdata_full=sc.read(velodir+'Velo-CD8Tcell-All-PBMCandTIL-dyn_after_terminal_initial.h5ad')"
   ]
  },
  {
   "cell_type": "code",
   "execution_count": null,
   "metadata": {},
   "outputs": [],
   "source": [
    "sc.tl.score_genes(cd8tcdata_full,chu['TStr'],score_name=\"CHU_TSTR\",use_raw=True)\n",
    "\n",
    "sc.tl.score_genes(cd8tcdata_full,sade['good'],score_name=\"SADE_G\",use_raw=True)\n",
    "sc.tl.score_genes(cd8tcdata_full,sade['bad'],score_name=\"SADE_B\",use_raw=True)\n",
    "\n",
    "sc.tl.score_genes(cd8tcdata_full,tirosh['Tnai'],score_name=\"TIR_NAI\",use_raw=True)\n",
    "sc.tl.score_genes(cd8tcdata_full,tirosh['Texh'],score_name=\"TIR_EXH\",use_raw=True)\n",
    "sc.tl.score_genes(cd8tcdata_full,tirosh['Tcyt'],score_name=\"TIR_CYT\",use_raw=True)\n",
    "\n",
    "\n",
    "sc.tl.score_genes(cd8tcdata_full,li['NaiTcell'],score_name=\"LI_NAI\",use_raw=True)\n",
    "sc.tl.score_genes(cd8tcdata_full,li['MemTcell'],score_name=\"LI_MEM\",use_raw=True)\n",
    "sc.tl.score_genes(cd8tcdata_full,li['CD8Cyt'],score_name=\"LI_CYT\",use_raw=True)\n",
    "sc.tl.score_genes(cd8tcdata_full,li['CD8Dys'],score_name=\"LI_DYS\",use_raw=True)\n",
    "sc.tl.score_genes(cd8tcdata_full,li['CD8Trans'],score_name=\"LI_TRANS\",use_raw=True)\n",
    "sc.tl.score_genes(cd8tcdata_full,li['TExh'],score_name=\"LI_EXH\",use_raw=True)\n",
    "\n",
    "\n",
    "sc.tl.score_genes(cd8tcdata_full,wu['CD4Tcell'],score_name=\"WU_CD4\",use_raw=True)\n",
    "sc.tl.score_genes(cd8tcdata_full,wu['Teff'],score_name=\"WU_TEFF\",use_raw=True)\n",
    "sc.tl.score_genes(cd8tcdata_full,wu['TEM'],score_name=\"WU_TEM\",use_raw=True)\n",
    "sc.tl.score_genes(cd8tcdata_full,wu['TRM'],score_name=\"WU_TRM\",use_raw=True)\n",
    "sc.tl.score_genes(cd8tcdata_full,wu['IL17'],score_name=\"WU_IL17\",use_raw=True)\n",
    "\n",
    "sc.tl.score_genes(cd8tcdata_full,res,score_name=\"ResCD8Tcell\",use_raw=True)\n",
    "\n",
    "sc.tl.score_genes(cd8tcdata_full,inhrec,score_name=\"INHREC\",use_raw=True)\n",
    "sc.tl.score_genes(cd8tcdata_full,eff,score_name=\"EFF\",use_raw=True)\n",
    "sc.tl.score_genes(cd8tcdata_full,migration,score_name=\"MIGRATION\",use_raw=True)\n",
    "sc.tl.score_genes(cd8tcdata_full,tf,score_name=\"TF\",use_raw=True)\n",
    "\n",
    "bc.tl.sig.combined_signature_score(cd8tcdata_full, apoptosis,\n",
    "                             UP_suffix='_UP', DN_suffix='_DN', method='scanpy',\n",
    "                             overwrite=False, verbose=False,\n",
    "                             use_raw=True, conversion=None)\n",
    "#score_HALLMARK_APOPTOSIS_scanpy\n"
   ]
  },
  {
   "cell_type": "code",
   "execution_count": null,
   "metadata": {},
   "outputs": [],
   "source": [
    "apoptosissig = bc.tl.sig.read_GMT_sign(apoptosis,directed=False)"
   ]
  },
  {
   "cell_type": "code",
   "execution_count": null,
   "metadata": {},
   "outputs": [],
   "source": [
    "macrodata_full=sc.read(velodir+'Velo-MonoMacro-All-PBMCandTIL-dyn.h5ad')"
   ]
  },
  {
   "cell_type": "code",
   "execution_count": null,
   "metadata": {},
   "outputs": [],
   "source": [
    "velosubset='MonoMacro'"
   ]
  },
  {
   "cell_type": "code",
   "execution_count": null,
   "metadata": {},
   "outputs": [],
   "source": [
    "dcdata=sc.read(velodir+'Velo-DCs-All-PBMCandTIL-dyn.h5ad')\n",
    "macrodata=sc.read(velodir+'Velo-MonoMacro-All-PBMCandTIL-dyn.subsampled.origmap.h5ad')\n",
    "\n",
    "bc.tl.sig.combined_signature_score(dcdata, apoptosis,\n",
    "                             UP_suffix='_UP', DN_suffix='_DN', method='scanpy',\n",
    "                             overwrite=False, verbose=False,\n",
    "                             use_raw=True, conversion=None)\n",
    "\n",
    "bc.tl.sig.combined_signature_score(macrodata, apoptosis,\n",
    "                             UP_suffix='_UP', DN_suffix='_DN', method='scanpy',\n",
    "                             overwrite=False, verbose=False,\n",
    "                             use_raw=True, conversion=None)\n"
   ]
  },
  {
   "cell_type": "code",
   "execution_count": null,
   "metadata": {},
   "outputs": [],
   "source": [
    "sc.tl.score_genes(macrodata,inhrec,score_name=\"INHREC\",use_raw=True)\n",
    "sc.tl.score_genes(macrodata,eff,score_name=\"EFF\",use_raw=True)\n",
    "sc.tl.score_genes(macrodata,migration,score_name=\"MIGRATION\",use_raw=True)\n",
    "sc.tl.score_genes(macrodata,tf,score_name=\"TF\",use_raw=True)"
   ]
  },
  {
   "cell_type": "code",
   "execution_count": null,
   "metadata": {},
   "outputs": [],
   "source": [
    "#list(cd8tcdata.obs.columns)"
   ]
  },
  {
   "cell_type": "code",
   "execution_count": null,
   "metadata": {},
   "outputs": [],
   "source": [
    "#cd8tcdata.obs['terminal_states_probs'].sort_values()"
   ]
  },
  {
   "cell_type": "markdown",
   "metadata": {},
   "source": [
    "### Plot the UMAPs individually\n"
   ]
  },
  {
   "cell_type": "code",
   "execution_count": null,
   "metadata": {},
   "outputs": [],
   "source": [
    "tildata=adata[adata.obs['Sample type']=='TIL'].copy()\n",
    "pbmcdata=adata[adata.obs['Sample type']=='PBMC'].copy()\n",
    "\n",
    "### or read the separate analysis ###"
   ]
  },
  {
   "cell_type": "markdown",
   "metadata": {},
   "source": [
    "## Plot Heatmap of marker gene expression"
   ]
  },
  {
   "cell_type": "code",
   "execution_count": null,
   "metadata": {},
   "outputs": [],
   "source": [
    "gmt_file_anno= bescapath + '/besca/datasets/genesets/CellNames_scseqCMs6_sigs.gmt'\n",
    "\n",
    "mymarkers = bc.tl.sig.read_GMT_sign(gmt_file_anno,directed=False)\n",
    "mymarkers = bc.tl.sig.filter_siggenes(adata, mymarkers) ### remove genes not present in dataset or empty signatures\n"
   ]
  },
  {
   "cell_type": "code",
   "execution_count": null,
   "metadata": {},
   "outputs": [],
   "source": [
    "#mymarkers"
   ]
  },
  {
   "cell_type": "code",
   "execution_count": null,
   "metadata": {},
   "outputs": [],
   "source": [
    "### Hand-picked markers ###\n",
    "\n",
    "cDC1=['CLEC9A', 'CLNK', 'XCR1', 'ASB2', 'VAC14'][0:2]# --- should allow us to uniquely identify\n",
    "cDC2=['FCER1A', 'CD1C', 'CD1E', 'PKIB', 'CLEC10A'][0:2]# --- should allow us to uniquely identify\n",
    "TAMCx=['CXCL11', 'CXCL10', 'CXCL9'][0:2]# --- also expressed by other macrophages and sometimes DCs, but DCs will be identified by other markers\n",
    "TMid=['MARCO', 'BAG3', 'CLEC5A', 'PPARG', 'CXCL5'][0:2] #--- should allow us to uniquely identify\n",
    "TAM=['GPR34','C3', 'APOE', 'MSR1', 'F13A1'][0:2]# -- should allow us to uniquely identify\n",
    "NK=['KLRC1',  'KLRF1', 'NCR1', 'IL18RAP'][0:2]# -- should allow us to identify all NKs; if one adds SELL then the two types can be distinguished\n",
    "Tmem=['IL7R',  'KLRB1', 'AQP3','GPR183' ][0:2]\n",
    "Tc4CM=['TNFRSF4', 'TNFRSF18' ]\n",
    "macro=['FCGR1A','MRC1']\n",
    "plasma=['SDC1','TNFRSF17']\n",
    "tmo=['MGST1','S100A12', 'S100A8', 'S100A9', 'VCAN', 'CD300E', 'IL1B'][0:3]\n",
    "\n",
    "#sc.pl.dotplot(tildata,var_names=list(treg)[0:15],groupby='my_type')\n",
    "tregc=['FOXP3','RTKN2','IL2RA','LAYN']\n",
    "tcmil7=['NCR3','GRAP2','KLRG1']\n",
    "tcnai=['LEF1','FOXP1','CCR7','SELL','TCF7','IL7R']\n",
    "tc8em=['LYAR','GZMM','C12orf75','PIK3R1']\n",
    "tc8exp=['GPR171','XCL1','XCL2','TGIF1','PDCD1']\n",
    "exh=['LAG3','CD38','IFNG','ENTPD1','HAVCR2','TOX']\n",
    "cytox=['KLRD1','PRF1','GZMK','GZMB']\n",
    "cc=['TOP2A','MKI67','TCF19','STMN1','PCNA']\n",
    "bcell=['CD19','CD79A','MS4A1']\n",
    "\n",
    "dcact=['LAMP3','CLEC9A','CLEC10A','CD68','CD163','MS4A1','CD40','CD80','CD86','CD70']"
   ]
  },
  {
   "cell_type": "code",
   "execution_count": null,
   "metadata": {},
   "outputs": [],
   "source": [
    "set(adata.obs['celltype3_pub'])"
   ]
  },
  {
   "cell_type": "code",
   "execution_count": null,
   "metadata": {},
   "outputs": [],
   "source": [
    "myelobc=adata[adata.obs['celltype1'].isin(['myeloid leukocyte','lymphocyte of B lineage'])].copy()\n",
    "tnk=adata[adata.obs['celltype1'].isin(['T cell','natural killer cell'])].copy()\n",
    "cdc=adata[adata.obs['celltype3_pub'].isin(['CCR7-positive myeloid dendritic cell',\n",
    "                                          'CD1c-positive myeloid dendritic cell',\n",
    "                                           'CD141-positive myeloid dendritic cell'])].copy()"
   ]
  },
  {
   "cell_type": "markdown",
   "metadata": {},
   "source": [
    "#### B cells and Myeloids"
   ]
  },
  {
   "cell_type": "code",
   "execution_count": null,
   "metadata": {},
   "outputs": [],
   "source": [
    "cmarkers=['NaiBcell','MemBcell','GermCenterBcell','Plasma','Myeloid','cDC1','cDC2','cDC_CCR7','pDC',\n",
    "                    'NClassMonocyte','Macrophage_MARCO','Macrophage_MSR1','Macrophage_CXCL9','ClassMonocyte']"
   ]
  },
  {
   "cell_type": "code",
   "execution_count": null,
   "metadata": {},
   "outputs": [],
   "source": [
    "\n",
    "markersgoi=mymarkers['Bcell'].copy()\n",
    "for x in cmarkers:\n",
    "    markersgoi=markersgoi+mymarkers[x][0:4]"
   ]
  },
  {
   "cell_type": "code",
   "execution_count": null,
   "metadata": {},
   "outputs": [],
   "source": [
    "#markersgoi"
   ]
  },
  {
   "cell_type": "code",
   "execution_count": null,
   "metadata": {},
   "outputs": [],
   "source": [
    "import scanpy as sc\n",
    "#sc.tl.dendrogram(myelobc)\n",
    "sc.tl.dendrogram(myelobc, groupby='celltype3_pub')"
   ]
  },
  {
   "cell_type": "markdown",
   "metadata": {},
   "source": [
    "### Filter for future downstream analyses"
   ]
  },
  {
   "cell_type": "code",
   "execution_count": null,
   "metadata": {},
   "outputs": [],
   "source": [
    "sc.settings.set_figure_params()"
   ]
  },
  {
   "cell_type": "code",
   "execution_count": null,
   "metadata": {},
   "outputs": [],
   "source": [
    "cdata=adata.copy() #adata[adata.obs['cell_group']!='Mel'].copy()\n",
    "### output for Diff Abund analysis\n",
    "cdata=cdata[cdata.obs['experiment']!='M64_TIL'].copy() ### more dropouts\n",
    "cdata=cdata[cdata.obs['experiment']!='M67_TIL'].copy() ### more dropouts less cells\n",
    "cdata=cdata[cdata.obs['experiment']!='M79_TIL'].copy() ### higher mitochondria\n",
    "cdata=cdata[cdata.obs['experiment']!='M43_TIL'].copy() ### less cells, too shallow sequencing\n"
   ]
  },
  {
   "cell_type": "code",
   "execution_count": null,
   "metadata": {},
   "outputs": [],
   "source": [
    "sc.pl.umap(cdata, color='PatientID')"
   ]
  },
  {
   "cell_type": "code",
   "execution_count": null,
   "metadata": {},
   "outputs": [],
   "source": [
    "showallplots=False"
   ]
  },
  {
   "cell_type": "code",
   "execution_count": null,
   "metadata": {},
   "outputs": [],
   "source": [
    "if showallplots:\n",
    "    pct=bc.tl.count_occurrence_subset(cdata[cdata.obs['Sample type']=='TIL'], count_variable = 'celltype3_pub', \n",
    "                              subset_variable = 'PatientID',return_percentage=True)\n"
   ]
  },
  {
   "cell_type": "code",
   "execution_count": null,
   "metadata": {},
   "outputs": [],
   "source": [
    "if showallplots:\n",
    "    pct.transpose().plot.bar(stacked=True, figsize=(20, 10))\n",
    "    plt.legend(bbox_to_anchor=(1.0, 1.0))\n",
    "    plt.savefig(figdir+'Frequencies-per-individual-TIL.pdf', bbox_inches=\"tight\", dpi=300)\n",
    "    plt.savefig(figdir+'Frequencies-per-individual-TIL.eps', format='eps', bbox_inches=\"tight\", dpi=300)\n",
    "    plt.savefig(figdir+'Frequencies-per-individual-TIL.svg', format='svg', bbox_inches=\"tight\", dpi=300)\n",
    "    plt.show()"
   ]
  },
  {
   "cell_type": "code",
   "execution_count": null,
   "metadata": {},
   "outputs": [],
   "source": [
    "if showallplots:\n",
    "    pct=bc.tl.count_occurrence_subset(cdata[cdata.obs['Sample type']=='PBMC'], count_variable = 'celltype3_pub', \n",
    "                              subset_variable = 'PatientID',return_percentage=True)\n"
   ]
  },
  {
   "cell_type": "code",
   "execution_count": null,
   "metadata": {},
   "outputs": [],
   "source": [
    "if showallplots:\n",
    "    pct.transpose().plot.bar(stacked=True, figsize=(20, 10))\n",
    "    plt.legend(bbox_to_anchor=(1.0, 1.0))\n",
    "    plt.savefig(figdir+'Frequencies-per-individual-PBMC.pdf', bbox_inches=\"tight\", dpi=300)\n",
    "    plt.savefig(figdir+'Frequencies-per-individual-PBMC.eps', format='eps', bbox_inches=\"tight\", dpi=300)\n",
    "    plt.savefig(figdir+'Frequencies-per-individual-PBMC.svg', format='svg', bbox_inches=\"tight\", dpi=300)\n",
    "    plt.show()"
   ]
  },
  {
   "cell_type": "code",
   "execution_count": null,
   "metadata": {},
   "outputs": [],
   "source": [
    "ddata=cdata[cdata.obs['PatientID']!=38].copy()\n",
    "ddata=ddata[ddata.obs['PatientID']!=12]\n",
    "tildata=ddata[ddata.obs['Sample type']=='TIL'].copy()\n",
    "pbmcdata=ddata[ddata.obs['Sample type']=='PBMC'].copy()\n"
   ]
  },
  {
   "cell_type": "code",
   "execution_count": null,
   "metadata": {},
   "outputs": [],
   "source": [
    "### Remove patients \n",
    "pbmcdata=pbmcdata[pbmcdata.obs['PatientID']!=67]\n",
    "pbmcdata=pbmcdata[pbmcdata.obs['PatientID']!=68]\n",
    "pbmcdata=pbmcdata[pbmcdata.obs['PatientID']!=87]"
   ]
  },
  {
   "cell_type": "code",
   "execution_count": null,
   "metadata": {},
   "outputs": [],
   "source": [
    "ddata.obs['PatientID']=ddata.obs['PatientID'].cat.remove_unused_categories()\n",
    "tildata.obs['PatientID']=tildata.obs['PatientID'].cat.remove_unused_categories()\n",
    "pbmcdata.obs['PatientID']=pbmcdata.obs['PatientID'].cat.remove_unused_categories()"
   ]
  },
  {
   "cell_type": "code",
   "execution_count": null,
   "metadata": {},
   "outputs": [],
   "source": [
    "ddata.obs['PatientID']=ddata.obs['PatientID'].astype('str')\n",
    "tildata.obs['PatientID']=tildata.obs['PatientID'].astype('str')\n",
    "pbmcdata.obs['PatientID']=pbmcdata.obs['PatientID'].astype('str')"
   ]
  },
  {
   "cell_type": "code",
   "execution_count": null,
   "metadata": {},
   "outputs": [],
   "source": [
    "tildata.obs.to_csv(results_folder+ analysis_name + '_fullMeta_res2.tsv',sep='\\t')\n",
    "#### write adata.obs for further processing \n",
    "pbmcdata.obs.to_csv(results_folder+ analysis_name + '_fullMeta_PBMC_res2.tsv',sep='\\t')\n",
    "ddata.obs.to_csv(results_folder+ analysis_name + '_fullMeta_res2_all.tsv',sep='\\t')\n"
   ]
  },
  {
   "cell_type": "code",
   "execution_count": null,
   "metadata": {},
   "outputs": [],
   "source": [
    "results_folder+ analysis_name + '_fullMeta_res2.tsv'"
   ]
  },
  {
   "cell_type": "code",
   "execution_count": null,
   "metadata": {},
   "outputs": [],
   "source": [
    "forvelo=ddata[ddata.obs['experiment'].isin(list(set(tildata.obs['experiment']).union(pbmcdata.obs['experiment'])))].copy()\n"
   ]
  },
  {
   "cell_type": "code",
   "execution_count": null,
   "metadata": {},
   "outputs": [],
   "source": [
    "forvelo.write(os.path.join(results_folder, analysis_name + '.annotated.filtered.h5ad'))"
   ]
  },
  {
   "cell_type": "markdown",
   "metadata": {},
   "source": [
    "plot (ATF3, BIRC3, ANXA1), TGFb (TGIF1, PPP1R15A) and TNFa signaling (PPP1R15A,BTG3,BTG2,PLEK,TNFAIP3), for Tcdata"
   ]
  },
  {
   "cell_type": "code",
   "execution_count": null,
   "metadata": {},
   "outputs": [],
   "source": [
    "### Prepare means\n",
    "condition='RCat'\n",
    "#condlist=list(set(cdata.obs[condition]))\n",
    "condlist=['R','TF','NR_nadj','NR_adj']\n",
    "cd8_TIL=cd8tcdata[cd8tcdata.obs['Sample type'].isin(['TIL'])]\n",
    "cd8_PBMC=cd8tcdata[cd8tcdata.obs['Sample type'].isin(['PBMC'])]\n",
    "cd4_TIL=cd4tcdata[cd4tcdata.obs['Sample type'].isin(['TIL'])]"
   ]
  },
  {
   "cell_type": "code",
   "execution_count": null,
   "metadata": {},
   "outputs": [],
   "source": [
    "cd4_TIL=tildata[tildata.obs['celltype3_pub'].isin(['CD4-positive, cytotoxic T cell','IL7R-max CD4-positive T cell',\n",
    "                                                    'central memory CD4-positive T cell', 'effector memory CD4-positive T cell',\n",
    "                                                           'exhausted-like CD4-positive T cell','naive CD4-positive T cell',\n",
    "                                                            'proliferating CD4-positive T cell','regulatory T cell'])]"
   ]
  },
  {
   "cell_type": "code",
   "execution_count": null,
   "metadata": {},
   "outputs": [],
   "source": [
    "mean,fct=bc.get_means(cd4_TIL,'PatientID', condition)\n"
   ]
  },
  {
   "cell_type": "code",
   "execution_count": null,
   "metadata": {},
   "outputs": [],
   "source": [
    "### Prepare means\n",
    "condition='RCat'\n",
    "#condlist=list(set(cdata.obs[condition]))\n",
    "condlist=['R','TF','NR_nadj','NR_adj']\n",
    "\n",
    "goi=['ZNF331','TNFAIP3','ANXA1','DNAJA1','PPP1R15A','NR4A2','JUNB','SERTAD1']\n",
    "\n",
    "for myg in goi:\n",
    "    bc.pl.box_per_ind(mean, myg,\n",
    "                  condition,order=condlist) # palette=color_dict\n",
    "    #plt.savefig(figdir+'Geneplots_cd8til_'+myg+'.pdf', bbox_inches=\"tight\", dpi=300)\n",
    "    #plt.savefig(figdir+'Geneplots_cd8til_'+myg+'.eps', format='eps', bbox_inches=\"tight\", dpi=300)\n",
    "    plt.savefig(figdir+'Geneplots_cd4til_'+myg+'.svg', format='svg', bbox_inches=\"tight\", dpi=300)"
   ]
  },
  {
   "cell_type": "code",
   "execution_count": null,
   "metadata": {},
   "outputs": [],
   "source": [
    "figdir+'Geneplots_cd4til_'+myg+'.svg'"
   ]
  },
  {
   "cell_type": "code",
   "execution_count": null,
   "metadata": {},
   "outputs": [],
   "source": [
    "\n",
    "mean,fct=bc.get_means(cd8_TIL,'PatientID', condition)\n",
    "#meanmacro,fct=bc.get_means(macromacro,'PatientID', condition)\n",
    "#meanmtil,fct=bc.get_means(macro_TIL,'PatientID', condition)\n",
    "#meanmpbmc,fct=bc.get_means(macro_PBMC,'PatientID', condition)\n",
    "\n",
    "### Prepare means\n",
    "condition='RCat'\n",
    "#condlist=list(set(cdata.obs[condition]))\n",
    "condlist=['R','TF','NR_nadj','NR_adj']\n",
    "#macro_TIL=macrodata[macrodata.obs['Sample type'].isin(['TIL'])]\n",
    "#macro_PBMC=macrodata[macrodata.obs['Sample type'].isin(['PBMC'])]\n"
   ]
  },
  {
   "cell_type": "code",
   "execution_count": null,
   "metadata": {},
   "outputs": [],
   "source": [
    "\n",
    "#sc.pl.matrixplot(macromacro, var_names=goi, groupby='RCat', standard_scale='var')\n",
    "\n",
    "\n",
    "goi=['BTG2','AMICA1','KLRC2','XCL1','ATF3','BIRC3','ANXA1','TGIF1','PPP1R15A','TNFAIP3']\n",
    "\n",
    "myg=goi[5]\n"
   ]
  },
  {
   "cell_type": "code",
   "execution_count": null,
   "metadata": {},
   "outputs": [],
   "source": [
    "figdir"
   ]
  },
  {
   "cell_type": "code",
   "execution_count": null,
   "metadata": {},
   "outputs": [],
   "source": [
    "### Prepare means\n",
    "condition='RCat'\n",
    "#condlist=list(set(cdata.obs[condition]))\n",
    "condlist=['R','TF','NR_nadj','NR_adj']\n",
    "macro_TIL=macrodata[macrodata.obs['Sample type'].isin(['TIL'])]\n",
    "macro_PBMC=macrodata[macrodata.obs['Sample type'].isin(['PBMC'])]\n",
    "\n",
    "macromacro=macro_TIL[macro_TIL.obs['celltype2_pub'].isin(['macrophage'])]\n",
    "monomacro=macro_TIL[macro_TIL.obs['celltype2_pub'].isin(['classical monocyte'])]\n",
    "mean,fct=bc.get_means(monomacro,'PatientID', condition)\n",
    "meanmacro,fct=bc.get_means(macromacro,'PatientID', condition)\n",
    "meanmtil,fct=bc.get_means(macro_TIL,'PatientID', condition)\n",
    "meanmpbmc,fct=bc.get_means(macro_PBMC,'PatientID', condition)\n"
   ]
  },
  {
   "cell_type": "code",
   "execution_count": null,
   "metadata": {},
   "outputs": [],
   "source": [
    "porder=[63,72,40,86,33,91,29,87,13,34,67,68,69,83,79,82,11,43,64,77]\n",
    "pcolor=['coral','coral','coral','lightskyblue','lightskyblue','lightskyblue','lightskyblue','lightskyblue',\n",
    "                  'firebrick','firebrick','firebrick','firebrick','firebrick','firebrick','firebrick','firebrick','firebrick',\n",
    "                  'royalblue','royalblue','royalblue']\n"
   ]
  },
  {
   "cell_type": "code",
   "execution_count": null,
   "metadata": {},
   "outputs": [],
   "source": [
    "tmb.index=tmb.index.astype('str')"
   ]
  },
  {
   "cell_type": "code",
   "execution_count": null,
   "metadata": {},
   "outputs": [],
   "source": [
    "#mycol=['MITFP', 'MHC1','REGIO','CITRESUP','CITRESDN']\n",
    "pbmctest=adata[adata.obs['Sample type']=='PBMC'].copy()\n",
    "dfPatP=pd.DataFrame(pbmctest.obs.groupby(['PatientID']).mean()).copy()\n",
    "dfPatP['RCat']=[pbmctest[pbmctest.obs['PatientID']==x].obs['RCat'][0] for x in list(dfPatP.index)]\n",
    "dfPatP['Mutation']=[pbmctest[pbmctest.obs['PatientID']==x].obs['Mutation'][0] for x in list(dfPatP.index)]\n",
    "\n",
    "dfPatP['nr_cells']=list(bc.tl.count_occurrence(pbmctest,count_variable='PatientID').loc[dfPatP.index,'Counts'])\n",
    "\n",
    "dfPatP"
   ]
  },
  {
   "cell_type": "code",
   "execution_count": null,
   "metadata": {},
   "outputs": [],
   "source": [
    "dfPatP.to_csv(figdir+'ValuesPerPatient-PBMC-per-response.tsv',sep='\\t')\n"
   ]
  },
  {
   "cell_type": "code",
   "execution_count": null,
   "metadata": {},
   "outputs": [],
   "source": [
    "from matplotlib import rcParams\n",
    "rcParams['figure.figsize'] = 8,4\n",
    "sns.barplot(x=dfPatP.index,y='nr_cells',\n",
    "            data=dfPatP, order=porder, palette=pcolor)"
   ]
  },
  {
   "cell_type": "code",
   "execution_count": null,
   "metadata": {},
   "outputs": [],
   "source": [
    "matcd8=cd8tcdata_full[cd8tcdata_full.obs['celltype3_pub'].isin(['exhausted-like CD8-positive T cell','cytokine secreting effector CD8-positive T cell', 'proliferating CD8-positive T cell'])].copy()\n",
    "matcd8=matcd8[matcd8.obs['Sample type'].isin(['TIL'])].copy()\n",
    "#matcd8=matcd8[matcd8.obs['leiden']!='2'].copy()\n",
    "#matcd8=matcd8[matcd8.obs['leiden']!='4'].copy()"
   ]
  },
  {
   "cell_type": "code",
   "execution_count": null,
   "metadata": {},
   "outputs": [],
   "source": [
    "#mycol=['MITFP', 'MHC1','REGIO','CITRESUP','CITRESDN']\n",
    "dfPatcd8=pd.DataFrame(matcd8.obs.groupby(['PatientID']).mean()).copy()\n",
    "dfPatcd8['RCat']=[matcd8[matcd8.obs['PatientID']==x].obs['RCat'][0] for x in list(dfPatcd8.index)]\n",
    "dfPatcd8['Mutation']=[matcd8[matcd8.obs['PatientID']==x].obs['Mutation'][0] for x in list(dfPatcd8.index)]\n",
    "dfPatcd8['Lesion']=[matcd8[matcd8.obs['PatientID']==x].obs['Lesion'][0] for x in list(dfPatcd8.index)]\n",
    "\n",
    "dfPatcd8['nr_cells']=list(bc.tl.count_occurrence(matcd8,count_variable='PatientID').loc[dfPatcd8.index,'Counts'])\n",
    "\n",
    "dfPatcd8"
   ]
  },
  {
   "cell_type": "code",
   "execution_count": null,
   "metadata": {},
   "outputs": [],
   "source": [
    "#mycol=['MITFP', 'MHC1','REGIO','CITRESUP','CITRESDN']\n",
    "dfPat=pd.DataFrame(tildata.obs.groupby(['PatientID']).mean()).copy()\n",
    "dfPat['RCat']=[tildata[tildata.obs['PatientID']==x].obs['RCat'][0] for x in list(dfPat.index)]\n",
    "dfPat['Mutation']=[tildata[tildata.obs['PatientID']==x].obs['Mutation'][0] for x in list(dfPat.index)]\n",
    "dfPat['Lesion']=[tildata[tildata.obs['PatientID']==x].obs['Lesion'][0] for x in list(dfPat.index)]\n",
    "\n",
    "dfPat['nr_cells']=list(bc.tl.count_occurrence(tildata,count_variable='PatientID').loc[dfPat.index,'Counts'])\n",
    "\n",
    "dfPat"
   ]
  },
  {
   "cell_type": "code",
   "execution_count": null,
   "metadata": {},
   "outputs": [],
   "source": [
    "color_dict_mut = {'NRAS': 'coral', 'BRAF': 'lightskyblue'}"
   ]
  },
  {
   "cell_type": "code",
   "execution_count": null,
   "metadata": {},
   "outputs": [],
   "source": [
    "color_dict_tiss = {'LN': 'orange', 'Brain': 'blue','Subc':'red'}"
   ]
  },
  {
   "cell_type": "code",
   "execution_count": null,
   "metadata": {},
   "outputs": [],
   "source": [
    "mysigs=['score_Bcell_scanpy','score_NaiTcell_scanpy','TIR_NAI','SADE_B','SADE_G','TIR_CYT','TIR_EXH',\n",
    "            'score_CD4Tcell_scanpy','score_CytotoxCD8Tcell_scanpy','score_ClassMonocyte_scanpy',\n",
    "            'score_Myeloid_scanpy','score_cDC_scanpy','score_cDC_CCR7_scanpy','score_cDC1_scanpy',\n",
    "            'score_ExhCD8Tcell_scanpy','score_RegTcell_scanpy','score_Macrophage_scanpy'\n",
    "           ,'score_Macrophage_MSR1_scanpy' ,'score_Macrophage_MARCO_scanpy', 'MA-MREGDC','MA-cDC1','MA-cDC2',\n",
    "       'INHREC','MIGRATION','EFF','score_HALLMARK_APOPTOSIS_scanpy',\n",
    "        'score_HALLMARK_HYPOXIA_scanpy','score_HALLMARK_ANGIOGENESIS_scanpy']"
   ]
  },
  {
   "cell_type": "code",
   "execution_count": null,
   "metadata": {},
   "outputs": [],
   "source": [
    "pwilc={}\n",
    "for myx in mysigs:\n",
    "    pwilc[myx]=stats.mannwhitneyu(list(dfPat.loc[dfPat.loc[:,'Mutation'].isin(['BRAF']),myx]), \n",
    "                           list(dfPat.loc[dfPat.loc[:,'Mutation'].isin(['NRAS']),myx]))[1]\n",
    "    plt.figure(figsize=(2,3.5))\n",
    "    fig=sns.boxplot(x='Mutation',y=myx,data=dfPat.loc[dfPat.loc[:,'Mutation'].isin(['BRAF','NRAS']),:],\n",
    "            palette=color_dict_mut)\n",
    "    fig=sns.swarmplot(x='Mutation',y=myx,data=dfPat.loc[dfPat.loc[:,'Mutation'].isin(['BRAF','NRAS']),:],\n",
    "             color='black')\n",
    "    #fig.figure.savefig(figdir+'/'+myx+'-per-mutation.pdf', bbox_inches=\"tight\", dpi=300)\n",
    "    #fig.figure.savefig(figdir+'/'+myx+'-per-mutation.eps', format='eps', bbox_inches=\"tight\", dpi=300)\n",
    "    fig.figure.savefig(figdir+'/'+myx+'-per-mutation.svg', format='svg', bbox_inches=\"tight\", dpi=300)"
   ]
  },
  {
   "cell_type": "code",
   "execution_count": null,
   "metadata": {},
   "outputs": [],
   "source": [
    "pd.Series(pwilc).sort_values().to_csv(figdir+'/Signatures-per-mutation-pvals.csv')\n",
    "pd.Series(pwilc).sort_values()"
   ]
  },
  {
   "cell_type": "code",
   "execution_count": null,
   "metadata": {},
   "outputs": [],
   "source": [
    "pwilc={}\n",
    "for myx in mysigs:\n",
    "    pwilc[myx]=stats.mannwhitneyu(list(dfPat.loc[dfPat.loc[:,'Lesion'].isin(['LN']),myx]), \n",
    "                           list(dfPat.loc[dfPat.loc[:,'Lesion'].isin(['Brain','Subc']),myx]))[1]\n",
    "    plt.figure(figsize=(2,3.5))\n",
    "    fig=sns.boxplot(x='Lesion',y=myx,data=dfPat.loc[dfPat.loc[:,'Lesion'].isin(['LN','Brain','Subc']),:],\n",
    "            palette=color_dict_tiss)\n",
    "    fig=sns.swarmplot(x='Lesion',y=myx,data=dfPat.loc[dfPat.loc[:,'Lesion'].isin(['LN','Brain','Subc']),:],\n",
    "             color='black')\n",
    "    #fig.figure.savefig(figdir+'/'+myx+'-per-lesion.pdf', bbox_inches=\"tight\", dpi=300)\n",
    "    #fig.figure.savefig(figdir+'/'+myx+'-per-lesion.eps', format='eps', bbox_inches=\"tight\", dpi=300)\n",
    "    fig.figure.savefig(figdir+'/'+myx+'-per-lesion.svg', format='svg', bbox_inches=\"tight\", dpi=300)"
   ]
  },
  {
   "cell_type": "code",
   "execution_count": null,
   "metadata": {},
   "outputs": [],
   "source": [
    "pd.Series(pwilc).sort_values().to_csv(figdir+'/'+myx+'-per-lesion-pvals.csv')\n",
    "pd.Series(pwilc).sort_values()"
   ]
  },
  {
   "cell_type": "code",
   "execution_count": null,
   "metadata": {},
   "outputs": [],
   "source": [
    "pwilc={}\n",
    "for myx in mysigs:\n",
    "    pwilc[myx]=stats.mannwhitneyu(list(dfPat.loc[dfPat.loc[:,'RCat'].isin(['R','TF']),myx]), \n",
    "                           list(dfPat.loc[dfPat.loc[:,'RCat'].isin(['NR_adj','NR_nadj']),myx]))[1]\n",
    "    plt.figure(figsize=(3.5,3.5))\n",
    "    fig=sns.boxplot(x='RCat',y=myx,data=dfPat.loc[dfPat.loc[:,'RCat'].isin(['R','TF','NR_adj','NR_nadj']),:],\n",
    "            palette=color_dict,order=['R','TF','NR_nadj','NR_adj'])\n",
    "    fig=sns.swarmplot(x='RCat',y=myx,data=dfPat.loc[dfPat.loc[:,'RCat'].isin(['R','TF','NR_adj','NR_nadj']),:],\n",
    "             color='black',order=['R','TF','NR_nadj','NR_adj'])\n",
    "    #fig.figure.savefig(figdir+'/Signatures-per-response.pdf', bbox_inches=\"tight\", dpi=300)\n",
    "    #fig.figure.savefig(figdir+'/Signatures-per-response.eps', format='eps', bbox_inches=\"tight\", dpi=300)\n",
    "    fig.figure.savefig(figdir+'/Signatures-per-response.svg', format='svg', bbox_inches=\"tight\", dpi=300)"
   ]
  },
  {
   "cell_type": "code",
   "execution_count": null,
   "metadata": {},
   "outputs": [],
   "source": [
    "pd.Series(pwilc).sort_values().to_csv(figdir+'/Signatures-per-response-pvals.csv')\n",
    "pd.Series(pwilc).sort_values()"
   ]
  },
  {
   "cell_type": "code",
   "execution_count": null,
   "metadata": {},
   "outputs": [],
   "source": [
    "mysigscd8=['score_NaiTcell_scanpy','TIR_NAI','SADE_B','SADE_G','TIR_CYT','TIR_EXH',\n",
    "            'score_CytotoxCD8Tcell_scanpy',\n",
    "            'score_ExhCD8Tcell_scanpy',\n",
    "       'INHREC','MIGRATION','EFF','score_HALLMARK_APOPTOSIS_scanpy',\n",
    "          'score_HALLMARK_HYPOXIA_scanpy','score_HALLMARK_ANGIOGENESIS_scanpy']"
   ]
  },
  {
   "cell_type": "code",
   "execution_count": null,
   "metadata": {},
   "outputs": [],
   "source": [
    "pwilc={}\n",
    "for myx in mysigscd8:\n",
    "    pwilc[myx]=stats.mannwhitneyu(list(dfPatcd8.loc[dfPatcd8.loc[:,'RCat'].isin(['R','TF']),myx]), \n",
    "                           list(dfPatcd8.loc[dfPatcd8.loc[:,'RCat'].isin(['NR_adj','NR_nadj']),myx]))[1]\n",
    "    plt.figure(figsize=(3.5,3.5))\n",
    "    fig=sns.boxplot(x='RCat',y=myx,data=dfPatcd8.loc[dfPatcd8.loc[:,'RCat'].isin(['R','TF','NR_adj','NR_nadj']),:],\n",
    "            palette=color_dict,order=['R','TF','NR_nadj','NR_adj'])\n",
    "    fig=sns.swarmplot(x='RCat',y=myx,data=dfPatcd8.loc[dfPatcd8.loc[:,'RCat'].isin(['R','TF','NR_adj','NR_nadj']),:],\n",
    "             color='black',order=['R','TF','NR_nadj','NR_adj'])\n",
    "    fig.figure.savefig(figdir+'/Signatures-per-response-matureCD8-'+myx+'.pdf', bbox_inches=\"tight\", dpi=300)\n",
    "    fig.figure.savefig(figdir+'/Signatures-per-response-matureCD8-'+myx+'.eps', format='eps', bbox_inches=\"tight\", dpi=300)\n",
    "    fig.figure.savefig(figdir+'/Signatures-per-response-matureCD8-'+myx+'.svg', format='svg', bbox_inches=\"tight\", dpi=300)\n",
    "    \n",
    "pd.Series(pwilc).sort_values().to_csv(figdir+'/Signatures-per-response-matureCD8-pvals.csv')\n",
    "pd.Series(pwilc).sort_values()"
   ]
  },
  {
   "cell_type": "code",
   "execution_count": null,
   "metadata": {},
   "outputs": [],
   "source": [
    "pd.Series(pwilc).sort_values()"
   ]
  },
  {
   "cell_type": "code",
   "execution_count": null,
   "metadata": {},
   "outputs": [],
   "source": [
    "from matplotlib import rcParams\n",
    "rcParams['figure.figsize'] = 5,3\n",
    "sc.pl.violin(matcd8[matcd8.obs['leiden'].isin(['11','5','0','6'])],order=['0','6','11','5'],\n",
    "             keys='score_HALLMARK_APOPTOSIS_scanpy', groupby='leiden', save='-apoptosis-per-matCD8Tcell-leiden.svg')"
   ]
  },
  {
   "cell_type": "code",
   "execution_count": null,
   "metadata": {},
   "outputs": [],
   "source": [
    "rcParams['figure.figsize'] = 5,3\n",
    "sc.pl.violin(matcd8[matcd8.obs['leiden'].isin(['11','5','0','6'])],order=['0','6','11','5'],\n",
    "             keys='score_HALLMARK_HYPOXIA_scanpy', groupby='leiden', save='-hypoxia-per-matCD8Tcell-leiden.svg')"
   ]
  },
  {
   "cell_type": "code",
   "execution_count": null,
   "metadata": {},
   "outputs": [],
   "source": [
    "rcParams['figure.figsize'] = 5,3\n",
    "sc.pl.violin(matcd8[matcd8.obs['leiden'].isin(['11','5','0','6'])],order=['0','6','11','5'],\n",
    "             keys='score_HALLMARK_ANGIOGENESIS_scanpy', groupby='leiden', save='-angiogenesis-per-matCD8Tcell-leiden.svg')"
   ]
  },
  {
   "cell_type": "code",
   "execution_count": null,
   "metadata": {},
   "outputs": [],
   "source": [
    "rcParams['figure.figsize'] = 5,3\n",
    "sc.pl.violin(matcd8[matcd8.obs['leiden'].isin(['11','5','0','6','8','9'])],order=['8','9','0','6','11','5'],\n",
    "             keys='MIGRATION', groupby='leiden', save='-migration-per-matCD8Tcell-leiden.svg')"
   ]
  },
  {
   "cell_type": "code",
   "execution_count": null,
   "metadata": {},
   "outputs": [],
   "source": [
    "tmp=pd.DataFrame(dfPat.loc[dfPat.loc[:,'Mutation'].isin(['BRAF','NRAS']),['Lesion','Mutation']]).groupby(['Mutation','Lesion']).size().copy()\n",
    "tmp=tmp.unstack(level=0,fill_value=0).copy()\n",
    "tmp.index=list(tmp.index)"
   ]
  },
  {
   "cell_type": "code",
   "execution_count": null,
   "metadata": {},
   "outputs": [],
   "source": [
    "plt.figure(figsize=(2,3.5))\n",
    "ax=tmp.transpose().plot.bar(stacked=True,figsize=(3,4))\n",
    "ax.set_ylabel(\"Nr. patients\")\n",
    "plt.legend(loc='center left', bbox_to_anchor=(1.0, 0.5))\n",
    "plt.show()\n",
    "#ax.figure.savefig(figdir+'/Mutation-vs-Tissue.pdf', bbox_inches=\"tight\", dpi=300)\n",
    "#ax.figure.savefig(figdir+'/Mutation-vs-Tissue.eps', format='eps', bbox_inches=\"tight\", dpi=300)\n",
    "ax.figure.savefig(figdir+'/Mutation-vs-Tissue.svg', format='svg', bbox_inches=\"tight\", dpi=300)"
   ]
  },
  {
   "cell_type": "code",
   "execution_count": null,
   "metadata": {},
   "outputs": [],
   "source": [
    "tmp['BRAF']"
   ]
  },
  {
   "cell_type": "code",
   "execution_count": null,
   "metadata": {},
   "outputs": [],
   "source": [
    "tmp['NRAS']"
   ]
  },
  {
   "cell_type": "code",
   "execution_count": null,
   "metadata": {},
   "outputs": [],
   "source": []
  },
  {
   "cell_type": "code",
   "execution_count": null,
   "metadata": {},
   "outputs": [],
   "source": [
    "stats.fisher_exact([[7,3],[2,5]], alternative='two-sided') ### Difference in proportions is not significant"
   ]
  },
  {
   "cell_type": "code",
   "execution_count": null,
   "metadata": {},
   "outputs": [],
   "source": [
    "tmp=pd.DataFrame(dfPat.loc[dfPat.loc[:,'Mutation'].isin(['BRAF','NRAS']),['RCat','Mutation']]).groupby(['Mutation','RCat']).size().copy()\n",
    "tmp=tmp.unstack(level=0,fill_value=0).copy()\n",
    "tmp.index=list(tmp.index)"
   ]
  },
  {
   "cell_type": "code",
   "execution_count": null,
   "metadata": {},
   "outputs": [],
   "source": [
    "plt.figure(figsize=(2,3.5))\n",
    "ax=tmp.transpose().plot.bar(stacked=True,figsize=(3,4))\n",
    "ax.set_ylabel(\"Nr. patients\")\n",
    "plt.legend(loc='center left', bbox_to_anchor=(1.0, 0.5))\n",
    "plt.show()\n",
    "#ax.figure.savefig(figdir+'/Mutation-vs-Response.pdf', bbox_inches=\"tight\", dpi=300)\n",
    "#ax.figure.savefig(figdir+'/Mutation-vs-Response.eps', format='eps', bbox_inches=\"tight\", dpi=300)\n",
    "ax.figure.savefig(figdir+'/Mutation-vs-Response.svg', format='svg', bbox_inches=\"tight\", dpi=300)"
   ]
  },
  {
   "cell_type": "code",
   "execution_count": null,
   "metadata": {},
   "outputs": [],
   "source": [
    "dfPat_out=pd.concat([tmb.drop(columns=['RCat','Lesion','Mutation']),dfPat],axis=1)\n",
    "dfPat_out.to_csv(figdir+'ValuesPerPatient-TILs-per-response_TMB.tsv',sep='\\t')"
   ]
  },
  {
   "cell_type": "code",
   "execution_count": null,
   "metadata": {},
   "outputs": [],
   "source": [
    "dfPat.to_csv(figdir+'ValuesPerPatient-TILs-per-response.tsv',sep='\\t')\n"
   ]
  },
  {
   "cell_type": "code",
   "execution_count": null,
   "metadata": {},
   "outputs": [],
   "source": [
    "dfPat.loc[:,['RCat','Lesion']]"
   ]
  },
  {
   "cell_type": "code",
   "execution_count": null,
   "metadata": {},
   "outputs": [],
   "source": [
    "tmp=pd.DataFrame(dfPat.loc[:,['RCat','Lesion']]).groupby(['RCat','Lesion']).size().copy()\n",
    "tmp=tmp.unstack(level=0,fill_value=0).copy()\n",
    "tmp.index=list(tmp.index)"
   ]
  },
  {
   "cell_type": "code",
   "execution_count": null,
   "metadata": {},
   "outputs": [],
   "source": [
    "plt.figure(figsize=(2,3.5))\n",
    "ax=tmp.transpose().plot.bar(stacked=True,figsize=(3,4))\n",
    "ax.set_ylabel(\"Nr. patients\")\n",
    "plt.legend(loc='center left', bbox_to_anchor=(1.0, 0.5))\n",
    "plt.show()\n",
    "#ax.figure.savefig(figdir+'/Lesion-vs-Response.pdf', bbox_inches=\"tight\", dpi=300)\n",
    "#ax.figure.savefig(figdir+'/Lesion-vs-Response.eps', format='eps', bbox_inches=\"tight\", dpi=300)\n",
    "ax.figure.savefig(figdir+'/Lesion-vs-Response.svg', format='svg', bbox_inches=\"tight\", dpi=300)"
   ]
  },
  {
   "cell_type": "code",
   "execution_count": null,
   "metadata": {},
   "outputs": [],
   "source": [
    "color_dict = {'R': 'coral', 'TF': 'firebrick', 'NR_nadj': 'lightskyblue','NR_adj': 'royalblue'}\n",
    "\n",
    "dfPat.loc[:,['score_Bcell_scanpy','score_Tcells_scanpy']].corr(method='pearson')\n",
    "\n"
   ]
  },
  {
   "cell_type": "code",
   "execution_count": null,
   "metadata": {},
   "outputs": [],
   "source": [
    "dfPat.loc[:,['score_Bcell_scanpy','score_Myeloid_scanpy']].corr(method='pearson')\n"
   ]
  },
  {
   "cell_type": "code",
   "execution_count": null,
   "metadata": {},
   "outputs": [],
   "source": [
    "dfPat.loc[:,['score_Bcell_scanpy','score_Plasma_scanpy']].corr(method='pearson')\n"
   ]
  },
  {
   "cell_type": "code",
   "execution_count": null,
   "metadata": {},
   "outputs": [],
   "source": [
    "dfPat.loc[:,['score_Bcell_scanpy','score_cDC_CCR7_scanpy']].corr(method='pearson')\n"
   ]
  },
  {
   "cell_type": "code",
   "execution_count": null,
   "metadata": {},
   "outputs": [],
   "source": [
    "dfPat.loc[:,['score_Bcell_scanpy','score_cDC1_scanpy']].corr(method='pearson')\n"
   ]
  },
  {
   "cell_type": "code",
   "execution_count": null,
   "metadata": {},
   "outputs": [],
   "source": [
    "dfPat.loc[:,['score_Bcell_scanpy','score_cDC2_scanpy']].corr(method='pearson')\n"
   ]
  },
  {
   "cell_type": "code",
   "execution_count": null,
   "metadata": {},
   "outputs": [],
   "source": [
    "dfPat.loc[:,['score_Bcell_scanpy','score_CD4_scanpy']].corr(method='pearson')\n"
   ]
  },
  {
   "cell_type": "code",
   "execution_count": null,
   "metadata": {},
   "outputs": [],
   "source": [
    "dfPat.loc[:,['score_Bcell_scanpy','score_CD8_scanpy']].corr(method='pearson')\n"
   ]
  },
  {
   "cell_type": "code",
   "execution_count": null,
   "metadata": {},
   "outputs": [],
   "source": [
    "dfPat.loc[:,['score_Bcell_scanpy','score_ExhCD8Tcell_scanpy']].corr(method='pearson')\n"
   ]
  },
  {
   "cell_type": "code",
   "execution_count": null,
   "metadata": {},
   "outputs": [],
   "source": [
    "dfPat=dfPat.loc[:,~dfPat.columns.duplicated()]"
   ]
  },
  {
   "cell_type": "code",
   "execution_count": null,
   "metadata": {},
   "outputs": [],
   "source": [
    "dfPat_out=dfPat_out.loc[:,~dfPat_out.columns.duplicated()]"
   ]
  },
  {
   "cell_type": "code",
   "execution_count": null,
   "metadata": {},
   "outputs": [],
   "source": [
    "dfPat_out"
   ]
  },
  {
   "cell_type": "code",
   "execution_count": null,
   "metadata": {},
   "outputs": [],
   "source": [
    "dfPat"
   ]
  },
  {
   "cell_type": "code",
   "execution_count": null,
   "metadata": {},
   "outputs": [],
   "source": [
    "rcParams['figure.figsize'] = 5,5\n",
    "sns.scatterplot(x='score_Bcell_scanpy',y='score_CD8_scanpy',hue='RCat',data=dfPat,\n",
    "                hue_order=['R','TF','NR_adj','NR_nadj'],\n",
    "               palette=color_dict).set_title('pp')\n",
    "plt.legend(bbox_to_anchor=(1.05, 1.05),borderaxespad=0.5)\n",
    "plt.tight_layout()\n",
    "for i in range(len(dfPat.index)):\n",
    " plt.text(x=dfPat.reset_index().score_Bcell_scanpy[i],y=dfPat.reset_index().score_CD8_scanpy[i],s=dfPat.index[i], \n",
    "          fontdict=dict(color='black',size=10)) #bbox=dict(facecolor='gray',alpha=0.2)\n",
    "#ax.figure.savefig(figdir+'/Bcell_vs_CD8_Response.pdf', bbox_inches=\"tight\", dpi=300)\n",
    "#ax.figure.savefig(figdir+'/Bcell_vs_CD8_Response.eps', format='eps', bbox_inches=\"tight\", dpi=300)\n",
    "ax.figure.savefig(figdir+'/Bcell_vs_CD8_Response.svg', format='svg', bbox_inches=\"tight\", dpi=300)"
   ]
  },
  {
   "cell_type": "code",
   "execution_count": null,
   "metadata": {},
   "outputs": [],
   "source": [
    "rcParams['figure.figsize'] = 5,5\n",
    "sns.scatterplot(x='score_Bcell_scanpy',y='score_ExhCD8Tcell_scanpy',hue='RCat',data=dfPat,\n",
    "                hue_order=['R','TF','NR_adj','NR_nadj'],\n",
    "               palette=color_dict).set_title('pp')\n",
    "plt.legend(bbox_to_anchor=(1.05, 1.05),borderaxespad=0.5)\n",
    "plt.tight_layout()\n",
    "for i in range(len(dfPat.index)):\n",
    " plt.text(x=dfPat.reset_index().score_Bcell_scanpy[i],y=dfPat.reset_index().score_ExhCD8Tcell_scanpy[i],s=dfPat.index[i], \n",
    "          fontdict=dict(color='black',size=10)) #bbox=dict(facecolor='gray',alpha=0.2)\n",
    "#ax.figure.savefig(figdir+'/Bcell_vs_ExhCD8_Response.pdf', bbox_inches=\"tight\", dpi=300)\n",
    "#ax.figure.savefig(figdir+'/Bcell_vs_ExhCD8_Response.eps', format='eps', bbox_inches=\"tight\", dpi=300)\n",
    "ax.figure.savefig(figdir+'/Bcell_vs_ExhCD8_Response.svg', format='svg', bbox_inches=\"tight\", dpi=300)"
   ]
  },
  {
   "cell_type": "code",
   "execution_count": null,
   "metadata": {},
   "outputs": [],
   "source": [
    "rcParams['figure.figsize'] = 5,5\n",
    "sns.scatterplot(x='score_Bcell_scanpy',y='score_ExhCD8Tcell_scanpy',hue='Lesion',data=dfPat).set_title('pp')\n",
    "plt.legend(bbox_to_anchor=(1.05, 1.05),borderaxespad=0.5)\n",
    "plt.tight_layout()\n",
    "for i in range(len(dfPat.index)):\n",
    " plt.text(x=dfPat.reset_index().score_Bcell_scanpy[i],y=dfPat.reset_index().score_ExhCD8Tcell_scanpy[i],s=dfPat.index[i], \n",
    "          fontdict=dict(color='black',size=10)) #bbox=dict(facecolor='gray',alpha=0.2)\n",
    "#ax.figure.savefig(figdir+'/Bcell_vs_ExhCD8_Lesion.pdf', bbox_inches=\"tight\", dpi=300)\n",
    "#ax.figure.savefig(figdir+'/Bcell_vs_ExhCD8_Lesion.eps', format='eps', bbox_inches=\"tight\", dpi=300)\n",
    "ax.figure.savefig(figdir+'/Bcell_vs_ExhCD8_Lesion.svg', format='svg', bbox_inches=\"tight\", dpi=300)"
   ]
  },
  {
   "cell_type": "code",
   "execution_count": null,
   "metadata": {},
   "outputs": [],
   "source": [
    "rcParams['figure.figsize'] = 5,5\n",
    "sns.scatterplot(x='score_Bcell_scanpy',y='score_ExhCD8Tcell_scanpy',hue='Mutation',data=dfPat).set_title('pp')\n",
    "plt.legend(bbox_to_anchor=(1.05, 1.05),borderaxespad=0.5)\n",
    "plt.tight_layout()\n",
    "for i in range(len(dfPat.index)):\n",
    " plt.text(x=dfPat.reset_index().score_Bcell_scanpy[i],y=dfPat.reset_index().score_ExhCD8Tcell_scanpy[i],s=dfPat.index[i], \n",
    "          fontdict=dict(color='black',size=10)) #bbox=dict(facecolor='gray',alpha=0.2)\n",
    "#ax.figure.savefig(figdir+'/Bcell_vs_ExhCD8_Mutation.pdf', bbox_inches=\"tight\", dpi=300)\n",
    "#ax.figure.savefig(figdir+'/Bcell_vs_ExhCD8_Mutation.eps', format='eps', bbox_inches=\"tight\", dpi=300)\n",
    "ax.figure.savefig(figdir+'/Bcell_vs_ExhCD8_Mutation.svg', format='svg', bbox_inches=\"tight\", dpi=300)"
   ]
  },
  {
   "cell_type": "code",
   "execution_count": null,
   "metadata": {},
   "outputs": [],
   "source": [
    "rcParams['figure.figsize'] = 7,5\n",
    "sns.scatterplot(x='score_Bcell_scanpy',y='score_cDC_CCR7_scanpy',hue='RCat',data=dfPat,\n",
    "                hue_order=['R','TF','NR_adj','NR_nadj'],\n",
    "               palette=color_dict).set_title('pp')\n",
    "plt.legend(bbox_to_anchor=(1.05, 1.05),borderaxespad=0.5)\n",
    "plt.tight_layout()\n",
    "for i in range(len(dfPat.index)):\n",
    " plt.text(x=dfPat.reset_index().score_Bcell_scanpy[i],y=dfPat.reset_index().score_cDC_CCR7_scanpy[i],s=dfPat.index[i], \n",
    "          fontdict=dict(color='black',size=10)) #bbox=dict(facecolor='gray',alpha=0.2)\n",
    "#ax.figure.savefig(figdir+'/Bcell_vs_aDC_Response.pdf', bbox_inches=\"tight\", dpi=300)\n",
    "#ax.figure.savefig(figdir+'/Bcell_vs_aDC_Response.eps', format='eps', bbox_inches=\"tight\", dpi=300)\n",
    "ax.figure.savefig(figdir+'/Bcell_vs_aDC_Response.svg', format='svg', bbox_inches=\"tight\", dpi=300)"
   ]
  },
  {
   "cell_type": "code",
   "execution_count": null,
   "metadata": {},
   "outputs": [],
   "source": [
    "rcParams['figure.figsize'] = 7,5\n",
    "sns.scatterplot(x='score_Bcell_scanpy',y='score_cDC_CCR7_scanpy',hue='Mutation',data=dfPat).set_title('pp')\n",
    "plt.legend(bbox_to_anchor=(1.05, 1.05),borderaxespad=0.5)\n",
    "plt.tight_layout()\n",
    "for i in range(len(dfPat.index)):\n",
    " plt.text(x=dfPat.reset_index().score_Bcell_scanpy[i],y=dfPat.reset_index().score_cDC_CCR7_scanpy[i],s=dfPat.index[i], \n",
    "          fontdict=dict(color='black',size=10)) #bbox=dict(facecolor='gray',alpha=0.2)\n",
    "#ax.figure.savefig(figdir+'/Bcell_vs_aDC_Mutation.pdf', bbox_inches=\"tight\", dpi=300)\n",
    "#ax.figure.savefig(figdir+'/Bcell_vs_aDC_Mutation.eps', format='eps', bbox_inches=\"tight\", dpi=300)\n",
    "ax.figure.savefig(figdir+'/Bcell_vs_aDC_Mutation.svg', format='svg', bbox_inches=\"tight\", dpi=300)"
   ]
  },
  {
   "cell_type": "code",
   "execution_count": null,
   "metadata": {},
   "outputs": [],
   "source": [
    "rcParams['figure.figsize'] = 7,5\n",
    "sns.scatterplot(x='score_Bcell_scanpy',y='score_cDC_CCR7_scanpy',hue='Lesion',data=dfPat).set_title('pp')\n",
    "plt.legend(bbox_to_anchor=(1.05, 1.05),borderaxespad=0.5)\n",
    "plt.tight_layout()\n",
    "for i in range(len(dfPat.index)):\n",
    " plt.text(x=dfPat.reset_index().score_Bcell_scanpy[i],y=dfPat.reset_index().score_cDC_CCR7_scanpy[i],s=dfPat.index[i], \n",
    "          fontdict=dict(color='black',size=10)) #bbox=dict(facecolor='gray',alpha=0.2)\n",
    "#ax.figure.savefig(figdir+'/Bcell_vs_aDC_Lesion.pdf', bbox_inches=\"tight\", dpi=300)\n",
    "#ax.figure.savefig(figdir+'/Bcell_vs_aDC_Lesion.eps', format='eps', bbox_inches=\"tight\", dpi=300)\n",
    "ax.figure.savefig(figdir+'/Bcell_vs_aDC_Lesion.svg', format='svg', bbox_inches=\"tight\", dpi=300)"
   ]
  },
  {
   "cell_type": "code",
   "execution_count": null,
   "metadata": {},
   "outputs": [],
   "source": [
    "sc.settings.set_figure_params()"
   ]
  },
  {
   "cell_type": "code",
   "execution_count": null,
   "metadata": {},
   "outputs": [],
   "source": [
    "sc.pl.umap(tildata, color=['score_ExhCD8Tcell_scanpy','score_Bcell_scanpy','score_cDC_CCR7_scanpy'])"
   ]
  },
  {
   "cell_type": "code",
   "execution_count": null,
   "metadata": {},
   "outputs": [],
   "source": [
    "dfPat"
   ]
  },
  {
   "cell_type": "code",
   "execution_count": null,
   "metadata": {
    "scrolled": true
   },
   "outputs": [],
   "source": [
    "rcParams['figure.figsize'] = 8,4\n",
    "fig=sns.barplot(x=dfPat.index,y='nr_cells',\n",
    "            data=dfPat, order=[str(x) for x in porder], palette=pcolor)\n",
    "fig.figure.savefig(figdir+'/Cells-per-patient.svg', format='svg', bbox_inches=\"tight\", dpi=300)"
   ]
  },
  {
   "cell_type": "markdown",
   "metadata": {},
   "source": [
    "#### Read pseudobulk analysis and perform pathway enrichment plots "
   ]
  },
  {
   "cell_type": "code",
   "execution_count": null,
   "metadata": {},
   "outputs": [],
   "source": [
    "camera_in=pd.read_csv(results_folder+'/DE/edgeR_analyzes/result_mut_celltype2_pub-all/edgeR_output-mut/geneset-analysis/camera-results.txt', sep='\\t')"
   ]
  },
  {
   "cell_type": "code",
   "execution_count": null,
   "metadata": {},
   "outputs": [],
   "source": [
    "camera_in=camera_in.loc[camera_in['Namespace']=='user',:]\n",
    "camera_in=camera_in.loc[camera_in['FDR.cor0.01']<0.05,:]\n",
    "#camera_in=camera_in.loc[np.abs(camera_in['EffectSize'])>=2,:]\n",
    "camera_in=camera_in.loc[np.abs(camera_in['NGenes'])>3,:]\n",
    "camera_in.index=camera_in['GeneSet']\n",
    "camera_in"
   ]
  },
  {
   "cell_type": "code",
   "execution_count": null,
   "metadata": {},
   "outputs": [],
   "source": [
    "plt.figure(figsize=(0.75,6))\n",
    "sns.set(font_scale=0.8)\n",
    "fig=sns_plot=sns.heatmap(pd.DataFrame(camera_in['Score.cor0.01'].sort_values(ascending=False)),center=0.00,\n",
    "                     cmap=sns.diverging_palette(220, 20, as_cmap=True), vmax=5, vmin=-5)\n",
    "fig = sns_plot.get_figure()\n",
    "fig.savefig(figdir+'Pseudobulk-mutation-signatureenrichment.pdf', bbox_inches=\"tight\", dpi=300)\n",
    "fig.savefig(figdir+'/Pseudobulk-mutation-signatureenrichment.eps', format='eps', bbox_inches=\"tight\", dpi=300)\n",
    "fig.savefig(figdir+'/Pseudobulk-mutation-signatureenrichment.svg', format='svg', bbox_inches=\"tight\", dpi=300)"
   ]
  },
  {
   "cell_type": "code",
   "execution_count": null,
   "metadata": {},
   "outputs": [],
   "source": [
    "camera_in=pd.read_csv(results_folder+'/DE/edgeR_analyzes/result_lesion_celltype2_pub-all/edgeR_output-lesion/geneset-analysis/camera-results.txt', sep='\\t')\n",
    "camera_in=camera_in.loc[camera_in['Namespace']=='user',:]\n",
    "camera_in=camera_in.loc[np.abs(camera_in['NGenes'])>3,:]\n",
    "camera_in"
   ]
  },
  {
   "cell_type": "code",
   "execution_count": null,
   "metadata": {},
   "outputs": [],
   "source": [
    "camera_in_lnbr=camera_in.loc[camera_in['Contrast']=='LN_vs_Brain',:]\n",
    "camera_in_subcbr=camera_in.loc[camera_in['Contrast']=='Subc_vs_Brain',:]\n",
    "camera_in_subcln=camera_in.loc[camera_in['Contrast']=='Subc_vs_LN',:]"
   ]
  },
  {
   "cell_type": "code",
   "execution_count": null,
   "metadata": {},
   "outputs": [],
   "source": [
    "camera_in_lnbr.index=camera_in_lnbr['GeneSet']\n",
    "camera_in_subcbr.index=camera_in_subcbr['GeneSet']\n",
    "camera_in_subcln.index=camera_in_subcln['GeneSet']"
   ]
  },
  {
   "cell_type": "code",
   "execution_count": null,
   "metadata": {},
   "outputs": [],
   "source": [
    "camera_in_subcln"
   ]
  },
  {
   "cell_type": "code",
   "execution_count": null,
   "metadata": {},
   "outputs": [],
   "source": [
    "toplot=list(set(camera_in_lnbr.loc[camera_in_lnbr['FDR.cor0.01']<0.05,'GeneSet']).union(set(camera_in_subcbr.loc[camera_in_subcbr['FDR.cor0.01']<0.05,'GeneSet'])).union(set(camera_in_subcln.loc[camera_in_subcln['FDR.cor0.01']<0.05,'GeneSet'])))\n",
    "toplot2=list(set(camera_in_lnbr.loc[np.abs(camera_in_lnbr['Score.cor0.01'])>=2,'GeneSet']).union(set(camera_in_subcbr.loc[np.abs(camera_in_subcbr['Score.cor0.01'])>=2,'GeneSet'])).union(set(camera_in_subcln.loc[np.abs(camera_in_subcln['Score.cor0.01'])>=2,'GeneSet'])))\n",
    "toplot=list(set(toplot).intersection(set(toplot2))-set(['MelMelanoma_sc']))\n",
    "toplot"
   ]
  },
  {
   "cell_type": "code",
   "execution_count": null,
   "metadata": {},
   "outputs": [],
   "source": [
    "mergedpd=pd.concat([camera_in_lnbr.loc[toplot,'Score.cor0.01'],camera_in_subcln.loc[toplot,'Score.cor0.01']*(-1),camera_in_subcbr.loc[toplot,'Score.cor0.01']*(-1)], axis=1)"
   ]
  },
  {
   "cell_type": "code",
   "execution_count": null,
   "metadata": {},
   "outputs": [],
   "source": [
    "mergedpd.columns=['LN_vs_Brain','LN_vs_Subc','Brain_vs_Subc']"
   ]
  },
  {
   "cell_type": "code",
   "execution_count": null,
   "metadata": {},
   "outputs": [],
   "source": [
    "#camera_in=camera_in.loc[camera_in['FDR.cor0.01']<0.05,:]\n",
    "#camera_in=camera_in.loc[np.abs(camera_in['EffectSize'])>=2,:]\n",
    "\n",
    "#camera_in.index=camera_in['GeneSet']\n",
    "mergedpd.sort_values('LN_vs_Brain')"
   ]
  },
  {
   "cell_type": "code",
   "execution_count": null,
   "metadata": {},
   "outputs": [],
   "source": [
    "plt.figure(figsize=(3,8))\n",
    "sns.set(font_scale=0.8)\n",
    "sns_plot=sns.heatmap(mergedpd.sort_values('LN_vs_Brain'),center=0.00,\n",
    "                     cmap=sns.diverging_palette(220, 20, as_cmap=True), vmax=5, vmin=-5)\n",
    "fig = sns_plot.get_figure()\n",
    "fig.savefig(figdir+'Pseudobulk-lesion-signatureenrichment.pdf', bbox_inches=\"tight\", dpi=300)\n",
    "fig.savefig(figdir+'/Pseudobulk-lesion-signatureenrichment.eps', format='eps', bbox_inches=\"tight\", dpi=300)\n",
    "fig.savefig(figdir+'/Pseudobulk-lesion-signatureenrichment.svg', format='svg', bbox_inches=\"tight\", dpi=300)"
   ]
  },
  {
   "cell_type": "markdown",
   "metadata": {},
   "source": [
    "### CellPhoneDB analysis\n"
   ]
  },
  {
   "cell_type": "code",
   "execution_count": null,
   "metadata": {},
   "outputs": [],
   "source": [
    "### Read in the Tumor data as well and write for cellphonedb analysis "
   ]
  },
  {
   "cell_type": "code",
   "execution_count": null,
   "metadata": {},
   "outputs": [],
   "source": [
    "allcells=tildata.copy()\n"
   ]
  },
  {
   "cell_type": "code",
   "execution_count": null,
   "metadata": {},
   "outputs": [],
   "source": [
    "### write for cellphoneDB\n",
    "mypatients=list(set(tildata.obs['PatientID']))"
   ]
  },
  {
   "cell_type": "code",
   "execution_count": null,
   "metadata": {},
   "outputs": [],
   "source": [
    "for x in mypatients:\n",
    "    p11=tildata[tildata.obs['PatientID']==x].copy()\n",
    "    mymeta=pd.DataFrame([list(p11.obs.index),list(p11.obs['celltype3_pub'])]).transpose()\n",
    "    mymeta.columns=['Cell','cell_type'] #Cell\tcell_type\n",
    "    mymeta.index=mymeta['Cell']\n",
    "    mymeta=mymeta.drop(columns='Cell')\n",
    "    mysub=x\n",
    "    mymeta.to_csv(results_folder+'/cellphonedb/counts/CellphoneDBmeta_'+mysub+'.txt', sep='\\t')\n",
    "\n",
    "    myvals=pd.DataFrame(p11.raw.X.todense())\n",
    "    myvals.columns=p11.raw.var['ENSEMBL']\n",
    "    myvals.index=p11.obs.index\n",
    "\n",
    "    myvals.transpose().to_csv(results_folder+'/cellphonedb/counts/CellphoneDBvals_'+mysub+'.txt', sep='\\t')\n",
    "\n",
    "    results_folder+'/CellphoneDBvals_'+mysub+'.csv'"
   ]
  },
  {
   "cell_type": "code",
   "execution_count": null,
   "metadata": {},
   "outputs": [],
   "source": [
    "sc.pl.umap(tildata, color='PatientID')"
   ]
  },
  {
   "cell_type": "markdown",
   "metadata": {},
   "source": [
    "#### Read and process data"
   ]
  },
  {
   "cell_type": "code",
   "execution_count": null,
   "metadata": {},
   "outputs": [],
   "source": [
    "mypatients=['11','13','29','33','34','40','43','63','64','67','68','69','72','82','86','91']"
   ]
  },
  {
   "cell_type": "code",
   "execution_count": null,
   "metadata": {},
   "outputs": [],
   "source": [
    "allna={}\n",
    "allpd1={}\n",
    "dfsum=pd.DataFrame()\n",
    "dfsumpd1=pd.DataFrame()\n",
    "cdc1nknai=pd.DataFrame()\n",
    "cdc1nkcyt=pd.DataFrame()\n",
    "cdc1tc8exp=pd.DataFrame()\n",
    "cdc1tc8exh=pd.DataFrame()\n",
    "cdc1tc8ccex=pd.DataFrame()\n",
    "cdc1tc8em=pd.DataFrame()\n",
    "cdc1tctr=pd.DataFrame()\n",
    "cdc1tc4nai=pd.DataFrame()\n",
    "resp=[]\n",
    "ofc='CCR7-positive myeloid dendritic cell'\n",
    "for x in mypatients:\n",
    "    df=pd.read_csv(results_folder+'/cellphonedb/out_'+x+'/significant_means.txt',sep='\\t')\n",
    "    df.index=df.iloc[:,1]\n",
    "    tocomp=['CD141-positive myeloid dendritic cell|CD56-bright cytokine secreting natural killer cell',\n",
    "           'CD141-positive myeloid dendritic cell|cytokine secreting effector CD8-positive T cell',\n",
    "           'CD141-positive myeloid dendritic cell|proliferating CD8-positive T cell',\n",
    "            'CD141-positive myeloid dendritic cell|proliferating CD4-positive T cell',\n",
    "           'CCR7-positive myeloid dendritic cell|proliferating CD4-positive T cell',\n",
    "            'CCR7-positive myeloid dendritic cell|exhausted-like CD8-positive T cell',\n",
    "            'CCR7-positive myeloid dendritic cell|proliferating CD8-positive T cell',\n",
    "            'CCR7-positive myeloid dendritic cell|CD56-bright cytokine secreting natural killer cell',\n",
    "           'CD1c-positive myeloid dendritic cell|proliferating CD4-positive T cell',\n",
    "           'effector memory CD4-positive T cell|CCR7-positive myeloid dendritic cell',\n",
    "           'exhausted-like CD4-positive T cell|CCR7-positive myeloid dendritic cell',\n",
    "            'exhausted-like CD8-positive T cell|CCR7-positive myeloid dendritic cell',\n",
    "           'proliferating CD8-positive T cell|CCR7-positive myeloid dendritic cell',\n",
    "           'proliferating CD4-positive T cell|CCR7-positive myeloid dendritic cell']\n",
    "    exists=[str(ofc+'|CD56-bright cytokine secreting natural killer cell'),\n",
    "           str(ofc+'|cytotoxic CD56-dim natural killer cell'),\n",
    "           str(ofc+'|cytokine secreting effector CD8-positive T cell'),\n",
    "           str(ofc+'|exhausted-like CD8-positive T cell'),\n",
    "           str(ofc+'|proliferating CD8-positive T cell'),\n",
    "           str(ofc+'|regulatory T cell'),\n",
    "           str(ofc+'|effector memory CD8-positive T cell'),\n",
    "           str(ofc+'|naive CD4-positive T cell')]\n",
    "    for y in list(set(exists)-set(df.columns)):\n",
    "        df[y]=np.nan\n",
    "    for y in list(set(tocomp)-set(df.columns)):\n",
    "        df[y]=np.nan\n",
    "    dft=df.transpose().copy()\n",
    "    for y in list(set(['XCR1_XCL1','PDCD1_CD274'])-set(dft.columns)):\n",
    "        dft[y]=np.nan\n",
    "    df=dft.transpose().copy()\n",
    "    allna[x]=df.loc[df.index.str.match('PDCD1_CD274'),:].iloc[0,12:len(df.columns)].dropna()\n",
    "    allpd1[x]=df.loc[df.index.str.match('XCR1_XCL1'),:].iloc[0,12:len(df.columns)].dropna()\n",
    "    dfsum=pd.concat([dfsum,df.loc[df.index.str.match('XCR1_XCL1'),tocomp]])\n",
    "    dfsumpd1=pd.concat([dfsumpd1,df.loc[df.index.str.match('PDCD1_CD274'),tocomp]])\n",
    "    resp.append(list(set(tildata[tildata.obs['PatientID'].astype(str)==x].obs['RCat']))[0])\n",
    "    #cdc1nknai=cdc1nknai.drop_duplicates(inplace=True,axis=1)\n",
    "    cdc1nknai=cdc1nknai.join(df.loc[:,str(ofc+'|CD56-bright cytokine secreting natural killer cell')],how='outer',rsuffix=x)\n",
    "    cdc1nkcyt=cdc1nkcyt.join(df.loc[:,str(ofc+'|cytotoxic CD56-dim natural killer cell')],how='outer',rsuffix=x)\n",
    "    cdc1tc8exp=cdc1tc8exp.join(df.loc[:,str(ofc+'|cytokine secreting effector CD8-positive T cell')],how='outer',rsuffix=x)\n",
    "    cdc1tc8exh=cdc1tc8exh.join(df.loc[:,str(ofc+'|exhausted-like CD8-positive T cell')],how='outer',rsuffix=x)\n",
    "    cdc1tc8ccex=cdc1tc8ccex.join(df.loc[:,str(ofc+'|proliferating CD8-positive T cell')],how='outer',rsuffix=x)\n",
    "    cdc1tctr=cdc1tctr.join(df.loc[:,str(ofc+'|regulatory T cell')],how='outer',rsuffix=x)\n",
    "    cdc1tc8em=cdc1tc8em.join(df.loc[:,str(ofc+'|effector memory CD8-positive T cell')],how='outer',rsuffix=x)\n",
    "    cdc1tc4nai=cdc1tc4nai.join(df.loc[:,str(ofc+'|naive CD4-positive T cell')],how='outer',rsuffix=x)\n",
    "dfsum.index=mypatients"
   ]
  },
  {
   "cell_type": "code",
   "execution_count": null,
   "metadata": {},
   "outputs": [],
   "source": [
    "cellsoi=['CD56-bright cytokine secreting natural killer cell','effector memory CD8-positive T cell']\n",
    "toinclude=['XCR1_XCL1','PDCD1_CD274','CD40_CD40LG',\n",
    "           'PDCD1_PDCD1LG2','PDCD1_CD274','LGALS9_HAVCR2','CD27_CD70','CD80_CD274','CD28_CD80']\n",
    "\n",
    "def getcella(cellsoi, ofc='CD141-positive myeloid dendritic cell', toinclude=['XCR1_XCL1','PDCD1_CD274'], \n",
    "             mypath='/cellphonedb/'):\n",
    "    cdc1coi={}\n",
    "    for i in cellsoi:\n",
    "        cdc1coi[i]=pd.DataFrame()\n",
    "    for x in mypatients:\n",
    "        df=pd.read_csv(results_folder+mypath+'/out_'+x+'/significant_means.txt',sep='\\t')\n",
    "        df.index=df.iloc[:,1]\n",
    "        exists=[str(ofc+'|'+x) for x in cdc1coi]\n",
    "        for y in list(set(exists)-set(df.columns)):\n",
    "            df[y]=np.nan\n",
    "        dft=df.transpose().copy()\n",
    "        for y in list(set(toinclude)-set(dft.columns)):\n",
    "            dft[y]=np.nan\n",
    "        df=dft.transpose().copy()\n",
    "        for i in cellsoi:\n",
    "            cdc1coi[i]=cdc1coi[i].join(df.loc[:,str(ofc+'|'+i)],how='outer',rsuffix=x)\n",
    "    for i in cellsoi:\n",
    "        cdc1coi[i].columns=mypatients\n",
    "    return(cdc1coi)"
   ]
  },
  {
   "cell_type": "code",
   "execution_count": null,
   "metadata": {},
   "outputs": [],
   "source": [
    "def getcellb(cellsoi, ofc='CD141-positive myeloid dendritic cell', toinclude=['XCL1_XCR1','CD274_PDCD1'],\n",
    "            mypath='/cellphonedb/'):\n",
    "    cdc1coi={}\n",
    "    for i in cellsoi:\n",
    "        cdc1coi[i]=pd.DataFrame()\n",
    "    for x in mypatients:\n",
    "        df=pd.read_csv(results_folder+mypath+'/out_'+x+'/significant_means.txt',sep='\\t')\n",
    "        df.index=df.iloc[:,1]\n",
    "        exists=[str(x+'|'+ofc) for x in cdc1coi]\n",
    "        for y in list(set(exists)-set(df.columns)):\n",
    "            df[y]=np.nan\n",
    "        dft=df.transpose().copy()\n",
    "        for y in list(set(toinclude)-set(dft.columns)):\n",
    "            dft[y]=np.nan\n",
    "        df=dft.transpose().copy()\n",
    "        for i in cellsoi:\n",
    "            cdc1coi[i]=cdc1coi[i].join(df.loc[:,str(i+'|'+ofc)],how='outer',rsuffix=x)\n",
    "    for i in cellsoi:\n",
    "        cdc1coi[i].columns=mypatients\n",
    "    return(cdc1coi)"
   ]
  },
  {
   "cell_type": "code",
   "execution_count": null,
   "metadata": {},
   "outputs": [],
   "source": [
    "def gettopinteract(cellsoi, cdc1_interact, minfraction,patchoice):\n",
    "    topcdc1=set()\n",
    "    for i in cellsoi:\n",
    "        temp=cdc1_interact[i].loc[:,patchoice]\n",
    "        toptemp=temp.apply(lambda x: len(x.dropna()),axis=1).sort_values()/len(patchoice)\n",
    "        toptemp=toptemp[toptemp>minfraction]\n",
    "\n",
    "        #plt.figure(figsize=(12,6))\n",
    "        #toptemp.plot.bar(color='gray')\n",
    "        topcdc1=topcdc1.union(set(list(toptemp.index)))\n",
    "    return(list(topcdc1))"
   ]
  },
  {
   "cell_type": "code",
   "execution_count": null,
   "metadata": {},
   "outputs": [],
   "source": [
    "results_folder"
   ]
  },
  {
   "cell_type": "markdown",
   "metadata": {},
   "source": [
    "#### Focus on individual cell types  "
   ]
  },
  {
   "cell_type": "code",
   "execution_count": null,
   "metadata": {},
   "outputs": [],
   "source": [
    "#### Get genes that are enriched in a specific cell type\n",
    "topDE=bc.tl.dge.get_de(tildata,'celltype3_pub',topnr=5000, logfc=np.log(1.5),padj=0.1)"
   ]
  },
  {
   "cell_type": "code",
   "execution_count": null,
   "metadata": {},
   "outputs": [],
   "source": [
    "#mypatients=['11','34','68','82','83','86','91']\n",
    "mypatients=['11','13','29','33','34','40','43','63','64','67','68','69','72','77','82','83','86','87','91']\n"
   ]
  },
  {
   "cell_type": "code",
   "execution_count": null,
   "metadata": {},
   "outputs": [],
   "source": [
    "#topDEmut=bc.tl.dge.get_de(tildata,'celltype3_pub',topnr=5000, logfc=np.log(1.5),padj=0.1)"
   ]
  },
  {
   "cell_type": "code",
   "execution_count": null,
   "metadata": {},
   "outputs": [],
   "source": [
    "#dfPatP"
   ]
  },
  {
   "cell_type": "code",
   "execution_count": null,
   "metadata": {},
   "outputs": [],
   "source": [
    "rpatients=list(set([str(x) for x in list(dfPatP.loc[dfPatP['RCat'].isin(['R','TF']),:].index)]).intersection(set(mypatients)))\n",
    "nrpatients=list(set([str(x) for x in list(dfPatP.loc[dfPatP['RCat'].isin(['NR_nadj','NR_adj']),:].index)]).intersection(set(mypatients)))"
   ]
  },
  {
   "cell_type": "code",
   "execution_count": null,
   "metadata": {},
   "outputs": [],
   "source": [
    "brafpatients=list(set([str(x) for x in list(dfPatP.loc[dfPatP['Mutation'].isin(['BRAF']),:].index)]).intersection(set(mypatients)))\n",
    "nraspatients=list(set([str(x) for x in list(dfPatP.loc[dfPatP['Mutation'].isin(['NRAS']),:].index)]).intersection(set(mypatients)))"
   ]
  },
  {
   "cell_type": "code",
   "execution_count": null,
   "metadata": {},
   "outputs": [],
   "source": [
    "rpatients"
   ]
  },
  {
   "cell_type": "code",
   "execution_count": null,
   "metadata": {},
   "outputs": [],
   "source": [
    "nrpatients"
   ]
  },
  {
   "cell_type": "code",
   "execution_count": null,
   "metadata": {},
   "outputs": [],
   "source": [
    "brafpatients"
   ]
  },
  {
   "cell_type": "code",
   "execution_count": null,
   "metadata": {},
   "outputs": [],
   "source": [
    "nraspatients"
   ]
  },
  {
   "cell_type": "code",
   "execution_count": null,
   "metadata": {},
   "outputs": [],
   "source": [
    "ofc='CD141-positive myeloid dendritic cell'\n",
    "#ofc='melanocytic melanoma cell'\n",
    "#ofc='CD141-positive myeloid dendritic cell'\n",
    "#ofc='CCR7-positive myeloid dendritic cell'\n",
    "#ofc='CD1c-positive myeloid dendritic cell'\n",
    "#ofc='CD4-positive, cytotoxic T cell'\n",
    "#ofc='cytokine secreting effector CD8-positive T cell'\n",
    "#ofc='effector memory CD8-positive T cell'\n",
    "\n",
    "#ofc='classical monocyte'\n",
    "#ofc='melanocytic melanoma cell'\n",
    "#ofc='CXCL9-positive macrophage'\n",
    "#ofc='MARCO-positive macrophage'\n",
    "#ofc='MSR1-positive macrophage'\n",
    "#ofc='exhausted-like CD8-positive T cell'\n",
    "\n",
    "#cellsoi=list(set(allcells.obs['celltype3_pub'])) #-set([ofc]))\n",
    "cellsoi=list(set(tildata.obs['celltype3_pub'])) # with or without self-interaction -set([ofc]))\n",
    "#cdc1_interact=getcella(cellsoi,ofc, toinclude,'/cellphonedb/allcells/')"
   ]
  },
  {
   "cell_type": "code",
   "execution_count": null,
   "metadata": {},
   "outputs": [],
   "source": [
    "list(set(tildata.obs['celltype3_pub']))"
   ]
  },
  {
   "cell_type": "code",
   "execution_count": null,
   "metadata": {},
   "outputs": [],
   "source": [
    "### Only look at specific interactions - myeloids vs. CD8 T cells\n",
    "cellsoi=[\n",
    "       'cytokine secreting effector CD8-positive T cell',\n",
    "       'CD56-bright cytokine secreting natural killer cell',\n",
    "       'effector memory CD8-positive T cell',  'proliferating CD8-positive T cell',\n",
    "       'exhausted-like CD8-positive T cell',  'naive CD8-positive T cell',\n",
    "       'mature NK T cell', \n",
    "       'cytotoxic CD56-dim natural killer cell', \n",
    "       'proliferating NK cell','regulatory T cell', \n",
    "    'CD4-positive, cytotoxic T cell','naive CD4-positive T cell','proliferating CD4-positive T cell',\n",
    " 'effector memory CD4-positive T cell','IL7R-max CD4-positive T cell','exhausted-like CD4-positive T cell']"
   ]
  },
  {
   "cell_type": "code",
   "execution_count": null,
   "metadata": {},
   "outputs": [],
   "source": [
    "cellsoi=[\n",
    " 'MSR1-positive macrophage',\n",
    " 'CD141-positive myeloid dendritic cell',\n",
    " 'MARCO-positive macrophage',\n",
    " 'non-classical monocyte',\n",
    " 'immature conventional dendritic cell',\n",
    " 'CD1c-positive myeloid dendritic cell',\n",
    " 'CCR7-positive myeloid dendritic cell',\n",
    " 'classical monocyte',\n",
    " 'CXCL9-positive macrophage',\n",
    " 'macrophage',\n",
    " 'plasmacytoid dendritic cell']"
   ]
  },
  {
   "cell_type": "markdown",
   "metadata": {},
   "source": [
    "Read in all the interactions per cell type of interest vs. all other cell types into a dictionary; keys are cell types, values is a dataframe with patients as columns and interactions as rows "
   ]
  },
  {
   "cell_type": "code",
   "execution_count": null,
   "metadata": {},
   "outputs": [],
   "source": [
    "cdc1_interact=getcella(cellsoi,ofc, toinclude,'/cellphonedb/')\n"
   ]
  },
  {
   "cell_type": "code",
   "execution_count": null,
   "metadata": {},
   "outputs": [],
   "source": [
    "#cdc1_interact_rev=getcellb(cellsoi,ofc, toinclude,'/cellphonedb/allcells/')\n",
    "cdc1_interact_rev=getcellb(cellsoi,ofc, toinclude,'/cellphonedb/')"
   ]
  },
  {
   "cell_type": "code",
   "execution_count": null,
   "metadata": {},
   "outputs": [],
   "source": [
    "#cdc1_interact_rev['exhausted-like CD8-positive T cell']['11'].sort_values(ascending=False)[0:20]"
   ]
  },
  {
   "cell_type": "code",
   "execution_count": null,
   "metadata": {},
   "outputs": [],
   "source": [
    "cdc1_interact['exhausted-like CD8-positive T cell']['11'].sort_values(ascending=False)[0:20]"
   ]
  },
  {
   "cell_type": "code",
   "execution_count": null,
   "metadata": {},
   "outputs": [],
   "source": [
    "topcut=1\n",
    "topcdc1=gettopinteract(cellsoi, cdc1_interact, topcut,mypatients)\n",
    "topcdc1_rev=gettopinteract(cellsoi, cdc1_interact_rev, topcut,mypatients)\n"
   ]
  },
  {
   "cell_type": "code",
   "execution_count": null,
   "metadata": {},
   "outputs": [],
   "source": [
    "#topcdc1_ronly=gettopinteract(cellsoi, cdc1_interact, topcut,rpatients)\n",
    "#topcdc1_nronly=gettopinteract(cellsoi, cdc1_interact, topcut,nrpatients)"
   ]
  },
  {
   "cell_type": "code",
   "execution_count": null,
   "metadata": {},
   "outputs": [],
   "source": [
    "#cdc1_interact['proliferating CD4-positive T cell']"
   ]
  },
  {
   "cell_type": "code",
   "execution_count": null,
   "metadata": {},
   "outputs": [],
   "source": [
    "#cdc1_interact['proliferating CD4-positive T cell'].loc[cdc1_interact['proliferating CD4-positive T cell'].sum(axis=1)>0,:]"
   ]
  },
  {
   "cell_type": "code",
   "execution_count": null,
   "metadata": {},
   "outputs": [],
   "source": [
    "def prep_tables(cdc1_interact,rpatients,nrpatients,mypcut=0.3):\n",
    "    #mypcut=0.3\n",
    "\n",
    "    cdc1tab=pd.concat([v.apply(lambda x: len(x.dropna()),axis=1) for v in cdc1_interact.values()],axis=1)\n",
    "    cdc1tab.columns=list(cdc1_interact.keys())\n",
    "    cdc1tab=cdc1tab.loc[cdc1tab.apply(lambda x: x.sum(),axis=1)>1,:]\n",
    "\n",
    "    cdc1tabr=pd.concat([v.loc[:,rpatients].apply(lambda x: len(x.dropna()),axis=1) for v in cdc1_interact.values()],axis=1)\n",
    "    cdc1tabr.columns=list(cdc1_interact.keys())\n",
    "    cdc1tabr=cdc1tabr.loc[cdc1tab.index,:]\n",
    "\n",
    "    cdc1tabnr=pd.concat([v.loc[:,nrpatients].apply(lambda x: len(x.dropna()),axis=1) for v in cdc1_interact.values()],axis=1)\n",
    "    cdc1tabnr.columns=list(cdc1_interact.keys())\n",
    "    cdc1tabnr=cdc1tabnr.loc[cdc1tab.index,:]\n",
    "\n",
    "    totest=set(cdc1tabr.loc[cdc1tabr.apply(lambda x: x.sum(),axis=1)>=len(rpatients)/2,:].index).union(set(cdc1tabnr.loc[cdc1tabnr.apply(lambda x: x.sum(),axis=1)>=len(nrpatients)/2,:].index))\n",
    "    myps={}\n",
    "    for x in list(totest):\n",
    "        celltest=list(cdc1tabr.loc[x,:][cdc1tabr.loc[x,:]+cdc1tabnr.loc[x,:]>=min([len(rpatients)/2,len(nrpatients)/2])].index)\n",
    "        for y in celltest:\n",
    "            myps[x+'|'+y]=fisher_exact(np.array([[cdc1tabr.loc[x,y],len(rpatients)],[cdc1tabnr.loc[x,y],len(nrpatients)]]))[1]\n",
    "        \n",
    "    selected=list(set([x.split('|')[0] for x in list(pd.Series(myps)[pd.Series(myps)<=mypcut].sort_values().index)]))\n",
    "    toreturn=[cdc1tab,cdc1tabr,cdc1tabnr,selected,pd.Series(myps)]\n",
    "    return(toreturn)\n",
    "\n"
   ]
  },
  {
   "cell_type": "code",
   "execution_count": null,
   "metadata": {},
   "outputs": [],
   "source": [
    "cellsoi"
   ]
  },
  {
   "cell_type": "markdown",
   "metadata": {},
   "source": [
    "Transform into a table with nr of significant interactions per cell type, keep only interactions detected in at least two patients (any cell type of interest)."
   ]
  },
  {
   "cell_type": "code",
   "execution_count": null,
   "metadata": {},
   "outputs": [],
   "source": [
    "[cdc1tab,cdc1tabr,cdc1tabnr,selected,myps]=prep_tables(cdc1_interact,rpatients,nrpatients,0.3)\n"
   ]
  },
  {
   "cell_type": "code",
   "execution_count": null,
   "metadata": {},
   "outputs": [],
   "source": [
    "[cdc1tab2,cdc1tabbraf,cdc1tabnras,selected2,myps2]=prep_tables(cdc1_interact,brafpatients,nraspatients,0.3)"
   ]
  },
  {
   "cell_type": "code",
   "execution_count": null,
   "metadata": {},
   "outputs": [],
   "source": [
    "[cdc1tab_rev,cdc1tabr_rev,cdc1tabnr_rev,selected_rev,myps_rev]=prep_tables(cdc1_interact_rev,rpatients,nrpatients,0.3)\n",
    "#cdc1tab_rev=pd.concat([v.apply(lambda x: len(x.dropna()),axis=1) for v in cdc1_interact_rev.values()],axis=1)/len(mypatients)\n",
    "#cdc1tab_rev.columns=list(cdc1_interact_rev.keys())\n"
   ]
  },
  {
   "cell_type": "code",
   "execution_count": null,
   "metadata": {},
   "outputs": [],
   "source": [
    "[cdc1tab_rev2,cdc1tabbraf_rev,cdc1tabnras_rev,selected_rev2,myps_rev2]=prep_tables(cdc1_interact_rev,brafpatients,nraspatients,0.3)\n"
   ]
  },
  {
   "cell_type": "code",
   "execution_count": null,
   "metadata": {},
   "outputs": [],
   "source": [
    "cdc1tabr"
   ]
  },
  {
   "cell_type": "code",
   "execution_count": null,
   "metadata": {},
   "outputs": [],
   "source": [
    "pd.Series(myps)[pd.Series(myps)<=0.3].sort_values().to_csv(figdir+'/CellphoneDB-'+ofc.replace(\" \", \"_\")+'_pvals_fisher.csv', sep='\\t')\n",
    "pd.Series(myps)[pd.Series(myps)<=0.3].sort_values()"
   ]
  },
  {
   "cell_type": "code",
   "execution_count": null,
   "metadata": {},
   "outputs": [],
   "source": [
    "pd.Series(myps2)[pd.Series(myps2)<=0.3].sort_values().to_csv(figdir+'/CellphoneDB-'+ofc.replace(\" \", \"_\")+'_pvals_fisher_mutations.csv', sep='\\t')\n",
    "pd.Series(myps2)[pd.Series(myps2)<=0.3].sort_values()"
   ]
  },
  {
   "cell_type": "code",
   "execution_count": null,
   "metadata": {},
   "outputs": [],
   "source": [
    "pd.Series(myps_rev)[pd.Series(myps_rev)<=0.3].sort_values().to_csv(figdir+'/CellphoneDB-'+ofc.replace(\" \", \"_\")+'_rev_pvals_fisher.csv', sep='\\t')\n",
    "pd.Series(myps_rev)[pd.Series(myps_rev)<=0.3].sort_values()"
   ]
  },
  {
   "cell_type": "code",
   "execution_count": null,
   "metadata": {},
   "outputs": [],
   "source": [
    "pd.Series(myps_rev2)[pd.Series(myps_rev2)<=0.3].sort_values().to_csv(figdir+'/CellphoneDB-'+ofc.replace(\" \", \"_\")+'_rev_pvals_fisher_mutations.csv', sep='\\t')\n",
    "pd.Series(myps_rev2)[pd.Series(myps_rev2)<=0.3].sort_values()"
   ]
  },
  {
   "cell_type": "code",
   "execution_count": null,
   "metadata": {},
   "outputs": [],
   "source": [
    "cdc1tab=cdc1tab/len(mypatients)\n",
    "cdc1tabr=cdc1tabr/len(rpatients)\n",
    "cdc1tabnr=cdc1tabnr/len(nrpatients)\n",
    "\n",
    "cdc1tab_rev=cdc1tab_rev/len(mypatients)\n",
    "cdc1tabr_rev=cdc1tabr_rev/len(rpatients)\n",
    "cdc1tabnr_rev=cdc1tabnr_rev/len(nrpatients)\n",
    "\n",
    "cdc1tabbraf=cdc1tabr/len(brafpatients)\n",
    "cdc1tabnras=cdc1tabnr/len(nraspatients)\n",
    "\n",
    "cdc1tabbraf_rev=cdc1tabbraf_rev/len(brafpatients)\n",
    "cdc1tabnras_rev=cdc1tabnras_rev/len(nraspatients)"
   ]
  },
  {
   "cell_type": "code",
   "execution_count": null,
   "metadata": {},
   "outputs": [],
   "source": [
    "cdc1tab.loc[cdc1tab.apply(lambda x: x.sum(),axis=1)>0,:].to_csv(figdir+'/CellphoneDB-'+ofc.replace(\" \", \"_\")+'_maxsum_1.csv', sep='\\t')\n",
    "cdc1tab_rev.loc[cdc1tab_rev.apply(lambda x: x.sum(),axis=1)>0,:].to_csv(figdir+'/CellphoneDB-'+ofc.replace(\" \", \"_\")+'_rev_maxsum_1.csv', sep='\\t')"
   ]
  },
  {
   "cell_type": "code",
   "execution_count": null,
   "metadata": {},
   "outputs": [],
   "source": [
    "#cdc1tab_rev.loc['XCR1_XCL1',:].sort_values()"
   ]
  },
  {
   "cell_type": "code",
   "execution_count": null,
   "metadata": {},
   "outputs": [],
   "source": [
    "#cdc1tab.loc['XCR1_XCL1',:].sort_values()"
   ]
  },
  {
   "cell_type": "markdown",
   "metadata": {},
   "source": [
    "#### Retain only those expressed relatively highly in celltype of interest"
   ]
  },
  {
   "cell_type": "code",
   "execution_count": null,
   "metadata": {},
   "outputs": [],
   "source": [
    "selected"
   ]
  },
  {
   "cell_type": "code",
   "execution_count": null,
   "metadata": {},
   "outputs": [],
   "source": [
    "selected2"
   ]
  },
  {
   "cell_type": "code",
   "execution_count": null,
   "metadata": {},
   "outputs": [],
   "source": [
    "selected_rev"
   ]
  },
  {
   "cell_type": "code",
   "execution_count": null,
   "metadata": {},
   "outputs": [],
   "source": [
    "selected_rev2"
   ]
  },
  {
   "cell_type": "code",
   "execution_count": null,
   "metadata": {},
   "outputs": [],
   "source": [
    "specgenes=set(topDE[ofc].sort_values('Log2FC', ascending=False)['Name']).intersection(set([x.split(\"_\")[0] for x in selected]))"
   ]
  },
  {
   "cell_type": "code",
   "execution_count": null,
   "metadata": {},
   "outputs": [],
   "source": [
    "specgenesmut=set(topDE[ofc].sort_values('Log2FC', ascending=False)['Name']).intersection(set([x.split(\"_\")[0] for x in selected2]))"
   ]
  },
  {
   "cell_type": "code",
   "execution_count": null,
   "metadata": {},
   "outputs": [],
   "source": [
    "specgenes_rev=set(topDE[ofc].sort_values('Log2FC', ascending=False)['Name']).intersection(set([x.split(\"_\")[1] for x in selected_rev]))"
   ]
  },
  {
   "cell_type": "code",
   "execution_count": null,
   "metadata": {},
   "outputs": [],
   "source": [
    "specgenes_rev_mut=set(topDE[ofc].sort_values('Log2FC', ascending=False)['Name']).intersection(set([x.split(\"_\")[1] for x in selected_rev2]))"
   ]
  },
  {
   "cell_type": "code",
   "execution_count": null,
   "metadata": {},
   "outputs": [],
   "source": [
    "specgenes"
   ]
  },
  {
   "cell_type": "code",
   "execution_count": null,
   "metadata": {},
   "outputs": [],
   "source": [
    "specgenesmut"
   ]
  },
  {
   "cell_type": "code",
   "execution_count": null,
   "metadata": {},
   "outputs": [],
   "source": [
    "specgenes_rev"
   ]
  },
  {
   "cell_type": "code",
   "execution_count": null,
   "metadata": {},
   "outputs": [],
   "source": [
    "specgenes_rev_mut"
   ]
  },
  {
   "cell_type": "code",
   "execution_count": null,
   "metadata": {},
   "outputs": [],
   "source": [
    "sc.settings.set_figure_params()"
   ]
  },
  {
   "cell_type": "code",
   "execution_count": null,
   "metadata": {},
   "outputs": [],
   "source": [
    "sc.pl.dotplot(tildata,var_names=list(specgenesmut.union(specgenes_rev_mut)),groupby='celltype3_pub')"
   ]
  },
  {
   "cell_type": "code",
   "execution_count": null,
   "metadata": {},
   "outputs": [],
   "source": [
    "sc.pl.dotplot(tildata,var_names=list(specgenes.union(specgenes_rev)),groupby='celltype3_pub')"
   ]
  },
  {
   "cell_type": "code",
   "execution_count": null,
   "metadata": {},
   "outputs": [],
   "source": [
    "tildata.obs['PatRCat']=tildata.obs['PatientID'].astype(str)+'_'+tildata.obs['RCat'].astype(str)"
   ]
  },
  {
   "cell_type": "code",
   "execution_count": null,
   "metadata": {},
   "outputs": [],
   "source": [
    "myorder=['29_NR_nadj','33_NR_nadj','86_NR_nadj','87_NR_nadj',\n",
    "         '91_NR_nadj','43_NR_adj','64_NR_adj','77_NR_adj','11_TF',\n",
    "         '13_TF','34_TF','67_TF','68_TF','69_TF','79_TF','82_TF','83_TF','40_R','63_R','72_R']"
   ]
  },
  {
   "cell_type": "code",
   "execution_count": null,
   "metadata": {},
   "outputs": [],
   "source": [
    "specgenes_rev"
   ]
  },
  {
   "cell_type": "code",
   "execution_count": null,
   "metadata": {},
   "outputs": [],
   "source": [
    "list(specgenes.union(specgenes_rev))"
   ]
  },
  {
   "cell_type": "code",
   "execution_count": null,
   "metadata": {},
   "outputs": [],
   "source": [
    "#sc.pl.matrixplot(tildata[tildata.obs['celltype3_pub']==ofc],categories_order=myorder,\n",
    "#                 var_names=list(specgenes.union(specgenes_rev)),groupby='PatRCat', standard_scale='var')"
   ]
  },
  {
   "cell_type": "code",
   "execution_count": null,
   "metadata": {},
   "outputs": [],
   "source": [
    "selectedk=[]\n",
    "for y in selected:\n",
    "    if (y.split('_')[0] in list(specgenes)):\n",
    "        selectedk.append(y)\n",
    "\n",
    "selectedk_rev=[]\n",
    "for y in selected_rev:\n",
    "    if (y.split('_')[1] in list(specgenes_rev)):\n",
    "        selectedk_rev.append(y)"
   ]
  },
  {
   "cell_type": "code",
   "execution_count": null,
   "metadata": {},
   "outputs": [],
   "source": [
    "selectedkmut=[]\n",
    "for y in selected2:\n",
    "    if (y.split('_')[0] in list(specgenesmut)):\n",
    "        selectedkmut.append(y)\n",
    "\n",
    "selectedk_revmut=[]\n",
    "for y in selected_rev2:\n",
    "    if (y.split('_')[1] in list(specgenes_rev_mut)):\n",
    "        selectedk_revmut.append(y)"
   ]
  },
  {
   "cell_type": "code",
   "execution_count": null,
   "metadata": {},
   "outputs": [],
   "source": [
    "selectedk_rev"
   ]
  },
  {
   "cell_type": "code",
   "execution_count": null,
   "metadata": {},
   "outputs": [],
   "source": [
    "selectedk"
   ]
  },
  {
   "cell_type": "code",
   "execution_count": null,
   "metadata": {},
   "outputs": [],
   "source": [
    "pa=7\n",
    "pb=5"
   ]
  },
  {
   "cell_type": "code",
   "execution_count": null,
   "metadata": {},
   "outputs": [],
   "source": [
    "#plt.figure(figsize=(6,24))\n",
    "maxcut=2\n",
    "sns.set(font_scale=0.7)\n",
    "#fig=sns.clustermap(cdc1tab_rev.loc[cdc1tab_rev.apply(lambda x: x.sum(),axis=1)>maxcut,:],figsize=(7,18))\n",
    "fig=sns.clustermap(cdc1tab_rev.loc[selectedk_rev,:],figsize=(pa,pb))\n",
    "#fig.savefig(figdir+'/CellphoneDB-'+ofc.replace(\" \", \"_\")+'_rev_selected_fisherp03.pdf') \n",
    "plt.setp(fig.ax_heatmap.yaxis.get_majorticklabels(), rotation=0)\n",
    "fig.savefig(figdir+'/CellphoneDB-'+ofc.replace(\" \", \"_\")+'_rev_selected_fisherp03_alldata.pdf') \n",
    "#fig.savefig(figdir+'/CellphoneDB-'+ofc.replace(\" \", \"_\")+'_rev_maxsum_'+str(maxcut)+'.pdf') "
   ]
  },
  {
   "cell_type": "code",
   "execution_count": null,
   "metadata": {},
   "outputs": [],
   "source": [
    "((cdc1tabr_rev+0.01)/(0.01+cdc1tabnr_rev)).to_csv(figdir+'/CellphoneDB-ratio_'+ofc.replace(\" \", \"_\")+'_rev_selected_fisherp03-RvsNRonly.csv')\n",
    "((cdc1tabr+0.01)/(0.01+cdc1tabnr)).to_csv(figdir+'/CellphoneDB-ratio_'+ofc.replace(\" \", \"_\")+'_selected_fisherp03-RvsNRonly.csv')\n"
   ]
  },
  {
   "cell_type": "code",
   "execution_count": null,
   "metadata": {},
   "outputs": [],
   "source": [
    "cdc1tabr.to_csv(figdir+'/CellphoneDB-ratio_'+ofc.replace(\" \", \"_\")+'_selected_fisherp03-Rs.csv')\n",
    "cdc1tabnr.to_csv(figdir+'/CellphoneDB-ratio_'+ofc.replace(\" \", \"_\")+'_selected_fisherp03-NRs.csv')\n",
    "cdc1tabr_rev.to_csv(figdir+'/CellphoneDB-ratio_'+ofc.replace(\" \", \"_\")+'_rev_selected_fisherp03-Rs.csv')\n",
    "cdc1tabnr_rev.to_csv(figdir+'/CellphoneDB-ratio_'+ofc.replace(\" \", \"_\")+'_rev_selected_fisherp03-NRs.csv')"
   ]
  },
  {
   "cell_type": "code",
   "execution_count": null,
   "metadata": {},
   "outputs": [],
   "source": [
    "revt=pd.DataFrame(selectedk_rev)\n",
    "revt['Cat']='Rev'\n",
    "revt.columns=['Inter','Dir']\n",
    "tab=pd.DataFrame(selectedk)\n",
    "tab['Cat']='For'\n",
    "tab.columns=['Inter','Dir']\n",
    "pd.concat([tab,revt]).to_csv(figdir+'/CellphoneDB-selected_'+ofc.replace(\" \", \"_\")+'_fisherp03-Interactions.csv')"
   ]
  },
  {
   "cell_type": "code",
   "execution_count": null,
   "metadata": {},
   "outputs": [],
   "source": [
    "pd.concat([tab,revt])"
   ]
  },
  {
   "cell_type": "code",
   "execution_count": null,
   "metadata": {},
   "outputs": [],
   "source": [
    "#cdc1tabr_rev"
   ]
  },
  {
   "cell_type": "code",
   "execution_count": null,
   "metadata": {},
   "outputs": [],
   "source": [
    "myratio=(cdc1tabr_rev.loc[selectedk_rev,:]+0.01)/(0.01+cdc1tabnr_rev.loc[selectedk_rev,:])\n",
    "\n",
    "#fig=sns.clustermap(np.log10(myratio),figsize=(7,18),cmap='bwr')\n",
    "#fig.savefig(figdir+'/CellphoneDB-'+ofc.replace(\" \", \"_\")+'_maxsum_'+str(maxcut)+'-RvsNRonly.pdf') \n",
    "fig=sns.clustermap(np.log10(myratio),figsize=(pa,pb),cmap='bwr', vmax=2, vmin=-2)\n",
    "#fig.savefig(figdir+'/CellphoneDB-'+ofc.replace(\" \", \"_\")+'_rev_selected_fisherp03-RvsNRonly.pdf') \n",
    "plt.setp(fig.ax_heatmap.yaxis.get_majorticklabels(), rotation=0)\n",
    "fig.savefig(figdir+'/CellphoneDB-'+ofc.replace(\" \", \"_\")+'_rev_selected_fisherp03-RvsNRonly_alldata.pdf') \n"
   ]
  },
  {
   "cell_type": "code",
   "execution_count": null,
   "metadata": {},
   "outputs": [],
   "source": [
    "#plt.figure(figsize=(6,24))\n",
    "maxcut=2\n",
    "sns.set(font_scale=0.7)\n",
    "pb=4\n",
    "#fig=sns.clustermap(cdc1tab_rev.loc[cdc1tab_rev.apply(lambda x: x.sum(),axis=1)>maxcut,:],figsize=(7,18))\n",
    "fig=sns.clustermap(cdc1tab_rev.loc[selectedk_revmut,:],figsize=(pa,pb))\n",
    "#fig.savefig(figdir+'/CellphoneDB-'+ofc.replace(\" \", \"_\")+'_rev_selected_mut_fisherp03.pdf')\n",
    "plt.setp(fig.ax_heatmap.yaxis.get_majorticklabels(), rotation=0)\n",
    "fig.savefig(figdir+'/CellphoneDB-'+ofc.replace(\" \", \"_\")+'_rev_selected_mut_fisherp03_alldata.pdf')\n",
    "#fig.savefig(figdir+'/CellphoneDB-'+ofc.replace(\" \", \"_\")+'_rev_maxsum_'+str(maxcut)+'.pdf') "
   ]
  },
  {
   "cell_type": "code",
   "execution_count": null,
   "metadata": {},
   "outputs": [],
   "source": [
    "myratio=(cdc1tabbraf_rev.loc[selectedk_revmut,:]+0.01)/(0.01+cdc1tabnras_rev.loc[selectedk_revmut,:])\n",
    "\n",
    "#fig=sns.clustermap(np.log10(myratio),figsize=(7,18),cmap='bwr')\n",
    "#fig.savefig(figdir+'/CellphoneDB-'+ofc.replace(\" \", \"_\")+'_maxsum_'+str(maxcut)+'-RvsNRonly.pdf') \n",
    "fig=sns.clustermap(np.log10(myratio),figsize=(pa,pb),cmap='bwr', vmax=2, vmin=-2)\n",
    "#fig.savefig(figdir+'/CellphoneDB-'+ofc.replace(\" \", \"_\")+'_rev_selected_fisherp03-mutationComp.pdf') \n",
    "plt.setp(fig.ax_heatmap.yaxis.get_majorticklabels(), rotation=0)\n",
    "fig.savefig(figdir+'/CellphoneDB-'+ofc.replace(\" \", \"_\")+'_rev_selected_fisherp03-mutationComp_alldata.pdf') \n"
   ]
  },
  {
   "cell_type": "code",
   "execution_count": null,
   "metadata": {},
   "outputs": [],
   "source": [
    "#cdc1tab.loc[cdc1tab.apply(lambda x: x.sum(),axis=1)>maxcut,:]['CCR7-positive myeloid dendritic cell'].sort_values()"
   ]
  },
  {
   "cell_type": "code",
   "execution_count": null,
   "metadata": {},
   "outputs": [],
   "source": [
    "#plt.figure(figsize=(6,24))\n",
    "maxcut=2\n",
    "sns.set(font_scale=0.7)\n",
    "pb=4\n",
    "#fig=sns.clustermap(cdc1tab.loc[cdc1tab.apply(lambda x: x.sum(),axis=1)>maxcut,:],figsize=(7,18))\n",
    "#fig.savefig(figdir+'/CellphoneDB-'+ofc.replace(\" \", \"_\")+'_maxsum_'+str(maxcut)+'.pdf') \n",
    "fig=sns.clustermap(cdc1tab.loc[selectedk,:],figsize=(pa,pb))\n",
    "#fig.savefig(figdir+'/CellphoneDB-'+ofc.replace(\" \", \"_\")+'_selected_fisherp03.pdf') \n",
    "plt.setp(fig.ax_heatmap.yaxis.get_majorticklabels(), rotation=0)\n",
    "fig.savefig(figdir+'/CellphoneDB-'+ofc.replace(\" \", \"_\")+'_selected_fisherp03_alldata.pdf') "
   ]
  },
  {
   "cell_type": "code",
   "execution_count": null,
   "metadata": {},
   "outputs": [],
   "source": [
    "#sc.pl.dotplot(allcells[allcells.obs['PatientID'].isin(mypatients)], \n",
    "#              var_names=['CAMP', 'FPR2'],groupby=['celltype3_pub'], dot_max=0.1)"
   ]
  },
  {
   "cell_type": "code",
   "execution_count": null,
   "metadata": {},
   "outputs": [],
   "source": [
    "#myindex=fig.dendrogram_row.reordered_ind.copy()"
   ]
  },
  {
   "cell_type": "code",
   "execution_count": null,
   "metadata": {},
   "outputs": [],
   "source": [
    "#fig=sns.clustermap(cdc1tabr.loc[cdc1tab.apply(lambda x: x.sum(),axis=1)>maxcut,:].iloc[myindex,:],row_cluster=False,figsize=(7,18))\n",
    "#fig.savefig(figdir+'/CellphoneDB-'+ofc.replace(\" \", \"_\")+'_maxsum_'+str(maxcut)+'-Ronly.pdf') \n",
    "fig=sns.clustermap(cdc1tabr.loc[selectedk,:],figsize=(pa,pb))\n",
    "plt.setp(fig.ax_heatmap.yaxis.get_majorticklabels(), rotation=0)\n",
    "fig.savefig(figdir+'/CellphoneDB-'+ofc.replace(\" \", \"_\")+'_selected_fisherp03-Ronly.pdf') \n"
   ]
  },
  {
   "cell_type": "code",
   "execution_count": null,
   "metadata": {},
   "outputs": [],
   "source": [
    "#fig=sns.clustermap(cdc1tabnr.loc[cdc1tab.apply(lambda x: x.sum(),axis=1)>maxcut,:].iloc[myindex,:],row_cluster=False,figsize=(7,18))\n",
    "#fig.savefig(figdir+'/CellphoneDB-'+ofc.replace(\" \", \"_\")+'_maxsum_'+str(maxcut)+'-NRonly.pdf') \n",
    "fig=sns.clustermap(cdc1tabnr.loc[selectedk,:],figsize=(pa,pb))\n",
    "plt.setp(fig.ax_heatmap.yaxis.get_majorticklabels(), rotation=0)\n",
    "fig.savefig(figdir+'/CellphoneDB-'+ofc.replace(\" \", \"_\")+'_selected_fisherp03-NRonly.pdf') \n"
   ]
  },
  {
   "cell_type": "code",
   "execution_count": null,
   "metadata": {},
   "outputs": [],
   "source": [
    "#myratio=(cdc1tabr.loc[cdc1tab.apply(lambda x: x.sum(),axis=1)>maxcut,:].iloc[myindex,:]+0.01)/(0.01+cdc1tabnr.loc[cdc1tab.apply(lambda x: x.sum(),axis=1)>maxcut,:].iloc[myindex,:])"
   ]
  },
  {
   "cell_type": "code",
   "execution_count": null,
   "metadata": {},
   "outputs": [],
   "source": [
    "myratio=(cdc1tabr.loc[selectedk,:]+0.01)/(0.01+cdc1tabnr.loc[selectedk,:])\n",
    "\n",
    "#fig=sns.clustermap(np.log10(myratio),figsize=(7,18),cmap='bwr')\n",
    "#fig.savefig(figdir+'/CellphoneDB-'+ofc.replace(\" \", \"_\")+'_maxsum_'+str(maxcut)+'-RvsNRonly.pdf') \n",
    "fig=sns.clustermap(np.log10(myratio),figsize=(pa,pb),cmap='bwr', vmax=2, vmin=-2)\n",
    "plt.setp(fig.ax_heatmap.yaxis.get_majorticklabels(), rotation=0)\n",
    "fig.savefig(figdir+'/CellphoneDB-'+ofc.replace(\" \", \"_\")+'_selected_fisherp03-RvsNRonly.pdf') \n"
   ]
  },
  {
   "cell_type": "code",
   "execution_count": null,
   "metadata": {},
   "outputs": [],
   "source": [
    "#plt.figure(figsize=(6,24))\n",
    "maxcut=2\n",
    "sns.set(font_scale=0.7)\n",
    "pb=5\n",
    "#fig=sns.clustermap(cdc1tab_rev.loc[cdc1tab_rev.apply(lambda x: x.sum(),axis=1)>maxcut,:],figsize=(7,18))\n",
    "fig=sns.clustermap(cdc1tab.loc[selectedkmut,:],figsize=(pa,pb))\n",
    "#fig.savefig(figdir+'/CellphoneDB-'+ofc.replace(\" \", \"_\")+'_rev_selected_mut_fisherp03.pdf')\n",
    "plt.setp(fig.ax_heatmap.yaxis.get_majorticklabels(), rotation=0)\n",
    "fig.savefig(figdir+'/CellphoneDB-'+ofc.replace(\" \", \"_\")+'_selected_mut_fisherp03_alldata.pdf')\n",
    "#fig.savefig(figdir+'/CellphoneDB-'+ofc.replace(\" \", \"_\")+'_rev_maxsum_'+str(maxcut)+'.pdf') "
   ]
  },
  {
   "cell_type": "code",
   "execution_count": null,
   "metadata": {},
   "outputs": [],
   "source": [
    "myratio=(cdc1tabbraf.loc[selectedkmut,:]+0.01)/(0.01+cdc1tabnras.loc[selectedkmut,:])\n",
    "\n",
    "#fig=sns.clustermap(np.log10(myratio),figsize=(7,18),cmap='bwr')\n",
    "#fig.savefig(figdir+'/CellphoneDB-'+ofc.replace(\" \", \"_\")+'_maxsum_'+str(maxcut)+'-RvsNRonly.pdf') \n",
    "fig=sns.clustermap(np.log10(myratio),figsize=(pa,pb),cmap='bwr',vmax=0.8,vmin=-0.8)\n",
    "plt.setp(fig.ax_heatmap.yaxis.get_majorticklabels(), rotation=0)\n",
    "\n",
    "fig.savefig(figdir+'/CellphoneDB-'+ofc.replace(\" \", \"_\")+'_selected_fisherp03-mutationComp.pdf') \n"
   ]
  },
  {
   "cell_type": "code",
   "execution_count": null,
   "metadata": {},
   "outputs": [],
   "source": [
    "mycb1=pd.read_csv(figdir+'CellphoneDB-ratio_CCR7-positive_myeloid_dendritic_cell_selected_fisherp03-RvsNRonly.csv', sep=',')\n",
    "mycb2=pd.read_csv(figdir+'CellphoneDB-ratio_CD141-positive_myeloid_dendritic_cell_selected_fisherp03-RvsNRonly.csv', sep=',')\n",
    "mycb3=pd.read_csv(figdir+'CellphoneDB-ratio_CD1c-positive_myeloid_dendritic_cell_selected_fisherp03-RvsNRonly.csv', sep=',')\n",
    "mycb1.index=mycb1['interacting_pair']\n",
    "mycb2.index=mycb2['interacting_pair']\n",
    "mycb3.index=mycb3['interacting_pair']\n",
    "\n",
    "mycb1r=pd.read_csv(figdir+'CellphoneDB-ratio_CCR7-positive_myeloid_dendritic_cell_rev_selected_fisherp03-RvsNRonly.csv', sep=',')\n",
    "mycb2r=pd.read_csv(figdir+'CellphoneDB-ratio_CD141-positive_myeloid_dendritic_cell_rev_selected_fisherp03-RvsNRonly.csv', sep=',')\n",
    "mycb3r=pd.read_csv(figdir+'CellphoneDB-ratio_CD1c-positive_myeloid_dendritic_cell_rev_selected_fisherp03-RvsNRonly.csv', sep=',')\n",
    "mycb1r.index=mycb1r['interacting_pair']\n",
    "mycb2r.index=mycb2r['interacting_pair']\n",
    "mycb3r.index=mycb3r['interacting_pair']"
   ]
  },
  {
   "cell_type": "code",
   "execution_count": null,
   "metadata": {},
   "outputs": [],
   "source": []
  },
  {
   "cell_type": "code",
   "execution_count": null,
   "metadata": {},
   "outputs": [],
   "source": [
    "mycbpv1=pd.read_csv(figdir+'CellphoneDB-selected_CCR7-positive_myeloid_dendritic_cell_fisherp03-Interactions.csv', sep=',')\n",
    "mycbpv2=pd.read_csv(figdir+'CellphoneDB-selected_CD141-positive_myeloid_dendritic_cell_fisherp03-Interactions.csv', sep=',')\n",
    "mycbpv3=pd.read_csv(figdir+'CellphoneDB-selected_CD1c-positive_myeloid_dendritic_cell_fisherp03-Interactions.csv', sep=',')\n",
    "\n",
    "#mycbpv1=pd.read_csv(figdir+'CellphoneDB-CCR7-positive_myeloid_dendritic_cell_rev_pvals_fisher.csv', sep='\\t')\n",
    "#mycbpv2=pd.read_csv(figdir+'CellphoneDB-CD141-positive_myeloid_dendritic_cell_rev_pvals_fisher.csv', sep='\\t')\n",
    "#mycbpv3=pd.read_csv(figdir+'CellphoneDB-CD1c-positive_myeloid_dendritic_cell_rev_pvals_fisher.csv', sep='\\t')"
   ]
  },
  {
   "cell_type": "code",
   "execution_count": null,
   "metadata": {},
   "outputs": [],
   "source": [
    "oi=list(set(pd.concat([mycbpv1,mycbpv2,mycbpv3])['Inter']))\n",
    "coi=oi.copy()"
   ]
  },
  {
   "cell_type": "code",
   "execution_count": null,
   "metadata": {},
   "outputs": [],
   "source": [
    "#oi=['P2RY6_NAMPT', 'TNFRSF1A_GRN', 'CD40_TNFSF13B', 'XCR1_XCL1', 'CD58_CD2', 'LGALS9_HAVCR2'\n",
    "#'IL15_IL15R', 'TNFRSF14_BTLA', 'TNFRSF14_LTA']\n"
   ]
  },
  {
   "cell_type": "code",
   "execution_count": null,
   "metadata": {},
   "outputs": [],
   "source": [
    "#pd.concat([mycbpv1,mycbpv2,mycbpv3]).loc[:,['Inter','Dir']].to_csv(figdir+'CellphoneDB-selected_allcDC_Interactions.csv')\n",
    "pd.concat([mycbpv1,mycbpv2,mycbpv3]).loc[:,['Inter','Dir']]"
   ]
  },
  {
   "cell_type": "code",
   "execution_count": null,
   "metadata": {},
   "outputs": [],
   "source": [
    "a1=mycb1.loc[list(set(mycb1.index).intersection(set(oi))),:]\n",
    "a1.index='aDC: '+a1.index\n",
    "\n",
    "a1r=mycb1r.loc[list(set(mycb1r.index).intersection(set(oi))),:]\n",
    "a1r.index=':aDC '+a1r.index"
   ]
  },
  {
   "cell_type": "code",
   "execution_count": null,
   "metadata": {},
   "outputs": [],
   "source": [
    "a2=mycb2.loc[list(set(mycb2.index).intersection(set(oi))),:]\n",
    "a2.index='cDC1: '+a2.index\n",
    "\n",
    "a2r=mycb2r.loc[list(set(mycb2r.index).intersection(set(oi))),:]\n",
    "a2r.index=':cDC1 '+a2r.index"
   ]
  },
  {
   "cell_type": "code",
   "execution_count": null,
   "metadata": {},
   "outputs": [],
   "source": [
    "a3=mycb3.loc[list(set(mycb3.index).intersection(set(oi))),:]\n",
    "a3.index='cDC2: '+a3.index\n",
    "\n",
    "a3r=mycb3r.loc[list(set(mycb3r.index).intersection(set(oi))),:]\n",
    "a3r.index=':cDC2 '+a3r.index"
   ]
  },
  {
   "cell_type": "code",
   "execution_count": null,
   "metadata": {},
   "outputs": [],
   "source": [
    "#toplot=pd.concat([a1,a2,a3, a1r,a2r, a3r ]).drop(columns='interacting_pair')\n",
    "toplot=pd.concat([a1,a2,a3 ]).drop(columns='interacting_pair')\n",
    "toplotr=pd.concat([a1r,a2r,a3r ]).drop(columns='interacting_pair')"
   ]
  },
  {
   "cell_type": "code",
   "execution_count": null,
   "metadata": {},
   "outputs": [],
   "source": [
    "(np.log10(toplot).max(axis=1)+np.log10(toplot).min(axis=1))[(np.log10(toplot).max(axis=1)+np.log10(toplot).min(axis=1))>1.25]"
   ]
  },
  {
   "cell_type": "code",
   "execution_count": null,
   "metadata": {},
   "outputs": [],
   "source": [
    "toshow=(np.log10(toplot).max(axis=1)+np.log10(toplot).min(axis=1))[(np.log10(toplot).max(axis=1)+np.log10(toplot).min(axis=1))>1.25]\n",
    "toshow2=(np.log10(toplot).max(axis=1)+np.log10(toplot).min(axis=1))[(np.log10(toplot).max(axis=1)+np.log10(toplot).min(axis=1))<-1.25]"
   ]
  },
  {
   "cell_type": "code",
   "execution_count": null,
   "metadata": {},
   "outputs": [],
   "source": [
    "toshow3=(np.abs(np.log10(toplot)).max(axis=1)+np.abs(np.log10(toplot)).max(axis=1))[(np.abs(np.log10(toplot)).max(axis=1)+np.abs(np.log10(toplot)).max(axis=1))>3]\n",
    "#toshow4=(np.log10(toplot).max(axis=1)+np.log10(toplot).max(axis=1))[(np.log10(toplot).max(axis=1)+np.log10(toplot).max(axis=1))>2.5]\n"
   ]
  },
  {
   "cell_type": "code",
   "execution_count": null,
   "metadata": {},
   "outputs": [],
   "source": [
    "toshowr=(np.log10(toplotr).max(axis=1)+np.log10(toplotr).min(axis=1))[(np.log10(toplotr).max(axis=1)+np.log10(toplotr).min(axis=1))>1.25]\n",
    "toshow2r=(np.log10(toplotr).max(axis=1)+np.log10(toplotr).min(axis=1))[(np.log10(toplotr).max(axis=1)+np.log10(toplotr).min(axis=1))<-1.25]"
   ]
  },
  {
   "cell_type": "code",
   "execution_count": null,
   "metadata": {},
   "outputs": [],
   "source": [
    "toshow3r=(np.abs(np.log10(toplotr)).max(axis=1)+np.abs(np.log10(toplotr)).max(axis=1))[(np.abs(np.log10(toplotr)).max(axis=1)+np.abs(np.log10(toplotr)).max(axis=1))>3]\n",
    "#toshow4=(np.log10(toplot).max(axis=1)+np.log10(toplot).max(axis=1))[(np.log10(toplot).max(axis=1)+np.log10(toplot).max(axis=1))>2.5]\n"
   ]
  },
  {
   "cell_type": "code",
   "execution_count": null,
   "metadata": {},
   "outputs": [],
   "source": [
    "a1=np.log10(toplot).loc[list((set(toshow2.index).union(toshow.index)).intersection(set(toshow3.index))),:]"
   ]
  },
  {
   "cell_type": "code",
   "execution_count": null,
   "metadata": {},
   "outputs": [],
   "source": [
    "fig=sns.clustermap(a1,\n",
    "                   figsize=(10,4),cmap='bwr', vmax=1.5, vmin=-1.5)"
   ]
  },
  {
   "cell_type": "code",
   "execution_count": null,
   "metadata": {},
   "outputs": [],
   "source": [
    "a2=np.log10(toplotr).loc[list((set(toshow2r.index).union(toshowr.index)).intersection(set(toshow3r.index))),:]"
   ]
  },
  {
   "cell_type": "code",
   "execution_count": null,
   "metadata": {},
   "outputs": [],
   "source": [
    "fig=sns.clustermap(a2,\n",
    "                   figsize=(10,5),cmap='bwr', vmax=1.5, vmin=-1.5)"
   ]
  },
  {
   "cell_type": "code",
   "execution_count": null,
   "metadata": {},
   "outputs": [],
   "source": [
    "fig=sns.clustermap(pd.concat([a1,a2]),\n",
    "                   figsize=(8,8),cmap='bwr', vmax=1.5, vmin=-1.5)\n",
    "fig.savefig(figdir+'/CellphoneDB-FinalFig_cDC.pdf', bbox_inches=\"tight\", dpi=300) \n",
    "fig.savefig(figdir+'/CellphoneDB-FinalFig_cDC.eps', format='eps', bbox_inches=\"tight\", dpi=300)\n",
    "fig.savefig(figdir+'/CellphoneDB-FinalFig_cDC.svg', format='svg', bbox_inches=\"tight\", dpi=300)"
   ]
  },
  {
   "cell_type": "code",
   "execution_count": null,
   "metadata": {},
   "outputs": [],
   "source": []
  },
  {
   "cell_type": "code",
   "execution_count": null,
   "metadata": {},
   "outputs": [],
   "source": [
    "ofc='MSR1-positive macrophage'"
   ]
  },
  {
   "cell_type": "code",
   "execution_count": null,
   "metadata": {},
   "outputs": [],
   "source": [
    "mycb1=pd.read_csv(figdir+'CellphoneDB-ratio_classical_monocyte_selected_fisherp03-RvsNRonly.csv', sep=',')\n",
    "mycb2=pd.read_csv(figdir+'CellphoneDB-ratio_MSR1-positive_macrophage_selected_fisherp03-RvsNRonly.csv', sep=',')\n",
    "mycb3=pd.read_csv(figdir+'CellphoneDB-ratio_MARCO-positive_macrophage_selected_fisherp03-RvsNRonly.csv', sep=',')\n",
    "mycb4=pd.read_csv(figdir+'CellphoneDB-ratio_CXCL9-positive_macrophage_selected_fisherp03-RvsNRonly.csv', sep=',')\n",
    "\n",
    "mycb1.index=mycb1['interacting_pair']\n",
    "mycb2.index=mycb2['interacting_pair']\n",
    "mycb3.index=mycb3['interacting_pair']\n",
    "mycb4.index=mycb4['interacting_pair']\n",
    "\n",
    "mycb1r=pd.read_csv(figdir+'CellphoneDB-ratio_classical_monocyte_rev_selected_fisherp03-RvsNRonly.csv', sep=',')\n",
    "mycb2r=pd.read_csv(figdir+'CellphoneDB-ratio_MSR1-positive_macrophage_rev_selected_fisherp03-RvsNRonly.csv', sep=',')\n",
    "mycb3r=pd.read_csv(figdir+'CellphoneDB-ratio_MARCO-positive_macrophage_rev_selected_fisherp03-RvsNRonly.csv', sep=',')\n",
    "mycb4r=pd.read_csv(figdir+'CellphoneDB-ratio_CXCL9-positive_macrophage_rev_selected_fisherp03-RvsNRonly.csv', sep=',')\n",
    "\n",
    "mycb1r.index=mycb1r['interacting_pair']\n",
    "mycb2r.index=mycb2r['interacting_pair']\n",
    "mycb3r.index=mycb3r['interacting_pair']\n",
    "mycb4r.index=mycb4r['interacting_pair']\n",
    "\n",
    "\n",
    "\n",
    "mycbpv1=pd.read_csv(figdir+'CellphoneDB-selected_classical_monocyte_fisherp03-Interactions.csv', sep=',')\n",
    "mycbpv2=pd.read_csv(figdir+'CellphoneDB-selected_MSR1-positive_macrophage_fisherp03-Interactions.csv', sep=',')\n",
    "mycbpv3=pd.read_csv(figdir+'CellphoneDB-selected_MARCO-positive_macrophage_fisherp03-Interactions.csv', sep=',')\n",
    "mycbpv4=pd.read_csv(figdir+'CellphoneDB-selected_CXCL9-positive_macrophage_fisherp03-Interactions.csv', sep=',')\n",
    "\n",
    "\n",
    "oi=list(set(pd.concat([mycbpv1,mycbpv2,mycbpv3])['Inter']))\n",
    "\n",
    "moi=oi.copy()\n",
    "#oi=['P2RY6_NAMPT', 'TNFRSF1A_GRN', 'CD40_TNFSF13B', 'XCR1_XCL1', 'CD58_CD2', 'LGALS9_HAVCR2'\n",
    "#'IL15_IL15R', 'TNFRSF14_BTLA', 'TNFRSF14_LTA']\n",
    "\n",
    "\n",
    "\n",
    "\n",
    "a1=mycb1.loc[list(set(mycb1.index).intersection(set(oi))),:]\n",
    "a1.index='mono: '+a1.index\n",
    "\n",
    "a1r=mycb1r.loc[list(set(mycb1r.index).intersection(set(oi))),:]\n",
    "a1r.index=':mono '+a1r.index\n",
    "\n",
    "a2=mycb2.loc[list(set(mycb2.index).intersection(set(oi))),:]\n",
    "a2.index='macroMSR1: '+a2.index\n",
    "\n",
    "a2r=mycb2r.loc[list(set(mycb2r.index).intersection(set(oi))),:]\n",
    "a2r.index=':macroMSR1 '+a2r.index\n",
    "\n",
    "a3=mycb3.loc[list(set(mycb3.index).intersection(set(oi))),:]\n",
    "a3.index='macroMARCO: '+a3.index\n",
    "\n",
    "a3r=mycb3r.loc[list(set(mycb3r.index).intersection(set(oi))),:]\n",
    "a3r.index=':macroMARCO '+a3r.index\n",
    "\n",
    "a4=mycb4.loc[list(set(mycb4.index).intersection(set(oi))),:]\n",
    "a4.index='macroCXCL9: '+a4.index\n",
    "\n",
    "a4r=mycb4r.loc[list(set(mycb4r.index).intersection(set(oi))),:]\n",
    "a4r.index=':macroCXCL9 '+a4r.index\n",
    "\n",
    "#toplot=pd.concat([a1,a2,a3, a1r,a2r, a3r ]).drop(columns='interacting_pair')\n",
    "toplot=pd.concat([a1,a2,a3, a4 ]).drop(columns='interacting_pair')\n",
    "toplotr=pd.concat([a1r,a2r,a3r, a4r ]).drop(columns='interacting_pair')\n",
    "\n"
   ]
  },
  {
   "cell_type": "code",
   "execution_count": null,
   "metadata": {},
   "outputs": [],
   "source": [
    "pd.concat([mycbpv1,mycbpv2,mycbpv3]).loc[:,['Inter','Dir']].to_csv(figdir+'CellphoneDB-selected_allMacroMono_Interactions.csv')\n",
    "pd.concat([mycbpv1,mycbpv2,mycbpv3]).loc[:,['Inter','Dir']]"
   ]
  },
  {
   "cell_type": "code",
   "execution_count": null,
   "metadata": {},
   "outputs": [],
   "source": [
    "toshow=(np.log10(toplot).max(axis=1)+np.log10(toplot).min(axis=1))[(np.log10(toplot).max(axis=1)+np.log10(toplot).min(axis=1))>1.75]\n",
    "toshow2=(np.log10(toplot).max(axis=1)+np.log10(toplot).min(axis=1))[(np.log10(toplot).max(axis=1)+np.log10(toplot).min(axis=1))<-1.75]\n",
    "\n",
    "toshow3=(np.abs(np.log10(toplot)).max(axis=1)+np.abs(np.log10(toplot)).max(axis=1))[(np.abs(np.log10(toplot)).max(axis=1)+np.abs(np.log10(toplot)).max(axis=1))>3]\n",
    "#toshow4=(np.log10(toplot).max(axis=1)+np.log10(toplot).max(axis=1))[(np.log10(toplot).max(axis=1)+np.log10(toplot).max(axis=1))>2.5]\n",
    "\n",
    "\n",
    "toshowr=(np.log10(toplotr).max(axis=1)+np.log10(toplotr).min(axis=1))[(np.log10(toplotr).max(axis=1)+np.log10(toplotr).min(axis=1))>1.75]\n",
    "toshow2r=(np.log10(toplotr).max(axis=1)+np.log10(toplotr).min(axis=1))[(np.log10(toplotr).max(axis=1)+np.log10(toplotr).min(axis=1))<-1.75]\n",
    "\n",
    "toshow3r=(np.abs(np.log10(toplotr)).max(axis=1)+np.abs(np.log10(toplotr)).max(axis=1))[(np.abs(np.log10(toplotr)).max(axis=1)+np.abs(np.log10(toplotr)).max(axis=1))>3]\n",
    "#toshow4=(np.log10(toplot).max(axis=1)+np.log10(toplot).max(axis=1))[(np.log10(toplot).max(axis=1)+np.log10(toplot).max(axis=1))>2.5]\n",
    "\n",
    "\n",
    "a1=np.log10(toplot).loc[list((set(toshow2.index).union(toshow.index)).intersection(set(toshow3.index))),:]\n",
    "\n",
    "#fig=sns.clustermap(a1,\n",
    "#                   figsize=(10,4),cmap='bwr', vmax=1.5, vmin=-1.5)\n",
    "\n",
    "a2=np.log10(toplotr).loc[list((set(toshow2r.index).union(toshowr.index)).intersection(set(toshow3r.index))),:]\n",
    "\n",
    "#fig=sns.clustermap(a2,\n",
    "#                   figsize=(10,5),cmap='bwr', vmax=1.5, vmin=-1.5)\n"
   ]
  },
  {
   "cell_type": "code",
   "execution_count": null,
   "metadata": {},
   "outputs": [],
   "source": [
    "\n",
    "fig=sns.clustermap(pd.concat([a1,a2]),\n",
    "                   figsize=(8,9),cmap='bwr', vmax=2, vmin=-2)\n",
    "fig.savefig(figdir+'/CellphoneDB-FinalFig_MonoMacro.pdf', bbox_inches=\"tight\", dpi=300) \n",
    "fig.savefig(figdir+'/CellphoneDB-FinalFig_MonoMacro.eps', format='eps', bbox_inches=\"tight\", dpi=300)\n",
    "fig.savefig(figdir+'/CellphoneDB-FinalFig_MonoMacro.svg', format='svg', bbox_inches=\"tight\", dpi=300)"
   ]
  },
  {
   "cell_type": "markdown",
   "metadata": {},
   "source": [
    "##### Intersect with differential expression results"
   ]
  },
  {
   "cell_type": "code",
   "execution_count": null,
   "metadata": {},
   "outputs": [],
   "source": [
    "cdde=['CD8_cytseceffCD8-TILonly','CD8_EM-TILonly','CD8_Exh-TILonly',\n",
    "      'CD8_NKlikeT-TILonly','CD8_Prolif-TILonly','CD8T-all-noNK-TILonly','CD8TandNK-TILonly','NK-all-TILonly',\n",
    "      'NK_CD56brightcytokineNK-TILonly','NK_CD56dimcytotoxNK-TILonly','CD4T-all-TILonly',\n",
    "     \"CD4T-AllnoTregMAIT-TILonly\",\"CD4T-effector-TILonly\",\"CD4T-naiveCM-TILonly\"]"
   ]
  },
  {
   "cell_type": "code",
   "execution_count": null,
   "metadata": {},
   "outputs": [],
   "source": [
    "    import gseapy\n",
    "    #gseapy.get_library_name()\n",
    "    \n",
    "    dbs=['KEGG_2021_Human','GO_Biological_Process_2021','Reactome_2016',\n",
    "     'Human_Gene_Atlas','WikiPathways_2019_Human','ChEA_2016',\n",
    "     'CellMarker_Augmented_2021','Azimuth_Cell_Types_2021','COVID-19_Related_Gene_Sets_2021',\n",
    "     'MSigDB_Hallmark_2020']\n"
   ]
  },
  {
   "cell_type": "code",
   "execution_count": null,
   "metadata": {},
   "outputs": [],
   "source": [
    "sns.set(font_scale=0.8)"
   ]
  },
  {
   "cell_type": "code",
   "execution_count": null,
   "metadata": {},
   "outputs": [],
   "source": [
    "figdir+'enrichr/'"
   ]
  },
  {
   "cell_type": "code",
   "execution_count": null,
   "metadata": {},
   "outputs": [],
   "source": [
    "    dbs=[\n",
    "     'MSigDB_Hallmark_2020']"
   ]
  },
  {
   "cell_type": "code",
   "execution_count": null,
   "metadata": {},
   "outputs": [],
   "source": [
    "for mydb in dbs:\n",
    "    monor=pd.read_csv(figdir+'enrichr/CD4T-AllnoTregMAIT-TILonly.Rhigh/'+mydb+'.human.enrichr.reports.txt', sep='\\t')\n",
    "    mononr=pd.read_csv(figdir+'enrichr/CD4T-AllnoTregMAIT-TILonly.NRhigh/'+mydb+'.human.enrichr.reports.txt', sep='\\t')\n",
    "\n",
    "    macror=pd.read_csv(figdir+'enrichr/CD4T-effector-TILonly.Rhigh/'+mydb+'.human.enrichr.reports.txt', sep='\\t')\n",
    "    macronr=pd.read_csv(figdir+'enrichr/CD4T-effector-TILonly.NRhigh/'+mydb+'.human.enrichr.reports.txt', sep='\\t')\n",
    "\n",
    "    cdcr=pd.read_csv(figdir+'enrichr/CD4T-naiveCM-TILonly.Rhigh/'+mydb+'.human.enrichr.reports.txt', sep='\\t')\n",
    "    cdcnr=pd.read_csv(figdir+'enrichr/CD4T-naiveCM-TILonly.NRhigh/'+mydb+'.human.enrichr.reports.txt', sep='\\t')\n",
    "  \n",
    "    monor=monor.loc[:,['Term','Combined Score']]\n",
    "    mononr=mononr.loc[:,['Term','Combined Score']]\n",
    "    mononr['allNR']=mononr['Combined Score']\n",
    "    monor['allR']=monor['Combined Score']\n",
    "    mononr.index=list(mononr['Term'])\n",
    "    monor.index=list(monor['Term'])\n",
    "\n",
    "    macror=macror.loc[:,['Term','Combined Score']]\n",
    "    macronr=macronr.loc[:,['Term','Combined Score']]\n",
    "    macronr['effNR']=macronr['Combined Score']\n",
    "    macror['effR']=macror['Combined Score']\n",
    "    macronr.index=list(macronr['Term'])\n",
    "    macror.index=list(macror['Term'])\n",
    "    \n",
    "    \n",
    "    cdcr=cdcr.loc[:,['Term','Combined Score']]\n",
    "    cdcnr=cdcnr.loc[:,['Term','Combined Score']]\n",
    "    cdcnr['naiNR']=cdcnr['Combined Score']\n",
    "    cdcr['naiR']=cdcr['Combined Score']\n",
    "    cdcnr.index=list(cdcnr['Term'])\n",
    "    cdcr.index=list(cdcr['Term'])\n",
    "\n",
    "\n",
    "    toplot=pd.concat([mononr, monor, macronr,macror, cdcr, cdcnr], axis=1).loc[:,['allNR','allR','effNR','effR', 'naiR','naiNR']].fillna(0)\n",
    "    toplot=toplot.loc[toplot.max(axis=1)>20,:]\n",
    "        #toplot[toplot>500]=500\n",
    "    #sns.clustermap(np.log1p(toplot).transpose(), figsize=(8,1.5))\n",
    "    #\n",
    "    \n",
    "    toplot=toplot.loc[(((toplot['allNR']-toplot['allR'])>10) &((toplot['effNR']-toplot['effR'])>10)&((toplot['naiNR']-toplot['naiR'])>10))|(((toplot['allNR']-toplot['allR'])<-10) &((toplot['effNR']-toplot['effR'])<-10)&((toplot['naiNR']-toplot['naiR'])<-10)),:]\n",
    "    tmp_plot=sns.clustermap(np.log1p(toplot).transpose(), figsize=(8,2))\n",
    "    #fig = tmp_plot.get_figure()\n",
    "    #tmp_plot.savefig(figdir+'enrichr/CD4Tcell-leiden-velo-TIL-TILonly-'+mydb+'.human.enrichr.pdf', bbox_inches=\"tight\", dpi=300)\n",
    "    #tmp_plot.savefig(figdir+'enrichr/CD4Tcell-leiden-velo-TIL-TILonly-'+mydb+'.human.enrichr.eps', format='eps', bbox_inches=\"tight\", dpi=300)\n",
    "    tmp_plot.savefig(figdir+'enrichr/CD4Tcell-leiden-velo-TIL-TILonly-'+mydb+'.human.enrichr.svg', format='svg', bbox_inches=\"tight\", dpi=300)\n"
   ]
  },
  {
   "cell_type": "code",
   "execution_count": null,
   "metadata": {},
   "outputs": [],
   "source": [
    "for mydb in dbs:\n",
    "    monor=pd.read_csv(figdir+'enrichr/CD8_cytseceffCD8-TILonly.Rhigh/'+mydb+'.human.enrichr.reports.txt', sep='\\t')\n",
    "    mononr=pd.read_csv(figdir+'enrichr/CD8_cytseceffCD8-TILonly.NRhigh/'+mydb+'.human.enrichr.reports.txt', sep='\\t')\n",
    "\n",
    "    macror=pd.read_csv(figdir+'enrichr/CD8_Exh-TILonly.Rhigh/'+mydb+'.human.enrichr.reports.txt', sep='\\t')\n",
    "    macronr=pd.read_csv(figdir+'enrichr/CD8_Exh-TILonly.NRhigh/'+mydb+'.human.enrichr.reports.txt', sep='\\t')\n",
    "\n",
    "    cdcr=pd.read_csv(figdir+'enrichr/CD8_EM-TILonly.Rhigh/'+mydb+'.human.enrichr.reports.txt', sep='\\t')\n",
    "    cdcnr=pd.read_csv(figdir+'enrichr/CD8_EM-TILonly.NRhigh/'+mydb+'.human.enrichr.reports.txt', sep='\\t')\n",
    "    \n",
    "\n",
    "    monor=monor.loc[:,['Term','Combined Score']]\n",
    "    mononr=mononr.loc[:,['Term','Combined Score']]\n",
    "    mononr['cytokineNR']=mononr['Combined Score']\n",
    "    monor['cytokineR']=monor['Combined Score']\n",
    "    mononr.index=list(mononr['Term'])\n",
    "    monor.index=list(monor['Term'])\n",
    "\n",
    "    macror=macror.loc[:,['Term','Combined Score']]\n",
    "    macronr=macronr.loc[:,['Term','Combined Score']]\n",
    "    macronr['exhNR']=macronr['Combined Score']\n",
    "    macror['exhR']=macror['Combined Score']\n",
    "    macronr.index=list(macronr['Term'])\n",
    "    macror.index=list(macror['Term'])\n",
    "    \n",
    "    \n",
    "    cdcr=cdcr.loc[:,['Term','Combined Score']]\n",
    "    cdcnr=cdcnr.loc[:,['Term','Combined Score']]\n",
    "    cdcnr['emNR']=cdcnr['Combined Score']\n",
    "    cdcr['emR']=cdcr['Combined Score']\n",
    "    cdcnr.index=list(cdcnr['Term'])\n",
    "    cdcr.index=list(cdcr['Term'])\n",
    "\n",
    "\n",
    "    toplot=pd.concat([macronr,macror, mononr, monor, cdcr, cdcnr], axis=1).loc[:,['cytokineNR','cytokineR','emNR','emR', 'exhR','exhNR']].fillna(0)\n",
    "    toplot=toplot.loc[toplot.max(axis=1)>20,:]\n",
    "        #toplot[toplot>500]=500\n",
    "    #sns.clustermap(np.log1p(toplot).transpose(), figsize=(8,1.5))\n",
    "    #\n",
    "    \n",
    "    toplot=toplot.loc[(((toplot['cytokineNR']-toplot['cytokineR'])>10) &((toplot['emNR']-toplot['emR'])>10)&((toplot['exhNR']-toplot['exhR'])>10))|(((toplot['exhNR']-toplot['exhR'])<-10) &((toplot['cytokineNR']-toplot['cytokineR'])<-10)&((toplot['emNR']-toplot['emR'])<-10)),:]\n",
    "    tmp_plot=sns.clustermap(np.log1p(toplot).transpose(), figsize=(8,2))\n",
    "    #fig = tmp_plot.get_figure()\n",
    "    #tmp_plot.savefig(figdir+'enrichr/CD8Tcell-leiden-velo-TIL-TILonly-'+mydb+'.human.enrichr.pdf', bbox_inches=\"tight\", dpi=300)\n",
    "    #tmp_plot.savefig(figdir+'enrichr/CD8Tcell-leiden-velo-TIL-TILonly-'+mydb+'.human.enrichr.eps', format='eps', bbox_inches=\"tight\", dpi=300)\n",
    "    tmp_plot.savefig(figdir+'enrichr/CD8Tcell-leiden-velo-TIL-TILonly-'+mydb+'.human.enrichr.svg', format='svg', bbox_inches=\"tight\", dpi=300)\n"
   ]
  },
  {
   "cell_type": "code",
   "execution_count": null,
   "metadata": {},
   "outputs": [],
   "source": [
    "mycd='CD8_cytseceffCD8-TILonly'"
   ]
  },
  {
   "cell_type": "code",
   "execution_count": null,
   "metadata": {},
   "outputs": [],
   "source": [
    "\n",
    "#cdde=['CD8_cytseceffCD8-TILonly','CD8_EM-TILonly','CD8_Exh-TILonly',\n",
    "#      'CD8_NKlikeT-TILonly','CD8_Prolif-TILonly','CD8TandNK-TILonly',\n",
    "#      'NK_CD56brightcytokineNK-TILonly','NK_CD56dimcytotoxNK-TILonly','cd4tcells-TILonly',\n",
    "#     'CD4T-effector-TILonly'] #\"CD4T-AllnoTregMAIT-TILonly\", ,\"CD4T-naiveCM-TILonly\""
   ]
  },
  {
   "cell_type": "code",
   "execution_count": null,
   "metadata": {},
   "outputs": [],
   "source": [
    "cdde=['CD8_cytseceffCD8-TILonly','CD8_EM-TILonly','CD8_Exh-TILonly',\n",
    "      'CD8_NKlikeT-TILonly','CD8_Prolif-TILonly','CD8T-all-noNK-TILonly','CD8TandNK-TILonly','NK-all-TILonly',\n",
    "      'NK_CD56brightcytokineNK-TILonly','NK_CD56dimcytotoxNK-TILonly','CD4T-all-TILonly',\n",
    "     \"CD4T-AllnoTregMAIT-TILonly\",\"CD4T-effector-TILonly\",\"CD4T-naiveCM-TILonly\"]"
   ]
  },
  {
   "cell_type": "code",
   "execution_count": null,
   "metadata": {},
   "outputs": [],
   "source": [
    "cdde_CD4=['CD4T-all-TILonly',\n",
    "     \"CD4T-AllnoTregMAIT-TILonly\",\"CD4T-effector-TILonly\",\"CD4T-naiveCM-TILonly\"]\n",
    "cdde=cdde_CD4.copy()"
   ]
  },
  {
   "cell_type": "code",
   "execution_count": null,
   "metadata": {},
   "outputs": [],
   "source": [
    "cddenk=['NK-all-TILonly',\n",
    " 'NK_CD56brightcytokineNK-TILonly',\n",
    " 'NK_CD56dimcytotoxNK-TILonly']\n",
    "cdde=cddenk.copy()"
   ]
  },
  {
   "cell_type": "code",
   "execution_count": null,
   "metadata": {},
   "outputs": [],
   "source": [
    "cdde_no_NK=['CD8_cytseceffCD8-TILonly',\n",
    " 'CD8_EM-TILonly',\n",
    " 'CD8_Exh-TILonly',\n",
    " 'CD8_NKlikeT-TILonly',\n",
    " 'CD8_Prolif-TILonly',\n",
    " 'CD8T-all-noNK-TILonly']\n",
    "cdde=cdde_no_NK.copy()"
   ]
  },
  {
   "cell_type": "code",
   "execution_count": null,
   "metadata": {},
   "outputs": [],
   "source": [
    "cdde=['CD4T-all-TILonly',\n",
    "     \"CD4T-AllnoTregMAIT-TILonly\",\"CD4T-effector-TILonly\",\"CD4T-naiveCM-TILonly\",\n",
    "     'NK-all-TILonly',\n",
    " 'NK_CD56brightcytokineNK-TILonly',\n",
    " 'NK_CD56dimcytotoxNK-TILonly','CD8_cytseceffCD8-TILonly',\n",
    " 'CD8_EM-TILonly',\n",
    " 'CD8_Exh-TILonly',\n",
    " 'CD8_NKlikeT-TILonly',\n",
    " 'CD8_Prolif-TILonly',\n",
    " 'CD8T-all-noNK-TILonly']"
   ]
  },
  {
   "cell_type": "code",
   "execution_count": null,
   "metadata": {},
   "outputs": [],
   "source": [
    "alldesR=pd.DataFrame(None)\n",
    "alldesNR=pd.DataFrame(None)\n",
    "for mycd in cdde:\n",
    "    #cdcNRgenes=pd.read_csv(figdir+'DEanalysis_wilcoxon.cd4-TILonly.NRhigh.tsv',sep='\\t')\n",
    "    #cdcRgenes=pd.read_csv(figdir+'DEanalysis_wilcoxon.cd4-TILonly.Rhigh.tsv',sep='\\t')\n",
    "\n",
    "    #cdcNRgenes=pd.read_csv(figdir+'DEanalysis_wilcoxon.cdc-TILonly.NRhigh.tsv',sep='\\t')\n",
    "    #cdcRgenes=pd.read_csv(figdir+'DEanalysis_wilcoxon.cdc-TILonly.Rhigh.tsv',sep='\\t')\n",
    "\n",
    "    cdcNRgenes=pd.read_csv(figdir+'DEanalysis_wilcoxon.'+mycd+'.NRhigh.tsv',sep='\\t')\n",
    "    cdcRgenes=pd.read_csv(figdir+'DEanalysis_wilcoxon.'+mycd+'.Rhigh.tsv',sep='\\t')\n",
    "\n",
    "    cdcNRgenes['Comparison']=mycd\n",
    "    cdcRgenes['Comparison']=mycd\n",
    "    alldesR=pd.concat([alldesR, cdcRgenes])\n",
    "    alldesNR=pd.concat([alldesNR, cdcNRgenes])"
   ]
  },
  {
   "cell_type": "code",
   "execution_count": null,
   "metadata": {},
   "outputs": [],
   "source": [
    "cdde"
   ]
  },
  {
   "cell_type": "code",
   "execution_count": null,
   "metadata": {},
   "outputs": [],
   "source": [
    "strde=set(alldesR.loc[(alldesR['LN-both']==1)&((alldesR['Brain-both']==1)|(alldesR['Other-both']==1))&(alldesR['Nadj']==1)&(alldesR['Adj']==1),'Unnamed: 0']).intersection(set(alldesR['Unnamed: 0'].value_counts()[alldesR['Unnamed: 0'].value_counts()>6].index))"
   ]
  },
  {
   "cell_type": "code",
   "execution_count": null,
   "metadata": {},
   "outputs": [],
   "source": [
    "strde"
   ]
  },
  {
   "cell_type": "code",
   "execution_count": null,
   "metadata": {},
   "outputs": [],
   "source": [
    "strdenr=set(alldesNR.loc[(alldesNR['LN-both']==1)&((alldesNR['Brain-both']==1)&(alldesNR['Other-both']==1))&(alldesNR['Nadj']==1)&(alldesNR['Adj']==1),'Unnamed: 0']).intersection(set(alldesNR['Unnamed: 0'].value_counts()[alldesNR['Unnamed: 0'].value_counts()>6].index))"
   ]
  },
  {
   "cell_type": "code",
   "execution_count": null,
   "metadata": {},
   "outputs": [],
   "source": [
    "strdenr"
   ]
  },
  {
   "cell_type": "code",
   "execution_count": null,
   "metadata": {},
   "outputs": [],
   "source": [
    "strde=list(strde)+list(strdenr)"
   ]
  },
  {
   "cell_type": "code",
   "execution_count": null,
   "metadata": {},
   "outputs": [],
   "source": [
    "#strdecd8=strde.copy()\n",
    "#strdenk=strde.copy()\n",
    "#strdecd4=strde.copy()"
   ]
  },
  {
   "cell_type": "code",
   "execution_count": null,
   "metadata": {},
   "outputs": [],
   "source": [
    "set(tildata.obs['celltype3_pub'])"
   ]
  },
  {
   "cell_type": "code",
   "execution_count": null,
   "metadata": {},
   "outputs": [],
   "source": [
    "sc.settings.set_figure_params()"
   ]
  },
  {
   "cell_type": "code",
   "execution_count": null,
   "metadata": {},
   "outputs": [],
   "source": [
    "sc.pl.matrixplot(tildata[tildata.obs['celltype3_pub'].isin(['CD4-positive, cytotoxic T cell','IL7R-max CD4-positive T cell',\n",
    "                                                    'central memory CD4-positive T cell', 'effector memory CD4-positive T cell',\n",
    "                                                           'exhausted-like CD4-positive T cell','naive CD4-positive T cell',\n",
    "                                                            'proliferating CD4-positive T cell','regulatory T cell',\n",
    "                                                           'cytotoxic CD56-dim natural killer cell','proliferating NK cell',\n",
    "                                                'CD56-bright cytokine secreting natural killer cell',\n",
    "                                                'proliferating NK cell','cytokine secreting effector CD8-positive T cell',\n",
    "                                                 'effector memory CD8-positive T cell',\n",
    "                                                 'mature NK T cell','naive CD8-positive T cell',\n",
    "                                                'proliferating CD8-positive T cell',\n",
    "                                                 'exhausted-like CD8-positive T cell'])],\n",
    "                 var_names=list(strde), groupby='RCat', standard_scale='var',\n",
    "                 save='Stringent_DE.allTNK-TILonly.svg')"
   ]
  },
  {
   "cell_type": "code",
   "execution_count": null,
   "metadata": {},
   "outputs": [],
   "source": [
    "sc.pl.matrixplot(tildata[tildata.obs['celltype3_pub'].isin(['CD4-positive, cytotoxic T cell','IL7R-max CD4-positive T cell',\n",
    "                                                    'central memory CD4-positive T cell', 'effector memory CD4-positive T cell',\n",
    "                                                           'exhausted-like CD4-positive T cell','naive CD4-positive T cell',\n",
    "                                                            'proliferating CD4-positive T cell','regulatory T cell'])],\n",
    "                 var_names=list(strdecd4), groupby='RCat', standard_scale='var',\n",
    "                 save='Stringent_DE.CD4s-TILonly.svg')"
   ]
  },
  {
   "cell_type": "code",
   "execution_count": null,
   "metadata": {},
   "outputs": [],
   "source": [
    "\n",
    "sc.pl.matrixplot(tildata[tildata.obs['celltype3_pub'].isin(['cytotoxic CD56-dim natural killer cell','proliferating NK cell',\n",
    "                                                'CD56-bright cytokine secreting natural killer cell',\n",
    "                                                'proliferating NK cell'])],\n",
    "                 var_names=list(strdenk), groupby='RCat', standard_scale='var',\n",
    "                 save='Stringent_DE.NKs-TILonly.svg')"
   ]
  },
  {
   "cell_type": "code",
   "execution_count": null,
   "metadata": {},
   "outputs": [],
   "source": [
    "sc.pl.matrixplot(tildata[tildata.obs['celltype3_pub'].isin(['cytokine secreting effector CD8-positive T cell',\n",
    "                                                 'effector memory CD8-positive T cell',\n",
    "                                                 'mature NK T cell','naive CD8-positive T cell',\n",
    "                                                'proliferating CD8-positive T cell',\n",
    "                                                 'exhausted-like CD8-positive T cell'])],\n",
    "                 var_names=list(strdecd8), groupby='RCat', standard_scale='var',\n",
    "                 save='Stringent_DE.CD8s_noNK-TILonly.svg')\n"
   ]
  },
  {
   "cell_type": "code",
   "execution_count": null,
   "metadata": {},
   "outputs": [],
   "source": [
    "macroNR=(set([x.split(\"_\")[1] for x in list(moi)]).union(set([x.split(\"_\")[0] for x in list(moi)]))).intersection(set(alldesNR['Unnamed: 0']))\n",
    "macroNR"
   ]
  },
  {
   "cell_type": "code",
   "execution_count": null,
   "metadata": {},
   "outputs": [],
   "source": [
    "cdcNR=(set([x.split(\"_\")[1] for x in list(coi)]).union(set([x.split(\"_\")[0] for x in list(coi)]))).intersection(set(alldesNR['Unnamed: 0']))\n",
    "cdcNR"
   ]
  },
  {
   "cell_type": "code",
   "execution_count": null,
   "metadata": {},
   "outputs": [],
   "source": [
    "macroR=(set([x.split(\"_\")[1] for x in list(moi)]).union(set([x.split(\"_\")[0] for x in list(moi)]))).intersection(set(alldesR['Unnamed: 0']))\n",
    "macroR"
   ]
  },
  {
   "cell_type": "code",
   "execution_count": null,
   "metadata": {},
   "outputs": [],
   "source": [
    "cdcR=(set([x.split(\"_\")[1] for x in list(coi)]).union(set([x.split(\"_\")[0] for x in list(coi)]))).intersection(set(alldesR['Unnamed: 0']))\n",
    "cdcR"
   ]
  },
  {
   "cell_type": "code",
   "execution_count": null,
   "metadata": {},
   "outputs": [],
   "source": [
    "#cdde=['CD8_cytseceffCD8-TILonly','CD8_EM-TILonly','CD8_Exh-TILonly',\n",
    "#      'CD8_NKlikeT-TILonly','CD8_Prolif-TILonly','CD8TandNK-TILonly',\n",
    "#      'NK_CD56brightcytokineNK-TILonly','NK_CD56dimcytotoxNK-TILonly']\n",
    "subsetleg='CD8_cytseceffCD8-TILonly'"
   ]
  },
  {
   "cell_type": "code",
   "execution_count": null,
   "metadata": {},
   "outputs": [],
   "source": [
    "alldesR.loc[alldesR['Unnamed: 0'].isin(list(macroR.union(cdcR))),:]"
   ]
  },
  {
   "cell_type": "code",
   "execution_count": null,
   "metadata": {},
   "outputs": [],
   "source": [
    "alldesNR.loc[alldesNR['Unnamed: 0'].isin(list(macroNR.union(cdcNR))),:]"
   ]
  },
  {
   "cell_type": "code",
   "execution_count": null,
   "metadata": {},
   "outputs": [],
   "source": [
    "sc.settings.set_figure_params()"
   ]
  },
  {
   "cell_type": "code",
   "execution_count": null,
   "metadata": {},
   "outputs": [],
   "source": [
    "nkgoi=['SELL','XCL1', 'CD2', 'CD74', 'CD44','ANXA1']\n",
    "cd8goi=['XCL1', 'CD44', 'SEMA4A', 'CD74', 'NOTCH1', 'FAS', 'TNFRSF14', 'NAMPT', 'ANXA1'] #'ICAM1', 'SPP1',\n",
    "cd8nkgoi=['CD44','BTLA','SELL','SEMA4A','NAMPT','FAS','TNFRSF14','CD74','ANXA1','AREG'] #'ICAM1', 'SPP1',\n",
    "cd8exh=['CD44','SPN','NAMPT','FAS','TNFRSF14','CD74','ANXA1'] #'SPP1',\n",
    "emgoi=['CD74','ANXA1','HLA-DPB1'] #'SPP1',\n",
    "cytcd8goi=['XCL1','TNFRSF14','CD74','ANXA1','ITGAL','HLA-DPB1'] #'SPP1',\n",
    "cd4goi=['BTLA','TNFRSF1B','HAVCR2','ANXA1'] #'SPP1',, TNF CD4T-AllnoTregMAIT-TILonly\n",
    "cd4goiIL7R=['BTLA','GRN','HAVCR2','ANXA1'] #'SPP1', TNF CD4T-AllnoTregMAIT-TILonly\n",
    "cd4effgoi=['HAVCR2','ANXA1'] # TNF\n",
    "cd4naigoi=['SELPLG', 'ANXA1'] # TNF"
   ]
  },
  {
   "cell_type": "code",
   "execution_count": null,
   "metadata": {},
   "outputs": [],
   "source": [
    "subsetleg='NKs'\n",
    "sc.pl.matrixplot(tildata[tildata.obs['celltype3_pub'].isin(['cytotoxic CD56-dim natural killer cell','proliferating NK cell',\n",
    "                                                'CD56-bright cytokine secreting natural killer cell',\n",
    "                                                'proliferating NK cell'])],\n",
    "                 var_names=nkgoi, groupby='RCat', standard_scale='var',\n",
    "                 save='CellphoneDB_and_DE.'+subsetleg+'-TILonly.svg')\n"
   ]
  },
  {
   "cell_type": "code",
   "execution_count": null,
   "metadata": {},
   "outputs": [],
   "source": [
    "subsetleg='CD4_nai'\n",
    "sc.pl.matrixplot(tildata[tildata.obs['celltype3_pub'].isin([ 'central memory CD4-positive T cell','naive CD4-positive T cell'])],\n",
    "                 var_names=cd4naigoi, groupby='RCat', standard_scale='var',\n",
    "                 save='CellphoneDB_and_DE.'+subsetleg+'-TILonly.svg')\n"
   ]
  },
  {
   "cell_type": "code",
   "execution_count": null,
   "metadata": {},
   "outputs": [],
   "source": [
    "subsetleg='CD4_eff'\n",
    "sc.pl.matrixplot(tildata[tildata.obs['celltype3_pub'].isin(['CD4-positive, cytotoxic T cell',\n",
    "                                                            'proliferating CD4-positive T cell',\n",
    "                                                           'exhausted-like CD4-positive T cell',\n",
    "                                                            \n",
    "                                                           'effector memory CD4-positive T cell'])],\n",
    "                 var_names=cd4effgoi, groupby='RCat', standard_scale='var',\n",
    "                 save='CellphoneDB_and_DE.'+subsetleg+'-TILonly.svg')\n"
   ]
  },
  {
   "cell_type": "code",
   "execution_count": null,
   "metadata": {},
   "outputs": [],
   "source": [
    "subsetleg='CD4_allnoTregMAIT'\n",
    "sc.pl.matrixplot(tildata[tildata.obs['celltype3_pub'].isin(['CD4-positive, cytotoxic T cell',\n",
    "                                                            'proliferating CD4-positive T cell',\n",
    "                                                           'central memory CD4-positive T cell',\n",
    "                                                           'exhausted-like CD4-positive T cell',\n",
    "                                                            \n",
    "                                                           'effector memory CD4-positive T cell',\n",
    "                                                           'naive CD4-positive T cell'])],\n",
    "                 var_names=cd4goiIL7R, groupby='RCat', standard_scale='var',\n",
    "                 save='CellphoneDB_and_DE.'+subsetleg+'-TILonly.svg')\n"
   ]
  },
  {
   "cell_type": "code",
   "execution_count": null,
   "metadata": {},
   "outputs": [],
   "source": [
    "subsetleg='CD4_all'\n",
    "sc.pl.matrixplot(tildata[tildata.obs['celltype3_pub'].isin(['IL7R-max CD4-positive T cell',\n",
    "                                                            'CD4-positive, cytotoxic T cell',\n",
    "                                                            'proliferating CD4-positive T cell',\n",
    "                                                           'central memory CD4-positive T cell',\n",
    "                                                           'exhausted-like CD4-positive T cell',\n",
    "                                                           'effector memory CD4-positive T cell',\n",
    "                                                            'regulatory T cell',\n",
    "                                                           'naive CD4-positive T cell'])],\n",
    "                 var_names=cd4goi, groupby='RCat', standard_scale='var',\n",
    "                 save='CellphoneDB_and_DE.'+subsetleg+'-TILonly.svg')\n"
   ]
  },
  {
   "cell_type": "code",
   "execution_count": null,
   "metadata": {},
   "outputs": [],
   "source": [
    "subsetleg='CD8_cytseceffCD8'\n",
    "sc.pl.matrixplot(tildata[tildata.obs['celltype3_pub'].isin(['cytokine secreting effector CD8-positive T cell'])],\n",
    "                 var_names=cytcd8goi, groupby='RCat', standard_scale='var',\n",
    "                 save='CellphoneDB_and_DE.'+subsetleg+'-TILonly.svg')\n"
   ]
  },
  {
   "cell_type": "code",
   "execution_count": null,
   "metadata": {},
   "outputs": [],
   "source": [
    "sc.pl.matrixplot(tildata[tildata.obs['celltype3_pub'].isin(['cytokine secreting effector CD8-positive T cell'])],\n",
    "                 var_names=list(strde), groupby='RCat', standard_scale='var',\n",
    "                 save='Stringent_DE.'+subsetleg+'-TILonly.svg')\n"
   ]
  },
  {
   "cell_type": "code",
   "execution_count": null,
   "metadata": {},
   "outputs": [],
   "source": [
    "subsetleg='CD8_EM-TILonly'\n",
    "sc.pl.matrixplot(tildata[tildata.obs['celltype3_pub'].isin(['effector memory CD8-positive T cell'])],\n",
    "                 var_names=emgoi, groupby='RCat', standard_scale='var',\n",
    "                 save='CellphoneDB_and_DE.'+subsetleg+'-TILonly.svg')\n"
   ]
  },
  {
   "cell_type": "code",
   "execution_count": null,
   "metadata": {},
   "outputs": [],
   "source": [
    "sc.pl.matrixplot(tildata[tildata.obs['celltype3_pub'].isin(['effector memory CD8-positive T cell'])],\n",
    "                 var_names=list(strde), groupby='RCat', standard_scale='var',\n",
    "                 save='Stringent_DE.'+subsetleg+'-TILonly.svg')\n"
   ]
  },
  {
   "cell_type": "code",
   "execution_count": null,
   "metadata": {},
   "outputs": [],
   "source": [
    "subsetleg='CD8_Exh-TILonly'\n",
    "sc.pl.matrixplot(tildata[tildata.obs['celltype3_pub'].isin(['exhausted-like CD8-positive T cell'])],\n",
    "                 var_names=cd8exh, groupby='RCat', standard_scale='var',\n",
    "                 save='CellphoneDB_and_DE.'+subsetleg+'-TILonly.svg')\n"
   ]
  },
  {
   "cell_type": "code",
   "execution_count": null,
   "metadata": {},
   "outputs": [],
   "source": [
    "sc.pl.matrixplot(tildata[tildata.obs['celltype3_pub'].isin(['exhausted-like CD8-positive T cell'])],\n",
    "                 var_names=list(strde), groupby='RCat', standard_scale='var',\n",
    "                 save='Stringent_DE.'+subsetleg+'-TILonly.svg')\n"
   ]
  },
  {
   "cell_type": "code",
   "execution_count": null,
   "metadata": {},
   "outputs": [],
   "source": [
    "subsetleg='CD8T-all-noNK-TILonly'\n",
    "sc.pl.matrixplot(tildata[tildata.obs['celltype3_pub'].isin(['cytokine secreting effector CD8-positive T cell',\n",
    "                                               'effector memory CD8-positive T cell',\n",
    "                                                 'mature NK T cell','naive CD8-positive T cell',\n",
    "                                                'proliferating CD8-positive T cell',\n",
    "                                                 'exhausted-like CD8-positive T cell'])],\n",
    "                 var_names=cd8goi, groupby='RCat', standard_scale='var',\n",
    "                 save='CellphoneDB_and_DE.'+subsetleg+'-TILonly.svg')\n"
   ]
  },
  {
   "cell_type": "code",
   "execution_count": null,
   "metadata": {},
   "outputs": [],
   "source": [
    "sc.settings.set_figure_params()"
   ]
  },
  {
   "cell_type": "code",
   "execution_count": null,
   "metadata": {},
   "outputs": [],
   "source": []
  },
  {
   "cell_type": "code",
   "execution_count": null,
   "metadata": {},
   "outputs": [],
   "source": [
    "sc.pl.matrixplot(tildata[tildata.obs['celltype3_pub'].isin(['cytokine secreting effector CD8-positive T cell',\n",
    "                                                 'proliferating NK cell','effector memory CD8-positive T cell',\n",
    "                                                 'mature NK T cell','naive CD8-positive T cell',\n",
    "                                                'proliferating CD8-positive T cell',\n",
    "                                                 'exhausted-like CD8-positive T cell',\n",
    "                                                'cytotoxic CD56-dim natural killer cell',\n",
    "                                                'CD56-bright cytokine secreting natural killer cell',\n",
    "                                                'proliferating NK cell'])],\n",
    "                 var_names=list(strde), groupby='RCat', standard_scale='var',\n",
    "                 save='Stringent_DE.'+subsetleg+'-TILonly.svg')\n"
   ]
  },
  {
   "cell_type": "code",
   "execution_count": null,
   "metadata": {},
   "outputs": [],
   "source": [
    "### Prepare means\n",
    "condition='RCat'\n",
    "#condlist=list(set(cdata.obs[condition]))\n",
    "condlist=['R','TF','NR_nadj','NR_adj']\n",
    "mean,fct=bc.get_means(tildata[tildata.obs['celltype3_pub'].isin(['cytokine secreting effector CD8-positive T cell'])],'PatientID', condition)\n"
   ]
  },
  {
   "cell_type": "code",
   "execution_count": null,
   "metadata": {},
   "outputs": [],
   "source": [
    "\n",
    "bc.pl.box_per_ind(mean, cytcd8goi[0],\n",
    "                  condition,order=condlist)"
   ]
  },
  {
   "cell_type": "code",
   "execution_count": null,
   "metadata": {},
   "outputs": [],
   "source": [
    "\n",
    "bc.pl.box_per_ind(mean, cytcd8goi[1],\n",
    "                  condition,order=condlist)"
   ]
  },
  {
   "cell_type": "code",
   "execution_count": null,
   "metadata": {},
   "outputs": [],
   "source": [
    "sc.pl.dotplot(tildata[tildata.obs['celltype3_pub'].isin(['cytokine secreting effector CD8-positive T cell',\n",
    "                                                 'proliferating NK cell''effector memory CD8-positive T cell',\n",
    "                                                 'mature NK T cell','naive CD8-positive T cell',\n",
    "                                                'proliferating CD8-positive T cell',\n",
    "                                                 'exhausted-like CD8-positive T cell',\n",
    "                                                'cytotoxic CD56-dim natural killer cell',\n",
    "                                                'CD56-bright cytokine secreting natural killer cell',\n",
    "                                                'proliferating NK cell'])], \n",
    "              var_names=list(set(cd8nkgoi).union(set(cd8exh).union(set(emgoi)).union(set(cytcd8goi)))), groupby='celltype3_pub')"
   ]
  },
  {
   "cell_type": "code",
   "execution_count": null,
   "metadata": {},
   "outputs": [],
   "source": [
    "\n",
    "\n",
    "sc.pl.matrixplot(cdata,var_names=list(strDE)[0:60], groupby='RCat', standard_scale='var',save='DEanalysis_wilcoxon.'+subsetleg+'-TILonly.NRhigh.pdf')\n",
    "\n",
    "\n",
    "sc.pl.dotplot(cdata,var_names=list(strDE)[0:60], groupby='RCat')\n"
   ]
  },
  {
   "cell_type": "code",
   "execution_count": null,
   "metadata": {},
   "outputs": [],
   "source": [
    "set([x.split('_')[0].split(\" \")[1] for x in list(toplotr.index)]).intersection(set(cdcRgenes['Unnamed: 0']))"
   ]
  },
  {
   "cell_type": "code",
   "execution_count": null,
   "metadata": {},
   "outputs": [],
   "source": [
    "set(cdcNRgenes['Unnamed: 0']).intersection(['P2RY6','TNFRSF1A','HBEGF','CCL20'])"
   ]
  },
  {
   "cell_type": "code",
   "execution_count": null,
   "metadata": {},
   "outputs": [],
   "source": [
    "set(cdcNRgenes['Unnamed: 0']).intersection(['NAMPT'])"
   ]
  },
  {
   "cell_type": "code",
   "execution_count": null,
   "metadata": {},
   "outputs": [],
   "source": [
    "#cdcNRgenes"
   ]
  },
  {
   "cell_type": "code",
   "execution_count": null,
   "metadata": {},
   "outputs": [],
   "source": [
    "b=(set(cdcNRgenes['Unnamed: 0']).union(set(cdcRgenes['Unnamed: 0']))).intersection(specgenes)\n",
    "#b=(set(cd8NRgenes['Unnamed: 0']).union(set(cd8Rgenes['Unnamed: 0']))).intersection(specgenes)\n",
    "b"
   ]
  },
  {
   "cell_type": "code",
   "execution_count": null,
   "metadata": {},
   "outputs": [],
   "source": [
    "#set(cd8NRgenes['Unnamed: 0'])"
   ]
  },
  {
   "cell_type": "code",
   "execution_count": null,
   "metadata": {},
   "outputs": [],
   "source": [
    "a=(set(cdcNRgenes['Unnamed: 0']).union(set(cdcRgenes['Unnamed: 0']))).intersection(specgenes_rev)\n",
    "#a=(set(cd8NRgenes['Unnamed: 0']).union(set(cd8Rgenes['Unnamed: 0']))).intersection(specgenes_rev)\n",
    "a"
   ]
  },
  {
   "cell_type": "code",
   "execution_count": null,
   "metadata": {},
   "outputs": [],
   "source": [
    "(set(cdcRgenes['Unnamed: 0']).union(set(cdcRgenes['Unnamed: 0']))).intersection(specgenes)"
   ]
  },
  {
   "cell_type": "code",
   "execution_count": null,
   "metadata": {},
   "outputs": [],
   "source": [
    "sc.pl.matrixplot(tildata[tildata.obs['celltype3_pub']==ofc],categories_order=myorder,\n",
    "                 var_names=list(b.union(a)),groupby='PatRCat', standard_scale='var')\n",
    "#fig.savefig(figdir+'/CellphoneDB-'+ofc.replace(\" \", \"_\")+'_selected_fisherp03-pickedDEcandidates.pdf') "
   ]
  },
  {
   "cell_type": "code",
   "execution_count": null,
   "metadata": {},
   "outputs": [],
   "source": [
    "#sns.clustermap(topcdc1_rev.loc[topcdc1_rev,:],figsize=(7,18))\n",
    "#fig.savefig(figdir+'/CellphoneDB-'+ofc.replace(\" \", \"_\")+'_topcut_'+str(topcut)+'_rev.pdf') "
   ]
  },
  {
   "cell_type": "code",
   "execution_count": null,
   "metadata": {},
   "outputs": [],
   "source": [
    "sns.clustermap(cdc1tab.loc[topcdc1,:],figsize=(7,18))\n",
    "fig.savefig(figdir+'/CellphoneDB-'+ofc.replace(\" \", \"_\")+'_topcut_'+str(topcut)+'.pdf') "
   ]
  },
  {
   "cell_type": "code",
   "execution_count": null,
   "metadata": {},
   "outputs": [],
   "source": [
    "\n",
    "cd8NRgenes=pd.read_csv(figdir+'DEanalysis_wilcoxon.cd8tcells-noNKT-TILonly.NRhigh.tsv',sep='\\t')\n",
    "cd8Rgenes=pd.read_csv(figdir+'DEanalysis_wilcoxon.cd8tcells-noNKT-TILonly.Rhigh.tsv',sep='\\t')"
   ]
  },
  {
   "cell_type": "code",
   "execution_count": null,
   "metadata": {},
   "outputs": [],
   "source": [
    "\n",
    "\n",
    "inpath='/Fullanalysis/analyzed/sw_besca2_immune/velocity/publication/'\n",
    "\n",
    "\n",
    "lingenes0to6=pd.read_csv(inpath+'Lingenes_CD8Tcell-All_PBMCandTIL_rbdata_leiden_0to6.tsv',sep='\\t')\n",
    "lingenes0to5=pd.read_csv(inpath+'Lingenes_CD8Tcell-All_PBMCandTIL_nrbdata_leiden_0to11.tsv',sep='\\t')\n",
    "lingenes0to6=lingenes0to6.loc[lingenes0to6['to 5']>0.1]\n",
    "lingenes0to5=lingenes0to5.loc[lingenes0to5['to 5']>0.1]\n",
    "\n",
    "lingenes9to0R=pd.read_csv(inpath+'Lingenes_CD8Tcell-All_PBMCandTIL_rbdata_leiden_9to0.tsv',sep='\\t')\n",
    "lingenes9to11NR=pd.read_csv(inpath+'Lingenes_CD8Tcell-All_PBMCandTIL_nrbdata_leiden_9to11.tsv',sep='\\t')\n",
    "lingenes9to11NR=lingenes9to11NR.loc[lingenes9to11NR['to 5']>0.1]\n",
    "lingenes9to0R=lingenes9to0R.loc[lingenes9to11NR['to 5']>0.1]\n",
    "\n",
    "topc6genes=pd.read_csv(inpath+'DEclustergenes_5vs6_CD8Tcell-All_PBMCandTIL_subdata_leiden_6.tsv',sep='\\t')\n",
    "topc5genes=pd.read_csv(inpath+'DEclustergenes_5vs6_CD8Tcell-All_PBMCandTIL_subdata_leiden_5.tsv',sep='\\t')\n",
    "\n",
    "rgenesc0R=pd.read_csv(inpath+'DEresponsegenes_c0_CD8Tcell-All_PBMCandTIL_subdata_leiden_R.tsv',sep='\\t')\n",
    "rgenesc0NR=pd.read_csv(inpath+'DEresponsegenes_c0_CD8Tcell-All_PBMCandTIL_subdata_leiden_PD.tsv',sep='\\t')\n",
    "\n",
    "rgenesc9R=pd.read_csv(inpath+'DEresponsegenes_c9_CD8Tcell-All_PBMCandTIL_subdata_leiden_R.tsv',sep='\\t')\n",
    "rgenesc9NR=pd.read_csv(inpath+'DEresponsegenes_c9_CD8Tcell-All_PBMCandTIL_subdata_leiden_PD.tsv',sep='\\t')\n",
    "\n",
    "rgenesc8R=pd.read_csv(inpath+'DEresponsegenes_c8_CD8Tcell-All_PBMCandTIL_subdata_leiden_R.tsv',sep='\\t')\n",
    "rgenesc8NR=pd.read_csv(inpath+'DEresponsegenes_c8_CD8Tcell-All_PBMCandTIL_subdata_leiden_PD.tsv',sep='\\t')"
   ]
  },
  {
   "cell_type": "code",
   "execution_count": null,
   "metadata": {},
   "outputs": [],
   "source": [
    "topc5genes"
   ]
  },
  {
   "cell_type": "code",
   "execution_count": null,
   "metadata": {},
   "outputs": [],
   "source": [
    "topc6genes"
   ]
  },
  {
   "cell_type": "code",
   "execution_count": null,
   "metadata": {},
   "outputs": [],
   "source": [
    "    import gseapy\n",
    "    #gseapy.get_library_name()\n",
    "    \n",
    "    dbs=['KEGG_2021_Human','GO_Biological_Process_2021','Reactome_2016',\n",
    "     'Human_Gene_Atlas','WikiPathways_2019_Human','ChEA_2016',\n",
    "     'CellMarker_Augmented_2021','Azimuth_Cell_Types_2021','COVID-19_Related_Gene_Sets_2021',\n",
    "     'MSigDB_Hallmark_2020']\n",
    "\n"
   ]
  },
  {
   "cell_type": "code",
   "execution_count": null,
   "metadata": {},
   "outputs": [],
   "source": [
    "    cd8tcdata_full.raw.var['MeanExpr']=cd8tcdata_full.raw.X.mean(axis=0).tolist()[0]"
   ]
  },
  {
   "cell_type": "code",
   "execution_count": null,
   "metadata": {},
   "outputs": [],
   "source": [
    "for j in dbs:\n",
    "    gseapy.enrichr(gene_list=list(topc6genes.Name), description='DEanalysis_wilcoxon.veloCD8Tcells-6High-5vs6.Rhigh.tsv', \n",
    "        gene_sets=j, background=list(cd8tcdata_full.raw.var.loc[cd8tcdata_full.raw.var['MeanExpr']>0.01]['SYMBOL']),cutoff=0.05, format='png',outdir=figdir+'enrichr/veloCD8Tcells-6High-5vs6/')\n",
    "    gseapy.enrichr(gene_list=list(topc5genes.Name), description='DEanalysis_wilcoxon.veloCD8Tcells-5High-5vs6.Rhigh.tsv', \n",
    "        gene_sets=j, background=list(cd8tcdata_full.raw.var.loc[cd8tcdata_full.raw.var['MeanExpr']>0.01]['SYMBOL']),cutoff=0.05, format='png',outdir=figdir+'enrichr/veloCD8Tcells-5High-5vs6/')\n"
   ]
  },
  {
   "cell_type": "code",
   "execution_count": null,
   "metadata": {},
   "outputs": [],
   "source": [
    "a"
   ]
  },
  {
   "cell_type": "code",
   "execution_count": null,
   "metadata": {},
   "outputs": [],
   "source": [
    "topR=((set(rgenesc0R['Name']).union(set(cd8Rgenes['Unnamed: 0']))).intersection(set(topc6genes['Name']))).union(set(lingenes9to0R['Unnamed: 0']))"
   ]
  },
  {
   "cell_type": "code",
   "execution_count": null,
   "metadata": {},
   "outputs": [],
   "source": [
    "topNR=(set(rgenesc0NR['Name']).union(set(cd8NRgenes['Unnamed: 0']))).intersection(set(topc5genes['Name'])).union(set(lingenes9to11NR['Unnamed: 0']))"
   ]
  },
  {
   "cell_type": "code",
   "execution_count": null,
   "metadata": {},
   "outputs": [],
   "source": [
    "shared=topR.intersection(topNR)\n",
    "topNR=topNR-shared\n",
    "topR=topR-shared"
   ]
  },
  {
   "cell_type": "code",
   "execution_count": null,
   "metadata": {},
   "outputs": [],
   "source": [
    "topR"
   ]
  },
  {
   "cell_type": "code",
   "execution_count": null,
   "metadata": {},
   "outputs": [],
   "source": [
    "topNR.intersection(specgenes)"
   ]
  },
  {
   "cell_type": "code",
   "execution_count": null,
   "metadata": {},
   "outputs": [],
   "source": [
    "oinr=topNR.copy() #cdcNRgenes.copy()\n",
    "oir=topR.copy()  #cdcRgenes.copy()"
   ]
  },
  {
   "cell_type": "code",
   "execution_count": null,
   "metadata": {},
   "outputs": [],
   "source": [
    "cdc1tab"
   ]
  },
  {
   "cell_type": "code",
   "execution_count": null,
   "metadata": {},
   "outputs": [],
   "source": [
    "cdc1tab"
   ]
  },
  {
   "cell_type": "code",
   "execution_count": null,
   "metadata": {},
   "outputs": [],
   "source": [
    "mymatchnr"
   ]
  },
  {
   "cell_type": "code",
   "execution_count": null,
   "metadata": {},
   "outputs": [],
   "source": [
    "oinr.intersection(set(['MIF','TNFRSF17','CD70','CXCL13','CXCR5','CD74','CD72','APP']))"
   ]
  },
  {
   "cell_type": "code",
   "execution_count": null,
   "metadata": {},
   "outputs": [],
   "source": [
    "sns.clustermap(cdc1tab.loc[mymatchnr,:],figsize=(10,8))\n",
    "#fig.savefig(figdir+'/CellphoneDB-'+ofc.replace(\" \", \"_\")+'_topcut_'+str(topcut)+'.pdf') "
   ]
  },
  {
   "cell_type": "code",
   "execution_count": null,
   "metadata": {},
   "outputs": [],
   "source": [
    "oinr.intersection(set(['CD70','TNFRSF17']))"
   ]
  },
  {
   "cell_type": "code",
   "execution_count": null,
   "metadata": {},
   "outputs": [],
   "source": [
    "x='ACKR1_CCL17'"
   ]
  },
  {
   "cell_type": "code",
   "execution_count": null,
   "metadata": {},
   "outputs": [],
   "source": [
    "list(filter(lambda x:i in x.split('_')[0], list(cdc1tab.index)))"
   ]
  },
  {
   "cell_type": "code",
   "execution_count": null,
   "metadata": {},
   "outputs": [],
   "source": [
    "mymatch=set()\n",
    "for i in list(oinr):\n",
    "    mymatch=mymatch.union(set(list(filter(lambda x:i==x.split('_')[0], list(cdc1tab.index)))))\n",
    "mymatchnr=list(mymatch).copy()"
   ]
  },
  {
   "cell_type": "code",
   "execution_count": null,
   "metadata": {},
   "outputs": [],
   "source": [
    "\n",
    "\n",
    "mymatch=set()\n",
    "for i in list(oir):\n",
    "    mymatch=mymatch.union(set(list(filter(lambda x:i==x.split('_')[0], list(cdc1tab.index)))))\n",
    "mymatchr=list(mymatch).copy()\n",
    "\n"
   ]
  },
  {
   "cell_type": "code",
   "execution_count": null,
   "metadata": {},
   "outputs": [],
   "source": [
    "mymatchnr"
   ]
  },
  {
   "cell_type": "code",
   "execution_count": null,
   "metadata": {},
   "outputs": [],
   "source": [
    "mymatchr"
   ]
  },
  {
   "cell_type": "code",
   "execution_count": null,
   "metadata": {},
   "outputs": [],
   "source": [
    "sns.clustermap(cdc1tab.loc[mymatchr,:],figsize=(12,4))\n",
    "#fig.savefig(figdir+'/CellphoneDB-'+ofc.replace(\" \", \"_\")+'_topcut_'+str(topcut)+'.pdf') "
   ]
  },
  {
   "cell_type": "code",
   "execution_count": null,
   "metadata": {},
   "outputs": [],
   "source": [
    "if len(mymatchr)>0:\n",
    "    sns.clustermap(cdc1tab.loc[mymatchnr,:],figsize=(12,5))\n",
    "    #fig.savefig(figdir+'/CellphoneDB-'+ofc.replace(\" \", \"_\")+'_topcut_'+str(topcut)+'.pdf') "
   ]
  },
  {
   "cell_type": "code",
   "execution_count": null,
   "metadata": {},
   "outputs": [],
   "source": [
    "mymatch=set()\n",
    "for i in list(oinr['Name']):\n",
    "    mymatch=mymatch.union(set(list(filter(lambda x:i in x, list(cdc1tab_rev.index)))))\n",
    "mymatchnr=list(mymatch).copy()\n",
    "\n",
    "mymatch=set()\n",
    "for i in list(oir['Name']):\n",
    "    mymatch=mymatch.union(set(list(filter(lambda x:i in x, list(cdc1tab_rev.index)))))\n",
    "mymatchr=list(mymatch).copy()\n",
    "\n",
    "sns.clustermap(cdc1tab_rev.loc[mymatchnr,:],figsize=(8,5))\n",
    "#fig.savefig(figdir+'/CellphoneDB-'+ofc.replace(\" \", \"_\")+'_topcut_'+str(topcut)+'.pdf') "
   ]
  },
  {
   "cell_type": "code",
   "execution_count": null,
   "metadata": {},
   "outputs": [],
   "source": [
    "if len(mymatchr)>0:\n",
    "    sns.clustermap(cdc1tab_rev.loc[mymatchr,:],figsize=(8,8))\n",
    "    #fig.savefig(figdir+'/CellphoneDB-'+ofc.replace(\" \", \"_\")+'_topcut_'+str(topcut)+'.pdf') "
   ]
  },
  {
   "cell_type": "code",
   "execution_count": null,
   "metadata": {},
   "outputs": [],
   "source": [
    "#### Any of the genes of interest among the interacting parters? \n",
    "DEclustergenes6=pd.read_csv('/Fullanalysis/analyzed/sw_besca2_immune/velocity/publication/DEclustergenes_5vs6_CD8Tcell-All_PBMCandTIL_subdata_leiden_6.tsv',sep='\\t')\n",
    "DEclustergenes5=pd.read_csv('/Fullanalysis/analyzed/sw_besca2_immune/velocity/publication/DEclustergenes_5vs6_CD8Tcell-All_PBMCandTIL_subdata_leiden_5.tsv',sep='\\t')"
   ]
  },
  {
   "cell_type": "code",
   "execution_count": null,
   "metadata": {},
   "outputs": [],
   "source": [
    "cdc1tab"
   ]
  },
  {
   "cell_type": "code",
   "execution_count": null,
   "metadata": {},
   "outputs": [],
   "source": [
    "mymatch=set()\n",
    "for i in list(DEclustergenes6['Name']):\n",
    "    mymatch=mymatch.union(set(list(filter(lambda x:i in x, list(cdc1tab.index)))))\n",
    "mymatch6=list(mymatch)"
   ]
  },
  {
   "cell_type": "code",
   "execution_count": null,
   "metadata": {},
   "outputs": [],
   "source": [
    "mymatch=set()\n",
    "for i in list(DEclustergenes5['Name']):\n",
    "    mymatch=mymatch.union(set(list(filter(lambda x:i in x, list(cdc1tab.index)))))\n",
    "mymatch5=list(mymatch)"
   ]
  },
  {
   "cell_type": "code",
   "execution_count": null,
   "metadata": {},
   "outputs": [],
   "source": [
    "sns.clustermap(cdc1tab.loc[mymatch6,:],figsize=(8,8))\n",
    "#fig.savefig(figdir+'/CellphoneDB-'+ofc.replace(\" \", \"_\")+'_topcut_'+str(topcut)+'.pdf') "
   ]
  },
  {
   "cell_type": "code",
   "execution_count": null,
   "metadata": {},
   "outputs": [],
   "source": [
    "sns.clustermap(cdc1tab.loc[mymatch5,:],figsize=(8,5))"
   ]
  },
  {
   "cell_type": "markdown",
   "metadata": {},
   "source": [
    "### Proportion plots"
   ]
  },
  {
   "cell_type": "code",
   "execution_count": null,
   "metadata": {},
   "outputs": [],
   "source": [
    "propdir=figdir+'/frequencies/'\n",
    "allcd8=ddata[ddata.obs['celltype2_pub']=='CD8-positive T cell'].copy()\n",
    "allcd8.obs['leiden_velo']='100'\n",
    "tmp=allcd8.obs['leiden_velo'].copy()\n",
    "tmp[cd8tcdata_full.obs['CELL']]=list(cd8tcdata_full.obs['leiden'])\n",
    "allcd8.obs['leiden_velo']=tmp.copy()"
   ]
  },
  {
   "cell_type": "code",
   "execution_count": null,
   "metadata": {},
   "outputs": [],
   "source": [
    "sc.settings.set_figure_params()"
   ]
  },
  {
   "cell_type": "code",
   "execution_count": null,
   "metadata": {},
   "outputs": [],
   "source": [
    "sc.pl.umap(allcd8,color=['leiden_velo'], legend_loc='on data', legend_fontsize=8, save='CD8T-projected-original.svg')"
   ]
  },
  {
   "cell_type": "code",
   "execution_count": null,
   "metadata": {},
   "outputs": [],
   "source": [
    "#allcd8.obs['Sample type']"
   ]
  },
  {
   "cell_type": "code",
   "execution_count": null,
   "metadata": {},
   "outputs": [],
   "source": [
    "allcd8tu=allcd8[allcd8.obs['Sample type']=='TIL'].copy()\n",
    "allcd8pbmc=allcd8[allcd8.obs['Sample type']=='PBMC'].copy()"
   ]
  },
  {
   "cell_type": "code",
   "execution_count": null,
   "metadata": {},
   "outputs": [],
   "source": [
    "#mysubs=['celltype4_pub','celltype3_pub','celltype2_pub', 'celltype1']\n",
    "mysubs=['leiden_velo']\n",
    "for what in mysubs:\n",
    "    \n",
    "    df1=bc.tl.count_occurrence_subset_conditions(allcd8, subset_variable = 'PatientID', count_variable = what, condition_identifier = 'Sample type',  return_percentage = True)\n",
    "    df1.to_csv(propdir+'AllCD8_PBMCvsTIL_celltypeFreq_'+what+'.tsv')\n",
    "    df2=bc.tl.count_occurrence_subset_conditions(allcd8, subset_variable = 'PatientID', count_variable = what, condition_identifier = 'Sample type',  return_percentage = False)\n",
    "    df2.to_csv(propdir+'AllCD8_PBMCvsTIL_celltypeNrs_'+what+'.tsv')\n",
    "    \n",
    "    df1=bc.tl.count_occurrence_subset_conditions(allcd8pbmc, subset_variable = 'PatientID', count_variable = what, condition_identifier = 'RCat',  return_percentage = True)\n",
    "    df1.to_csv(propdir+'AllCD8_PBMCs_celltypeFreq_'+what+'.tsv')\n",
    "    df2=bc.tl.count_occurrence_subset_conditions(allcd8pbmc, subset_variable = 'PatientID', count_variable = what, condition_identifier = 'RCat',  return_percentage = False)\n",
    "    df2.to_csv(propdir+'AllCD8_PBMCs_celltypeNrs_'+what+'.tsv')\n",
    "    \n",
    "    df1=bc.tl.count_occurrence_subset_conditions(allcd8tu, subset_variable = 'PatientID', count_variable = what, condition_identifier = 'RCat',  return_percentage = True)\n",
    "    df1.to_csv(propdir+'AllCD8_TIL_celltypeFreq_'+what+'.tsv')\n",
    "    df2=bc.tl.count_occurrence_subset_conditions(allcd8tu, subset_variable = 'PatientID', count_variable = what, condition_identifier = 'RCat',  return_percentage = False)\n",
    "    df2.to_csv(propdir+'AllCD8_TIL_celltypeNrs_'+what+'.tsv')\n",
    "    \n"
   ]
  },
  {
   "cell_type": "code",
   "execution_count": null,
   "metadata": {},
   "outputs": [],
   "source": [
    "#mysubs=['celltype4_pub','celltype3_pub','celltype2_pub', 'celltype1']\n",
    "mysubs=['celltype4_pub']\n",
    "for what in mysubs:\n",
    "    \n",
    "    df1=bc.tl.count_occurrence_subset_conditions(ddata, subset_variable = 'PatientID', count_variable = what, condition_identifier = 'Sample type',  return_percentage = True)\n",
    "    df1.to_csv(propdir+'PBMCvsTIL_celltypeFreq_'+what+'.tsv')\n",
    "    df2=bc.tl.count_occurrence_subset_conditions(ddata, subset_variable = 'PatientID', count_variable = what, condition_identifier = 'Sample type',  return_percentage = False)\n",
    "    df2.to_csv(propdir+'PBMCvsTIL_celltypeNrs_'+what+'.tsv')\n",
    "    \n",
    "    df1=bc.tl.count_occurrence_subset_conditions(pbmcdata, subset_variable = 'PatientID', count_variable = what, condition_identifier = 'RCat',  return_percentage = True)\n",
    "    df1.to_csv(propdir+'PBMCs_celltypeFreq_'+what+'.tsv')\n",
    "    df2=bc.tl.count_occurrence_subset_conditions(pbmcdata, subset_variable = 'PatientID', count_variable = what, condition_identifier = 'RCat',  return_percentage = False)\n",
    "    df2.to_csv(propdir+'PBMCs_celltypeNrs_'+what+'.tsv')\n",
    "    \n",
    "    df1=bc.tl.count_occurrence_subset_conditions(tildata, subset_variable = 'PatientID', count_variable = what, condition_identifier = 'RCat',  return_percentage = True)\n",
    "    df1.to_csv(propdir+'TIL_celltypeFreq_'+what+'.tsv')\n",
    "    df2=bc.tl.count_occurrence_subset_conditions(tildata, subset_variable = 'PatientID', count_variable = what, condition_identifier = 'RCat',  return_percentage = False)\n",
    "    df2.to_csv(propdir+'TIL_celltypeNrs_'+what+'.tsv')\n",
    "    \n"
   ]
  },
  {
   "cell_type": "code",
   "execution_count": null,
   "metadata": {},
   "outputs": [],
   "source": [
    "macrodata.obs.index=list(macrodata.obs['CELL'])"
   ]
  },
  {
   "cell_type": "code",
   "execution_count": null,
   "metadata": {},
   "outputs": [],
   "source": [
    "allmacro_full=ddata[ddata.obs['celltype2_pub'].isin(['macrophage','classical monocyte'])].copy()\n",
    "macrodata=macrodata[macrodata.obs.index.isin(list(allmacro_full.obs.index))]"
   ]
  },
  {
   "cell_type": "code",
   "execution_count": null,
   "metadata": {},
   "outputs": [],
   "source": [
    "\n",
    "allmacro_full.obs['leiden_velo']='100'\n",
    "tmp=allmacro_full.obs['leiden_velo'].copy()\n",
    "tmp[macrodata.obs['CELL']]=list(macrodata.obs['leiden'])\n",
    "allmacro_full.obs['leiden_velo']=tmp.copy()"
   ]
  },
  {
   "cell_type": "code",
   "execution_count": null,
   "metadata": {},
   "outputs": [],
   "source": [
    "allmacro_full=allmacro_full[allmacro_full.obs['leiden_velo']!='100']"
   ]
  },
  {
   "cell_type": "code",
   "execution_count": null,
   "metadata": {},
   "outputs": [],
   "source": [
    "sns.set_theme(style=\"ticks\")"
   ]
  },
  {
   "cell_type": "code",
   "execution_count": null,
   "metadata": {},
   "outputs": [],
   "source": [
    "sc.pl.umap(allmacro_full,color=['leiden_velo'], legend_loc='on data', legend_fontsize=8, save='-MonoMacro_projected_original.svg')"
   ]
  },
  {
   "cell_type": "code",
   "execution_count": null,
   "metadata": {},
   "outputs": [],
   "source": [
    "allmacrotu=allmacro_full[allmacro_full.obs['Sample type']=='TIL'].copy()\n",
    "allmacropmbc=allmacro_full[allmacro_full.obs['Sample type']=='PBMC'].copy()\n"
   ]
  },
  {
   "cell_type": "code",
   "execution_count": null,
   "metadata": {},
   "outputs": [],
   "source": [
    "\n",
    "#mysubs=['celltype4_pub','celltype3_pub','celltype2_pub', 'celltype1']\n",
    "mysubs=['leiden_velo']\n",
    "for what in mysubs:\n",
    "    \n",
    "    df1=bc.tl.count_occurrence_subset_conditions(allmacro_full, subset_variable = 'PatientID', count_variable = what, condition_identifier = 'Sample type',  return_percentage = True)\n",
    "    df1.to_csv(propdir+'Macro_PBMCvsTIL_celltypeFreq_'+what+'.tsv')\n",
    "    df2=bc.tl.count_occurrence_subset_conditions(allmacro_full, subset_variable = 'PatientID', count_variable = what, condition_identifier = 'Sample type',  return_percentage = False)\n",
    "    df2.to_csv(propdir+'Macro_PBMCvsTIL_celltypeNrs_'+what+'.tsv')\n",
    "    \n",
    "    df1=bc.tl.count_occurrence_subset_conditions(allmacropmbc, subset_variable = 'PatientID', count_variable = what, condition_identifier = 'RCat',  return_percentage = True)\n",
    "    df1.to_csv(propdir+'Macro_PBMCs_celltypeFreq_'+what+'.tsv')\n",
    "    df2=bc.tl.count_occurrence_subset_conditions(allmacropmbc, subset_variable = 'PatientID', count_variable = what, condition_identifier = 'RCat',  return_percentage = False)\n",
    "    df2.to_csv(propdir+'Macro_PBMCs_celltypeNrs_'+what+'.tsv')\n",
    "    \n",
    "    df1=bc.tl.count_occurrence_subset_conditions(allmacrotu, subset_variable = 'PatientID', count_variable = what, condition_identifier = 'RCat',  return_percentage = True)\n",
    "    df1.to_csv(propdir+'Macro_TIL_celltypeFreq_'+what+'.tsv')\n",
    "    df2=bc.tl.count_occurrence_subset_conditions(allmacrotu, subset_variable = 'PatientID', count_variable = what, condition_identifier = 'RCat',  return_percentage = False)\n",
    "    df2.to_csv(propdir+'Macro_TIL_celltypeNrs_'+what+'.tsv')\n",
    "    \n"
   ]
  },
  {
   "cell_type": "code",
   "execution_count": null,
   "metadata": {},
   "outputs": [],
   "source": [
    "#mutdata=ddata[ddata.obs['Mutation'].isin(['NRAS','BRAF'])].copy()\n",
    "mutdatatil=tildata[tildata.obs['Mutation'].isin(['NRAS','BRAF'])].copy()\n",
    "mutdatapbmc=pbmcdata[pbmcdata.obs['Mutation'].isin(['NRAS','BRAF'])].copy()"
   ]
  },
  {
   "cell_type": "code",
   "execution_count": null,
   "metadata": {},
   "outputs": [],
   "source": [
    "mysubs=['celltype4_pub','celltype3_pub','celltype2_pub', 'celltype1']\n",
    "#mysubs=['celltype4_pub']\n",
    "for what in mysubs:\n",
    "    \n",
    "    df1=bc.tl.count_occurrence_subset_conditions(mutdatapbmc, subset_variable = 'PatientID', count_variable = what, condition_identifier = 'Mutation',  return_percentage = True)\n",
    "    df1.to_csv(propdir+'PBMCs_celltypeFreq_Mutation_'+what+'.tsv')\n",
    "    df2=bc.tl.count_occurrence_subset_conditions(mutdatapbmc, subset_variable = 'PatientID', count_variable = what, condition_identifier = 'Mutation',  return_percentage = False)\n",
    "    df2.to_csv(propdir+'PBMCs_celltypeNrs_Mutation_'+what+'.tsv')\n",
    "    \n",
    "    df1=bc.tl.count_occurrence_subset_conditions(mutdatatil, subset_variable = 'PatientID', count_variable = what, condition_identifier = 'Mutation',  return_percentage = True)\n",
    "    df1.to_csv(propdir+'TIL_celltypeFreq_Mutation_'+what+'.tsv')\n",
    "    df2=bc.tl.count_occurrence_subset_conditions(mutdatatil, subset_variable = 'PatientID', count_variable = what, condition_identifier = 'Mutation',  return_percentage = False)\n",
    "    df2.to_csv(propdir+'TIL_celltypeNrs_Mutation_'+what+'.tsv')\n",
    "    \n"
   ]
  },
  {
   "cell_type": "code",
   "execution_count": null,
   "metadata": {},
   "outputs": [],
   "source": [
    "#mutdata=ddata[ddata.obs['Mutation'].isin(['NRAS','BRAF'])].copy()\n",
    "tissdatatil=tildata[tildata.obs['Lesion'].isin(['LN','Brain','Subc'])].copy()\n",
    "tissdatapbmc=pbmcdata[pbmcdata.obs['Lesion'].isin(['LN','Brain','Subc'])].copy()\n"
   ]
  },
  {
   "cell_type": "code",
   "execution_count": null,
   "metadata": {},
   "outputs": [],
   "source": [
    "\n",
    "mysubs=['celltype4_pub','celltype3_pub','celltype2_pub', 'celltype1']\n",
    "#mysubs=['celltype4_pub']\n",
    "for what in mysubs:\n",
    "    \n",
    "    df1=bc.tl.count_occurrence_subset_conditions(tissdatapbmc, subset_variable = 'PatientID', count_variable = what, condition_identifier = 'Lesion',  return_percentage = True)\n",
    "    df1.to_csv(propdir+'PBMCs_celltypeFreq_Lesion_'+what+'.tsv')\n",
    "    df2=bc.tl.count_occurrence_subset_conditions(tissdatapbmc, subset_variable = 'PatientID', count_variable = what, condition_identifier = 'Lesion',  return_percentage = False)\n",
    "    df2.to_csv(propdir+'PBMCs_celltypeNrs_Lesion_'+what+'.tsv')\n",
    "    \n",
    "    df1=bc.tl.count_occurrence_subset_conditions(tissdatatil, subset_variable = 'PatientID', count_variable = what, condition_identifier = 'Lesion',  return_percentage = True)\n",
    "    df1.to_csv(propdir+'TIL_celltypeFreq_Lesion_'+what+'.tsv')\n",
    "    df2=bc.tl.count_occurrence_subset_conditions(tissdatatil, subset_variable = 'PatientID', count_variable = what, condition_identifier = 'Lesion',  return_percentage = False)\n",
    "    df2.to_csv(propdir+'TIL_celltypeNrs_Lesion_'+what+'.tsv')\n",
    "    \n"
   ]
  },
  {
   "cell_type": "code",
   "execution_count": null,
   "metadata": {},
   "outputs": [],
   "source": [
    "from scipy import stats\n",
    "import itertools\n",
    "\n",
    "def getPs(cellFreqs,myconditions,name1):\n",
    "    totest=list(itertools.combinations(myconditions, 2))\n",
    "    pwilc={}\n",
    "    pt={}\n",
    "    for pairs in totest:\n",
    "        pwilc[pairs[0]+'-'+pairs[1]]=stats.mannwhitneyu(list(cellFreqs.loc[cellFreqs[name1]==pairs[0],:].iloc[:,1]), \n",
    "                           list(cellFreqs.loc[cellFreqs[name1]==pairs[1],:].iloc[:,1]))[1]\n",
    "        pt[pairs[0]+'-'+pairs[1]]=stats.ttest_ind(list(cellFreqs.loc[cellFreqs[name1]==pairs[0],:].iloc[:,1]), \n",
    "                           list(cellFreqs.loc[cellFreqs[name1]==pairs[1],:].iloc[:,1]))[1]\n",
    "\n",
    "    myps=pd.DataFrame([pwilc,pt]).transpose()\n",
    "    myps.columns=['MannWhitney','T-test']\n",
    "    return(myps)\n",
    "\n",
    "sns.set_theme(style=\"ticks\")\n"
   ]
  },
  {
   "cell_type": "code",
   "execution_count": null,
   "metadata": {},
   "outputs": [],
   "source": [
    "figdir"
   ]
  },
  {
   "cell_type": "markdown",
   "metadata": {},
   "source": [
    "### Lesion comparison"
   ]
  },
  {
   "cell_type": "markdown",
   "metadata": {},
   "source": [
    "##### Lev 1 - TIL"
   ]
  },
  {
   "cell_type": "code",
   "execution_count": null,
   "metadata": {},
   "outputs": [],
   "source": [
    "what='celltype1'\n",
    "tilfreq=pd.read_csv(propdir+'TIL_celltypeFreq_Lesion_'+what+'.tsv',header=0)\n",
    "pbmcreq=pd.read_csv(propdir+'PBMCs_celltypeFreq_Lesion_'+what+'.tsv',header=0)\n",
    "\n",
    "tilfreq.index=tilfreq.iloc[:,0]\n",
    "pbmcreq.index=pbmcreq.iloc[:,0]\n",
    "\n",
    "rs=[x.split(' ')[2] for x in list(tilfreq.drop(columns=['Unnamed: 0']).columns)]\n",
    "patid=[x.split(' ')[1] for x in list(tilfreq.drop(columns=['Unnamed: 0']).columns)]\n",
    "\n",
    "toplot=tilfreq.drop(columns=['Unnamed: 0']).transpose()\n",
    "toplot['Lesion']=rs\n",
    "\n",
    "\n",
    "fig, axes = plt.subplots(1, 4,figsize=(14,3), gridspec_kw={'wspace': 0.5, 'left': 0.25})\n",
    "plt.subplots_adjust(left=0.2, right=0.98, top=0.86, bottom=0.1)\n",
    "\n",
    "axes = axes.flatten()\n",
    "\n",
    "pvals={}\n",
    "i=0\n",
    "for mycell in list(tilfreq.index):\n",
    "    ax=sns.boxplot(y=mycell,x='Lesion',data=toplot,ax=axes[i],\n",
    "                   orient='v',order=['LN','Brain','Subc'])\n",
    "    ax=sns.swarmplot(y=mycell,x='Lesion',data=toplot,color='black',ax=axes[i],\n",
    "                    order=['LN','Brain','Subc'])\n",
    "    ax.set_xticklabels(ax.get_xticklabels(), rotation=90,fontsize=10)\n",
    "    ax.tick_params(axis='y', labelsize=10)\n",
    "    ax.set_ylabel(ylabel='Perc '+mycell,fontsize=10)\n",
    "    ax.set_xlabel(xlabel='Response ',fontsize=10)\n",
    "    pvals[mycell]=getPs(toplot.loc[:,['Lesion',mycell]],['LN','Brain'],'Lesion').loc['LN-Brain',:]\n",
    "    i=i+1\n",
    "\n",
    "fig.savefig(figdir+'Celltypefreq-Lesion-TILs'+what+'.pdf', bbox_inches=\"tight\")\n",
    "fig.savefig(figdir+'Celltypefreq-Lesion-TILs'+what+'.eps', format='eps', bbox_inches=\"tight\")\n",
    "fig.savefig(figdir+'Celltypefreq-Lesion-TILs'+what+'.svg', format='svg', bbox_inches=\"tight\")\n",
    "\n",
    "pd.DataFrame.from_dict(pvals, orient='index').to_csv(figdir+'Pval-CellTypeFreq-TIL-'+what+'-per-Lesion.tsv',sep='\\t')\n",
    "pd.DataFrame.from_dict(pvals, orient='index').sort_values(by='MannWhitney')\n",
    "\n"
   ]
  },
  {
   "cell_type": "markdown",
   "metadata": {},
   "source": [
    "In tumor, in LN setting, more B lymphocytes. \n"
   ]
  },
  {
   "cell_type": "code",
   "execution_count": null,
   "metadata": {},
   "outputs": [],
   "source": [
    "##### Lev 1 - PBMC\n",
    "\n",
    "sns.set_theme(style=\"ticks\")\n",
    "\n",
    "\n",
    "rs=[x.split(' ')[2] for x in list(pbmcreq.drop(columns=['Unnamed: 0']).columns)]\n",
    "patid=[x.split(' ')[1] for x in list(pbmcreq.drop(columns=['Unnamed: 0']).columns)]\n",
    "\n",
    "toplot=pbmcreq.drop(columns=['Unnamed: 0']).transpose()\n",
    "toplot['Lesion']=rs\n",
    "\n",
    "\n",
    "\n",
    "fig, axes = plt.subplots(1, 4,figsize=(14,3), gridspec_kw={'wspace': 0.5, 'left': 0.25})\n",
    "plt.subplots_adjust(left=0.2, right=0.98, top=0.86, bottom=0.1)\n",
    "\n",
    "axes = axes.flatten()\n",
    "\n",
    "pvals={}\n",
    "\n",
    "i=0\n",
    "for mycell in list(pbmcreq.index):\n",
    "    ax=sns.boxplot(y=mycell,x='Lesion',data=toplot,ax=axes[i],\n",
    "                   orient='v',order=['LN','Brain','Subc'])\n",
    "    ax=sns.swarmplot(y=mycell,x='Lesion',data=toplot,color='black',ax=axes[i],\n",
    "                    order=['LN','Brain','Subc'])\n",
    "    ax.set_xticklabels(ax.get_xticklabels(), rotation=90,fontsize=10)\n",
    "    ax.tick_params(axis='y', labelsize=10)\n",
    "    ax.set_ylabel(ylabel='Perc '+mycell,fontsize=10)\n",
    "    ax.set_xlabel(xlabel='Response ',fontsize=10)\n",
    "    pvals[mycell]=getPs(toplot.loc[:,['Lesion',mycell]],['LN','Brain'],'Lesion').loc['LN-Brain',:]\n",
    "    i=i+1\n",
    "    \n",
    "     \n",
    "fig.savefig(figdir+'Celltypefreq-Lesion-PBMCs'+what+'.pdf', bbox_inches=\"tight\")\n",
    "fig.savefig(figdir+'Celltypefreq-Lesion-PBMCs'+what+'.eps', format='eps', bbox_inches=\"tight\")\n",
    "fig.savefig(figdir+'Celltypefreq-Lesion-PBMCs'+what+'.svg', format='svg', bbox_inches=\"tight\")\n",
    "\n",
    "pd.DataFrame.from_dict(pvals, orient='index').to_csv(figdir+'Pval-CellTypeFreq-PBMC-'+what+'-per-Lesion.tsv',sep='\\t')\n",
    "pd.DataFrame.from_dict(pvals, orient='index').sort_values(by='MannWhitney')\n"
   ]
  },
  {
   "cell_type": "code",
   "execution_count": null,
   "metadata": {},
   "outputs": [],
   "source": [
    "##### Lev 2 - TIL\n",
    "\n",
    "\n",
    "\n",
    "sns.set_theme(style=\"ticks\")\n",
    "what='celltype2_pub'\n",
    "tilfreq=pd.read_csv(propdir+'TIL_celltypeFreq_Lesion_'+what+'.tsv',header=0)\n",
    "pbmcreq=pd.read_csv(propdir+'PBMCs_celltypeFreq_Lesion_'+what+'.tsv',header=0)\n",
    "\n",
    "tilfreq.index=tilfreq.iloc[:,0]\n",
    "pbmcreq.index=pbmcreq.iloc[:,0]\n",
    "\n",
    "rs=[x.split(' ')[2] for x in list(tilfreq.drop(columns=['Unnamed: 0']).columns)]\n",
    "patid=[x.split(' ')[1] for x in list(tilfreq.drop(columns=['Unnamed: 0']).columns)]\n",
    "\n",
    "toplot=tilfreq.drop(columns=['Unnamed: 0']).transpose()\n",
    "toplot['Lesion']=rs\n",
    "\n",
    "\n",
    "fig, axes = plt.subplots(2, 6,figsize=(16,7), gridspec_kw={'wspace': 0.5, 'left': 0.25})\n",
    "plt.subplots_adjust(left=0.2, right=0.98, top=0.86, bottom=0.1)\n",
    "\n",
    "axes = axes.flatten()\n",
    "\n",
    "pvals={}\n",
    "i=0\n",
    "for mycell in list(tilfreq.index):\n",
    "    ax=sns.boxplot(y=mycell,x='Lesion',data=toplot,ax=axes[i],\n",
    "                   orient='v',order=['LN','Brain','Subc'])\n",
    "    ax=sns.swarmplot(y=mycell,x='Lesion',data=toplot,color='black',ax=axes[i],\n",
    "                    order=['LN','Brain','Subc'])\n",
    "    ax.set_xticklabels(ax.get_xticklabels(), rotation=90,fontsize=10)\n",
    "    ax.tick_params(axis='y', labelsize=10)\n",
    "    ax.set_ylabel(ylabel='Perc '+mycell,fontsize=10)\n",
    "    ax.set_xlabel(xlabel='Response ',fontsize=10)\n",
    "    pvals[mycell]=getPs(toplot.loc[:,['Lesion',mycell]],['LN','Brain'],'Lesion').loc['LN-Brain',:]\n",
    "    pvals[mycell]['log2FC']=np.log2((0.1+toplot.loc[:,['Lesion',mycell]].groupby('Lesion').mean().loc['LN',:])/(0.1+toplot.loc[:,['Lesion',mycell]].groupby('Lesion').mean().loc['Brain',:]))[0]\n",
    "\n",
    "    i=i+1\n",
    "\n",
    "fig.savefig(figdir+'Celltypefreq-Lesion-TILs'+what+'.pdf', bbox_inches=\"tight\")\n",
    "fig.savefig(figdir+'Celltypefreq-Lesion-TILs'+what+'.eps', format='eps', bbox_inches=\"tight\")\n",
    "fig.savefig(figdir+'Celltypefreq-Lesion-TILs'+what+'.svg', format='svg', bbox_inches=\"tight\")\n",
    "\n",
    "pd.DataFrame.from_dict(pvals, orient='index').to_csv(figdir+'Pval-CellTypeFreq-TIL-'+what+'-per-Lesion.tsv',sep='\\t')\n",
    "pd.DataFrame.from_dict(pvals, orient='index').sort_values(by='MannWhitney')\n",
    "\n",
    "\n"
   ]
  },
  {
   "cell_type": "code",
   "execution_count": null,
   "metadata": {},
   "outputs": [],
   "source": [
    "toinc=list(pd.DataFrame.from_dict(pvals, orient='index')['MannWhitney'][pd.DataFrame.from_dict(pvals, orient='index')['MannWhitney']<=0.1].index)\n",
    "\n",
    "plt.figure(figsize=(0.5,1.5))\n",
    "sns.set(font_scale=0.8)\n",
    "sns_plot=sns.heatmap(pd.DataFrame(pd.DataFrame.from_dict(pvals, orient='index').loc[toinc,:]['log2FC'].sort_values(ascending=False)),center=0.00,cmap=sns.diverging_palette(220, 20, as_cmap=True))\n",
    "fig = sns_plot.get_figure()\n",
    "fig.savefig(figdir+'Celltypefreq-Lesion-summary-'+what+'.pdf', bbox_inches=\"tight\", dpi=300)\n",
    "#fig.savefig(figdir+'Celltypefreq-Lesion-summary-'+what+'.eps', format='eps')\n",
    "fig.savefig(figdir+'Celltypefreq-Lesion-summary'+what+'.eps', format='eps', bbox_inches=\"tight\", dpi=300)\n",
    "fig.savefig(figdir+'Celltypefreq-Lesion-summary'+what+'.svg', format='svg', bbox_inches=\"tight\", dpi=300)\n",
    "#In tumor, in BRAF setting, more B cells, CD4+ T cells, less macrophages and CD8+ T cells. \n"
   ]
  },
  {
   "cell_type": "code",
   "execution_count": null,
   "metadata": {},
   "outputs": [],
   "source": [
    "##### Lev 2 - PBMC\n",
    "\n",
    "\n",
    "\n",
    "sns.set_theme(style=\"ticks\")\n",
    "rs=[x.split(' ')[2] for x in list(pbmcreq.drop(columns=['Unnamed: 0']).columns)]\n",
    "patid=[x.split(' ')[1] for x in list(pbmcreq.drop(columns=['Unnamed: 0']).columns)]\n",
    "\n",
    "toplot=pbmcreq.drop(columns=['Unnamed: 0']).transpose()\n",
    "toplot['Lesion']=rs\n",
    "\n",
    "\n",
    "\n",
    "fig, axes = plt.subplots(2, 6,figsize=(16,7), gridspec_kw={'wspace': 0.5, 'left': 0.25})\n",
    "plt.subplots_adjust(left=0.2, right=0.98, top=0.86, bottom=0.1)\n",
    "axes = axes.flatten()\n",
    "\n",
    "pvals={}\n",
    "\n",
    "i=0\n",
    "for mycell in list(pbmcreq.index):\n",
    "    ax=sns.boxplot(y=mycell,x='Lesion',data=toplot,ax=axes[i],\n",
    "                   orient='v',order=['LN','Brain','Subc'])\n",
    "    ax=sns.swarmplot(y=mycell,x='Lesion',data=toplot,color='black',ax=axes[i],\n",
    "                    order=['LN','Brain','Subc'])\n",
    "    ax.set_xticklabels(ax.get_xticklabels(), rotation=90,fontsize=10)\n",
    "    ax.tick_params(axis='y', labelsize=10)\n",
    "    ax.set_ylabel(ylabel='Perc '+mycell,fontsize=10)\n",
    "    ax.set_xlabel(xlabel='Lesion ',fontsize=10)\n",
    "    pvals[mycell]=getPs(toplot.loc[:,['Lesion',mycell]],['LN','Brain'],'Lesion').loc['LN-Brain',:]\n",
    "\n",
    "    i=i+1\n",
    "    \n",
    "fig.savefig(figdir+'Celltypefreq-Lesion-PBMCs'+what+'.pdf',bbox_inches=\"tight\")\n",
    "fig.savefig(figdir+'Celltypefreq-Lesion-PBMCs'+what+'.eps', format='eps',bbox_inches=\"tight\")\n",
    "fig.savefig(figdir+'Celltypefreq-Lesion-PBMCs'+what+'.svg', format='svg',bbox_inches=\"tight\")\n",
    "\n",
    "pd.DataFrame.from_dict(pvals, orient='index').to_csv(figdir+'Pval-CellTypeFreq-PBMC-'+what+'-per-Lesion.tsv',sep='\\t')\n",
    "pd.DataFrame.from_dict(pvals, orient='index').sort_values(by='MannWhitney')\n",
    "\n",
    "\n"
   ]
  },
  {
   "cell_type": "code",
   "execution_count": null,
   "metadata": {},
   "outputs": [],
   "source": [
    "##### Lev 3 - TIL\n",
    "sns.set_theme(style=\"ticks\")\n",
    "\n",
    "\n",
    "what='celltype3_pub'\n",
    "mychoice=['CD141-positive myeloid dendritic cell',\n",
    " 'germinal center B cell',\n",
    " 'naive CD4-positive T cell',\n",
    " 'naive CD8-positive T cell',\n",
    " 'MSR1-positive macrophage',\n",
    " 'naive B cell',\n",
    " 'effector memory CD8-positive T cell',\n",
    " 'IL7R-max CD4-positive T cell',\n",
    " 'cytotoxic CD56-dim natural killer cell',\n",
    " 'macrophage',\n",
    " 'proliferating NK cell',\n",
    " 'plasmacytoid dendritic cell',\n",
    " 'B cell',\n",
    " 'regulatory T cell',\n",
    " 'CXCL9-positive macrophage',\n",
    " 'central memory CD4-positive T cell',\n",
    " 'memory B cell',\n",
    " 'classical monocyte',\n",
    " 'mature NK T cell',\n",
    " 'cytokine secreting effector CD8-positive T cell']\n",
    "\n",
    "tilfreq=pd.read_csv(propdir+'TIL_celltypeFreq_Lesion_'+what+'.tsv',header=0)\n",
    "pbmcreq=pd.read_csv(propdir+'PBMCs_celltypeFreq_Lesion_'+what+'.tsv',header=0)\n",
    "\n",
    "tilfreq.index=tilfreq.iloc[:,0]\n",
    "pbmcreq.index=pbmcreq.iloc[:,0]\n",
    "\n",
    "rs=[x.split(' ')[2] for x in list(tilfreq.drop(columns=['Unnamed: 0']).columns)]\n",
    "patid=[x.split(' ')[1] for x in list(tilfreq.drop(columns=['Unnamed: 0']).columns)]\n",
    "\n",
    "toplot=tilfreq.drop(columns=['Unnamed: 0']).transpose()\n",
    "toplot['Lesion']=rs\n",
    "\n",
    "\n",
    "fig, axes = plt.subplots(4, 5,figsize=(16,20), gridspec_kw={'wspace': 0.5, 'left': 0.25})\n",
    "plt.subplots_adjust(left=0.2, right=0.98, top=0.86, bottom=0.1)\n",
    "\n",
    "axes = axes.flatten()\n",
    "\n",
    "pvals={}\n",
    "i=0\n",
    "for mycell in mychoice:\n",
    "    ax=sns.boxplot(y=mycell,x='Lesion',data=toplot,ax=axes[i],\n",
    "                   orient='v',order=['LN','Brain','Subc'])\n",
    "    ax=sns.swarmplot(y=mycell,x='Lesion',data=toplot,color='black',ax=axes[i],\n",
    "                    order=['LN','Brain','Subc'])\n",
    "    ax.set_xticklabels(ax.get_xticklabels(), rotation=90,fontsize=10)\n",
    "    ax.tick_params(axis='y', labelsize=10)\n",
    "    ax.set_ylabel(ylabel='Perc '+mycell,fontsize=10)\n",
    "    ax.set_xlabel(xlabel='Lesion ',fontsize=10)\n",
    "    pvals[mycell]=getPs(toplot.loc[:,['Lesion',mycell]],['LN','Brain'],'Lesion').loc['LN-Brain',:]\n",
    "    pvals[mycell]['log2FC']=np.log2((0.1+toplot.loc[:,['Lesion',mycell]].groupby('Lesion').mean().loc['LN',:])/(0.1+toplot.loc[:,['Lesion',mycell]].groupby('Lesion').mean().loc['Brain',:]))[0]\n",
    "\n",
    "    i=i+1\n",
    "\n",
    "fig.savefig(figdir+'Celltypefreq-Lesion-TILs'+what+'.pdf',bbox_inches=\"tight\")\n",
    "fig.savefig(figdir+'Celltypefreq-Lesion-TILs'+what+'.eps', format='eps',bbox_inches=\"tight\")\n",
    "fig.savefig(figdir+'Celltypefreq-Lesion-TILs'+what+'.svg', format='svg',bbox_inches=\"tight\")\n",
    "\n",
    "pd.DataFrame.from_dict(pvals, orient='index').to_csv(figdir+'Pval-CellTypeFreq-TIL-'+what+'-per-Lesion.tsv',sep='\\t')\n",
    "pd.DataFrame.from_dict(pvals, orient='index').sort_values(by='MannWhitney')\n",
    "\n",
    "\n",
    "\n"
   ]
  },
  {
   "cell_type": "code",
   "execution_count": null,
   "metadata": {},
   "outputs": [],
   "source": [
    "#list(pd.DataFrame.from_dict(pvals, orient='index').sort_values(by='MannWhitney').index[0:20])\n"
   ]
  },
  {
   "cell_type": "code",
   "execution_count": null,
   "metadata": {},
   "outputs": [],
   "source": [
    "#list(pd.DataFrame.from_dict(pvals, orient='index').sort_values(by='MannWhitney').index[0:20])\n",
    "\n",
    "toinc=list(pd.DataFrame.from_dict(pvals, orient='index')['MannWhitney'][pd.DataFrame.from_dict(pvals, orient='index')['MannWhitney']<=0.1].index)\n",
    "#toinc=list(pd.DataFrame.from_dict(pvals, orient='index')['MannWhitney'][pd.DataFrame.from_dict(pvals, orient='index')['MannWhitney']<=1].index)\n",
    "\n",
    "plt.figure(figsize=(0.5,2))\n",
    "sns.set(font_scale=0.8)\n",
    "sns_plot=sns.heatmap(pd.DataFrame(pd.DataFrame.from_dict(pvals, orient='index').loc[toinc,:]['log2FC'].sort_values(ascending=False)),center=0.00,cmap=sns.diverging_palette(220, 20, as_cmap=True))\n",
    "fig = sns_plot.get_figure()\n",
    "fig.savefig(figdir+'Celltypefreq-Lesion-summary-'+what+'.pdf',bbox_inches=\"tight\")\n",
    "fig.savefig(figdir+'Celltypefreq-Lesion-summary-'+what+'.eps', format='eps',bbox_inches=\"tight\")\n",
    "fig.savefig(figdir+'Celltypefreq-Lesion-summary-'+what+'.svg', format='svg',bbox_inches=\"tight\")\n",
    "\n",
    "#In tumor, in BRAF setting, more B cells (of different types), naive CD4+ T cells, less macrophages (of all types) and exhausted-like CD8+ T cells, regulatory T cells, . \n"
   ]
  },
  {
   "cell_type": "code",
   "execution_count": null,
   "metadata": {},
   "outputs": [],
   "source": [
    "##### Lev 3 - PBMC\n",
    "\n",
    "sns.set_theme(style=\"ticks\")\n",
    "mychoice=['immature conventional dendritic cell',\n",
    " 'exhausted-like CD4-positive T cell',\n",
    " 'central memory CD4-positive T cell',\n",
    " 'regulatory T cell',\n",
    " 'classical monocyte',\n",
    " 'memory B cell',\n",
    " 'IL7R-max CD4-positive T cell',\n",
    " 'plasmacytoid dendritic cell',\n",
    " 'effector memory CD4-positive T cell',\n",
    " 'macrophage',\n",
    " 'exhausted-like CD8-positive T cell',\n",
    " 'CD4-positive, cytotoxic T cell',\n",
    " 'cytokine secreting effector CD8-positive T cell',\n",
    " 'effector memory CD8-positive T cell',\n",
    " 'CD56-bright cytokine secreting natural killer cell',\n",
    " 'mature NK T cell',\n",
    " 'germinal center B cell',\n",
    " 'CCR7-positive myeloid dendritic cell',\n",
    " 'proliferating CD4-positive T cell',\n",
    " 'naive B cell']\n",
    "\n",
    "rs=[x.split(' ')[2] for x in list(pbmcreq.drop(columns=['Unnamed: 0']).columns)]\n",
    "patid=[x.split(' ')[1] for x in list(pbmcreq.drop(columns=['Unnamed: 0']).columns)]\n",
    "\n",
    "toplot=pbmcreq.drop(columns=['Unnamed: 0']).transpose()\n",
    "toplot['Lesion']=rs\n",
    "\n",
    "\n",
    "\n",
    "fig, axes = plt.subplots(4, 5,figsize=(16,20), gridspec_kw={'wspace': 0.5, 'left': 0.25})\n",
    "plt.subplots_adjust(left=0.2, right=0.98, top=0.86, bottom=0.1)\n",
    "axes = axes.flatten()\n",
    "\n",
    "pvals={}\n",
    "\n",
    "i=0\n",
    "for mycell in mychoice:\n",
    "    ax=sns.boxplot(y=mycell,x='Lesion',data=toplot,ax=axes[i],\n",
    "                   orient='v',order=['LN','Brain','Subc'])\n",
    "    ax=sns.swarmplot(y=mycell,x='Lesion',data=toplot,color='black',ax=axes[i],\n",
    "                    order=['LN','Brain','Subc'])\n",
    "    ax.set_xticklabels(ax.get_xticklabels(), rotation=90,fontsize=10)\n",
    "    ax.tick_params(axis='y', labelsize=10)\n",
    "    ax.set_ylabel(ylabel='Perc '+mycell,fontsize=10)\n",
    "    ax.set_xlabel(xlabel='Lesion ',fontsize=10)\n",
    "    pvals[mycell]=getPs(toplot.loc[:,['Lesion',mycell]],['LN','Brain'],'Lesion').loc['LN-Brain',:]\n",
    "    pvals[mycell]['log2FC']=np.log2((0.1+toplot.loc[:,['Lesion',mycell]].groupby('Lesion').mean().loc['LN',:])/(0.1+toplot.loc[:,['Lesion',mycell]].groupby('Lesion').mean().loc['Brain',:]))[0]\n",
    "\n",
    "    i=i+1\n",
    "    \n",
    "fig.savefig(figdir+'Celltypefreq-Lesion-PBMCs'+what+'.pdf',bbox_inches=\"tight\")\n",
    "fig.savefig(figdir+'Celltypefreq-Lesion-PBMCs'+what+'.eps', format='eps',bbox_inches=\"tight\")\n",
    "fig.savefig(figdir+'Celltypefreq-Lesion-PBMCs'+what+'.svg', format='svg',bbox_inches=\"tight\")\n",
    "\n",
    "pd.DataFrame.from_dict(pvals, orient='index').to_csv(figdir+'Pval-CellTypeFreq-PBMC-'+what+'-per-Lesion.tsv',sep='\\t')\n",
    "pd.DataFrame.from_dict(pvals, orient='index').sort_values(by='MannWhitney')\n",
    "\n",
    "\n",
    "\n",
    "#list(pd.DataFrame.from_dict(pvals, orient='index').sort_values(by='MannWhitney').index[0:20])"
   ]
  },
  {
   "cell_type": "code",
   "execution_count": null,
   "metadata": {},
   "outputs": [],
   "source": [
    "list(pd.DataFrame.from_dict(pvals, orient='index').sort_values(by='MannWhitney').index[0:20])"
   ]
  },
  {
   "cell_type": "code",
   "execution_count": null,
   "metadata": {},
   "outputs": [],
   "source": [
    "#list(pd.DataFrame.from_dict(pvals, orient='index').sort_values(by='MannWhitney').index[0:20])\n",
    "\n",
    "toinc=list(pd.DataFrame.from_dict(pvals, orient='index')['MannWhitney'][pd.DataFrame.from_dict(pvals, orient='index')['MannWhitney']<=0.1].index)\n",
    "\n",
    "plt.figure(figsize=(0.5,3))\n",
    "sns.set(font_scale=0.8)\n",
    "sns_plot=sns.heatmap(pd.DataFrame(pd.DataFrame.from_dict(pvals, orient='index').loc[toinc,:]['log2FC'].sort_values(ascending=False)),center=0.00,cmap=sns.diverging_palette(220, 20, as_cmap=True))\n",
    "fig = sns_plot.get_figure()\n",
    "fig.savefig(figdir+'Celltypefreq-Lesion-PBMC-summary-'+what+'.pdf',bbox_inches=\"tight\")\n",
    "fig.savefig(figdir+'Celltypefreq-Lesion-PBMC-summary-'+what+'.eps', format='eps',bbox_inches=\"tight\")\n",
    "fig.savefig(figdir+'Celltypefreq-Lesion-PBMC-summary-'+what+'.svg', format='svg',bbox_inches=\"tight\")\n"
   ]
  },
  {
   "cell_type": "markdown",
   "metadata": {},
   "source": [
    "### Mutation comparison"
   ]
  },
  {
   "cell_type": "code",
   "execution_count": null,
   "metadata": {},
   "outputs": [],
   "source": [
    "sc.settings.set_figure_params()"
   ]
  },
  {
   "cell_type": "code",
   "execution_count": null,
   "metadata": {},
   "outputs": [],
   "source": [
    "propdir"
   ]
  },
  {
   "cell_type": "markdown",
   "metadata": {},
   "source": [
    "##### Lev 1 - TIL\n",
    "\n"
   ]
  },
  {
   "cell_type": "code",
   "execution_count": null,
   "metadata": {},
   "outputs": [],
   "source": [
    "what='celltype1'\n",
    "tilfreq=pd.read_csv(propdir+'TIL_celltypeFreq_Mutation_'+what+'.tsv',header=0)\n",
    "pbmcreq=pd.read_csv(propdir+'PBMCs_celltypeFreq_Mutation_'+what+'.tsv',header=0)\n",
    "\n",
    "tilfreq.index=tilfreq.iloc[:,0]\n",
    "pbmcreq.index=pbmcreq.iloc[:,0]\n",
    "\n",
    "rs=[x.split(' ')[2] for x in list(tilfreq.drop(columns=['Unnamed: 0']).columns)]\n",
    "patid=[x.split(' ')[1] for x in list(tilfreq.drop(columns=['Unnamed: 0']).columns)]\n",
    "\n",
    "toplot=tilfreq.drop(columns=['Unnamed: 0']).transpose()\n",
    "toplot['Mut']=rs\n"
   ]
  },
  {
   "cell_type": "code",
   "execution_count": null,
   "metadata": {},
   "outputs": [],
   "source": [
    "fig, axes = plt.subplots(1, 4,figsize=(10,3), gridspec_kw={'wspace': 0.5, 'left': 0.25})\n",
    "plt.subplots_adjust(left=0.2, right=0.98, top=0.86, bottom=0.1)\n",
    "\n",
    "axes = axes.flatten()\n",
    "\n",
    "pvals={}\n",
    "i=0\n",
    "for mycell in list(tilfreq.index):\n",
    "    ax=sns.boxplot(y=mycell,x='Mut',data=toplot,ax=axes[i],\n",
    "                   orient='v',order=['BRAF','NRAS'])\n",
    "    ax=sns.swarmplot(y=mycell,x='Mut',data=toplot,color='black',ax=axes[i],\n",
    "                    order=['BRAF','NRAS'])\n",
    "    ax.set_xticklabels(ax.get_xticklabels(), rotation=90,fontsize=10)\n",
    "    ax.tick_params(axis='y', labelsize=10)\n",
    "    ax.set_ylabel(ylabel='Perc '+mycell,fontsize=10)\n",
    "    ax.set_xlabel(xlabel='Response ',fontsize=10)\n",
    "    pvals[mycell]=getPs(toplot.loc[:,['Mut',mycell]],['BRAF','NRAS'],'Mut').loc['BRAF-NRAS',:]\n",
    "    i=i+1\n",
    "\n",
    "fig.savefig(figdir+'Celltypefreq-Mutation-TILs'+what+'.pdf', bbox_inches=\"tight\", dpi=300)\n",
    "fig.savefig(figdir+'Celltypefreq-Mutation-TILs'+what+'.eps', format='eps', bbox_inches=\"tight\", dpi=300)\n",
    "fig.savefig(figdir+'Celltypefreq-Mutation-TILs'+what+'.svg', format='svg', bbox_inches=\"tight\", dpi=300)\n",
    "\n",
    "pd.DataFrame.from_dict(pvals, orient='index').to_csv(figdir+'Pval-CellTypeFreq-TIL-'+what+'-per-Mutation.tsv',sep='\\t')\n",
    "pd.DataFrame.from_dict(pvals, orient='index').sort_values(by='MannWhitney')\n",
    "\n"
   ]
  },
  {
   "cell_type": "markdown",
   "metadata": {},
   "source": [
    "In tumor, in BRAF setting, more B lymphocytes. \n"
   ]
  },
  {
   "cell_type": "markdown",
   "metadata": {},
   "source": [
    "##### Lev 1 - PBMC"
   ]
  },
  {
   "cell_type": "code",
   "execution_count": null,
   "metadata": {
    "scrolled": true
   },
   "outputs": [],
   "source": [
    "sns.set_theme(style=\"ticks\")\n",
    "\n",
    "\n",
    "rs=[x.split(' ')[2] for x in list(pbmcreq.drop(columns=['Unnamed: 0']).columns)]\n",
    "patid=[x.split(' ')[1] for x in list(pbmcreq.drop(columns=['Unnamed: 0']).columns)]\n",
    "\n",
    "toplot=pbmcreq.drop(columns=['Unnamed: 0']).transpose()\n",
    "toplot['Mut']=rs\n",
    "\n",
    "\n",
    "\n",
    "fig, axes = plt.subplots(1, 4,figsize=(10,3), gridspec_kw={'wspace': 0.5, 'left': 0.25})\n",
    "plt.subplots_adjust(left=0.2, right=0.98, top=0.86, bottom=0.1)\n",
    "\n",
    "axes = axes.flatten()\n",
    "\n",
    "pvals={}\n",
    "\n",
    "i=0\n",
    "for mycell in list(pbmcreq.index):\n",
    "    ax=sns.boxplot(y=mycell,x='Mut',data=toplot,ax=axes[i],\n",
    "                   orient='v',order=['BRAF','NRAS'])\n",
    "    ax=sns.swarmplot(y=mycell,x='Mut',data=toplot,color='black',ax=axes[i],\n",
    "                    order=['BRAF','NRAS'])\n",
    "    ax.set_xticklabels(ax.get_xticklabels(), rotation=90,fontsize=10)\n",
    "    ax.tick_params(axis='y', labelsize=10)\n",
    "    ax.set_ylabel(ylabel='Perc '+mycell,fontsize=10)\n",
    "    ax.set_xlabel(xlabel='Mut ',fontsize=10)\n",
    "    \n",
    "    pvals[mycell]=getPs(toplot.loc[:,['Mut',mycell]],['BRAF','NRAS'],'Mut').loc['BRAF-NRAS',:]\n",
    "\n",
    "    i=i+1\n",
    "    \n",
    "fig.savefig(figdir+'Celltypefreq-Mutation-PBMCs'+what+'.pdf', bbox_inches=\"tight\", dpi=300)\n",
    "fig.savefig(figdir+'Celltypefreq-Mutation-PBMCs'+what+'.eps', format='eps', bbox_inches=\"tight\", dpi=300)\n",
    "fig.savefig(figdir+'Celltypefreq-Mutation-PBMCs'+what+'.svg', format='svg', bbox_inches=\"tight\", dpi=300)\n",
    "\n",
    "pd.DataFrame.from_dict(pvals, orient='index').to_csv(figdir+'Pval-CellTypeFreq-PBMC-'+what+'-per-Mutation.tsv',sep='\\t')\n",
    "pd.DataFrame.from_dict(pvals, orient='index').sort_values(by='MannWhitney')\n",
    "\n"
   ]
  },
  {
   "cell_type": "markdown",
   "metadata": {},
   "source": [
    "##### Lev 2 - TIL\n",
    "\n"
   ]
  },
  {
   "cell_type": "code",
   "execution_count": null,
   "metadata": {},
   "outputs": [],
   "source": [
    "sns.set_theme(style=\"ticks\")\n",
    "what='celltype2_pub'\n",
    "tilfreq=pd.read_csv(propdir+'TIL_celltypeFreq_Mutation_'+what+'.tsv',header=0)\n",
    "pbmcreq=pd.read_csv(propdir+'PBMCs_celltypeFreq_Mutation_'+what+'.tsv',header=0)\n",
    "\n",
    "tilfreq.index=tilfreq.iloc[:,0]\n",
    "pbmcreq.index=pbmcreq.iloc[:,0]\n",
    "\n",
    "rs=[x.split(' ')[2] for x in list(tilfreq.drop(columns=['Unnamed: 0']).columns)]\n",
    "patid=[x.split(' ')[1] for x in list(tilfreq.drop(columns=['Unnamed: 0']).columns)]\n",
    "\n",
    "toplot=tilfreq.drop(columns=['Unnamed: 0']).transpose()\n",
    "toplot['Mut']=rs\n",
    "\n",
    "\n",
    "fig, axes = plt.subplots(2, 6,figsize=(16,7), gridspec_kw={'wspace': 0.5, 'left': 0.25})\n",
    "plt.subplots_adjust(left=0.2, right=0.98, top=0.86, bottom=0.1)\n",
    "\n",
    "axes = axes.flatten()\n",
    "\n",
    "pvals={}\n",
    "i=0\n",
    "for mycell in list(tilfreq.index):\n",
    "    ax=sns.boxplot(y=mycell,x='Mut',data=toplot,ax=axes[i],\n",
    "                   orient='v',order=['BRAF','NRAS'])\n",
    "    ax=sns.swarmplot(y=mycell,x='Mut',data=toplot,color='black',ax=axes[i],\n",
    "                    order=['BRAF','NRAS'])\n",
    "    ax.set_xticklabels(ax.get_xticklabels(), rotation=90,fontsize=10)\n",
    "    ax.tick_params(axis='y', labelsize=10)\n",
    "    ax.set_ylabel(ylabel='Perc '+mycell,fontsize=10)\n",
    "    ax.set_xlabel(xlabel='Response ',fontsize=10)\n",
    "    pvals[mycell]=getPs(toplot.loc[:,['Mut',mycell]],['BRAF','NRAS'],'Mut').loc['BRAF-NRAS',:]\n",
    "    pvals[mycell]['log2FC']=np.log2((0.1+toplot.loc[:,['Mut',mycell]].groupby('Mut').mean().loc['BRAF',:])/(0.1+toplot.loc[:,['Mut',mycell]].groupby('Mut').mean().loc['NRAS',:]))[0]\n",
    "\n",
    "    i=i+1\n",
    "\n",
    "fig.savefig(figdir+'Celltypefreq-Mutation-TILs'+what+'.pdf', bbox_inches=\"tight\", dpi=300)\n",
    "fig.savefig(figdir+'Celltypefreq-Mutation-TILs'+what+'.eps', format='eps', bbox_inches=\"tight\", dpi=300)\n",
    "fig.savefig(figdir+'Celltypefreq-Mutation-TILs'+what+'.svg', format='svg', bbox_inches=\"tight\", dpi=300)\n",
    "\n",
    "pd.DataFrame.from_dict(pvals, orient='index').to_csv(figdir+'Pval-CellTypeFreq-TIL-'+what+'-per-Mutation.tsv',sep='\\t')\n",
    "pd.DataFrame.from_dict(pvals, orient='index').sort_values(by='MannWhitney')\n"
   ]
  },
  {
   "cell_type": "code",
   "execution_count": null,
   "metadata": {},
   "outputs": [],
   "source": [
    "toinc=list(pd.DataFrame.from_dict(pvals, orient='index')['MannWhitney'][pd.DataFrame.from_dict(pvals, orient='index')['MannWhitney']<=0.05].index)\n",
    "\n",
    "plt.figure(figsize=(0.5,1.5))\n",
    "sns.set(font_scale=0.8)\n",
    "sns_plot=sns.heatmap(pd.DataFrame(pd.DataFrame.from_dict(pvals, orient='index').loc[toinc,:]['log2FC'].sort_values(ascending=False)),center=0.00,cmap=sns.diverging_palette(220, 20, as_cmap=True))\n",
    "fig = sns_plot.get_figure()\n",
    "fig.savefig(figdir+'Celltypefreq-Mutation-summary-'+what+'.pdf', bbox_inches=\"tight\", dpi=300)\n",
    "fig.savefig(figdir+'Celltypefreq-Mutation-summary-'+what+'.eps', format='eps', bbox_inches=\"tight\", dpi=300)\n",
    "fig.savefig(figdir+'Celltypefreq-Mutation-summary-'+what+'.svg', format='svg', bbox_inches=\"tight\", dpi=300)"
   ]
  },
  {
   "cell_type": "markdown",
   "metadata": {},
   "source": [
    "In tumor, in BRAF setting, more B cells, CD4+ T cells, less macrophages and CD8+ T cells. \n"
   ]
  },
  {
   "cell_type": "markdown",
   "metadata": {},
   "source": [
    "##### Lev 2 - PBMC\n",
    "\n"
   ]
  },
  {
   "cell_type": "code",
   "execution_count": null,
   "metadata": {
    "scrolled": true
   },
   "outputs": [],
   "source": [
    "sns.set_theme(style=\"ticks\")\n",
    "rs=[x.split(' ')[2] for x in list(pbmcreq.drop(columns=['Unnamed: 0']).columns)]\n",
    "patid=[x.split(' ')[1] for x in list(pbmcreq.drop(columns=['Unnamed: 0']).columns)]\n",
    "\n",
    "toplot=pbmcreq.drop(columns=['Unnamed: 0']).transpose()\n",
    "toplot['Mut']=rs\n",
    "\n",
    "\n",
    "\n",
    "fig, axes = plt.subplots(2, 6,figsize=(16,7), gridspec_kw={'wspace': 0.5, 'left': 0.25})\n",
    "plt.subplots_adjust(left=0.2, right=0.98, top=0.86, bottom=0.1)\n",
    "axes = axes.flatten()\n",
    "\n",
    "pvals={}\n",
    "\n",
    "i=0\n",
    "for mycell in list(pbmcreq.index):\n",
    "    ax=sns.boxplot(y=mycell,x='Mut',data=toplot,ax=axes[i],\n",
    "                   orient='v',order=['BRAF','NRAS'])\n",
    "    ax=sns.swarmplot(y=mycell,x='Mut',data=toplot,color='black',ax=axes[i],\n",
    "                    order=['BRAF','NRAS'])\n",
    "    ax.set_xticklabels(ax.get_xticklabels(), rotation=90,fontsize=10)\n",
    "    ax.tick_params(axis='y', labelsize=10)\n",
    "    ax.set_ylabel(ylabel='Perc '+mycell,fontsize=10)\n",
    "    ax.set_xlabel(xlabel='Mut ',fontsize=10)\n",
    "    \n",
    "    pvals[mycell]=getPs(toplot.loc[:,['Mut',mycell]],['BRAF','NRAS'],'Mut').loc['BRAF-NRAS',:]\n",
    "\n",
    "    i=i+1\n",
    "    \n",
    "fig.savefig(figdir+'Celltypefreq-Mutation-PBMCs'+what+'.pdf', bbox_inches=\"tight\", dpi=300)\n",
    "fig.savefig(figdir+'Celltypefreq-Mutation-PBMCs'+what+'.eps', format='eps', bbox_inches=\"tight\", dpi=300)\n",
    "fig.savefig(figdir+'Celltypefreq-Mutation-PBMCs'+what+'.svg', format='svg', bbox_inches=\"tight\", dpi=300)\n",
    "\n",
    "pd.DataFrame.from_dict(pvals, orient='index').to_csv(figdir+'Pval-CellTypeFreq-PBMC-'+what+'-per-Mutation.tsv',sep='\\t')\n",
    "pd.DataFrame.from_dict(pvals, orient='index').sort_values(by='MannWhitney')\n",
    "\n"
   ]
  },
  {
   "cell_type": "markdown",
   "metadata": {},
   "source": [
    "##### Lev 3 - TIL\n"
   ]
  },
  {
   "cell_type": "code",
   "execution_count": null,
   "metadata": {},
   "outputs": [],
   "source": [
    "what='celltype3_pub'\n",
    "mychoice=['naive CD4-positive T cell',\n",
    " 'germinal center B cell',\n",
    " 'memory B cell',\n",
    " 'MSR1-positive macrophage',\n",
    " 'naive B cell',\n",
    " 'CXCL9-positive macrophage',\n",
    " 'regulatory T cell',\n",
    " 'exhausted-like CD8-positive T cell',\n",
    " 'proliferating CD8-positive T cell',\n",
    " 'MARCO-positive macrophage',\n",
    " 'proliferating CD4-positive T cell',\n",
    " 'non-classical monocyte',\n",
    " 'plasmacytoid dendritic cell',\n",
    " 'IL7R-max CD4-positive T cell',\n",
    " 'naive CD8-positive T cell',\n",
    " 'mature NK T cell',\n",
    " 'CCR7-positive myeloid dendritic cell',\n",
    " 'exhausted-like CD4-positive T cell',\n",
    " 'cytotoxic CD56-dim natural killer cell',\n",
    " 'CD141-positive myeloid dendritic cell']\n",
    "\n",
    "tilfreq=pd.read_csv(propdir+'TIL_celltypeFreq_Mutation_'+what+'.tsv',header=0)\n",
    "pbmcreq=pd.read_csv(propdir+'PBMCs_celltypeFreq_Mutation_'+what+'.tsv',header=0)\n",
    "\n",
    "tilfreq.index=tilfreq.iloc[:,0]\n",
    "pbmcreq.index=pbmcreq.iloc[:,0]\n",
    "\n",
    "rs=[x.split(' ')[2] for x in list(tilfreq.drop(columns=['Unnamed: 0']).columns)]\n",
    "patid=[x.split(' ')[1] for x in list(tilfreq.drop(columns=['Unnamed: 0']).columns)]\n",
    "\n",
    "toplot=tilfreq.drop(columns=['Unnamed: 0']).transpose()\n",
    "toplot['Mut']=rs\n",
    "\n",
    "\n",
    "fig, axes = plt.subplots(4, 5,figsize=(16,20), gridspec_kw={'wspace': 0.5, 'left': 0.25})\n",
    "plt.subplots_adjust(left=0.2, right=0.98, top=0.86, bottom=0.1)\n",
    "\n",
    "axes = axes.flatten()\n",
    "\n",
    "pvals={}\n",
    "i=0\n",
    "for mycell in mychoice:\n",
    "    ax=sns.boxplot(y=mycell,x='Mut',data=toplot,ax=axes[i],\n",
    "                   orient='v',order=['BRAF','NRAS'])\n",
    "    ax=sns.swarmplot(y=mycell,x='Mut',data=toplot,color='black',ax=axes[i],\n",
    "                    order=['BRAF','NRAS'])\n",
    "    ax.set_xticklabels(ax.get_xticklabels(), rotation=90,fontsize=10)\n",
    "    ax.tick_params(axis='y', labelsize=10)\n",
    "    ax.set_ylabel(ylabel='Perc '+mycell,fontsize=10)\n",
    "    ax.set_xlabel(xlabel='Response ',fontsize=10)\n",
    "    pvals[mycell]=getPs(toplot.loc[:,['Mut',mycell]],['BRAF','NRAS'],'Mut').loc['BRAF-NRAS',:]\n",
    "    pvals[mycell]['log2FC']=np.log2((0.1+toplot.loc[:,['Mut',mycell]].groupby('Mut').mean().loc['BRAF',:])/(0.1+toplot.loc[:,['Mut',mycell]].groupby('Mut').mean().loc['NRAS',:]))[0]\n",
    "\n",
    "    i=i+1\n",
    "\n",
    "fig.savefig(figdir+'Celltypefreq-Mutation-TILs'+what+'.pdf', bbox_inches=\"tight\", dpi=300)\n",
    "fig.savefig(figdir+'Celltypefreq-Mutation-TILs'+what+'.eps', format='eps', bbox_inches=\"tight\", dpi=300)\n",
    "fig.savefig(figdir+'Celltypefreq-Mutation-TILs'+what+'.svg', format='svg', bbox_inches=\"tight\", dpi=300)\n",
    "\n",
    "pd.DataFrame.from_dict(pvals, orient='index').to_csv(figdir+'Pval-CellTypeFreq-TIL-'+what+'-per-Mutation.tsv',sep='\\t')\n",
    "pd.DataFrame.from_dict(pvals, orient='index').sort_values(by='MannWhitney')\n",
    "\n"
   ]
  },
  {
   "cell_type": "code",
   "execution_count": null,
   "metadata": {},
   "outputs": [],
   "source": [
    "#list(pd.DataFrame.from_dict(pvals, orient='index').sort_values(by='MannWhitney').index[0:20])"
   ]
  },
  {
   "cell_type": "code",
   "execution_count": null,
   "metadata": {},
   "outputs": [],
   "source": [
    "toinc=list(pd.DataFrame.from_dict(pvals, orient='index')['MannWhitney'][pd.DataFrame.from_dict(pvals, orient='index')['MannWhitney']<=0.1].index)\n",
    "\n",
    "plt.figure(figsize=(0.5,3))\n",
    "sns.set(font_scale=0.8)\n",
    "sns_plot=sns.heatmap(pd.DataFrame(pd.DataFrame.from_dict(pvals, orient='index').loc[toinc,:]['log2FC'].sort_values(ascending=False)),center=0.00,cmap=sns.diverging_palette(220, 20, as_cmap=True))\n",
    "fig = sns_plot.get_figure()\n",
    "fig.savefig(figdir+'Celltypefreq-Mutation-summary-'+what+'.pdf', bbox_inches=\"tight\", dpi=300)\n",
    "fig.savefig(figdir+'Celltypefreq-Mutation-summary-'+what+'.eps', format='eps', bbox_inches=\"tight\", dpi=300)\n",
    "fig.savefig(figdir+'Celltypefreq-Mutation-summary-'+what+'.svg', format='svg', bbox_inches=\"tight\", dpi=300)"
   ]
  },
  {
   "cell_type": "markdown",
   "metadata": {},
   "source": [
    "In tumor, in BRAF setting, more B cells (of different types), naive CD4+ T cells, less macrophages (of all types) and exhausted-like CD8+ T cells, regulatory T cells, . \n"
   ]
  },
  {
   "cell_type": "markdown",
   "metadata": {},
   "source": [
    "##### Lev 3 - PBMC"
   ]
  },
  {
   "cell_type": "code",
   "execution_count": null,
   "metadata": {},
   "outputs": [],
   "source": [
    "sns.set_theme(style=\"ticks\")\n",
    "mychoice=['immature conventional dendritic cell',\n",
    " 'proliferating CD8-positive T cell',\n",
    " 'exhausted-like CD4-positive T cell',\n",
    " 'naive CD8-positive T cell',\n",
    " 'MARCO-positive macrophage',\n",
    " 'proliferating NK cell',\n",
    " 'CD56-bright cytokine secreting natural killer cell',\n",
    " 'effector memory CD8-positive T cell',\n",
    " 'cytotoxic CD56-dim natural killer cell',\n",
    " 'naive B cell',\n",
    " 'plasmacytoid dendritic cell',\n",
    " 'CCR7-positive myeloid dendritic cell',\n",
    " 'germinal center B cell',\n",
    " 'CXCL9-positive macrophage',\n",
    " 'IL7R-max CD4-positive T cell',\n",
    " 'macrophage',\n",
    " 'cytokine secreting effector CD8-positive T cell',\n",
    " 'mature NK T cell',\n",
    " 'regulatory T cell',\n",
    " 'central memory CD4-positive T cell']\n",
    "\n",
    "rs=[x.split(' ')[2] for x in list(pbmcreq.drop(columns=['Unnamed: 0']).columns)]\n",
    "patid=[x.split(' ')[1] for x in list(pbmcreq.drop(columns=['Unnamed: 0']).columns)]\n",
    "\n",
    "toplot=pbmcreq.drop(columns=['Unnamed: 0']).transpose()\n",
    "toplot['Mut']=rs\n",
    "\n",
    "\n",
    "\n",
    "fig, axes = plt.subplots(4, 5,figsize=(16,20), gridspec_kw={'wspace': 0.5, 'left': 0.25})\n",
    "plt.subplots_adjust(left=0.2, right=0.98, top=0.86, bottom=0.1)\n",
    "axes = axes.flatten()\n",
    "\n",
    "pvals={}\n",
    "\n",
    "i=0\n",
    "for mycell in mychoice:\n",
    "    ax=sns.boxplot(y=mycell,x='Mut',data=toplot,ax=axes[i],\n",
    "                   orient='v',order=['BRAF','NRAS'])\n",
    "    ax=sns.swarmplot(y=mycell,x='Mut',data=toplot,color='black',ax=axes[i],\n",
    "                    order=['BRAF','NRAS'])\n",
    "    ax.set_xticklabels(ax.get_xticklabels(), rotation=90,fontsize=10)\n",
    "    ax.tick_params(axis='y', labelsize=10)\n",
    "    ax.set_ylabel(ylabel='Perc '+mycell,fontsize=10)\n",
    "    ax.set_xlabel(xlabel='Mut ',fontsize=10)\n",
    "    \n",
    "    pvals[mycell]=getPs(toplot.loc[:,['Mut',mycell]],['BRAF','NRAS'],'Mut').loc['BRAF-NRAS',:]\n",
    "    pvals[mycell]['log2FC']=np.log2((0.1+toplot.loc[:,['Mut',mycell]].groupby('Mut').mean().loc['BRAF',:])/(0.1+toplot.loc[:,['Mut',mycell]].groupby('Mut').mean().loc['NRAS',:]))[0]\n",
    "\n",
    "    i=i+1\n",
    "    \n",
    "fig.savefig(figdir+'Celltypefreq-Mutation-PBMCs'+what+'.pdf', bbox_inches=\"tight\", dpi=300)\n",
    "fig.savefig(figdir+'Celltypefreq-Mutation-PBMCs'+what+'.eps', format='eps', bbox_inches=\"tight\", dpi=300)\n",
    "fig.savefig(figdir+'Celltypefreq-Mutation-PBMCs'+what+'.svg', format='svg', bbox_inches=\"tight\", dpi=300)\n",
    "\n",
    "pd.DataFrame.from_dict(pvals, orient='index').to_csv(figdir+'Pval-CellTypeFreq-PBMC-'+what+'-per-Mutation.tsv',sep='\\t')\n",
    "pd.DataFrame.from_dict(pvals, orient='index').sort_values(by='MannWhitney')\n",
    "\n"
   ]
  },
  {
   "cell_type": "code",
   "execution_count": null,
   "metadata": {},
   "outputs": [],
   "source": [
    "#list(pd.DataFrame.from_dict(pvals, orient='index').sort_values(by='MannWhitney').index[0:20])"
   ]
  },
  {
   "cell_type": "markdown",
   "metadata": {},
   "source": [
    "### Periphery vs. tumor"
   ]
  },
  {
   "cell_type": "code",
   "execution_count": null,
   "metadata": {},
   "outputs": [],
   "source": [
    "sc.settings.set_figure_params()"
   ]
  },
  {
   "cell_type": "markdown",
   "metadata": {},
   "source": [
    "##### Level 1 comparison"
   ]
  },
  {
   "cell_type": "code",
   "execution_count": null,
   "metadata": {},
   "outputs": [],
   "source": [
    "what='celltype1'\n",
    "tilfreq=pd.read_csv(propdir+'TIL_celltypeFreq_'+what+'.tsv',header=0)\n",
    "pbmcreq=pd.read_csv(propdir+'PBMCs_celltypeFreq_'+what+'.tsv',header=0)\n"
   ]
  },
  {
   "cell_type": "code",
   "execution_count": null,
   "metadata": {},
   "outputs": [],
   "source": [
    "tilfreq.index=tilfreq.iloc[:,0]\n",
    "pbmcreq.index=pbmcreq.iloc[:,0]"
   ]
  },
  {
   "cell_type": "code",
   "execution_count": null,
   "metadata": {
    "scrolled": true
   },
   "outputs": [],
   "source": [
    "tilfreq"
   ]
  },
  {
   "cell_type": "code",
   "execution_count": null,
   "metadata": {},
   "outputs": [],
   "source": []
  },
  {
   "cell_type": "code",
   "execution_count": null,
   "metadata": {},
   "outputs": [],
   "source": []
  },
  {
   "cell_type": "code",
   "execution_count": null,
   "metadata": {},
   "outputs": [],
   "source": [
    "fig, axes = plt.subplots(1, 4,figsize=(10,3), gridspec_kw={'wspace': 0.5, 'left': 0.25})\n",
    "plt.subplots_adjust(left=0.1, right=0.98, top=0.82, bottom=0.1)\n",
    "axes = axes.flatten()\n",
    "\n",
    "pvals={}\n",
    "i=0\n",
    "for mycell in list(set(adata.obs['celltype1'])):\n",
    "    cellFreqs=pd.DataFrame([list(tilfreq.loc[mycell,:])[1:len(list(tilfreq.loc[mycell,:]))],\n",
    "     list(pbmcreq.loc[mycell,:])[1:len(list(pbmcreq.loc[mycell,:]))]])\n",
    "    cellFreqs.index=['TIL','PBMC']\n",
    "    cellFreqs=cellFreqs.stack().reset_index(level=0)\n",
    "    cellFreqs.columns=['Type','Perc '+mycell]\n",
    "    ax=sns.boxplot(x='Type',y='Perc '+mycell,data=cellFreqs,ax=axes[i])\n",
    "    ax=sns.swarmplot(x='Type',y='Perc '+mycell,data=cellFreqs,color='black',ax=axes[i])\n",
    "    ax.set_xticklabels(ax.get_xticklabels(), rotation=90,fontsize=10)\n",
    "    ax.tick_params(axis='y', labelsize=10)\n",
    "    ax.set_ylabel(ylabel='Perc '+mycell,fontsize=10)\n",
    "    ax.set_xlabel(xlabel='Sample type ',fontsize=10)\n",
    "    pvals[mycell]=getPs(cellFreqs,['TIL','PBMC'],'Type').iloc[0,:]\n",
    "    i=i+1\n",
    "    \n",
    "fig.savefig(figdir+'Celltypefreq-PBMCvsTIL'+what+'.pdf', bbox_inches=\"tight\", dpi=300)\n",
    "fig.savefig(figdir+'Celltypefreq-PBMCvsTIL'+what+'.eps', format='eps', bbox_inches=\"tight\", dpi=300)\n",
    "fig.savefig(figdir+'Celltypefreq-PBMCvsTIL'+what+'.svg', format='svg', bbox_inches=\"tight\", dpi=300)"
   ]
  },
  {
   "cell_type": "code",
   "execution_count": null,
   "metadata": {},
   "outputs": [],
   "source": [
    "myconditions=['TIL','PBMC']\n",
    "name1='Type'\n",
    "\n",
    "#myps.to_csv(figdir+'Pval-Velocitylen-'+velosubset+'-'+mysubset+'-'+subcat+'-per-response.pdf',sep='\\t')"
   ]
  },
  {
   "cell_type": "code",
   "execution_count": null,
   "metadata": {},
   "outputs": [],
   "source": [
    "pd.DataFrame.from_dict(pvals, orient='index').to_csv(figdir+'Pval-CellTypeFreq-'+what+'-per-TILvsPBMC.tsv',sep='\\t')"
   ]
  },
  {
   "cell_type": "code",
   "execution_count": null,
   "metadata": {},
   "outputs": [],
   "source": [
    "pd.DataFrame.from_dict(pvals, orient='index')"
   ]
  },
  {
   "cell_type": "markdown",
   "metadata": {},
   "source": [
    "More NK cells (highly significant) and more myleoids (marginally significant) in PBMCs; \n",
    "more T cells and B lymphocytes in tumors."
   ]
  },
  {
   "cell_type": "markdown",
   "metadata": {},
   "source": [
    "##### Level 2 comparison"
   ]
  },
  {
   "cell_type": "code",
   "execution_count": null,
   "metadata": {},
   "outputs": [],
   "source": [
    "what='celltype2_pub'\n",
    "tilfreq=pd.read_csv(propdir+'TIL_celltypeFreq_'+what+'.tsv',header=0)\n",
    "pbmcreq=pd.read_csv(propdir+'PBMCs_celltypeFreq_'+what+'.tsv',header=0)\n",
    "\n",
    "tilfreq.index=tilfreq.iloc[:,0]\n",
    "pbmcreq.index=pbmcreq.iloc[:,0]\n"
   ]
  },
  {
   "cell_type": "code",
   "execution_count": null,
   "metadata": {},
   "outputs": [],
   "source": [
    "tilfreq.T"
   ]
  },
  {
   "cell_type": "code",
   "execution_count": null,
   "metadata": {},
   "outputs": [],
   "source": [
    "c1='classical monocyte'\n",
    "c2='macrophage'\n",
    "c3='classical monocyte'"
   ]
  },
  {
   "cell_type": "code",
   "execution_count": null,
   "metadata": {},
   "outputs": [],
   "source": [
    "cmono=pd.DataFrame([pbmcreq.loc[c1,:],tilfreq.loc[c2,:]+tilfreq.loc[c3,:]])\n",
    "cmono.index=['PBMC','TIL']\n",
    "cmono=cmono.drop(columns='Unnamed: 0')\n",
    "cmono=cmono.transpose()\n",
    "cmono['RCat']=[x.split(' ')[2] for x in list(cmono.index)]\n",
    "cmono.index=[str(x) for x in [x.split(' ')[1] for x in list(cmono.index)]]"
   ]
  },
  {
   "cell_type": "code",
   "execution_count": null,
   "metadata": {},
   "outputs": [],
   "source": [
    "cmono.columns='Myelo_'+cmono.columns"
   ]
  },
  {
   "cell_type": "code",
   "execution_count": null,
   "metadata": {},
   "outputs": [],
   "source": [
    "dfPat=pd.concat([dfPat,cmono], axis=1)"
   ]
  },
  {
   "cell_type": "code",
   "execution_count": null,
   "metadata": {},
   "outputs": [],
   "source": [
    "dfPat"
   ]
  },
  {
   "cell_type": "code",
   "execution_count": null,
   "metadata": {},
   "outputs": [],
   "source": [
    "cmono.corr(method='spearman')"
   ]
  },
  {
   "cell_type": "code",
   "execution_count": null,
   "metadata": {},
   "outputs": [],
   "source": [
    "cmonoln=cmono.loc[cmono.index.isin(dfPat.loc[dfPat['Lesion']=='LN',:].index),:][0:7].copy()\n",
    "cmonosubc=cmono.loc[cmono.index.isin(dfPat.loc[dfPat['Lesion']=='Subc',:].index),:][0:3].copy()\n",
    "cmonoln.corr(method='spearman')"
   ]
  },
  {
   "cell_type": "code",
   "execution_count": null,
   "metadata": {},
   "outputs": [],
   "source": [
    "cmonoln.corr(method='pearson')"
   ]
  },
  {
   "cell_type": "code",
   "execution_count": null,
   "metadata": {},
   "outputs": [],
   "source": [
    "cmono.columns=['ClassMono_PBMC','ClassMonoMacro_TIL','RCat']"
   ]
  },
  {
   "cell_type": "code",
   "execution_count": null,
   "metadata": {},
   "outputs": [],
   "source": [
    "stats.spearmanr(cmono['ClassMono_PBMC'][0:15],cmono['ClassMonoMacro_TIL'][0:15])"
   ]
  },
  {
   "cell_type": "code",
   "execution_count": null,
   "metadata": {},
   "outputs": [],
   "source": [
    "cmono.corr(method='pearson')"
   ]
  },
  {
   "cell_type": "code",
   "execution_count": null,
   "metadata": {},
   "outputs": [],
   "source": [
    "cmono"
   ]
  },
  {
   "cell_type": "code",
   "execution_count": null,
   "metadata": {},
   "outputs": [],
   "source": [
    "stats.spearmanr(cmonoln['Myelo_PBMC'][0:15],cmonoln['Myelo_TIL'][0:15])"
   ]
  },
  {
   "cell_type": "code",
   "execution_count": null,
   "metadata": {},
   "outputs": [],
   "source": [
    "stats.pearsonr(cmonoln['Myelo_PBMC'][0:15],cmonoln['Myelo_TIL'][0:15])"
   ]
  },
  {
   "cell_type": "code",
   "execution_count": null,
   "metadata": {},
   "outputs": [],
   "source": [
    "stats.pearsonr(cmono['ClassMono_PBMC'][0:15],cmono['ClassMonoMacro_TIL'][0:15])"
   ]
  },
  {
   "cell_type": "code",
   "execution_count": null,
   "metadata": {},
   "outputs": [],
   "source": [
    "cmono.to_csv(figdir+'Myelo_PBMC_vs_TIL.tsv', sep='\\t')"
   ]
  },
  {
   "cell_type": "code",
   "execution_count": null,
   "metadata": {},
   "outputs": [],
   "source": [
    "cmono.index=cmono.index.astype('str')"
   ]
  },
  {
   "cell_type": "code",
   "execution_count": null,
   "metadata": {},
   "outputs": [],
   "source": [
    "#sns.scatterplot(data=cmono, x=\"Myelo_PBMC\", y=\"Myelo_TIL\",hue='RCat').set_title(c1+' vs. '+c2+'/'+c3)\n",
    "sns.set_theme(style=\"ticks\")\n",
    "rcParams['figure.figsize'] = 7,5\n",
    "fig=sns.scatterplot(x='ClassMono_PBMC',y='ClassMonoMacro_TIL',hue='RCat',data=cmono,\n",
    "                hue_order=['R','TF','NR_adj','NR_nadj'],\n",
    "               palette=color_dict).set_title(c1+' vs. '+c2+'/'+c3)\n",
    "plt.legend(bbox_to_anchor=(1.05, 1.05),borderaxespad=0.5)\n",
    "plt.tight_layout()\n",
    "for i in range(len(dfPat.index)):\n",
    " plt.text(x=dfPat.reset_index().Myelo_PBMC[i],y=dfPat.reset_index().Myelo_TIL[i],s=dfPat.index[i], \n",
    "          fontdict=dict(color='black',size=10)) #bbox=dict(facecolor='gray',alpha=0.2)\n",
    "\n",
    "plt.savefig(figdir+'Myelo_PBMC_vs_TIL.eps', format='eps', bbox_inches=\"tight\", dpi=300)\n",
    "plt.savefig(figdir+'Myelo_PBMC_vs_TIL.pdf', format='pdf', bbox_inches=\"tight\", dpi=300)\n",
    "plt.savefig(figdir+'Myelo_PBMC_vs_TIL.svg', format='svg', bbox_inches=\"tight\", dpi=300)"
   ]
  },
  {
   "cell_type": "code",
   "execution_count": null,
   "metadata": {},
   "outputs": [],
   "source": [
    "fig=sns.regplot(data=cmono, x=\"ClassMono_PBMC\", y=\"ClassMonoMacro_TIL\")\n",
    "fig.figure.savefig(figdir+'Myelo_PBMC_vs_TIL_regplot.eps', format='eps', bbox_inches=\"tight\", dpi=300)\n",
    "fig.figure.savefig(figdir+'Myelo_PBMC_vs_TIL_regplot.pdf', format='pdf', bbox_inches=\"tight\", dpi=300)\n",
    "fig.figure.savefig(figdir+'Myelo_PBMC_vs_TIL_regplot.svg', format='svg', bbox_inches=\"tight\", dpi=300)"
   ]
  },
  {
   "cell_type": "code",
   "execution_count": null,
   "metadata": {},
   "outputs": [],
   "source": [
    "c1='plasma cell'\n",
    "c2='plasma cell'"
   ]
  },
  {
   "cell_type": "code",
   "execution_count": null,
   "metadata": {},
   "outputs": [],
   "source": [
    "cmono=pd.DataFrame([pbmcreq.loc[c1,:],tilfreq.loc[c2,:]])\n",
    "cmono.index=['PBMC','TIL']\n",
    "cmono=cmono.drop(columns='Unnamed: 0')\n",
    "cmono=cmono.transpose()\n",
    "cmono['RCat']=[x.split(' ')[2] for x in list(cmono.index)]"
   ]
  },
  {
   "cell_type": "code",
   "execution_count": null,
   "metadata": {},
   "outputs": [],
   "source": [
    "cmono.corr(method='spearman')"
   ]
  },
  {
   "cell_type": "code",
   "execution_count": null,
   "metadata": {},
   "outputs": [],
   "source": [
    "sns.scatterplot(data=cmono, x=\"PBMC\", y=\"TIL\",hue='RCat').set_title(c1+' vs. '+c2)"
   ]
  },
  {
   "cell_type": "code",
   "execution_count": null,
   "metadata": {},
   "outputs": [],
   "source": [
    "sns.regplot(data=cmono, x=\"PBMC\", y=\"TIL\")"
   ]
  },
  {
   "cell_type": "code",
   "execution_count": null,
   "metadata": {},
   "outputs": [],
   "source": [
    "fig, axes = plt.subplots(2, 6,figsize=(16,10), gridspec_kw={'wspace': 0.5, 'left': 0.25})\n",
    "plt.subplots_adjust(left=0.1, right=0.98, top=0.82, bottom=0.2)\n",
    "axes = axes.flatten()\n",
    "pvals={}\n",
    "\n",
    "i=0\n",
    "for mycell in list(set(adata.obs['celltype2_pub'])):\n",
    "    if (len(set([mycell])-set(list(pbmcreq.index)))>0):\n",
    "        pbmcreq=pbmcreq.transpose()\n",
    "        pbmcreq[mycell]=[mycell]+[0] * (len(pbmcreq.index)-1)\n",
    "        pbmcreq=pbmcreq.transpose()\n",
    "    if (len(set([mycell])-set(list(tilfreq.index)))>0):\n",
    "        tilfreq=tilfreq.transpose()\n",
    "        tilfreq[mycell]=[mycell]+[0] * (len(tilfreq.index)-1)   \n",
    "        tilfreq=tilfreq.transpose()\n",
    "    cellFreqs=pd.DataFrame([list(tilfreq.loc[mycell,:])[1:len(list(tilfreq.loc[mycell,:]))],\n",
    "     list(pbmcreq.loc[mycell,:])[1:len(list(pbmcreq.loc[mycell,:]))]])\n",
    "    cellFreqs.index=['TIL','PBMC']\n",
    "    cellFreqs=cellFreqs.stack().reset_index(level=0)\n",
    "    cellFreqs.columns=['Type','Perc '+mycell]\n",
    "    ax=sns.boxplot(x='Type',y='Perc '+mycell,data=cellFreqs,ax=axes[i])\n",
    "    ax=sns.swarmplot(x='Type',y='Perc '+mycell,data=cellFreqs,color='black',ax=axes[i])\n",
    "    ax.set_xticklabels(ax.get_xticklabels(), rotation=90,fontsize=10)\n",
    "    ax.tick_params(axis='y', labelsize=10)\n",
    "    ax.set_ylabel(ylabel='Perc '+mycell,fontsize=10)\n",
    "    ax.set_xlabel(xlabel='Sample type ',fontsize=10)\n",
    "    pvals[mycell]=getPs(cellFreqs,['TIL','PBMC'],'Type').iloc[0,:]\n",
    "    pvals[mycell]['log2FC']=np.log2((0.1+cellFreqs.groupby('Type').mean().loc['TIL',:])/(0.1+cellFreqs.groupby('Type').mean().loc['PBMC',:]))[0]\n",
    "\n",
    "    i=i+1\n",
    "    \n",
    "fig.savefig(figdir+'Celltypefreq-PBMCvsTIL'+what+'.pdf', bbox_inches=\"tight\", dpi=300)\n",
    "fig.savefig(figdir+'Celltypefreq-PBMCvsTIL'+what+'.eps', format='eps', bbox_inches=\"tight\", dpi=300)\n",
    "fig.savefig(figdir+'Celltypefreq-PBMCvsTIL'+what+'.svg', format='svg', bbox_inches=\"tight\", dpi=300)"
   ]
  },
  {
   "cell_type": "code",
   "execution_count": null,
   "metadata": {},
   "outputs": [],
   "source": [
    "a1=pbmcreq.loc[['CD4-positive T cell'],:].drop(columns='Unnamed: 0').transpose()['CD4-positive T cell']\n",
    "a2=pbmcreq.loc[['CD8-positive T cell'],:].drop(columns='Unnamed: 0').transpose()['CD8-positive T cell']\n",
    "\n",
    "b1=tilfreq.loc[['CD4-positive T cell'],:].drop(columns='Unnamed: 0').transpose()['CD4-positive T cell']\n",
    "b2=tilfreq.loc[['CD8-positive T cell'],:].drop(columns='Unnamed: 0').transpose()['CD8-positive T cell']"
   ]
  },
  {
   "cell_type": "code",
   "execution_count": null,
   "metadata": {},
   "outputs": [],
   "source": [
    "a1.median()"
   ]
  },
  {
   "cell_type": "code",
   "execution_count": null,
   "metadata": {},
   "outputs": [],
   "source": [
    "a2.median()"
   ]
  },
  {
   "cell_type": "code",
   "execution_count": null,
   "metadata": {},
   "outputs": [],
   "source": [
    "(a2/a1).median()"
   ]
  },
  {
   "cell_type": "code",
   "execution_count": null,
   "metadata": {},
   "outputs": [],
   "source": [
    "a2/a1"
   ]
  },
  {
   "cell_type": "code",
   "execution_count": null,
   "metadata": {},
   "outputs": [],
   "source": [
    "(b2/b1).median()"
   ]
  },
  {
   "cell_type": "code",
   "execution_count": null,
   "metadata": {},
   "outputs": [],
   "source": [
    "b1.median()"
   ]
  },
  {
   "cell_type": "code",
   "execution_count": null,
   "metadata": {},
   "outputs": [],
   "source": [
    "b2.median()"
   ]
  },
  {
   "cell_type": "code",
   "execution_count": null,
   "metadata": {},
   "outputs": [],
   "source": [
    "b2/b1"
   ]
  },
  {
   "cell_type": "code",
   "execution_count": null,
   "metadata": {},
   "outputs": [],
   "source": [
    "pd.DataFrame.from_dict(pvals, orient='index').to_csv(figdir+'Pval-CellTypeFreq-'+what+'-per-TILvsPBMC.tsv',sep='\\t')\n",
    "toinc=list(pd.DataFrame.from_dict(pvals, orient='index')['MannWhitney'][pd.DataFrame.from_dict(pvals, orient='index')['MannWhitney']<=0.05].index)\n",
    "\n",
    "pd.DataFrame.from_dict(pvals, orient='index').sort_values('MannWhitney')"
   ]
  },
  {
   "cell_type": "markdown",
   "metadata": {},
   "source": [
    "More pDCs, CD8+ T cells, mDCs, B cells, Plasma cells, CD56-bright NK, macrophages in tumors. More ncMonocytes, classical monocytes, CD56-dim NK in PBMCs. "
   ]
  },
  {
   "cell_type": "code",
   "execution_count": null,
   "metadata": {},
   "outputs": [],
   "source": [
    "\n",
    "plt.figure(figsize=(0.5,3))\n",
    "sns.set(font_scale=0.8)\n",
    "sns_plot=sns.heatmap(pd.DataFrame(pd.DataFrame.from_dict(pvals, orient='index').loc[toinc,:]['log2FC'].sort_values(ascending=False)),center=0.00,cmap=sns.diverging_palette(220, 20, as_cmap=True))\n",
    "fig = sns_plot.get_figure()\n",
    "fig.savefig(figdir+'Celltypefreq-PBMCvsTIL-summary-'+what+'.pdf', bbox_inches=\"tight\", dpi=300)\n",
    "fig.savefig(figdir+'Celltypefreq-PBMCvsTIL-summary-'+what+'.eps', format='eps', bbox_inches=\"tight\", dpi=300)\n",
    "fig.savefig(figdir+'Celltypefreq-PBMCvsTIL-summary-'+what+'.svg', format='svg', bbox_inches=\"tight\", dpi=300)"
   ]
  },
  {
   "cell_type": "code",
   "execution_count": null,
   "metadata": {},
   "outputs": [],
   "source": []
  },
  {
   "cell_type": "markdown",
   "metadata": {},
   "source": [
    "##### Level 3 comparison"
   ]
  },
  {
   "cell_type": "code",
   "execution_count": null,
   "metadata": {},
   "outputs": [],
   "source": [
    "what='celltype3_pub'\n",
    "tilfreq=pd.read_csv(propdir+'TIL_celltypeFreq_'+what+'.tsv',header=0)\n",
    "pbmcreq=pd.read_csv(propdir+'PBMCs_celltypeFreq_'+what+'.tsv',header=0)\n",
    "\n",
    "tilfreq.index=tilfreq.iloc[:,0]\n",
    "pbmcreq.index=pbmcreq.iloc[:,0]\n"
   ]
  },
  {
   "cell_type": "code",
   "execution_count": null,
   "metadata": {},
   "outputs": [],
   "source": [
    "tilfreq"
   ]
  },
  {
   "cell_type": "code",
   "execution_count": null,
   "metadata": {},
   "outputs": [],
   "source": [
    "sns.set_theme(style=\"ticks\", font_scale=1.25)\n",
    "fig, axes = plt.subplots(6, 6,figsize=(20,30), gridspec_kw={'wspace': 0.5, 'left': 0.25})\n",
    "plt.subplots_adjust(left=0.2, right=0.98, top=0.82, bottom=0.1)\n",
    "axes = axes.flatten()\n",
    "pvals={}\n",
    "\n",
    "i=0\n",
    "for mycell in list(set(adata.obs['celltype3_pub'])):\n",
    "    if (len(set([mycell])-set(list(pbmcreq.index)))>0):\n",
    "        pbmcreq=pbmcreq.transpose()\n",
    "        pbmcreq[mycell]=[mycell]+[0] * (len(pbmcreq.index)-1)\n",
    "        pbmcreq=pbmcreq.transpose()\n",
    "    if (len(set([mycell])-set(list(tilfreq.index)))>0):\n",
    "        tilfreq=tilfreq.transpose()\n",
    "        tilfreq[mycell]=[mycell]+[0] * (len(tilfreq.index)-1)   \n",
    "        tilfreq=tilfreq.transpose()\n",
    "    cellFreqs=pd.DataFrame([list(tilfreq.loc[mycell,:])[1:len(list(tilfreq.loc[mycell,:]))],\n",
    "     list(pbmcreq.loc[mycell,:])[1:len(list(pbmcreq.loc[mycell,:]))]])\n",
    "    cellFreqs.index=['TIL','PBMC']\n",
    "    cellFreqs=cellFreqs.stack().reset_index(level=0)\n",
    "    cellFreqs.columns=['Type','Perc '+mycell]\n",
    "    ax=sns.boxplot(x='Type',y='Perc '+mycell,data=cellFreqs,ax=axes[i])\n",
    "    ax=sns.swarmplot(x='Type',y='Perc '+mycell,data=cellFreqs,color='black',ax=axes[i])\n",
    "    ax.set_xticklabels(ax.get_xticklabels(), rotation=90,fontsize=10)\n",
    "    ax.tick_params(axis='y', labelsize=10)\n",
    "    ax.set_ylabel(ylabel='Perc '+mycell,fontsize=10)\n",
    "    ax.set_xlabel(xlabel='Sample type ',fontsize=10)\n",
    "    pvals[mycell]=getPs(cellFreqs,['TIL','PBMC'],'Type').iloc[0,:]\n",
    "    pvals[mycell]['log2FC']=np.log2((0.1+cellFreqs.groupby('Type').mean().loc['TIL',:])/(0.1+cellFreqs.groupby('Type').mean().loc['PBMC',:]))[0]\n",
    "    i=i+1\n",
    "    \n",
    "fig.savefig(figdir+'Celltypefreq-PBMCvsTIL'+what+'.pdf', bbox_inches=\"tight\", dpi=300)\n",
    "fig.savefig(figdir+'Celltypefreq-PBMCvsTIL'+what+'.eps', format='eps', bbox_inches=\"tight\", dpi=300)\n",
    "fig.savefig(figdir+'Celltypefreq-PBMCvsTIL'+what+'.svg', format='svg', bbox_inches=\"tight\", dpi=300)"
   ]
  },
  {
   "cell_type": "code",
   "execution_count": null,
   "metadata": {},
   "outputs": [],
   "source": [
    "pd.DataFrame.from_dict(pvals, orient='index').to_csv(figdir+'Pval-CellTypeFreq-'+what+'-per-TILvsPBMC.tsv',sep='\\t')\n",
    "toinc=list(pd.DataFrame.from_dict(pvals, orient='index')['MannWhitney'][pd.DataFrame.from_dict(pvals, orient='index')['MannWhitney']<=0.05].index)\n",
    "\n",
    "pd.DataFrame.from_dict(pvals, orient='index').sort_values('MannWhitney')"
   ]
  },
  {
   "cell_type": "code",
   "execution_count": null,
   "metadata": {},
   "outputs": [],
   "source": [
    "plt.figure(figsize=(1,7))\n",
    "sns.set(font_scale=0.8)\n",
    "sns_plot=sns.heatmap(pd.DataFrame(pd.DataFrame.from_dict(pvals, orient='index').loc[toinc,:]['log2FC'].sort_values(ascending=False)),center=0.00,cmap=sns.diverging_palette(220, 20, as_cmap=True))\n",
    "fig = sns_plot.get_figure()\n",
    "fig.savefig(figdir+'Celltypefreq-PBMCvsTIL-summary-'+what+'.pdf', bbox_inches=\"tight\", dpi=300)\n",
    "fig.savefig(figdir+'Celltypefreq-PBMCvsTIL-summary-'+what+'.eps', format='eps', bbox_inches=\"tight\", dpi=300)\n",
    "fig.savefig(figdir+'Celltypefreq-PBMCvsTIL-summary-'+what+'.svg', format='svg', bbox_inches=\"tight\", dpi=300)"
   ]
  },
  {
   "cell_type": "markdown",
   "metadata": {},
   "source": [
    "### Stratified per response"
   ]
  },
  {
   "cell_type": "markdown",
   "metadata": {},
   "source": [
    "##### Lev 1 - TIL"
   ]
  },
  {
   "cell_type": "code",
   "execution_count": null,
   "metadata": {},
   "outputs": [],
   "source": [
    "sns.set_theme(style=\"ticks\")\n",
    "\n",
    "what='celltype1'\n",
    "tilfreq=pd.read_csv(propdir+'TIL_celltypeFreq_'+what+'.tsv',header=0)\n",
    "pbmcreq=pd.read_csv(propdir+'PBMCs_celltypeFreq_'+what+'.tsv',header=0)\n",
    "\n",
    "tilfreq.index=tilfreq.iloc[:,0]\n",
    "pbmcreq.index=pbmcreq.iloc[:,0]\n",
    "\n",
    "rs=[x.split(' ')[2] for x in list(tilfreq.drop(columns=['Unnamed: 0']).columns)]\n",
    "patid=[x.split(' ')[1] for x in list(tilfreq.drop(columns=['Unnamed: 0']).columns)]\n",
    "\n",
    "toplot=tilfreq.drop(columns=['Unnamed: 0']).transpose()\n",
    "toplot['RCat']=rs\n"
   ]
  },
  {
   "cell_type": "code",
   "execution_count": null,
   "metadata": {},
   "outputs": [],
   "source": [
    "\n",
    "fig, axes = plt.subplots(1, 4,figsize=(14,3), gridspec_kw={'wspace': 0.5, 'left': 0.25})\n",
    "plt.subplots_adjust(left=0.2, right=0.98, top=0.86, bottom=0.1)\n",
    "\n",
    "axes = axes.flatten()\n",
    "\n",
    "pvals={}\n",
    "pvalsn={}\n",
    "i=0\n",
    "for mycell in list(tilfreq.index):\n",
    "\n",
    "    ax=sns.boxplot(y=mycell,x='RCat',data=toplot,ax=axes[i],\n",
    "                   palette=color_dict,orient='v',order=['R','TF','NR_nadj','NR_adj'])\n",
    "    ax=sns.swarmplot(y=mycell,x='RCat',data=toplot,color='black',ax=axes[i],\n",
    "                    order=['R','TF','NR_nadj','NR_adj'])\n",
    "    ax.set_xticklabels(ax.get_xticklabels(), rotation=90,fontsize=10)\n",
    "    ax.tick_params(axis='y', labelsize=10)\n",
    "    ax.set_ylabel(ylabel='Perc '+mycell,fontsize=10)\n",
    "    ax.set_xlabel(xlabel='Response ',fontsize=10)\n",
    "    pvalsn[mycell]=getPs(toplot.loc[:,['RCat',mycell]],['R','TF','NR_nadj','NR_adj'],'RCat').loc['R-NR_nadj',:]\n",
    "    pvalsn[mycell]['log2FC']=np.log2((0.1+toplot.loc[:,['RCat',mycell]].groupby('RCat').mean().loc['R',:])/(0.1+toplot.loc[:,['RCat',mycell]].groupby('RCat').mean().loc['NR_nadj',:]))[0]\n",
    "    pvals[mycell]=getPs(toplot.loc[:,['RCat',mycell]],['R','TF','NR_nadj','NR_adj'],'RCat').loc['TF-NR_adj',:]\n",
    "    pvals[mycell]['log2FC']=np.log2((0.1+toplot.loc[:,['RCat',mycell]].groupby('RCat').mean().loc['TF',:])/(0.1+toplot.loc[:,['RCat',mycell]].groupby('RCat').mean().loc['NR_adj',:]))[0]\n",
    "    i=i+1\n",
    "    \n",
    "fig.savefig(figdir+'Celltypefreq-Response-TILs'+what+'.pdf', bbox_inches=\"tight\", dpi=300)\n",
    "fig.savefig(figdir+'Celltypefreq-Response-TILs'+what+'.eps', format='eps', bbox_inches=\"tight\", dpi=300)\n",
    "fig.savefig(figdir+'Celltypefreq-Response-TILs'+what+'.svg', format='svg', bbox_inches=\"tight\", dpi=300)"
   ]
  },
  {
   "cell_type": "code",
   "execution_count": null,
   "metadata": {},
   "outputs": [],
   "source": [
    "pd.DataFrame.from_dict(pvals, orient='index').to_csv(figdir+'Pval-CellTypeFreq-TIL-'+what+'-per-Response-adj.tsv',sep='\\t')\n",
    "pd.DataFrame.from_dict(pvals, orient='index').sort_values(by='MannWhitney')\n"
   ]
  },
  {
   "cell_type": "code",
   "execution_count": null,
   "metadata": {},
   "outputs": [],
   "source": [
    "pd.DataFrame.from_dict(pvalsn, orient='index').to_csv(figdir+'Pval-CellTypeFreq-TIL-'+what+'-per-Response-nadj.tsv',sep='\\t')\n",
    "pd.DataFrame.from_dict(pvalsn, orient='index').sort_values(by='MannWhitney')\n"
   ]
  },
  {
   "cell_type": "code",
   "execution_count": null,
   "metadata": {},
   "outputs": [],
   "source": [
    "toinc=list(pd.DataFrame.from_dict(pvalsn, orient='index')['MannWhitney'][pd.DataFrame.from_dict(pvalsn, orient='index')['MannWhitney']<=0.1].index)\n",
    "toinc2=list(pd.DataFrame.from_dict(pvals, orient='index')['MannWhitney'][pd.DataFrame.from_dict(pvals, orient='index')['MannWhitney']<=0.1].index)\n",
    "\n",
    "toinc=list(set(toinc2).union(set(toinc)))\n",
    "mypd=pd.concat([pd.DataFrame.from_dict(pvalsn, orient='index').loc[toinc,:]['log2FC'],\n",
    "          pd.DataFrame.from_dict(pvals, orient='index').loc[toinc,:]['log2FC']], axis=1)\n",
    "mypd.columns=['nadj','adj']\n"
   ]
  },
  {
   "cell_type": "code",
   "execution_count": null,
   "metadata": {},
   "outputs": [],
   "source": [
    "toremove=list(tilfreq.median(axis=1)[tilfreq.median(axis=1)<1].index)"
   ]
  },
  {
   "cell_type": "code",
   "execution_count": null,
   "metadata": {},
   "outputs": [],
   "source": [
    "mypd"
   ]
  },
  {
   "cell_type": "code",
   "execution_count": null,
   "metadata": {},
   "outputs": [],
   "source": [
    "#mypd.sort_values('nadj',ascending=False)\n",
    "plt.figure(figsize=(1,1))\n",
    "sns.set(font_scale=0.8)\n",
    "sns_plot=sns.heatmap(mypd.sort_values('nadj',ascending=False),center=0.00,cmap=sns.diverging_palette(220, 20, as_cmap=True))\n",
    "fig = sns_plot.get_figure()\n",
    "fig.savefig(figdir+'Celltypefreq-Response-summary-'+what+'.pdf', bbox_inches=\"tight\", dpi=300)\n",
    "fig.savefig(figdir+'Celltypefreq-Response-summary-'+what+'.eps', format='eps', bbox_inches=\"tight\", dpi=300)\n",
    "fig.savefig(figdir+'Celltypefreq-Response-summary-'+what+'.svg', format='svg', bbox_inches=\"tight\", dpi=300)\n"
   ]
  },
  {
   "cell_type": "markdown",
   "metadata": {},
   "source": [
    "In tumor, in nadj setting, R more myleoids & less B & T cells. "
   ]
  },
  {
   "cell_type": "code",
   "execution_count": null,
   "metadata": {},
   "outputs": [],
   "source": [
    "sc.settings.set_figure_params()"
   ]
  },
  {
   "cell_type": "markdown",
   "metadata": {},
   "source": [
    "##### Lev 1 - PBMC"
   ]
  },
  {
   "cell_type": "code",
   "execution_count": null,
   "metadata": {},
   "outputs": [],
   "source": [
    "rs=[x.split(' ')[2] for x in list(pbmcreq.drop(columns=['Unnamed: 0']).columns)]\n",
    "patid=[x.split(' ')[1] for x in list(pbmcreq.drop(columns=['Unnamed: 0']).columns)]\n",
    "\n",
    "toplot=pbmcreq.drop(columns=['Unnamed: 0']).transpose()\n",
    "toplot['RCat']=rs\n"
   ]
  },
  {
   "cell_type": "code",
   "execution_count": null,
   "metadata": {},
   "outputs": [],
   "source": [
    "pbmcreq"
   ]
  },
  {
   "cell_type": "code",
   "execution_count": null,
   "metadata": {},
   "outputs": [],
   "source": [
    "\n",
    "fig, axes = plt.subplots(1, 4,figsize=(14,3), gridspec_kw={'wspace': 0.5, 'left': 0.25})\n",
    "plt.subplots_adjust(left=0.2, right=0.98, top=0.86, bottom=0.1)\n",
    "\n",
    "axes = axes.flatten()\n",
    "pvalsn={}\n",
    "pvals={}\n",
    "\n",
    "i=0\n",
    "for mycell in list(pbmcreq.index):\n",
    "    ax=sns.boxplot(y=mycell,x='RCat',data=toplot,ax=axes[i],\n",
    "                   palette=color_dict,orient='v',order=['R','TF','NR_nadj','NR_adj'])\n",
    "    ax=sns.swarmplot(y=mycell,x='RCat',data=toplot,color='black',ax=axes[i],\n",
    "                    order=['R','TF','NR_nadj','NR_adj'])\n",
    "    ax.set_xticklabels(ax.get_xticklabels(), rotation=90,fontsize=10)\n",
    "    ax.tick_params(axis='y', labelsize=10)\n",
    "    ax.set_ylabel(ylabel='Perc '+mycell,fontsize=10)\n",
    "    ax.set_xlabel(xlabel='Response ',fontsize=10)\n",
    "    \n",
    "    pvalsn[mycell]=getPs(toplot.loc[:,['RCat',mycell]],['R','TF','NR_nadj','NR_adj'],'RCat').loc['R-NR_nadj',:]\n",
    "    pvals[mycell]=getPs(toplot.loc[:,['RCat',mycell]],['R','TF','NR_nadj','NR_adj'],'RCat').loc['TF-NR_adj',:]\n",
    "    pvalsn[mycell]['log2FC']=np.log2((0.1+toplot.loc[:,['RCat',mycell]].groupby('RCat').mean().loc['R',:])/(0.1+toplot.loc[:,['RCat',mycell]].groupby('RCat').mean().loc['NR_nadj',:]))[0]\n",
    "    pvals[mycell]['log2FC']=np.log2((0.1+toplot.loc[:,['RCat',mycell]].groupby('RCat').mean().loc['TF',:])/(0.1+toplot.loc[:,['RCat',mycell]].groupby('RCat').mean().loc['NR_adj',:]))[0]\n",
    "\n",
    "    i=i+1\n",
    "    \n",
    "fig.savefig(figdir+'Celltypefreq-Response-PBMCs'+what+'.pdf', bbox_inches=\"tight\", dpi=300)\n",
    "fig.savefig(figdir+'Celltypefreq-Response-PBMCs'+what+'.eps', format='eps', bbox_inches=\"tight\", dpi=300)\n",
    "fig.savefig(figdir+'Celltypefreq-Response-PBMCs'+what+'.svg', format='svg', bbox_inches=\"tight\", dpi=300)"
   ]
  },
  {
   "cell_type": "code",
   "execution_count": null,
   "metadata": {},
   "outputs": [],
   "source": [
    "pd.DataFrame.from_dict(pvals, orient='index').to_csv(figdir+'Pval-CellTypeFreq-PBMC-'+what+'-per-Response-adj.tsv',sep='\\t')\n",
    "pd.DataFrame.from_dict(pvals, orient='index').sort_values(by='MannWhitney')\n",
    "\n"
   ]
  },
  {
   "cell_type": "code",
   "execution_count": null,
   "metadata": {
    "scrolled": true
   },
   "outputs": [],
   "source": [
    "\n",
    "pd.DataFrame.from_dict(pvalsn, orient='index').to_csv(figdir+'Pval-CellTypeFreq-PBMC-'+what+'-per-Response-nadj.tsv',sep='\\t')\n",
    "pd.DataFrame.from_dict(pvalsn, orient='index').sort_values(by='MannWhitney')\n"
   ]
  },
  {
   "cell_type": "markdown",
   "metadata": {},
   "source": [
    "NO signifiicant differences in PBMCs, but trend for more myeloids in Rs. "
   ]
  },
  {
   "cell_type": "code",
   "execution_count": null,
   "metadata": {},
   "outputs": [],
   "source": [
    "#toinc"
   ]
  },
  {
   "cell_type": "code",
   "execution_count": null,
   "metadata": {},
   "outputs": [],
   "source": [
    "toinc=list(pd.DataFrame.from_dict(pvalsn, orient='index')['MannWhitney'][pd.DataFrame.from_dict(pvalsn, orient='index')['MannWhitney']<=0.3].index)\n",
    "toinc2=list(pd.DataFrame.from_dict(pvals, orient='index')['MannWhitney'][pd.DataFrame.from_dict(pvals, orient='index')['MannWhitney']<=0.3].index)\n",
    "\n",
    "toinc=list(set(toinc2).union(set(toinc)))\n",
    "mypd=pd.concat([pd.DataFrame.from_dict(pvalsn, orient='index').loc[toinc,:]['log2FC'],\n",
    "          pd.DataFrame.from_dict(pvals, orient='index').loc[toinc,:]['log2FC']], axis=1)\n",
    "mypd.columns=['nadj','adj']\n"
   ]
  },
  {
   "cell_type": "code",
   "execution_count": null,
   "metadata": {},
   "outputs": [],
   "source": [
    "toremove=list(pbmcreq.median(axis=1)[pbmcreq.median(axis=1)<1].index)\n",
    "toremove"
   ]
  },
  {
   "cell_type": "code",
   "execution_count": null,
   "metadata": {},
   "outputs": [],
   "source": []
  },
  {
   "cell_type": "code",
   "execution_count": null,
   "metadata": {},
   "outputs": [],
   "source": [
    "#mypd.sort_values('nadj',ascending=False)\n",
    "plt.figure(figsize=(1,1))\n",
    "sns.set(font_scale=0.8)\n",
    "sns_plot=sns.heatmap(mypd.sort_values('nadj',ascending=False),center=0.00,cmap=sns.diverging_palette(220, 20, as_cmap=True))\n",
    "fig = sns_plot.get_figure()\n",
    "fig.savefig(figdir+'Celltypefreq-Response-summary-'+what+'-PBMC.pdf')\n",
    "fig.savefig(figdir+'Celltypefreq-Response-summary-'+what+'-PBMC.eps', format='eps')\n",
    "fig.savefig(figdir+'Celltypefreq-Response-summary-'+what+'-PBMC.svg', format='svg')"
   ]
  },
  {
   "cell_type": "code",
   "execution_count": null,
   "metadata": {},
   "outputs": [],
   "source": []
  },
  {
   "cell_type": "markdown",
   "metadata": {},
   "source": [
    "##### Lev 2 - TIL"
   ]
  },
  {
   "cell_type": "code",
   "execution_count": null,
   "metadata": {},
   "outputs": [],
   "source": [
    "sns.set_style('white')\n",
    "what='celltype2_pub'\n",
    "tilfreq=pd.read_csv(propdir+'TIL_celltypeFreq_'+what+'.tsv',header=0)\n",
    "pbmcreq=pd.read_csv(propdir+'PBMCs_celltypeFreq_'+what+'.tsv',header=0)\n",
    "\n",
    "tilfreq.index=tilfreq.iloc[:,0]\n",
    "pbmcreq.index=pbmcreq.iloc[:,0]\n",
    "\n",
    "rs=[x.split(' ')[2] for x in list(tilfreq.drop(columns=['Unnamed: 0']).columns)]\n",
    "patid=[x.split(' ')[1] for x in list(tilfreq.drop(columns=['Unnamed: 0']).columns)]\n",
    "\n",
    "toplot=tilfreq.drop(columns=['Unnamed: 0']).transpose()\n",
    "toplot['RCat']=rs\n",
    "\n"
   ]
  },
  {
   "cell_type": "code",
   "execution_count": null,
   "metadata": {},
   "outputs": [],
   "source": [
    "fig, axes = plt.subplots(2, 6,figsize=(16,7), gridspec_kw={'wspace': 0.5, 'left': 0.25})\n",
    "plt.subplots_adjust(left=0.2, right=0.98, top=0.86, bottom=0.1)\n",
    "\n",
    "axes = axes.flatten()\n",
    "pvalsn={}\n",
    "pvals={}\n",
    "i=0\n",
    "for mycell in list(tilfreq.index):\n",
    "    ax=sns.boxplot(y=mycell,x='RCat',data=toplot,ax=axes[i],\n",
    "                   palette=color_dict,orient='v',order=['R','TF','NR_nadj','NR_adj'])\n",
    "    ax=sns.swarmplot(y=mycell,x='RCat',data=toplot,color='black',ax=axes[i]\n",
    "                    ,order=['R','TF','NR_nadj','NR_adj'])\n",
    "    ax.set_xticklabels(ax.get_xticklabels(), rotation=90,fontsize=10)\n",
    "    ax.tick_params(axis='y', labelsize=10)\n",
    "    ax.set_ylabel(ylabel='Perc '+mycell,fontsize=10)\n",
    "    ax.set_xlabel(xlabel='Response ',fontsize=10)\n",
    "    pvalsn[mycell]=getPs(toplot.loc[:,['RCat',mycell]],['R','TF','NR_nadj','NR_adj'],'RCat').loc['R-NR_nadj',:]\n",
    "    pvals[mycell]=getPs(toplot.loc[:,['RCat',mycell]],['R','TF','NR_nadj','NR_adj'],'RCat').loc['TF-NR_adj',:]\n",
    "    pvalsn[mycell]['log2FC']=np.log2((0.1+toplot.loc[:,['RCat',mycell]].groupby('RCat').mean().loc['R',:])/(0.1+toplot.loc[:,['RCat',mycell]].groupby('RCat').mean().loc['NR_nadj',:]))[0]\n",
    "    pvals[mycell]['log2FC']=np.log2((0.1+toplot.loc[:,['RCat',mycell]].groupby('RCat').mean().loc['TF',:])/(0.1+toplot.loc[:,['RCat',mycell]].groupby('RCat').mean().loc['NR_adj',:]))[0]\n",
    "\n",
    "\n",
    "    i=i+1\n",
    "    \n",
    "fig.savefig(figdir+'Celltypefreq-Response-TILs'+what+'.pdf', bbox_inches=\"tight\", dpi=300)\n",
    "fig.savefig(figdir+'Celltypefreq-Response-TILs'+what+'.eps', format='eps', bbox_inches=\"tight\", dpi=300)\n",
    "fig.savefig(figdir+'Celltypefreq-Response-TILs'+what+'.svg', format='svg', bbox_inches=\"tight\", dpi=300)"
   ]
  },
  {
   "cell_type": "code",
   "execution_count": null,
   "metadata": {},
   "outputs": [],
   "source": [
    "mycell='myeloid dendritic cell'\n",
    "toplot.loc[:,['RCat',mycell]].groupby('RCat').mean()"
   ]
  },
  {
   "cell_type": "code",
   "execution_count": null,
   "metadata": {},
   "outputs": [],
   "source": [
    "mycell='macrophage'\n",
    "toplot.loc[:,['RCat',mycell]].groupby('RCat').mean()"
   ]
  },
  {
   "cell_type": "code",
   "execution_count": null,
   "metadata": {},
   "outputs": [],
   "source": [
    "mycell='plasmacytoid dendritic cell'\n",
    "toplot.loc[:,['RCat',mycell]].groupby('RCat').mean()"
   ]
  },
  {
   "cell_type": "code",
   "execution_count": null,
   "metadata": {},
   "outputs": [],
   "source": [
    "mycell='classical monocyte'\n",
    "toplot.loc[:,['RCat',mycell]].groupby('RCat').mean()"
   ]
  },
  {
   "cell_type": "code",
   "execution_count": null,
   "metadata": {},
   "outputs": [],
   "source": [
    "pd.DataFrame.from_dict(pvals, orient='index').to_csv(figdir+'Pval-CellTypeFreq-TIL-'+what+'-per-Response-adj.tsv',sep='\\t')\n",
    "pd.DataFrame.from_dict(pvals, orient='index').sort_values(by='MannWhitney')\n",
    "\n"
   ]
  },
  {
   "cell_type": "markdown",
   "metadata": {},
   "source": [
    "In tumor, adjuvant setting - trends for more CD4+ T cells in NR. "
   ]
  },
  {
   "cell_type": "code",
   "execution_count": null,
   "metadata": {
    "scrolled": true
   },
   "outputs": [],
   "source": [
    "\n",
    "\n",
    "\n",
    "pd.DataFrame.from_dict(pvalsn, orient='index').to_csv(figdir+'Pval-CellTypeFreq-TIL-'+what+'-per-Response-nadj.tsv',sep='\\t')\n",
    "pd.DataFrame.from_dict(pvalsn, orient='index').sort_values(by='MannWhitney')\n"
   ]
  },
  {
   "cell_type": "markdown",
   "metadata": {},
   "source": [
    "In tumor, non-adjuvant setting - trends for more Plasma cells in nR, more macrophages, classical monocytes & myeloid DCs in Rs. "
   ]
  },
  {
   "cell_type": "code",
   "execution_count": null,
   "metadata": {},
   "outputs": [],
   "source": [
    "toinc=list(pd.DataFrame.from_dict(pvalsn, orient='index')['MannWhitney'][pd.DataFrame.from_dict(pvalsn, orient='index')['MannWhitney']<=0.5].index)\n",
    "toinc2=list(pd.DataFrame.from_dict(pvals, orient='index')['MannWhitney'][pd.DataFrame.from_dict(pvals, orient='index')['MannWhitney']<=0.5].index)\n",
    "\n",
    "toinc=list(set(toinc2).union(set(toinc)))\n",
    "mypd=pd.concat([pd.DataFrame.from_dict(pvalsn, orient='index').loc[toinc,:]['log2FC'],\n",
    "          pd.DataFrame.from_dict(pvals, orient='index').loc[toinc,:]['log2FC']], axis=1)\n",
    "mypd.columns=['nadj','adj']\n",
    "\n",
    "toremove=list(tilfreq.mean(axis=1)[tilfreq.mean(axis=1)<0.1].index)\n",
    "toremove"
   ]
  },
  {
   "cell_type": "code",
   "execution_count": null,
   "metadata": {},
   "outputs": [],
   "source": [
    "\n",
    "mypd=mypd[~mypd.index.isin(toremove)]"
   ]
  },
  {
   "cell_type": "code",
   "execution_count": null,
   "metadata": {},
   "outputs": [],
   "source": [
    "\n",
    "\n",
    "#mypd.sort_values('nadj',ascending=False)\n",
    "plt.figure(figsize=(2,3))\n",
    "sns.set(font_scale=0.8)\n",
    "sns_plot=sns.heatmap(mypd.sort_values('nadj',ascending=False),center=0.00,cmap=sns.diverging_palette(220, 20, as_cmap=True))\n",
    "fig = sns_plot.get_figure()\n",
    "fig.savefig(figdir+'Celltypefreq-Response-summary-'+what+'.pdf', bbox_inches=\"tight\", dpi=300)\n",
    "fig.savefig(figdir+'Celltypefreq-Response-summary-'+what+'.eps', format='eps', bbox_inches=\"tight\", dpi=300)\n",
    "fig.savefig(figdir+'Celltypefreq-Response-summary-'+what+'.svg', format='svg', bbox_inches=\"tight\", dpi=300)"
   ]
  },
  {
   "cell_type": "markdown",
   "metadata": {},
   "source": [
    "##### Lev 2 - PBMC"
   ]
  },
  {
   "cell_type": "code",
   "execution_count": null,
   "metadata": {},
   "outputs": [],
   "source": [
    "sns.set_style('white')\n",
    "rs=[x.split(' ')[2] for x in list(pbmcreq.drop(columns=['Unnamed: 0']).columns)]\n",
    "patid=[x.split(' ')[1] for x in list(pbmcreq.drop(columns=['Unnamed: 0']).columns)]\n",
    "\n",
    "toplot=pbmcreq.drop(columns=['Unnamed: 0']).transpose()\n",
    "toplot['RCat']=rs\n"
   ]
  },
  {
   "cell_type": "code",
   "execution_count": null,
   "metadata": {},
   "outputs": [],
   "source": [
    "rs1=[x.split(' ')[2] for x in list(pbmcreq.drop(columns=['Unnamed: 0']).columns)]\n",
    "patid1=[x.split(' ')[1] for x in list(pbmcreq.drop(columns=['Unnamed: 0']).columns)]\n",
    "\n",
    "pbmcreq1=pbmcreq.loc[pbmcreq.median(axis=1)>0.5,:]\n",
    "\n",
    "toplot1=pbmcreq1.drop(columns=['Unnamed: 0']).transpose()\n",
    "toplot1['RCat']=rs1\n",
    "\n",
    "toplot1.groupby('RCat').mean()['CD4-positive T cell']"
   ]
  },
  {
   "cell_type": "code",
   "execution_count": null,
   "metadata": {},
   "outputs": [],
   "source": [
    "\n",
    "fig, axes = plt.subplots(2, 6,figsize=(16,7), gridspec_kw={'wspace': 0.5, 'left': 0.25})\n",
    "plt.subplots_adjust(left=0.2, right=0.98, top=0.86, bottom=0.1)\n",
    "\n",
    "axes = axes.flatten()\n",
    "pvals={}\n",
    "pvalsn={}\n",
    "\n",
    "i=0\n",
    "for mycell in list(pbmcreq.index):\n",
    "    ax=sns.boxplot(y=mycell,x='RCat',data=toplot,ax=axes[i],\n",
    "                   palette=color_dict,orient='v',order=['R','TF','NR_nadj','NR_adj'])\n",
    "    ax=sns.swarmplot(y=mycell,x='RCat',data=toplot,color='black',ax=axes[i],\n",
    "                    order=['R','TF','NR_nadj','NR_adj'])\n",
    "    ax.set_xticklabels(ax.get_xticklabels(), rotation=90,fontsize=10)\n",
    "    ax.tick_params(axis='y', labelsize=10)\n",
    "    ax.set_ylabel(ylabel='Perc '+mycell,fontsize=10)\n",
    "    ax.set_xlabel(xlabel='Response ',fontsize=10)\n",
    "    pvalsn[mycell]=getPs(toplot.loc[:,['RCat',mycell]],['R','TF','NR_nadj','NR_adj'],'RCat').loc['R-NR_nadj',:]\n",
    "    pvals[mycell]=getPs(toplot.loc[:,['RCat',mycell]],['R','TF','NR_nadj','NR_adj'],'RCat').loc['TF-NR_adj',:]\n",
    "\n",
    "    pvalsn[mycell]['log2FC']=np.log2((0.1+toplot.loc[:,['RCat',mycell]].groupby('RCat').mean().loc['R',:])/(0.1+toplot.loc[:,['RCat',mycell]].groupby('RCat').mean().loc['NR_nadj',:]))[0]\n",
    "    pvals[mycell]['log2FC']=np.log2((0.1+toplot.loc[:,['RCat',mycell]].groupby('RCat').mean().loc['TF',:])/(0.1+toplot.loc[:,['RCat',mycell]].groupby('RCat').mean().loc['NR_adj',:]))[0]\n",
    "\n",
    "    i=i+1\n",
    "    \n",
    "fig.savefig(figdir+'Celltypefreq-Response-PBMCs'+what+'.pdf', bbox_inches=\"tight\", dpi=300)\n",
    "fig.savefig(figdir+'Celltypefreq-Response-PBMCs'+what+'.eps', format='eps', bbox_inches=\"tight\", dpi=300)\n",
    "fig.savefig(figdir+'Celltypefreq-Response-PBMCs'+what+'.svg', format='svg', bbox_inches=\"tight\", dpi=300)"
   ]
  },
  {
   "cell_type": "code",
   "execution_count": null,
   "metadata": {},
   "outputs": [],
   "source": [
    "pd.DataFrame.from_dict(pvals, orient='index').to_csv(figdir+'Pval-CellTypeFreq-PBMC-'+what+'-per-Response-adj.tsv',sep='\\t')\n",
    "pd.DataFrame.from_dict(pvals, orient='index').sort_values(by='MannWhitney')\n",
    "\n"
   ]
  },
  {
   "cell_type": "markdown",
   "metadata": {},
   "source": [
    "No significant differences in adjuvant setting. "
   ]
  },
  {
   "cell_type": "code",
   "execution_count": null,
   "metadata": {},
   "outputs": [],
   "source": [
    "pd.DataFrame.from_dict(pvalsn, orient='index').to_csv(figdir+'Pval-CellTypeFreq-PBMC-'+what+'-per-Response-nadj.tsv',sep='\\t')\n",
    "pd.DataFrame.from_dict(pvalsn, orient='index').sort_values(by='MannWhitney')\n"
   ]
  },
  {
   "cell_type": "markdown",
   "metadata": {},
   "source": [
    "No significant differences, but trend for more classical monocytes in non-adjuvant setting. "
   ]
  },
  {
   "cell_type": "code",
   "execution_count": null,
   "metadata": {},
   "outputs": [],
   "source": [
    "toinc=list(pd.DataFrame.from_dict(pvalsn, orient='index')['MannWhitney'][pd.DataFrame.from_dict(pvalsn, orient='index')['MannWhitney']<=0.4].index)\n",
    "toinc2=list(pd.DataFrame.from_dict(pvals, orient='index')['MannWhitney'][pd.DataFrame.from_dict(pvals, orient='index')['MannWhitney']<=0.4].index)\n",
    "\n",
    "toinc=list(set(toinc2).union(set(toinc)))\n",
    "mypd=pd.concat([pd.DataFrame.from_dict(pvalsn, orient='index').loc[toinc,:]['log2FC'],\n",
    "          pd.DataFrame.from_dict(pvals, orient='index').loc[toinc,:]['log2FC']], axis=1)\n",
    "mypd.columns=['nadj','adj']\n"
   ]
  },
  {
   "cell_type": "code",
   "execution_count": null,
   "metadata": {},
   "outputs": [],
   "source": [
    "toremove=list(pbmcreq.mean(axis=1)[pbmcreq.mean(axis=1)<0.1].index)\n",
    "toremove\n",
    "mypd=mypd[~mypd.index.isin(toremove)]"
   ]
  },
  {
   "cell_type": "code",
   "execution_count": null,
   "metadata": {},
   "outputs": [],
   "source": [
    "#mypd.sort_values('nadj',ascending=False)\n",
    "plt.figure(figsize=(1.5,2))\n",
    "sns.set(font_scale=0.8)\n",
    "sns_plot=sns.heatmap(mypd.sort_values('nadj',ascending=False),center=0.00,cmap=sns.diverging_palette(220, 20, as_cmap=True))\n",
    "fig = sns_plot.get_figure()\n",
    "fig.savefig(figdir+'Celltypefreq-Response-summary-'+what+'-PBMC.pdf', bbox_inches=\"tight\", dpi=300)\n",
    "fig.savefig(figdir+'Celltypefreq-Response-summary-'+what+'-PBMC.eps', format='eps', bbox_inches=\"tight\", dpi=300)\n",
    "fig.savefig(figdir+'Celltypefreq-Response-summary-'+what+'-PBMC.svg', format='svg', bbox_inches=\"tight\", dpi=300)\n"
   ]
  },
  {
   "cell_type": "markdown",
   "metadata": {},
   "source": [
    "##### Lev 3 - TIL"
   ]
  },
  {
   "cell_type": "code",
   "execution_count": null,
   "metadata": {},
   "outputs": [],
   "source": [
    "sns.set_style('white')\n",
    "what='celltype3_pub'\n",
    "tilfreq=pd.read_csv(propdir+'TIL_celltypeFreq_'+what+'.tsv',header=0)\n",
    "pbmcreq=pd.read_csv(propdir+'PBMCs_celltypeFreq_'+what+'.tsv',header=0)\n",
    "\n",
    "tilfreq.index=tilfreq.iloc[:,0]\n",
    "pbmcreq.index=pbmcreq.iloc[:,0]\n",
    "\n",
    "tilfreq=tilfreq.loc[tilfreq.median(axis=1)>0.1,:]\n",
    "\n",
    "rs=[x.split(' ')[2] for x in list(tilfreq.drop(columns=['Unnamed: 0']).columns)]\n",
    "patid=[x.split(' ')[1] for x in list(tilfreq.drop(columns=['Unnamed: 0']).columns)]\n",
    "\n",
    "toplot=tilfreq.drop(columns=['Unnamed: 0']).transpose()\n",
    "toplot['RCat']=rs"
   ]
  },
  {
   "cell_type": "code",
   "execution_count": null,
   "metadata": {},
   "outputs": [],
   "source": [
    "toplot.groupby('RCat').mean()['CD141-positive myeloid dendritic cell']"
   ]
  },
  {
   "cell_type": "code",
   "execution_count": null,
   "metadata": {},
   "outputs": [],
   "source": [
    "toplot.groupby('RCat').mean()['exhausted-like CD4-positive T cell']"
   ]
  },
  {
   "cell_type": "code",
   "execution_count": null,
   "metadata": {},
   "outputs": [],
   "source": [
    "rs1=[x.split(' ')[2] for x in list(pbmcreq.drop(columns=['Unnamed: 0']).columns)]\n",
    "patid1=[x.split(' ')[1] for x in list(pbmcreq.drop(columns=['Unnamed: 0']).columns)]\n",
    "\n",
    "pbmcreq1=pbmcreq.loc[pbmcreq.median(axis=1)>0.5,:]\n",
    "\n",
    "toplot1=pbmcreq1.drop(columns=['Unnamed: 0']).transpose()\n",
    "toplot1['RCat']=rs1\n",
    "\n",
    "toplot1.groupby('RCat').mean()['classical monocyte']"
   ]
  },
  {
   "cell_type": "markdown",
   "metadata": {},
   "source": [
    "##### Lev 3 - TIL"
   ]
  },
  {
   "cell_type": "code",
   "execution_count": null,
   "metadata": {},
   "outputs": [],
   "source": [
    "fig, axes = plt.subplots(6, 5,figsize=(16,20), gridspec_kw={'wspace': 0.5, 'left': 0.25})\n",
    "plt.subplots_adjust(left=0.2, right=0.98, top=0.86, bottom=0.1)\n",
    "\n",
    "\n",
    "\n",
    "axes = axes.flatten()\n",
    "pvals={}\n",
    "pvalsn={}\n",
    "\n",
    "i=0\n",
    "for mycell in list(tilfreq.index):\n",
    "    ax=sns.boxplot(y=mycell,x='RCat',data=toplot,ax=axes[i],\n",
    "                   palette=color_dict,orient='v',order=['R','TF','NR_nadj','NR_adj'])\n",
    "    ax=sns.swarmplot(y=mycell,x='RCat',data=toplot,color='black',ax=axes[i],order=['R','TF','NR_nadj','NR_adj'])\n",
    "    ax.set_xticklabels(ax.get_xticklabels(), rotation=90,fontsize=10)\n",
    "    ax.tick_params(axis='y', labelsize=10)\n",
    "    ax.set_ylabel(ylabel='Perc '+mycell,fontsize=10)\n",
    "    ax.set_xlabel(xlabel='Response ',fontsize=10)\n",
    "    pvalsn[mycell]=getPs(toplot.loc[:,['RCat',mycell]],['R','TF','NR_nadj','NR_adj'],'RCat').loc['R-NR_nadj',:]\n",
    "    pvals[mycell]=getPs(toplot.loc[:,['RCat',mycell]],['R','TF','NR_nadj','NR_adj'],'RCat').loc['TF-NR_adj',:]\n",
    "\n",
    "    pvalsn[mycell]['log2FC']=np.log2((0.1+toplot.loc[:,['RCat',mycell]].groupby('RCat').mean().loc['R',:])/(0.1+toplot.loc[:,['RCat',mycell]].groupby('RCat').mean().loc['NR_nadj',:]))[0]\n",
    "    pvals[mycell]['log2FC']=np.log2((0.1+toplot.loc[:,['RCat',mycell]].groupby('RCat').mean().loc['TF',:])/(0.1+toplot.loc[:,['RCat',mycell]].groupby('RCat').mean().loc['NR_adj',:]))[0]\n",
    "\n",
    "    i=i+1\n",
    "    \n",
    "fig.savefig(figdir+'Celltypefreq-Response-TILs'+what+'.pdf', bbox_inches=\"tight\", dpi=300)\n",
    "fig.savefig(figdir+'Celltypefreq-Response-TILs'+what+'.eps', format='eps', bbox_inches=\"tight\", dpi=300)\n",
    "fig.savefig(figdir+'Celltypefreq-Response-TILs'+what+'.svg', format='svg', bbox_inches=\"tight\", dpi=300)"
   ]
  },
  {
   "cell_type": "code",
   "execution_count": null,
   "metadata": {},
   "outputs": [],
   "source": [
    "pd.DataFrame.from_dict(pvalsn, orient='index').to_csv(figdir+'Pval-CellTypeFreq-TIL-'+what+'-per-Response-nadj.tsv',sep='\\t')\n",
    "pd.DataFrame.from_dict(pvalsn, orient='index').sort_values(by='T-test')\n"
   ]
  },
  {
   "cell_type": "markdown",
   "metadata": {},
   "source": [
    "In tumor, non-adjuvant setting - more exhausted-like CD4+ T cells in NRs. "
   ]
  },
  {
   "cell_type": "code",
   "execution_count": null,
   "metadata": {},
   "outputs": [],
   "source": [
    "pd.DataFrame.from_dict(pvals, orient='index').to_csv(figdir+'Pval-CellTypeFreq-TIL-'+what+'-per-Response-adj.tsv',sep='\\t')\n",
    "pd.DataFrame.from_dict(pvals, orient='index').sort_values(by='T-test')\n"
   ]
  },
  {
   "cell_type": "code",
   "execution_count": null,
   "metadata": {},
   "outputs": [],
   "source": [
    "toinc=list(pd.DataFrame.from_dict(pvalsn, orient='index')['MannWhitney'][pd.DataFrame.from_dict(pvalsn, orient='index')['MannWhitney']<=0.4].index)\n",
    "toinc2=list(pd.DataFrame.from_dict(pvals, orient='index')['MannWhitney'][pd.DataFrame.from_dict(pvals, orient='index')['MannWhitney']<=0.4].index)\n",
    "\n",
    "toinc=list(set(toinc2).union(set(toinc)))\n",
    "mypd=pd.concat([pd.DataFrame.from_dict(pvalsn, orient='index').loc[toinc,:]['log2FC'],\n",
    "          pd.DataFrame.from_dict(pvals, orient='index').loc[toinc,:]['log2FC']], axis=1)\n",
    "mypd.columns=['nadj','adj']"
   ]
  },
  {
   "cell_type": "code",
   "execution_count": null,
   "metadata": {},
   "outputs": [],
   "source": [
    "toremove=list(tilfreq.mean(axis=1)[tilfreq.mean(axis=1)<0.1].index)\n",
    "toremove\n",
    "mypd=mypd[~mypd.index.isin(toremove)]"
   ]
  },
  {
   "cell_type": "code",
   "execution_count": null,
   "metadata": {},
   "outputs": [],
   "source": [
    "\n",
    "#mypd.sort_values('nadj',ascending=False)\n",
    "plt.figure(figsize=(2,5))\n",
    "sns.set(font_scale=0.8)\n",
    "sns_plot=sns.heatmap(mypd.sort_values('nadj',ascending=False),center=0.00,cmap=sns.diverging_palette(220, 20, as_cmap=True))\n",
    "fig = sns_plot.get_figure()\n",
    "fig.savefig(figdir+'Celltypefreq-Response-summary-'+what+'.pdf', bbox_inches=\"tight\", dpi=300)\n",
    "fig.savefig(figdir+'Celltypefreq-Response-summary-'+what+'.eps', format='eps', bbox_inches=\"tight\", dpi=300)\n",
    "fig.savefig(figdir+'Celltypefreq-Response-summary-'+what+'.svg', format='svg', bbox_inches=\"tight\", dpi=300)\n"
   ]
  },
  {
   "cell_type": "markdown",
   "metadata": {},
   "source": [
    "##### Lev 3 - PBMC"
   ]
  },
  {
   "cell_type": "code",
   "execution_count": null,
   "metadata": {},
   "outputs": [],
   "source": [
    "sns.set_style('white')\n",
    "rs=[x.split(' ')[2] for x in list(pbmcreq.drop(columns=['Unnamed: 0']).columns)]\n",
    "patid=[x.split(' ')[1] for x in list(pbmcreq.drop(columns=['Unnamed: 0']).columns)]\n",
    "\n",
    "pbmcreq=pbmcreq.loc[pbmcreq.median(axis=1)>0.1,:]\n",
    "\n",
    "toplot=pbmcreq.drop(columns=['Unnamed: 0']).transpose()\n",
    "toplot['RCat']=rs\n"
   ]
  },
  {
   "cell_type": "code",
   "execution_count": null,
   "metadata": {},
   "outputs": [],
   "source": [
    "\n",
    "fig, axes = plt.subplots(4, 5,figsize=(16,12), gridspec_kw={'wspace': 0.5, 'left': 0.25})\n",
    "plt.subplots_adjust(left=0.2, right=0.98, top=0.86, bottom=0.1)\n",
    "pvals={}\n",
    "pvalsn={}\n",
    "\n",
    "axes = axes.flatten()\n",
    "\n",
    "i=0\n",
    "for mycell in list(set(list(pbmcreq.index))-set(['CCR7-positive myeloid dendritic cell',\n",
    "                                                 'MARCO-positive macrophage',\n",
    "                                                 'exhausted-like CD8-positive T cell',\n",
    "                                                'MSR1-positive macrophage','macrophage'])):\n",
    "    ax=sns.boxplot(y=mycell,x='RCat',data=toplot,ax=axes[i],\n",
    "                   palette=color_dict,orient='v',order=['R','TF','NR_nadj','NR_adj'])\n",
    "    ax=sns.swarmplot(y=mycell,x='RCat',data=toplot,color='black',ax=axes[i],\n",
    "                    order=['R','TF','NR_nadj','NR_adj'])\n",
    "    ax.set_xticklabels(ax.get_xticklabels(), rotation=90,fontsize=10)\n",
    "    ax.tick_params(axis='y', labelsize=10)\n",
    "    ax.set_ylabel(ylabel='Perc '+mycell,fontsize=10)\n",
    "    ax.set_xlabel(xlabel='Response ',fontsize=10)\n",
    "    pvalsn[mycell]=getPs(toplot.loc[:,['RCat',mycell]],['R','TF','NR_nadj','NR_adj'],'RCat').loc['R-NR_nadj',:]\n",
    "    pvals[mycell]=getPs(toplot.loc[:,['RCat',mycell]],['R','TF','NR_nadj','NR_adj'],'RCat').loc['TF-NR_adj',:]\n",
    "\n",
    "    pvalsn[mycell]['log2FC']=np.log2((0.1+toplot.loc[:,['RCat',mycell]].groupby('RCat').mean().loc['R',:])/(0.1+toplot.loc[:,['RCat',mycell]].groupby('RCat').mean().loc['NR_nadj',:]))[0]\n",
    "    pvals[mycell]['log2FC']=np.log2((0.1+toplot.loc[:,['RCat',mycell]].groupby('RCat').mean().loc['TF',:])/(0.1+toplot.loc[:,['RCat',mycell]].groupby('RCat').mean().loc['NR_adj',:]))[0]\n",
    "\n",
    "    i=i+1\n",
    "    \n",
    "fig.savefig(figdir+'Celltypefreq-Response-PBMCs'+what+'.pdf', bbox_inches=\"tight\", dpi=300)\n",
    "fig.savefig(figdir+'Celltypefreq-Response-PBMCs'+what+'.eps', format='eps', bbox_inches=\"tight\", dpi=300)\n",
    "fig.savefig(figdir+'Celltypefreq-Response-PBMCs'+what+'.svg', format='svg', bbox_inches=\"tight\", dpi=300)"
   ]
  },
  {
   "cell_type": "code",
   "execution_count": null,
   "metadata": {},
   "outputs": [],
   "source": [
    "pd.DataFrame.from_dict(pvalsn, orient='index').to_csv(figdir+'Pval-CellTypeFreq-PBMC-'+what+'-per-Response-nadj.tsv',sep='\\t')\n",
    "pd.DataFrame.from_dict(pvalsn, orient='index').sort_values(by='T-test')\n"
   ]
  },
  {
   "cell_type": "code",
   "execution_count": null,
   "metadata": {},
   "outputs": [],
   "source": [
    "pd.DataFrame.from_dict(pvals, orient='index').to_csv(figdir+'Pval-CellTypeFreq-PBMC-'+what+'-per-Response-adj.tsv',sep='\\t')\n",
    "pd.DataFrame.from_dict(pvals, orient='index').sort_values(by='T-test')\n"
   ]
  },
  {
   "cell_type": "code",
   "execution_count": null,
   "metadata": {},
   "outputs": [],
   "source": [
    "toinc=list(pd.DataFrame.from_dict(pvalsn, orient='index')['MannWhitney'][pd.DataFrame.from_dict(pvalsn, orient='index')['MannWhitney']<=0.4].index)\n",
    "toinc2=list(pd.DataFrame.from_dict(pvals, orient='index')['MannWhitney'][pd.DataFrame.from_dict(pvals, orient='index')['MannWhitney']<=0.4].index)\n",
    "\n",
    "toinc=list(set(toinc2).union(set(toinc)))\n",
    "mypd=pd.concat([pd.DataFrame.from_dict(pvalsn, orient='index').loc[toinc,:]['log2FC'],\n",
    "          pd.DataFrame.from_dict(pvals, orient='index').loc[toinc,:]['log2FC']], axis=1)\n",
    "mypd.columns=['nadj','adj']"
   ]
  },
  {
   "cell_type": "code",
   "execution_count": null,
   "metadata": {},
   "outputs": [],
   "source": [
    "toremove=list(pbmcreq.mean(axis=1)[pbmcreq.mean(axis=1)<0.1].index)\n",
    "toremove\n",
    "mypd=mypd[~mypd.index.isin(toremove)]"
   ]
  },
  {
   "cell_type": "code",
   "execution_count": null,
   "metadata": {},
   "outputs": [],
   "source": [
    "\n",
    "#mypd.sort_values('nadj',ascending=False)\n",
    "plt.figure(figsize=(2,3))\n",
    "sns.set(font_scale=0.8)\n",
    "sns_plot=sns.heatmap(mypd.sort_values('nadj',ascending=False),center=0.00,cmap=sns.diverging_palette(220, 20, as_cmap=True))\n",
    "fig = sns_plot.get_figure()\n",
    "fig.savefig(figdir+'Celltypefreq-Response-summary-'+what+'-PBMC.pdf', bbox_inches=\"tight\", dpi=300)\n",
    "fig.savefig(figdir+'Celltypefreq-Response-summary-'+what+'-PBMC.eps', format='eps', bbox_inches=\"tight\", dpi=300)\n",
    "fig.savefig(figdir+'Celltypefreq-Response-summary-'+what+'-PBMC.svg', format='svg', bbox_inches=\"tight\", dpi=300)\n"
   ]
  },
  {
   "cell_type": "markdown",
   "metadata": {},
   "source": [
    "##### CD8Tcell clusters - TIL"
   ]
  },
  {
   "cell_type": "code",
   "execution_count": null,
   "metadata": {},
   "outputs": [],
   "source": [
    "sns.set_style('white')\n",
    "\n",
    "what='leiden_velo'\n",
    "tilfreq=pd.read_csv(propdir+'AllCD8_TIL_celltypeFreq_'+what+'.tsv',header=0)\n",
    "pbmcreq=pd.read_csv(propdir+'AllCD8_PBMCs_celltypeFreq_'+what+'.tsv',header=0)\n",
    "\n",
    "tilfreq.index=tilfreq.iloc[:,0]\n",
    "pbmcreq.index=pbmcreq.iloc[:,0]\n",
    "\n",
    "rs=[x.split(' ')[2] for x in list(tilfreq.drop(columns=['Unnamed: 0']).columns)]\n",
    "patid=[x.split(' ')[1] for x in list(tilfreq.drop(columns=['Unnamed: 0']).columns)]\n",
    "\n",
    "toplot=tilfreq.drop(columns=['Unnamed: 0']).transpose()\n",
    "toplot['RCat']=rs\n"
   ]
  },
  {
   "cell_type": "code",
   "execution_count": null,
   "metadata": {},
   "outputs": [],
   "source": [
    "mydef=pd.Series([1,1])\n",
    "mydef.index=['MannWhitney','T-test']"
   ]
  },
  {
   "cell_type": "code",
   "execution_count": null,
   "metadata": {},
   "outputs": [],
   "source": [
    "fig, axes = plt.subplots(5, 4,figsize=(14,12), gridspec_kw={'wspace': 0.5, 'left': 0.25})\n",
    "plt.subplots_adjust(left=0.2, right=0.98, top=0.86, bottom=0.1)\n",
    "\n",
    "axes = axes.flatten()\n",
    "\n",
    "pvals={}\n",
    "pvalsn={}\n",
    "i=0\n",
    "for mycell in list(tilfreq.index):\n",
    "    ax=sns.boxplot(y=mycell,x='RCat',data=toplot,ax=axes[i],\n",
    "                   palette=color_dict,orient='v',order=['R','TF','NR_nadj','NR_adj'])\n",
    "    ax=sns.swarmplot(y=mycell,x='RCat',data=toplot,color='black',ax=axes[i],\n",
    "                    order=['R','TF','NR_nadj','NR_adj'])\n",
    "    ax.set_xticklabels(ax.get_xticklabels(), rotation=90,fontsize=10)\n",
    "    ax.tick_params(axis='y', labelsize=10)\n",
    "    ax.set_ylabel(ylabel='Perc '+str(mycell),fontsize=10)\n",
    "    ax.set_xlabel(xlabel='Response ',fontsize=10)\n",
    "    if(toplot.loc[:,['RCat',mycell]].median()>0).any():\n",
    "        pvalsn[mycell]=getPs(toplot.loc[:,['RCat',mycell]],['R','TF','NR_nadj','NR_adj'],'RCat').loc['R-NR_nadj',:]\n",
    "        pvals[mycell]=getPs(toplot.loc[:,['RCat',mycell]],['R','TF','NR_nadj','NR_adj'],'RCat').loc['TF-NR_adj',:]\n",
    "        \n",
    "        pvalsn[mycell]['log2FC']=np.log2((0.1+toplot.loc[:,['RCat',mycell]].groupby('RCat').mean().loc['R',:])/(0.1+toplot.loc[:,['RCat',mycell]].groupby('RCat').mean().loc['NR_nadj',:]))[mycell]\n",
    "        pvals[mycell]['log2FC']=np.log2((0.1+toplot.loc[:,['RCat',mycell]].groupby('RCat').mean().loc['TF',:])/(0.1+toplot.loc[:,['RCat',mycell]].groupby('RCat').mean().loc['NR_adj',:]))[mycell]\n",
    "\n",
    "    else:\n",
    "        pvals[mycell]=mydef\n",
    "        pvalsn[mycell]=mydef\n",
    "        pvalsn[mycell]['log2FC']=np.log2((0.1+toplot.loc[:,['RCat',mycell]].groupby('RCat').mean().loc['R',:])/(0.1+toplot.loc[:,['RCat',mycell]].groupby('RCat').mean().loc['NR_nadj',:]))[mycell]\n",
    "        pvals[mycell]['log2FC']=np.log2((0.1+toplot.loc[:,['RCat',mycell]].groupby('RCat').mean().loc['TF',:])/(0.1+toplot.loc[:,['RCat',mycell]].groupby('RCat').mean().loc['NR_adj',:]))[mycell]\n",
    "\n",
    "    i=i+1\n",
    "    \n",
    "fig.savefig(figdir+'Celltypefreq-Response-TILs'+what+'.pdf', bbox_inches=\"tight\", dpi=300)\n",
    "fig.savefig(figdir+'Celltypefreq-Response-TILs'+what+'.eps', format='eps', bbox_inches=\"tight\", dpi=300)\n",
    "fig.savefig(figdir+'Celltypefreq-Response-TILs'+what+'.svg', format='svg', bbox_inches=\"tight\", dpi=300)\n"
   ]
  },
  {
   "cell_type": "code",
   "execution_count": null,
   "metadata": {},
   "outputs": [],
   "source": [
    "pd.DataFrame.from_dict(pvals, orient='index').to_csv(figdir+'Pval-CellTypeFreq-TIL-'+what+'-per-Response-adj.tsv',sep='\\t')\n",
    "pd.DataFrame.from_dict(pvals, orient='index').sort_values(by='MannWhitney')\n",
    "\n",
    "\n",
    "pd.DataFrame.from_dict(pvalsn, orient='index').to_csv(figdir+'Pval-CellTypeFreq-TIL-'+what+'-per-Response-nadj.tsv',sep='\\t')\n",
    "pd.DataFrame.from_dict(pvalsn, orient='index').sort_values(by='MannWhitney')\n"
   ]
  },
  {
   "cell_type": "code",
   "execution_count": null,
   "metadata": {},
   "outputs": [],
   "source": [
    "toinc=list(pd.DataFrame.from_dict(pvalsn, orient='index')['MannWhitney'][pd.DataFrame.from_dict(pvalsn, orient='index')['MannWhitney']<=0.2].index)\n",
    "toinc2=list(pd.DataFrame.from_dict(pvals, orient='index')['MannWhitney'][pd.DataFrame.from_dict(pvals, orient='index')['MannWhitney']<=0.2].index)\n",
    "\n",
    "toinc=list(set(toinc2).union(set(toinc)))\n",
    "mypd=pd.concat([pd.DataFrame.from_dict(pvalsn, orient='index').loc[toinc,:]['log2FC'],\n",
    "          pd.DataFrame.from_dict(pvals, orient='index').loc[toinc,:]['log2FC']], axis=1)\n",
    "mypd.columns=['nadj','adj']"
   ]
  },
  {
   "cell_type": "code",
   "execution_count": null,
   "metadata": {},
   "outputs": [],
   "source": [
    "toremove=list(tilfreq.mean(axis=1)[tilfreq.mean(axis=1)<0.4].index)\n",
    "toremove\n",
    "mypd=mypd[~mypd.index.isin(toremove)]"
   ]
  },
  {
   "cell_type": "code",
   "execution_count": null,
   "metadata": {
    "scrolled": true
   },
   "outputs": [],
   "source": [
    "\n",
    "#mypd.sort_values('nadj',ascending=False)\n",
    "plt.figure(figsize=(1.5,3))\n",
    "sns.set(font_scale=0.8)\n",
    "sns_plot=sns.heatmap(mypd.sort_values('nadj',ascending=False),center=0.00,cmap=sns.diverging_palette(220, 20, as_cmap=True))\n",
    "fig = sns_plot.get_figure()\n",
    "fig.savefig(figdir+'Celltypefreq-Response-summary-'+what+'.pdf', bbox_inches=\"tight\", dpi=300)\n",
    "fig.savefig(figdir+'Celltypefreq-Response-summary-'+what+'.eps', format='eps', bbox_inches=\"tight\", dpi=300)\n",
    "fig.savefig(figdir+'Celltypefreq-Response-summary-'+what+'.svg', format='svg', bbox_inches=\"tight\", dpi=300)\n"
   ]
  },
  {
   "cell_type": "markdown",
   "metadata": {},
   "source": [
    "##### Myeloid cell clusters - TIL\n"
   ]
  },
  {
   "cell_type": "code",
   "execution_count": null,
   "metadata": {},
   "outputs": [],
   "source": [
    "sns.set_style('white')\n",
    "what='leiden_velo'\n",
    "tilfreq=pd.read_csv(propdir+'Macro_TIL_celltypeFreq_'+what+'.tsv',header=0)\n",
    "pbmcreq=pd.read_csv(propdir+'Macro_PBMCs_celltypeFreq_'+what+'.tsv',header=0)\n",
    "\n",
    "tilfreq.index=tilfreq.iloc[:,0]\n",
    "pbmcreq.index=pbmcreq.iloc[:,0]\n",
    "\n",
    "rs=[x.split(' ')[2] for x in list(tilfreq.drop(columns=['Unnamed: 0']).columns)]\n",
    "patid=[x.split(' ')[1] for x in list(tilfreq.drop(columns=['Unnamed: 0']).columns)]"
   ]
  },
  {
   "cell_type": "code",
   "execution_count": null,
   "metadata": {},
   "outputs": [],
   "source": [
    "toplot=tilfreq.drop(columns=['Unnamed: 0']).transpose()\n",
    "toplot['RCat']=rs\n",
    "\n",
    "#log2FC=np.log2((0.1+toplot.loc[:,['RCat',mycell]].groupby('RCat').mean().loc['R',:])/(0.1+toplot.loc[:,['RCat',mycell]].groupby('RCat').mean().loc['NR_nadj',:]))[mycell]\n"
   ]
  },
  {
   "cell_type": "code",
   "execution_count": null,
   "metadata": {},
   "outputs": [],
   "source": [
    "mydef=pd.Series([1,1])\n",
    "mydef.index=['MannWhitney','T-test']\n",
    "\n",
    "fig, axes = plt.subplots(3, 4,figsize=(14,8), gridspec_kw={'wspace': 0.5, 'left': 0.25})\n",
    "plt.subplots_adjust(left=0.2, right=0.98, top=0.86, bottom=0.1)\n",
    "\n",
    "axes = axes.flatten()\n",
    "\n",
    "pvals={}\n",
    "pvalsn={}\n",
    "i=0\n",
    "for mycell in list(tilfreq.index):\n",
    "    ax=sns.boxplot(y=mycell,x='RCat',data=toplot,ax=axes[i],\n",
    "                   palette=color_dict,orient='v',order=['R','TF','NR_nadj','NR_adj'])\n",
    "    ax=sns.swarmplot(y=mycell,x='RCat',data=toplot,color='black',ax=axes[i],\n",
    "                    order=['R','TF','NR_nadj','NR_adj'])\n",
    "    ax.set_xticklabels(ax.get_xticklabels(), rotation=90,fontsize=10)\n",
    "    ax.tick_params(axis='y', labelsize=10)\n",
    "    ax.set_ylabel(ylabel='Perc '+str(mycell),fontsize=10)\n",
    "    ax.set_xlabel(xlabel='Response ',fontsize=10)\n",
    "    if(toplot.loc[:,['RCat',mycell]].median()>0).any():\n",
    "        pvalsn[mycell]=getPs(toplot.loc[:,['RCat',mycell]],['R','TF','NR_nadj','NR_adj'],'RCat').loc['R-NR_nadj',:]\n",
    "        pvals[mycell]=getPs(toplot.loc[:,['RCat',mycell]],['R','TF','NR_nadj','NR_adj'],'RCat').loc['TF-NR_adj',:]\n",
    "        \n",
    "        pvalsn[mycell]['log2FC']=np.log2((0.1+toplot.loc[:,['RCat',mycell]].groupby('RCat').mean().loc['R',:])/(0.1+toplot.loc[:,['RCat',mycell]].groupby('RCat').mean().loc['NR_nadj',:]))[mycell]\n",
    "        pvals[mycell]['log2FC']=np.log2((0.1+toplot.loc[:,['RCat',mycell]].groupby('RCat').mean().loc['TF',:])/(0.1+toplot.loc[:,['RCat',mycell]].groupby('RCat').mean().loc['NR_adj',:]))[mycell]\n",
    "\n",
    "    else:\n",
    "        pvals[mycell]=mydef\n",
    "        pvalsn[mycell]=mydef\n",
    "        pvalsn[mycell]['log2FC']=np.log2((0.1+toplot.loc[:,['RCat',mycell]].groupby('RCat').mean().loc['R',:])/(0.1+toplot.loc[:,['RCat',mycell]].groupby('RCat').mean().loc['NR_nadj',:]))[mycell]\n",
    "        pvals[mycell]['log2FC']=np.log2((0.1+toplot.loc[:,['RCat',mycell]].groupby('RCat').mean().loc['TF',:])/(0.1+toplot.loc[:,['RCat',mycell]].groupby('RCat').mean().loc['NR_adj',:]))[mycell]\n",
    "\n",
    "    i=i+1\n",
    "    \n",
    "fig.savefig(figdir+'Celltypefreq-Response-TILs-macro-'+what+'.pdf', bbox_inches=\"tight\", dpi=300)\n",
    "fig.savefig(figdir+'Celltypefreq-Response-TILs-macro-'+what+'.eps', format='eps', bbox_inches=\"tight\", dpi=300)\n",
    "fig.savefig(figdir+'Celltypefreq-Response-TILs-macro-'+what+'.svg', format='svg', bbox_inches=\"tight\", dpi=300)\n"
   ]
  },
  {
   "cell_type": "code",
   "execution_count": null,
   "metadata": {},
   "outputs": [],
   "source": [
    "pd.DataFrame.from_dict(pvals, orient='index').to_csv(figdir+'Pval-CellTypeFreq-TIL-'+what+'-per-Response-adj.tsv',sep='\\t')\n",
    "pd.DataFrame.from_dict(pvals, orient='index').sort_values(by='MannWhitney')\n"
   ]
  },
  {
   "cell_type": "code",
   "execution_count": null,
   "metadata": {},
   "outputs": [],
   "source": [
    "\n",
    "\n",
    "\n",
    "pd.DataFrame.from_dict(pvalsn, orient='index').to_csv(figdir+'Pval-CellTypeFreq-TIL-'+what+'-per-Response-nadj.tsv',sep='\\t')\n",
    "pd.DataFrame.from_dict(pvalsn, orient='index').sort_values(by='MannWhitney')\n",
    "\n",
    "\n"
   ]
  },
  {
   "cell_type": "code",
   "execution_count": null,
   "metadata": {},
   "outputs": [],
   "source": [
    "toinc=list(pd.DataFrame.from_dict(pvalsn, orient='index')['MannWhitney'][pd.DataFrame.from_dict(pvalsn, orient='index')['MannWhitney']<=0.2].index)\n",
    "toinc2=list(pd.DataFrame.from_dict(pvals, orient='index')['MannWhitney'][pd.DataFrame.from_dict(pvals, orient='index')['MannWhitney']<=0.2].index)\n",
    "\n",
    "toinc=list(set(toinc2).union(set(toinc)))\n",
    "mypd=pd.concat([pd.DataFrame.from_dict(pvalsn, orient='index').loc[toinc,:]['log2FC'],\n",
    "          pd.DataFrame.from_dict(pvals, orient='index').loc[toinc,:]['log2FC']], axis=1)\n",
    "mypd.columns=['nadj','adj']"
   ]
  },
  {
   "cell_type": "code",
   "execution_count": null,
   "metadata": {},
   "outputs": [],
   "source": [
    "toremove=list(pbmcreq.mean(axis=1)[pbmcreq.mean(axis=1)<0.1].index)\n",
    "toremove\n",
    "mypd=mypd[~mypd.index.isin(toremove)]"
   ]
  },
  {
   "cell_type": "markdown",
   "metadata": {},
   "source": [
    "Remark: Add cluster 29 in the plot"
   ]
  },
  {
   "cell_type": "code",
   "execution_count": null,
   "metadata": {},
   "outputs": [],
   "source": [
    "\n",
    "\n",
    "#mypd.sort_values('nadj',ascending=False)\n",
    "plt.figure(figsize=(1.5,3))\n",
    "sns.set(font_scale=0.8)\n",
    "sns.heatmap(mypd.sort_values('nadj',ascending=False),center=0.00,cmap=sns.diverging_palette(220, 20, as_cmap=True))\n",
    "fig.savefig(figdir+'Celltypefreq-Response-summary-TIL-macro'+what+'.pdf', bbox_inches=\"tight\", dpi=300)\n",
    "fig.savefig(figdir+'Celltypefreq-Response-summary-TIL-macro'+what+'.eps', format='eps', bbox_inches=\"tight\", dpi=300)\n",
    "fig.savefig(figdir+'Celltypefreq-Response-summary-TIL-macro'+what+'.svg', format='svg', bbox_inches=\"tight\", dpi=300)"
   ]
  },
  {
   "cell_type": "markdown",
   "metadata": {},
   "source": [
    "## Validation in other datasets"
   ]
  },
  {
   "cell_type": "code",
   "execution_count": null,
   "metadata": {},
   "outputs": [],
   "source": [
    "#myelobc=adata[adata.obs['celltype1'].isin(['myeloid leukocyte','lymphocyte of B lineage'])].copy()\n",
    "tcell=adata[adata.obs['celltype1'].isin(['T cell'])].copy()\n",
    "tcell=tcell[tcell.obs['Sample type']=='TIL'].copy()\n",
    "cd8tcell=tcell[tcell.obs['celltype2_pub'].isin(['CD8-positive T cell'])].copy()"
   ]
  },
  {
   "cell_type": "code",
   "execution_count": null,
   "metadata": {},
   "outputs": [],
   "source": [
    "figdir"
   ]
  },
  {
   "cell_type": "markdown",
   "metadata": {},
   "source": [
    "### Fairfax et al. Markers "
   ]
  },
  {
   "cell_type": "markdown",
   "metadata": {},
   "source": [
    "https://www.nature.com/articles/s41591-019-0734-6?proof=t"
   ]
  },
  {
   "cell_type": "code",
   "execution_count": null,
   "metadata": {},
   "outputs": [],
   "source": [
    "largeclones=['GNLY','FGFBP2','GZMH','NKG7','PRF1', 'CCL4', 'ITGB1', 'GZMB','KLRD1','PRSS23']"
   ]
  },
  {
   "cell_type": "code",
   "execution_count": null,
   "metadata": {},
   "outputs": [],
   "source": [
    "sc.pl.umap(cd8tcell,color=largeclones)"
   ]
  },
  {
   "cell_type": "code",
   "execution_count": null,
   "metadata": {},
   "outputs": [],
   "source": [
    "sc.pl.dotplot(cd8tcell,var_names=largeclones,groupby='celltype3_pub',\n",
    "              dendrogram=True,save='Fairfax-markerplot.pdf')\n"
   ]
  },
  {
   "cell_type": "code",
   "execution_count": null,
   "metadata": {},
   "outputs": [],
   "source": [
    "cd8tcdatatil=cd8tcdata[cd8tcdata.obs['Sample type']=='TIL'].copy()"
   ]
  },
  {
   "cell_type": "code",
   "execution_count": null,
   "metadata": {},
   "outputs": [],
   "source": [
    "sc.pl.umap(cd8tcdatatil,color=largeclones)"
   ]
  },
  {
   "cell_type": "code",
   "execution_count": null,
   "metadata": {},
   "outputs": [],
   "source": [
    "sc.pl.dotplot(cd8tcdatatil,var_names=largeclones,groupby='leiden',\n",
    "              dendrogram=True)"
   ]
  },
  {
   "cell_type": "markdown",
   "metadata": {},
   "source": [
    "Fairfax large clone markers are most highly expressed in NK-like T cells. "
   ]
  },
  {
   "cell_type": "markdown",
   "metadata": {},
   "source": [
    "### Tirosh et al. Markers"
   ]
  },
  {
   "cell_type": "code",
   "execution_count": null,
   "metadata": {},
   "outputs": [],
   "source": [
    "tirosh={}\n",
    "tirosh['Tnai']=['CCR7', 'TCF7', 'SELL', 'LEF1']\n",
    "tirosh['Texh']=['PDCD1', 'TIGIT', 'LAG3', 'HAVCR2', 'CTLA4']\n",
    "tirosh['Tcyt']=['NKG7', 'CCL4', 'CST7', 'PRF1', 'GZMB', 'GZMA', 'IFNG', 'CCL3']\n",
    "\n",
    "sc.tl.score_genes(cd8tcell,tirosh['Tnai'],score_name=\"TIR_NAI\",use_raw=True)\n",
    "sc.tl.score_genes(cd8tcell,tirosh['Texh'],score_name=\"TIR_EXH\",use_raw=True)\n",
    "sc.tl.score_genes(cd8tcell,tirosh['Tcyt'],score_name=\"TIR_CYT\",use_raw=True)\n",
    "\n",
    "sc.tl.score_genes(cd8tcdata_full,tirosh['Tnai'],score_name=\"TIR_NAI\",use_raw=True)\n",
    "sc.tl.score_genes(cd8tcdata_full,tirosh['Texh'],score_name=\"TIR_EXH\",use_raw=True)\n",
    "sc.tl.score_genes(cd8tcdata_full,tirosh['Tcyt'],score_name=\"TIR_CYT\",use_raw=True)\n",
    "\n"
   ]
  },
  {
   "cell_type": "markdown",
   "metadata": {},
   "source": [
    "### Sade-Feldman et al. Markers"
   ]
  },
  {
   "cell_type": "markdown",
   "metadata": {},
   "source": [
    "https://pubmed.ncbi.nlm.nih.gov/30388456/"
   ]
  },
  {
   "cell_type": "code",
   "execution_count": null,
   "metadata": {},
   "outputs": [],
   "source": [
    "sc.settings.set_figure_params()"
   ]
  },
  {
   "cell_type": "code",
   "execution_count": null,
   "metadata": {},
   "outputs": [],
   "source": [
    "sc.pl.umap(cd8tcell, color='celltype3_pub')"
   ]
  },
  {
   "cell_type": "code",
   "execution_count": null,
   "metadata": {},
   "outputs": [],
   "source": [
    "sade={}\n",
    "sade['good']=['PLAC8', 'LTB', 'LY9', 'SELL', 'TCF7',  'CCR7','IL7R']\n",
    "sade['bad']=['CCL3', 'CD38', 'HAVCR2', 'ENTPD1', 'WARS']\n",
    "\n",
    "sc.tl.score_genes(cd8tcell,sade['good'],score_name=\"SADE_G\",use_raw=True)\n",
    "sc.tl.score_genes(cd8tcell,sade['bad'],score_name=\"SADE_B\",use_raw=True)\n",
    "\n",
    "sc.tl.score_genes(cd8tcdata,sade['good'],score_name=\"SADE_G\",use_raw=True)\n",
    "sc.tl.score_genes(cd8tcdata,sade['bad'],score_name=\"SADE_B\",use_raw=True)\n",
    "\n",
    "sc.tl.score_genes(cd8tcdata_full,sade['good'],score_name=\"SADE_G\",use_raw=True)\n",
    "sc.tl.score_genes(cd8tcdata_full,sade['bad'],score_name=\"SADE_B\",use_raw=True)\n",
    "\n",
    "sc.tl.score_genes(tildata,sade['good'],score_name=\"SADE_G\",use_raw=True)\n",
    "sc.tl.score_genes(tildata,sade['bad'],score_name=\"SADE_B\",use_raw=True)\n",
    "\n",
    "\n",
    "sc.pl.dotplot(cd8tcell,var_names=sade['good']+sade['bad']+['CD8A','CD8B'],groupby='celltype3_pub',\n",
    "              dendrogram=True,dot_max=0.5,vmax=1,save='Sade-Feldman-markerplot.pdf')\n",
    "#fig.savefig(figdir+'Celltypefreq-Response-PBMCs'+what+'.pdf')"
   ]
  },
  {
   "cell_type": "code",
   "execution_count": null,
   "metadata": {},
   "outputs": [],
   "source": [
    "sc.pl.dotplot(cd8tcell,var_names=tirosh['Tnai']+tirosh['Tcyt']+tirosh['Texh']+['CD8A','CD8B'],groupby='celltype3_pub',\n",
    "              dendrogram=True,dot_max=0.5,vmax=1,save='Tirosh-markerplot.pdf')\n",
    "#fig.savefig(figdir+'Celltypefreq-Response-PBMCs'+what+'.pdf')"
   ]
  },
  {
   "cell_type": "code",
   "execution_count": null,
   "metadata": {},
   "outputs": [],
   "source": [
    "\n",
    "sc.pl.dotplot(cd8tcdata_full,var_names=sade['good']+sade['bad']+['CD8A','CD8B'],groupby='leiden',\n",
    "              dendrogram=True,dot_max=0.5,vmax=1,save='Sade-Feldman-markerplot-veloplot.pdf')\n"
   ]
  },
  {
   "cell_type": "code",
   "execution_count": null,
   "metadata": {},
   "outputs": [],
   "source": [
    "sc.pl.dotplot(cd8tcdata_full,var_names=tirosh['Tnai']+tirosh['Tcyt']+tirosh['Texh']+['CD8A','CD8B'],groupby='leiden',\n",
    "              dendrogram=True,vmax=2,dot_max=0.8,save='Tirosh-markerplot-veloplot.pdf')"
   ]
  },
  {
   "cell_type": "code",
   "execution_count": null,
   "metadata": {},
   "outputs": [],
   "source": [
    "sc.pl.umap(cd8tcell[cd8tcell.obs.sample(frac=1).index],color=['SADE_G','TIR_NAI'])"
   ]
  },
  {
   "cell_type": "code",
   "execution_count": null,
   "metadata": {},
   "outputs": [],
   "source": [
    "sc.pl.umap(cd8tcell[cd8tcell.obs.sample(frac=1).index],color=['SADE_B','TIR_EXH','TIR_CYT'])"
   ]
  },
  {
   "cell_type": "code",
   "execution_count": null,
   "metadata": {},
   "outputs": [],
   "source": [
    "sc.pl.umap(cd8tcdata_full[cd8tcdata_full.obs.sample(frac=1).index],ncols=5,color=['SADE_G','TIR_NAI', \n",
    "                                                                         'SADE_B','TIR_EXH','TIR_CYT'], \n",
    "           color_map=sns.cubehelix_palette(dark=0, light=.9, as_cmap=True),\n",
    "           save='-litsignatures-cd8tcdata_full.svg')"
   ]
  },
  {
   "cell_type": "code",
   "execution_count": null,
   "metadata": {},
   "outputs": [],
   "source": [
    "sc.pl.umap(cd8tcdata_full[cd8tcdata_full.obs.sample(frac=1).index],color=['SADE_B','TIR_EXH','TIR_CYT'])"
   ]
  },
  {
   "cell_type": "code",
   "execution_count": null,
   "metadata": {},
   "outputs": [],
   "source": [
    "sc.pl.umap(cd8tcdata_full[cd8tcdata_full.obs.sample(frac=1).index],color=['leiden'],legend_loc='on data')"
   ]
  },
  {
   "cell_type": "code",
   "execution_count": null,
   "metadata": {},
   "outputs": [],
   "source": [
    "set(cd8tcell.obs['celltype3_pub'])"
   ]
  },
  {
   "cell_type": "code",
   "execution_count": null,
   "metadata": {},
   "outputs": [],
   "source": [
    "goodc=['effector memory CD8-positive T cell','naive CD8-positive T cell'] #,\n",
    "badc=['exhausted-like CD8-positive T cell','proliferating CD8-positive T cell','cytokine secreting effector CD8-positive T cell']\n",
    "\n",
    "goodcvelo=[16,10,3]\n",
    "badcvelo=[4,14,12,13]"
   ]
  },
  {
   "cell_type": "markdown",
   "metadata": {},
   "source": [
    "Good Sade-Feldmann markers expressed in naive and to some extent in EM samples. \n",
    "Bad Sade-Feldmann markers expressed in all exhausted-like samples, highest in proliferating ones, lowest in C8 and C9"
   ]
  },
  {
   "cell_type": "code",
   "execution_count": null,
   "metadata": {},
   "outputs": [],
   "source": [
    "what='celltype3_pub'\n",
    "tilfreq=pd.read_csv(propdir+'TIL_celltypeFreq_'+what+'.tsv',header=0)\n",
    "#pbmcreq=pd.read_csv(propdir+'PBMCs_celltypeFreq_'+what+'.tsv',header=0)\n",
    "\n",
    "tilfreq.index=tilfreq.iloc[:,0]\n",
    "tilfreq=tilfreq.loc[tilfreq.median(axis=1)>0.001,:]\n",
    "\n",
    "rs=[x.split(' ')[2] for x in list(tilfreq.drop(columns=['Unnamed: 0']).columns)]\n",
    "patid=[x.split(' ')[1] for x in list(tilfreq.drop(columns=['Unnamed: 0']).columns)]\n",
    "\n",
    "toplot=tilfreq.drop(columns=['Unnamed: 0']).transpose()\n",
    "toplot['RCat']=rs"
   ]
  },
  {
   "cell_type": "code",
   "execution_count": null,
   "metadata": {},
   "outputs": [],
   "source": [
    "#tilfreq\n",
    "goodbad=pd.DataFrame([tilfreq.loc[goodc,:].sum(axis=0).drop(index=['Unnamed: 0']),\n",
    "             tilfreq.loc[badc,:].sum(axis=0).drop(index=['Unnamed: 0'])]).transpose()\n",
    "goodbad.columns=['good','bad']"
   ]
  },
  {
   "cell_type": "code",
   "execution_count": null,
   "metadata": {},
   "outputs": [],
   "source": [
    "goodbad['Ratio']=list(goodbad['good']/goodbad['bad'])"
   ]
  },
  {
   "cell_type": "code",
   "execution_count": null,
   "metadata": {},
   "outputs": [],
   "source": [
    "rs=[x.split(' ')[2] for x in list(goodbad.index)]\n",
    "patid=[x.split(' ')[1] for x in list(goodbad.index)]\n",
    "\n",
    "goodbad['RCat']=rs"
   ]
  },
  {
   "cell_type": "code",
   "execution_count": null,
   "metadata": {},
   "outputs": [],
   "source": [
    "goodbad"
   ]
  },
  {
   "cell_type": "code",
   "execution_count": null,
   "metadata": {},
   "outputs": [],
   "source": [
    "fig=sns.boxplot(y='Ratio',x='RCat',data=goodbad,\n",
    "                   palette=color_dict,orient='v',order=['R','TF','NR_nadj','NR_adj'])\n",
    "fig=sns.swarmplot(y='Ratio',x='RCat',data=goodbad,color='black',\n",
    "                    order=['R','TF','NR_nadj','NR_adj'])\n",
    "fig.set_xticklabels(fig.get_xticklabels(), rotation=90,fontsize=10)\n",
    "fig.tick_params(axis='y', labelsize=10)\n",
    "fig.set_ylabel(ylabel='Good/Bad ratio',fontsize=10)\n",
    "fig.set_xlabel(xlabel='Response ',fontsize=10)\n",
    "\n",
    "fig.figure.savefig(figdir+'Sade-Feldman-GoodtoBad.pdf')"
   ]
  },
  {
   "cell_type": "code",
   "execution_count": null,
   "metadata": {},
   "outputs": [],
   "source": [
    "pvalsn=getPs(goodbad.loc[:,['RCat','Ratio']],['R','TF','NR_nadj','NR_adj'],'RCat').loc['R-NR_nadj',:]\n",
    "pvals=getPs(goodbad.loc[:,['RCat','Ratio']],['R','TF','NR_nadj','NR_adj'],'RCat').loc['TF-NR_adj',:]\n"
   ]
  },
  {
   "cell_type": "code",
   "execution_count": null,
   "metadata": {},
   "outputs": [],
   "source": [
    "pvalsn"
   ]
  },
  {
   "cell_type": "code",
   "execution_count": null,
   "metadata": {},
   "outputs": [],
   "source": [
    "pvals"
   ]
  },
  {
   "cell_type": "markdown",
   "metadata": {},
   "source": [
    "### Li et al. markers"
   ]
  },
  {
   "cell_type": "markdown",
   "metadata": {},
   "source": [
    "https://www.sciencedirect.com/science/article/pii/S009286741831568X"
   ]
  },
  {
   "cell_type": "markdown",
   "metadata": {},
   "source": [
    "Cell subsets:\n",
    "    - naive-like subsets IL7R, CCR7, and the transcription factor (TF) TCF7\n",
    "    - memory T cell population\n",
    "    - transitional CD8 effector T (GZMK+) pool\n",
    "    - cytotoxic CD8 effector T (GZMH+) pool\n",
    "    - dysfunctional CD8 T cells: high expression of immune checkpoint molecules such as PD1 and LAG3"
   ]
  },
  {
   "cell_type": "code",
   "execution_count": null,
   "metadata": {},
   "outputs": [],
   "source": [
    "li={}\n",
    "li['NaiTcell']=['CCR7','IL7R','TCF7']\n",
    "li['MemTcell']=[ 'SELL', 'C1orf21', 'KLRB1', 'ARL4C']\n",
    "li['CD8Cyt']=['GZMH', 'GNLY', 'FGFBP2', 'CX3CR1','KLF2','TBX21', 'PLAC8', 'FGR','SPON2', 'MYBL1','ZNF683','KLRG1']\n",
    "li['CD8Dys']=['PDCD1','LAG3','TIGIT', 'CXCL13','RBPJ', 'ZBED2', 'ETV1', 'ID3', 'MAF', 'PRDM1','EOMES', 'IFNG', \n",
    "              'HAVCR2','PTMS','FAM3C','ICOS','TNFRSF4', 'CCL4L2', 'PRDM1','SPOCK2', 'CCL3', 'TOX', 'ENTPD1','ITGAE']\n",
    "li['CD8Trans']=['GZMK']\n",
    "li['CD4Treg']=['FOXP3','IKZF2','IL2RA'] #ENTPD1, ITGAE, KLRG1\n",
    "li['TExh']=['TNFRSF9', 'CSF1', 'TIGIT']\n",
    "\n",
    "sc.tl.score_genes(cd8tcell,li['NaiTcell'],score_name=\"LI_NAI\",use_raw=True)\n",
    "sc.tl.score_genes(cd8tcell,li['MemTcell'],score_name=\"LI_MEM\",use_raw=True)\n",
    "sc.tl.score_genes(cd8tcell,li['CD8Cyt'],score_name=\"LI_CYT\",use_raw=True)\n",
    "sc.tl.score_genes(cd8tcell,li['CD8Dys'],score_name=\"LI_DYS\",use_raw=True)\n",
    "sc.tl.score_genes(cd8tcell,li['CD8Trans'],score_name=\"LI_TRANS\",use_raw=True)\n",
    "sc.tl.score_genes(cd8tcell,li['TExh'],score_name=\"LI_EXH\",use_raw=True)\n",
    "\n",
    "sc.tl.score_genes(cd8tcdata_full,li['NaiTcell'],score_name=\"LI_NAI\",use_raw=True)\n",
    "sc.tl.score_genes(cd8tcdata_full,li['MemTcell'],score_name=\"LI_MEM\",use_raw=True)\n",
    "sc.tl.score_genes(cd8tcdata_full,li['CD8Cyt'],score_name=\"LI_CYT\",use_raw=True)\n",
    "sc.tl.score_genes(cd8tcdata_full,li['CD8Dys'],score_name=\"LI_DYS\",use_raw=True)\n",
    "sc.tl.score_genes(cd8tcdata_full,li['CD8Trans'],score_name=\"LI_TRANS\",use_raw=True)\n",
    "sc.tl.score_genes(cd8tcdata_full,li['TExh'],score_name=\"LI_EXH\",use_raw=True)\n",
    "\n"
   ]
  },
  {
   "cell_type": "code",
   "execution_count": null,
   "metadata": {},
   "outputs": [],
   "source": [
    "sc.pl.dotplot(cd8tcell,var_names=li['NaiTcell']+li['MemTcell']+li['CD8Trans']+li['CD8Cyt']+li['TExh']+li['CD8Dys']+['CD8A','CD8B'],groupby='celltype3_pub',\n",
    "              dendrogram=True,dot_max=0.5,vmax=1,save='Li-markerplot.pdf')\n",
    "#fig.savefig(figdir+'Celltypefreq-Response-PBMCs'+what+'.pdf')\n",
    "\n",
    "\n"
   ]
  },
  {
   "cell_type": "code",
   "execution_count": null,
   "metadata": {},
   "outputs": [],
   "source": [
    "sc.pl.dotplot(cd8tcdata_full,var_names=li['NaiTcell']+li['MemTcell']+li['CD8Trans']+li['CD8Cyt']+li['TExh']+li['CD8Dys']+['CD8A','CD8B'],groupby='leiden',\n",
    "              dendrogram=True,dot_max=0.5,vmax=1,save='Li-markerplot-veloplot.pdf')\n"
   ]
  },
  {
   "cell_type": "code",
   "execution_count": null,
   "metadata": {},
   "outputs": [],
   "source": [
    "sc.pl.umap(cd8tcell[cd8tcell.obs.sample(frac=1).index],color=['LI_NAI','LI_MEM','LI_CYT','LI_DYS','LI_TRANS','LI_EXH'])"
   ]
  },
  {
   "cell_type": "code",
   "execution_count": null,
   "metadata": {},
   "outputs": [],
   "source": [
    "sc.pl.umap(cd8tcdata_full[cd8tcdata_full.obs.sample(frac=1).index],color=['LI_NAI','LI_MEM','LI_CYT','LI_DYS','LI_TRANS','LI_EXH'])"
   ]
  },
  {
   "cell_type": "code",
   "execution_count": null,
   "metadata": {},
   "outputs": [],
   "source": [
    "\n",
    "cmarkers=['CD4Treg','CD8Dys','CD8Trans','CD8Cyt', 'MemTcell','NaiTcell']\n",
    "markersgoi=li['TExh'].copy()\n",
    "for x in cmarkers:\n",
    "    markersgoi=markersgoi+li[x]"
   ]
  },
  {
   "cell_type": "code",
   "execution_count": null,
   "metadata": {},
   "outputs": [],
   "source": [
    "\n",
    "#goi=bc+plasma+macro+cDC1+cDC2+TAMCx+TMid+TAM+tmo+NK+['CD3D','CD2','CD8A','CD8B','CD4']+\n",
    "#tcnai+tregc+tcmil7+Tc4CM+Tmem+tc8em+cytox+tc8exp+exh+cc\n",
    "sc.pl.dotplot(tcell,var_names=markersgoi,groupby='celltype3_pub',dot_max=0.7,vmax=1.5,\n",
    "              dendrogram=True,save='-Li-MarkerPlot-tcell-v1.pdf')"
   ]
  },
  {
   "cell_type": "code",
   "execution_count": null,
   "metadata": {},
   "outputs": [],
   "source": [
    "#tcnai+tregc+tcmil7+Tc4CM+Tmem+tc8em+cytox+tc8exp+exh+cc\n",
    "sc.pl.dotplot(tcell,var_names=markersgoi,groupby='celltype3_pub',dot_max=0.2,vmax=0.7,\n",
    "              dendrogram=True)"
   ]
  },
  {
   "cell_type": "code",
   "execution_count": null,
   "metadata": {},
   "outputs": [],
   "source": [
    "sc.pl.heatmap(tcell[tcell.obs.sample(frac=0.25).index],\n",
    "              var_names=markersgoi,standard_scale='var',\n",
    "              groupby='celltype3_pub',dendrogram=True, vmax=1,\n",
    "              figsize=(18, 14), use_raw=True,show_gene_labels=True,cmap='OrRd',\n",
    "              save='-Li-MarkerPlot-tnk_v2.pdf')"
   ]
  },
  {
   "cell_type": "code",
   "execution_count": null,
   "metadata": {},
   "outputs": [],
   "source": [
    "sc.pl.dotplot(cd8tcdatatil,var_names=markersgoi,groupby='leiden',\n",
    "              dendrogram=True)"
   ]
  },
  {
   "cell_type": "markdown",
   "metadata": {},
   "source": [
    "#### Wu et al. 2020"
   ]
  },
  {
   "cell_type": "code",
   "execution_count": null,
   "metadata": {},
   "outputs": [],
   "source": [
    "wucd4=['IL6ST','CRIP1']\n",
    "wueff=['CX3CR1','GNLY', 'NKG7',  'GZMH', 'KLRD1', 'GZMB', 'PRF1', \n",
    "       'IFITM2', 'LITAF','ITGB2','GZMA','GPR56','KLRC2','GZMM','RAP1B'] ## KLRC2 is higher in Rs\n",
    "wuem=['GZMK','CCL4',   'DUSP2', 'CD74','DNAJB1','FOS','CCL3','IFNG'] ## DNAJ1, DUSP2, GZMK is higher in NRs\n",
    "wurm=['CCL4', 'XCL1',   'XCL2',   'ZNF683']\n",
    "wuil7=['NCR3','KLRB1','LYAR','IL7R']\n",
    "\n",
    "\n",
    "### CX3CR1 + GZMH is NKT cell & cytotox T cell\n",
    "### EM - GZMK+ \n",
    "\n",
    "sc.pl.dotplot(tcell,var_names=wucd4+wueff+wuem+wurm+wuil7,groupby='celltype3_pub',dot_max=0.8,vmax=2,\n",
    "              dendrogram=True)\n"
   ]
  },
  {
   "cell_type": "code",
   "execution_count": null,
   "metadata": {},
   "outputs": [],
   "source": [
    "litgoi=largeclones+sade['good']+sade['bad']+li['NaiTcell']+li['MemTcell']+li['CD8Cyt']+li['CD8Dys']+li['CD8Trans']+li['TExh']\n",
    "litgoi=list(set(litgoi+wueff+wuem+wurm+wuil7))"
   ]
  },
  {
   "cell_type": "code",
   "execution_count": null,
   "metadata": {},
   "outputs": [],
   "source": [
    "average_obs,fraction_obs=bc.get_means(tcell, 'celltype3_pub')\n"
   ]
  },
  {
   "cell_type": "code",
   "execution_count": null,
   "metadata": {},
   "outputs": [],
   "source": [
    "sns.set(font_scale=0.7)\n",
    "a=sns.clustermap(fraction_obs.loc[:,litgoi+['MKI67','STMN1']],col_cluster=True, row_cluster=True,figsize=(16,4),\n",
    "                 cmap='viridis',metric='correlation')#,vmax=1\n",
    "#a.savefig(figdir+'Heatmap-litgoi-'+velosubset+'.celltype3_pub.tdata_tumorOnly.pdf')\n"
   ]
  },
  {
   "cell_type": "code",
   "execution_count": null,
   "metadata": {},
   "outputs": [],
   "source": [
    "#mycol=['MITFP', 'MHC1','REGIO','CITRESUP','CITRESDN']\n",
    "dfPat1=pd.DataFrame(cd8tcell.obs.groupby(['PatientID']).mean())\n",
    "dfPat1['RCat']=[cd8tcell[cd8tcell.obs['PatientID']==x].obs['RCat'][0] for x in list(dfPat1.index)]\n",
    "dfPat1.index=dfPat1.index.astype('str')\n",
    "dfPat1\n"
   ]
  },
  {
   "cell_type": "code",
   "execution_count": null,
   "metadata": {},
   "outputs": [],
   "source": [
    "dfPat1=pd.concat([dfPat1,tmb],axis=1)\n",
    "dfPat1=dfPat1.loc[:,~dfPat1.columns.duplicated()]\n",
    "dfPat1"
   ]
  },
  {
   "cell_type": "code",
   "execution_count": null,
   "metadata": {},
   "outputs": [],
   "source": [
    "#sigchoice=['score_lymphocyte_scanpy','score_myeloid_scanpy','score_Bcell_scanpy','score_Tcells_scanpy','score_CD4_scanpy',\n",
    "# 'score_CD8_scanpy']\n",
    "sigchoice=list(dfPat1.columns[3:100])+['SADE_B']"
   ]
  },
  {
   "cell_type": "code",
   "execution_count": null,
   "metadata": {},
   "outputs": [],
   "source": [
    "cors=pd.Series([dfPat1.loc[:,[x,'SADE_G']].corr(method='pearson')['SADE_G'][0] for x in sigchoice])\n",
    "cors.index=sigchoice"
   ]
  },
  {
   "cell_type": "code",
   "execution_count": null,
   "metadata": {},
   "outputs": [],
   "source": [
    "cors.sort_values()"
   ]
  },
  {
   "cell_type": "code",
   "execution_count": null,
   "metadata": {},
   "outputs": [],
   "source": [
    "color_dict = {'R': 'coral', 'TF': 'firebrick', 'NR_nadj': 'lightskyblue','NR_adj': 'royalblue'}\n",
    "\n",
    "dfPat1.loc[:,['score_Bcell_scanpy','SADE_G']].corr(method='pearson')\n",
    "\n",
    "\n"
   ]
  },
  {
   "cell_type": "code",
   "execution_count": null,
   "metadata": {},
   "outputs": [],
   "source": [
    "dfPat1.loc[:,['score_Myeloid_scanpy','SADE_G']].corr(method='pearson')\n"
   ]
  },
  {
   "cell_type": "code",
   "execution_count": null,
   "metadata": {},
   "outputs": [],
   "source": [
    "dfPat1.loc[:,['score_cDC1_scanpy','SADE_G']].corr(method='pearson')\n"
   ]
  },
  {
   "cell_type": "code",
   "execution_count": null,
   "metadata": {},
   "outputs": [],
   "source": [
    "dfPat1.loc[:,['score_cDC2_scanpy','SADE_G']].corr(method='pearson')\n"
   ]
  },
  {
   "cell_type": "code",
   "execution_count": null,
   "metadata": {},
   "outputs": [],
   "source": [
    "dfPat1.loc[:,['score_cDC_CCR7_scanpy','SADE_G']].corr(method='pearson')\n"
   ]
  },
  {
   "cell_type": "code",
   "execution_count": null,
   "metadata": {},
   "outputs": [],
   "source": [
    "sns.scatterplot(x='SADE_B',y='score_cDC_CCR7_scanpy',hue='RCat',data=dfPat1,\n",
    "                hue_order=['R','TF','NR_adj','NR_nadj'],\n",
    "               palette=color_dict).set_title('pp')\n",
    "plt.legend(bbox_to_anchor=(1.05, 1.05),borderaxespad=0.5)\n",
    "plt.tight_layout()\n",
    "for i in range(len(dfPat1.index)):\n",
    " plt.text(x=dfPat1.reset_index().SADE_B[i],y=dfPat1.reset_index().score_cDC_CCR7_scanpy[i],s=dfPat1.index[i], \n",
    "          fontdict=dict(color='black',size=10)) #bbox=dict(facecolor='gray',alpha=0.2)\n"
   ]
  },
  {
   "cell_type": "code",
   "execution_count": null,
   "metadata": {},
   "outputs": [],
   "source": [
    "rcParams['figure.figsize'] = 7,5\n",
    "sns.scatterplot(x='SADE_G',y='score_cDC_CCR7_scanpy',hue='RCat',data=dfPat1,\n",
    "                hue_order=['R','TF','NR_adj','NR_nadj'],\n",
    "               palette=color_dict).set_title('pp')\n",
    "plt.legend(bbox_to_anchor=(1.05, 1.05),borderaxespad=0.5)\n",
    "plt.tight_layout()\n",
    "for i in range(len(dfPat1.index)):\n",
    " plt.text(x=dfPat1.reset_index().SADE_G[i],y=dfPat1.reset_index().score_cDC_CCR7_scanpy[i],s=dfPat1.index[i], \n",
    "          fontdict=dict(color='black',size=10)) #bbox=dict(facecolor='gray',alpha=0.2)\n"
   ]
  },
  {
   "cell_type": "code",
   "execution_count": null,
   "metadata": {},
   "outputs": [],
   "source": [
    "sns.scatterplot(x='SADE_G',y='score_cDC_CCR7_scanpy',hue='Lesion',data=dfPat1).set_title('pp')\n",
    "plt.legend(bbox_to_anchor=(1.05, 1.05),borderaxespad=0.5)\n",
    "plt.tight_layout()\n",
    "for i in range(len(dfPat1.index)):\n",
    " plt.text(x=dfPat1.reset_index().SADE_G[i],y=dfPat1.reset_index().score_cDC_CCR7_scanpy[i],s=dfPat1.index[i], \n",
    "          fontdict=dict(color='black',size=10)) #bbox=dict(facecolor='gray',alpha=0.2)\n"
   ]
  },
  {
   "cell_type": "code",
   "execution_count": null,
   "metadata": {
    "scrolled": true
   },
   "outputs": [],
   "source": [
    "rcParams['figure.figsize'] = 7,5\n",
    "sns.scatterplot(x='SADE_G',y='score_Bcell_scanpy',hue='RCat',data=dfPat1,\n",
    "                hue_order=['R','TF','NR_adj','NR_nadj'],\n",
    "               palette=color_dict).set_title('pp')\n",
    "plt.legend(bbox_to_anchor=(1.05, 1.05),borderaxespad=0.5)\n",
    "plt.tight_layout()\n",
    "for i in range(len(dfPat1.index)):\n",
    " plt.text(x=dfPat1.reset_index().SADE_G[i],y=dfPat1.reset_index().score_Bcell_scanpy[i],s=dfPat1.index[i], \n",
    "          fontdict=dict(color='black',size=10)) #bbox=dict(facecolor='gray',alpha=0.2)\n"
   ]
  },
  {
   "cell_type": "code",
   "execution_count": null,
   "metadata": {},
   "outputs": [],
   "source": [
    "rcParams['figure.figsize'] = 5,5\n",
    "sns.scatterplot(x='SADE_G',y='SADE_B',hue='RCat',data=dfPat1,\n",
    "                hue_order=['R','TF','NR_adj','NR_nadj'],\n",
    "               palette=color_dict).set_title('pp')\n",
    "plt.legend(bbox_to_anchor=(1.05, 1.05),borderaxespad=0.5)\n",
    "plt.tight_layout()\n",
    "for i in range(len(dfPat1.index)):\n",
    " plt.text(x=dfPat1.reset_index().SADE_G[i],y=dfPat1.reset_index().SADE_B[i],s=dfPat1.index[i], \n",
    "          fontdict=dict(color='black',size=10)) #bbox=dict(facecolor='gray',alpha=0.2)\n"
   ]
  },
  {
   "cell_type": "code",
   "execution_count": null,
   "metadata": {},
   "outputs": [],
   "source": [
    "sns.scatterplot(x='SADE_G',y='SADE_B',hue='Lesion',data=dfPat1).set_title('pp')\n",
    "plt.legend(bbox_to_anchor=(1.05, 1.05),borderaxespad=0.5)\n",
    "plt.tight_layout()\n",
    "for i in range(len(dfPat1.index)):\n",
    " plt.text(x=dfPat1.reset_index().SADE_G[i],y=dfPat1.reset_index().SADE_B[i],s=dfPat1.index[i], \n",
    "          fontdict=dict(color='black',size=10)) #bbox=dict(facecolor='gray',alpha=0.2)\n"
   ]
  },
  {
   "cell_type": "code",
   "execution_count": null,
   "metadata": {},
   "outputs": [],
   "source": [
    "fig=sns.boxplot(x='RCat',y='SADE_G',data=dfPat1,palette=color_dict, order=['R','TF','NR_nadj','NR_adj'])\n",
    "fig=sns.swarmplot(x='RCat',y='SADE_G',data=dfPat1,color='black', order=['R','TF','NR_nadj','NR_adj'])\n",
    "#fig.figure.savefig(figdir+'/TMB-per-response.pdf') "
   ]
  },
  {
   "cell_type": "code",
   "execution_count": null,
   "metadata": {},
   "outputs": [],
   "source": [
    "fig=sns.boxplot(x='RCat',y='SADE_B',data=dfPat1,palette=color_dict, order=['R','TF','NR_nadj','NR_adj'])\n",
    "fig=sns.swarmplot(x='RCat',y='SADE_B',data=dfPat1,color='black', order=['R','TF','NR_nadj','NR_adj'])\n",
    "#fig.figure.savefig(figdir+'/TMB-per-response.pdf') "
   ]
  },
  {
   "cell_type": "code",
   "execution_count": null,
   "metadata": {
    "scrolled": true
   },
   "outputs": [],
   "source": [
    "sc.pl.dotplot(cd8tcdatatil,var_names=sade['good']+sade['bad']+['CD8A','CD8B'],groupby='leiden',\n",
    "              dendrogram=True)"
   ]
  },
  {
   "cell_type": "markdown",
   "metadata": {},
   "source": [
    "#### Melanoma PBMC TEMRA (Iryna)"
   ]
  },
  {
   "cell_type": "code",
   "execution_count": null,
   "metadata": {},
   "outputs": [],
   "source": [
    "CD4temra=['PTMS','ITGB2-AS1','XCL2','XCL1',\n",
    "          'IGFBP4','ZNF683','CLU','HLA-DRA','HLA-DQA1','CDCA7',\n",
    "          'HLA-DRB5','LRRC2','ETV7','LAG3','FABP5','LAT2','GRAMD1C','CD4','CD8A']"
   ]
  },
  {
   "cell_type": "code",
   "execution_count": null,
   "metadata": {},
   "outputs": [],
   "source": [
    "set(tcell.obs['Sample type'])"
   ]
  },
  {
   "cell_type": "code",
   "execution_count": null,
   "metadata": {},
   "outputs": [],
   "source": [
    "tcell=adata[adata.obs['celltype1'].isin(['T cell'])].copy()\n",
    "pbmctcell=tcell[tcell.obs['Sample type']=='PBMC'].copy()\n",
    "tiltcell=tcell[tcell.obs['Sample type']=='TIL'].copy()\n",
    "\n",
    "sc.tl.dendrogram(pbmctcell, groupby='celltype3_pub')\n",
    "sc.tl.dendrogram(tiltcell, groupby='celltype3_pub')"
   ]
  },
  {
   "cell_type": "code",
   "execution_count": null,
   "metadata": {},
   "outputs": [],
   "source": [
    "sc.pl.dotplot(pbmctcell,var_names=CD4temra,groupby='celltype3_pub',dot_max=0.1,vmax=0.5,\n",
    "              dendrogram=True)\n"
   ]
  },
  {
   "cell_type": "code",
   "execution_count": null,
   "metadata": {},
   "outputs": [],
   "source": [
    "sc.pl.dotplot(tiltcell,var_names=CD4temra,groupby='celltype3_pub',dot_max=0.1,vmax=0.5,\n",
    "              dendrogram=True)\n"
   ]
  },
  {
   "cell_type": "markdown",
   "metadata": {},
   "source": [
    "### Differential expression per cell type"
   ]
  },
  {
   "cell_type": "code",
   "execution_count": null,
   "metadata": {},
   "outputs": [],
   "source": [
    "#list(set(tildata.obs[what]))"
   ]
  },
  {
   "cell_type": "code",
   "execution_count": null,
   "metadata": {},
   "outputs": [],
   "source": [
    "#sc.pl.umap(tildata,color=split_condition)"
   ]
  },
  {
   "cell_type": "markdown",
   "metadata": {},
   "source": [
    "### Get DE genes for various level annotations at single-cell level, corrected"
   ]
  },
  {
   "cell_type": "code",
   "execution_count": null,
   "metadata": {},
   "outputs": [],
   "source": [
    "#what='celltype1'\n",
    "#what='celltype2_pub'\n",
    "#what='celltype3_pub'\n",
    "split_condition='PatientID'\n",
    "condition='RCat'\n",
    "correct_nrs=True\n",
    "\n",
    "what='leiden_velo'"
   ]
  },
  {
   "cell_type": "code",
   "execution_count": null,
   "metadata": {},
   "outputs": [],
   "source": [
    "results_folder_pseudobulk = os.path.join(root_path, 'analyzed', analysis_name+'/DE/')"
   ]
  },
  {
   "cell_type": "code",
   "execution_count": null,
   "metadata": {},
   "outputs": [],
   "source": [
    "todrop=['CELL', 'input.path', \n",
    "        'leiden', 'celltype0', 'celltype1', 'celltype2', \n",
    "        'celltype3','celltypevar','celltypevar2','celltypevar3', 'dblabel']+list(adata.obs.columns[37:203])\n"
   ]
  },
  {
   "cell_type": "code",
   "execution_count": null,
   "metadata": {},
   "outputs": [],
   "source": [
    "exportPseudobulk=True\n",
    "if (exportPseudobulk==True):\n",
    "    for labtoexport in ['celltype1','celltype2_pub','celltype3_pub']:\n",
    "    #for labtoexport in ['leiden_velo']:    \n",
    "        pseudobulk=bc.export.pseudobulk(tildata, outpath = results_folder_pseudobulk+'Pseudobulk/',\n",
    "             column = labtoexport,label  = labtoexport,split_condition  = split_condition, todrop=todrop)\n",
    "        bc.tl.count_occurrence_subset(tildata,split_condition,count_variable=labtoexport,\n",
    "                              return_percentage=False).to_csv(results_folder_pseudobulk+'Pseudobulk/CellCounts-TIL-'+labtoexport+'.tsv',sep='\\t')"
   ]
  },
  {
   "cell_type": "code",
   "execution_count": null,
   "metadata": {},
   "outputs": [],
   "source": [
    "exportPseudobulk=True\n",
    "if (exportPseudobulk==True):\n",
    "    #for labtoexport in ['celltype1','celltype2_pub','celltype3_pub']:\n",
    "    for labtoexport in ['leiden_velo']:    \n",
    "        pseudobulk=bc.export.pseudobulk(allcd8, outpath = results_folder_pseudobulk+'Pseudobulk/',\n",
    "             column = labtoexport,label  = labtoexport,split_condition  = split_condition, todrop=todrop)\n",
    "        bc.tl.count_occurrence_subset(allcd8,split_condition,count_variable=labtoexport,\n",
    "                              return_percentage=False).to_csv(results_folder_pseudobulk+'Pseudobulk/CellCounts-TIL-'+labtoexport+'.tsv',sep='\\t')"
   ]
  },
  {
   "cell_type": "code",
   "execution_count": null,
   "metadata": {},
   "outputs": [],
   "source": [
    "allcd8c31=allcd8[allcd8.obs['leiden_velo'].isin(['1','3'])].copy()\n",
    "allcd8c9=allcd8[allcd8.obs['leiden_velo'].isin(['9'])].copy()\n",
    "allcd8c8=allcd8[allcd8.obs['leiden_velo'].isin(['8'])].copy()\n",
    "allcd8c89=allcd8[allcd8.obs['leiden_velo'].isin(['9','8'])].copy()\n",
    "allcd8c319=allcd8[allcd8.obs['leiden_velo'].isin(['9','1','3'])].copy()\n",
    "allcd8c56110=allcd8[allcd8.obs['leiden_velo'].isin(['5','6','11','0'])].copy()\n",
    "allcd8c110=allcd8[allcd8.obs['leiden_velo'].isin(['0','11'])].copy()\n",
    "allcd8c56=allcd8[allcd8.obs['leiden_velo'].isin(['5','6'])].copy()"
   ]
  },
  {
   "cell_type": "code",
   "execution_count": null,
   "metadata": {},
   "outputs": [],
   "source": [
    "sc.pl.umap(dcdata,color='celltype3_pub')"
   ]
  },
  {
   "cell_type": "code",
   "execution_count": null,
   "metadata": {},
   "outputs": [],
   "source": [
    "#allmacrotu.obs"
   ]
  },
  {
   "cell_type": "code",
   "execution_count": null,
   "metadata": {},
   "outputs": [],
   "source": [
    "#cdata=allcd8c31.copy()\n",
    "#subsetleg='AllCD8-leiden-velo-c3andc1'\n",
    "\n",
    "#cdata=allcd8c9.copy()\n",
    "#subsetleg='AllCD8-leiden-velo-c9'\n",
    "\n",
    "#cdata=allcd8c8.copy()\n",
    "#subsetleg='AllCD8-leiden-velo-c8'\n",
    "\n",
    "#cdata=allcd8c89.copy()\n",
    "#subsetleg='AllCD8-leiden-velo-c8andc9'\n",
    "\n",
    "#cdata=allcd8c319.copy()\n",
    "#subsetleg='AllCD8-leiden-velo-c1andc3andc9'\n",
    "\n",
    "\n",
    "#cdata=allcd8c56110.copy()\n",
    "#subsetleg='AllCD8-leiden-velo-c0andc6andc5andc11'\n",
    "\n",
    "#cdata=allcd8c110.copy()\n",
    "#subsetleg='AllCD8-leiden-velo-c0andc11'\n",
    "\n",
    "#cdata=allcd8c56.copy()\n",
    "#subsetleg='AllCD8-leiden-velo-c5andc6'\n",
    "\n",
    "cdata=allmacrotu[allmacrotu.obs['celltype2_pub']=='macrophage'].copy()\n",
    "subsetleg='MonoMacro-leiden-velo-TILmacro'\n",
    "\n",
    "cdata=allmacrotu[allmacrotu.obs['celltype2_pub']=='classical monocyte'].copy()\n",
    "subsetleg='MonoMacro-leiden-velo-TILcomonocyte'\n",
    "\n",
    "#cdata=tildata[tildata.obs['celltype3_pub'].isin(['cytokine secreting effector CD8-positive T cell',\n",
    "#                                                 'proliferating NK cell''effector memory CD8-positive T cell',\n",
    "#                                                 'mature NK T cell','naive CD8-positive T cell',\n",
    "#                                                'proliferating CD8-positive T cell',\n",
    "#                                                 'exhausted-like CD8-positive T cell',\n",
    "#                                                'cytotoxic CD56-dim natural killer cell',\n",
    "#                                                'CD56-bright cytokine secreting natural killer cell',\n",
    "#                                                'proliferating NK cell'])].copy()\n",
    "#subsetleg='CD8_cytseceffCD8'\n",
    "#subsetleg='CD8TandNK'\n",
    "#'cytokine secreting effector CD8-positive T cell',\n",
    "# 'effector memory CD8-positive T cell',\n",
    "# 'exhausted-like CD8-positive T cell',\n",
    "# 'mature NK T cell',\n",
    "# 'naive CD8-positive T cell',\n",
    "# 'proliferating CD4-positive T cell',\n",
    "# 'proliferating CD8-positive T cell'"
   ]
  },
  {
   "cell_type": "code",
   "execution_count": null,
   "metadata": {},
   "outputs": [],
   "source": [
    "set(tildata.obs['celltype3_pub'])"
   ]
  },
  {
   "cell_type": "code",
   "execution_count": null,
   "metadata": {},
   "outputs": [],
   "source": [
    "cdata=tildata[tildata.obs['celltype3_pub'].isin(['CD4-positive, cytotoxic T cell',\n",
    "                                                'effector memory CD4-positive T cell',\n",
    "                                                'exhausted-like CD4-positive T cell',\n",
    "                                                'proliferating CD4-positive T cell'])].copy()\n",
    "subsetleg='CD4T-effector'\n",
    "\n",
    "#cdata=tildata[tildata.obs['celltype3_pub'].isin(['naive CD4-positive T cell',\n",
    "#    'central memory CD4-positive T cell',\n",
    "#    'CD4-positive, cytotoxic T cell','effector memory CD4-positive T cell',\n",
    "#                                                'exhausted-like CD4-positive T cell',\n",
    "#                                                'proliferating CD4-positive T cell'])].copy()\n",
    "#subsetleg='CD4T-AllnoTregMAIT'\n",
    "\n",
    "cdata=tildata[tildata.obs['celltype3_pub'].isin(['naive CD4-positive T cell',\n",
    "    'central memory CD4-positive T cell'])].copy()\n",
    "\n",
    "subsetleg='CD4T-naiveCM'\n",
    "#cdata=tildata[tildata.obs['celltype3_pub'].isin(['regulatory T cell'])].copy()\n",
    "\n",
    "#subsetleg='CD4T-regT'"
   ]
  },
  {
   "cell_type": "code",
   "execution_count": null,
   "metadata": {},
   "outputs": [],
   "source": [
    "cdata=tildata[tildata.obs['celltype3_pub'].isin(['naive CD4-positive T cell',\n",
    "    'central memory CD4-positive T cell','IL7R-max CD4-positive T cell','regulatory T cell',\n",
    "    'CD4-positive, cytotoxic T cell','effector memory CD4-positive T cell',\n",
    "                                                'exhausted-like CD4-positive T cell',\n",
    "                                                'proliferating CD4-positive T cell'])].copy()\n",
    "subsetleg='CD4T-all'\n"
   ]
  },
  {
   "cell_type": "code",
   "execution_count": null,
   "metadata": {},
   "outputs": [],
   "source": [
    "#cdata=tildata[tildata.obs['celltype3_pub'].isin(['cytokine secreting effector CD8-positive T cell',\n",
    "#                                                 'proliferating NK cell','effector memory CD8-positive T cell',\n",
    "#                                                 'mature NK T cell','naive CD8-positive T cell',\n",
    "#                                                'proliferating CD8-positive T cell',\n",
    "#                                                 'exhausted-like CD8-positive T cell',\n",
    "#                                                'CD56-bright cytokine secreting natural killer cell',\n",
    "#                                                'cytotoxic CD56-dim natural killer cell'])].copy()\n",
    "#subsetleg='CD8TandNK'\n",
    "\n",
    "#cdata=tildata[tildata.obs['celltype3_pub'].isin(['cytokine secreting effector CD8-positive T cell',\n",
    "#                                                 'effector memory CD8-positive T cell',\n",
    "#                                                 'mature NK T cell','naive CD8-positive T cell',\n",
    "#                                                'proliferating CD8-positive T cell',\n",
    "#                                                'exhausted-like CD8-positive T cell'])].copy()\n",
    "\n",
    "#subsetleg='CD8T-all-noNK'\n",
    "#cdata=tildata[tildata.obs['celltype3_pub'].isin(['proliferating NK cell',\n",
    "#                                                 'CD56-bright cytokine secreting natural killer cell',\n",
    "#                                                'cytotoxic CD56-dim natural killer cell'])].copy()\n",
    "\n",
    "#subsetleg='NK-all'"
   ]
  },
  {
   "cell_type": "code",
   "execution_count": null,
   "metadata": {},
   "outputs": [],
   "source": [
    "#set(adata.obs['celltype3_pub'])"
   ]
  },
  {
   "cell_type": "code",
   "execution_count": null,
   "metadata": {},
   "outputs": [],
   "source": [
    "#dcdatatu=dcdata[dcdata.obs['Sample type']=='TIL'].copy()\n",
    "#cdata=dcdatatu[dcdatatu.obs['celltype3_pub'].isin(['CCR7-positive myeloid dendritic cell','CD141-positive myeloid dendritic cell'])].copy()\n",
    "#cdata=dcdatatu[dcdatatu.obs['celltype3_pub'].isin(['CD1c-positive myeloid dendritic cell'])].copy()\n",
    "\n",
    "#subsetleg='cDC-leiden-velo-TILcDC1aDC'\n",
    "#subsetleg='cDC-leiden-velo-TILcDC2'"
   ]
  },
  {
   "cell_type": "code",
   "execution_count": null,
   "metadata": {},
   "outputs": [],
   "source": [
    "\n",
    "\n",
    "#=bc.tl.dge.get_de(subdataa,'RCat',demethod='wilcoxon',topnr=5000, logfc=np.log(1.5),padj=0.1)\n",
    "### try on individual tissues separately\n",
    "b1DE=bc.tl.dge.get_de(cdata[cdata.obs['Lesion'].isin(['LN'])].copy(),'Respond',topnr=5000, logfc=np.log(1.5),padj=0.1)\n",
    "b2DE=bc.tl.dge.get_de(cdata[cdata.obs['Lesion'].isin(['Brain'])].copy(),'Respond',topnr=5000, logfc=np.log(1.5),padj=0.1)\n",
    "b3DE=bc.tl.dge.get_de(cdata[cdata.obs['Lesion'].isin(['Lung','Sinon','Subc'])].copy(),'Respond',topnr=5000, logfc=np.log(1.5),padj=0.1)\n",
    "\n",
    "allDE1=bc.tl.dge.get_de(cdata[cdata.obs['Response3'].isin(['R','NR'])],'Respond',topnr=5000, logfc=np.log(1.5),padj=0.1)\n",
    "allDE2=bc.tl.dge.get_de(cdata[cdata.obs['Response3'].isin(['TF','PD'])],'Respond',topnr=5000, logfc=np.log(1.5),padj=0.1)\n",
    "allDE=bc.tl.dge.get_de(cdata,'Respond',topnr=5000, logfc=np.log(1.5),padj=0.1)\n",
    "\n"
   ]
  },
  {
   "cell_type": "code",
   "execution_count": null,
   "metadata": {},
   "outputs": [],
   "source": [
    "testlist={}\n",
    "testlist['LN-both']=b1DE\n",
    "testlist['Brain-both']=b2DE\n",
    "testlist['Other-both']=b3DE\n",
    "testlist['Nadj']=allDE1\n",
    "testlist['Adj']=allDE2\n",
    "testlist['All']=allDE\n",
    "\n",
    "### Intersection of all combinations\n",
    "strDE=set(b1DE['PD']['Name']).intersection(set(allDE['PD']['Name'])).intersection((set(b2DE['PD']['Name'])).intersection(set(b3DE['PD']['Name']))).intersection((set(allDE1['PD']['Name'])).intersection(set(allDE2['PD']['Name'])))\n",
    "strDE2=set(b1DE['R']['Name']).intersection(set(allDE['R']['Name'])).intersection((set(b2DE['R']['Name'])).intersection(set(b3DE['R']['Name']))).intersection((set(allDE1['R']['Name'])).intersection(set(allDE2['R']['Name'])))\n",
    "\n",
    "\n",
    "oiNRstr=strDE\n",
    "strDE"
   ]
  },
  {
   "cell_type": "code",
   "execution_count": null,
   "metadata": {},
   "outputs": [],
   "source": [
    "\n",
    "oiRstr=strDE2\n",
    "strDE2"
   ]
  },
  {
   "cell_type": "code",
   "execution_count": null,
   "metadata": {},
   "outputs": [],
   "source": [
    "\n",
    "\n",
    "\n",
    "### Complete comparison + LN only + Brain | Others + RvsNR | PDvsTF\n",
    "strDE=set(b1DE['PD']['Name']).intersection(set(allDE['PD']['Name'])).intersection((set(b2DE['PD']['Name'])).union(set(b3DE['PD']['Name']))).intersection((set(allDE1['PD']['Name'])).union(set(allDE2['PD']['Name'])))\n",
    "strDE2=set(b1DE['R']['Name']).intersection(set(allDE['R']['Name'])).intersection((set(b2DE['R']['Name'])).union(set(b3DE['R']['Name']))).intersection((set(allDE1['R']['Name'])).union(set(allDE2['R']['Name'])))\n",
    "\n",
    "### Complete comparison + LN only | Brain | Others + RvsNR | PDvsTF\n",
    "strDE=set(allDE['PD']['Name']).intersection((set(b2DE['PD']['Name'])).union(set(b3DE['PD']['Name'])).union(set(b1DE['PD']['Name']))).intersection((set(allDE1['PD']['Name'])).union(set(allDE2['PD']['Name'])))\n",
    "strDE2=set(allDE['R']['Name']).intersection((set(b2DE['R']['Name'])).union(set(b3DE['R']['Name'])).union(set(b1DE['R']['Name']))).intersection((set(allDE1['R']['Name'])).union(set(allDE2['R']['Name'])))\n",
    "\n",
    "oiNRlen=strDE\n",
    "oiRlen=strDE2\n",
    "\n",
    "strDE\n"
   ]
  },
  {
   "cell_type": "code",
   "execution_count": null,
   "metadata": {},
   "outputs": [],
   "source": [
    "strDE2"
   ]
  },
  {
   "cell_type": "code",
   "execution_count": null,
   "metadata": {},
   "outputs": [],
   "source": [
    "sc.settings.set_figure_params()"
   ]
  },
  {
   "cell_type": "code",
   "execution_count": null,
   "metadata": {},
   "outputs": [],
   "source": [
    "figdir"
   ]
  },
  {
   "cell_type": "code",
   "execution_count": null,
   "metadata": {},
   "outputs": [],
   "source": [
    "sc.pl.matrixplot(cdata,var_names=list(strDE2)[0:60], groupby='RCat', standard_scale='var',save='DEanalysis_wilcoxon.'+subsetleg+'-TILonly.Rhigh.svg')\n"
   ]
  },
  {
   "cell_type": "code",
   "execution_count": null,
   "metadata": {},
   "outputs": [],
   "source": [
    "sc.pl.matrixplot(cdata,var_names=list(strDE)[0:60], groupby='RCat', standard_scale='var',save='DEanalysis_wilcoxon.'+subsetleg+'-TILonly.NRhigh.svg')\n"
   ]
  },
  {
   "cell_type": "code",
   "execution_count": null,
   "metadata": {},
   "outputs": [],
   "source": [
    "sc.pl.dotplot(cdata,var_names=list(strDE)[0:60], groupby='RCat')\n"
   ]
  },
  {
   "cell_type": "code",
   "execution_count": null,
   "metadata": {},
   "outputs": [],
   "source": []
  },
  {
   "cell_type": "code",
   "execution_count": null,
   "metadata": {},
   "outputs": [],
   "source": [
    "rhigh={}\n",
    "for i in list(strDE2):\n",
    "    comp=[0] * len(testlist)\n",
    "    k=0\n",
    "    for j in testlist.keys():\n",
    "        if len(set([i]).intersection(set(testlist[j]['R']['Name'])))>0: comp[k]=1\n",
    "        k=k+1\n",
    "    rhigh[i]=comp\n",
    "rhigh=pd.DataFrame(rhigh)\n",
    "rhigh.index=testlist.keys()\n",
    "\n"
   ]
  },
  {
   "cell_type": "code",
   "execution_count": null,
   "metadata": {},
   "outputs": [],
   "source": [
    "\n",
    "\n",
    "\n",
    "nrhigh={}\n",
    "for i in list(strDE):\n",
    "    comp=[0] * len(testlist)\n",
    "    k=0\n",
    "    for j in testlist.keys():\n",
    "        if len(set([i]).intersection(set(testlist[j]['PD']['Name'])))>0: comp[k]=1\n",
    "        k=k+1\n",
    "    nrhigh[i]=comp\n",
    "nrhigh=pd.DataFrame(nrhigh)\n",
    "nrhigh.index=testlist.keys()\n"
   ]
  },
  {
   "cell_type": "code",
   "execution_count": null,
   "metadata": {},
   "outputs": [],
   "source": [
    "\n",
    "nrhighall=nrhigh.transpose().copy()\n",
    "nrhighall['Score']=list(allDE['PD'].loc[allDE['PD']['Name'].isin(list(nrhigh.columns)),'Score'])\n",
    "nrhighall['Log2FC']=list(allDE['PD'].loc[allDE['PD']['Name'].isin(list(nrhigh.columns)),'Log2FC'])\n",
    "nrhighall['P.adj']=list(allDE['PD'].loc[allDE['PD']['Name'].isin(list(nrhigh.columns)),'P.adj'])\n",
    "nrhighall.to_csv(figdir+'DEanalysis_wilcoxon.'+subsetleg+'-TILonly.NRhigh.tsv',sep='\\t')\n"
   ]
  },
  {
   "cell_type": "code",
   "execution_count": null,
   "metadata": {},
   "outputs": [],
   "source": [
    "#nrhighall"
   ]
  },
  {
   "cell_type": "code",
   "execution_count": null,
   "metadata": {},
   "outputs": [],
   "source": [
    "rhighall=rhigh.transpose().copy()\n",
    "rhighall['Score']=list(allDE['R'].loc[allDE['R']['Name'].isin(list(rhigh.columns)),'Score'])\n",
    "rhighall['Log2FC']=list(allDE['R'].loc[allDE['R']['Name'].isin(list(rhigh.columns)),'Log2FC'])\n",
    "rhighall['P.adj']=list(allDE['R'].loc[allDE['R']['Name'].isin(list(rhigh.columns)),'P.adj'])\n",
    "rhighall.to_csv(figdir+'DEanalysis_wilcoxon.'+subsetleg+'-TILonly.Rhigh.tsv',sep='\\t')\n"
   ]
  },
  {
   "cell_type": "code",
   "execution_count": null,
   "metadata": {},
   "outputs": [],
   "source": [
    "#rhighall"
   ]
  },
  {
   "cell_type": "code",
   "execution_count": null,
   "metadata": {},
   "outputs": [],
   "source": [
    "# Macrophage and Monocytes + CD4 T cells\n",
    "#rhighstr=rhighall.loc[((rhighall['LN-both']==1)&(rhighall['Nadj']==1)&(rhighall['Adj']==1)),:]\n",
    "#T cells: \n",
    "rhighstr=rhighall.loc[((rhighall['LN-both']==1)&(rhighall['Nadj']==1)),:]\n",
    "rhighstr"
   ]
  },
  {
   "cell_type": "code",
   "execution_count": null,
   "metadata": {},
   "outputs": [],
   "source": [
    "sc.pl.matrixplot(cdata,var_names=list(rhighstr.index), groupby='RCat', standard_scale='var',save='DEanalysis_wilcoxon.'+subsetleg+'-TILonly.Rhigh-stringent.svg')\n"
   ]
  },
  {
   "cell_type": "code",
   "execution_count": null,
   "metadata": {},
   "outputs": [],
   "source": [
    "nrhighstr=nrhighall.loc[((nrhighall['LN-both']==1)&(nrhighall['Nadj']==1)&(nrhighall['Adj']==1)),:]\n",
    "# CD4 T cells\n",
    "#nrhighstr=nrhighall.loc[((nrhighall['LN-both']==1)&(nrhighall['Nadj']==1)&(nrhighall['Adj']==1)&(nrhighall['Brain-both']==1)),:]\n",
    "\n",
    "# macrophage and Monocytes: \n",
    "#nrhighstr=nrhighall.loc[((nrhighall['LN-both']==1)&(nrhighall['Other-both']==1)&(nrhighall['Nadj']==1)&(nrhighall['Adj']==1)&(nrhighall['Brain-both']==1)),:]\n",
    "nrhighstr"
   ]
  },
  {
   "cell_type": "code",
   "execution_count": null,
   "metadata": {},
   "outputs": [],
   "source": [
    "sc.pl.matrixplot(cdata,var_names=list(nrhighstr.index), groupby='RCat', standard_scale='var',save='DEanalysis_wilcoxon.'+subsetleg+'-TILonly.NRhigh-stringent.svg')\n"
   ]
  },
  {
   "cell_type": "code",
   "execution_count": null,
   "metadata": {},
   "outputs": [],
   "source": [
    "    import gseapy\n",
    "    #gseapy.get_library_name()\n",
    "    \n",
    "    #dbs=['KEGG_2021_Human','GO_Biological_Process_2021','Reactome_2016',\n",
    "    # 'Human_Gene_Atlas','WikiPathways_2019_Human','ChEA_2016',\n",
    "    # 'CellMarker_Augmented_2021','Azimuth_Cell_Types_2021','COVID-19_Related_Gene_Sets_2021',\n",
    "    # 'MSigDB_Hallmark_2020']\n",
    "    dbs=['KEGG_2021_Human','GO_Biological_Process_2021','Reactome_2016',\n",
    "     'MSigDB_Hallmark_2020']"
   ]
  },
  {
   "cell_type": "code",
   "execution_count": null,
   "metadata": {},
   "outputs": [],
   "source": [
    "gseapy.enrichr"
   ]
  },
  {
   "cell_type": "code",
   "execution_count": null,
   "metadata": {},
   "outputs": [],
   "source": [
    "#description='DEanalysis_wilcoxon.'+subsetleg+'-TILonly.Rhigh.tsv', \n",
    "#description='DEanalysis_wilcoxon.'+subsetleg+'-TILonly.NRhigh.tsv', "
   ]
  },
  {
   "cell_type": "code",
   "execution_count": null,
   "metadata": {},
   "outputs": [],
   "source": [
    "j"
   ]
  },
  {
   "cell_type": "code",
   "execution_count": null,
   "metadata": {},
   "outputs": [],
   "source": [
    "    cdata.raw.var['MeanExpr']=cdata.raw.X.mean(axis=0).tolist()[0]\n",
    "    for j in dbs:\n",
    "        if (len(list(rhigh.columns))>10):\n",
    "            gseapy.enrichr(gene_list=list(list(rhigh.sum().sort_values(ascending=False)[0:200].index)),                 \n",
    "                   gene_sets=j, background=list(cdata.raw.var.loc[cdata.raw.var['MeanExpr']>0.01]['SYMBOL']),cutoff=0.1, format='png',outdir=figdir+'enrichr/'+subsetleg+'-TILonly.Rhigh/')\n",
    "        if (len(list(nrhigh.columns))>10):\n",
    "            gseapy.enrichr(gene_list=list(list(nrhigh.sum().sort_values(ascending=False)[0:200].index)), \n",
    "                   gene_sets=j, background=list(cdata.raw.var.loc[cdata.raw.var['MeanExpr']>0.01]['SYMBOL']),cutoff=0.1, format='png',outdir=figdir+'enrichr/'+subsetleg+'-TILonly.NRhigh/')"
   ]
  },
  {
   "cell_type": "code",
   "execution_count": null,
   "metadata": {},
   "outputs": [],
   "source": [
    "sns.set(font_scale=0.8)"
   ]
  },
  {
   "cell_type": "code",
   "execution_count": null,
   "metadata": {},
   "outputs": [],
   "source": [
    "dbs"
   ]
  },
  {
   "cell_type": "code",
   "execution_count": null,
   "metadata": {},
   "outputs": [],
   "source": [
    "    mydb='MSigDB_Hallmark_2020'\n",
    "    #for mydb in dbs:\n",
    "    rhighhallmark=pd.read_csv(figdir+'enrichr/'+subsetleg+'-TILonly.Rhigh/'+mydb+'.human.enrichr.reports.txt', sep='\\t')\n",
    "    nrhighhallmark=pd.read_csv(figdir+'enrichr/'+subsetleg+'-TILonly.NRhigh/'+mydb+'.human.enrichr.reports.txt', sep='\\t')\n",
    "    nrhighhallmark=nrhighhallmark.loc[:,['Term','Combined Score']]\n",
    "    rhighhallmark=rhighhallmark.loc[:,['Term','Combined Score']]\n",
    "    nrhighhallmark['NR']=nrhighhallmark['Combined Score']\n",
    "    rhighhallmark['R']=rhighhallmark['Combined Score']\n",
    "    nrhighhallmark.index=list(nrhighhallmark['Term'])\n",
    "    rhighhallmark.index=list(rhighhallmark['Term'])\n",
    "    toplot=pd.concat([nrhighhallmark,rhighhallmark], axis=1).loc[:,['R','NR']].fillna(0)\n",
    "    toplot=toplot.loc[toplot.max(axis=1)>20,:]\n",
    "    #toplot[toplot>500]=500\n",
    "    fig=sns.clustermap(np.log1p(toplot).transpose(), figsize=(8,1.5))\n",
    "    #fig.savefig(figdir+'enrichr/'+subsetleg+'-TILonly-'+mydb+'.human.enrichr.pdf')\n",
    "    #fig.savefig(figdir+'enrichr/'+subsetleg+'-TILonly-'+mydb+'.human.enrichr.eps', format='eps')\n",
    "    fig.savefig(figdir+'enrichr/'+subsetleg+'-TILonly-'+mydb+'.human.enrichr.svg', format='svg')"
   ]
  },
  {
   "cell_type": "code",
   "execution_count": null,
   "metadata": {},
   "outputs": [],
   "source": [
    "subsetleg"
   ]
  },
  {
   "cell_type": "markdown",
   "metadata": {},
   "source": [
    "##### Specifically create plots for Macrophage/DC subsets"
   ]
  },
  {
   "cell_type": "code",
   "execution_count": null,
   "metadata": {},
   "outputs": [],
   "source": [
    "for mydb in dbs:\n",
    "    monor=pd.read_csv(figdir+'enrichr/MonoMacro-leiden-velo-TILcomonocyte-TILonly.Rhigh/'+mydb+'.human.enrichr.reports.txt', sep='\\t')\n",
    "    mononr=pd.read_csv(figdir+'enrichr/MonoMacro-leiden-velo-TILcomonocyte-TILonly.NRhigh/'+mydb+'.human.enrichr.reports.txt', sep='\\t')\n",
    "\n",
    "    macror=pd.read_csv(figdir+'enrichr/MonoMacro-leiden-velo-TILmacro-TILonly.Rhigh/'+mydb+'.human.enrichr.reports.txt', sep='\\t')\n",
    "    macronr=pd.read_csv(figdir+'enrichr/MonoMacro-leiden-velo-TILmacro-TILonly.NRhigh/'+mydb+'.human.enrichr.reports.txt', sep='\\t')\n",
    "\n",
    "    cdcr=pd.read_csv(figdir+'enrichr/cDC-leiden-velo-TILcDC-TILonly.Rhigh/'+mydb+'.human.enrichr.reports.txt', sep='\\t')\n",
    "    cdcnr=pd.read_csv(figdir+'enrichr/cDC-leiden-velo-TILcDC-TILonly.NRhigh/'+mydb+'.human.enrichr.reports.txt', sep='\\t')\n",
    "\n",
    "    monor=monor.loc[:,['Term','Combined Score']]\n",
    "    mononr=mononr.loc[:,['Term','Combined Score']]\n",
    "    mononr['monoNR']=mononr['Combined Score']\n",
    "    monor['monoR']=monor['Combined Score']\n",
    "    mononr.index=list(mononr['Term'])\n",
    "    monor.index=list(monor['Term'])\n",
    "\n",
    "    macror=macror.loc[:,['Term','Combined Score']]\n",
    "    macronr=macronr.loc[:,['Term','Combined Score']]\n",
    "    macronr['macroNR']=macronr['Combined Score']\n",
    "    macror['macroR']=macror['Combined Score']\n",
    "    macronr.index=list(macronr['Term'])\n",
    "    macror.index=list(macror['Term'])\n",
    "    \n",
    "    \n",
    "    cdcr=cdcr.loc[:,['Term','Combined Score']]\n",
    "    cdcnr=cdcnr.loc[:,['Term','Combined Score']]\n",
    "    cdcnr['cdcNR']=cdcnr['Combined Score']\n",
    "    cdcr['cdcR']=cdcr['Combined Score']\n",
    "    cdcnr.index=list(cdcnr['Term'])\n",
    "    cdcr.index=list(cdcr['Term'])\n",
    "\n",
    "\n",
    "    #toplot=pd.concat([macronr,macror, mononr, monor, cdcr, cdcnr], axis=1).loc[:,['monoNR','monoR','macroNR','macroR', 'cdcR','cdcNR']].fillna(0)\n",
    "    #toplot=toplot.loc[toplot.max(axis=1)>20,:]\n",
    "        #toplot[toplot>500]=500\n",
    "    #sns.clustermap(np.log1p(toplot).transpose(), figsize=(8,1.5))\n",
    "    #\n",
    "\n",
    "    toplot=pd.concat([macronr,macror, mononr, monor], axis=1).loc[:,['monoNR','monoR','macroNR','macroR']].fillna(0)\n",
    "    toplot=toplot.loc[toplot.max(axis=1)>20,:]\n",
    "\n",
    "    toplot=toplot.loc[(((toplot['monoNR']-toplot['monoR'])>10) &((toplot['macroNR']-toplot['macroR'])>10))|(((toplot['monoNR']-toplot['monoR'])<-10) &((toplot['macroNR']-toplot['macroR'])<-10)),:]\n",
    " \n",
    "    #toplot=toplot.loc[(((toplot['monoNR']-toplot['monoR'])>10) &((toplot['macroNR']-toplot['macroR'])>10)&((toplot['cdcNR']-toplot['cdcR'])>10))|(((toplot['monoNR']-toplot['monoR'])<-10) &((toplot['macroNR']-toplot['macroR'])<-10)&((toplot['cdcNR']-toplot['cdcR'])<-10)),:]\n",
    "    fig=sns.clustermap(np.log1p(toplot).transpose(), figsize=(10,2))\n",
    "    #fig.figure.savefig(figdir+'enrichr/MonoMacrocDC-leiden-velo-TIL-TILonly-'+mydb+'.human.enrichr.pdf')\n",
    "    fig.savefig(figdir+'enrichr/MonoMacro-leiden-velo-TIL-TILonly-'+mydb+'.human.enrichr.pdf')\n",
    "    fig.savefig(figdir+'enrichr/MonoMacro-leiden-velo-TIL-TILonly-'+mydb+'.human.enrichr.eps', format='eps')\n",
    "    fig.savefig(figdir+'enrichr/MonoMacro-leiden-velo-TIL-TILonly-'+mydb+'.human.enrichr.svg', format='svg')\n"
   ]
  },
  {
   "cell_type": "code",
   "execution_count": null,
   "metadata": {},
   "outputs": [],
   "source": [
    "degenes1=pd.read_csv(figdir+'DEanalysis_wilcoxon.AllCD8-leiden-velo-c0andc6andc5andc11-TILonly.Rhigh.tsv',sep='\\t')\n",
    "degenes2=pd.read_csv(figdir+'DEanalysis_wilcoxon.AllCD8-leiden-velo-c5andc6-TILonly.Rhigh.tsv',sep='\\t')\n",
    "degenes3=pd.read_csv(figdir+'DEanalysis_wilcoxon.AllCD8-leiden-velo-c0andc11-TILonly.Rhigh.tsv',sep='\\t')\n",
    "\n",
    "nrdegenes1=pd.read_csv(figdir+'DEanalysis_wilcoxon.AllCD8-leiden-velo-c0andc6andc5andc11-TILonly.NRhigh.tsv',sep='\\t')\n",
    "nrdegenes2=pd.read_csv(figdir+'DEanalysis_wilcoxon.AllCD8-leiden-velo-c5andc6-TILonly.NRhigh.tsv',sep='\\t')\n",
    "nrdegenes3=pd.read_csv(figdir+'DEanalysis_wilcoxon.AllCD8-leiden-velo-c0andc11-TILonly.NRhigh.tsv',sep='\\t')\n"
   ]
  },
  {
   "cell_type": "code",
   "execution_count": null,
   "metadata": {},
   "outputs": [],
   "source": [
    "denr=set(nrdegenes1['Unnamed: 0']).union(set(nrdegenes2['Unnamed: 0'])).union(set(nrdegenes3['Unnamed: 0']))\n",
    "denrstr=set(nrdegenes1['Unnamed: 0']).intersection(set(nrdegenes2['Unnamed: 0'])).intersection(set(nrdegenes3['Unnamed: 0']))\n",
    "der=set(degenes1['Unnamed: 0']).union(set(degenes2['Unnamed: 0'])).union(set(degenes3['Unnamed: 0']))"
   ]
  },
  {
   "cell_type": "code",
   "execution_count": null,
   "metadata": {},
   "outputs": [],
   "source": [
    "inpath='/Fullanalysis/analyzed/sw_besca2_immune/velocity/publication/'\n",
    "\n",
    "#lingenesr=pd.read_csv(inpath+'Lingenes_CD8Tcell-All_PBMCandTIL_rbdata_leiden_8to0to6.tsv',sep='\\t')\n",
    "#lingenesnr=pd.read_csv(inpath+'Lingenes_CD8Tcell-All_PBMCandTIL_rbdata_leiden_8to11and5.tsv',sep='\\t')\n",
    "\n",
    "lingenesr=pd.read_csv(inpath+'Lingenes_CD8Tcell-All_PBMCandTIL_rbdata_leiden_9to0.tsv',sep='\\t')\n",
    "lingenesnr=pd.read_csv(inpath+'Lingenes_CD8Tcell-All_PBMCandTIL_nrbdata_leiden_9to11.tsv',sep='\\t')\n",
    "lingenesr=lingenesr.loc[lingenesr['to 5']>0.1]\n",
    "lingenesnr=lingenesnr.loc[lingenesnr['to 5']>0.1]\n",
    "\n",
    "\n"
   ]
  },
  {
   "cell_type": "code",
   "execution_count": null,
   "metadata": {},
   "outputs": [],
   "source": [
    "tmp=allcd8[allcd8.obs['leiden_velo'].isin(['5','6'])].copy()\n",
    "tmp=tmp[tmp.obs['RCat'].isin(['R','TF'])].copy()"
   ]
  },
  {
   "cell_type": "code",
   "execution_count": null,
   "metadata": {},
   "outputs": [],
   "source": [
    "tmp=allcd8#[allcd8.obs['leiden_velo'].isin(['9'])].copy()\n",
    "tmpr=tmp[tmp.obs['RCat'].isin(['R','TF'])].copy()\n",
    "tmpnr=tmp[tmp.obs['RCat'].isin(['NR_adj','NR_nadj'])].copy()"
   ]
  },
  {
   "cell_type": "code",
   "execution_count": null,
   "metadata": {},
   "outputs": [],
   "source": [
    "c9R=bc.tl.dge.get_de(tmpr,'leiden_velo',topnr=5000, logfc=np.log(2),padj=0.05)\n",
    "c9NR=bc.tl.dge.get_de(tmpnr,'leiden_velo',topnr=5000, logfc=np.log(2),padj=0.05)"
   ]
  },
  {
   "cell_type": "code",
   "execution_count": null,
   "metadata": {},
   "outputs": [],
   "source": [
    "pd.Series(list(set(c9R['9']['Name']).intersection(set(c9NR['9']['Name'])))).to_csv(inpath+'candidates/Candidates_CD8Tcell-All_c9specgenes_NRandR.tsv',sep='\\t')"
   ]
  },
  {
   "cell_type": "code",
   "execution_count": null,
   "metadata": {},
   "outputs": [],
   "source": [
    "pd.Series(list(set(c9R['8']['Name']).intersection(set(c9NR['8']['Name'])))).to_csv(inpath+'candidates/Candidates_CD8Tcell-All_c8specgenes_NRandR.tsv',sep='\\t')"
   ]
  },
  {
   "cell_type": "code",
   "execution_count": null,
   "metadata": {},
   "outputs": [],
   "source": [
    "pd.Series(list(set(c9R['9']['Name'])-(set(c9NR['9']['Name'])))).to_csv(inpath+'candidates/Candidates_CD8Tcell-All_c9specgenes_RnotNR.tsv',sep='\\t')"
   ]
  },
  {
   "cell_type": "code",
   "execution_count": null,
   "metadata": {},
   "outputs": [],
   "source": [
    "pd.Series(list(set(c9R['8']['Name'])-(set(c9NR['8']['Name'])))).to_csv(inpath+'candidates/Candidates_CD8Tcell-All_c8specgenes_RnotNR.tsv',sep='\\t')"
   ]
  },
  {
   "cell_type": "code",
   "execution_count": null,
   "metadata": {},
   "outputs": [],
   "source": [
    "pd.Series(list(set(c9NR['9']['Name'])-(set(c9R['9']['Name'])))).to_csv(inpath+'candidates/Candidates_CD8Tcell-All_c9specgenes_NRnotR.tsv',sep='\\t')"
   ]
  },
  {
   "cell_type": "code",
   "execution_count": null,
   "metadata": {},
   "outputs": [],
   "source": [
    "pd.Series(list(set(c9NR['8']['Name'])-(set(c9R['8']['Name'])))).to_csv(inpath+'candidates/Candidates_CD8Tcell-All_c8specgenes_NRnotR.tsv',sep='\\t')"
   ]
  },
  {
   "cell_type": "code",
   "execution_count": null,
   "metadata": {},
   "outputs": [],
   "source": [
    "tmp=allcd8[allcd8.obs['leiden_velo'].isin(['9'])].copy()"
   ]
  },
  {
   "cell_type": "code",
   "execution_count": null,
   "metadata": {},
   "outputs": [],
   "source": [
    "import scipy.stats as ss\n",
    "import operator\n",
    "\n",
    "allmarkers=tmp.var_names\n",
    "\n",
    "spearcorsAll = {}\n",
    "for i in allmarkers:\n",
    "    spearcorsAll[i]=ss.spearmanr(tmp.raw[:, i].X.todense(),tmp.raw[:,'KLRB1'].X.todense())[0]\n",
    "\n",
    "\n",
    "spearcorsAll=sorted(spearcorsAll.items(),key=operator.itemgetter(1))\n",
    "spearcorsAll_ids = [idx for idx, val in spearcorsAll]\n",
    "goiNegAll=spearcorsAll_ids[0:30]\n",
    "goiPosAll=spearcorsAll_ids[(len(spearcorsAll_ids)-30):len(spearcorsAll_ids)]"
   ]
  },
  {
   "cell_type": "code",
   "execution_count": null,
   "metadata": {},
   "outputs": [],
   "source": [
    "pd.Series(spearcorsAll_ids[(len(spearcorsAll_ids)-30):len(spearcorsAll_ids)]).to_csv(inpath+'candidates/Candidates_CD8Tcell-All_genesCorKLRB1inC9.tsv',sep='\\t')"
   ]
  },
  {
   "cell_type": "code",
   "execution_count": null,
   "metadata": {},
   "outputs": [],
   "source": [
    "import scipy.stats as ss\n",
    "import operator\n",
    "\n",
    "allmarkers=allcd8.var_names\n",
    "\n",
    "spearcorsAll = {}\n",
    "for i in allmarkers:\n",
    "    spearcorsAll[i]=ss.spearmanr(allcd8.raw[:, i].X.todense(),allcd8.raw[:,'KLRB1'].X.todense())[0]\n",
    "\n",
    "\n",
    "spearcorsAll=sorted(spearcorsAll.items(),key=operator.itemgetter(1))\n",
    "spearcorsAll_ids = [idx for idx, val in spearcorsAll]\n",
    "goiNegAll=spearcorsAll_ids[0:30]\n",
    "goiPosAll=spearcorsAll_ids[(len(spearcorsAll_ids)-30):len(spearcorsAll_ids)]"
   ]
  },
  {
   "cell_type": "code",
   "execution_count": null,
   "metadata": {},
   "outputs": [],
   "source": [
    "pd.Series(spearcorsAll_ids[(len(spearcorsAll_ids)-30):len(spearcorsAll_ids)]).to_csv(inpath+'candidates/Candidates_CD8Tcell-All_genesCorKLRB1inCD8T.tsv',sep='\\t')"
   ]
  },
  {
   "cell_type": "code",
   "execution_count": null,
   "metadata": {},
   "outputs": [],
   "source": [
    "(spearcorsAll_ids[(len(spearcorsAll_ids)-30):len(spearcorsAll_ids)])"
   ]
  },
  {
   "cell_type": "code",
   "execution_count": null,
   "metadata": {},
   "outputs": [],
   "source": [
    "#degenes1=pd.read_csv(figdir+'DEanalysis_wilcoxon.AllCD8-leiden-velo-c9-TILonly.Rhigh.tsv',sep='\\t')\n",
    "degenesnr1=pd.read_csv(figdir+'DEanalysis_wilcoxon.AllCD8-leiden-velo-c9-TILonly.NRhigh.tsv',sep='\\t')"
   ]
  },
  {
   "cell_type": "code",
   "execution_count": null,
   "metadata": {},
   "outputs": [],
   "source": [
    "goiPosAll=spearcorsAll_ids[(len(spearcorsAll_ids)-30):len(spearcorsAll_ids)]\n",
    "sc.pl.dotplot(allcd8, var_names=goiPosAll,groupby='leiden_velo')"
   ]
  },
  {
   "cell_type": "code",
   "execution_count": null,
   "metadata": {},
   "outputs": [],
   "source": [
    "c5vs6=bc.tl.dge.get_de(tmp,'leiden_velo',topnr=5000, logfc=np.log(2),padj=0.05)"
   ]
  },
  {
   "cell_type": "code",
   "execution_count": null,
   "metadata": {},
   "outputs": [],
   "source": [
    "#mysubcand='c8toc5vsc6'\n",
    "mysubcand='c9toc11vsc0'"
   ]
  },
  {
   "cell_type": "code",
   "execution_count": null,
   "metadata": {},
   "outputs": [],
   "source": [
    "candRout=lingenesr.loc[lingenesr['Unnamed: 0'].isin(list(set(lingenesr['Unnamed: 0']).intersection(der))),:]\n",
    "candRout.columns=['Gene','to 5']\n",
    "candRout.to_csv(inpath+'candidates/Candidates_CD8Tcell-All_'+mysubcand+'.Rhigh_9to11.tsv',sep='\\t')\n",
    "candRout\n",
    "\n"
   ]
  },
  {
   "cell_type": "code",
   "execution_count": null,
   "metadata": {},
   "outputs": [],
   "source": [
    "candc6out=lingenesr.loc[lingenesr['Unnamed: 0'].isin(list(set(lingenesr['Unnamed: 0']).intersection(set(c5vs6['6']['Name'])))),:]\n",
    "candc6out.columns=['Gene','to 5']\n",
    "candc6out.to_csv(inpath+'candidates/Candidates_CD8Tcell-All_'+mysubcand+'.6high_9to11.tsv',sep='\\t')\n",
    "candc6out"
   ]
  },
  {
   "cell_type": "code",
   "execution_count": null,
   "metadata": {},
   "outputs": [],
   "source": [
    "candNRout=lingenesnr.loc[lingenesnr['Unnamed: 0'].isin(list(set(lingenesnr['Unnamed: 0']).intersection(denr))),:]\n",
    "candNRout.columns=['Gene','to 5']\n",
    "candNRout.to_csv(inpath+'candidates/Candidates_CD8Tcell-All_'+mysubcand+'.NRhigh_9to11.tsv',sep='\\t')\n",
    "candNRout\n",
    "\n"
   ]
  },
  {
   "cell_type": "code",
   "execution_count": null,
   "metadata": {},
   "outputs": [],
   "source": [
    "candNRout=lingenesnr.loc[lingenesnr['Unnamed: 0'].isin(list(set(lingenesnr['Unnamed: 0']).intersection(denrstr))),:]\n",
    "candNRout.columns=['Gene','to 5']\n",
    "candNRout.to_csv(inpath+'candidates/Candidates_CD8Tcell-All_'+mysubcand+'.NRhigh_9to11.stringent.tsv',sep='\\t')\n",
    "candNRout"
   ]
  },
  {
   "cell_type": "code",
   "execution_count": null,
   "metadata": {},
   "outputs": [],
   "source": [
    "candc5out=lingenesnr.loc[lingenesnr['Unnamed: 0'].isin(list(set(lingenesnr['Unnamed: 0']).intersection(set(c5vs6['5']['Name'])))),:]\n",
    "candc5out.columns=['Gene','to 5']\n",
    "candc5out.to_csv(inpath+'candidates/Candidates_CD8Tcell-All_'+mysubcand+'.5high_9to11.tsv',sep='\\t')\n",
    "candc5out"
   ]
  },
  {
   "cell_type": "code",
   "execution_count": null,
   "metadata": {},
   "outputs": [],
   "source": [
    "candc5out=lingenesnr.loc[lingenesnr['Unnamed: 0'].isin(list(set(lingenesnr['Unnamed: 0']).intersection(denrstr).intersection(set(c5vs6['5']['Name'])))),:]\n",
    "candc5out.columns=['Gene','to 5']\n",
    "candc5out.to_csv(inpath+'candidates/Candidates_CD8Tcell-All_'+mysubcand+'.NRhigh.5high_9to11.stringent.tsv',sep='\\t')\n",
    "candc5out"
   ]
  },
  {
   "cell_type": "code",
   "execution_count": null,
   "metadata": {},
   "outputs": [],
   "source": [
    "\n",
    "nrhigh.transpose()\n",
    "\n",
    "rhigh.transpose()"
   ]
  },
  {
   "cell_type": "code",
   "execution_count": null,
   "metadata": {},
   "outputs": [],
   "source": [
    "nkcell=tildata[tildata.obs['celltype2_pub'].isin(['proliferating NK cell',\n",
    "                                                  'cytotoxic CD56-dim natural killer cell',\n",
    "                                                  'CD56-bright cytokine secreting natural killer cell'])].copy()\n",
    "cd8tcell=tildata[tildata.obs['celltype2_pub']=='CD8-positive T cell'].copy()\n",
    "cd4tcell=tildata[tildata.obs['celltype2_pub']=='CD4-positive T cell'].copy()\n",
    "\n",
    "cdc=tildata[tildata.obs['celltype2_pub']=='myeloid dendritic cell'].copy()\n",
    "macro=tildata[tildata.obs['celltype2_pub']=='macrophage'].copy()\n",
    "mono=tildata[tildata.obs['celltype2_pub']=='classical monocyte'].copy()\n",
    "\n",
    "\n",
    "\n",
    "#cd8tcell=cd8tcell[cd8tcell.obs['celltype3_pub']!='naive CD8 positive T cell'].copy()\n",
    "#cd8tcell=cd8tcell[cd8tcell.obs['celltype3_pub']!='mature NK T cell'].copy()\n",
    "#cd8tcell=cd8tcell[cd8tcell.obs['celltype3_pub']!='proliferating CD8-positive T cell'].copy()\n"
   ]
  },
  {
   "cell_type": "code",
   "execution_count": null,
   "metadata": {},
   "outputs": [],
   "source": [
    "monopbmc=pbmcdata[pbmcdata.obs['celltype2_pub']=='classical monocyte'].copy()\n",
    "cd4tcellpbmc=pbmcdata[pbmcdata.obs['celltype2_pub']=='CD4-positive T cell'].copy()\n",
    "cd8tcellpbmc=pbmcdata[pbmcdata.obs['celltype2_pub']=='CD8-positive T cell'].copy()\n",
    "cdcpbmc=pbmcdata[pbmcdata.obs['celltype2_pub']=='myeloid dendritic cell'].copy()"
   ]
  },
  {
   "cell_type": "code",
   "execution_count": null,
   "metadata": {},
   "outputs": [],
   "source": [
    "cdc1=tildata[tildata.obs['celltype3_pub'].isin(['CD141-positive myeloid dendritic cell',\n",
    "                                                'CCR7-positive myeloid dendritic cell'])].copy()\n"
   ]
  },
  {
   "cell_type": "code",
   "execution_count": null,
   "metadata": {},
   "outputs": [],
   "source": [
    "set(tildata.obs['celltype3_pub'])"
   ]
  },
  {
   "cell_type": "markdown",
   "metadata": {},
   "source": [
    "### NK cell DE "
   ]
  },
  {
   "cell_type": "code",
   "execution_count": null,
   "metadata": {},
   "outputs": [],
   "source": [
    "cdata=nkcell.copy()"
   ]
  },
  {
   "cell_type": "code",
   "execution_count": null,
   "metadata": {},
   "outputs": [],
   "source": [
    "#=bc.tl.dge.get_de(subdataa,'RCat',demethod='wilcoxon',topnr=5000, logfc=np.log(1.5),padj=0.1)\n",
    "### try on individual tissues separately\n",
    "b1DE=bc.tl.dge.get_de(cdata[cdata.obs['Lesion'].isin(['LN'])].copy(),'Respond',topnr=5000, logfc=np.log(1.5),padj=0.1)\n",
    "b2DE=bc.tl.dge.get_de(cdata[cdata.obs['Lesion'].isin(['Brain'])].copy(),'Respond',topnr=5000, logfc=np.log(1.5),padj=0.1)\n",
    "b3DE=bc.tl.dge.get_de(cdata[cdata.obs['Lesion'].isin(['Lung','Sinon','Subc'])].copy(),'Respond',topnr=5000, logfc=np.log(1.5),padj=0.1)\n",
    "\n",
    "allDE1=bc.tl.dge.get_de(cdata[cdata.obs['Response3'].isin(['R','NR'])],'Respond',topnr=5000, logfc=np.log(1.5),padj=0.1)\n",
    "allDE2=bc.tl.dge.get_de(cdata[cdata.obs['Response3'].isin(['TF','PD'])],'Respond',topnr=5000, logfc=np.log(1.5),padj=0.1)\n",
    "allDE=bc.tl.dge.get_de(cdata,'Respond',topnr=5000, logfc=np.log(1.5),padj=0.1)\n"
   ]
  },
  {
   "cell_type": "code",
   "execution_count": null,
   "metadata": {},
   "outputs": [],
   "source": [
    "testlist={}\n",
    "testlist['LN-both']=b1DE\n",
    "testlist['Brain-both']=b2DE\n",
    "testlist['Other-both']=b3DE\n",
    "testlist['Nadj']=allDE1\n",
    "testlist['Adj']=allDE2\n",
    "testlist['All']=allDE"
   ]
  },
  {
   "cell_type": "code",
   "execution_count": null,
   "metadata": {},
   "outputs": [],
   "source": [
    "### Intersection of all combinations\n",
    "strDE=set(b1DE['PD']['Name']).intersection(set(allDE['PD']['Name'])).intersection((set(b2DE['PD']['Name'])).intersection(set(b3DE['PD']['Name']))).intersection((set(allDE1['PD']['Name'])).intersection(set(allDE2['PD']['Name'])))\n",
    "strDE2=set(b1DE['R']['Name']).intersection(set(allDE['R']['Name'])).intersection((set(b2DE['R']['Name'])).intersection(set(b3DE['R']['Name']))).intersection((set(allDE1['R']['Name'])).intersection(set(allDE2['R']['Name'])))"
   ]
  },
  {
   "cell_type": "code",
   "execution_count": null,
   "metadata": {},
   "outputs": [],
   "source": [
    "strDE"
   ]
  },
  {
   "cell_type": "code",
   "execution_count": null,
   "metadata": {},
   "outputs": [],
   "source": [
    "strDE2"
   ]
  },
  {
   "cell_type": "code",
   "execution_count": null,
   "metadata": {},
   "outputs": [],
   "source": [
    "### Complete comparison + LN only + Brain | Others + RvsNR | PDvsTF\n",
    "strDE=set(b1DE['PD']['Name']).intersection(set(allDE['PD']['Name'])).intersection((set(b2DE['PD']['Name'])).union(set(b3DE['PD']['Name']))).intersection((set(allDE1['PD']['Name'])).union(set(allDE2['PD']['Name'])))\n",
    "strDE2=set(b1DE['R']['Name']).intersection(set(allDE['R']['Name'])).intersection((set(b2DE['R']['Name'])).union(set(b3DE['R']['Name']))).intersection((set(allDE1['R']['Name'])).union(set(allDE2['R']['Name'])))"
   ]
  },
  {
   "cell_type": "code",
   "execution_count": null,
   "metadata": {},
   "outputs": [],
   "source": [
    "### Complete comparison + LN only | Brain | Others + RvsNR | PDvsTF\n",
    "strDE=set(allDE['PD']['Name']).intersection((set(b2DE['PD']['Name'])).union(set(b3DE['PD']['Name'])).union(set(b1DE['PD']['Name']))).intersection((set(allDE1['PD']['Name'])).union(set(allDE2['PD']['Name'])))\n",
    "strDE2=set(allDE['R']['Name']).intersection((set(b2DE['R']['Name'])).union(set(b3DE['R']['Name'])).union(set(b1DE['R']['Name']))).intersection((set(allDE1['R']['Name'])).union(set(allDE2['R']['Name'])))\n"
   ]
  },
  {
   "cell_type": "code",
   "execution_count": null,
   "metadata": {},
   "outputs": [],
   "source": [
    "nkNRlen=strDE\n",
    "nkRlen=strDE2"
   ]
  },
  {
   "cell_type": "code",
   "execution_count": null,
   "metadata": {},
   "outputs": [],
   "source": [
    "strDE"
   ]
  },
  {
   "cell_type": "code",
   "execution_count": null,
   "metadata": {},
   "outputs": [],
   "source": [
    "strDE2"
   ]
  },
  {
   "cell_type": "code",
   "execution_count": null,
   "metadata": {},
   "outputs": [],
   "source": [
    "sc.pl.stacked_violin(nkcell,var_names=list(strDE2), groupby='RCat')"
   ]
  },
  {
   "cell_type": "code",
   "execution_count": null,
   "metadata": {},
   "outputs": [],
   "source": [
    "sc.pl.dotplot(nkcell,var_names=list(strDE2), groupby='RCat')"
   ]
  },
  {
   "cell_type": "code",
   "execution_count": null,
   "metadata": {},
   "outputs": [],
   "source": [
    "rhigh={}\n",
    "for i in list(strDE2):\n",
    "    comp=[0] * len(testlist)\n",
    "    k=0\n",
    "    for j in testlist.keys():\n",
    "        if len(set([i]).intersection(set(testlist[j]['R']['Name'])))>0: comp[k]=1\n",
    "        k=k+1\n",
    "    rhigh[i]=comp\n",
    "rhigh=pd.DataFrame(rhigh)\n",
    "rhigh.index=testlist.keys()\n",
    "\n",
    "nrhigh={}\n",
    "for i in list(strDE):\n",
    "    comp=[0] * len(testlist)\n",
    "    k=0\n",
    "    for j in testlist.keys():\n",
    "        if len(set([i]).intersection(set(testlist[j]['PD']['Name'])))>0: comp[k]=1\n",
    "        k=k+1\n",
    "    nrhigh[i]=comp\n",
    "nrhigh=pd.DataFrame(nrhigh)\n",
    "nrhigh.index=testlist.keys()"
   ]
  },
  {
   "cell_type": "code",
   "execution_count": null,
   "metadata": {},
   "outputs": [],
   "source": [
    "nrhigh.transpose().to_csv(figdir+'DEanalysis_wilcoxon.NK-TILonly.NRhigh.tsv',sep='\\t')\n",
    "rhigh.transpose().to_csv(figdir+'DEanalysis_wilcoxon.NK-TILonly.Rhigh.tsv',sep='\\t')"
   ]
  },
  {
   "cell_type": "code",
   "execution_count": null,
   "metadata": {},
   "outputs": [],
   "source": [
    "nrhigh.transpose()"
   ]
  },
  {
   "cell_type": "code",
   "execution_count": null,
   "metadata": {
    "scrolled": true
   },
   "outputs": [],
   "source": [
    "rhigh.transpose()"
   ]
  },
  {
   "cell_type": "markdown",
   "metadata": {},
   "source": [
    "### CD8 T cell DE\n"
   ]
  },
  {
   "cell_type": "code",
   "execution_count": null,
   "metadata": {},
   "outputs": [],
   "source": [
    "set(cd8tcell.obs['celltype3_pub'])"
   ]
  },
  {
   "cell_type": "code",
   "execution_count": null,
   "metadata": {},
   "outputs": [],
   "source": [
    "cdata=cd8tcell[cd8tcell.obs['celltype3_pub']!='mature NK T cell'].copy()\n",
    "\n",
    "#=bc.tl.dge.get_de(subdataa,'RCat',demethod='wilcoxon',topnr=5000, logfc=np.log(1.5),padj=0.1)\n",
    "### try on individual tissues separately\n",
    "b1DE=bc.tl.dge.get_de(cdata[cdata.obs['Lesion'].isin(['LN'])].copy(),'Respond',topnr=5000, logfc=np.log(1.5),padj=0.1)\n",
    "b2DE=bc.tl.dge.get_de(cdata[cdata.obs['Lesion'].isin(['Brain'])].copy(),'Respond',topnr=5000, logfc=np.log(1.5),padj=0.1)\n",
    "b3DE=bc.tl.dge.get_de(cdata[cdata.obs['Lesion'].isin(['Lung','Sinon','Subc'])].copy(),'Respond',topnr=5000, logfc=np.log(1.5),padj=0.1)\n",
    "\n",
    "### on response categories separately \n",
    "allDE1=bc.tl.dge.get_de(cdata[cdata.obs['Response3'].isin(['R','NR'])],'Respond',topnr=5000, logfc=np.log(1.5),padj=0.1)\n",
    "allDE2=bc.tl.dge.get_de(cdata[cdata.obs['Response3'].isin(['TF','PD'])],'Respond',topnr=5000, logfc=np.log(1.5),padj=0.1)\n",
    "allDE=bc.tl.dge.get_de(cdata,'Respond',topnr=5000, logfc=np.log(1.5),padj=0.1)\n",
    "\n"
   ]
  },
  {
   "cell_type": "code",
   "execution_count": null,
   "metadata": {},
   "outputs": [],
   "source": [
    "testlist={}\n",
    "testlist['LN-both']=b1DE\n",
    "testlist['Brain-both']=b2DE\n",
    "testlist['Other-both']=b3DE\n",
    "testlist['Nadj']=allDE1\n",
    "testlist['Adj']=allDE2\n",
    "testlist['All']=allDE"
   ]
  },
  {
   "cell_type": "code",
   "execution_count": null,
   "metadata": {},
   "outputs": [],
   "source": [
    "### Intersection of all combinations\n",
    "strDE=set(b1DE['PD']['Name']).intersection(set(allDE['PD']['Name'])).intersection((set(b2DE['PD']['Name'])).intersection(set(b3DE['PD']['Name']))).intersection((set(allDE1['PD']['Name'])).intersection(set(allDE2['PD']['Name'])))\n",
    "strDE2=set(b1DE['R']['Name']).intersection(set(allDE['R']['Name'])).intersection((set(b2DE['R']['Name'])).intersection(set(b3DE['R']['Name']))).intersection((set(allDE1['R']['Name'])).intersection(set(allDE2['R']['Name'])))\n",
    "\n"
   ]
  },
  {
   "cell_type": "code",
   "execution_count": null,
   "metadata": {},
   "outputs": [],
   "source": [
    "strDE\n",
    "\n"
   ]
  },
  {
   "cell_type": "code",
   "execution_count": null,
   "metadata": {},
   "outputs": [],
   "source": [
    "strDE2\n"
   ]
  },
  {
   "cell_type": "code",
   "execution_count": null,
   "metadata": {},
   "outputs": [],
   "source": [
    "strDE.intersection(set(litgoi))"
   ]
  },
  {
   "cell_type": "code",
   "execution_count": null,
   "metadata": {},
   "outputs": [],
   "source": [
    "strDE2.intersection(set(litgoi))"
   ]
  },
  {
   "cell_type": "code",
   "execution_count": null,
   "metadata": {},
   "outputs": [],
   "source": [
    "cd8NRstr=strDE\n",
    "cd8Rstr=strDE2"
   ]
  },
  {
   "cell_type": "code",
   "execution_count": null,
   "metadata": {},
   "outputs": [],
   "source": [
    "### Complete comparison + LN only + Brain | Others + RvsNR | PDvsTF\n",
    "strDE=set(b1DE['PD']['Name']).intersection(set(allDE['PD']['Name'])).intersection((set(b2DE['PD']['Name'])).union(set(b3DE['PD']['Name']))).intersection((set(allDE1['PD']['Name'])).union(set(allDE2['PD']['Name'])))\n",
    "strDE2=set(b1DE['R']['Name']).intersection(set(allDE['R']['Name'])).intersection((set(b2DE['R']['Name'])).union(set(b3DE['R']['Name']))).intersection((set(allDE1['R']['Name'])).union(set(allDE2['R']['Name'])))\n",
    "\n",
    "### Complete comparison + LN only | Brain | Others + RvsNR | PDvsTF\n",
    "strDE=set(allDE['PD']['Name']).intersection((set(b2DE['PD']['Name'])).union(set(b3DE['PD']['Name'])).union(set(b1DE['PD']['Name']))).intersection((set(allDE1['PD']['Name'])).union(set(allDE2['PD']['Name'])))\n",
    "strDE2=set(allDE['R']['Name']).intersection((set(b2DE['R']['Name'])).union(set(b3DE['R']['Name'])).union(set(b1DE['R']['Name']))).intersection((set(allDE1['R']['Name'])).union(set(allDE2['R']['Name'])))\n",
    "\n",
    "strDE\n"
   ]
  },
  {
   "cell_type": "code",
   "execution_count": null,
   "metadata": {},
   "outputs": [],
   "source": [
    "strDE.intersection(set(litgoi))\n",
    "# CD74: Wu et al. Effector-Mem\n",
    "# DNAJB1: Wu et al. Effector-Mem\n",
    "# DUSP2: Wu et al. Effector-Mem\n",
    "# IFNG: Wu et al. Effector-Mem; Li et al. dysfunctional CD8\n",
    "# GZMK: Wu et al. Effector-Mem; Li et al. transitional CD8\n",
    "# ENTPD1: Sade-Felman \"bad\" CD8; Li et al. dysfunctional CD8\n",
    "# GPR56: Wu et al. Effector\n",
    "# LITAF: Wu et al. Effector\n",
    "# NKG7: Wu et al. Effector\n",
    "# TNFRSF9: Li et al. exhausted CD8"
   ]
  },
  {
   "cell_type": "code",
   "execution_count": null,
   "metadata": {},
   "outputs": [],
   "source": [
    "strDE2.intersection(set(litgoi))\n",
    "#IL7R: Li et al. naive; Wu et al. IL7R\n",
    "#ITG1: Fairfax et al. large clones\n",
    "#KLRC2: Wu et al. effector\n",
    "#XCL1, XCL2: Wu et al. resident-memory"
   ]
  },
  {
   "cell_type": "code",
   "execution_count": null,
   "metadata": {},
   "outputs": [],
   "source": [
    "strDE2\n"
   ]
  },
  {
   "cell_type": "code",
   "execution_count": null,
   "metadata": {},
   "outputs": [],
   "source": [
    "cd8NRlen=strDE\n",
    "cd8Rlen=strDE2"
   ]
  },
  {
   "cell_type": "code",
   "execution_count": null,
   "metadata": {},
   "outputs": [],
   "source": [
    "rhigh={}\n",
    "for i in list(cd8Rlen):\n",
    "    comp=[0] * len(testlist)\n",
    "    k=0\n",
    "    for j in testlist.keys():\n",
    "        if len(set([i]).intersection(set(testlist[j]['R']['Name'])))>0: comp[k]=1\n",
    "        k=k+1\n",
    "    rhigh[i]=comp\n",
    "rhigh=pd.DataFrame(rhigh)\n",
    "rhigh.index=testlist.keys()\n",
    "\n",
    "nrhigh={}\n",
    "for i in list(cd8NRlen):\n",
    "    comp=[0] * len(testlist)\n",
    "    k=0\n",
    "    for j in testlist.keys():\n",
    "        if len(set([i]).intersection(set(testlist[j]['PD']['Name'])))>0: comp[k]=1\n",
    "        k=k+1\n",
    "    nrhigh[i]=comp\n",
    "nrhigh=pd.DataFrame(nrhigh)\n",
    "nrhigh.index=testlist.keys()"
   ]
  },
  {
   "cell_type": "code",
   "execution_count": null,
   "metadata": {},
   "outputs": [],
   "source": [
    "nrhigh.transpose().to_csv(figdir+'DEanalysis_wilcoxon.cd8tcells-noNKT-TILonly.NRhigh.tsv',sep='\\t')\n",
    "rhigh.transpose().to_csv(figdir+'DEanalysis_wilcoxon.cd8tcells-noNKT-TILonly.Rhigh.tsv',sep='\\t')"
   ]
  },
  {
   "cell_type": "code",
   "execution_count": null,
   "metadata": {},
   "outputs": [],
   "source": [
    "### Prepare means\n",
    "condition='RCat'\n",
    "#condlist=list(set(cdata.obs[condition]))\n",
    "condlist=['R','TF','NR_nadj','NR_adj']\n",
    "mean,fct=bc.get_means(cdata,'PatientID', condition)"
   ]
  },
  {
   "cell_type": "code",
   "execution_count": null,
   "metadata": {},
   "outputs": [],
   "source": [
    "bc.pl.box_per_ind(mean, ['XCL1','XCL2','MIF','HLA-DQA2','IL7R','KLRC2','AMICA1','SPRY1','PLAUR'],\n",
    "                  condition,order=condlist)"
   ]
  },
  {
   "cell_type": "code",
   "execution_count": null,
   "metadata": {},
   "outputs": [],
   "source": [
    "bc.pl.box_per_ind(mean, ['ATF3','ENTPD1','GZMK','DNAJA1','ZNF331','IFNG','FAS','CRTAM'],\n",
    "                  condition,order=condlist)"
   ]
  },
  {
   "cell_type": "code",
   "execution_count": null,
   "metadata": {},
   "outputs": [],
   "source": [
    "sc.pl.matrixplot(cdata,var_names=list(strDE2.intersection(set(litgoi).union(cd8Rstr)))+list(strDE.intersection(set(litgoi).union(cd8NRstr))),\n",
    "                 standard_scale='var',groupby='RCat',use_raw=True)\n"
   ]
  },
  {
   "cell_type": "code",
   "execution_count": null,
   "metadata": {},
   "outputs": [],
   "source": [
    "sc.pl.matrixplot(cdata,var_names=list(strDE2.intersection(set(litgoi).union(cd8Rstr)))+list(strDE.intersection(set(litgoi).union(cd8NRstr))),\n",
    "                 standard_scale='var',groupby='RCat',use_raw=True)\n"
   ]
  },
  {
   "cell_type": "code",
   "execution_count": null,
   "metadata": {},
   "outputs": [],
   "source": [
    "sc.pl.matrixplot(cdata,var_names=list(strDE2.intersection(set(litgoi)))+list(strDE.intersection(set(litgoi))),\n",
    "                 standard_scale='var',groupby='RCat',use_raw=True)\n"
   ]
  },
  {
   "cell_type": "code",
   "execution_count": null,
   "metadata": {
    "scrolled": true
   },
   "outputs": [],
   "source": [
    "from matplotlib import rcParams\n",
    "rcParams['figure.figsize'] = 5,4\n",
    "#sc.pl.violin(cd8tcell,keys=['XCL1','WDR74','YBX1','KLRC1','AMICA1','TNFRSF18'], group_by='Respond')\n",
    "df = sc.get.obs_df(cd8tcell[cd8tcell.obs['Adjuvant']=='ad'], ['XCL1','WDR74','KLRC1','AMICA1','TNFRSF18','RCat'])\n",
    "df = df.set_index('RCat').stack().reset_index()\n",
    "df.columns = ['RCat', 'gene', 'value']\n",
    "sns.violinplot(data=df, x='gene', y='value', hue=\"RCat\",split=True, inner=\"quart\", linewidth=1)           "
   ]
  },
  {
   "cell_type": "code",
   "execution_count": null,
   "metadata": {},
   "outputs": [],
   "source": [
    "df = sc.get.obs_df(cd8tcell[cd8tcell.obs['Adjuvant']=='nad'], ['XCL1','WDR74','KLRC1','AMICA1','TNFRSF18','RCat'])\n",
    "df = df.set_index('RCat').stack().reset_index()\n",
    "df.columns = ['RCat', 'gene', 'value']\n",
    "sns.violinplot(data=df, x='gene', y='value', hue=\"RCat\",split=True, inner=\"quart\", linewidth=1)           "
   ]
  },
  {
   "cell_type": "code",
   "execution_count": null,
   "metadata": {
    "scrolled": true
   },
   "outputs": [],
   "source": [
    "sc.pl.dotplot(cd8tcell,var_names=list(cd8Rstr),\n",
    "              groupby='RCat',use_raw=True)"
   ]
  },
  {
   "cell_type": "markdown",
   "metadata": {},
   "source": [
    "##### Same but only in exhausted-like populations"
   ]
  },
  {
   "cell_type": "code",
   "execution_count": null,
   "metadata": {},
   "outputs": [],
   "source": [
    "set(tildata.obs['celltype3_pub'])"
   ]
  },
  {
   "cell_type": "code",
   "execution_count": null,
   "metadata": {},
   "outputs": [],
   "source": [
    "cdata=tildata[tildata.obs['celltype3_pub'].isin(['exhausted-like CD8-positive T cell',\n",
    "                                                'cytokine secreting effector CD8-positive T cell',\n",
    "                                                'proliferating CD8-positive T cell'])].copy()\n",
    "cdata=tildata[tildata.obs['celltype3_pub'].isin([\n",
    " 'cytokine secreting effector CD8-positive T cell',\n",
    " 'effector memory CD8-positive T cell',\n",
    " 'exhausted-like CD8-positive T cell',\n",
    " 'naive CD8-positive T cell',\n",
    " 'proliferating CD8-positive T cell' ,'mature NK T cell',\n",
    "'CD4-positive, cytotoxic T cell','IL7R-max CD4-positive T cell',\n",
    "    'exhausted-like CD4-positive T cell',])].copy()\n"
   ]
  },
  {
   "cell_type": "code",
   "execution_count": null,
   "metadata": {},
   "outputs": [],
   "source": [
    "sc.pl.dotplot(cdata,var_names=['XCL1','NAMPT'],\n",
    "              groupby='RCat',use_raw=True)"
   ]
  },
  {
   "cell_type": "code",
   "execution_count": null,
   "metadata": {},
   "outputs": [],
   "source": [
    "#=bc.tl.dge.get_de(subdataa,'RCat',demethod='wilcoxon',topnr=5000, logfc=np.log(1.5),padj=0.1)\n",
    "### try on individual tissues separately\n",
    "b1DE=bc.tl.dge.get_de(cdata[cdata.obs['Lesion'].isin(['LN'])].copy(),'Respond',topnr=5000, logfc=np.log(1.5),padj=0.1)\n",
    "b2DE=bc.tl.dge.get_de(cdata[cdata.obs['Lesion'].isin(['Brain'])].copy(),'Respond',topnr=5000, logfc=np.log(1.5),padj=0.1)\n",
    "b3DE=bc.tl.dge.get_de(cdata[cdata.obs['Lesion'].isin(['Lung','Sinon','Subc'])].copy(),'Respond',topnr=5000, logfc=np.log(1.5),padj=0.1)\n",
    "\n",
    "### on response categories separately \n",
    "allDE1=bc.tl.dge.get_de(cdata[cdata.obs['Response3'].isin(['R','NR'])],'Respond',topnr=5000, logfc=np.log(1.5),padj=0.1)\n",
    "allDE2=bc.tl.dge.get_de(cdata[cdata.obs['Response3'].isin(['TF','PD'])],'Respond',topnr=5000, logfc=np.log(1.5),padj=0.1)\n",
    "allDE=bc.tl.dge.get_de(cdata,'Respond',topnr=5000, logfc=np.log(1.5),padj=0.1)\n"
   ]
  },
  {
   "cell_type": "code",
   "execution_count": null,
   "metadata": {},
   "outputs": [],
   "source": [
    "testlist={}\n",
    "testlist['LN-both']=b1DE\n",
    "testlist['Brain-both']=b2DE\n",
    "testlist['Other-both']=b3DE\n",
    "testlist['Nadj']=allDE1\n",
    "testlist['Adj']=allDE2\n",
    "testlist['All']=allDE\n",
    "### Intersection of all combinations\n",
    "strDE=set(b1DE['PD']['Name']).intersection(set(allDE['PD']['Name'])).intersection((set(b2DE['PD']['Name'])).intersection(set(b3DE['PD']['Name']))).intersection((set(allDE1['PD']['Name'])).intersection(set(allDE2['PD']['Name'])))\n",
    "strDE2=set(b1DE['R']['Name']).intersection(set(allDE['R']['Name'])).intersection((set(b2DE['R']['Name'])).intersection(set(b3DE['R']['Name']))).intersection((set(allDE1['R']['Name'])).intersection(set(allDE2['R']['Name'])))\n"
   ]
  },
  {
   "cell_type": "code",
   "execution_count": null,
   "metadata": {},
   "outputs": [],
   "source": [
    "strDE"
   ]
  },
  {
   "cell_type": "code",
   "execution_count": null,
   "metadata": {},
   "outputs": [],
   "source": [
    "cd8NRstr=strDE\n",
    "cd8Rstr=strDE2\n",
    "\n",
    "### Complete comparison +  LN only | Brain | Others + RvsNR | PDvsTF\n",
    "strDE=set(allDE['PD']['Name']).intersection((set(b2DE['PD']['Name'])).union(set(b3DE['PD']['Name'])).union(set(b1DE['PD']['Name']))).intersection((set(allDE1['PD']['Name'])).union(set(allDE2['PD']['Name'])))\n",
    "strDE2=set(allDE['R']['Name']).intersection((set(b2DE['R']['Name'])).union(set(b3DE['R']['Name'])).union(set(b1DE['R']['Name']))).intersection((set(allDE1['R']['Name'])).union(set(allDE2['R']['Name'])))\n"
   ]
  },
  {
   "cell_type": "code",
   "execution_count": null,
   "metadata": {},
   "outputs": [],
   "source": [
    "cd8NRlen=strDE\n",
    "cd8Rlen=strDE2\n",
    "rhigh={}\n",
    "for i in list(cd8Rlen):\n",
    "    comp=[0] * len(testlist)\n",
    "    k=0\n",
    "    for j in testlist.keys():\n",
    "        if len(set([i]).intersection(set(testlist[j]['R']['Name'])))>0: comp[k]=1\n",
    "        k=k+1\n",
    "    rhigh[i]=comp\n",
    "rhigh=pd.DataFrame(rhigh)\n",
    "rhigh.index=testlist.keys()\n",
    "\n",
    "nrhigh={}\n",
    "for i in list(cd8NRlen):\n",
    "    comp=[0] * len(testlist)\n",
    "    k=0\n",
    "    for j in testlist.keys():\n",
    "        if len(set([i]).intersection(set(testlist[j]['PD']['Name'])))>0: comp[k]=1\n",
    "        k=k+1\n",
    "    nrhigh[i]=comp\n",
    "nrhigh=pd.DataFrame(nrhigh)\n",
    "nrhigh.index=testlist.keys()\n"
   ]
  },
  {
   "cell_type": "code",
   "execution_count": null,
   "metadata": {},
   "outputs": [],
   "source": [
    "nrhigh.transpose()"
   ]
  },
  {
   "cell_type": "code",
   "execution_count": null,
   "metadata": {},
   "outputs": [],
   "source": [
    "set(rhigh.transpose().index)"
   ]
  },
  {
   "cell_type": "code",
   "execution_count": null,
   "metadata": {},
   "outputs": [],
   "source": [
    "set(rhigh.transpose().index).intersection(['XCL1'])"
   ]
  },
  {
   "cell_type": "code",
   "execution_count": null,
   "metadata": {},
   "outputs": [],
   "source": [
    "nrhigh.transpose().to_csv(figdir+'DEanalysis_wilcoxon.exhcd8tcells-noNKT-TILonly.NRhigh.tsv',sep='\\t')\n",
    "rhigh.transpose().to_csv(figdir+'DEanalysis_wilcoxon.exhcd8tcells-noNKT-TILonly.Rhigh.tsv',sep='\\t')"
   ]
  },
  {
   "cell_type": "markdown",
   "metadata": {},
   "source": [
    "## Validation data:  Sade-Feldmann et al. Melanoma tumors\n"
   ]
  },
  {
   "cell_type": "code",
   "execution_count": null,
   "metadata": {},
   "outputs": [],
   "source": [
    "mdata=sc.read('/scseq/oncology/GSE120575/analyzed/GSE120575_fromTPM_authors/GSE120575_fromTPM_authors.h5ad')\n",
    "\n",
    "#set(mdata.obs['Cluster number'])\n",
    "mygoi=['AMICA1','KLRC2','NR4A2','ATF3','HLA-DRB5','IFNG','ENTPD1','TCF7','TOX','SELL','LEF1','XCL1','DNAJB1','ZNF331','DUSP2','GZMK']\n"
   ]
  },
  {
   "cell_type": "code",
   "execution_count": null,
   "metadata": {},
   "outputs": [],
   "source": [
    "sc.pl.umap(mdata,color='louvain', legend_loc='on data')"
   ]
  },
  {
   "cell_type": "code",
   "execution_count": null,
   "metadata": {},
   "outputs": [],
   "source": [
    "cd8=mdata[mdata.obs['louvain'].isin(['3','5','1','8','6','2'])].copy()\n",
    "cd8exh=mdata[mdata.obs['louvain'].isin(['3','5','1','8'])].copy()"
   ]
  },
  {
   "cell_type": "code",
   "execution_count": null,
   "metadata": {},
   "outputs": [],
   "source": [
    "sc.pl.umap(mdata,color=['Cluster number','characteristics: response','t_treatment','Patient'])"
   ]
  },
  {
   "cell_type": "code",
   "execution_count": null,
   "metadata": {},
   "outputs": [],
   "source": [
    "sc.pl.umap(mdata,color=['CD3D','CD8A','CD4','CD8B','IL7R','KLRF1','PIK3R1','TNFRSF18',\n",
    "                        'TCF7','SELL','CXCR5','ENTPD1','ZNF331'])"
   ]
  },
  {
   "cell_type": "code",
   "execution_count": null,
   "metadata": {},
   "outputs": [],
   "source": [
    "pret=cd8[cd8.obs['t_treatment']=='Pre'].copy() #,\n",
    "pretexh=cd8exh[cd8exh.obs['t_treatment']=='Pre'].copy() #,\n",
    "#pret=pret[pret.obs['characteristics: therapy'].isin([ 'anti-PD1'])].copy()\n",
    "#set(cdata.obs['characteristics: therapy']) , 'G7 - Regulatory Tcells' ,\n",
    "#myc=['G11 - Lymphocytes exhausted/ Cell cycle','G5 - Lymphocytes','G6 - Exhausted CD8 Tcells','G8 - Cytotoxicity','G9 - Exhausted/HS CD8 Tcells','G10 - Memory Tcell']\n",
    "#pret=pret[pret.obs['Cluster number'].isin(myc)].copy()\n"
   ]
  },
  {
   "cell_type": "code",
   "execution_count": null,
   "metadata": {},
   "outputs": [],
   "source": [
    "### Normalise the nr. cells per donor (skipped for now)\n",
    "cellnrs=bc.tl.count_occurance_subset_conditions(pret, subset_variable = 'Patient', count_variable = 't_treatment', condition_identifier = 'characteristics: response',  return_percentage = False)\n",
    "\n",
    "#int(np.min([len(temp.obs),cellnrs.transpose().median()[0]]))\n",
    "\n",
    "#### Subsample to account for distinct cell nrs. per patient\n",
    "myindex=[]\n",
    "mylen=[]\n",
    "myp=list(set(pret.obs['Patient']))\n",
    "for i in myp:\n",
    "    temp=pret[pret.obs['Patient']==i].copy()\n",
    "    mylen.append(len(temp))\n",
    "    sc.pp.subsample(temp,n_obs=int(np.min([len(temp.obs),cellnrs.transpose().mean()[0]])))\n",
    "    myindex.append(temp.obs.index.values)\n",
    "\n",
    "flatten=lambda l: [item for myindex in l for item in myindex]\n",
    "\n",
    "pret=pret[flatten(myindex)]\n"
   ]
  },
  {
   "cell_type": "code",
   "execution_count": null,
   "metadata": {},
   "outputs": [],
   "source": [
    "sc.pl.dotplot(pret,mygoi, groupby='characteristics: response')\n",
    "\n",
    "cdata=pret.copy()\n",
    "\n"
   ]
  },
  {
   "cell_type": "code",
   "execution_count": null,
   "metadata": {},
   "outputs": [],
   "source": [
    "### treatment DE\n",
    "treatDE=bc.tl.dge.get_de(cd8,'t_treatment',topnr=5000, logfc=np.log(1.5),padj=0.1)\n",
    "### on response categories separately \n",
    "#pretDEexh=bc.tl.dge.get_de(pretexh,'characteristics: response',topnr=5000, logfc=np.log(1.5),padj=0.1)\n"
   ]
  },
  {
   "cell_type": "code",
   "execution_count": null,
   "metadata": {},
   "outputs": [],
   "source": [
    "list(treatDE['Post']['Name'])"
   ]
  },
  {
   "cell_type": "code",
   "execution_count": null,
   "metadata": {},
   "outputs": [],
   "source": [
    "list(treatDE['Pre']['Name'])"
   ]
  },
  {
   "cell_type": "code",
   "execution_count": null,
   "metadata": {},
   "outputs": [],
   "source": [
    "### on response categories separately \n",
    "pretDE=bc.tl.dge.get_de(pret,'characteristics: response',topnr=5000, logfc=np.log(1.5),padj=0.1)\n",
    "### on response categories separately \n",
    "pretDEexh=bc.tl.dge.get_de(pretexh,'characteristics: response',topnr=5000, logfc=np.log(1.5),padj=0.1)\n"
   ]
  },
  {
   "cell_type": "code",
   "execution_count": null,
   "metadata": {},
   "outputs": [],
   "source": [
    "set(pretDE['Responder']['Name']).intersection(cd8Rlen)"
   ]
  },
  {
   "cell_type": "code",
   "execution_count": null,
   "metadata": {},
   "outputs": [],
   "source": [
    "#set(pretDEexh['Responder']['Name']).intersection(cd8Rlen)"
   ]
  },
  {
   "cell_type": "code",
   "execution_count": null,
   "metadata": {},
   "outputs": [],
   "source": [
    "set(pretDE['Responder']['Name']).intersection(cd8NRlen)"
   ]
  },
  {
   "cell_type": "code",
   "execution_count": null,
   "metadata": {},
   "outputs": [],
   "source": [
    "#set(pretDEexh['Responder']['Name']).intersection(cd8NRlen)"
   ]
  },
  {
   "cell_type": "code",
   "execution_count": null,
   "metadata": {},
   "outputs": [],
   "source": [
    "len(set(pretDE['Non-responder']['Name']).intersection(cd8NRlen))"
   ]
  },
  {
   "cell_type": "code",
   "execution_count": null,
   "metadata": {},
   "outputs": [],
   "source": [
    "#len(set(pretDEexh['Non-responder']['Name']).intersection(cd8NRlen))"
   ]
  },
  {
   "cell_type": "code",
   "execution_count": null,
   "metadata": {},
   "outputs": [],
   "source": [
    "len(set(pretDE['Non-responder']['Name']).intersection(cd8Rlen))"
   ]
  },
  {
   "cell_type": "code",
   "execution_count": null,
   "metadata": {},
   "outputs": [],
   "source": [
    "#set(pretDEexh['Non-responder']['Name']).intersection(cd8Rlen)"
   ]
  },
  {
   "cell_type": "code",
   "execution_count": null,
   "metadata": {},
   "outputs": [],
   "source": [
    "set(pretDE['Non-responder']['Name']).intersection(cd8Rlen)"
   ]
  },
  {
   "cell_type": "code",
   "execution_count": null,
   "metadata": {},
   "outputs": [],
   "source": [
    "set(pretDE['Non-responder']['Name']).intersection(cd8NRlen)"
   ]
  },
  {
   "cell_type": "code",
   "execution_count": null,
   "metadata": {},
   "outputs": [],
   "source": [
    "what='characteristics: response'\n",
    "bywhat='Patient'\n",
    "average_obs,fraction_obs=bc.get_means(cdata,bywhat, what)"
   ]
  },
  {
   "cell_type": "code",
   "execution_count": null,
   "metadata": {},
   "outputs": [],
   "source": [
    "bc.pl.box_per_ind(average_obs, ['AMICA1', 'XCL1','KLRC2','SELL','TCF7', 'IL7R' ],what)"
   ]
  },
  {
   "cell_type": "code",
   "execution_count": null,
   "metadata": {},
   "outputs": [],
   "source": [
    "bc.pl.box_per_ind(average_obs, ['ATF3','DNAJA1','GZMK','DUSP2','HSPA1A','ENTPD1' ,'PDCD1','CD38','HAVCR2','ZNF331'],what)"
   ]
  },
  {
   "cell_type": "markdown",
   "metadata": {},
   "source": [
    "### CD4 T cell DE\n"
   ]
  },
  {
   "cell_type": "code",
   "execution_count": null,
   "metadata": {},
   "outputs": [],
   "source": [
    "cdata=cd4tcell.copy()\n",
    "\n",
    "#=bc.tl.dge.get_de(subdataa,'RCat',demethod='wilcoxon',topnr=5000, logfc=np.log(1.5),padj=0.1)\n",
    "### try on individual tissues separately\n",
    "b1DE=bc.tl.dge.get_de(cdata[cdata.obs['Lesion'].isin(['LN'])].copy(),'Respond',topnr=5000, logfc=np.log(1.5),padj=0.1)\n",
    "b2DE=bc.tl.dge.get_de(cdata[cdata.obs['Lesion'].isin(['Brain'])].copy(),'Respond',topnr=5000, logfc=np.log(1.5),padj=0.1)\n",
    "b3DE=bc.tl.dge.get_de(cdata[cdata.obs['Lesion'].isin(['Lung','Sinon','Subc'])].copy(),'Respond',topnr=5000, logfc=np.log(1.5),padj=0.1)\n",
    "\n",
    "allDE1=bc.tl.dge.get_de(cdata[cdata.obs['Response3'].isin(['R','NR'])],'Respond',topnr=5000, logfc=np.log(1.5),padj=0.1)\n",
    "allDE2=bc.tl.dge.get_de(cdata[cdata.obs['Response3'].isin(['TF','PD'])],'Respond',topnr=5000, logfc=np.log(1.5),padj=0.1)\n",
    "allDE=bc.tl.dge.get_de(cdata,'Respond',topnr=5000, logfc=np.log(1.5),padj=0.1)\n"
   ]
  },
  {
   "cell_type": "code",
   "execution_count": null,
   "metadata": {},
   "outputs": [],
   "source": [
    "### Intersection of all combinations\n",
    "strDE=set(b1DE['PD']['Name']).intersection(set(allDE['PD']['Name'])).intersection((set(b2DE['PD']['Name'])).intersection(set(b3DE['PD']['Name']))).intersection((set(allDE1['PD']['Name'])).intersection(set(allDE2['PD']['Name'])))\n",
    "strDE2=set(b1DE['R']['Name']).intersection(set(allDE['R']['Name'])).intersection((set(b2DE['R']['Name'])).intersection(set(b3DE['R']['Name']))).intersection((set(allDE1['R']['Name'])).intersection(set(allDE2['R']['Name'])))\n",
    "\n",
    "\n",
    "\n",
    "strDE\n",
    "\n"
   ]
  },
  {
   "cell_type": "code",
   "execution_count": null,
   "metadata": {},
   "outputs": [],
   "source": [
    "strDE2\n"
   ]
  },
  {
   "cell_type": "code",
   "execution_count": null,
   "metadata": {},
   "outputs": [],
   "source": [
    "testlist={}\n",
    "testlist['LN-both']=b1DE\n",
    "testlist['Brain-both']=b2DE\n",
    "testlist['Other-both']=b3DE\n",
    "testlist['Nadj']=allDE1\n",
    "testlist['Adj']=allDE2\n",
    "testlist['All']=allDE"
   ]
  },
  {
   "cell_type": "code",
   "execution_count": null,
   "metadata": {},
   "outputs": [],
   "source": [
    "cd4NRstr=strDE\n",
    "cd4Rstr=strDE2\n",
    "\n",
    "### Complete comparison + LN only + Brain | Others + RvsNR | PDvsTF\n",
    "strDE=set(b1DE['PD']['Name']).intersection(set(allDE['PD']['Name'])).intersection((set(b2DE['PD']['Name'])).union(set(b3DE['PD']['Name']))).intersection((set(allDE1['PD']['Name'])).union(set(allDE2['PD']['Name'])))\n",
    "strDE2=set(b1DE['R']['Name']).intersection(set(allDE['R']['Name'])).intersection((set(b2DE['R']['Name'])).union(set(b3DE['R']['Name']))).intersection((set(allDE1['R']['Name'])).union(set(allDE2['R']['Name'])))\n",
    "\n",
    "### Complete comparison + LN only | Brain | Others + RvsNR | PDvsTF\n",
    "strDE=set(allDE['PD']['Name']).intersection((set(b2DE['PD']['Name'])).union(set(b3DE['PD']['Name'])).union(set(b1DE['PD']['Name']))).intersection((set(allDE1['PD']['Name'])).union(set(allDE2['PD']['Name'])))\n",
    "strDE2=set(allDE['R']['Name']).intersection((set(b2DE['R']['Name'])).union(set(b3DE['R']['Name'])).union(set(b1DE['R']['Name']))).intersection((set(allDE1['R']['Name'])).union(set(allDE2['R']['Name'])))\n",
    "\n",
    "\n",
    "strDE\n"
   ]
  },
  {
   "cell_type": "code",
   "execution_count": null,
   "metadata": {},
   "outputs": [],
   "source": [
    "strDE2\n"
   ]
  },
  {
   "cell_type": "code",
   "execution_count": null,
   "metadata": {},
   "outputs": [],
   "source": [
    "cd4NRlen=strDE\n",
    "cd4Rlen=strDE2\n",
    "gchoice=list(cd4Rstr)\n",
    "\n",
    "sc.pl.stacked_violin(cdata,var_names=gchoice, \n",
    "                     groupby='RCat',use_raw=True)\n",
    "\n"
   ]
  },
  {
   "cell_type": "code",
   "execution_count": null,
   "metadata": {
    "scrolled": true
   },
   "outputs": [],
   "source": [
    "sc.pl.dotplot(cdata,var_names=gchoice,groupby='RCat',use_raw=True)\n"
   ]
  },
  {
   "cell_type": "code",
   "execution_count": null,
   "metadata": {},
   "outputs": [],
   "source": [
    "rhigh={}\n",
    "for i in list(cd4Rlen):\n",
    "    comp=[0] * len(testlist)\n",
    "    k=0\n",
    "    for j in testlist.keys():\n",
    "        if len(set([i]).intersection(set(testlist[j]['R']['Name'])))>0: comp[k]=1\n",
    "        k=k+1\n",
    "    rhigh[i]=comp\n",
    "rhigh=pd.DataFrame(rhigh)\n",
    "rhigh.index=testlist.keys()\n",
    "\n",
    "nrhigh={}\n",
    "for i in list(cd4NRlen):\n",
    "    comp=[0] * len(testlist)\n",
    "    k=0\n",
    "    for j in testlist.keys():\n",
    "        if len(set([i]).intersection(set(testlist[j]['PD']['Name'])))>0: comp[k]=1\n",
    "        k=k+1\n",
    "    nrhigh[i]=comp\n",
    "nrhigh=pd.DataFrame(nrhigh)\n",
    "nrhigh.index=testlist.keys()\n",
    "\n",
    "nrhigh.transpose().to_csv(figdir+'DEanalysis_wilcoxon.cd4tcells-TILonly.NRhigh.tsv',sep='\\t')\n",
    "rhigh.transpose().to_csv(figdir+'DEanalysis_wilcoxon.cd4tcells-TILonly.Rhigh.tsv',sep='\\t')"
   ]
  },
  {
   "cell_type": "markdown",
   "metadata": {},
   "source": [
    "### CD4 T cell DE (all)\n"
   ]
  },
  {
   "cell_type": "code",
   "execution_count": null,
   "metadata": {},
   "outputs": [],
   "source": [
    "\n",
    "\n",
    "cdata=cd4tcell.copy()\n",
    "\n",
    "#=bc.tl.dge.get_de(subdataa,'RCat',demethod='wilcoxon',topnr=5000, logfc=np.log(1.5),padj=0.1)\n",
    "### try on individual tissues separately\n",
    "b1DE=bc.tl.dge.get_de(cdata[cdata.obs['Lesion'].isin(['LN'])].copy(),'Respond',topnr=5000, logfc=np.log(1.5),padj=0.1)\n",
    "b2DE=bc.tl.dge.get_de(cdata[cdata.obs['Lesion'].isin(['Brain'])].copy(),'Respond',topnr=5000, logfc=np.log(1.5),padj=0.1)\n",
    "b3DE=bc.tl.dge.get_de(cdata[cdata.obs['Lesion'].isin(['Lung','Sinon','Subc'])].copy(),'Respond',topnr=5000, logfc=np.log(1.5),padj=0.1)\n",
    "\n",
    "allDE1=bc.tl.dge.get_de(cdata[cdata.obs['Response3'].isin(['R','NR'])],'Respond',topnr=5000, logfc=np.log(1.5),padj=0.1)\n",
    "allDE2=bc.tl.dge.get_de(cdata[cdata.obs['Response3'].isin(['TF','PD'])],'Respond',topnr=5000, logfc=np.log(1.5),padj=0.1)\n",
    "allDE=bc.tl.dge.get_de(cdata,'Respond',topnr=5000, logfc=np.log(1.5),padj=0.1)\n",
    "\n",
    "\n",
    "### Intersection of all combinations\n",
    "strDE=set(b1DE['PD']['Name']).intersection(set(allDE['PD']['Name'])).intersection((set(b2DE['PD']['Name'])).intersection(set(b3DE['PD']['Name']))).intersection((set(allDE1['PD']['Name'])).intersection(set(allDE2['PD']['Name'])))\n",
    "strDE2=set(b1DE['R']['Name']).intersection(set(allDE['R']['Name'])).intersection((set(b2DE['R']['Name'])).intersection(set(b3DE['R']['Name']))).intersection((set(allDE1['R']['Name'])).intersection(set(allDE2['R']['Name'])))\n",
    "\n",
    "\n",
    "\n",
    "strDE\n",
    "\n",
    "\n",
    "\n",
    "strDE2\n",
    "\n",
    "\n",
    "testlist={}\n",
    "testlist['LN-both']=b1DE\n",
    "testlist['Brain-both']=b2DE\n",
    "testlist['Other-both']=b3DE\n",
    "testlist['Nadj']=allDE1\n",
    "testlist['Adj']=allDE2\n",
    "testlist['All']=allDE\n",
    "\n",
    "cd4NRstr=strDE\n",
    "cd4Rstr=strDE2\n",
    "\n",
    "### Complete comparison + LN only + Brain | Others + RvsNR | PDvsTF\n",
    "strDE=set(b1DE['PD']['Name']).intersection(set(allDE['PD']['Name'])).intersection((set(b2DE['PD']['Name'])).union(set(b3DE['PD']['Name']))).intersection((set(allDE1['PD']['Name'])).union(set(allDE2['PD']['Name'])))\n",
    "strDE2=set(b1DE['R']['Name']).intersection(set(allDE['R']['Name'])).intersection((set(b2DE['R']['Name'])).union(set(b3DE['R']['Name']))).intersection((set(allDE1['R']['Name'])).union(set(allDE2['R']['Name'])))\n",
    "\n",
    "strDE\n",
    "\n",
    "\n",
    "strDE2\n",
    "\n",
    "\n",
    "cd4NRlen=strDE\n",
    "cd4Rlen=strDE2\n",
    "gchoice=list(cd4Rstr)\n",
    "\n",
    "sc.pl.stacked_violin(cdata,var_names=gchoice, \n",
    "                     groupby='RCat',use_raw=True)\n",
    "\n",
    "\n",
    "\n",
    "sc.pl.dotplot(cdata,var_names=gchoice,groupby='RCat',use_raw=True)\n",
    "\n",
    "\n",
    "rhigh={}\n",
    "for i in list(cd4Rlen):\n",
    "    comp=[0] * len(testlist)\n",
    "    k=0\n",
    "    for j in testlist.keys():\n",
    "        if len(set([i]).intersection(set(testlist[j]['R']['Name'])))>0: comp[k]=1\n",
    "        k=k+1\n",
    "    rhigh[i]=comp\n",
    "rhigh=pd.DataFrame(rhigh)\n",
    "rhigh.index=testlist.keys()\n",
    "\n",
    "nrhigh={}\n",
    "for i in list(cd4NRlen):\n",
    "    comp=[0] * len(testlist)\n",
    "    k=0\n",
    "    for j in testlist.keys():\n",
    "        if len(set([i]).intersection(set(testlist[j]['PD']['Name'])))>0: comp[k]=1\n",
    "        k=k+1\n",
    "    nrhigh[i]=comp\n",
    "nrhigh=pd.DataFrame(nrhigh)\n",
    "nrhigh.index=testlist.keys()\n",
    "\n",
    "nrhigh.transpose().to_csv(figdir+'DEanalysis_wilcoxon.cd4tcells-TILonly.NRhigh.tsv',sep='\\t')\n",
    "rhigh.transpose().to_csv(figdir+'DEanalysis_wilcoxon.cd4tcells-TILonly.Rhigh.tsv',sep='\\t')"
   ]
  },
  {
   "cell_type": "markdown",
   "metadata": {},
   "source": [
    "### cDC1 and aDC\n",
    "\n"
   ]
  },
  {
   "cell_type": "code",
   "execution_count": null,
   "metadata": {},
   "outputs": [],
   "source": [
    "cdata=cdc1.copy()\n",
    "\n",
    "#=bc.tl.dge.get_de(subdataa,'RCat',demethod='wilcoxon',topnr=5000, logfc=np.log(1.5),padj=0.1)\n",
    "### try on individual tissues separately\n",
    "b1DE=bc.tl.dge.get_de(cdata[cdata.obs['Lesion'].isin(['LN'])].copy(),'Respond',topnr=5000, logfc=np.log(1.5),padj=0.1)\n",
    "b2DE=bc.tl.dge.get_de(cdata[cdata.obs['Lesion'].isin(['Brain'])].copy(),'Respond',topnr=5000, logfc=np.log(1.5),padj=0.1)\n",
    "b3DE=bc.tl.dge.get_de(cdata[cdata.obs['Lesion'].isin(['Lung','Sinon','Subc'])].copy(),'Respond',topnr=5000, logfc=np.log(1.5),padj=0.1)\n",
    "\n",
    "allDE1=bc.tl.dge.get_de(cdata[cdata.obs['Response3'].isin(['R','NR'])],'Respond',topnr=5000, logfc=np.log(1.5),padj=0.1)\n",
    "allDE2=bc.tl.dge.get_de(cdata[cdata.obs['Response3'].isin(['TF','PD'])],'Respond',topnr=5000, logfc=np.log(1.5),padj=0.1)\n",
    "allDE=bc.tl.dge.get_de(cdata,'Respond',topnr=5000, logfc=np.log(1.5),padj=0.1)\n",
    "\n",
    "\n",
    "### Intersection of all combinations\n",
    "strDE=set(b1DE['PD']['Name']).intersection(set(allDE['PD']['Name'])).intersection((set(b2DE['PD']['Name'])).intersection(set(b3DE['PD']['Name']))).intersection((set(allDE1['PD']['Name'])).intersection(set(allDE2['PD']['Name'])))\n",
    "strDE2=set(b1DE['R']['Name']).intersection(set(allDE['R']['Name'])).intersection((set(b2DE['R']['Name'])).intersection(set(b3DE['R']['Name']))).intersection((set(allDE1['R']['Name'])).intersection(set(allDE2['R']['Name'])))\n",
    "\n",
    "\n",
    "\n",
    "strDE\n"
   ]
  },
  {
   "cell_type": "code",
   "execution_count": null,
   "metadata": {},
   "outputs": [],
   "source": [
    "strDE2\n"
   ]
  },
  {
   "cell_type": "code",
   "execution_count": null,
   "metadata": {},
   "outputs": [],
   "source": [
    "### Complete comparison + LN only + Brain | Others + RvsNR | PDvsTF\n",
    "strDE=set(b1DE['PD']['Name']).intersection(set(allDE['PD']['Name'])).intersection((set(b2DE['PD']['Name'])).union(set(b3DE['PD']['Name']))).intersection((set(allDE1['PD']['Name'])).union(set(allDE2['PD']['Name'])))\n",
    "strDE2=set(b1DE['R']['Name']).intersection(set(allDE['R']['Name'])).intersection((set(b2DE['R']['Name'])).union(set(b3DE['R']['Name']))).intersection((set(allDE1['R']['Name'])).union(set(allDE2['R']['Name'])))\n",
    "\n",
    "### Complete comparison + LN only | Brain | Others + RvsNR | PDvsTF\n",
    "strDE=set(allDE['PD']['Name']).intersection((set(b2DE['PD']['Name'])).union(set(b3DE['PD']['Name'])).union(set(b1DE['PD']['Name']))).intersection((set(allDE1['PD']['Name'])).union(set(allDE2['PD']['Name'])))\n",
    "strDE2=set(allDE['R']['Name']).intersection((set(b2DE['R']['Name'])).union(set(b3DE['R']['Name'])).union(set(b1DE['R']['Name']))).intersection((set(allDE1['R']['Name'])).union(set(allDE2['R']['Name'])))\n",
    "\n",
    "\n",
    "strDE\n"
   ]
  },
  {
   "cell_type": "code",
   "execution_count": null,
   "metadata": {},
   "outputs": [],
   "source": [
    "strDE2\n"
   ]
  },
  {
   "cell_type": "code",
   "execution_count": null,
   "metadata": {},
   "outputs": [],
   "source": [
    "cdc1NRlen=strDE\n",
    "cdc1Rlen=strDE2\n",
    "\n",
    "sc.pl.stacked_violin(cdata,var_names=['XCR1','CLEC9A'], \n",
    "                     groupby='RCat',use_raw=True)\n",
    "\n"
   ]
  },
  {
   "cell_type": "code",
   "execution_count": null,
   "metadata": {},
   "outputs": [],
   "source": [
    "sc.pl.dotplot(cdata,var_names=gchoice,\n",
    "              groupby='RCat',use_raw=True)\n"
   ]
  },
  {
   "cell_type": "code",
   "execution_count": null,
   "metadata": {},
   "outputs": [],
   "source": [
    "testlist={}\n",
    "testlist['LN-both']=b1DE\n",
    "testlist['Brain-both']=b2DE\n",
    "testlist['Other-both']=b3DE\n",
    "testlist['Nadj']=allDE1\n",
    "testlist['Adj']=allDE2\n",
    "testlist['All']=allDE"
   ]
  },
  {
   "cell_type": "code",
   "execution_count": null,
   "metadata": {},
   "outputs": [],
   "source": [
    "rhigh={}\n",
    "for i in list(cdc1Rlen):\n",
    "    comp=[0] * len(testlist)\n",
    "    k=0\n",
    "    for j in testlist.keys():\n",
    "        if len(set([i]).intersection(set(testlist[j]['R']['Name'])))>0: comp[k]=1\n",
    "        k=k+1\n",
    "    rhigh[i]=comp\n",
    "rhigh=pd.DataFrame(rhigh)\n",
    "rhigh.index=testlist.keys()\n",
    "\n",
    "nrhigh={}\n",
    "for i in list(cdc1NRlen):\n",
    "    comp=[0] * len(testlist)\n",
    "    k=0\n",
    "    for j in testlist.keys():\n",
    "        if len(set([i]).intersection(set(testlist[j]['PD']['Name'])))>0: comp[k]=1\n",
    "        k=k+1\n",
    "    nrhigh[i]=comp\n",
    "nrhigh=pd.DataFrame(nrhigh)\n",
    "nrhigh.index=testlist.keys()\n",
    "\n",
    "#nrhigh.transpose().to_csv(figdir+'DEanalysis_wilcoxon.cdc-TILonly.NRhigh.tsv',sep='\\t')\n",
    "#rhigh.transpose().to_csv(figdir+'DEanalysis_wilcoxon.cdc-TILonly.Rhigh.tsv',sep='\\t')\n"
   ]
  },
  {
   "cell_type": "code",
   "execution_count": null,
   "metadata": {},
   "outputs": [],
   "source": [
    "rhigh"
   ]
  },
  {
   "cell_type": "code",
   "execution_count": null,
   "metadata": {},
   "outputs": [],
   "source": [
    "nrhigh"
   ]
  },
  {
   "cell_type": "code",
   "execution_count": null,
   "metadata": {},
   "outputs": [],
   "source": [
    "    subsetleg='cdc1'\n",
    "    import gseapy\n",
    "    #gseapy.get_library_name()\n",
    "    \n",
    "    dbs=['KEGG_2021_Human','GO_Biological_Process_2021','Reactome_2016',\n",
    "     'Human_Gene_Atlas','WikiPathways_2019_Human','ChEA_2016',\n",
    "     'CellMarker_Augmented_2021','Azimuth_Cell_Types_2021','COVID-19_Related_Gene_Sets_2021',\n",
    "     'MSigDB_Hallmark_2020']\n",
    "    cdata.raw.var['MeanExpr']=cdata.raw.X.mean(axis=0).tolist()[0]\n",
    "    for j in dbs:\n",
    "        if (len(list(rhigh.columns))>10):\n",
    "            gseapy.enrichr(gene_list=list(list(rhigh.columns)), \n",
    "                           description='DEanalysis_wilcoxon.'+subsetleg+'-TILonly.Rhigh.tsv', \n",
    "                   gene_sets=j, background=list(cdata.raw.var.loc[cdata.raw.var['MeanExpr']>0.01]['SYMBOL']),cutoff=0.05, format='png',outdir=figdir+'enrichr/'+subsetleg+'-TILonly.Rhigh/')\n",
    "        if (len(list(nrhigh.columns))>10):\n",
    "            gseapy.enrichr(gene_list=list(list(nrhigh.columns)), description='DEanalysis_wilcoxon.'+subsetleg+'-TILonly.NRhigh.tsv', \n",
    "                   gene_sets=j, background=list(cdata.raw.var.loc[cdata.raw.var['MeanExpr']>0.01]['SYMBOL']),cutoff=0.05, format='png',outdir=figdir+'enrichr/'+subsetleg+'-TILonly.NRhigh/')"
   ]
  },
  {
   "cell_type": "markdown",
   "metadata": {},
   "source": [
    "### cDC DE\n"
   ]
  },
  {
   "cell_type": "code",
   "execution_count": null,
   "metadata": {},
   "outputs": [],
   "source": [
    "cdata=cdc.copy()\n",
    "\n",
    "#=bc.tl.dge.get_de(subdataa,'RCat',demethod='wilcoxon',topnr=5000, logfc=np.log(1.5),padj=0.1)\n",
    "### try on individual tissues separately\n",
    "b1DE=bc.tl.dge.get_de(cdata[cdata.obs['Lesion'].isin(['LN'])].copy(),'Respond',topnr=5000, logfc=np.log(1.5),padj=0.1)\n",
    "b2DE=bc.tl.dge.get_de(cdata[cdata.obs['Lesion'].isin(['Brain'])].copy(),'Respond',topnr=5000, logfc=np.log(1.5),padj=0.1)\n",
    "b3DE=bc.tl.dge.get_de(cdata[cdata.obs['Lesion'].isin(['Lung','Sinon','Subc'])].copy(),'Respond',topnr=5000, logfc=np.log(1.5),padj=0.1)\n",
    "\n",
    "allDE1=bc.tl.dge.get_de(cdata[cdata.obs['Response3'].isin(['R','NR'])],'Respond',topnr=5000, logfc=np.log(1.5),padj=0.1)\n",
    "allDE2=bc.tl.dge.get_de(cdata[cdata.obs['Response3'].isin(['TF','PD'])],'Respond',topnr=5000, logfc=np.log(1.5),padj=0.1)\n",
    "allDE=bc.tl.dge.get_de(cdata,'Respond',topnr=5000, logfc=np.log(1.5),padj=0.1)\n",
    "\n",
    "\n",
    "### Intersection of all combinations\n",
    "strDE=set(b1DE['PD']['Name']).intersection(set(allDE['PD']['Name'])).intersection((set(b2DE['PD']['Name'])).intersection(set(b3DE['PD']['Name']))).intersection((set(allDE1['PD']['Name'])).intersection(set(allDE2['PD']['Name'])))\n",
    "strDE2=set(b1DE['R']['Name']).intersection(set(allDE['R']['Name'])).intersection((set(b2DE['R']['Name'])).intersection(set(b3DE['R']['Name']))).intersection((set(allDE1['R']['Name'])).intersection(set(allDE2['R']['Name'])))\n",
    "\n",
    "\n",
    "\n",
    "strDE\n"
   ]
  },
  {
   "cell_type": "code",
   "execution_count": null,
   "metadata": {},
   "outputs": [],
   "source": [
    "strDE2\n"
   ]
  },
  {
   "cell_type": "code",
   "execution_count": null,
   "metadata": {},
   "outputs": [],
   "source": [
    "cdcNRstr=strDE\n",
    "cdcRstr=strDE2\n"
   ]
  },
  {
   "cell_type": "code",
   "execution_count": null,
   "metadata": {},
   "outputs": [],
   "source": [
    "### Complete comparison + LN only + Brain | Others + RvsNR | PDvsTF\n",
    "strDE=set(b1DE['PD']['Name']).intersection(set(allDE['PD']['Name'])).intersection((set(b2DE['PD']['Name'])).union(set(b3DE['PD']['Name']))).intersection((set(allDE1['PD']['Name'])).union(set(allDE2['PD']['Name'])))\n",
    "strDE2=set(b1DE['R']['Name']).intersection(set(allDE['R']['Name'])).intersection((set(b2DE['R']['Name'])).union(set(b3DE['R']['Name']))).intersection((set(allDE1['R']['Name'])).union(set(allDE2['R']['Name'])))\n",
    "\n",
    "### Complete comparison + LN only | Brain | Others + RvsNR | PDvsTF\n",
    "strDE=set(allDE['PD']['Name']).intersection((set(b2DE['PD']['Name'])).union(set(b3DE['PD']['Name'])).union(set(b1DE['PD']['Name']))).intersection((set(allDE1['PD']['Name'])).union(set(allDE2['PD']['Name'])))\n",
    "strDE2=set(allDE['R']['Name']).intersection((set(b2DE['R']['Name'])).union(set(b3DE['R']['Name'])).union(set(b1DE['R']['Name']))).intersection((set(allDE1['R']['Name'])).union(set(allDE2['R']['Name'])))\n",
    "\n",
    "\n",
    "strDE\n"
   ]
  },
  {
   "cell_type": "code",
   "execution_count": null,
   "metadata": {},
   "outputs": [],
   "source": [
    "strDE2\n"
   ]
  },
  {
   "cell_type": "code",
   "execution_count": null,
   "metadata": {},
   "outputs": [],
   "source": [
    "testlist={}\n",
    "testlist['LN-both']=b1DE\n",
    "testlist['Brain-both']=b2DE\n",
    "testlist['Other-both']=b3DE\n",
    "testlist['Nadj']=allDE1\n",
    "testlist['Adj']=allDE2\n",
    "testlist['All']=allDE"
   ]
  },
  {
   "cell_type": "code",
   "execution_count": null,
   "metadata": {},
   "outputs": [],
   "source": [
    "cdcNRlen=strDE\n",
    "cdcRlen=strDE2\n",
    "gchoice=list(cdcRlen)\n",
    "\n",
    "sc.pl.stacked_violin(cdata,var_names=gchoice, \n",
    "                     groupby='RCat',use_raw=True)\n"
   ]
  },
  {
   "cell_type": "code",
   "execution_count": null,
   "metadata": {},
   "outputs": [],
   "source": [
    "sc.pl.dotplot(cdata,var_names=gchoice,groupby='RCat',use_raw=True)\n"
   ]
  },
  {
   "cell_type": "code",
   "execution_count": null,
   "metadata": {},
   "outputs": [],
   "source": [
    "allDE['PD'].index=list(allDE['PD']['Name'])\n",
    "allDE['PD'].loc[list(strDE),:].sort_values('Log2FC',ascending=False)"
   ]
  },
  {
   "cell_type": "code",
   "execution_count": null,
   "metadata": {},
   "outputs": [],
   "source": [
    "allDE['R'].index=list(allDE['R']['Name'])\n",
    "allDE['R'].loc[list(strDE2),:].sort_values('Log2FC',ascending=False)"
   ]
  },
  {
   "cell_type": "code",
   "execution_count": null,
   "metadata": {},
   "outputs": [],
   "source": [
    "#allDE['PD'].loc[list(strDE),:].sort_values('Log2FC',ascending=False).to_csv(figdir+'DEanalysis_wilcoxon.cdc-TILonly.NRhigh.tsv',sep='\\t')\n",
    "#allDE['R'].loc[list(strDE2),:].sort_values('Log2FC',ascending=False).to_csv(figdir+'DEanalysis_wilcoxon.cdc-TILonly.Rhigh.tsv',sep='\\t')"
   ]
  },
  {
   "cell_type": "code",
   "execution_count": null,
   "metadata": {},
   "outputs": [],
   "source": [
    "rhigh={}\n",
    "for i in list(cdcRlen):\n",
    "    comp=[0] * len(testlist)\n",
    "    k=0\n",
    "    for j in testlist.keys():\n",
    "        if len(set([i]).intersection(set(testlist[j]['R']['Name'])))>0: comp[k]=1\n",
    "        k=k+1\n",
    "    rhigh[i]=comp\n",
    "rhigh=pd.DataFrame(rhigh)\n",
    "rhigh.index=testlist.keys()\n",
    "\n",
    "nrhigh={}\n",
    "for i in list(cdcNRlen):\n",
    "    comp=[0] * len(testlist)\n",
    "    k=0\n",
    "    for j in testlist.keys():\n",
    "        if len(set([i]).intersection(set(testlist[j]['PD']['Name'])))>0: comp[k]=1\n",
    "        k=k+1\n",
    "    nrhigh[i]=comp\n",
    "nrhigh=pd.DataFrame(nrhigh)\n",
    "nrhigh.index=testlist.keys()\n",
    "\n",
    "#nrhigh.transpose().to_csv(figdir+'DEanalysis_wilcoxon.cdc-TILonly.NRhigh.tsv',sep='\\t')\n",
    "#rhigh.transpose().to_csv(figdir+'DEanalysis_wilcoxon.cdc-TILonly.Rhigh.tsv',sep='\\t')\n",
    "\n"
   ]
  },
  {
   "cell_type": "code",
   "execution_count": null,
   "metadata": {},
   "outputs": [],
   "source": [
    "subsetleg='cdc'\n",
    "\n",
    "nrhighall=nrhigh.transpose().copy()\n",
    "nrhighall['Score']=list(allDE['PD'].loc[allDE['PD']['Name'].isin(list(nrhigh.columns)),'Score'])\n",
    "nrhighall['Log2FC']=list(allDE['PD'].loc[allDE['PD']['Name'].isin(list(nrhigh.columns)),'Log2FC'])\n",
    "nrhighall['P.adj']=list(allDE['PD'].loc[allDE['PD']['Name'].isin(list(nrhigh.columns)),'P.adj'])\n",
    "nrhighall.to_csv(figdir+'DEanalysis_wilcoxon.'+subsetleg+'-TILonly.NRhigh.tsv',sep='\\t')\n",
    "\n",
    "rhighall=rhigh.transpose().copy()\n",
    "rhighall['Score']=list(allDE['R'].loc[allDE['R']['Name'].isin(list(rhigh.columns)),'Score'])\n",
    "rhighall['Log2FC']=list(allDE['R'].loc[allDE['R']['Name'].isin(list(rhigh.columns)),'Log2FC'])\n",
    "rhighall['P.adj']=list(allDE['R'].loc[allDE['R']['Name'].isin(list(rhigh.columns)),'P.adj'])\n",
    "rhighall.to_csv(figdir+'DEanalysis_wilcoxon.'+subsetleg+'-TILonly.Rhigh.tsv',sep='\\t')\n",
    "\n",
    "genestoplotnr=list(nrhighall.loc[(nrhighall['LN-both']==1)&(nrhighall['Other-both']==1)&(nrhighall['Brain-both']==1)&(nrhighall['Nadj']==1)&(nrhighall['Adj']==1),:].index)\n",
    "genestoplotr=list(rhighall.loc[((rhighall['LN-both']==1)|(rhighall['Other-both']==1)|(rhighall['Brain-both']==1))&((rhighall['Nadj']==1)&(rhighall['Adj']==1)),:].index)"
   ]
  },
  {
   "cell_type": "code",
   "execution_count": null,
   "metadata": {},
   "outputs": [],
   "source": [
    "#mycol=['MITFP', 'MHC1','REGIO','CITRESUP','CITRESDN']\n",
    "dfc=pd.DataFrame(cdata.obs.groupby(['PatientID']).mean()).copy()\n",
    "dfc['RCat']=[cdata[cdata.obs['PatientID']==x].obs['RCat'][0] for x in list(dfc.index)]\n",
    "dfc['Mutation']=[cdata[cdata.obs['PatientID']==x].obs['Mutation'][0] for x in list(dfc.index)]\n",
    "dfc['Lesion']=[cdata[cdata.obs['PatientID']==x].obs['Lesion'][0] for x in list(dfc.index)]\n",
    "\n",
    "dfc['nr_cells']=list(bc.tl.count_occurrence(cdata,count_variable='PatientID').loc[dfc.index,'Counts'])\n",
    "\n",
    "\n",
    "mysigs=['score_Bcell_scanpy','score_NaiTcell_scanpy','TIR_NAI','SADE_B','SADE_G','TIR_CYT','TIR_EXH',\n",
    "            'score_CD4Tcell_scanpy','score_CytotoxCD8Tcell_scanpy','score_ClassMonocyte_scanpy',\n",
    "            'score_Myeloid_scanpy','score_cDC_scanpy','score_cDC_CCR7_scanpy','score_cDC1_scanpy',\n",
    "            'score_ExhCD8Tcell_scanpy','score_RegTcell_scanpy','score_Macrophage_scanpy'\n",
    "           ,'score_Macrophage_MSR1_scanpy' ,'score_Macrophage_MARCO_scanpy', 'MA-MREGDC','MA-cDC1','MA-cDC2']\n",
    "\n",
    "pwilc={}\n",
    "for myx in mysigs:\n",
    "    pwilc[myx]=stats.mannwhitneyu(list(dfc.loc[dfc.loc[:,'Mutation'].isin(['BRAF']),myx]), \n",
    "                           list(dfc.loc[dfc.loc[:,'Mutation'].isin(['NRAS']),myx]))[1]\n",
    "    plt.figure(figsize=(2,3.5))\n",
    "    sns.boxplot(x='Mutation',y=myx,data=dfc.loc[dfc.loc[:,'Mutation'].isin(['BRAF','NRAS']),:],\n",
    "            palette=color_dict_mut)\n",
    "    sns.swarmplot(x='Mutation',y=myx,data=dfc.loc[dfc.loc[:,'Mutation'].isin(['BRAF','NRAS']),:],\n",
    "             color='black')\n",
    "    #fig.figure.savefig(figdir+'/'+myx+'-per-mutation.pdf')\n",
    "\n",
    "#pd.Series(pwilc).sort_values().to_csv(figdir+'/Signatures-per-mutation-pvals.csv')\n",
    "pd.Series(pwilc).sort_values()"
   ]
  },
  {
   "cell_type": "code",
   "execution_count": null,
   "metadata": {},
   "outputs": [],
   "source": [
    "pwilc={}\n",
    "for myx in mysigs:\n",
    "    pwilc[myx]=stats.mannwhitneyu(list(dfc.loc[dfc.loc[:,'RCat'].isin(['R','TF']),myx]), \n",
    "                           list(dfc.loc[dfc.loc[:,'RCat'].isin(['NR_adj','NR_nadj']),myx]))[1]\n",
    "    plt.figure(figsize=(3.5,3.5))\n",
    "    sns.boxplot(x='RCat',y=myx,data=dfc.loc[dfc.loc[:,'RCat'].isin(['R','TF','NR_adj','NR_nadj']),:],\n",
    "            palette=color_dict,order=['R','TF','NR_nadj','NR_adj'])\n",
    "    sns.swarmplot(x='RCat',y=myx,data=dfc.loc[dfc.loc[:,'RCat'].isin(['R','TF','NR_adj','NR_nadj']),:],\n",
    "             color='black',order=['R','TF','NR_nadj','NR_adj'])\n",
    "#    fig.figure.savefig(figdir+'/Signatures-per-response.pdf')\n",
    "\n",
    "#pd.Series(pwilc).sort_values().to_csv(figdir+'/Signatures-per-response-pvals.csv')\n",
    "pd.Series(pwilc).sort_values()"
   ]
  },
  {
   "cell_type": "code",
   "execution_count": null,
   "metadata": {},
   "outputs": [],
   "source": [
    "what='RCat'\n",
    "bywhat='PatientID'\n",
    "average_obs,fraction_obs=bc.get_means(cdata,bywhat, what)\n",
    "\n"
   ]
  },
  {
   "cell_type": "code",
   "execution_count": null,
   "metadata": {},
   "outputs": [],
   "source": [
    "bc.pl.box_per_ind(average_obs, ['MIF','GRN', 'PLAUR' ],what)"
   ]
  },
  {
   "cell_type": "code",
   "execution_count": null,
   "metadata": {},
   "outputs": [],
   "source": [
    "bc.pl.box_per_ind(average_obs, ['BTLA','LGALS9', 'CD83','AKIRIN2','WDR74'],what)"
   ]
  },
  {
   "cell_type": "code",
   "execution_count": null,
   "metadata": {},
   "outputs": [],
   "source": [
    "bc.pl.box_per_ind(average_obs, ['CD80',\n",
    "  'RELB',\n",
    "  'RELA',\n",
    "  'CD274',\n",
    "  'PDCD1LG2',\n",
    "  'CD200',\n",
    "  'FAS',\n",
    "  'SOCS1',\n",
    "  'SOCS2',\n",
    "  'ALDH1A2'],what)"
   ]
  },
  {
   "cell_type": "code",
   "execution_count": null,
   "metadata": {},
   "outputs": [],
   "source": [
    "\n",
    "sc.pl.matrixplot(cdata,var_names=genestoplotr,\n",
    "                 standard_scale='var',groupby='RCat',use_raw=True)\n"
   ]
  },
  {
   "cell_type": "code",
   "execution_count": null,
   "metadata": {},
   "outputs": [],
   "source": [
    "sc.pl.matrixplot(cdata,var_names=genestoplotnr,\n",
    "                 standard_scale='var',groupby='RCat',use_raw=True)\n"
   ]
  },
  {
   "cell_type": "code",
   "execution_count": null,
   "metadata": {},
   "outputs": [],
   "source": [
    "sc.pl.umap(dcdata, color=['CD83', 'SELK','ATF3','ZNF331'], color_map='viridis')"
   ]
  },
  {
   "cell_type": "code",
   "execution_count": null,
   "metadata": {},
   "outputs": [],
   "source": [
    "sc.pl.umap(dcdata, color=['WDR74', 'IFITM1','SPP1','PLAC8'], color_map='viridis')"
   ]
  },
  {
   "cell_type": "code",
   "execution_count": null,
   "metadata": {},
   "outputs": [],
   "source": [
    "    subsetleg='cdc'\n",
    "    import gseapy\n",
    "    #gseapy.get_library_name()\n",
    "    \n",
    "    dbs=['KEGG_2021_Human','GO_Biological_Process_2021','Reactome_2016',\n",
    "     'Human_Gene_Atlas','WikiPathways_2019_Human','ChEA_2016',\n",
    "     'CellMarker_Augmented_2021','Azimuth_Cell_Types_2021','COVID-19_Related_Gene_Sets_2021',\n",
    "     'MSigDB_Hallmark_2020']\n",
    "    cdata.raw.var['MeanExpr']=cdata.raw.X.mean(axis=0).tolist()[0]\n"
   ]
  },
  {
   "cell_type": "code",
   "execution_count": null,
   "metadata": {},
   "outputs": [],
   "source": [
    "    for j in dbs:\n",
    "        if (len(list(rhigh.columns))>10):\n",
    "            gseapy.enrichr(gene_list=list(rhigh.columns), \n",
    "                           description='DEanalysis_wilcoxon.dcdata-TILonly.Rhigh.tsv', \n",
    "                   gene_sets=j, background=list(cdata.raw.var.loc[cdata.raw.var['MeanExpr']>0.01]['SYMBOL']),cutoff=0.05, format='png',outdir=figdir+'enrichr/dcdata-TILonly.Rhigh/')\n",
    "        if (len(list(nrhigh.columns))>10):\n",
    "            gseapy.enrichr(gene_list=list(nrhigh.columns), description='DEanalysis_wilcoxon.dcdata-TILonly.NRhigh.tsv', \n",
    "                   gene_sets=j, background=list(cdata.raw.var.loc[cdata.raw.var['MeanExpr']>0.01]['SYMBOL']),cutoff=0.05, format='png',outdir=figdir+'enrichr/dcdata-TILonly.NRhigh/')"
   ]
  },
  {
   "cell_type": "markdown",
   "metadata": {},
   "source": [
    "### Macrophages "
   ]
  },
  {
   "cell_type": "code",
   "execution_count": null,
   "metadata": {},
   "outputs": [],
   "source": [
    "subsetleg='macro'"
   ]
  },
  {
   "cell_type": "code",
   "execution_count": null,
   "metadata": {},
   "outputs": [],
   "source": [
    "cdata=macro.copy()\n",
    "\n",
    "#=bc.tl.dge.get_de(subdataa,'RCat',demethod='wilcoxon',topnr=5000, logfc=np.log(1.5),padj=0.1)\n",
    "### try on individual tissues separately\n",
    "b1DE=bc.tl.dge.get_de(cdata[cdata.obs['Lesion'].isin(['LN'])].copy(),'Respond',topnr=5000, logfc=np.log(1.5),padj=0.1)\n",
    "b2DE=bc.tl.dge.get_de(cdata[cdata.obs['Lesion'].isin(['Brain'])].copy(),'Respond',topnr=5000, logfc=np.log(1.5),padj=0.1)\n",
    "b3DE=bc.tl.dge.get_de(cdata[cdata.obs['Lesion'].isin(['Lung','Sinon','Subc'])].copy(),'Respond',topnr=5000, logfc=np.log(1.5),padj=0.1)\n",
    "\n",
    "allDE1=bc.tl.dge.get_de(cdata[cdata.obs['Response3'].isin(['R','NR'])],'Respond',topnr=5000, logfc=np.log(1.5),padj=0.1)\n",
    "allDE2=bc.tl.dge.get_de(cdata[cdata.obs['Response3'].isin(['TF','PD'])],'Respond',topnr=5000, logfc=np.log(1.5),padj=0.1)\n",
    "allDE=bc.tl.dge.get_de(cdata,'Respond',topnr=5000, logfc=np.log(1.5),padj=0.1)\n",
    "\n",
    "\n",
    "\n",
    "### Intersection of all combinations\n",
    "strDE=set(b1DE['PD']['Name']).intersection(set(allDE['PD']['Name'])).intersection((set(b2DE['PD']['Name'])).intersection(set(b3DE['PD']['Name']))).intersection((set(allDE1['PD']['Name'])).intersection(set(allDE2['PD']['Name'])))\n",
    "strDE2=set(b1DE['R']['Name']).intersection(set(allDE['R']['Name'])).intersection((set(b2DE['R']['Name'])).intersection(set(b3DE['R']['Name']))).intersection((set(allDE1['R']['Name'])).intersection(set(allDE2['R']['Name'])))\n",
    "\n",
    "\n",
    "\n",
    "strDE\n"
   ]
  },
  {
   "cell_type": "code",
   "execution_count": null,
   "metadata": {},
   "outputs": [],
   "source": [
    "strDE2\n"
   ]
  },
  {
   "cell_type": "code",
   "execution_count": null,
   "metadata": {},
   "outputs": [],
   "source": [
    "testlist={}\n",
    "testlist['LN-both']=b1DE\n",
    "testlist['Brain-both']=b2DE\n",
    "testlist['Other-both']=b3DE\n",
    "testlist['Nadj']=allDE1\n",
    "testlist['Adj']=allDE2\n",
    "testlist['All']=allDE"
   ]
  },
  {
   "cell_type": "code",
   "execution_count": null,
   "metadata": {},
   "outputs": [],
   "source": [
    "macroNRstr=strDE\n",
    "macroRstr=strDE2\n"
   ]
  },
  {
   "cell_type": "code",
   "execution_count": null,
   "metadata": {},
   "outputs": [],
   "source": [
    "### Complete comparison + LN only + Brain | Others + RvsNR | PDvsTF\n",
    "strDE=set(b1DE['PD']['Name']).intersection(set(allDE['PD']['Name'])).intersection((set(b2DE['PD']['Name'])).union(set(b3DE['PD']['Name']))).intersection((set(allDE1['PD']['Name'])).union(set(allDE2['PD']['Name'])))\n",
    "strDE2=set(b1DE['R']['Name']).intersection(set(allDE['R']['Name'])).intersection((set(b2DE['R']['Name'])).union(set(b3DE['R']['Name']))).intersection((set(allDE1['R']['Name'])).union(set(allDE2['R']['Name'])))\n",
    "\n",
    "### Complete comparison + LN only | Brain | Others + RvsNR | PDvsTF\n",
    "strDE=set(allDE['PD']['Name']).intersection((set(b2DE['PD']['Name'])).union(set(b3DE['PD']['Name'])).union(set(b1DE['PD']['Name']))).intersection((set(allDE1['PD']['Name'])).union(set(allDE2['PD']['Name'])))\n",
    "strDE2=set(allDE['R']['Name']).intersection((set(b2DE['R']['Name'])).union(set(b3DE['R']['Name'])).union(set(b1DE['R']['Name']))).intersection((set(allDE1['R']['Name'])).union(set(allDE2['R']['Name'])))\n",
    "\n",
    "\n",
    "strDE\n"
   ]
  },
  {
   "cell_type": "code",
   "execution_count": null,
   "metadata": {},
   "outputs": [],
   "source": [
    "strDE2\n",
    "\n",
    "\n",
    "macroNRlen=strDE\n",
    "macroRlen=strDE2\n"
   ]
  },
  {
   "cell_type": "code",
   "execution_count": null,
   "metadata": {},
   "outputs": [],
   "source": [
    "rhigh={}\n",
    "for i in list(strDE2):\n",
    "    comp=[0] * len(testlist)\n",
    "    k=0\n",
    "    for j in testlist.keys():\n",
    "        if len(set([i]).intersection(set(testlist[j]['R']['Name'])))>0: comp[k]=1\n",
    "        k=k+1\n",
    "    rhigh[i]=comp\n",
    "rhigh=pd.DataFrame(rhigh)\n",
    "rhigh.index=testlist.keys()\n",
    "\n",
    "\n",
    "nrhigh={}\n",
    "for i in list(strDE):\n",
    "    comp=[0] * len(testlist)\n",
    "    k=0\n",
    "    for j in testlist.keys():\n",
    "        if len(set([i]).intersection(set(testlist[j]['PD']['Name'])))>0: comp[k]=1\n",
    "        k=k+1\n",
    "    nrhigh[i]=comp\n",
    "nrhigh=pd.DataFrame(nrhigh)\n",
    "nrhigh.index=testlist.keys()\n",
    "\n",
    "\n",
    "nrhighall=nrhigh.transpose().copy()\n",
    "nrhighall['Score']=list(allDE['PD'].loc[allDE['PD']['Name'].isin(list(nrhigh.columns)),'Score'])\n",
    "nrhighall['Log2FC']=list(allDE['PD'].loc[allDE['PD']['Name'].isin(list(nrhigh.columns)),'Log2FC'])\n",
    "nrhighall['P.adj']=list(allDE['PD'].loc[allDE['PD']['Name'].isin(list(nrhigh.columns)),'P.adj'])\n",
    "nrhighall.to_csv(figdir+'DEanalysis_wilcoxon.'+subsetleg+'-TILonly.NRhigh.tsv',sep='\\t')\n",
    "\n",
    "rhighall=rhigh.transpose().copy()\n",
    "rhighall['Score']=list(allDE['R'].loc[allDE['R']['Name'].isin(list(rhigh.columns)),'Score'])\n",
    "rhighall['Log2FC']=list(allDE['R'].loc[allDE['R']['Name'].isin(list(rhigh.columns)),'Log2FC'])\n",
    "rhighall['P.adj']=list(allDE['R'].loc[allDE['R']['Name'].isin(list(rhigh.columns)),'P.adj'])\n",
    "rhighall.to_csv(figdir+'DEanalysis_wilcoxon.'+subsetleg+'-TILonly.Rhigh.tsv',sep='\\t')\n",
    "\n",
    "genestoplotnr=list(nrhighall.loc[(nrhighall['LN-both']==1)&(nrhighall['Other-both']==1)&(nrhighall['Brain-both']==1)&(nrhighall['Nadj']==1)&(nrhighall['Adj']==1),:].index)\n",
    "genestoplotr=list(rhighall.loc[((rhighall['LN-both']==1)|(rhighall['Other-both']==1)|(rhighall['Brain-both']==1))&((rhighall['Nadj']==1)&(rhighall['Adj']==1)),:].index)"
   ]
  },
  {
   "cell_type": "code",
   "execution_count": null,
   "metadata": {},
   "outputs": [],
   "source": [
    "genestoplotr"
   ]
  },
  {
   "cell_type": "code",
   "execution_count": null,
   "metadata": {},
   "outputs": [],
   "source": [
    "sc.pl.matrixplot(cdata,var_names=genestoplotnr,\n",
    "                 standard_scale='var',groupby='RCat',use_raw=True)\n"
   ]
  },
  {
   "cell_type": "code",
   "execution_count": null,
   "metadata": {},
   "outputs": [],
   "source": [
    "sc.pl.matrixplot(cdata,var_names=genestoplotr,\n",
    "                 standard_scale='var',groupby='RCat',use_raw=True)"
   ]
  },
  {
   "cell_type": "code",
   "execution_count": null,
   "metadata": {},
   "outputs": [],
   "source": []
  },
  {
   "cell_type": "code",
   "execution_count": null,
   "metadata": {},
   "outputs": [],
   "source": [
    "sc.pl.umap(macrodata, color=['IFITM2', 'MT1F', 'FCN1', 'LILRA3', \n",
    "                             'GPR183', 'ZNF331','SIK1'], color_map='viridis')"
   ]
  },
  {
   "cell_type": "code",
   "execution_count": null,
   "metadata": {},
   "outputs": [],
   "source": [
    "what='RCat'\n",
    "bywhat='PatientID'\n",
    "average_obs,fraction_obs=bc.get_means(cdata,bywhat, what)\n"
   ]
  },
  {
   "cell_type": "code",
   "execution_count": null,
   "metadata": {},
   "outputs": [],
   "source": [
    "bc.pl.box_per_ind(average_obs, ['ZNF331','CCL3', 'CCL4' , 'ATF', 'SIK1'],what)"
   ]
  },
  {
   "cell_type": "code",
   "execution_count": null,
   "metadata": {
    "scrolled": true
   },
   "outputs": [],
   "source": [
    "rhighall"
   ]
  },
  {
   "cell_type": "markdown",
   "metadata": {},
   "source": [
    "### Gene set enrichment analysis "
   ]
  },
  {
   "cell_type": "code",
   "execution_count": null,
   "metadata": {},
   "outputs": [],
   "source": [
    "    import gseapy\n",
    "    #gseapy.get_library_name()\n",
    "    \n",
    "    dbs=['KEGG_2021_Human','GO_Biological_Process_2021','Reactome_2016',\n",
    "     'Human_Gene_Atlas','WikiPathways_2019_Human','ChEA_2016',\n",
    "     'CellMarker_Augmented_2021','Azimuth_Cell_Types_2021','COVID-19_Related_Gene_Sets_2021',\n",
    "     'MSigDB_Hallmark_2020']\n",
    "    macro.raw.var['MeanExpr']=macro.raw.X.mean(axis=0).tolist()[0]\n",
    "    for j in dbs:\n",
    "        if (len(list(rhigh.columns))>10):\n",
    "            gseapy.enrichr(gene_list=list(list(rhigh.columns)), \n",
    "                           description='DEanalysis_wilcoxon.macro-TILonly.Rhigh.tsv', \n",
    "                   gene_sets=j, background=list(macro.raw.var.loc[macro.raw.var['MeanExpr']>0.01]['SYMBOL']),cutoff=0.05, format='png',outdir=figdir+'enrichr/macro-TILonly.Rhigh/')\n",
    "        if (len(list(nrhigh.columns))>10):\n",
    "            gseapy.enrichr(gene_list=list(list(nrhigh.columns)), description='DEanalysis_wilcoxon.macro-TILonly.NRhigh.tsv', \n",
    "                   gene_sets=j, background=list(macro.raw.var.loc[macro.raw.var['MeanExpr']>0.01]['SYMBOL']),cutoff=0.05, format='png',outdir=figdir+'enrichr/macro-TILonly.NRhigh/')"
   ]
  },
  {
   "cell_type": "markdown",
   "metadata": {},
   "source": [
    "### Myeloids"
   ]
  },
  {
   "cell_type": "code",
   "execution_count": null,
   "metadata": {},
   "outputs": [],
   "source": [
    "set(tildata.obs['celltype1'])"
   ]
  },
  {
   "cell_type": "code",
   "execution_count": null,
   "metadata": {},
   "outputs": [],
   "source": [
    "subsetleg='Myeloid'"
   ]
  },
  {
   "cell_type": "code",
   "execution_count": null,
   "metadata": {},
   "outputs": [],
   "source": [
    "cdata=tildata[tildata.obs['celltype1']!='myeloid leukocyte'].copy()\n",
    "#=bc.tl.dge.get_de(subdataa,'RCat',demethod='wilcoxon',topnr=5000, logfc=np.log(1.5),padj=0.1)\n",
    "### try on individual tissues separately\n",
    "b1DE=bc.tl.dge.get_de(cdata[cdata.obs['Lesion'].isin(['LN'])].copy(),'Respond',topnr=5000, logfc=np.log(1.5),padj=0.1)\n",
    "b2DE=bc.tl.dge.get_de(cdata[cdata.obs['Lesion'].isin(['Brain'])].copy(),'Respond',topnr=5000, logfc=np.log(1.5),padj=0.1)\n",
    "b3DE=bc.tl.dge.get_de(cdata[cdata.obs['Lesion'].isin(['Lung','Sinon','Subc'])].copy(),'Respond',topnr=5000, logfc=np.log(1.5),padj=0.1)\n"
   ]
  },
  {
   "cell_type": "code",
   "execution_count": null,
   "metadata": {},
   "outputs": [],
   "source": [
    "### on response categories separately \n",
    "allDE1=bc.tl.dge.get_de(cdata[cdata.obs['Response3'].isin(['R','NR'])],'Respond',topnr=5000, logfc=np.log(1.5),padj=0.1)\n",
    "allDE2=bc.tl.dge.get_de(cdata[cdata.obs['Response3'].isin(['TF','PD'])],'Respond',topnr=5000, logfc=np.log(1.5),padj=0.1)\n",
    "allDE=bc.tl.dge.get_de(cdata,'Respond',topnr=5000, logfc=np.log(1.5),padj=0.1)\n"
   ]
  },
  {
   "cell_type": "code",
   "execution_count": null,
   "metadata": {},
   "outputs": [],
   "source": [
    "testlist={}\n",
    "testlist['LN-both']=b1DE\n",
    "testlist['Brain-both']=b2DE\n",
    "testlist['Other-both']=b3DE\n",
    "testlist['Nadj']=allDE1\n",
    "testlist['Adj']=allDE2\n",
    "testlist['All']=allDE\n",
    "### Intersection of all combinations\n",
    "### Complete comparison + LN only + Brain | Others + RvsNR | PDvsTF\n",
    "strDE=set(b1DE['PD']['Name']).intersection(set(allDE['PD']['Name'])).intersection((set(b2DE['PD']['Name'])).union(set(b3DE['PD']['Name']))).intersection((set(allDE1['PD']['Name'])).union(set(allDE2['PD']['Name'])))\n",
    "strDE2=set(b1DE['R']['Name']).intersection(set(allDE['R']['Name'])).intersection((set(b2DE['R']['Name'])).union(set(b3DE['R']['Name']))).intersection((set(allDE1['R']['Name'])).union(set(allDE2['R']['Name'])))\n",
    "\n",
    "### Complete comparison + LN only + Brain | Others + RvsNR | PDvsTF\n",
    "#strDE=set(b1DE['PD']['Name']).intersection(set(allDE['PD']['Name'])).intersection((set(b2DE['PD']['Name'])).union(set(b3DE['PD']['Name']))).intersection((set(allDE1['PD']['Name'])).union(set(allDE2['PD']['Name'])))\n",
    "#strDE2=set(b1DE['R']['Name']).intersection(set(allDE['R']['Name'])).intersection((set(b2DE['R']['Name'])).union(set(b3DE['R']['Name']))).intersection((set(allDE1['R']['Name'])).union(set(allDE2['R']['Name'])))\n",
    "\n",
    "strDE\n"
   ]
  },
  {
   "cell_type": "code",
   "execution_count": null,
   "metadata": {},
   "outputs": [],
   "source": [
    "strDE2"
   ]
  },
  {
   "cell_type": "code",
   "execution_count": null,
   "metadata": {},
   "outputs": [],
   "source": [
    "myeloNRstr=strDE\n",
    "myeloRstr=strDE2\n",
    "\n",
    "\n",
    "\n",
    "### Complete comparison + LN only | Brain | Others + RvsNR | PDvsTF\n",
    "strDE=set(allDE['PD']['Name']).intersection((set(b2DE['PD']['Name'])).union(set(b3DE['PD']['Name'])).union(set(b1DE['PD']['Name']))).intersection((set(allDE1['PD']['Name'])).union(set(allDE2['PD']['Name'])))\n",
    "strDE2=set(allDE['R']['Name']).intersection((set(b2DE['R']['Name'])).union(set(b3DE['R']['Name'])).union(set(b1DE['R']['Name']))).intersection((set(allDE1['R']['Name'])).union(set(allDE2['R']['Name'])))\n",
    "\n",
    "\n",
    "strDE\n",
    "\n",
    "\n",
    "strDE2\n",
    "\n",
    "\n",
    "myeloNRlen=strDE\n",
    "myeloRlen=strDE2"
   ]
  },
  {
   "cell_type": "code",
   "execution_count": null,
   "metadata": {},
   "outputs": [],
   "source": [
    "rhigh={}\n",
    "for i in list(strDE2):\n",
    "    comp=[0] * len(testlist)\n",
    "    k=0\n",
    "    for j in testlist.keys():\n",
    "        if len(set([i]).intersection(set(testlist[j]['R']['Name'])))>0: comp[k]=1\n",
    "        k=k+1\n",
    "    rhigh[i]=comp\n",
    "rhigh=pd.DataFrame(rhigh)\n",
    "rhigh.index=testlist.keys()\n",
    "\n",
    "\n",
    "nrhigh={}\n",
    "for i in list(strDE):\n",
    "    comp=[0] * len(testlist)\n",
    "    k=0\n",
    "    for j in testlist.keys():\n",
    "        if len(set([i]).intersection(set(testlist[j]['PD']['Name'])))>0: comp[k]=1\n",
    "        k=k+1\n",
    "    nrhigh[i]=comp\n",
    "nrhigh=pd.DataFrame(nrhigh)\n",
    "nrhigh.index=testlist.keys()\n",
    "\n",
    "\n",
    "nrhighall=nrhigh.transpose().copy()\n",
    "nrhighall['Score']=list(allDE['PD'].loc[allDE['PD']['Name'].isin(list(nrhigh.columns)),'Score'])\n",
    "nrhighall['Log2FC']=list(allDE['PD'].loc[allDE['PD']['Name'].isin(list(nrhigh.columns)),'Log2FC'])\n",
    "nrhighall['P.adj']=list(allDE['PD'].loc[allDE['PD']['Name'].isin(list(nrhigh.columns)),'P.adj'])\n",
    "nrhighall.to_csv(figdir+'DEanalysis_wilcoxon.'+subsetleg+'-TILonly.NRhigh.tsv',sep='\\t')\n",
    "\n",
    "rhighall=rhigh.transpose().copy()\n",
    "rhighall['Score']=list(allDE['R'].loc[allDE['R']['Name'].isin(list(rhigh.columns)),'Score'])\n",
    "rhighall['Log2FC']=list(allDE['R'].loc[allDE['R']['Name'].isin(list(rhigh.columns)),'Log2FC'])\n",
    "rhighall['P.adj']=list(allDE['R'].loc[allDE['R']['Name'].isin(list(rhigh.columns)),'P.adj'])\n",
    "rhighall.to_csv(figdir+'DEanalysis_wilcoxon.'+subsetleg+'-TILonly.Rhigh.tsv',sep='\\t')\n"
   ]
  },
  {
   "cell_type": "code",
   "execution_count": null,
   "metadata": {},
   "outputs": [],
   "source": [
    "genestoplotnr=list(nrhighall.loc[(nrhighall['LN-both']==1)&(nrhighall['Other-both']==1)&(nrhighall['Brain-both']==1)&(nrhighall['Nadj']==1)&(nrhighall['Adj']==1),:].index)\n",
    "genestoplotr=list(rhighall.loc[((rhighall['LN-both']==1)|(rhighall['Other-both']==1)|(rhighall['Brain-both']==1))&((rhighall['Nadj']==1)&(rhighall['Adj']==1)),:].index)\n",
    "\n",
    "genestoplotr\n",
    "\n",
    "sc.pl.matrixplot(cdata,var_names=genestoplotnr,\n",
    "                 standard_scale='var',groupby='RCat',use_raw=True)\n"
   ]
  },
  {
   "cell_type": "code",
   "execution_count": null,
   "metadata": {},
   "outputs": [],
   "source": [
    "sc.pl.matrixplot(cdata,var_names=genestoplotr,\n",
    "                 standard_scale='var',groupby='RCat',use_raw=True)\n"
   ]
  },
  {
   "cell_type": "code",
   "execution_count": null,
   "metadata": {},
   "outputs": [],
   "source": [
    "sc.pl.umap(cdata, color=['IFITM2', 'MT1F', 'FCN1', 'LILRA3', \n",
    "                             'GPR183', 'ZNF331','SIK1','S100A8'], color_map='viridis')\n",
    "\n",
    "what='RCat'\n",
    "bywhat='PatientID'\n",
    "average_obs,fraction_obs=bc.get_means(cdata,bywhat, what)\n"
   ]
  },
  {
   "cell_type": "code",
   "execution_count": null,
   "metadata": {},
   "outputs": [],
   "source": [
    "\n",
    "\n",
    "bc.pl.box_per_ind(average_obs, ['ZNF331','CCL3', 'CCL4' , 'ATF', 'SIK1','S100A8'],what)\n",
    "\n",
    "rhighall"
   ]
  },
  {
   "cell_type": "code",
   "execution_count": null,
   "metadata": {},
   "outputs": [],
   "source": [
    "bc.pl.box_per_ind(average_obs, ['CXCL9'],what)"
   ]
  },
  {
   "cell_type": "code",
   "execution_count": null,
   "metadata": {},
   "outputs": [],
   "source": [
    "bc.pl.box_per_ind(fraction_obs, ['CXCL9'],what)"
   ]
  },
  {
   "cell_type": "code",
   "execution_count": null,
   "metadata": {},
   "outputs": [],
   "source": [
    "    import gseapy\n",
    "    #gseapy.get_library_name()\n",
    "    \n",
    "    dbs=['KEGG_2021_Human','GO_Biological_Process_2021','Reactome_2016',\n",
    "     'Human_Gene_Atlas','WikiPathways_2019_Human','ChEA_2016',\n",
    "     'CellMarker_Augmented_2021','Azimuth_Cell_Types_2021','COVID-19_Related_Gene_Sets_2021',\n",
    "     'MSigDB_Hallmark_2020']\n",
    "    cdata.raw.var['MeanExpr']=cdata.raw.X.mean(axis=0).tolist()[0]\n",
    "    for j in dbs:\n",
    "        if (len(list(rhigh.columns))>10):\n",
    "            gseapy.enrichr(gene_list=list(list(rhigh.columns)), \n",
    "                           description='DEanalysis_wilcoxon.myelo-TILonly.Rhigh.tsv', \n",
    "                   gene_sets=j, background=list(cdata.raw.var.loc[cdata.raw.var['MeanExpr']>0.01]['SYMBOL']),cutoff=0.05, format='png',outdir=figdir+'enrichr/myelo-TILonly.Rhigh/')\n",
    "        if (len(list(nrhigh.columns))>10):\n",
    "            gseapy.enrichr(gene_list=list(list(nrhigh.columns)), description='DEanalysis_wilcoxon.myelo-TILonly.NRhigh.tsv', \n",
    "                   gene_sets=j, background=list(cdata.raw.var.loc[cdata.raw.var['MeanExpr']>0.01]['SYMBOL']),cutoff=0.05, format='png',outdir=figdir+'enrichr/myelo-TILonly.NRhigh/')"
   ]
  },
  {
   "cell_type": "markdown",
   "metadata": {},
   "source": [
    "### all DE"
   ]
  },
  {
   "cell_type": "code",
   "execution_count": null,
   "metadata": {},
   "outputs": [],
   "source": [
    "cdata=tildata.copy()\n",
    "\n",
    "#=bc.tl.dge.get_de(subdataa,'RCat',demethod='wilcoxon',topnr=5000, logfc=np.log(1.5),padj=0.1)\n",
    "### try on individual tissues separately\n",
    "b1DE=bc.tl.dge.get_de(cdata[cdata.obs['Lesion'].isin(['LN'])].copy(),'Respond',topnr=5000, logfc=np.log(1.5),padj=0.1)\n",
    "b2DE=bc.tl.dge.get_de(cdata[cdata.obs['Lesion'].isin(['Brain'])].copy(),'Respond',topnr=5000, logfc=np.log(1.5),padj=0.1)\n",
    "b3DE=bc.tl.dge.get_de(cdata[cdata.obs['Lesion'].isin(['Lung','Sinon','Subc'])].copy(),'Respond',topnr=5000, logfc=np.log(1.5),padj=0.1)\n",
    "\n",
    "allDE1=bc.tl.dge.get_de(cdata[cdata.obs['Response3'].isin(['R','NR'])],'Respond',topnr=5000, logfc=np.log(1.5),padj=0.1)\n",
    "allDE2=bc.tl.dge.get_de(cdata[cdata.obs['Response3'].isin(['TF','PD'])],'Respond',topnr=5000, logfc=np.log(1.5),padj=0.1)\n",
    "allDE=bc.tl.dge.get_de(cdata,'Respond',topnr=5000, logfc=np.log(1.5),padj=0.1)\n",
    "\n",
    "\n",
    "### Intersection of all combinations\n",
    "strDE=set(b1DE['PD']['Name']).intersection(set(allDE['PD']['Name'])).intersection((set(b2DE['PD']['Name'])).intersection(set(b3DE['PD']['Name']))).intersection((set(allDE1['PD']['Name'])).intersection(set(allDE2['PD']['Name'])))\n",
    "strDE2=set(b1DE['R']['Name']).intersection(set(allDE['R']['Name'])).intersection((set(b2DE['R']['Name'])).intersection(set(b3DE['R']['Name']))).intersection((set(allDE1['R']['Name'])).intersection(set(allDE2['R']['Name'])))\n",
    "\n",
    "\n",
    "\n",
    "strDE\n"
   ]
  },
  {
   "cell_type": "code",
   "execution_count": null,
   "metadata": {},
   "outputs": [],
   "source": [
    "strDE2"
   ]
  },
  {
   "cell_type": "code",
   "execution_count": null,
   "metadata": {},
   "outputs": [],
   "source": [
    "\n",
    "\n",
    "\n",
    "cdcNRstr=strDE\n",
    "cdcRstr=strDE2"
   ]
  },
  {
   "cell_type": "code",
   "execution_count": null,
   "metadata": {},
   "outputs": [],
   "source": [
    "### Complete comparison + LN only + Brain | Others + RvsNR | PDvsTF\n",
    "strDE=set(b1DE['PD']['Name']).intersection(set(allDE['PD']['Name'])).intersection((set(b2DE['PD']['Name'])).union(set(b3DE['PD']['Name']))).intersection((set(allDE1['PD']['Name'])).union(set(allDE2['PD']['Name'])))\n",
    "strDE2=set(b1DE['R']['Name']).intersection(set(allDE['R']['Name'])).intersection((set(b2DE['R']['Name'])).union(set(b3DE['R']['Name']))).intersection((set(allDE1['R']['Name'])).union(set(allDE2['R']['Name'])))\n",
    "\n",
    "### Complete comparison + LN only | Brain | Others + RvsNR | PDvsTF\n",
    "strDE=set(allDE['PD']['Name']).intersection((set(b2DE['PD']['Name'])).union(set(b3DE['PD']['Name'])).union(set(b1DE['PD']['Name']))).intersection((set(allDE1['PD']['Name'])).union(set(allDE2['PD']['Name'])))\n",
    "strDE2=set(allDE['R']['Name']).intersection((set(b2DE['R']['Name'])).union(set(b3DE['R']['Name'])).union(set(b1DE['R']['Name']))).intersection((set(allDE1['R']['Name'])).union(set(allDE2['R']['Name'])))\n",
    "\n",
    "\n",
    "strDE\n"
   ]
  },
  {
   "cell_type": "code",
   "execution_count": null,
   "metadata": {},
   "outputs": [],
   "source": [
    "strDE2\n"
   ]
  },
  {
   "cell_type": "code",
   "execution_count": null,
   "metadata": {},
   "outputs": [],
   "source": [
    "testlist={}\n",
    "testlist['LN-both']=b1DE\n",
    "testlist['Brain-both']=b2DE\n",
    "testlist['Other-both']=b3DE\n",
    "testlist['Nadj']=allDE1\n",
    "testlist['Adj']=allDE2\n",
    "testlist['All']=allDE\n",
    "\n",
    "cdcNRlen=strDE\n",
    "cdcRlen=strDE2\n",
    "gchoice=list(cdcRlen)\n",
    "\n",
    "sc.pl.stacked_violin(cdata,var_names=gchoice, \n",
    "                     groupby='RCat',use_raw=True)\n"
   ]
  },
  {
   "cell_type": "code",
   "execution_count": null,
   "metadata": {},
   "outputs": [],
   "source": [
    "sc.pl.dotplot(cdata,var_names=gchoice,groupby='RCat',use_raw=True)\n",
    "\n",
    "\n",
    "allDE['PD'].index=list(allDE['PD']['Name'])\n",
    "allDE['PD'].loc[list(strDE),:].sort_values('Log2FC',ascending=False)\n",
    "\n",
    "allDE['R'].index=list(allDE['R']['Name'])\n",
    "allDE['R'].loc[list(strDE2),:].sort_values('Log2FC',ascending=False)\n",
    "\n"
   ]
  },
  {
   "cell_type": "code",
   "execution_count": null,
   "metadata": {},
   "outputs": [],
   "source": [
    "\n",
    "#allDE['PD'].loc[list(strDE),:].sort_values('Log2FC',ascending=False).to_csv(figdir+'DEanalysis_wilcoxon.cdc-TILonly.NRhigh.tsv',sep='\\t')\n",
    "#allDE['R'].loc[list(strDE2),:].sort_values('Log2FC',ascending=False).to_csv(figdir+'DEanalysis_wilcoxon.cdc-TILonly.Rhigh.tsv',sep='\\t')\n",
    "\n",
    "rhigh={}\n",
    "for i in list(cdcRlen):\n",
    "    comp=[0] * len(testlist)\n",
    "    k=0\n",
    "    for j in testlist.keys():\n",
    "        if len(set([i]).intersection(set(testlist[j]['R']['Name'])))>0: comp[k]=1\n",
    "        k=k+1\n",
    "    rhigh[i]=comp\n",
    "rhigh=pd.DataFrame(rhigh)\n",
    "rhigh.index=testlist.keys()\n",
    "\n",
    "nrhigh={}\n",
    "for i in list(cdcNRlen):\n",
    "    comp=[0] * len(testlist)\n",
    "    k=0\n",
    "    for j in testlist.keys():\n",
    "        if len(set([i]).intersection(set(testlist[j]['PD']['Name'])))>0: comp[k]=1\n",
    "        k=k+1\n",
    "    nrhigh[i]=comp\n",
    "nrhigh=pd.DataFrame(nrhigh)\n",
    "nrhigh.index=testlist.keys()\n",
    "\n",
    "#nrhigh.transpose().to_csv(figdir+'DEanalysis_wilcoxon.cdc-TILonly.NRhigh.tsv',sep='\\t')\n",
    "#rhigh.transpose().to_csv(figdir+'DEanalysis_wilcoxon.cdc-TILonly.Rhigh.tsv',sep='\\t')\n",
    "\n",
    "\n",
    "\n",
    "\n",
    "    \n"
   ]
  },
  {
   "cell_type": "code",
   "execution_count": null,
   "metadata": {},
   "outputs": [],
   "source": [
    "subsetleg='alltil'\n",
    "\n",
    "nrhighall=nrhigh.transpose().copy()\n",
    "nrhighall['Score']=list(allDE['PD'].loc[allDE['PD']['Name'].isin(list(nrhigh.columns)),'Score'])\n",
    "nrhighall['Log2FC']=list(allDE['PD'].loc[allDE['PD']['Name'].isin(list(nrhigh.columns)),'Log2FC'])\n",
    "nrhighall['P.adj']=list(allDE['PD'].loc[allDE['PD']['Name'].isin(list(nrhigh.columns)),'P.adj'])\n",
    "nrhighall.to_csv(figdir+'DEanalysis_wilcoxon.'+subsetleg+'-TILonly.NRhigh.tsv',sep='\\t')\n",
    "\n",
    "rhighall=rhigh.transpose().copy()\n",
    "rhighall['Score']=list(allDE['R'].loc[allDE['R']['Name'].isin(list(rhigh.columns)),'Score'])\n",
    "rhighall['Log2FC']=list(allDE['R'].loc[allDE['R']['Name'].isin(list(rhigh.columns)),'Log2FC'])\n",
    "rhighall['P.adj']=list(allDE['R'].loc[allDE['R']['Name'].isin(list(rhigh.columns)),'P.adj'])\n",
    "rhighall.to_csv(figdir+'DEanalysis_wilcoxon.'+subsetleg+'-TILonly.Rhigh.tsv',sep='\\t')\n",
    "\n",
    "genestoplotnr=list(nrhighall.loc[(nrhighall['LN-both']==1)&(nrhighall['Other-both']==1)&(nrhighall['Brain-both']==1)&(nrhighall['Nadj']==1)&(nrhighall['Adj']==1),:].index)\n",
    "genestoplotr=list(rhighall.loc[((rhighall['LN-both']==1)|(rhighall['Other-both']==1)|(rhighall['Brain-both']==1))&((rhighall['Nadj']==1)&(rhighall['Adj']==1)),:].index)\n",
    "\n",
    "#mycol=['MITFP', 'MHC1','REGIO','CITRESUP','CITRESDN']\n",
    "dfc=pd.DataFrame(cdata.obs.groupby(['PatientID']).mean()).copy()\n",
    "dfc['RCat']=[cdata[cdata.obs['PatientID']==x].obs['RCat'][0] for x in list(dfc.index)]\n",
    "dfc['Mutation']=[cdata[cdata.obs['PatientID']==x].obs['Mutation'][0] for x in list(dfc.index)]\n",
    "dfc['Lesion']=[cdata[cdata.obs['PatientID']==x].obs['Lesion'][0] for x in list(dfc.index)]\n",
    "\n",
    "dfc['nr_cells']=list(bc.tl.count_occurrence(cdata,count_variable='PatientID').loc[dfc.index,'Counts'])\n",
    "\n",
    "\n",
    "mysigs=['score_Bcell_scanpy','score_NaiTcell_scanpy','TIR_NAI','SADE_B','SADE_G','TIR_CYT','TIR_EXH',\n",
    "            'score_CD4Tcell_scanpy','score_CytotoxCD8Tcell_scanpy','score_ClassMonocyte_scanpy',\n",
    "            'score_Myeloid_scanpy','score_cDC_scanpy','score_cDC_CCR7_scanpy','score_cDC1_scanpy',\n",
    "            'score_ExhCD8Tcell_scanpy','score_RegTcell_scanpy','score_Macrophage_scanpy'\n",
    "           ,'score_Macrophage_MSR1_scanpy' ,'score_Macrophage_MARCO_scanpy', 'MA-MREGDC','MA-cDC1','MA-cDC2']\n",
    "\n",
    "pwilc={}\n",
    "for myx in mysigs:\n",
    "    pwilc[myx]=stats.mannwhitneyu(list(dfc.loc[dfc.loc[:,'Mutation'].isin(['BRAF']),myx]), \n",
    "                           list(dfc.loc[dfc.loc[:,'Mutation'].isin(['NRAS']),myx]))[1]\n",
    "    plt.figure(figsize=(2,3.5))\n",
    "    sns.boxplot(x='Mutation',y=myx,data=dfc.loc[dfc.loc[:,'Mutation'].isin(['BRAF','NRAS']),:],\n",
    "            palette=color_dict_mut)\n",
    "    sns.swarmplot(x='Mutation',y=myx,data=dfc.loc[dfc.loc[:,'Mutation'].isin(['BRAF','NRAS']),:],\n",
    "             color='black')\n",
    "    #fig.figure.savefig(figdir+'/'+myx+'-per-mutation.pdf')\n",
    "\n",
    "#pd.Series(pwilc).sort_values().to_csv(figdir+'/Signatures-per-mutation-pvals.csv')\n",
    "pd.Series(pwilc).sort_values()\n",
    "\n",
    "pwilc={}\n",
    "for myx in mysigs:\n",
    "    pwilc[myx]=stats.mannwhitneyu(list(dfc.loc[dfc.loc[:,'RCat'].isin(['R','TF']),myx]), \n",
    "                           list(dfc.loc[dfc.loc[:,'RCat'].isin(['NR_adj','NR_nadj']),myx]))[1]\n",
    "    plt.figure(figsize=(3.5,3.5))\n",
    "    sns.boxplot(x='RCat',y=myx,data=dfc.loc[dfc.loc[:,'RCat'].isin(['R','TF','NR_adj','NR_nadj']),:],\n",
    "            palette=color_dict,order=['R','TF','NR_nadj','NR_adj'])\n",
    "    sns.swarmplot(x='RCat',y=myx,data=dfc.loc[dfc.loc[:,'RCat'].isin(['R','TF','NR_adj','NR_nadj']),:],\n",
    "             color='black',order=['R','TF','NR_nadj','NR_adj'])\n",
    "#    fig.figure.savefig(figdir+'/Signatures-per-response.pdf')\n",
    "\n",
    "#pd.Series(pwilc).sort_values().to_csv(figdir+'/Signatures-per-response-pvals.csv')\n",
    "pd.Series(pwilc).sort_values()\n",
    "\n"
   ]
  },
  {
   "cell_type": "code",
   "execution_count": null,
   "metadata": {},
   "outputs": [],
   "source": [
    "what='RCat'\n",
    "bywhat='PatientID'\n",
    "average_obs,fraction_obs=bc.get_means(cdata,bywhat, what)\n",
    "\n",
    "\n",
    "\n",
    "bc.pl.box_per_ind(average_obs, ['CXCL9','CXCL10','IFNG','ISG15','IFI6','STAT5A' ],what)\n",
    "\n"
   ]
  },
  {
   "cell_type": "code",
   "execution_count": null,
   "metadata": {},
   "outputs": [],
   "source": [
    "bc.pl.box_per_ind(average_obs, ['CXCL9','CXCL10','MARCO' ],what)"
   ]
  },
  {
   "cell_type": "code",
   "execution_count": null,
   "metadata": {},
   "outputs": [],
   "source": [
    "bc.pl.box_per_ind(average_obs, ['AMICA1' ],what)"
   ]
  },
  {
   "cell_type": "code",
   "execution_count": null,
   "metadata": {},
   "outputs": [],
   "source": [
    "\n",
    "\n",
    "sc.pl.matrixplot(cdata,var_names=genestoplotr,\n",
    "                 standard_scale='var',groupby='RCat',use_raw=True)\n",
    "\n",
    "\n",
    "sc.pl.matrixplot(cdata,var_names=genestoplotnr,\n",
    "                 standard_scale='var',groupby='RCat',use_raw=True)\n",
    "\n",
    "\n",
    "#sc.pl.umap(dcdata, color=['CD83', 'SELK','ATF3','ZNF331'], color_map='viridis')\n",
    "\n",
    "#sc.pl.umap(dcdata, color=['WDR74', 'IFITM1','SPP1','PLAC8'], color_map='viridis')\n"
   ]
  },
  {
   "cell_type": "code",
   "execution_count": null,
   "metadata": {},
   "outputs": [],
   "source": [
    "    dbs=['KEGG_2021_Human','GO_Biological_Process_2021','Reactome_2016',\n",
    "     'Human_Gene_Atlas','WikiPathways_2019_Human','ChEA_2016',\n",
    "     'CellMarker_Augmented_2021','Azimuth_Cell_Types_2021','COVID-19_Related_Gene_Sets_2021',\n",
    "     'MSigDB_Hallmark_2020']\n",
    "    cdata.raw.var['MeanExpr']=cdata.raw.X.mean(axis=0).tolist()[0]\n",
    "\n",
    "\n",
    "    for j in dbs:\n",
    "        if (len(list(rhigh.columns))>10):\n",
    "            gseapy.enrichr(gene_list=list(rhigh.columns), \n",
    "                           description='DEanalysis_wilcoxon.alltil-TILonly.Rhigh.tsv', \n",
    "                   gene_sets=j, background=list(cdata.raw.var.loc[cdata.raw.var['MeanExpr']>0.01]['SYMBOL']),cutoff=0.05, format='png',outdir=figdir+'enrichr/alltil-TILonly.Rhigh/')\n",
    "        if (len(list(nrhigh.columns))>10):\n",
    "            gseapy.enrichr(gene_list=list(nrhigh.columns), description='DEanalysis_wilcoxon.alltil-TILonly.NRhigh.tsv', \n",
    "                   gene_sets=j, background=list(cdata.raw.var.loc[cdata.raw.var['MeanExpr']>0.01]['SYMBOL']),cutoff=0.05, format='png',outdir=figdir+'enrichr/alltil-TILonly.NRhigh/')"
   ]
  },
  {
   "cell_type": "markdown",
   "metadata": {},
   "source": [
    "#### Systematic DE per cell type"
   ]
  },
  {
   "cell_type": "code",
   "execution_count": null,
   "metadata": {},
   "outputs": [],
   "source": [
    "what"
   ]
  },
  {
   "cell_type": "code",
   "execution_count": null,
   "metadata": {},
   "outputs": [],
   "source": [
    "correct_nrs=False\n",
    "adj={}\n",
    "nadj={}\n",
    "for mycell in list(set(tildata.obs[what])):\n",
    "#for mycell in ['CD8-positive T cell','plasma cell']:\n",
    "    subdata=tildata[tildata.obs[what]==mycell].copy()\n",
    "    ### Explore the nr. cells per donor - avoid large donor-specific biases\n",
    "    if correct_nrs==True:\n",
    "        cellnrs=bc.tl.count_occurrence_subset_conditions(subdata, subset_variable = split_condition, count_variable = what, condition_identifier = condition,  return_percentage = False)\n",
    "        myindex=[]\n",
    "        mylen=[]\n",
    "        myp=list(subdata.obs[split_condition].cat.categories)\n",
    "        for i in myp:\n",
    "            temp=subdata[subdata.obs[split_condition]==i].copy()\n",
    "            mylen.append(len(temp))\n",
    "            sc.pp.subsample(temp,n_obs=int(np.min([len(temp.obs),cellnrs.transpose().mean()[0]])))\n",
    "            myindex.append(temp.obs.index.values)\n",
    "\n",
    "        flatten=lambda l: [item for myindex in l for item in myindex]\n",
    "        subdata=subdata[flatten(myindex)].copy()\n",
    "    \n",
    "    subdatana=subdata[subdata.obs['RCat'].isin(['R','NR_nadj'])].copy()\n",
    "    subdataa=subdata[subdata.obs['RCat'].isin(['TF','NR_adj'])].copy()\n",
    "    if (len(subdataa)>50):\n",
    "        adj[mycell]=bc.tl.dge.get_de(subdataa,'RCat',demethod='wilcoxon',topnr=5000, logfc=np.log(1.5),padj=0.1)\n",
    "    else:\n",
    "        adj[mycell]=[]\n",
    "    if (len(subdatana)>50):\n",
    "        nadj[mycell]=bc.tl.dge.get_de(subdatana,'RCat',demethod='wilcoxon',topnr=5000, logfc=np.log(1.5),padj=0.1)\n",
    "    else:\n",
    "        nadj[mycell]=[]"
   ]
  },
  {
   "cell_type": "code",
   "execution_count": null,
   "metadata": {},
   "outputs": [],
   "source": [
    "#nadj_lev1=nadj\n",
    "#adj_lev1=adj"
   ]
  },
  {
   "cell_type": "code",
   "execution_count": null,
   "metadata": {},
   "outputs": [],
   "source": [
    "nadj_lev2=nadj\n",
    "adj_lev2=adj"
   ]
  },
  {
   "cell_type": "code",
   "execution_count": null,
   "metadata": {},
   "outputs": [],
   "source": [
    "nadj_lev3=nadj\n",
    "adj_lev3=adj"
   ]
  },
  {
   "cell_type": "code",
   "execution_count": null,
   "metadata": {},
   "outputs": [],
   "source": [
    "list(set(tildata.obs[what]))"
   ]
  },
  {
   "cell_type": "code",
   "execution_count": null,
   "metadata": {},
   "outputs": [],
   "source": [
    "list(nadj_lev1['T cell']['R']['Name'])"
   ]
  },
  {
   "cell_type": "code",
   "execution_count": null,
   "metadata": {},
   "outputs": [],
   "source": [
    "list(adj_lev1['T cell']['TF']['Name'])"
   ]
  },
  {
   "cell_type": "code",
   "execution_count": null,
   "metadata": {},
   "outputs": [],
   "source": [
    "list(nadj_lev1['natural killer cell']['R']['Name'])"
   ]
  },
  {
   "cell_type": "code",
   "execution_count": null,
   "metadata": {},
   "outputs": [],
   "source": [
    "list(adj_lev1['natural killer cell']['TF']['Name'])"
   ]
  },
  {
   "cell_type": "code",
   "execution_count": null,
   "metadata": {},
   "outputs": [],
   "source": [
    "nadj['cytotoxic CD56-dim natural killer cell']"
   ]
  },
  {
   "cell_type": "code",
   "execution_count": null,
   "metadata": {},
   "outputs": [],
   "source": [
    "sc.pl.dotplot(adata, var_names=tops,groupby=clusters)"
   ]
  },
  {
   "cell_type": "code",
   "execution_count": null,
   "metadata": {},
   "outputs": [],
   "source": [
    "mycell='naive CD8-positive T cell'\n",
    "what='celltype2_pub'\n",
    "split_condition='PatientID'\n",
    "condition='RCat'\n",
    "subdata=tildata[tildata.obs[what]==mycell].copy()\n",
    "subdata"
   ]
  },
  {
   "cell_type": "code",
   "execution_count": null,
   "metadata": {},
   "outputs": [],
   "source": [
    "nadj['plasma cell']['R']"
   ]
  },
  {
   "cell_type": "code",
   "execution_count": null,
   "metadata": {},
   "outputs": [],
   "source": [
    "nadj['plasma cell']['R']"
   ]
  },
  {
   "cell_type": "code",
   "execution_count": null,
   "metadata": {},
   "outputs": [],
   "source": [
    "nadj['plasma cell']['NR_nadj']"
   ]
  },
  {
   "cell_type": "code",
   "execution_count": null,
   "metadata": {
    "scrolled": true
   },
   "outputs": [],
   "source": [
    "nadj['plasma cell']['NR_nadj']"
   ]
  },
  {
   "cell_type": "code",
   "execution_count": null,
   "metadata": {},
   "outputs": [],
   "source": [
    "\n",
    "\n",
    "### Select only top genes (in order of p-val) for 2 clusters and plot expression per cluster\n",
    "tops=list(DEgenes['44']['Name'][0:50])+list(DEgenes['40']['Name'][0:10])\n",
    "sc.pl.dotplot(adata, var_names=tops,groupby=clusters)"
   ]
  },
  {
   "cell_type": "code",
   "execution_count": null,
   "metadata": {},
   "outputs": [],
   "source": [
    "! jupyter nbconvert --to html Figures-part2.ipynb"
   ]
  },
  {
   "cell_type": "code",
   "execution_count": null,
   "metadata": {},
   "outputs": [],
   "source": []
  }
 ],
 "metadata": {
  "kernelspec": {
   "display_name": "besca_dev_scvelo",
   "language": "python",
   "name": "besca_dev_scvelo"
  },
  "language_info": {
   "codemirror_mode": {
    "name": "ipython",
    "version": 3
   },
   "file_extension": ".py",
   "mimetype": "text/x-python",
   "name": "python",
   "nbconvert_exporter": "python",
   "pygments_lexer": "ipython3",
   "version": "3.9.17"
  }
 },
 "nbformat": 4,
 "nbformat_minor": 2
}
