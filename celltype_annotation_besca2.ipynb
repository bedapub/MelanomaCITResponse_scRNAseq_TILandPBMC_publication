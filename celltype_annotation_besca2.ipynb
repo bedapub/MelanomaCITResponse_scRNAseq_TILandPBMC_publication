{
 "cells": [
  {
   "cell_type": "markdown",
   "metadata": {},
   "source": [
    "# Annotating Cell Types\n",
    "\n",
    "This workbook was run after the standard workflow."
   ]
  },
  {
   "cell_type": "code",
   "execution_count": null,
   "metadata": {},
   "outputs": [],
   "source": [
    "import besca as bc\n",
    "import numpy as np\n",
    "import pandas as pd\n",
    "import scanpy.api as sc\n",
    "import matplotlib.pyplot as plt\n",
    "from scipy import sparse, io\n",
    "import os\n",
    "import time\n",
    "import logging\n",
    "import seaborn as sns\n",
    "sc.logging.print_versions()\n",
    "\n",
    "# for standard processing, set verbosity to minimum\n",
    "sc.settings.verbosity = 0  # verbosity: errors (0), warnings (1), info (2), hints (3)\n",
    "sc.settings.set_figure_params(dpi=80)\n",
    "version = '2.8'\n",
    "start0 = time.time()"
   ]
  },
  {
   "cell_type": "code",
   "execution_count": null,
   "metadata": {},
   "outputs": [],
   "source": [
    "### Plot parameters for publication \n",
    "def set_pub():    \n",
    "    small_size = 10\n",
    "    medium_size = 12\n",
    "    large_size = 14\n",
    "\n",
    "    resolution = 300 #in dpi\n",
    "    plt.rcParams['font.weight'] = 'normal'\n",
    "    #plt.rc('font', **{'family':'sans-serif','sans-serif':['Helvetica']})\n",
    "    plt.rc('axes', titlesize=large_size, titleweight = \"bold\")               # fontsize of the axes title\n",
    "    plt.rc('axes', labelsize=medium_size, labelweight = \"bold\")               # fontsize of the x and y labels\n",
    "    plt.rc('xtick', labelsize=small_size)               # fontsize of the tick labels\n",
    "    plt.rc('ytick', labelsize=small_size)               # fontsize of the tick labels\n",
    "    plt.rc('legend', fontsize=small_size, title_fontsize = medium_size)               # legend fontsize\n",
    "    plt.rc('figure', titlesize=large_size, titleweight = \"bold\")              # fontsize of the figure title\n",
    "    plt.rc('savefig', dpi=resolution)                   # higher res outputs\n",
    "\n",
    "    plt.rcParams['svg.fonttype'] = 'none'\n",
    "\n",
    "\n",
    "set_pub()"
   ]
  },
  {
   "cell_type": "code",
   "execution_count": null,
   "metadata": {
    "scrolled": true
   },
   "outputs": [],
   "source": [
    "#define standardized filepaths based on above input\n",
    "root_path = os.getcwd()\n",
    "bescapath_full = os.path.dirname(bc.__file__)\n",
    "bescapath = os.path.split(bescapath_full)[0]\n",
    "\n",
    "### Uncomment this when running after the standard workflow\n",
    "analysis_name = 'sw_besca2_immune'\n",
    "\n",
    "clusters='leiden'\n"
   ]
  },
  {
   "cell_type": "markdown",
   "metadata": {},
   "source": [
    "The chunk of code below is usefull if this is the initial installation of besca and that you are running this notebook as a test. It will download if needed the test datasets and export the labelling. \n",
    "This export is usually done at the end of the standard workflow. Exported files  are necessary for the annotations."
   ]
  },
  {
   "cell_type": "code",
   "execution_count": null,
   "metadata": {},
   "outputs": [],
   "source": [
    "use_example_dataset = False\n",
    "if use_example_dataset:\n",
    "    analysis_name='pbmc3k_processed'\n",
    "    results_folder = os.path.split(os.getcwd())[0] + '/besca/datasets/data/'\n",
    "    clusters='leiden'\n",
    "    # This line will either download, or load the datasets\n",
    "    adata = bc.datasets.pbmc3k_processed()\n",
    "    # This line exports the annotation for the annotation.\n",
    "    adata = bc.st.additional_labeling(adata, labeling_to_use= clusters, labeling_name = clusters, \n",
    "                                      labeling_description = 'Exporting a postori the labels for annotation',\n",
    "                                      labeling_author = 'Testing', \n",
    "                                      results_folder= results_folder)\n",
    "else:\n",
    "    results_folder = os.path.join(root_path, 'analyzed', analysis_name)\n",
    "    adata = sc.read_h5ad(os.path.join(results_folder, analysis_name + '.h5ad') )"
   ]
  },
  {
   "cell_type": "code",
   "execution_count": null,
   "metadata": {},
   "outputs": [],
   "source": [
    "results_file = os.path.join(results_folder, analysis_name + '.annotated.h5ad')\n",
    "figdir=os.path.join(root_path, 'analyzed', analysis_name+'/figures/')\n",
    "sc.settings.figdir = figdir\n",
    "if not os.path.exists(figdir):\n",
    "    os.makedirs(figdir)"
   ]
  },
  {
   "cell_type": "code",
   "execution_count": null,
   "metadata": {},
   "outputs": [],
   "source": [
    "sc.pl.umap(adata, color= [clusters], legend_loc='on data')"
   ]
  },
  {
   "cell_type": "code",
   "execution_count": null,
   "metadata": {},
   "outputs": [],
   "source": [
    "adata.obs['PatientID']=adata.obs['PatientID'].astype('category')"
   ]
  },
  {
   "cell_type": "code",
   "execution_count": null,
   "metadata": {},
   "outputs": [],
   "source": [
    "sc.pl.umap(adata,color=['PatientID','Sample type','Adjuvant','Lesion','Stage','CD3IHC','Age','Gender'],\n",
    "           save='-variables.svg')"
   ]
  },
  {
   "cell_type": "markdown",
   "metadata": {},
   "source": [
    "### Explore top marker genes per cluster "
   ]
  },
  {
   "cell_type": "code",
   "execution_count": null,
   "metadata": {},
   "outputs": [],
   "source": [
    "DEgenes=bc.tl.dge.get_de(adata,clusters,demethod='wilcoxon',topnr=5000, logfc=1,padj=0.05)\n"
   ]
  },
  {
   "cell_type": "code",
   "execution_count": null,
   "metadata": {},
   "outputs": [],
   "source": [
    "### Select only top genes (in order of p-val) for 2 clusters and plot expression per cluster\n",
    "tops=list(DEgenes['44']['Name'][0:50])+list(DEgenes['40']['Name'][0:10])\n",
    "sc.pl.dotplot(adata, var_names=tops,groupby=clusters)"
   ]
  },
  {
   "cell_type": "code",
   "execution_count": null,
   "metadata": {},
   "outputs": [],
   "source": [
    "sc.pl.umap(adata,color=['C1QA','CCL3','IFI27','CXCL10','CST3','APOE'])"
   ]
  },
  {
   "cell_type": "markdown",
   "metadata": {},
   "source": [
    "### Explore distribution of various cell populations"
   ]
  },
  {
   "cell_type": "code",
   "execution_count": null,
   "metadata": {},
   "outputs": [],
   "source": [
    "# One can load besca-provided signatures using the function below\n",
    "signature_dict = bc.datasets.load_immune_signatures(refined=False)\n",
    "\n",
    "signature_dict"
   ]
  },
  {
   "cell_type": "markdown",
   "metadata": {},
   "source": [
    "Additionaly it is possible to read an compute scanpy score using this function below.\n",
    "\n",
    "If the gmt file is composed of combined signature (UP and DN), a common score will be computed: \n",
    "$$Total\\_SCORE= Score_{UP} - Score_{DN}$$"
   ]
  },
  {
   "cell_type": "code",
   "execution_count": null,
   "metadata": {
    "scrolled": true
   },
   "outputs": [],
   "source": [
    "\n",
    "gmt_file= bescapath + '/besca/datasets/genesets/Immune.gmt'\n",
    "bc.tl.sig.combined_signature_score(adata, gmt_file,\n",
    "                             UP_suffix='_UP', DN_suffix='_DN', method='scanpy',\n",
    "                             overwrite=False, verbose=False,\n",
    "                             use_raw=True, conversion=None)"
   ]
  },
  {
   "cell_type": "code",
   "execution_count": null,
   "metadata": {
    "scrolled": true
   },
   "outputs": [],
   "source": [
    "scores = [x for x in adata.obs.columns if 'scanpy' in x]"
   ]
  },
  {
   "cell_type": "code",
   "execution_count": null,
   "metadata": {
    "scrolled": true
   },
   "outputs": [],
   "source": [
    "sc.pl.umap(adata, color= scores)"
   ]
  },
  {
   "cell_type": "markdown",
   "metadata": {},
   "source": [
    "# Immune signatures for specific sub-populations"
   ]
  },
  {
   "cell_type": "code",
   "execution_count": null,
   "metadata": {
    "scrolled": true
   },
   "outputs": [],
   "source": [
    "## PROVIDED WITH BESCA\n",
    "gmt_file_anno= bescapath + '/besca/datasets/genesets/CellNames_scseqCMs6_sigs.gmt'\n",
    "bc.tl.sig.combined_signature_score(adata, gmt_file_anno)\n"
   ]
  },
  {
   "cell_type": "code",
   "execution_count": null,
   "metadata": {},
   "outputs": [],
   "source": [
    "scores = [x for x in adata.obs.columns if 'scanpy' in x]\n"
   ]
  },
  {
   "cell_type": "code",
   "execution_count": null,
   "metadata": {},
   "outputs": [],
   "source": [
    "sc.pl.umap(adata, color= scores, color_map = 'viridis',save='-all_CellAnnot.svg')"
   ]
  },
  {
   "cell_type": "code",
   "execution_count": null,
   "metadata": {
    "scrolled": true
   },
   "outputs": [],
   "source": [
    "sc.pl.umap(adata, color= ['score_Myeloid_scanpy','score_Bcell_scanpy',\n",
    "                          'score_Tcell_scanpy','score_CD8Tcell_scanpy',\n",
    "                          'score_CD4Tcell_scanpy','score_gdTcell_scanpy','score_NKcell_scanpy',\n",
    "                         'score_Macrophage_scanpy','score_ClassMonocyte_scanpy',\n",
    "                          'score_cDC_scanpy','score_pDC_scanpy'], \n",
    "           color_map = 'viridis',save='-all_CellAnnot_reduced.svg')"
   ]
  },
  {
   "cell_type": "markdown",
   "metadata": {
    "toc-hr-collapsed": true
   },
   "source": [
    "# Automated annotation\n",
    "\n",
    "A decision-tree-based annotation that reads signatures from a provided .gmt file and hierarchy as well as cutoffs and signature ordering from a configuration file and attributes each cell to a specific type according to signature enrichment. \n",
    "\n",
    "This is an aid to start ther annotation and annotation can then be further refined by adding further signatures or adjusting the configuration files. It was tested mainly on PBMCs and oncology (tumor biopsies) related samples.\n"
   ]
  },
  {
   "cell_type": "markdown",
   "metadata": {},
   "source": [
    "## Loading markers and signature"
   ]
  },
  {
   "cell_type": "code",
   "execution_count": null,
   "metadata": {},
   "outputs": [],
   "source": [
    "gmt_file_anno= bescapath + '/besca/datasets/genesets/CellNames_scseqCMs6_sigs.gmt'\n",
    "\n",
    "mymarkers = bc.tl.sig.read_GMT_sign(gmt_file_anno,directed=False)\n",
    "mymarkers = bc.tl.sig.filter_siggenes(adata, mymarkers) ### remove genes not present in dataset or empty signatures\n",
    "mymarkers['Ubi'] = ['B2M','ACTB', 'ZNF207', 'HNRNPK','HNRNPU'] ### used for cutoff adjustment to individual dataset, can be modified"
   ]
  },
  {
   "cell_type": "code",
   "execution_count": null,
   "metadata": {},
   "outputs": [],
   "source": [
    "#mymarkers['Ubi'] = ['B2M','ACTB', 'GAPDH']"
   ]
  },
  {
   "cell_type": "code",
   "execution_count": null,
   "metadata": {
    "scrolled": true
   },
   "outputs": [],
   "source": [
    "### Inspect gene expression for an example population\n",
    "sc.pl.umap(adata, color= mymarkers['NClassMonocyte'])"
   ]
  },
  {
   "cell_type": "code",
   "execution_count": null,
   "metadata": {},
   "outputs": [],
   "source": [
    "#sc.pl.umap(adata, color= mymarkers['cDC'])"
   ]
  },
  {
   "cell_type": "markdown",
   "metadata": {},
   "source": [
    "## Configuration of the annotation\n",
    "\n",
    "We read the configuration file, containing hierarchy, cutoff and signature priority information. \n",
    "A new version of this file should be created and maintained with each annotation. \n",
    "The included example is optimised for the annotation of the 6.6k PBMC dataset. "
   ]
  },
  {
   "cell_type": "code",
   "execution_count": null,
   "metadata": {},
   "outputs": [],
   "source": [
    "configfile=bescapath + '/besca/datasets/genesets/CellNames_scseqCMs6_config.tsv' ### replace this with your config"
   ]
  },
  {
   "cell_type": "code",
   "execution_count": null,
   "metadata": {},
   "outputs": [],
   "source": [
    "sigconfig,levsk=bc.tl.sig.read_annotconfig(configfile)"
   ]
  },
  {
   "cell_type": "code",
   "execution_count": null,
   "metadata": {},
   "outputs": [],
   "source": [
    "# The order of cells at different levels can be manually changed if needed\n",
    "#levsk[0]=['ColorectalCancer', 'Epithelial','Fibroblast','Endothelial','Erythrocyte','HematoStem',\n",
    "#          'Hepatocyte','MelMelanoma','Neural','Adipocyte','Hematopoietic','Schwann','Chondrocyte','Glial']"
   ]
  },
  {
   "cell_type": "markdown",
   "metadata": {},
   "source": [
    "#### Get an overview of the cell type hierarchy included in the configuration file"
   ]
  },
  {
   "cell_type": "code",
   "execution_count": null,
   "metadata": {},
   "outputs": [],
   "source": [
    "plt=bc.pl.nomenclature_network(configfile, font_size=8)\n",
    "plt.savefig(figdir+\"Nomenclatureplot.svg\", format=\"svg\")"
   ]
  },
  {
   "cell_type": "markdown",
   "metadata": {},
   "source": [
    "Fract_pos was exported by BESCA in the standard worflow test, \n",
    "contains information of fraction positive cells per genes per cluster.\n",
    "\n",
    "We use these values as a basis for a wilcoxon test per signature per cluster. "
   ]
  },
  {
   "cell_type": "code",
   "execution_count": null,
   "metadata": {},
   "outputs": [],
   "source": [
    "\n",
    "f=pd.read_csv(results_folder + \"/labelings/\"+clusters+\"/fract_pos.gct\",sep=\"\\t\",skiprows=2)\n",
    "df=bc.tl.sig.score_mw(f,mymarkers)\n",
    "myc=np.median(df.loc['Ubi',:]*1/3) ### Set a cutoff based on Ubi and scale with values from config file\n"
   ]
  },
  {
   "cell_type": "markdown",
   "metadata": {},
   "source": [
    "#### For an overview of highest scoring signatures, one can generate a heatmap"
   ]
  },
  {
   "cell_type": "code",
   "execution_count": null,
   "metadata": {},
   "outputs": [],
   "source": [
    "sns.clustermap(df.loc[df.max(axis=1)>myc*3,:].astype(float),figsize=(14, 10))\n",
    "plt.savefig(figdir+\"SignatureHeatmap_all.svg\", format=\"svg\")"
   ]
  },
  {
   "cell_type": "markdown",
   "metadata": {},
   "source": [
    "For each signature, positive and negative clusters are determined. Only positive clusters are maintained. Cutoffs can be individualised based on the config file (scaling factor) and myc, which is determined based on ubiquitously expressed genes. "
   ]
  },
  {
   "cell_type": "code",
   "execution_count": null,
   "metadata": {},
   "outputs": [],
   "source": [
    "df=df.drop('Ubi')"
   ]
  },
  {
   "cell_type": "code",
   "execution_count": null,
   "metadata": {},
   "outputs": [],
   "source": [
    "# Cutoffs can also be manually adjusted if needed \n",
    "sigconfig.loc['Blymphocyte','Cutoff']=3\n",
    "sigconfig.loc['Tcell','Cutoff']=3\n",
    "sigconfig.loc['CD8Tcell','Cutoff']=1.4\n",
    "sigconfig.loc['NKcell','Cutoff']=3\n",
    "sigconfig.loc['Macrophage','Cutoff']=0.95\n",
    "sigconfig.loc['cDC','Cutoff']=2.5\n",
    "sigconfig.loc['CD56dimNK','Cutoff']=3\n",
    "sigconfig.loc['CD56brightNK','Cutoff']=0.75\n",
    "sigconfig.loc['CytotoxCD8Tcell','Cutoff']=4.75\n",
    "sigconfig.loc['NaiCD4Tcell','Cutoff']=4.5\n",
    "sigconfig.loc['EMCD8Tcell','Cutoff']=4\n",
    "sigconfig.loc['Macrophage_MARCO','Cutoff']=1.75\n",
    "sigconfig.loc['Macrophage_CXCL9','Cutoff']=0.75\n",
    "sigconfig.loc['Macrophage_MSR1','Cutoff']=5\n",
    "sigconfig.loc['ProlifBcell','Cutoff']=1.5\n",
    "sigconfig.loc['NaiBcell','Cutoff']=2.5\n",
    "sigconfig.loc['MemBcell','Cutoff']=1.5\n",
    "sigconfig.loc['ExhCD8Tcell','Cutoff']=6\n",
    "sigconfig.loc['CMCD4Tcell','Cutoff']=2.5\n",
    "sigconfig.loc['Hematopoietic','Cutoff']=0.5\n",
    "sigconfig.loc['ClassMonocyte','Cutoff']=2\n",
    "sigconfig.loc['ExhBcell','Cutoff']=3\n",
    "#sigconfig.loc['Tcell','Cutoff']"
   ]
  },
  {
   "cell_type": "code",
   "execution_count": null,
   "metadata": {},
   "outputs": [],
   "source": [
    "#Cluster attribution based on cutoff\n",
    "\n",
    "sigscores={}\n",
    "for mysig in list(df.index):\n",
    "    sigscores[mysig]=bc.tl.sig.getset(df,mysig,sigconfig.loc[mysig,'Cutoff']*myc)\n",
    "    #sigscores[mysig]=bc.tl.sig.getset(df,mysig,10)"
   ]
  },
  {
   "cell_type": "markdown",
   "metadata": {},
   "source": [
    "One can inspect the cluster attribution per cell type in the signature list and adjust cutoffs as required. "
   ]
  },
  {
   "cell_type": "code",
   "execution_count": null,
   "metadata": {},
   "outputs": [],
   "source": [
    "sigscores['cDC']"
   ]
  },
  {
   "cell_type": "code",
   "execution_count": null,
   "metadata": {},
   "outputs": [],
   "source": [
    "sc.pl.umap(adata, color= [clusters], legend_loc='on data')"
   ]
  },
  {
   "cell_type": "code",
   "execution_count": null,
   "metadata": {},
   "outputs": [],
   "source": [
    "#sc.pl.umap(adata, color=['LRMP','VPREB3','LYZ','C1QA', 'APOC1','CXCL10', 'IFI27'],color_map='viridis')"
   ]
  },
  {
   "cell_type": "markdown",
   "metadata": {},
   "source": [
    "Now each cluster gets annotated, according to the distinct levels specified in the config file. \n",
    "Note that in case a cluster is positive for multiple identities, only the first one is taken, \n",
    "in the order specified in the \"Order\" column in the config file. "
   ]
  },
  {
   "cell_type": "markdown",
   "metadata": {},
   "source": [
    "To check the given order, per levels, you can inspect levsk, and adjust above as needed"
   ]
  },
  {
   "cell_type": "code",
   "execution_count": null,
   "metadata": {},
   "outputs": [],
   "source": [
    "levsk"
   ]
  },
  {
   "cell_type": "markdown",
   "metadata": {},
   "source": [
    "## Obtained cluster assignment"
   ]
  },
  {
   "cell_type": "code",
   "execution_count": null,
   "metadata": {},
   "outputs": [],
   "source": [
    "### Cell types that are not expected in the dataset can be explicity excluded from the annotation \n",
    "toexclude=['Erythrocyte','AlphaPancreatic', 'BetaPancreatic', 'DeltaPancreatic',\n",
    "           'FollicularBcell','Neural', 'ProlifBcell']\n"
   ]
  },
  {
   "cell_type": "code",
   "execution_count": null,
   "metadata": {},
   "outputs": [],
   "source": [
    "cnames=bc.tl.sig.make_anno(df,sigscores,sigconfig,levsk, toexclude=toexclude)"
   ]
  },
  {
   "cell_type": "markdown",
   "metadata": {},
   "source": [
    "We now obtained per each cluster cell type attribution at distinct levels. "
   ]
  },
  {
   "cell_type": "code",
   "execution_count": null,
   "metadata": {},
   "outputs": [],
   "source": [
    "cnames"
   ]
  },
  {
   "cell_type": "markdown",
   "metadata": {},
   "source": [
    "Export the used annotation parameters, for future reference"
   ]
  },
  {
   "cell_type": "code",
   "execution_count": null,
   "metadata": {},
   "outputs": [],
   "source": [
    "bc.tl.sig.export_annotconfig(sigconfig, levsk, results_folder, analysis_name)"
   ]
  },
  {
   "cell_type": "markdown",
   "metadata": {},
   "source": [
    "## Using db label convention\n",
    "\n",
    "Only short names were used in the signature naming convention in this case. \n",
    "One can easity tranform this to EFO terms if preferred, a conversion table comes with besca. \n",
    "\n",
    "This nomenclature is quite extended, and the function \n",
    "**obtain_dblabel** can perform the conversion."
   ]
  },
  {
   "cell_type": "code",
   "execution_count": null,
   "metadata": {},
   "outputs": [],
   "source": [
    "### transform these short forms to dblabel - EFO standard nomenclature\n",
    "cnamesDBlabel = bc.tl.sig.obtain_dblabel(bescapath+'/besca/datasets/nomenclature/CellTypes_v1.tsv', cnames )\n",
    "cnamesDBlabel"
   ]
  },
  {
   "cell_type": "code",
   "execution_count": null,
   "metadata": {},
   "outputs": [],
   "source": [
    "list(pd.read_csv(bescapath+'/besca/datasets/nomenclature/CellTypes_v1.tsv',sep='\\t')['short_dblabel'])"
   ]
  },
  {
   "cell_type": "markdown",
   "metadata": {},
   "source": [
    "Finally, one can add the new labels to adata.obs as annotation. "
   ]
  },
  {
   "cell_type": "code",
   "execution_count": null,
   "metadata": {},
   "outputs": [],
   "source": [
    "adata.obs['scelltype0']=bc.tl.sig.add_anno(adata,cnames,'celltype0',clusters)\n",
    "adata.obs['scelltype1']=bc.tl.sig.add_anno(adata,cnames,'celltype1',clusters)\n",
    "adata.obs['scelltype2']=bc.tl.sig.add_anno(adata,cnames,'celltype2',clusters)\n",
    "adata.obs['scelltype3']=bc.tl.sig.add_anno(adata,cnames,'celltype3',clusters)"
   ]
  },
  {
   "cell_type": "code",
   "execution_count": null,
   "metadata": {},
   "outputs": [],
   "source": [
    "adata.obs['celltype0']=bc.tl.sig.add_anno(adata,cnamesDBlabel,'celltype0',clusters)\n",
    "adata.obs['celltype1']=bc.tl.sig.add_anno(adata,cnamesDBlabel,'celltype1',clusters)\n",
    "adata.obs['celltype2']=bc.tl.sig.add_anno(adata,cnamesDBlabel,'celltype2',clusters)\n",
    "adata.obs['celltype3']=bc.tl.sig.add_anno(adata,cnamesDBlabel,'celltype3',clusters)"
   ]
  },
  {
   "cell_type": "code",
   "execution_count": null,
   "metadata": {},
   "outputs": [],
   "source": [
    "sc.pl.umap(adata,color=['celltype0']) #,'celltype2'"
   ]
  },
  {
   "cell_type": "markdown",
   "metadata": {},
   "source": [
    "Melanoma cells present as one sample was mixed CD45- and CD45+"
   ]
  },
  {
   "cell_type": "code",
   "execution_count": null,
   "metadata": {},
   "outputs": [],
   "source": [
    "sc.pl.umap(adata,color=['celltype1']) #,'celltype2'"
   ]
  },
  {
   "cell_type": "code",
   "execution_count": null,
   "metadata": {},
   "outputs": [],
   "source": [
    "sc.pl.umap(adata,color=['celltype2']) #,'celltype2'"
   ]
  },
  {
   "cell_type": "code",
   "execution_count": null,
   "metadata": {},
   "outputs": [],
   "source": [
    "sc.pl.umap(adata,color=['celltype3']) #,'celltype3'"
   ]
  },
  {
   "cell_type": "code",
   "execution_count": null,
   "metadata": {},
   "outputs": [],
   "source": [
    "sc.pl.umap(adata,color=['leiden'],legend_loc='on data', legend_fontsize=6) #,'celltype3'"
   ]
  },
  {
   "cell_type": "markdown",
   "metadata": {},
   "source": [
    "## Manual refinement"
   ]
  },
  {
   "cell_type": "markdown",
   "metadata": {},
   "source": [
    "In some cases, the annotation does not produce the optimal result. Manual adjustments can be made, \n",
    "by replacing cell type names or by manually labeling clusters. Note that the second option is not \n",
    "stable across reruns if any adjustments are made to the clustering. "
   ]
  },
  {
   "cell_type": "code",
   "execution_count": null,
   "metadata": {},
   "outputs": [],
   "source": [
    "### Example 1: unclear patient-specific myeloid cluster, set to macrophage\n",
    "#adata.obs['celltype2']=adata.obs['celltype2'].cat.add_categories('myeloid leukocyte')\n",
    "adata.obs['celltype3']=adata.obs['celltype3'].cat.add_categories('macrophage')\n",
    "#adata.obs.loc[adata.obs[clusters].isin(['44']),'celltype2']='myeloid leukocyte'\n",
    "adata.obs.loc[adata.obs[clusters].isin(['44']),'celltype3']='macrophage'"
   ]
  },
  {
   "cell_type": "code",
   "execution_count": null,
   "metadata": {},
   "outputs": [],
   "source": [
    "### Example 1: unclear patient-specific myeloid cluster\n",
    "#adata.obs['scelltype2']=adata.obs['scelltype2'].cat.add_categories('Myeloid')\n",
    "adata.obs['scelltype3']=adata.obs['scelltype3'].cat.add_categories('Macrophage')\n",
    "#adata.obs.loc[adata.obs[clusters].isin(['44']),'scelltype2']='Myeloid'\n",
    "adata.obs.loc[adata.obs[clusters].isin(['44']),'scelltype3']='Macrophage'"
   ]
  },
  {
   "cell_type": "code",
   "execution_count": null,
   "metadata": {},
   "outputs": [],
   "source": [
    "allcells=pd.read_csv(bescapath+'/besca/datasets/nomenclature/CellTypes_v1.tsv',sep='\\t')"
   ]
  },
  {
   "cell_type": "code",
   "execution_count": null,
   "metadata": {},
   "outputs": [],
   "source": [
    "#list(allcells['dblabel'])"
   ]
  },
  {
   "cell_type": "code",
   "execution_count": null,
   "metadata": {},
   "outputs": [],
   "source": [
    "allcells.loc[allcells['short_dblabel']=='MyeloTcell',:]"
   ]
  },
  {
   "cell_type": "code",
   "execution_count": null,
   "metadata": {},
   "outputs": [],
   "source": [
    "### Example 2: CD8 T CELLS\n",
    "adata.obs['celltype3']=adata.obs['celltype3'].cat.add_categories('mature NK T cell')\n",
    "adata.obs.loc[adata.obs[clusters].isin(['3','45','39']),'celltype3']='mature NK T cell'\n"
   ]
  },
  {
   "cell_type": "code",
   "execution_count": null,
   "metadata": {},
   "outputs": [],
   "source": [
    "adata.obs.loc[adata.obs[clusters].isin(['3','45','39']),'celltype2']='CD8-positive, alpha-beta T cell'"
   ]
  },
  {
   "cell_type": "code",
   "execution_count": null,
   "metadata": {},
   "outputs": [],
   "source": [
    "### Example 2: CD8 T CELLS\n",
    "adata.obs['scelltype3']=adata.obs['scelltype3'].cat.add_categories('NKTcell')\n",
    "adata.obs.loc[adata.obs[clusters].isin(['3','45','39']),'scelltype3']='NKTcell'\n"
   ]
  },
  {
   "cell_type": "code",
   "execution_count": null,
   "metadata": {},
   "outputs": [],
   "source": [
    "adata.obs.loc[adata.obs[clusters].isin(['3','45','39']),'scelltype2']='CD8Tcell'"
   ]
  },
  {
   "cell_type": "code",
   "execution_count": null,
   "metadata": {},
   "outputs": [],
   "source": [
    "sc.pl.umap(adata,color=['leiden','scelltype3','celltype2', 'celltype1'], legend_loc='on data',legend_fontsize=6)"
   ]
  },
  {
   "cell_type": "code",
   "execution_count": null,
   "metadata": {},
   "outputs": [],
   "source": [
    "# everything that was done so far goes to the .h5ad file for later use\n",
    "#adata.write(results_file)\n",
    "adata=sc.read(results_file)"
   ]
  },
  {
   "cell_type": "markdown",
   "metadata": {},
   "source": [
    "This is the first basic annotation. Downstream, analysis was redone with PBMC, TIL, T cells, myeloids separately and annotation adjusted according to these results to obtain finer grained populations. "
   ]
  },
  {
   "cell_type": "markdown",
   "metadata": {},
   "source": [
    "# Reclustering per various subpopulations \n",
    "\n",
    "\n",
    "The main steps are:\n",
    "+ saving previous clustering and annotation for comparison purpose (advised)\n",
    "+ recluster \n",
    "+ Export the new labelling (see function additional_labeling)\n",
    "+ Read the new labelling information including fract_pos files.\n",
    "+ Recompute signatures/markers values\n",
    "+ Reannotate\n",
    "+ Convert annotation to dblabel\n",
    "+ Export all for the data subset to the larger adata object."
   ]
  },
  {
   "cell_type": "code",
   "execution_count": null,
   "metadata": {},
   "outputs": [],
   "source": [
    "recluster=True\n",
    "if recluster==True:\n",
    "    adata.obs['leiden_original'] = adata.obs['leiden'].copy()\n",
    "    adata.obs['celltype3_original']  = adata.obs['celltype3'].copy() \n",
    "    adata.obs['celltype2_original']  = adata.obs['celltype2'].copy()\n",
    "    adata.obs['celltype1_original']  = adata.obs['celltype1'].copy()\n",
    "    adata.obs['celltype0_original']  = adata.obs['celltype0'].copy()"
   ]
  },
  {
   "cell_type": "code",
   "execution_count": null,
   "metadata": {},
   "outputs": [],
   "source": [
    "adata=sc.read(results_file)"
   ]
  },
  {
   "cell_type": "markdown",
   "metadata": {},
   "source": [
    "### PBMC reclustering"
   ]
  },
  {
   "cell_type": "code",
   "execution_count": null,
   "metadata": {},
   "outputs": [],
   "source": [
    "celltype_label='Sample type'\n",
    "to_recluster=('PBMC')\n",
    "cluster_renamed = 'Leiden_reclustering_PBMC'"
   ]
  },
  {
   "cell_type": "code",
   "execution_count": null,
   "metadata": {},
   "outputs": [],
   "source": [
    "\n",
    "    # Calling reclustering\n",
    "    adata_rc = bc.tl.rc.recluster ( adata, celltype_label = celltype_label, \n",
    "                              celltype=to_recluster, resolution=3, batch_key='experiment')\n",
    "    # Leiden reclustering have to be exported to use the annotation function \n",
    "    adata_rc.write(os.path.join(results_folder, analysis_name + '.annotated.PBMC.h5ad'))\n",
    "    "
   ]
  },
  {
   "cell_type": "code",
   "execution_count": null,
   "metadata": {},
   "outputs": [],
   "source": [
    "    adata_rc=sc.read(os.path.join(results_folder, analysis_name + '.annotated.PBMC.h5ad'))\n",
    "    adata_rc = bc.st.additional_labeling(adata_rc, 'leiden', cluster_renamed, \n",
    "                                         'Leiden reclustering on PBMCs', 'PCS', \n",
    "                                         results_folder)\n"
   ]
  },
  {
   "cell_type": "code",
   "execution_count": null,
   "metadata": {},
   "outputs": [],
   "source": [
    "    sigconfig,levsk=bc.tl.sig.read_annotconfig(configfile)\n",
    "    # Reading additional labelling\n",
    "    f=pd.read_csv(results_folder + \"/labelings/\"+cluster_renamed+\"/fract_pos.gct\",sep=\"\\t\",skiprows=2)\n",
    "    df=bc.tl.sig.score_mw(f,mymarkers)\n",
    "    myc=np.median(df.loc['Ubi',:]*1/3) ### Set a cutoff based on Ubi and scale with values from config file\n",
    "    df=df.drop('Ubi')"
   ]
  },
  {
   "cell_type": "code",
   "execution_count": null,
   "metadata": {},
   "outputs": [],
   "source": [
    "\n",
    "    # Adjust cutoffs if needed\n",
    "    # Cutoffs can also be manually adjusted if needed \n",
    "    sigconfig.loc['Bcell','Cutoff']=1.5\n",
    "    sigconfig.loc['Blymphocyte','Cutoff']=2.75\n",
    "    sigconfig.loc['Tcell','Cutoff']=2.9\n",
    "    sigconfig.loc['CD8Tcell','Cutoff']=1.35\n",
    "    sigconfig.loc['NKcell','Cutoff']=3\n",
    "    sigconfig.loc['Macrophage','Cutoff']=1.5\n",
    "    sigconfig.loc['cDC','Cutoff']=1.5\n",
    "    sigconfig.loc['CD56dimNK','Cutoff']=3.5\n",
    "    sigconfig.loc['CD56brightNK','Cutoff']=0.65\n",
    "    sigconfig.loc['CytotoxCD8Tcell','Cutoff']=4.75\n",
    "    sigconfig.loc['NaiCD4Tcell','Cutoff']=4.5\n",
    "    sigconfig.loc['EMCD8Tcell','Cutoff']=4\n",
    "    sigconfig.loc['Macrophage_MARCO','Cutoff']=1.75\n",
    "    sigconfig.loc['Macrophage_CXCL9','Cutoff']=0.75\n",
    "    sigconfig.loc['Macrophage_MSR1','Cutoff']=5\n",
    "    sigconfig.loc['ProlifBcell','Cutoff']=1.5\n",
    "    sigconfig.loc['NaiBcell','Cutoff']=2.5\n",
    "    sigconfig.loc['MemBcell','Cutoff']=1.5\n",
    "    sigconfig.loc['ExhCD8Tcell','Cutoff']=6\n",
    "    sigconfig.loc['CMCD4Tcell','Cutoff']=2.5\n",
    "    sigconfig.loc['Hematopoietic','Cutoff']=0.5\n",
    "    sigconfig.loc['ClassMonocyte','Cutoff']=2\n",
    "    sigconfig.loc['ExhBcell','Cutoff']=3\n",
    "    #sigconfig.loc['Tcell','Cutoff']\n",
    "    sigconfig.loc['Myeloid','Cutoff']=0.75\n",
    "    sigconfig.loc['NaiCD8Tcell','Cutoff']=4.5\n",
    "\n",
    "    ### Cell types that are not expected in the dataset can be explicity excluded from the annotation \n",
    "    toexclude=['Erythrocyte','AlphaPancreatic', 'BetaPancreatic', 'DeltaPancreatic',\n",
    "           'FollicularBcell','Neural', 'ProlifBcell', 'GermCenterBcell']\n",
    "    # RECOMPUTING SIG SCORE WITH NEW CUTOFF\n",
    "    \n",
    "    sigscores={}\n",
    "    for mysig in list(df.index):\n",
    "        sigscores[mysig]=bc.tl.sig.getset(df,mysig,sigconfig.loc[mysig,'Cutoff']*myc)\n",
    "\n",
    "    \n",
    "    cnames=bc.tl.sig.make_anno(df,sigscores,sigconfig,levsk, toexclude=toexclude)\n",
    "    cnamesDBlabel = bc.tl.sig.obtain_dblabel(bescapath+'/besca/datasets/nomenclature/CellTypes_v1.tsv', cnames )\n",
    "    \n",
    "    adata_rc.obs['celltype0']=bc.tl.sig.add_anno(adata_rc,cnamesDBlabel,'celltype0','leiden')\n",
    "    adata_rc.obs['celltype1']=bc.tl.sig.add_anno(adata_rc,cnamesDBlabel,'celltype1','leiden')\n",
    "    adata_rc.obs['celltype2']=bc.tl.sig.add_anno(adata_rc,cnamesDBlabel,'celltype2','leiden')\n",
    "    adata_rc.obs['celltype3']=bc.tl.sig.add_anno(adata_rc,cnamesDBlabel,'celltype3','leiden')\n"
   ]
  },
  {
   "cell_type": "code",
   "execution_count": null,
   "metadata": {},
   "outputs": [],
   "source": [
    "sc.pl.umap(adata_rc,color=['celltype0'])"
   ]
  },
  {
   "cell_type": "code",
   "execution_count": null,
   "metadata": {},
   "outputs": [],
   "source": [
    "sc.pl.umap(adata_rc,color=['leiden'])"
   ]
  },
  {
   "cell_type": "code",
   "execution_count": null,
   "metadata": {},
   "outputs": [],
   "source": [
    "sc.pl.umap(adata_rc,color=['celltype1'])"
   ]
  },
  {
   "cell_type": "code",
   "execution_count": null,
   "metadata": {},
   "outputs": [],
   "source": [
    "sc.pl.umap(adata_rc, color= ['score_Myeloid_scanpy','score_Bcell_scanpy',\n",
    "                          'score_Tcell_scanpy','score_CD8Tcell_scanpy',\n",
    "                          'score_CD4Tcell_scanpy','score_gdTcell_scanpy','score_NKcell_scanpy',\n",
    "                         'score_Macrophage_scanpy','score_ClassMonocyte_scanpy',\n",
    "                          'score_cDC_scanpy','score_pDC_scanpy','score_GermCenterBcell_scanpy'], \n",
    "           color_map = 'viridis') #save='-all_CellAnnot_reduced.PBMC.svg'"
   ]
  },
  {
   "cell_type": "code",
   "execution_count": null,
   "metadata": {},
   "outputs": [],
   "source": [
    "sc.pl.umap(adata_rc,color=['celltype2'])"
   ]
  },
  {
   "cell_type": "code",
   "execution_count": null,
   "metadata": {},
   "outputs": [],
   "source": [
    "sc.pl.umap(adata_rc,color=['celltype3'])"
   ]
  },
  {
   "cell_type": "code",
   "execution_count": null,
   "metadata": {},
   "outputs": [],
   "source": [
    "sc.pl.umap(adata_rc,color=['celltype3_original'])"
   ]
  },
  {
   "cell_type": "code",
   "execution_count": null,
   "metadata": {},
   "outputs": [],
   "source": [
    "    # Lex orrder needed.\n",
    "    names_1 = []\n",
    "    names_2 = []\n",
    "    names_3 = []\n",
    "    leiden_rc=[]\n",
    "    for i in range( cnamesDBlabel.shape[0]) :\n",
    "        names_1 += [cnamesDBlabel['celltype1'][str(i)]]\n",
    "        names_2 += [cnamesDBlabel['celltype2'][str(i)]]\n",
    "        names_3 += [cnamesDBlabel['celltype3'][str(i)]]\n",
    "    \n",
    "    bc.tl.rc.annotate_new_cellnames( adata, adata_rc, names = names_1, new_label='celltype1_PBMC', method = 'leiden')\n",
    "    bc.tl.rc.annotate_new_cellnames( adata, adata_rc, names = names_2, new_label='celltype2_PBMC', method = 'leiden')\n",
    "    bc.tl.rc.annotate_new_cellnames( adata, adata_rc, names = names_3, new_label='celltype3_PBMC', method = 'leiden')\n",
    "    bc.tl.rc.annotate_new_cellnames( adata, adata_rc, names = list(adata_rc.obs['leiden'].cat.categories), \n",
    "                                    new_label='leiden_PBMC', method = 'leiden') \n",
    "    #sc.pl.umap(adata,color=['celltype2', 'celltype2_original',\n",
    "    #                   'celltype3'], ncols=1) \n",
    "    \n",
    "\n",
    "\n",
    "    adata.obs['leiden_PBMC']='not_labeled'\n",
    "    adata.obs['leiden_PBMC']=adata.obs['leiden_PBMC'].astype(\"category\")\n",
    "    leidennk=adata.obs['leiden_PBMC'].copy()\n",
    "    leidennk=leidennk.cat.add_categories(list(adata_rc.obs['leiden'].cat.categories)).copy()\n",
    "    leidennk.loc[adata_rc.obs.index]=list(adata_rc.obs['leiden'])\n",
    "    adata.obs['leiden_PBMC']=list(leidennk)"
   ]
  },
  {
   "cell_type": "code",
   "execution_count": null,
   "metadata": {},
   "outputs": [],
   "source": [
    "#sigscores['Blymphocyte']"
   ]
  },
  {
   "cell_type": "code",
   "execution_count": null,
   "metadata": {},
   "outputs": [],
   "source": [
    "# df.loc['Blymphocyte',:].sort_values()"
   ]
  },
  {
   "cell_type": "code",
   "execution_count": null,
   "metadata": {},
   "outputs": [],
   "source": [
    "# everything that was done so far goes to the .h5ad file for later use\n",
    "adata_rc.write(os.path.join(results_folder, analysis_name + '.annotated.PBMC.h5ad'))"
   ]
  },
  {
   "cell_type": "code",
   "execution_count": null,
   "metadata": {},
   "outputs": [],
   "source": [
    "sc.pl.umap(adata_rc,color=['leiden'],legend_loc='on data', legend_fontsize=8)"
   ]
  },
  {
   "cell_type": "code",
   "execution_count": null,
   "metadata": {},
   "outputs": [],
   "source": [
    "DEgenesPBMC=bc.tl.dge.get_de(adata_rc[adata_rc.obs['celltype3']=='classical monocyte'],clusters,demethod='wilcoxon',topnr=5000, logfc=1,padj=0.05)\n"
   ]
  },
  {
   "cell_type": "code",
   "execution_count": null,
   "metadata": {},
   "outputs": [],
   "source": [
    "### Select only top genes (in order of p-val) for 2 clusters and plot expression per cluster\n",
    "tops=list(DEgenesPBMC['31']['Name'][0:50])+list(DEgenesPBMC['9']['Name'][0:20])\n",
    "sc.pl.dotplot(adata_rc[adata_rc.obs['celltype3']=='classical monocyte'], var_names=tops,groupby=clusters)"
   ]
  },
  {
   "cell_type": "code",
   "execution_count": null,
   "metadata": {},
   "outputs": [],
   "source": [
    "sc.pl.umap(adata_rc,color=['Lesion', 'celltype2','PatientID'])"
   ]
  },
  {
   "cell_type": "code",
   "execution_count": null,
   "metadata": {},
   "outputs": [],
   "source": [
    "#sc.pl.umap(adata,color=['celltype1','celltype1_PBMC', 'celltype1_TNK', 'celltype1_BMy'])"
   ]
  },
  {
   "cell_type": "code",
   "execution_count": null,
   "metadata": {},
   "outputs": [],
   "source": [
    "sc.pl.umap(adata_rc,color=['celltype3'])"
   ]
  },
  {
   "cell_type": "code",
   "execution_count": null,
   "metadata": {},
   "outputs": [],
   "source": [
    "sc.pl.umap(adata_rc,color=['leiden'],legend_loc='on data', legend_fontsize=7)"
   ]
  },
  {
   "cell_type": "code",
   "execution_count": null,
   "metadata": {},
   "outputs": [],
   "source": [
    "sc.pl.umap(adata_rc,color=['leiden'])"
   ]
  },
  {
   "cell_type": "code",
   "execution_count": null,
   "metadata": {},
   "outputs": [],
   "source": [
    "sc.pl.umap(adata_rc,color=['CD3D','CD8A','CD8B','CD4'])"
   ]
  },
  {
   "cell_type": "code",
   "execution_count": null,
   "metadata": {},
   "outputs": [],
   "source": [
    "sc.pl.umap(adata, color='celltype3_PBMC')"
   ]
  },
  {
   "cell_type": "code",
   "execution_count": null,
   "metadata": {},
   "outputs": [],
   "source": [
    "expandedAnnot=adata.obs['celltype3_PBMC'].copy()\n",
    "expandedAnnotrc=adata_rc.obs['celltype3'].copy()"
   ]
  },
  {
   "cell_type": "code",
   "execution_count": null,
   "metadata": {},
   "outputs": [],
   "source": [
    "expandedAnnot=expandedAnnot.cat.add_categories(['myeloid B cell','myeloid T cell', 'classical monocyte, brain lesions'])\n",
    "expandedAnnotrc=expandedAnnotrc.cat.add_categories(['myeloid B cell', 'myeloid T cell', 'classical monocyte, brain lesions'])"
   ]
  },
  {
   "cell_type": "code",
   "execution_count": null,
   "metadata": {},
   "outputs": [],
   "source": [
    "expandedAnnot[adata.obs['leiden_PBMC'].isin(['30'])]='myeloid T cell'\n",
    "expandedAnnotrc[adata_rc.obs['leiden'].isin(['30'])]='myeloid T cell'\n",
    "\n",
    "expandedAnnot[adata.obs['celltype3_PBMC'].isin(['B cell'])]='myeloid B cell'\n",
    "expandedAnnotrc[adata_rc.obs['celltype3'].isin(['B cell'])]='myeloid B cell'"
   ]
  },
  {
   "cell_type": "code",
   "execution_count": null,
   "metadata": {},
   "outputs": [],
   "source": [
    "expandedAnnot[adata.obs['leiden_PBMC'].isin(['29','15','18'])]='classical monocyte, brain lesions'\n",
    "expandedAnnotrc[adata_rc.obs['leiden'].isin(['29','15','18'])]='classical monocyte, brain lesions'"
   ]
  },
  {
   "cell_type": "code",
   "execution_count": null,
   "metadata": {},
   "outputs": [],
   "source": [
    "#expandedAnnot[adata.obs['leiden_PBMC'].isin(['31'])]='classical monocyte subpop'\n",
    "#expandedAnnotrc[adata_rc.obs['leiden'].isin(['31'])]='classical monocyte subpop'"
   ]
  },
  {
   "cell_type": "code",
   "execution_count": null,
   "metadata": {},
   "outputs": [],
   "source": [
    "adata.obs['celltype3_expanded']=list(expandedAnnot)\n",
    "adata_rc.obs['celltype3_expanded']=list(expandedAnnotrc)"
   ]
  },
  {
   "cell_type": "code",
   "execution_count": null,
   "metadata": {},
   "outputs": [],
   "source": [
    "adata_rc.write(os.path.join(results_folder, analysis_name + '.annotated.PBMC.h5ad'))\n",
    "#adata_rc=sc.read(os.path.join(results_folder, analysis_name + '.annotated.PBMC.h5ad'))\n",
    "adata.write(results_file)"
   ]
  },
  {
   "cell_type": "markdown",
   "metadata": {},
   "source": [
    "### TIL reclustering"
   ]
  },
  {
   "cell_type": "code",
   "execution_count": null,
   "metadata": {},
   "outputs": [],
   "source": [
    "celltype_label='Sample type'\n",
    "to_recluster=('TIL')\n",
    "cluster_renamed = 'Leiden_reclustering_TIL'\n"
   ]
  },
  {
   "cell_type": "code",
   "execution_count": null,
   "metadata": {},
   "outputs": [],
   "source": [
    "    #Calling reclustering\n",
    "    adata_rc = bc.tl.rc.recluster ( adata, celltype_label = celltype_label, \n",
    "                               celltype=to_recluster, resolution=2.5, batch_key='experiment')\n",
    "    # Leiden reclustering have to be exported to use the annotation function \n",
    "    adata_rc.write(os.path.join(results_folder, analysis_name + '.annotated.TIL.h5ad'))\n",
    "    \n"
   ]
  },
  {
   "cell_type": "code",
   "execution_count": null,
   "metadata": {},
   "outputs": [],
   "source": [
    "    adata_rc=sc.read(os.path.join(results_folder, analysis_name + '.annotated.TIL.h5ad'))\n",
    "\n",
    "\n",
    "    adata_rc = bc.st.additional_labeling(adata_rc, 'leiden', cluster_renamed, \n",
    "                                         'Leiden reclustering on TILs', 'PCS', \n",
    "                                         results_folder)\n"
   ]
  },
  {
   "cell_type": "code",
   "execution_count": null,
   "metadata": {},
   "outputs": [],
   "source": [
    "    sigconfig,levsk=bc.tl.sig.read_annotconfig(configfile)\n",
    "    # Reading additional labelling\n",
    "    f=pd.read_csv(results_folder + \"/labelings/\"+cluster_renamed+\"/fract_pos.gct\",sep=\"\\t\",skiprows=2)\n",
    "    df=bc.tl.sig.score_mw(f,mymarkers)\n",
    "    myc=np.median(df.loc['Ubi',:]*1/3) ### Set a cutoff based on Ubi and scale with values from config file\n",
    "    df=df.drop('Ubi')\n",
    "\n"
   ]
  },
  {
   "cell_type": "code",
   "execution_count": null,
   "metadata": {},
   "outputs": [],
   "source": []
  },
  {
   "cell_type": "code",
   "execution_count": null,
   "metadata": {},
   "outputs": [],
   "source": [
    "\n",
    "    # Adjust cutoffs if needed\n",
    "    # Cutoffs can also be manually adjusted if needed \n",
    "    sigconfig.loc['Blymphocyte','Cutoff']=2.75\n",
    "    sigconfig.loc['RegTcell','Cutoff']=2.15\n",
    "    sigconfig.loc['Tcell','Cutoff']=3.1\n",
    "    sigconfig.loc['CD8Tcell','Cutoff']=1.5\n",
    "    sigconfig.loc['NKcell','Cutoff']=3\n",
    "    sigconfig.loc['Macrophage','Cutoff']=1.5\n",
    "    sigconfig.loc['cDC','Cutoff']=1.5\n",
    "    sigconfig.loc['CD56dimNK','Cutoff']=3.5\n",
    "    sigconfig.loc['CD56brightNK','Cutoff']=0.65\n",
    "    sigconfig.loc['CytotoxCD8Tcell','Cutoff']=5\n",
    "    sigconfig.loc['NaiCD4Tcell','Cutoff']=4.5\n",
    "    sigconfig.loc['EMCD8Tcell','Cutoff']=4\n",
    "    sigconfig.loc['Macrophage_MARCO','Cutoff']=1.7\n",
    "    sigconfig.loc['Macrophage_CXCL9','Cutoff']=1\n",
    "    sigconfig.loc['Macrophage_MSR1','Cutoff']=4.75\n",
    "    sigconfig.loc['ProlifBcell','Cutoff']=1.5\n",
    "    sigconfig.loc['NaiBcell','Cutoff']=2.5\n",
    "    sigconfig.loc['MemBcell','Cutoff']=1.5\n",
    "    sigconfig.loc['ExhCD8Tcell','Cutoff']=6\n",
    "    sigconfig.loc['CMCD4Tcell','Cutoff']=2\n",
    "    sigconfig.loc['Hematopoietic','Cutoff']=0.5\n",
    "    sigconfig.loc['ClassMonocyte','Cutoff']=2.025\n",
    "    sigconfig.loc['ExhBcell','Cutoff']=3\n",
    "    #sigconfig.loc['Tcell','Cutoff']\n",
    "    sigconfig.loc['Myeloid','Cutoff']=0.75\n",
    "    sigconfig.loc['NaiCD8Tcell','Cutoff']=4.5\n",
    "    sigconfig.loc['cDC2','Cutoff']=2\n",
    "    sigconfig.loc['cDC_CCR7','Cutoff']=2\n",
    "\n",
    "    # RECOMPUTING SIG SCORE WITH NEW CUTOFF\n",
    "    \n",
    "    sigscores={}\n",
    "    for mysig in list(df.index):\n",
    "        sigscores[mysig]=bc.tl.sig.getset(df,mysig,sigconfig.loc[mysig,'Cutoff']*myc)\n",
    "\n",
    "    ### Cell types that are not expected in the dataset can be explicity excluded from the annotation \n",
    "    toexclude=['Erythrocyte','AlphaPancreatic', 'BetaPancreatic', 'DeltaPancreatic',\n",
    "           'FollicularBcell','Neural', 'ProlifBcell', 'GermCenterBcell']\n",
    "    \n",
    "    cnames=bc.tl.sig.make_anno(df,sigscores,sigconfig,levsk, toexclude=toexclude)\n",
    "    cnamesDBlabel = bc.tl.sig.obtain_dblabel(bescapath+'/besca/datasets/nomenclature/CellTypes_v1.tsv', cnames )\n",
    "    \n",
    "    adata_rc.obs['celltype0']=bc.tl.sig.add_anno(adata_rc,cnamesDBlabel,'celltype0','leiden')\n",
    "    adata_rc.obs['celltype1']=bc.tl.sig.add_anno(adata_rc,cnamesDBlabel,'celltype1','leiden')\n",
    "    adata_rc.obs['celltype2']=bc.tl.sig.add_anno(adata_rc,cnamesDBlabel,'celltype2','leiden')\n",
    "    adata_rc.obs['celltype3']=bc.tl.sig.add_anno(adata_rc,cnamesDBlabel,'celltype3','leiden')\n",
    "\n",
    "\n",
    "sc.pl.umap(adata_rc,color=['celltype0'])\n"
   ]
  },
  {
   "cell_type": "code",
   "execution_count": null,
   "metadata": {},
   "outputs": [],
   "source": [
    "sigscores['Macrophage_MARCO']"
   ]
  },
  {
   "cell_type": "code",
   "execution_count": null,
   "metadata": {},
   "outputs": [],
   "source": [
    "sc.pl.umap(adata_rc,color=['leiden'], legend_loc='on data', legend_fontsize=6)"
   ]
  },
  {
   "cell_type": "code",
   "execution_count": null,
   "metadata": {},
   "outputs": [],
   "source": [
    "sc.pl.umap(adata_rc,color=['CXCL9','MARCO','XCL1','TOX','MSR1','CD4','CD3D','CD8B' \n",
    "                           ,'MKI67','PDCD1','IL7R', 'MKI67', 'PDCD1','LAG3','HAVCR2','ENTPD1'])"
   ]
  },
  {
   "cell_type": "code",
   "execution_count": null,
   "metadata": {},
   "outputs": [],
   "source": [
    "sc.pl.umap(adata_rc,color=['celltype3'])"
   ]
  },
  {
   "cell_type": "code",
   "execution_count": null,
   "metadata": {},
   "outputs": [],
   "source": [
    "sc.pl.umap(adata_rc,color=['celltype3_original'])"
   ]
  },
  {
   "cell_type": "code",
   "execution_count": null,
   "metadata": {},
   "outputs": [],
   "source": [
    "sc.pl.umap(adata_rc[adata_rc.obs['celltype1']=='T cell'],color=['celltype3'])"
   ]
  },
  {
   "cell_type": "code",
   "execution_count": null,
   "metadata": {},
   "outputs": [],
   "source": [
    "sc.pl.umap(adata_rc[adata_rc.obs['celltype1']=='T cell'],color=['celltype3_original'])"
   ]
  },
  {
   "cell_type": "code",
   "execution_count": null,
   "metadata": {},
   "outputs": [],
   "source": [
    "sc.pl.umap(adata_rc,color=['CCR7','IL7R','LEF1','CD1C','CD1D', 'CLEC10A','PDCD1','CD38'])"
   ]
  },
  {
   "cell_type": "code",
   "execution_count": null,
   "metadata": {},
   "outputs": [],
   "source": [
    "#sc.pl.umap(adata_rc[adata_rc.obs['celltype3']=='CD8-positive, alpha-beta cytotoxic T cell'],\n",
    "#           color=['leiden'], )\n"
   ]
  },
  {
   "cell_type": "code",
   "execution_count": null,
   "metadata": {},
   "outputs": [],
   "source": [
    "sc.pl.umap(adata_rc,color=['celltype2'])\n"
   ]
  },
  {
   "cell_type": "code",
   "execution_count": null,
   "metadata": {},
   "outputs": [],
   "source": [
    "sc.pl.umap(adata_rc,color=['celltype1_original'])"
   ]
  },
  {
   "cell_type": "code",
   "execution_count": null,
   "metadata": {},
   "outputs": [],
   "source": [
    "sc.pl.umap(adata_rc,color=['celltype3'])\n"
   ]
  },
  {
   "cell_type": "code",
   "execution_count": null,
   "metadata": {},
   "outputs": [],
   "source": [
    "sc.pl.umap(adata_rc,color=['celltype3_original'])\n"
   ]
  },
  {
   "cell_type": "code",
   "execution_count": null,
   "metadata": {},
   "outputs": [],
   "source": [
    "    # Lex orrder needed.\n",
    "    names_1 = []\n",
    "    names_2 = []\n",
    "    names_3 = []\n",
    "    leiden_rc=[]\n",
    "    for i in range( cnamesDBlabel.shape[0]) :\n",
    "        names_1 += [cnamesDBlabel['celltype1'][str(i)]]\n",
    "        names_2 += [cnamesDBlabel['celltype2'][str(i)]]\n",
    "        names_3 += [cnamesDBlabel['celltype3'][str(i)]]\n",
    "    \n",
    "    bc.tl.rc.annotate_new_cellnames( adata, adata_rc, names = names_1, new_label='celltype1_TIL', method = 'leiden')\n",
    "    bc.tl.rc.annotate_new_cellnames( adata, adata_rc, names = names_2, new_label='celltype2_TIL', method = 'leiden')\n",
    "    bc.tl.rc.annotate_new_cellnames( adata, adata_rc, names = names_3, new_label='celltype3_TIL', method = 'leiden')\n",
    "    bc.tl.rc.annotate_new_cellnames( adata, adata_rc, names = list(adata_rc.obs['leiden'].cat.categories), \n",
    "                                    new_label='leiden_TIL', method = 'leiden') \n",
    "    #sc.pl.umap(adata,color=['celltype2', 'celltype2_original',\n",
    "    #                   'celltype3'], ncols=1) \n",
    "    \n",
    "\n",
    "\n",
    "    adata.obs['leiden_TIL']='not_labeled'\n",
    "    adata.obs['leiden_TIL']=adata.obs['leiden_TIL'].astype(\"category\")\n",
    "    leidennk=adata.obs['leiden_TIL'].copy()\n",
    "    leidennk=leidennk.cat.add_categories(list(adata_rc.obs['leiden'].cat.categories)).copy()\n",
    "    leidennk.loc[adata_rc.obs.index]=list(adata_rc.obs['leiden'])\n",
    "    adata.obs['leiden_TIL']=list(leidennk)"
   ]
  },
  {
   "cell_type": "code",
   "execution_count": null,
   "metadata": {},
   "outputs": [],
   "source": [
    "sc.pl.umap(adata_rc,color=['celltype3'])\n"
   ]
  },
  {
   "cell_type": "code",
   "execution_count": null,
   "metadata": {},
   "outputs": [],
   "source": [
    "#sc.pl.umap(adata_rc,color=['celltype3_original'])\n"
   ]
  },
  {
   "cell_type": "code",
   "execution_count": null,
   "metadata": {},
   "outputs": [],
   "source": [
    "sc.pl.umap(adata, color='celltype3_TIL')"
   ]
  },
  {
   "cell_type": "code",
   "execution_count": null,
   "metadata": {},
   "outputs": [],
   "source": [
    "expandedAnnot=adata.obs['celltype3_TIL'].copy()\n",
    "expandedAnnotrc=adata_rc.obs['celltype3'].copy()\n",
    "\n",
    "expandedAnnot=expandedAnnot.cat.add_categories(['central-memory CD8-positive, alpha-beta T cell'])\n",
    "expandedAnnotrc=expandedAnnotrc.cat.add_categories(['central-memory CD8-positive, alpha-beta T cell'])\n",
    "\n",
    "expandedAnnot[adata.obs['leiden_TIL'].isin(['2'])]='central-memory CD8-positive, alpha-beta T cell'\n",
    "expandedAnnotrc[adata_rc.obs['leiden'].isin(['2'])]='central-memory CD8-positive, alpha-beta T cell'\n",
    "\n",
    "#expandedAnnot[adata.obs['leiden_PBMC'].isin(['31'])]='classical monocyte subpop'\n",
    "#expandedAnnotrc[adata_rc.obs['leiden'].isin(['31'])]='classical monocyte subpop'\n",
    "\n",
    "adata.obs['celltype3_expanded_TIL']=list(expandedAnnot)\n",
    "adata_rc.obs['celltype3_expanded_TIL']=list(expandedAnnotrc)"
   ]
  },
  {
   "cell_type": "code",
   "execution_count": null,
   "metadata": {},
   "outputs": [],
   "source": [
    "adata_rc.write(os.path.join(results_folder, analysis_name + '.annotated.TIL.h5ad'))\n",
    "#adata_rc=sc.read(os.path.join(results_folder, analysis_name + '.annotated.TIL.h5ad'))\n",
    "adata.write(results_file)"
   ]
  },
  {
   "cell_type": "markdown",
   "metadata": {},
   "source": [
    "### Myeloid reclustering"
   ]
  },
  {
   "cell_type": "code",
   "execution_count": null,
   "metadata": {},
   "outputs": [],
   "source": [
    "celltype_label='celltype1'\n",
    "to_recluster=('lymphocyte of B lineage', 'myeloid leukocyte')\n",
    "cluster_renamed = 'Leiden_reclustering_myeloids'\n"
   ]
  },
  {
   "cell_type": "code",
   "execution_count": null,
   "metadata": {},
   "outputs": [],
   "source": [
    "        \n",
    "    # Calling reclustering\n",
    "    adata_rc = bc.tl.rc.recluster ( adata, celltype_label = celltype_label, \n",
    "                               celltype=to_recluster, resolution=2.5, batch_key='experiment')\n",
    "\n",
    "    adata_rc.write(os.path.join(results_folder, analysis_name + '.annotated.Myeloids.h5ad'))\n",
    "    \n"
   ]
  },
  {
   "cell_type": "code",
   "execution_count": null,
   "metadata": {},
   "outputs": [],
   "source": [
    "    adata_rc=sc.read(os.path.join(results_folder, analysis_name + '.annotated.Myeloids.h5ad'))\n",
    "    # Leiden reclustering have to be exported to use the annotation function \n",
    "    adata_rc = bc.st.additional_labeling(adata_rc, 'leiden', cluster_renamed, \n",
    "                                         'Leiden reclustering on myeloids', 'PCS', \n",
    "                                         results_folder)\n"
   ]
  },
  {
   "cell_type": "code",
   "execution_count": null,
   "metadata": {},
   "outputs": [],
   "source": [
    "    # Reading additional labelling\n",
    "    f=pd.read_csv(results_folder + \"/labelings/\"+cluster_renamed+\"/fract_pos.gct\",sep=\"\\t\",skiprows=2)\n",
    "    df=bc.tl.sig.score_mw(f,mymarkers)\n",
    "    myc=np.median(df.loc['Ubi',:]*1/3) ### Set a cutoff based on Ubi and scale with values from config file\n",
    "    # RECOMPUTING SIG SCORE WITH NEW CUTOFF\n",
    "    df=df.drop('Ubi')\n"
   ]
  },
  {
   "cell_type": "code",
   "execution_count": null,
   "metadata": {},
   "outputs": [],
   "source": [
    "   \n",
    "    # Adjust cutoffs if needed\n",
    "    # Cutoffs can also be manually adjusted if needed \n",
    "    sigconfig.loc['NClassMonocyte','Cutoff']=1.75\n",
    "    sigconfig.loc['Myeloid','Cutoff']=0.5\n",
    "    sigconfig.loc['Blymphocyte','Cutoff']=2.75\n",
    "    sigconfig.loc['Tcell','Cutoff']=3.5\n",
    "    sigconfig.loc['NKcell','Cutoff']=3\n",
    "    sigconfig.loc['Macrophage','Cutoff']=2.3\n",
    "    sigconfig.loc['cDC','Cutoff']=1.5\n",
    "    sigconfig.loc['Macrophage_MARCO','Cutoff']=1.6\n",
    "    sigconfig.loc['Macrophage_CXCL9','Cutoff']=0.9\n",
    "    sigconfig.loc['Macrophage_MSR1','Cutoff']=4.75\n",
    "    sigconfig.loc['ProlifBcell','Cutoff']=1.5\n",
    "    sigconfig.loc['NaiBcell','Cutoff']=2.5\n",
    "    sigconfig.loc['MemBcell','Cutoff']=1.5\n",
    "    sigconfig.loc['Hematopoietic','Cutoff']=0.5\n",
    "    sigconfig.loc['ClassMonocyte','Cutoff']=2\n",
    "    sigconfig.loc['cDC2','Cutoff']=2\n",
    "    sigconfig.loc['cDC_CCR7','Cutoff']=2\n",
    "    sigconfig.loc['pDC','Cutoff']=1.5\n",
    "    sigconfig.loc['ExhBcell','Cutoff']=4\n",
    "    sigconfig.loc['GermCenterBcell','Cutoff']=2\n",
    "\n",
    "    sigscores={}\n",
    "    for mysig in list(df.index):\n",
    "        sigscores[mysig]=bc.tl.sig.getset(df,mysig,sigconfig.loc[mysig,'Cutoff']*myc)\n",
    "\n",
    "    ### Cell types that are not expected in the dataset can be explicity excluded from the annotation \n",
    "    toexclude=['Erythrocyte','AlphaPancreatic', 'BetaPancreatic', 'DeltaPancreatic',\n",
    "           'FollicularBcell','Neural', 'ProlifBcell', 'ImmaturecDC']\n",
    "\n",
    "    cnames=bc.tl.sig.make_anno(df,sigscores,sigconfig,levsk, toexclude=toexclude)\n",
    "    cnamesDBlabel = bc.tl.sig.obtain_dblabel(bescapath+'/besca/datasets/nomenclature/CellTypes_v1.tsv', cnames )\n",
    "    \n",
    "    adata_rc.obs['celltype0']=bc.tl.sig.add_anno(adata_rc,cnamesDBlabel,'celltype0','leiden')\n",
    "    adata_rc.obs['celltype1']=bc.tl.sig.add_anno(adata_rc,cnamesDBlabel,'celltype1','leiden')\n",
    "    adata_rc.obs['celltype2']=bc.tl.sig.add_anno(adata_rc,cnamesDBlabel,'celltype2','leiden')\n",
    "    adata_rc.obs['celltype3']=bc.tl.sig.add_anno(adata_rc,cnamesDBlabel,'celltype3','leiden')\n",
    "    \n"
   ]
  },
  {
   "cell_type": "code",
   "execution_count": null,
   "metadata": {},
   "outputs": [],
   "source": [
    "# everything that was done so far goes to the .h5ad file for later use\n",
    "#adata_rc.write(os.path.join(results_folder, analysis_name + '.annotated.Myeloids.h5ad'))"
   ]
  },
  {
   "cell_type": "code",
   "execution_count": null,
   "metadata": {},
   "outputs": [],
   "source": [
    "sc.pl.umap(adata_rc,color=['leiden'], legend_loc='on data')"
   ]
  },
  {
   "cell_type": "code",
   "execution_count": null,
   "metadata": {},
   "outputs": [],
   "source": [
    "sc.pl.umap(adata_rc,color=['celltype2'])"
   ]
  },
  {
   "cell_type": "code",
   "execution_count": null,
   "metadata": {},
   "outputs": [],
   "source": [
    "sc.pl.umap(adata_rc,color=['celltype3'])"
   ]
  },
  {
   "cell_type": "code",
   "execution_count": null,
   "metadata": {},
   "outputs": [],
   "source": [
    "sc.pl.umap(adata_rc,color=['celltype3_original'])"
   ]
  },
  {
   "cell_type": "code",
   "execution_count": null,
   "metadata": {},
   "outputs": [],
   "source": [
    "sc.pl.umap(adata_rc,color=mymarkers['ProlifBcell'])"
   ]
  },
  {
   "cell_type": "code",
   "execution_count": null,
   "metadata": {},
   "outputs": [],
   "source": [
    "sc.pl.umap(adata_rc,color=mymarkers['Macrophage'])"
   ]
  },
  {
   "cell_type": "code",
   "execution_count": null,
   "metadata": {},
   "outputs": [],
   "source": [
    "sc.pl.umap(adata_rc,color=mymarkers['ClassMonocyte'])"
   ]
  },
  {
   "cell_type": "code",
   "execution_count": null,
   "metadata": {},
   "outputs": [],
   "source": [
    "sc.pl.umap(adata_rc,color=['PatientID','Sample type','Lesion'])"
   ]
  },
  {
   "cell_type": "code",
   "execution_count": null,
   "metadata": {},
   "outputs": [],
   "source": [
    "sc.pl.umap(adata_rc,color=['celltype3'])\n"
   ]
  },
  {
   "cell_type": "code",
   "execution_count": null,
   "metadata": {},
   "outputs": [],
   "source": [
    "sc.pl.umap(adata_rc,color=['celltype2_original'])\n"
   ]
  },
  {
   "cell_type": "code",
   "execution_count": null,
   "metadata": {},
   "outputs": [],
   "source": [
    "### Example 2: unclear patient-specific myeloid cluster\n",
    "adata_rc.obs['celltype3']=adata_rc.obs['celltype3'].cat.add_categories(['immature conventional dendritic cell'])\n",
    "adata_rc.obs.loc[adata_rc.obs['celltype3'].isin(['myeloid leukocyte']),'celltype2']='myeloid dendritic cell'\n",
    "adata_rc.obs.loc[adata_rc.obs['celltype3'].isin(['myeloid leukocyte']),'celltype3']='immature conventional dendritic cell'\n"
   ]
  },
  {
   "cell_type": "code",
   "execution_count": null,
   "metadata": {},
   "outputs": [],
   "source": [
    "### Example 2: unclear patient-specific myeloid cluster\n",
    "#adata_rc.obs['celltype2']=adata_rc.obs['celltype2'].cat.add_categories('myeloid leukocyte')\n",
    "#adata_rc.obs['celltype3']=adata_rc.obs['celltype3'].cat.add_categories('myeloid leukocyte')\n",
    "#adata_rc.obs.loc[adata_rc.obs[clusters].isin(['33']),'celltype2']='myeloid leukocyte'\n",
    "#adata_rc.obs.loc[adata_rc.obs[clusters].isin(['33']),'celltype3']='myeloid leukocyte'\n",
    "adata_rc.obs.loc[adata_rc.obs['celltype3'].isin(['myeloid dendritic cell']),'celltype2']='myeloid leukocyte'\n",
    "adata_rc.obs.loc[adata_rc.obs['celltype3'].isin(['myeloid dendritic cell']),'celltype3']='myeloid leukocyte'\n"
   ]
  },
  {
   "cell_type": "code",
   "execution_count": null,
   "metadata": {},
   "outputs": [],
   "source": [
    "adata_rc.obs['celltype3']=adata_rc.obs['celltype3'].cat.remove_unused_categories()\n",
    "adata_rc.obs['celltype2']=adata_rc.obs['celltype2'].cat.remove_unused_categories()\n",
    "adata_rc.obs['celltype1']=adata_rc.obs['celltype1'].cat.remove_unused_categories()"
   ]
  },
  {
   "cell_type": "code",
   "execution_count": null,
   "metadata": {},
   "outputs": [],
   "source": [
    "sc.pl.umap(adata_rc,color=['celltype3'])\n"
   ]
  },
  {
   "cell_type": "code",
   "execution_count": null,
   "metadata": {},
   "outputs": [],
   "source": [
    "sc.pl.umap(adata_rc,color=['celltype2'])\n"
   ]
  },
  {
   "cell_type": "code",
   "execution_count": null,
   "metadata": {},
   "outputs": [],
   "source": [
    "    # Lex orrder needed.\n",
    "    names_1 = []\n",
    "    names_2 = []\n",
    "    names_3 = []\n",
    "    leiden_rc=[]\n",
    "    for i in range( cnamesDBlabel.shape[0]) :\n",
    "        names_1 += [cnamesDBlabel['celltype1'][str(i)]]\n",
    "        names_2 += [cnamesDBlabel['celltype2'][str(i)]]\n",
    "        names_3 += [cnamesDBlabel['celltype3'][str(i)]]\n",
    "    \n",
    "    \n",
    "    bc.tl.rc.annotate_new_cellnames( adata, adata_rc, names = names_1, new_label='celltype1_BMy', method = 'leiden')\n",
    "    bc.tl.rc.annotate_new_cellnames( adata, adata_rc, names = names_2, new_label='celltype2_BMy', method = 'leiden')\n",
    "    bc.tl.rc.annotate_new_cellnames( adata, adata_rc, names = names_3, new_label='celltype3_BMy', method = 'leiden')\n",
    "    bc.tl.rc.annotate_new_cellnames( adata, adata_rc, names = list(adata_rc.obs['leiden'].cat.categories), \n",
    "                                    new_label='leiden_BMy', method = 'leiden') \n",
    "    #sc.pl.umap(adata,color=['celltype2', 'celltype2_original',\n",
    "    #                   'celltype3'], ncols=1) \n",
    "    \n"
   ]
  },
  {
   "cell_type": "code",
   "execution_count": null,
   "metadata": {},
   "outputs": [],
   "source": [
    "adata.obs['leiden_BMy']='not_labeled'\n",
    "adata.obs['leiden_BMy']=adata.obs['leiden_BMy'].astype(\"category\")\n",
    "leidennk=adata.obs['leiden_BMy'].copy()\n",
    "leidennk=leidennk.cat.add_categories(list(adata_rc.obs['leiden'].cat.categories)).copy()\n",
    "leidennk.loc[adata_rc.obs.index]=list(adata_rc.obs['leiden'])\n",
    "adata.obs['leiden_BMy']=list(leidennk)"
   ]
  },
  {
   "cell_type": "code",
   "execution_count": null,
   "metadata": {},
   "outputs": [],
   "source": [
    "sc.pl.umap(adata_rc,color=['celltype2'])\n"
   ]
  },
  {
   "cell_type": "code",
   "execution_count": null,
   "metadata": {},
   "outputs": [],
   "source": [
    "sc.pl.umap(adata_rc,color=['celltype3'])"
   ]
  },
  {
   "cell_type": "code",
   "execution_count": null,
   "metadata": {},
   "outputs": [],
   "source": [
    "sc.pl.umap(adata_rc,color=['leiden'])"
   ]
  },
  {
   "cell_type": "code",
   "execution_count": null,
   "metadata": {},
   "outputs": [],
   "source": [
    "sc.pl.umap(adata_rc,color=['leiden_original'])"
   ]
  },
  {
   "cell_type": "code",
   "execution_count": null,
   "metadata": {},
   "outputs": [],
   "source": [
    "adata_rc.write(os.path.join(results_folder, analysis_name + '.annotated.Myeloids.h5ad'))\n",
    "#adata_rc=sc.read(os.path.join(results_folder, analysis_name + '.annotated.Myeloids.h5ad'))\n",
    "adata.write(results_file)"
   ]
  },
  {
   "cell_type": "code",
   "execution_count": null,
   "metadata": {},
   "outputs": [],
   "source": [
    "adatamy=sc.read(os.path.join(results_folder, analysis_name + '.annotated.Myeloids.h5ad'))"
   ]
  },
  {
   "cell_type": "markdown",
   "metadata": {},
   "source": [
    "### T cell reclustering"
   ]
  },
  {
   "cell_type": "code",
   "execution_count": null,
   "metadata": {},
   "outputs": [],
   "source": [
    "set(adata.obs['celltype1'])"
   ]
  },
  {
   "cell_type": "code",
   "execution_count": null,
   "metadata": {},
   "outputs": [],
   "source": [
    "    #if recluster:\n",
    "    celltype_label='celltype1'\n",
    "    to_recluster=('natural killer cell', 'T cell')\n",
    "    cluster_renamed = 'Leiden_reclustering_TNK'\n"
   ]
  },
  {
   "cell_type": "code",
   "execution_count": null,
   "metadata": {},
   "outputs": [],
   "source": [
    "    # Calling reclustering\n",
    "    adata_rc = bc.tl.rc.recluster ( adata, celltype_label = celltype_label, \n",
    "    #                           celltype=to_recluster, resolution=3.5, batch_key='experiment',n_shared=2.5)\n",
    "    adata_rc.write(os.path.join(results_folder, analysis_name + '.annotated.TNK.h5ad'))\n",
    "    "
   ]
  },
  {
   "cell_type": "code",
   "execution_count": null,
   "metadata": {},
   "outputs": [],
   "source": [
    "    adata_rc=sc.read(os.path.join(results_folder, analysis_name + '.annotated.TNK.h5ad'))\n",
    "    \n",
    "    # Leiden reclustering have to be exported to use the annotation function \n",
    "    adata_rc = bc.st.additional_labeling(adata_rc, 'leiden', cluster_renamed, \n",
    "                                         'Leiden reclustering on TNK', 'PCS', \n",
    "                                         results_folder)\n",
    "   \n"
   ]
  },
  {
   "cell_type": "code",
   "execution_count": null,
   "metadata": {},
   "outputs": [],
   "source": [
    "    # Reading additional labelling\n",
    "    f=pd.read_csv(results_folder + \"/labelings/\"+cluster_renamed+\"/fract_pos.gct\",sep=\"\\t\",skiprows=2)\n",
    "    df=bc.tl.sig.score_mw(f,mymarkers)\n",
    "    myc=np.median(df.loc['Ubi',:]*1/3) ### Set a cutoff based on Ubi and scale with values from config file\n",
    "    df=df.drop('Ubi')"
   ]
  },
  {
   "cell_type": "code",
   "execution_count": null,
   "metadata": {},
   "outputs": [],
   "source": [
    "    # Adjust cutoffs if needed\n",
    "    # Cutoffs can also be manually adjusted if needed \n",
    "    sigconfig.loc['Blymphocyte','Cutoff']=3\n",
    "    sigconfig.loc['Tcell','Cutoff']=2.75\n",
    "    sigconfig.loc['CD8Tcell','Cutoff']=1.375\n",
    "    sigconfig.loc['NKcell','Cutoff']=3\n",
    "    sigconfig.loc['CD56dimNK','Cutoff']=3\n",
    "    sigconfig.loc['CD56brightNK','Cutoff']=0.75\n",
    "    sigconfig.loc['CytotoxCD8Tcell','Cutoff']=4.75\n",
    "    sigconfig.loc['NaiCD4Tcell','Cutoff']=4.5\n",
    "    sigconfig.loc['NaiCD8Tcell','Cutoff']=4.5\n",
    "    sigconfig.loc['EMCD8Tcell','Cutoff']=4\n",
    "    sigconfig.loc['Macrophage_MARCO','Cutoff']=1.75\n",
    "    sigconfig.loc['Macrophage_CXCL9','Cutoff']=0.75\n",
    "    sigconfig.loc['Macrophage_MSR1','Cutoff']=5\n",
    "    sigconfig.loc['ProlifBcell','Cutoff']=1.5\n",
    "    sigconfig.loc['NaiBcell','Cutoff']=2.5\n",
    "    sigconfig.loc['MemBcell','Cutoff']=1.5\n",
    "    sigconfig.loc['ExhCD8Tcell','Cutoff']=6\n",
    "    sigconfig.loc['CMCD4Tcell','Cutoff']=2\n",
    "    sigconfig.loc['CMCD8Tcell','Cutoff']=2\n",
    "    sigconfig.loc['Hematopoietic','Cutoff']=0.5\n",
    "    sigconfig.loc['RegTcell','Cutoff']=1.5\n",
    "    sigconfig.loc['Myeloid','Cutoff']=1\n",
    "    #sigconfig.loc['Tcell','Cutoff']\n",
    "\n",
    "    toexclude=['Erythrocyte','AlphaPancreatic', 'BetaPancreatic', 'DeltaPancreatic',\n",
    "           'FollicularBcell','Neural', 'ProlifBcell']\n",
    "    \n",
    "    # RECOMPUTING SIG SCORE WITH NEW CUTOFF\n",
    "\n",
    "    sigscores={}\n",
    "    for mysig in list(df.index):\n",
    "        sigscores[mysig]=bc.tl.sig.getset(df,mysig,sigconfig.loc[mysig,'Cutoff']*myc)\n",
    "\n",
    "    \n",
    "    cnames=bc.tl.sig.make_anno(df,sigscores,sigconfig,levsk, toexclude=toexclude)\n",
    "    cnamesDBlabel = bc.tl.sig.obtain_dblabel(bescapath+'/besca/datasets/nomenclature/CellTypes_v1.tsv', cnames )\n",
    "    \n",
    "    adata_rc.obs['celltype0']=bc.tl.sig.add_anno(adata_rc,cnamesDBlabel,'celltype0','leiden')\n",
    "    adata_rc.obs['celltype1']=bc.tl.sig.add_anno(adata_rc,cnamesDBlabel,'celltype1','leiden')\n",
    "    adata_rc.obs['celltype2']=bc.tl.sig.add_anno(adata_rc,cnamesDBlabel,'celltype2','leiden')\n",
    "    adata_rc.obs['celltype3']=bc.tl.sig.add_anno(adata_rc,cnamesDBlabel,'celltype3','leiden')\n",
    "    \n",
    "    sc.pl.umap(adata_rc,color=['celltype0','celltype1'])"
   ]
  },
  {
   "cell_type": "code",
   "execution_count": null,
   "metadata": {},
   "outputs": [],
   "source": [
    "sc.pl.umap(adata_rc,color=['PatientID','Sample type','Lesion'])"
   ]
  },
  {
   "cell_type": "code",
   "execution_count": null,
   "metadata": {},
   "outputs": [],
   "source": [
    "sc.pl.umap(adata_rc,color=mymarkers['Tcell'])"
   ]
  },
  {
   "cell_type": "code",
   "execution_count": null,
   "metadata": {},
   "outputs": [],
   "source": [
    "sc.pl.umap(adata_rc,color=['CD4','CD8A','CD8B', 'CD3D', 'MKI67','PDCD1', 'CD38','ENTPD1','TCF7',\n",
    "                               'XCL1', 'TOX', 'IL7R','LAG3','GNLY', 'GZMB','GZMH', 'FOXP3','IL2RA'])"
   ]
  },
  {
   "cell_type": "code",
   "execution_count": null,
   "metadata": {},
   "outputs": [],
   "source": [
    "allcells=pd.read_csv(bescapath+'/besca/datasets/nomenclature/CellTypes_v1.tsv',sep='\\t')"
   ]
  },
  {
   "cell_type": "code",
   "execution_count": null,
   "metadata": {},
   "outputs": [],
   "source": [
    "list(allcells['dblabel'])"
   ]
  },
  {
   "cell_type": "code",
   "execution_count": null,
   "metadata": {},
   "outputs": [],
   "source": [
    "sc.pl.umap(adata_rc,color=['celltype2'])"
   ]
  },
  {
   "cell_type": "code",
   "execution_count": null,
   "metadata": {},
   "outputs": [],
   "source": [
    "sc.pl.umap(adata_rc,color=['celltype2_original'])"
   ]
  },
  {
   "cell_type": "code",
   "execution_count": null,
   "metadata": {},
   "outputs": [],
   "source": [
    "sc.pl.umap(adata_rc,color=['celltype3'])"
   ]
  },
  {
   "cell_type": "code",
   "execution_count": null,
   "metadata": {},
   "outputs": [],
   "source": [
    "sc.pl.umap(adata_rc,color=['celltype3_original'])"
   ]
  },
  {
   "cell_type": "code",
   "execution_count": null,
   "metadata": {},
   "outputs": [],
   "source": [
    "sc.pl.umap(adata_rc,color=['leiden'], legend_loc='on data', legend_fontsize=10)"
   ]
  },
  {
   "cell_type": "code",
   "execution_count": null,
   "metadata": {},
   "outputs": [],
   "source": [
    "sc.pl.umap(adata_rc,color=['leiden_original'])"
   ]
  },
  {
   "cell_type": "code",
   "execution_count": null,
   "metadata": {},
   "outputs": [],
   "source": [
    "set(adata_rc.obs['celltype3'])"
   ]
  },
  {
   "cell_type": "code",
   "execution_count": null,
   "metadata": {},
   "outputs": [],
   "source": [
    "adata_rc.obs['celltype3']=adata_rc.obs['celltype3'].cat.add_categories(['mature NK T cell', 'effector memory CD4-positive, alpha-beta T cell',\n",
    "                            'CD8-positive, alpha-beta memory T cell','CD8-positive, alpha-beta cytokine secreting effector T cell'])\n"
   ]
  },
  {
   "cell_type": "code",
   "execution_count": null,
   "metadata": {},
   "outputs": [],
   "source": [
    "adata_rc.obs.loc[adata_rc.obs['leiden'].isin(['26','19','6','35','15']),'celltype3']='mature NK T cell'\n",
    "adata_rc.obs.loc[adata_rc.obs['leiden'].isin(['10']),'celltype3']='CD8-positive, alpha-beta memory T cell'\n",
    "adata_rc.obs.loc[adata_rc.obs['celltype3'].isin(['effector memory CD8-positive, alpha-beta T cell']),'celltype3']='CD8-positive, alpha-beta cytokine secreting effector T cell'\n"
   ]
  },
  {
   "cell_type": "code",
   "execution_count": null,
   "metadata": {},
   "outputs": [],
   "source": [
    "adata_rc.obs.loc[adata_rc.obs['celltype3'].isin(['CD8-positive, alpha-beta cytotoxic T cell']),'celltype3']='CD8-positive, alpha-beta memory T cell'\n",
    "adata_rc.obs.loc[adata_rc.obs['leiden'].isin(['27','22']),'celltype3']='CD8-positive, alpha-beta cytotoxic T cell'\n",
    "#adata_rc.obs.loc[adata_rc.obs['celltype3'].isin(['myeloid leukocyte']),'celltype3']='immature conventional dendritic cell'\n"
   ]
  },
  {
   "cell_type": "code",
   "execution_count": null,
   "metadata": {},
   "outputs": [],
   "source": [
    "adata_rc.obs.loc[adata_rc.obs['celltype3'].isin(['CD4-positive, alpha-beta cytotoxic T cell']),'celltype3']='effector memory CD4-positive, alpha-beta T cell'\n"
   ]
  },
  {
   "cell_type": "code",
   "execution_count": null,
   "metadata": {},
   "outputs": [],
   "source": [
    "adata_rc.obs.loc[adata_rc.obs['celltype3'].isin(['CD4-positive, alpha-beta T cell']),'celltype3']='effector memory CD4-positive, alpha-beta T cell'\n",
    "adata_rc.obs.loc[adata_rc.obs['celltype3'].isin(['CD8-positive, alpha-beta T cell']),'celltype3']='CD8-positive, alpha-beta memory T cell'\n"
   ]
  },
  {
   "cell_type": "code",
   "execution_count": null,
   "metadata": {},
   "outputs": [],
   "source": [
    "sc.pl.umap(adata_rc,color=['celltype3'])"
   ]
  },
  {
   "cell_type": "code",
   "execution_count": null,
   "metadata": {},
   "outputs": [],
   "source": [
    "adata_rc.obs['celltype3']=adata_rc.obs['celltype3'].cat.remove_unused_categories()\n",
    "adata_rc.obs['celltype2']=adata_rc.obs['celltype2'].cat.remove_unused_categories()\n",
    "adata_rc.obs['celltype1']=adata_rc.obs['celltype1'].cat.remove_unused_categories()"
   ]
  },
  {
   "cell_type": "code",
   "execution_count": null,
   "metadata": {},
   "outputs": [],
   "source": [
    "#adata.obs=adata.obs.drop(columns=['celltype1_TNK','celltype2_TNK','celltype3_TNK','leiden_TNK']).copy()"
   ]
  },
  {
   "cell_type": "code",
   "execution_count": null,
   "metadata": {},
   "outputs": [],
   "source": [
    "i='3'\n",
    "adata_rc[adata_rc.obs['leiden']==i].obs['celltype1'][0]"
   ]
  },
  {
   "cell_type": "code",
   "execution_count": null,
   "metadata": {},
   "outputs": [],
   "source": [
    "c1={}\n",
    "c2={}\n",
    "c3={}\n",
    "for i in list(cnamesDBlabel.index):\n",
    "    c1[i]=adata_rc[adata_rc.obs['leiden']==i].obs['celltype1'][0]\n",
    "    c2[i]=adata_rc[adata_rc.obs['leiden']==i].obs['celltype2'][0]\n",
    "    c3[i]=adata_rc[adata_rc.obs['leiden']==i].obs['celltype3'][0]\n",
    "    \n",
    "cnamesDBlabelnew=cnamesDBlabel.copy()\n",
    "cnamesDBlabelnew['celltype1']=pd.Series(c1)\n",
    "cnamesDBlabelnew['celltype2']=pd.Series(c2)\n",
    "cnamesDBlabelnew['celltype3']=pd.Series(c3)"
   ]
  },
  {
   "cell_type": "code",
   "execution_count": null,
   "metadata": {},
   "outputs": [],
   "source": [
    "    # Lex orrder needed.\n",
    "    names_1 = []\n",
    "    names_2 = []\n",
    "    names_3 = []\n",
    "    leiden_rc=[]\n",
    "    for i in range( cnamesDBlabelnew.shape[0]) :\n",
    "        names_1 += [cnamesDBlabelnew['celltype1'][str(i)]]\n",
    "        names_2 += [cnamesDBlabelnew['celltype2'][str(i)]]\n",
    "        names_3 += [cnamesDBlabelnew['celltype3'][str(i)]]\n",
    "    \n",
    "    bc.tl.rc.annotate_new_cellnames( adata, adata_rc, names = names_1, new_label='celltype1_TNK', method = 'leiden')\n",
    "    bc.tl.rc.annotate_new_cellnames( adata, adata_rc, names = names_2, new_label='celltype2_TNK', method = 'leiden')\n",
    "    bc.tl.rc.annotate_new_cellnames( adata, adata_rc, names = names_3, new_label='celltype3_TNK', method = 'leiden')\n",
    "    bc.tl.rc.annotate_new_cellnames( adata, adata_rc, names = list(adata_rc.obs['leiden'].cat.categories), \n",
    "                                    new_label='leiden_TNK', method = 'leiden') \n",
    "    #sc.pl.umap(adata,color=['celltype2', 'celltype2_original',\n",
    "    #                   'celltype3'], ncols=1)     \n",
    "    adata.obs['leiden_TNK']='not_labeled'\n",
    "    adata.obs['leiden_TNK']=adata.obs['leiden_TNK'].astype(\"category\")\n",
    "    leidennk=adata.obs['leiden_TNK'].copy()\n",
    "    leidennk=leidennk.cat.add_categories(list(adata_rc.obs['leiden'].cat.categories)).copy()\n",
    "    leidennk.loc[adata_rc.obs.index]=list(adata_rc.obs['leiden'])\n",
    "    adata.obs['leiden_TNK']=list(leidennk)"
   ]
  },
  {
   "cell_type": "code",
   "execution_count": null,
   "metadata": {},
   "outputs": [],
   "source": [
    "#adata_rc=sc.read(os.path.join(results_folder, analysis_name + '.annotated.TNK.h5ad'))"
   ]
  },
  {
   "cell_type": "code",
   "execution_count": null,
   "metadata": {},
   "outputs": [],
   "source": [
    "adata_rc.write(os.path.join(results_folder, analysis_name + '.annotated.TNK.h5ad'))\n",
    "#adata_rc=sc.read(os.path.join(results_folder, analysis_name + '.annotated.TNK.h5ad'))\n",
    "adata.write(results_file)"
   ]
  },
  {
   "cell_type": "code",
   "execution_count": null,
   "metadata": {},
   "outputs": [],
   "source": [
    "sc.pl.umap(adata,color=['celltype3_TNK'], ncols=1) "
   ]
  },
  {
   "cell_type": "code",
   "execution_count": null,
   "metadata": {},
   "outputs": [],
   "source": [
    "sc.pl.umap(adata,color=['celltype3_TNK'], ncols=1) "
   ]
  },
  {
   "cell_type": "code",
   "execution_count": null,
   "metadata": {},
   "outputs": [],
   "source": [
    "sc.pl.umap(adata,color=['leiden_TNK'], ncols=1) "
   ]
  },
  {
   "cell_type": "code",
   "execution_count": null,
   "metadata": {},
   "outputs": [],
   "source": [
    "sc.pl.umap(adata,color=['celltype2_TNK'], ncols=1) "
   ]
  },
  {
   "cell_type": "code",
   "execution_count": null,
   "metadata": {},
   "outputs": [],
   "source": [
    "sc.pl.umap(adata,color=['celltype2_original'], ncols=1) "
   ]
  },
  {
   "cell_type": "code",
   "execution_count": null,
   "metadata": {},
   "outputs": [],
   "source": [
    "sc.pl.umap(adata_rc,color=['leiden','Sample type','PatientID'], ncols=1) "
   ]
  },
  {
   "cell_type": "code",
   "execution_count": null,
   "metadata": {},
   "outputs": [],
   "source": [
    "sc.pl.umap(adata_rc,color=['score_ExhCD8Tcell_scanpy','score_EMCD8Tcell_scanpy'])"
   ]
  },
  {
   "cell_type": "code",
   "execution_count": null,
   "metadata": {},
   "outputs": [],
   "source": [
    "rgoi=['CCR7','LAMP3','CD1C','XCR1','CXCL9','MARCO','MSR1','CLEC9A','TCF7L2']\n",
    "rgoi=['LEF1','CCR7','SELL','IL7R']\n",
    "sc.pl.umap(adata_rc,color=rgoi, ncols=1) "
   ]
  },
  {
   "cell_type": "code",
   "execution_count": null,
   "metadata": {},
   "outputs": [],
   "source": [
    "sc.pl.umap(adata,color=['celltype1','celltype3', 'celltype3_original'], ncols=1) "
   ]
  },
  {
   "cell_type": "markdown",
   "metadata": {},
   "source": [
    "## Adjust main annotation based on partial ones"
   ]
  },
  {
   "cell_type": "code",
   "execution_count": null,
   "metadata": {},
   "outputs": [],
   "source": [
    "sub1=adata.obs['celltype1_TNK'].copy()\n",
    "sub1=sub1.cat.add_categories(list(set(adata.obs['celltype1_BMy'].cat.categories)-set((sub1.cat.categories))))\n",
    "sub1[sub1=='not_labeled']=list(adata.obs['celltype1_BMy'][sub1=='not_labeled'])\n",
    "adata.obs['celltype1_rc_cells']=list(sub1)\n",
    "\n",
    "sub1=adata.obs['celltype2_TNK'].copy()\n",
    "sub1=sub1.cat.add_categories(list(set(adata.obs['celltype2_BMy'].cat.categories)-set((sub1.cat.categories))))\n",
    "sub1[sub1=='not_labeled']=list(adata.obs['celltype2_BMy'][sub1=='not_labeled'])\n",
    "adata.obs['celltype2_rc_cells']=list(sub1)\n",
    "\n",
    "sub1=adata.obs['celltype3_TNK'].copy()\n",
    "sub1=sub1.cat.add_categories(list(set(adata.obs['celltype3_BMy'].cat.categories)-set((sub1.cat.categories))))\n",
    "sub1[sub1=='not_labeled']=list(adata.obs['celltype3_BMy'][sub1=='not_labeled'])\n",
    "adata.obs['celltype3_rc_cells']=list(sub1)\n",
    "\n",
    "sub1=adata.obs['leiden_TNK'].copy()\n",
    "sub1=sub1.cat.add_categories(list(set(adata.obs['leiden_BMy'].cat.categories)-set((sub1.cat.categories))))\n",
    "sub1[sub1=='not_labeled']=list(adata.obs['leiden_BMy'][sub1=='not_labeled'])\n",
    "adata.obs['leiden_rc_cells']=list(sub1)\n"
   ]
  },
  {
   "cell_type": "code",
   "execution_count": null,
   "metadata": {},
   "outputs": [],
   "source": [
    "sub1=adata.obs['celltype1_PBMC'].copy()\n",
    "sub1=sub1.cat.add_categories(list(set(adata.obs['celltype1_TIL'].cat.categories)-set((sub1.cat.categories))))\n",
    "sub1[sub1=='not_labeled']=list(adata.obs['celltype1_TIL'][sub1=='not_labeled'])\n",
    "adata.obs['celltype1_rc_sample']=list(sub1)\n",
    "\n",
    "sub1=adata.obs['celltype2_PBMC'].copy()\n",
    "sub1=sub1.cat.add_categories(list(set(adata.obs['celltype2_TIL'].cat.categories)-set((sub1.cat.categories))))\n",
    "sub1[sub1=='not_labeled']=list(adata.obs['celltype2_TIL'][sub1=='not_labeled'])\n",
    "adata.obs['celltype2_rc_sample']=list(sub1)\n",
    "\n",
    "sub1=adata.obs['celltype3_PBMC'].copy()\n",
    "sub1=sub1.cat.add_categories(list(set(adata.obs['celltype3_TIL'].cat.categories)-set((sub1.cat.categories))))\n",
    "sub1[sub1=='not_labeled']=list(adata.obs['celltype3_TIL'][sub1=='not_labeled'])\n",
    "adata.obs['celltype3_rc_sample']=list(sub1)\n",
    "\n",
    "sub1=adata.obs['leiden_PBMC'].copy()\n",
    "sub1=sub1.cat.add_categories(list(set(adata.obs['leiden_TIL'].cat.categories)-set((sub1.cat.categories))))\n",
    "sub1[sub1=='not_labeled']=list(adata.obs['leiden_TIL'][sub1=='not_labeled'])\n",
    "adata.obs['leiden_rc_sample']=list(sub1)\n"
   ]
  },
  {
   "cell_type": "code",
   "execution_count": null,
   "metadata": {},
   "outputs": [],
   "source": [
    "sc.pl.umap(adata[adata.obs['celltype1']=='myeloid leukocyte'], color=['leiden'], \n",
    "           legend_loc='on data', legend_fontsize=8)"
   ]
  },
  {
   "cell_type": "code",
   "execution_count": null,
   "metadata": {},
   "outputs": [],
   "source": [
    "sc.pl.umap(adata[adata.obs['celltype1']=='myeloid leukocyte'], color=['leiden_rc_cells'], \n",
    "           legend_loc='on data', legend_fontsize=7)"
   ]
  },
  {
   "cell_type": "code",
   "execution_count": null,
   "metadata": {},
   "outputs": [],
   "source": [
    "sc.pl.umap(adata[adata.obs['celltype1']=='myeloid leukocyte'], color=['leiden_rc_sample'], \n",
    "           legend_loc='on data', legend_fontsize=7)"
   ]
  },
  {
   "cell_type": "code",
   "execution_count": null,
   "metadata": {},
   "outputs": [],
   "source": [
    "sc.pl.umap(adata[adata.obs['celltype1']=='myeloid leukocyte'], color=['celltype3'])"
   ]
  },
  {
   "cell_type": "code",
   "execution_count": null,
   "metadata": {},
   "outputs": [],
   "source": [
    "sc.pl.umap(adata[adata.obs['celltype1']=='myeloid leukocyte'], color=['celltype3_rc_sample'])"
   ]
  },
  {
   "cell_type": "code",
   "execution_count": null,
   "metadata": {},
   "outputs": [],
   "source": [
    "sc.pl.umap(adata[adata.obs['celltype1']=='myeloid leukocyte'], color=['celltype3_rc_cells'])"
   ]
  },
  {
   "cell_type": "code",
   "execution_count": null,
   "metadata": {},
   "outputs": [],
   "source": [
    "sc.pl.umap(adata[adata.obs['celltype1']=='myeloid leukocyte'], color=['celltype3_expanded'])"
   ]
  },
  {
   "cell_type": "code",
   "execution_count": null,
   "metadata": {},
   "outputs": [],
   "source": [
    "sc.pl.umap(adata[adata.obs['celltype1']=='myeloid leukocyte'], color=['celltype3_expanded_TIL'])"
   ]
  },
  {
   "cell_type": "code",
   "execution_count": null,
   "metadata": {},
   "outputs": [],
   "source": [
    "adata.obs['celltype4']=adata.obs['celltype3'].copy()"
   ]
  },
  {
   "cell_type": "code",
   "execution_count": null,
   "metadata": {},
   "outputs": [],
   "source": [
    "sub3=adata.obs['celltype3'].copy()\n",
    "sub4=adata.obs['celltype4'].copy()\n",
    "sub2=adata.obs['celltype2'].copy()"
   ]
  },
  {
   "cell_type": "code",
   "execution_count": null,
   "metadata": {},
   "outputs": [],
   "source": [
    "sub4=sub4.cat.add_categories(['CCR7-positive myeloid dendritic cell',\n",
    "                              'classical monocyte, brain lesions', \n",
    "                              'myeloid T cell', 'immature conventional dendritic cell',\n",
    "                             'transitional monocyte'])\n",
    "sub3=sub3.cat.add_categories(['CCR7-positive myeloid dendritic cell', 'immature conventional dendritic cell'])\n",
    "#sub2=sub2.cat.add_categories(['myeloid leukocyte'])"
   ]
  },
  {
   "cell_type": "code",
   "execution_count": null,
   "metadata": {},
   "outputs": [],
   "source": [
    "imono=(adata.obs['celltype3_rc_cells'].isin(['CD141-positive myeloid dendritic cell']))&(adata.obs['celltype2']=='myeloid dendritic cell')\n",
    "\n",
    "sub4[imono]='CD141-positive myeloid dendritic cell'\n",
    "sub3[imono]='CD141-positive myeloid dendritic cell'\n",
    "\n",
    "imono=(adata.obs['celltype3_rc_cells'].isin(['CCR7-positive myeloid dendritic cell']))&(adata.obs['celltype2']=='myeloid dendritic cell')\n",
    "sub4[imono]='CCR7-positive myeloid dendritic cell'\n",
    "sub3[imono]='CCR7-positive myeloid dendritic cell'\n",
    "\n",
    "imono=(adata.obs['celltype3_rc_sample'].isin(['CCR7-positive myeloid dendritic cell']))&(adata.obs['celltype2']=='myeloid dendritic cell')\n",
    "sub4[imono]='CCR7-positive myeloid dendritic cell'\n",
    "sub3[imono]='CCR7-positive myeloid dendritic cell'\n",
    "\n",
    "sub4[(adata.obs['celltype3_rc_cells'].isin(['MSR1-positive macrophage']))&(adata.obs['celltype2']=='macrophage')]='MSR1-positive macrophage'\n",
    "sub3[(adata.obs['celltype3_rc_cells'].isin(['MSR1-positive macrophage']))&(adata.obs['celltype2']=='macrophage')]='MSR1-positive macrophage'\n",
    "\n",
    "sub4[(adata.obs['celltype3_rc_cells'].isin(['CXCL9-positive macrophage']))&(adata.obs['celltype2']=='macrophage')]='CXCL9-positive macrophage'\n",
    "sub3[(adata.obs['celltype3_rc_cells'].isin(['CXCL9-positive macrophage']))&(adata.obs['celltype2']=='macrophage')]='CXCL9-positive macrophage'\n",
    "\n",
    "imono=(adata.obs['celltype3_rc_cells'].isin(['myeloid leukocyte']))&(adata.obs['celltype2']=='myeloid dendritic cell')\n",
    "sub4[imono]='immature conventional dendritic cell'\n",
    "sub3[imono]='immature conventional dendritic cell'\n",
    "\n",
    "\n",
    "imono=(adata.obs['celltype3_rc_sample'].isin(['myeloid leukocyte']))&(adata.obs['celltype2']=='myeloid dendritic cell')\n",
    "sub4[imono]='immature conventional dendritic cell'\n",
    "sub3[imono]='immature conventional dendritic cell'\n",
    "\n",
    "sub2[(adata.obs['celltype3'].isin(['macrophage']))]='macrophage'\n",
    "\n",
    "#sub4[(adata.obs['celltype3'].isin(['macrophage']))]='myeloid leukocyte'\n",
    "#sub3[(adata.obs['celltype3'].isin(['macrophage']))]='myeloid leukocyte'\n",
    "#sub2[(adata.obs['celltype3'].isin(['macrophage']))]='myeloid leukocyte'\n",
    "\n",
    "imono=(adata.obs['celltype3_expanded'].isin(['classical monocyte, brain lesions']))&(adata.obs['celltype2']=='classical monocyte')\n",
    "sub4[imono]='classical monocyte, brain lesions'\n",
    "\n",
    "imono=(adata.obs['celltype3_expanded'].isin(['myeloid T cell']))&(adata.obs['celltype2']=='classical monocyte')\n",
    "sub4[imono]='myeloid T cell'\n",
    "\n",
    "\n",
    "imono=(adata.obs['leiden_rc_cells'].isin(['13','28']))&(adata.obs['celltype2']=='macrophage')&(adata.obs['celltype3']!='non-classical monocyte')\n",
    "sub4[imono]='transitional monocyte'\n",
    "sub3[imono]='classical monocyte'\n",
    "sub2[imono]='classical monocyte'\n",
    "\n",
    "imono=(adata.obs['leiden_rc_cells'].isin(['29','19']))&(adata.obs['celltype2']=='macrophage')\n",
    "sub4[imono]='MARCO-positive macrophage'\n",
    "sub3[imono]='MARCO-positive macrophage'\n",
    "#adata.obs['celltype3']=list(sub1)\n",
    "\n",
    "imono=(adata.obs['leiden_rc_cells'].isin(['23']))&(adata.obs['celltype2']=='macrophage')\n",
    "sub4[imono]='macrophage'\n",
    "sub3[imono]='macrophage'"
   ]
  },
  {
   "cell_type": "code",
   "execution_count": null,
   "metadata": {},
   "outputs": [],
   "source": [
    "adata.obs['celltype2_merged']=list(sub2)\n",
    "adata.obs['celltype3_merged']=list(sub3)\n",
    "adata.obs['celltype4_merged']=list(sub4)"
   ]
  },
  {
   "cell_type": "code",
   "execution_count": null,
   "metadata": {},
   "outputs": [],
   "source": [
    "#imono=(adata.obs['celltype3'].isin(['CD141-positive myeloid dendritic cell']))&(adata.obs['celltype3_merged']=='immature conventional dendritic cell')\n",
    "#sub4[imono]='CD141-positive myeloid dendritic cell'\n",
    "#sub3[imono]='CD141-positive myeloid dendritic cell'\n",
    "#adata.obs['celltype3_merged']=list(sub3)\n",
    "#adata.obs['celltype4_merged']=list(sub4)"
   ]
  },
  {
   "cell_type": "code",
   "execution_count": null,
   "metadata": {},
   "outputs": [],
   "source": [
    "sc.pl.umap(adata[adata.obs['celltype2_merged']=='myeloid dendritic cell'], color=['celltype4_merged'])"
   ]
  },
  {
   "cell_type": "code",
   "execution_count": null,
   "metadata": {},
   "outputs": [],
   "source": [
    "sc.pl.umap(adata[adata.obs['celltype1']=='myeloid leukocyte'], color=['celltype3_merged'])"
   ]
  },
  {
   "cell_type": "code",
   "execution_count": null,
   "metadata": {},
   "outputs": [],
   "source": [
    "sc.pl.umap(adata[adata.obs['celltype1']=='myeloid leukocyte'], color=['celltype3_rc_sample'])"
   ]
  },
  {
   "cell_type": "markdown",
   "metadata": {},
   "source": [
    " Immature DCs are transitional DCs are Axl+ DCs"
   ]
  },
  {
   "cell_type": "code",
   "execution_count": null,
   "metadata": {},
   "outputs": [],
   "source": [
    "sc.pl.umap(adata[adata.obs['celltype1']=='myeloid leukocyte'], color=['CLEC4C','TCF4','IRF8','FAM105A','NBPF10','LILRB4','SIGLEC6'])"
   ]
  },
  {
   "cell_type": "code",
   "execution_count": null,
   "metadata": {},
   "outputs": [],
   "source": [
    "sc.pl.umap(adata[adata.obs['celltype1']=='myeloid leukocyte'], color=mymarkers['NClassMonocyte'])"
   ]
  },
  {
   "cell_type": "code",
   "execution_count": null,
   "metadata": {},
   "outputs": [],
   "source": [
    "sc.pl.umap(adata[adata.obs['celltype1']=='myeloid leukocyte'], color=mymarkers['ClassMonocyte'])"
   ]
  },
  {
   "cell_type": "code",
   "execution_count": null,
   "metadata": {},
   "outputs": [],
   "source": [
    "sc.pl.umap(adata[adata.obs['celltype1']=='myeloid leukocyte'], color=mymarkers['Macrophage'])"
   ]
  },
  {
   "cell_type": "code",
   "execution_count": null,
   "metadata": {},
   "outputs": [],
   "source": [
    "sc.pl.umap(adata[adata.obs['celltype1']=='myeloid leukocyte'], color=mymarkers['Macrophage_CXCL9'])"
   ]
  },
  {
   "cell_type": "code",
   "execution_count": null,
   "metadata": {},
   "outputs": [],
   "source": [
    "sc.pl.umap(adata[adata.obs['celltype1']=='myeloid leukocyte'], color=mymarkers['Macrophage_MARCO'])"
   ]
  },
  {
   "cell_type": "code",
   "execution_count": null,
   "metadata": {},
   "outputs": [],
   "source": [
    "sc.pl.umap(adata[adata.obs['celltype1']=='myeloid leukocyte'], color=mymarkers['Macrophage_MSR1'])"
   ]
  },
  {
   "cell_type": "code",
   "execution_count": null,
   "metadata": {},
   "outputs": [],
   "source": [
    "sc.pl.umap(adata[adata.obs['celltype1']=='myeloid leukocyte'], color=mymarkers['cDC'])"
   ]
  },
  {
   "cell_type": "code",
   "execution_count": null,
   "metadata": {},
   "outputs": [],
   "source": [
    "#sc.pl.umap(adata[adata.obs['celltype1']=='myeloid leukocyte'], color=['Lesion'])"
   ]
  },
  {
   "cell_type": "code",
   "execution_count": null,
   "metadata": {},
   "outputs": [],
   "source": [
    "sc.pl.umap(adata[adata.obs['celltype1']=='T cell'], color=['leiden'], legend_loc='on data', legend_fontsize=7)"
   ]
  },
  {
   "cell_type": "code",
   "execution_count": null,
   "metadata": {},
   "outputs": [],
   "source": [
    "sc.pl.umap(adata, color=['celltype3_merged'])"
   ]
  },
  {
   "cell_type": "code",
   "execution_count": null,
   "metadata": {},
   "outputs": [],
   "source": [
    "sc.pl.umap(adata[adata.obs['celltype1']=='T cell'], color=['celltype3_rc_cells'])"
   ]
  },
  {
   "cell_type": "code",
   "execution_count": null,
   "metadata": {},
   "outputs": [],
   "source": [
    "set(adata.obs['celltype2'])"
   ]
  },
  {
   "cell_type": "code",
   "execution_count": null,
   "metadata": {},
   "outputs": [],
   "source": [
    "sub3=adata.obs['celltype3_merged'].copy()\n",
    "sub4=adata.obs['celltype4_merged'].copy()\n",
    "sub2=adata.obs['celltype2_merged'].copy()\n",
    "\n",
    "sub4=sub4.cat.add_categories(['CD8-positive, alpha-beta cytokine secreting effector T cell', \n",
    "                              'proliferating CD4-positive, alpha-beta T cell',\n",
    "                              'exhausted-like CD4-positive, alpha-beta T cell','proliferating NK cell'])\n",
    "sub3=sub3.cat.add_categories(['CD8-positive, alpha-beta cytokine secreting effector T cell',\n",
    "                              'proliferating CD4-positive, alpha-beta T cell',\n",
    "                              'exhausted-like CD4-positive, alpha-beta T cell','proliferating NK cell'])\n",
    "sub2=sub2.cat.add_categories(['proliferating NK cell'])\n"
   ]
  },
  {
   "cell_type": "code",
   "execution_count": null,
   "metadata": {},
   "outputs": [],
   "source": [
    "sub4[(adata.obs['celltype3_rc_cells'].isin(['CD8-positive, alpha-beta cytokine secreting effector T cell']))]='CD8-positive, alpha-beta cytokine secreting effector T cell'\n",
    "sub3[(adata.obs['celltype3_rc_cells'].isin(['CD8-positive, alpha-beta cytokine secreting effector T cell']))]='CD8-positive, alpha-beta cytokine secreting effector T cell'\n",
    "sub2[(adata.obs['celltype3_rc_cells'].isin(['CD8-positive, alpha-beta cytokine secreting effector T cell']))]='CD8-positive, alpha-beta T cell'\n",
    "\n",
    "imono=(adata.obs['leiden'].isin(['33','36']))\n",
    "sub4[imono]='CD8-positive, alpha-beta cytokine secreting effector T cell'\n",
    "sub3[imono]='CD8-positive, alpha-beta cytokine secreting effector T cell'\n"
   ]
  },
  {
   "cell_type": "code",
   "execution_count": null,
   "metadata": {},
   "outputs": [],
   "source": [
    "idx=(adata.obs['celltype3_rc_cells'].isin(['proliferating CD4-positive, alpha-beta T cell']))&(adata.obs['celltype1'].isin(['T cell']))\n",
    "sub4[idx]='proliferating CD4-positive, alpha-beta T cell'\n",
    "sub3[idx]='proliferating CD4-positive, alpha-beta T cell'\n",
    "sub2[idx]='CD4-positive, alpha-beta T cell'\n",
    "sub2[sub3=='proliferating CD4-positive, alpha-beta T cell']='CD4-positive, alpha-beta T cell'"
   ]
  },
  {
   "cell_type": "code",
   "execution_count": null,
   "metadata": {},
   "outputs": [],
   "source": [
    "idx=(adata.obs['celltype3_rc_cells'].isin(['proliferating CD4-positive, alpha-beta T cell']))&(adata.obs['celltype1'].isin(['natural killer cell']))\n",
    "sub4[idx]='proliferating NK cell'\n",
    "sub3[idx]='proliferating NK cell'\n",
    "sub2[idx]='proliferating NK cell'\n"
   ]
  },
  {
   "cell_type": "code",
   "execution_count": null,
   "metadata": {},
   "outputs": [],
   "source": [
    "sub4[(adata.obs['celltype3_rc_cells'].isin(['naive thymus-derived CD8-positive, alpha-beta T cell']))]='naive thymus-derived CD8-positive, alpha-beta T cell'\n",
    "sub3[(adata.obs['celltype3_rc_cells'].isin(['naive thymus-derived CD8-positive, alpha-beta T cell']))]='naive thymus-derived CD8-positive, alpha-beta T cell'\n",
    "sub2[(adata.obs['celltype3_rc_cells'].isin(['naive thymus-derived CD8-positive, alpha-beta T cell']))]='CD8-positive, alpha-beta T cell'\n"
   ]
  },
  {
   "cell_type": "code",
   "execution_count": null,
   "metadata": {},
   "outputs": [],
   "source": [
    "idx=(adata.obs['celltype3_rc_cells'].isin(['central memory CD4-positive, alpha-beta T cell']))&(adata.obs['celltype3'].isin(['central memory CD4-positive, alpha-beta T cell',\n",
    "                                                                                                                             'naive thymus-derived CD4-positive, alpha-beta T cell', \n",
    "                                                                                                                            'CD4-positive, alpha-beta cytotoxic T cell']))\n",
    "sub4[idx]='central memory CD4-positive, alpha-beta T cell'\n",
    "sub3[idx]='central memory CD4-positive, alpha-beta T cell'\n",
    "sub2[idx]='CD4-positive, alpha-beta T cell'\n"
   ]
  },
  {
   "cell_type": "code",
   "execution_count": null,
   "metadata": {},
   "outputs": [],
   "source": [
    "idx=(adata.obs['celltype3_rc_cells'].isin(['central memory CD4-positive, alpha-beta T cell']))&(adata.obs['celltype3'].isin(['effector memory CD4-positive, alpha-beta T cell']))\n",
    "sub4[idx]='exhausted-like CD4-positive, alpha-beta T cell'\n",
    "sub3[idx]='exhausted-like CD4-positive, alpha-beta T cell'\n",
    "sub2[idx]='CD4-positive, alpha-beta T cell'\n"
   ]
  },
  {
   "cell_type": "code",
   "execution_count": null,
   "metadata": {},
   "outputs": [],
   "source": [
    "sub4[(adata.obs['celltype3'].isin(['CD4-positive, alpha-beta T cell']))]='naive thymus-derived CD4-positive, alpha-beta T cell'\n",
    "sub3[(adata.obs['celltype3'].isin(['CD4-positive, alpha-beta T cell']))]='naive thymus-derived CD4-positive, alpha-beta T cell'\n",
    "\n",
    "sub4[(sub3.isin(['effector memory CD4-positive, alpha-beta T cell']))]='CD4-positive, alpha-beta cytotoxic T cell'\n",
    "sub3[(sub3.isin(['effector memory CD4-positive, alpha-beta T cell']))]='CD4-positive, alpha-beta cytotoxic T cell'\n",
    "\n",
    "#sub2[(adata.obs['celltype3'].isin(['IL7R-max CD3-positive, ']))]='naive thymus-derived CD4-positive, alpha-beta T cell'\n"
   ]
  },
  {
   "cell_type": "code",
   "execution_count": null,
   "metadata": {},
   "outputs": [],
   "source": [
    "sub2[(adata.obs['celltype3'].isin(['mature NK T cell']))]='CD8-positive, alpha-beta T cell'\n"
   ]
  },
  {
   "cell_type": "code",
   "execution_count": null,
   "metadata": {},
   "outputs": [],
   "source": [
    "idx=(adata.obs['celltype3'].isin(['CD4-positive, alpha-beta cytotoxic T cell'])) & (adata.obs['celltype3_rc_cells'].isin(['effector memory CD4-positive, alpha-beta T cell']))\n",
    "sub4[idx]='effector memory CD4-positive, alpha-beta T cell'\n",
    "sub3[idx]='effector memory CD4-positive, alpha-beta T cell'\n",
    "sub2[idx]='CD4-positive, alpha-beta T cell'"
   ]
  },
  {
   "cell_type": "code",
   "execution_count": null,
   "metadata": {},
   "outputs": [],
   "source": [
    "idx=(adata.obs['celltype3_rc_cells'].isin(['CD8-positive, alpha-beta memory T cell']))&(adata.obs['celltype1'].isin(['T cell']))\n",
    "sub4[idx]='effector memory CD8-positive, alpha-beta T cell'\n",
    "sub3[idx]='effector memory CD8-positive, alpha-beta T cell'\n",
    "sub2[idx]='CD8-positive, alpha-beta T cell'\n"
   ]
  },
  {
   "cell_type": "code",
   "execution_count": null,
   "metadata": {},
   "outputs": [],
   "source": [
    "adata.obs['celltype2_merged']=list(sub2)\n",
    "adata.obs['celltype3_merged']=list(sub3)\n",
    "adata.obs['celltype4_merged']=list(sub4)"
   ]
  },
  {
   "cell_type": "code",
   "execution_count": null,
   "metadata": {},
   "outputs": [],
   "source": [
    "sub2=adata.obs['celltype2_merged'].copy()\n",
    "sub2[adata.obs['celltype3_merged']=='proliferating CD4-positive, alpha-beta T cell']='CD4-positive, alpha-beta T cell'"
   ]
  },
  {
   "cell_type": "code",
   "execution_count": null,
   "metadata": {},
   "outputs": [],
   "source": [
    "adata.obs['celltype2_merged']=list(sub2)"
   ]
  },
  {
   "cell_type": "code",
   "execution_count": null,
   "metadata": {},
   "outputs": [],
   "source": [
    "set(adata.obs['celltype3_merged'])"
   ]
  },
  {
   "cell_type": "code",
   "execution_count": null,
   "metadata": {},
   "outputs": [],
   "source": [
    "sc.pl.umap(adata[adata.obs['celltype3_merged']=='CCR7-positive myeloid dendritic cell'], color=['celltype2_merged'])"
   ]
  },
  {
   "cell_type": "code",
   "execution_count": null,
   "metadata": {},
   "outputs": [],
   "source": [
    "sc.pl.umap(adata[adata.obs['celltype1']=='T cell'], color=['celltype4_merged'])"
   ]
  },
  {
   "cell_type": "code",
   "execution_count": null,
   "metadata": {},
   "outputs": [],
   "source": [
    "sc.pl.umap(adata[adata.obs['celltype1']=='T cell'], color=['celltype3_merged'])"
   ]
  },
  {
   "cell_type": "code",
   "execution_count": null,
   "metadata": {},
   "outputs": [],
   "source": [
    "sc.pl.umap(adata[adata.obs['celltype3_merged']=='CD8-positive, alpha-beta cytokine secreting effector T cell'], color=['celltype2_merged'])"
   ]
  },
  {
   "cell_type": "code",
   "execution_count": null,
   "metadata": {},
   "outputs": [],
   "source": [
    "sc.pl.umap(adata[adata.obs['celltype1']=='T cell'], color=['Sample type'])"
   ]
  },
  {
   "cell_type": "code",
   "execution_count": null,
   "metadata": {},
   "outputs": [],
   "source": [
    "adata[adata.obs['celltype4_merged']=='CD4-positive, alpha-beta T cell'].obs['celltype3_TNK'].value_counts()"
   ]
  },
  {
   "cell_type": "code",
   "execution_count": null,
   "metadata": {},
   "outputs": [],
   "source": [
    "adata[adata.obs['celltype4_merged']=='CD4-positive, alpha-beta T cell'].obs['celltype3_rc_sample'].value_counts()"
   ]
  },
  {
   "cell_type": "code",
   "execution_count": null,
   "metadata": {},
   "outputs": [],
   "source": [
    "adata[adata.obs['celltype4_merged']=='CD4-positive, alpha-beta T cell'].obs['celltype3'].value_counts()"
   ]
  },
  {
   "cell_type": "code",
   "execution_count": null,
   "metadata": {},
   "outputs": [],
   "source": [
    "adata.obs[\"celltype2_merged\"]=adata.obs[\"celltype2_merged\"].astype(\"category\")\n",
    "adata.obs[\"celltype3_merged\"]=adata.obs[\"celltype3_merged\"].astype(\"category\")\n",
    "adata.obs[\"celltype4_merged\"]=adata.obs[\"celltype4_merged\"].astype(\"category\")"
   ]
  },
  {
   "cell_type": "code",
   "execution_count": null,
   "metadata": {},
   "outputs": [],
   "source": [
    "adata.obs['celltype2_merged']=adata.obs['celltype2_merged'].cat.remove_unused_categories()\n",
    "adata.obs['celltype3_merged']=adata.obs['celltype3_merged'].cat.remove_unused_categories()\n",
    "adata.obs['celltype4_merged']=adata.obs['celltype4_merged'].cat.remove_unused_categories()"
   ]
  },
  {
   "cell_type": "code",
   "execution_count": null,
   "metadata": {},
   "outputs": [],
   "source": [
    "sc.pl.umap(adata[adata.obs['celltype2_merged']=='CD8-positive, alpha-beta T cell'], color=['celltype3_merged'])"
   ]
  },
  {
   "cell_type": "code",
   "execution_count": null,
   "metadata": {},
   "outputs": [],
   "source": [
    "sc.pl.umap(adata[adata.obs['celltype2_merged']=='CD4-positive, alpha-beta T cell'], color=['celltype3_merged'])"
   ]
  },
  {
   "cell_type": "code",
   "execution_count": null,
   "metadata": {},
   "outputs": [],
   "source": [
    "set(adata.obs['celltype1'])"
   ]
  },
  {
   "cell_type": "code",
   "execution_count": null,
   "metadata": {},
   "outputs": [],
   "source": [
    "sc.pl.umap(adata[adata.obs['celltype1']=='lymphocyte of B lineage'], color=['celltype3_merged'])"
   ]
  },
  {
   "cell_type": "code",
   "execution_count": null,
   "metadata": {},
   "outputs": [],
   "source": [
    "sc.pl.umap(adata[adata.obs['celltype1']=='lymphocyte of B lineage'], color=['celltype3_rc_cells'])"
   ]
  },
  {
   "cell_type": "code",
   "execution_count": null,
   "metadata": {
    "scrolled": true
   },
   "outputs": [],
   "source": [
    "sc.pl.umap(adata[adata.obs['celltype1']=='lymphocyte of B lineage'], color=['celltype3_rc_sample'])"
   ]
  },
  {
   "cell_type": "code",
   "execution_count": null,
   "metadata": {},
   "outputs": [],
   "source": [
    "sc.pl.umap(adata[adata.obs['celltype1']=='lymphocyte of B lineage'], color=['CD19','MS4A1','MKI67'])"
   ]
  },
  {
   "cell_type": "code",
   "execution_count": null,
   "metadata": {},
   "outputs": [],
   "source": [
    "sc.pl.umap(adata[adata.obs['celltype1']=='T cell'], color=['celltype3'])"
   ]
  },
  {
   "cell_type": "code",
   "execution_count": null,
   "metadata": {},
   "outputs": [],
   "source": [
    "sc.pl.umap(adata[adata.obs['celltype1']=='T cell'], color=['celltype2'])"
   ]
  },
  {
   "cell_type": "code",
   "execution_count": null,
   "metadata": {},
   "outputs": [],
   "source": [
    "sc.pl.umap(adata[adata.obs['celltype1']=='T cell'], color=mymarkers['CD4Tcell'])"
   ]
  },
  {
   "cell_type": "code",
   "execution_count": null,
   "metadata": {},
   "outputs": [],
   "source": [
    "sc.pl.umap(adata[adata.obs['celltype1']=='T cell'], color=['IL7R','GZMB', 'GZMH','GZMA', 'NKG7','GNLY','CLU','XCL1'\n",
    "                                                           ,'LEF1','TCF7','SELL','PDCD1', 'LAG3'])"
   ]
  },
  {
   "cell_type": "code",
   "execution_count": null,
   "metadata": {},
   "outputs": [],
   "source": [
    "adata.obs['dblabel']=adata.obs['celltype3_merged'].copy()"
   ]
  },
  {
   "cell_type": "markdown",
   "metadata": {},
   "source": [
    "### Export labelling"
   ]
  },
  {
   "cell_type": "markdown",
   "metadata": {},
   "source": [
    "Chosen labels can also be exported as a new folder in labelings/"
   ]
  },
  {
   "cell_type": "code",
   "execution_count": null,
   "metadata": {},
   "outputs": [],
   "source": [
    "### Save labelling\n",
    "adata = bc.st.additional_labeling(adata, 'celltype1', 'celltype1', 'Major cell types attributed based on HumanCD45p_scseqCMs8', 'schwalip', results_folder)\n"
   ]
  },
  {
   "cell_type": "code",
   "execution_count": null,
   "metadata": {},
   "outputs": [],
   "source": [
    "### Save labelling\n",
    "adata = bc.st.additional_labeling(adata, 'celltype2_merged', 'celltype2', 'Higher level cell types attributed based on HumanCD45p_scseqCMs8', 'schwalip', results_folder)\n"
   ]
  },
  {
   "cell_type": "code",
   "execution_count": null,
   "metadata": {},
   "outputs": [],
   "source": [
    "### Save labelling\n",
    "adata = bc.st.additional_labeling(adata, 'dblabel', 'dblabel', 'Highest level cell types attributed based on HumanCD45p_scseqCMs8', 'schwalip', results_folder)\n"
   ]
  },
  {
   "cell_type": "code",
   "execution_count": null,
   "metadata": {},
   "outputs": [],
   "source": [
    "### Save labelling\n",
    "adata = bc.st.additional_labeling(adata, 'celltype4_merged', 'celltype3_detailed', 'Highest level cell types attributed based on HumanCD45p_scseqCMs8, further details upon reclustering', 'schwalip', results_folder)\n"
   ]
  },
  {
   "cell_type": "code",
   "execution_count": null,
   "metadata": {},
   "outputs": [],
   "source": [
    "adata.write(results_file)\n",
    "#adata=sc.read(results_file)"
   ]
  },
  {
   "cell_type": "markdown",
   "metadata": {},
   "source": [
    "### Follow-up analyses for marker generation"
   ]
  },
  {
   "cell_type": "markdown",
   "metadata": {},
   "source": [
    "If one is interested in new markers, one can perform DE at the cell type annotation level of choice. "
   ]
  },
  {
   "cell_type": "code",
   "execution_count": null,
   "metadata": {},
   "outputs": [],
   "source": [
    "### Perform DE cells of each celltype3 vs. all other cells\n",
    "DEgenes=bc.tl.dge.get_de(adata,'celltype4_merged',demethod='wilcoxon',topnr=5000, logfc=1,padj=0.05)"
   ]
  },
  {
   "cell_type": "code",
   "execution_count": null,
   "metadata": {},
   "outputs": [],
   "source": [
    "DEgenes.keys()"
   ]
  },
  {
   "cell_type": "code",
   "execution_count": null,
   "metadata": {},
   "outputs": [],
   "source": [
    "### Select only top 15 genes (in order of p-val) for 2 cell types and plot expression per cell type\n",
    "tops=list(DEgenes['brain macrophage']['Name'][0:40])\n",
    "sc.pl.dotplot(adata, var_names=tops,groupby='celltype3_detailed')"
   ]
  },
  {
   "cell_type": "code",
   "execution_count": null,
   "metadata": {},
   "outputs": [],
   "source": [
    "### Select only top 15 genes (in order of p-val) for 2 cell types and plot expression per cell type\n",
    "tops=list(DEgenes['naive thymus-derived CD8-positive, alpha-beta T cell']['Name'][0:40])\n",
    "sc.pl.dotplot(adata, var_names=tops,groupby='celltype3_detailed')"
   ]
  },
  {
   "cell_type": "markdown",
   "metadata": {},
   "source": [
    "### Convert to html"
   ]
  },
  {
   "cell_type": "code",
   "execution_count": null,
   "metadata": {},
   "outputs": [],
   "source": [
    "! jupyter nbconvert --to html pub_celltype_annotation_besca.ipynb"
   ]
  }
 ],
 "metadata": {
  "kernelspec": {
   "display_name": "Python3.7 (besca_test)",
   "language": "python",
   "name": "besca_test"
  },
  "language_info": {
   "codemirror_mode": {
    "name": "ipython",
    "version": 3
   },
   "file_extension": ".py",
   "mimetype": "text/x-python",
   "name": "python",
   "nbconvert_exporter": "python",
   "pygments_lexer": "ipython3",
   "version": "3.7.1"
  },
  "toc-autonumbering": false,
  "toc-showcode": false,
  "toc-showmarkdowntxt": false,
  "toc-showtags": false
 },
 "nbformat": 4,
 "nbformat_minor": 4
}
