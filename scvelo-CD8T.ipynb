{
 "cells": [
  {
   "cell_type": "code",
   "execution_count": null,
   "metadata": {},
   "outputs": [],
   "source": [
    "import scanpy as sc\n",
    "import besca as bc\n",
    "import os\n",
    "import bbknn\n",
    "import numpy as np\n",
    "import scvelo as scv\n",
    "import pandas as pd\n",
    "import cellrank as cr"
   ]
  },
  {
   "cell_type": "code",
   "execution_count": null,
   "metadata": {},
   "outputs": [],
   "source": [
    "import seaborn as sns\n",
    "import matplotlib.pyplot as plt\n",
    "import scipy.stats as ss\n",
    "from scipy import stats\n",
    "import itertools\n"
   ]
  },
  {
   "cell_type": "code",
   "execution_count": null,
   "metadata": {},
   "outputs": [],
   "source": [
    "\n",
    "color_dict = {'R': 'coral', 'TF': 'firebrick', 'NR_nadj': 'lightskyblue','NR_adj': 'royalblue'}"
   ]
  },
  {
   "cell_type": "raw",
   "metadata": {},
   "source": [
    "sc.logging.print_versions()"
   ]
  },
  {
   "cell_type": "code",
   "execution_count": null,
   "metadata": {},
   "outputs": [],
   "source": [
    "species='human'\n",
    "scv.settings.set_figure_params('scvelo')\n",
    "#adata = scv.read(filename, cache=True)"
   ]
  },
  {
   "cell_type": "markdown",
   "metadata": {},
   "source": [
    "# Reading the h5ad"
   ]
  },
  {
   "cell_type": "code",
   "execution_count": null,
   "metadata": {},
   "outputs": [],
   "source": [
    "WD=''\n",
    "analysis_name='sw_besca2_immune'\n",
    "dcdata=sc.read('Fullanalysis/analyzed/sw_besca2_immune/sw_besca2_immune.annotated.filtered.h5ad')"
   ]
  },
  {
   "cell_type": "code",
   "execution_count": null,
   "metadata": {},
   "outputs": [],
   "source": [
    "\n",
    "outpath='Fullanalysis/analyzed/sw_besca2_immune/velocity/'"
   ]
  },
  {
   "cell_type": "code",
   "execution_count": null,
   "metadata": {},
   "outputs": [],
   "source": [
    "figdir=outpath\n",
    "\n",
    "\n",
    "figdir=os.path.join(outpath+'/publication/')\n",
    "sc.settings.figdir = figdir\n",
    "\n",
    "scv.settings.figdir = figdir\n",
    "if not os.path.exists(figdir):\n",
    "    os.makedirs(figdir)"
   ]
  },
  {
   "cell_type": "code",
   "execution_count": null,
   "metadata": {},
   "outputs": [],
   "source": [
    "velosubset='CD8Tcell'"
   ]
  },
  {
   "cell_type": "code",
   "execution_count": null,
   "metadata": {},
   "outputs": [],
   "source": [
    "sc.set_figure_params()"
   ]
  },
  {
   "cell_type": "code",
   "execution_count": null,
   "metadata": {},
   "outputs": [],
   "source": [
    "sc.pl.umap(dcdata, color=['leiden', 'leiden_TNK', 'Sample type'],legend_loc='on data', legend_fontsize=0.6)"
   ]
  },
  {
   "cell_type": "code",
   "execution_count": null,
   "metadata": {},
   "outputs": [],
   "source": [
    "sc.set_figure_params()\n",
    "import matplotlib.pyplot as plt\n",
    "plt.rcParams[\"figure.figsize\"] = (12,10)"
   ]
  },
  {
   "cell_type": "code",
   "execution_count": null,
   "metadata": {},
   "outputs": [],
   "source": [
    "sc.pl.umap(dcdata, color=['celltype3_rc_cells'], size=8)"
   ]
  },
  {
   "cell_type": "code",
   "execution_count": null,
   "metadata": {},
   "outputs": [],
   "source": [
    "sc.pl.umap(dcdata, color=['celltype3_merged'], size=8)"
   ]
  },
  {
   "cell_type": "code",
   "execution_count": null,
   "metadata": {},
   "outputs": [],
   "source": [
    "sc.set_figure_params()\n",
    "sc.pl.umap(dcdata,color=['CD8A','CD8B','CD4','CD3D'], color_map='viridis')"
   ]
  },
  {
   "cell_type": "code",
   "execution_count": null,
   "metadata": {},
   "outputs": [],
   "source": [
    "### Subset to cells annotated as CD8s and remove NK-like T cells \n",
    "\n",
    "dcdata=dcdata[(dcdata.obs['celltype2_pub'].isin(['CD8-positive T cell']))].copy()\n",
    "if (velosubset=='CD8Tcell'):\n",
    "    dcdata=dcdata[(dcdata.obs['celltype3_pub']!='mature NK T cell')].copy()\n"
   ]
  },
  {
   "cell_type": "code",
   "execution_count": null,
   "metadata": {},
   "outputs": [],
   "source": [
    "dcdata.obs['leidenf']=dcdata.obs['leiden'].copy()"
   ]
  },
  {
   "cell_type": "code",
   "execution_count": null,
   "metadata": {},
   "outputs": [],
   "source": [
    "sc.pl.umap(dcdata, color=['leiden', 'celltype3_pub','celltype3', 'Sample type'])"
   ]
  },
  {
   "cell_type": "code",
   "execution_count": null,
   "metadata": {},
   "outputs": [],
   "source": [
    "sc.pl.umap(dcdata, color=['leiden', 'celltype3_pub','celltype3', 'Sample type'])"
   ]
  },
  {
   "cell_type": "code",
   "execution_count": null,
   "metadata": {},
   "outputs": [],
   "source": [
    "sc.pl.umap(dcdata, color=['celltype3_pub'],legend_fontsize=8, \n",
    "           save='-subsetonoriginalmap-'+velosubset+'.pdf') #14, 34, 3, 31\n"
   ]
  },
  {
   "cell_type": "code",
   "execution_count": null,
   "metadata": {},
   "outputs": [],
   "source": [
    "sc.pl.umap(dcdata, color=['celltype3_pub'],legend_fontsize=8, \n",
    "           save='-subsetonoriginalmap-'+velosubset+'.pdf') #14, 34, 3, 31\n"
   ]
  },
  {
   "cell_type": "code",
   "execution_count": null,
   "metadata": {},
   "outputs": [],
   "source": [
    "sc.pl.umap(dcdata, color=['CD8A','CD8B','CD4'])"
   ]
  },
  {
   "cell_type": "code",
   "execution_count": null,
   "metadata": {},
   "outputs": [],
   "source": [
    "#### Calculate neighbours using PatientID as a batch\n",
    "\n",
    "bbknn.bbknn(dcdata, batch_key='PatientID', use_rep='X_pca')"
   ]
  },
  {
   "cell_type": "code",
   "execution_count": null,
   "metadata": {},
   "outputs": [],
   "source": [
    "sc.tl.diffmap(dcdata)\n",
    "\n",
    "\n",
    "sc.pp.neighbors(dcdata, n_neighbors=15, use_rep='X_diffmap')\n",
    "sc.tl.leiden(dcdata, resolution=0.5)\n",
    "\n",
    "\n",
    "sc.tl.paga(dcdata, groups='leiden')\n",
    "\n",
    "sc.pl.umap(dcdata,color='leiden')\n"
   ]
  },
  {
   "cell_type": "code",
   "execution_count": null,
   "metadata": {
    "scrolled": true
   },
   "outputs": [],
   "source": [
    "sc.pl.paga(dcdata)\n"
   ]
  },
  {
   "cell_type": "code",
   "execution_count": null,
   "metadata": {},
   "outputs": [],
   "source": [
    "sc.tl.umap(dcdata, init_pos='paga')\n",
    "\n",
    "sc.pl.umap(dcdata,color=['leiden','leidenf'],legend_loc='on data')"
   ]
  },
  {
   "cell_type": "code",
   "execution_count": null,
   "metadata": {},
   "outputs": [],
   "source": [
    "sc.pl.umap(dcdata, color=['celltype3_pub'],legend_fontsize=8, \n",
    "          save='-subsettrajectorymap-'+velosubset+'.celltype3_pub.pdf') #14, 34, 3, 31\n"
   ]
  },
  {
   "cell_type": "code",
   "execution_count": null,
   "metadata": {},
   "outputs": [],
   "source": [
    "sc.pl.umap(dcdata, color=['PatientID'],legend_fontsize=8,\n",
    "          save='-subsettrajectorymap-'+velosubset+'.PatientID.pdf') #14, 34, 3, 31\n"
   ]
  },
  {
   "cell_type": "code",
   "execution_count": null,
   "metadata": {},
   "outputs": [],
   "source": [
    "sc.pl.umap(dcdata, color=['Sample type'],legend_fontsize=8,\n",
    "          save='-subsettrajectorymap-'+velosubset+'.SampleType.pdf') #14, 34, 3, 31\n"
   ]
  },
  {
   "cell_type": "code",
   "execution_count": null,
   "metadata": {},
   "outputs": [],
   "source": [
    "#### read the already pooled loom file containing concatenated sample information (generated through velocyto)\n",
    "loom=scv.read('Fullanalysis/loom_afterconcat.h5ad')"
   ]
  },
  {
   "cell_type": "code",
   "execution_count": null,
   "metadata": {},
   "outputs": [],
   "source": [
    "#### merge and save an intermediate file \n",
    "adata=scv.utils.merge(dcdata, loom).copy()\n",
    "#adata.write(\"Fullanalysis/CD8Tcells-loom.h5ad\", compression=\"gzip\")"
   ]
  },
  {
   "cell_type": "code",
   "execution_count": null,
   "metadata": {
    "scrolled": true
   },
   "outputs": [],
   "source": [
    "sc.set_figure_params(6)\n",
    "sc.pl.umap(adata,color=['PatientID'],ncols=2)"
   ]
  },
  {
   "cell_type": "markdown",
   "metadata": {},
   "source": [
    "### Breakdown of clusters per individuals "
   ]
  },
  {
   "cell_type": "code",
   "execution_count": null,
   "metadata": {},
   "outputs": [],
   "source": [
    "sc.pl.umap(adata,color=['RCat'],ncols=2,save='-subsettrajectorymap-'+velosubset+'.RCat.pdf')"
   ]
  },
  {
   "cell_type": "code",
   "execution_count": null,
   "metadata": {},
   "outputs": [],
   "source": [
    "adata.write(WD+'/analyzed/'+analysis_name+'/'+analysis_name+'.annotated.'+velosubset+'.h5ad')"
   ]
  },
  {
   "cell_type": "code",
   "execution_count": null,
   "metadata": {},
   "outputs": [],
   "source": [
    "adata=sc.read(WD+'/analyzed/'+analysis_name+'/'+analysis_name+'.annotated.'+velosubset+'.h5ad')"
   ]
  },
  {
   "cell_type": "code",
   "execution_count": null,
   "metadata": {},
   "outputs": [],
   "source": [
    "### Remove clusters that are mainly patient-specific + solely proliferating\n",
    "subdata=adata[adata.obs['leiden']!='2'].copy()\n",
    "subdata=subdata[subdata.obs['leiden']!='4'].copy()\n",
    "subdata=subdata[subdata.obs['leiden']!='14'].copy()\n",
    "subdata=subdata[subdata.obs['leiden']!='12'].copy()\n",
    "\n",
    "### subdata=subdata[subdata.obs.sample(frac=0.5).index].copy() # for speed/memory reasons, one could subset to 50% of data"
   ]
  },
  {
   "cell_type": "code",
   "execution_count": null,
   "metadata": {},
   "outputs": [],
   "source": [
    "sc.pl.umap(subdata,color=['leiden'],legend_loc='on data')"
   ]
  },
  {
   "cell_type": "code",
   "execution_count": null,
   "metadata": {},
   "outputs": [],
   "source": [
    "#sc.pl.umap(subdata,color=['PatientID'],legend_loc='on data')"
   ]
  },
  {
   "cell_type": "code",
   "execution_count": null,
   "metadata": {},
   "outputs": [],
   "source": [
    "sc.pl.umap(adata,color=['leiden'],legend_loc='on data')"
   ]
  },
  {
   "cell_type": "code",
   "execution_count": null,
   "metadata": {},
   "outputs": [],
   "source": [
    "sc.pl.umap(adata,color=['celltype3_pub'])"
   ]
  },
  {
   "cell_type": "code",
   "execution_count": null,
   "metadata": {},
   "outputs": [],
   "source": [
    "### Run velocity analysis on the subsetted data \n",
    "\n",
    "scv.pp.filter_and_normalize(subdata)\n",
    "scv.pp.moments(subdata)\n",
    "scv.pp.neighbors(subdata)\n",
    "\n",
    "scv.tl.recover_dynamics(subdata)\n",
    "scv.tl.velocity(subdata,mode='dynamical')\n",
    "scv.tl.velocity_graph(subdata)"
   ]
  },
  {
   "cell_type": "code",
   "execution_count": null,
   "metadata": {
    "scrolled": true
   },
   "outputs": [],
   "source": [
    "### Run velocity analysis on the entire set, for completion\n",
    "scv.pp.filter_and_normalize(adata)\n",
    "scv.pp.moments(adata)\n",
    "scv.pp.neighbors(adata)\n",
    "\n",
    "scv.tl.recover_dynamics(adata)\n",
    "scv.tl.velocity(adata,mode='dynamical')\n",
    "scv.tl.velocity_graph(adata)"
   ]
  },
  {
   "cell_type": "code",
   "execution_count": null,
   "metadata": {},
   "outputs": [],
   "source": [
    "scv.utils.randomized_velocity(subdata)\n",
    "#scv.pl.velocity_embedding_stream(adata, vkey=['velocity', 'velocity_random'])"
   ]
  },
  {
   "cell_type": "code",
   "execution_count": null,
   "metadata": {},
   "outputs": [],
   "source": [
    "mysubset='All'\n",
    "subcat='PBMCandTIL'\n",
    "#subcat='TILonly'"
   ]
  },
  {
   "cell_type": "code",
   "execution_count": null,
   "metadata": {},
   "outputs": [],
   "source": [
    "### Save and reread intermediate analysis results \n",
    "subdata.write(WD+'analyzed/'+analysis_name+'/velocity/Velo-'+velosubset+'-'+mysubset+'-'+subcat+'-dyn.subsampled.h5ad')\n",
    "adata.write(WD+'analyzed/'+analysis_name+'/velocity/Velo-'+velosubset+'-'+mysubset+'-'+subcat+'-dyn.h5ad')\n",
    "\n",
    "adata=sc.read(WD+'analyzed/'+analysis_name+'/velocity/Velo-'+velosubset+'-'+mysubset+'-'+subcat+'-dyn.h5ad')\n",
    "subdata=sc.read(WD+'analyzed/'+analysis_name+'/velocity/Velo-'+velosubset+'-'+mysubset+'-'+subcat+'-dyn.subsampled.h5ad')"
   ]
  },
  {
   "cell_type": "code",
   "execution_count": null,
   "metadata": {},
   "outputs": [],
   "source": [
    "scv.pl.proportions(adata, groupby='leiden')"
   ]
  },
  {
   "cell_type": "code",
   "execution_count": null,
   "metadata": {},
   "outputs": [],
   "source": [
    "scv.pl.proportions(adata, groupby='experiment')"
   ]
  },
  {
   "cell_type": "code",
   "execution_count": null,
   "metadata": {},
   "outputs": [],
   "source": [
    "\n",
    "#scv.pl.velocity(adata, ['NR4A2',  'ZNF331', 'CREM','PRDM1','LYST','PKM'], ncols=2,groupby='leiden')"
   ]
  },
  {
   "cell_type": "code",
   "execution_count": null,
   "metadata": {},
   "outputs": [],
   "source": [
    "scv.tl.velocity_confidence(subdata)\n",
    "keys = 'velocity_length', 'velocity_confidence'\n",
    "scv.pl.scatter(subdata, c=keys, cmap='coolwarm', perc=[5, 95])\n"
   ]
  },
  {
   "cell_type": "code",
   "execution_count": null,
   "metadata": {},
   "outputs": [],
   "source": [
    "scv.tl.velocity_confidence(subdata)\n",
    "keys = 'velocity_length', 'velocity_confidence'\n",
    "scv.pl.scatter(subdata, c=keys, cmap='coolwarm', perc=[5, 95])\n"
   ]
  },
  {
   "cell_type": "code",
   "execution_count": null,
   "metadata": {},
   "outputs": [],
   "source": [
    "scv.tl.velocity_confidence(adata)\n"
   ]
  },
  {
   "cell_type": "code",
   "execution_count": null,
   "metadata": {},
   "outputs": [],
   "source": [
    "keys = 'velocity_length', 'velocity_confidence'\n",
    "scv.pl.scatter(adata, c=keys, cmap='coolwarm', perc=[5, 95],\n",
    "               save='-subsettrajectorymap-'+velosubset+'.VeloLenConf.pdf')\n"
   ]
  },
  {
   "cell_type": "code",
   "execution_count": null,
   "metadata": {},
   "outputs": [],
   "source": [
    "scv.pl.velocity_graph(subdata, threshold=.4, color='leiden',\n",
    "                      save='-trajectorymap-'+velosubset+'.VeloGraph.pdf')"
   ]
  },
  {
   "cell_type": "code",
   "execution_count": null,
   "metadata": {},
   "outputs": [],
   "source": [
    "scv.pl.velocity_graph(subdata, threshold=.2, color='leiden')"
   ]
  },
  {
   "cell_type": "code",
   "execution_count": null,
   "metadata": {},
   "outputs": [],
   "source": [
    "scv.pl.velocity_graph(adata, threshold=.4, color='leiden',\n",
    "                      save='-subsettrajectorymap-'+velosubset+'.VeloGraph.pdf')"
   ]
  },
  {
   "cell_type": "code",
   "execution_count": null,
   "metadata": {},
   "outputs": [],
   "source": [
    "sc.set_figure_params(10)\n",
    "import matplotlib.pyplot as plt\n",
    "plt.rcParams[\"figure.figsize\"] = (10,8)\n",
    "scv.pl.velocity_embedding_stream(subdata, basis='umap',color=['Sample type'],\n",
    "                                 save='-trajectorymap-'+velosubset+'.Velocity-Sample_Type.pdf')"
   ]
  },
  {
   "cell_type": "code",
   "execution_count": null,
   "metadata": {},
   "outputs": [],
   "source": [
    "scv.pl.velocity_embedding_stream(subdata, vkey=[ 'velocity_random'],color=['celltype3_pub'],legend_loc='right',\n",
    "                                 save='-trajectorymap-'+velosubset+'.VelocityRandom-Celltype3.pdf')"
   ]
  },
  {
   "cell_type": "code",
   "execution_count": null,
   "metadata": {},
   "outputs": [],
   "source": [
    "scv.pl.velocity_embedding_stream(subdata, basis='umap',color=['celltype3_pub'],legend_loc='right',\n",
    "                                 save='-trajectorymap-'+velosubset+'.Velocity-Celltype3.pdf')"
   ]
  },
  {
   "cell_type": "code",
   "execution_count": null,
   "metadata": {},
   "outputs": [],
   "source": [
    "scv.pl.velocity_embedding_stream(subdata, basis='umap',color=['leiden','Sample type'])"
   ]
  },
  {
   "cell_type": "code",
   "execution_count": null,
   "metadata": {},
   "outputs": [],
   "source": [
    "scv.pl.velocity_embedding_stream(adata, basis='umap',color=['leiden','Sample type'],min_mass=3.4, \n",
    "                                save='-subsettrajectorymap-'+velosubset+'.Velocity.pdf')"
   ]
  },
  {
   "cell_type": "code",
   "execution_count": null,
   "metadata": {},
   "outputs": [],
   "source": [
    "scv.pl.velocity_embedding_stream(adata, basis='umap',color=['celltype3_pub'], \n",
    "                                 legend_loc='right',min_mass=3.4,\n",
    "                                 save='-subsettrajectorymap-'+velosubset+'.Velocity_celltype3_pub.pdf')"
   ]
  },
  {
   "cell_type": "code",
   "execution_count": null,
   "metadata": {},
   "outputs": [],
   "source": [
    "scv.pl.velocity_embedding_stream(adata[adata.obs.sample(frac=1).index], basis='umap',color=['RCat'], \n",
    "                                 legend_loc='right',min_mass=3.4,\n",
    "                                 save='-subsettrajectorymap-'+velosubset+'.Velocity_RCat.pdf')"
   ]
  },
  {
   "cell_type": "code",
   "execution_count": null,
   "metadata": {},
   "outputs": [],
   "source": [
    "scv.pl.velocity_embedding_stream(subdata, basis='umap',color=['celltype3_pub'])"
   ]
  },
  {
   "cell_type": "code",
   "execution_count": null,
   "metadata": {},
   "outputs": [],
   "source": [
    "scv.tl.score_genes_cell_cycle(adata)\n",
    "scv.pl.scatter(adata, color_gradients=['S_score', 'G2M_score'], smooth=True, perc=[5, 95],\n",
    "               save='CellCycle-velo-'+velosubset+'-'+mysubset+'-'+subcat+'-dyn-CCPhase.png')\n",
    "s_genes, g2m_genes = scv.utils.get_phase_marker_genes(adata)\n"
   ]
  },
  {
   "cell_type": "code",
   "execution_count": null,
   "metadata": {},
   "outputs": [],
   "source": [
    "scv.pl.scatter(adata,color=['TCF7','IL7R','GZMK','GZMH','GZMB','PRF1',\n",
    "                            'PDCD1','TOX','HAVCR2','GNLY','NKG7','XCL1'], ncols=3)"
   ]
  },
  {
   "cell_type": "code",
   "execution_count": null,
   "metadata": {},
   "outputs": [],
   "source": [
    "scv.pl.scatter(adata, color_gradients=['S_score', 'G2M_score'], smooth=True, perc=[5, 95],\n",
    "               save='-subsettrajectorymap-'+velosubset+'.cell_cycle.pdf')\n"
   ]
  },
  {
   "cell_type": "code",
   "execution_count": null,
   "metadata": {},
   "outputs": [],
   "source": [
    "scv.pl.velocity_embedding_stream(adata, basis='umap',color=['Sample type'],\n",
    "                                 min_mass=3.25, \n",
    "                                 save='-velo-'+velosubset+'-'+mysubset+'-'+subcat+'-dyn-SampleType.png')"
   ]
  },
  {
   "cell_type": "code",
   "execution_count": null,
   "metadata": {},
   "outputs": [],
   "source": [
    "scv.pl.velocity_embedding_stream(subdata, basis='umap',color=['Sample type'],\n",
    "                                 min_mass=3.25, \n",
    "                                 save='-velo-'+velosubset+'-'+mysubset+'-'+subcat+'-dyn-SampleType.subdata.png')"
   ]
  },
  {
   "cell_type": "code",
   "execution_count": null,
   "metadata": {},
   "outputs": [],
   "source": [
    "sc.set_figure_params(10)\n",
    "import matplotlib.pyplot as plt\n",
    "plt.rcParams[\"figure.figsize\"] = (12,10)"
   ]
  },
  {
   "cell_type": "code",
   "execution_count": null,
   "metadata": {},
   "outputs": [],
   "source": [
    "\n",
    "scv.pl.velocity_embedding_stream(adata, basis='umap',color=['celltype3_merged'], \n",
    "                                 legend_loc='best', \n",
    "                                save='-velo-'+velosubset+'-'+mysubset+'-'+subcat+'-dyn-celltype3.png') #min_mass=3.25,"
   ]
  },
  {
   "cell_type": "code",
   "execution_count": null,
   "metadata": {},
   "outputs": [],
   "source": [
    "scv.pl.velocity_embedding_stream(adata, basis='umap',color=['leiden'], legend_loc='on data')"
   ]
  },
  {
   "cell_type": "code",
   "execution_count": null,
   "metadata": {},
   "outputs": [],
   "source": [
    "scv.pl.velocity_embedding_stream(adata, basis='umap',color=['leiden_TNK'], legend_loc='on data')"
   ]
  },
  {
   "cell_type": "code",
   "execution_count": null,
   "metadata": {},
   "outputs": [],
   "source": [
    "sc.set_figure_params()"
   ]
  },
  {
   "cell_type": "code",
   "execution_count": null,
   "metadata": {},
   "outputs": [],
   "source": [
    "sc.pl.umap(adata,color=['XCL1','CCR7','SELL','MKI67', 'STMN1','ENTPD1','CD38','TOX','CD4','CD8A','CD8B', 'CD3D'], \n",
    "           color_map='viridis',save='-subsettrajectorymap-'+velosubset+'.Markers1.pdf')"
   ]
  },
  {
   "cell_type": "markdown",
   "metadata": {},
   "source": [
    "### Resource (stem-like) T cells markers"
   ]
  },
  {
   "cell_type": "code",
   "execution_count": null,
   "metadata": {},
   "outputs": [],
   "source": [
    "sc.pl.umap(adata,color=['PDCD1','LAG3','CD28','HAVCR2', 'CXCR5','TCF7', 'CD8A','IL7R'], \n",
    "           color_map='viridis',save='-subsettrajectorymap-'+velosubset+'.Markers2.pdf')"
   ]
  },
  {
   "cell_type": "code",
   "execution_count": null,
   "metadata": {},
   "outputs": [],
   "source": [
    "sc.pl.dotplot(adata, var_names=['PDCD1','LAG3','CD28','HAVCR2', 'CXCR5','TCF7', 'CD8A','IL7R', 'CD8A','CD8B'], \n",
    "              groupby='leiden', dot_max=0.2,vmax=1,save='-subsettrajectorymap-'+velosubset+'.Markers1.newleiden.pdf')"
   ]
  },
  {
   "cell_type": "code",
   "execution_count": null,
   "metadata": {},
   "outputs": [],
   "source": [
    "sc.pl.dotplot(adata, var_names=['PDCD1','LAG3','CD28','HAVCR2', 'CXCR5','TCF7', 'CD8A','IL7R', 'CD8A','CD8B'], \n",
    "              groupby='celltype3_pub', dot_max=0.2,vmax=1,save='-subsettrajectorymap-'+velosubset+'.Markers1.celltype3_pub.pdf')"
   ]
  },
  {
   "cell_type": "code",
   "execution_count": null,
   "metadata": {},
   "outputs": [],
   "source": [
    "#corder=['1','2','3','5','7','8','9','10']"
   ]
  },
  {
   "cell_type": "code",
   "execution_count": null,
   "metadata": {},
   "outputs": [],
   "source": [
    "sc.pl.dotplot(adata, var_names=['PDCD1','LAG3','CD28','HAVCR2', 'CXCR5','TCF7', 'CD8A','IL7R', 'CD8A','CD8B'], \n",
    "              groupby='leidenf', dot_max=0.2,vmax=1)"
   ]
  },
  {
   "cell_type": "code",
   "execution_count": null,
   "metadata": {},
   "outputs": [],
   "source": [
    "scv.pl.velocity_embedding(adata, dpi=120, arrow_size=2, arrow_length=2,color=['leiden','celltype3_merged'])"
   ]
  },
  {
   "cell_type": "code",
   "execution_count": null,
   "metadata": {},
   "outputs": [],
   "source": [
    "sc.set_figure_params()"
   ]
  },
  {
   "cell_type": "code",
   "execution_count": null,
   "metadata": {},
   "outputs": [],
   "source": [
    "sc.pl.umap(adata,color=['Sample type'])"
   ]
  },
  {
   "cell_type": "code",
   "execution_count": null,
   "metadata": {},
   "outputs": [],
   "source": [
    "sc.pl.umap(adata,color=['leiden'],legend_loc='on data')"
   ]
  },
  {
   "cell_type": "code",
   "execution_count": null,
   "metadata": {},
   "outputs": [],
   "source": [
    "sc.pl.umap(adata,color=['leidenf'],legend_loc='on data')"
   ]
  },
  {
   "cell_type": "code",
   "execution_count": null,
   "metadata": {},
   "outputs": [],
   "source": [
    "clustercomp=bc.tl.count_occurrence_subset(adata, 'leiden', count_variable ='PatientID', return_percentage = True)\n"
   ]
  },
  {
   "cell_type": "code",
   "execution_count": null,
   "metadata": {},
   "outputs": [],
   "source": [
    "clustercomp[clustercomp.max().sort_values().index].transpose()"
   ]
  },
  {
   "cell_type": "code",
   "execution_count": null,
   "metadata": {},
   "outputs": [],
   "source": [
    "sc.set_figure_params()\n",
    "import matplotlib.pyplot as plt\n",
    "plt.rcParams[\"figure.figsize\"] = (12,5)\n",
    "import matplotlib \n",
    "\n",
    "#clustercomp=clustercomp[clustercomp.max().sort_values().index].copy()\n",
    "#clustercomp.transpose().plot(kind='bar', stacked=True)\n",
    "clustercomp[clustercomp.max().sort_values().index].transpose().plot.bar(stacked=True, figsize=(12, 8))\n",
    "plt.ylabel('Percentage donor per cluster')\n",
    "plt.legend(loc='center left', bbox_to_anchor=(1, 0.5))\n",
    "#fig.savefig(figdir+'Clustercomp-'+velosubset+'.PatientID.pdf'),bbox_inches='tight')\n",
    "plt.savefig(figdir+'Clustercomp-'+velosubset+'.PatientID.svg', format='svg', bbox_inches=\"tight\", dpi=300)"
   ]
  },
  {
   "cell_type": "code",
   "execution_count": null,
   "metadata": {},
   "outputs": [],
   "source": [
    "clustercomp=bc.tl.count_occurrence_subset(adata, 'leiden', count_variable ='RCat', return_percentage = True)\n"
   ]
  },
  {
   "cell_type": "code",
   "execution_count": null,
   "metadata": {},
   "outputs": [],
   "source": [
    "clustercomp=clustercomp[clustercomp.max().sort_values().index].copy()\n",
    "clustercomp.transpose().plot(kind='bar', stacked=True,color=[color_dict[i] for i in list(clustercomp.index)])\n",
    "plt.ylabel('Percentage R per cluster')\n",
    "plt.legend(loc='center left', bbox_to_anchor=(1, 0.5))\n",
    "#plt.savefig(figdir+'Clustercomp-'+velosubset+'.RCat.pdf',bbox_inches='tight')\n",
    "plt.savefig(figdir+'Clustercomp-'+velosubset+'.RCat.svg', format='svg', bbox_inches=\"tight\", dpi=300)"
   ]
  },
  {
   "cell_type": "markdown",
   "metadata": {},
   "source": [
    "### Run cellrank analysis to estimate initial and terminal states "
   ]
  },
  {
   "cell_type": "code",
   "execution_count": null,
   "metadata": {},
   "outputs": [],
   "source": [
    "cr.settings.verbosity = 2\n",
    "cr.tl.terminal_states(subdata, cluster_key='leiden', \n",
    "                      weight_connectivities=0.2)\n"
   ]
  },
  {
   "cell_type": "code",
   "execution_count": null,
   "metadata": {},
   "outputs": [],
   "source": [
    "cr.pl.terminal_states(subdata)\n",
    "cr.tl.initial_states(subdata, cluster_key='leiden') \n",
    "cr.pl.initial_states(subdata, discrete=True)\n",
    "\n",
    "cr.tl.lineages(subdata)\n",
    "cr.pl.lineages(subdata, same_plot=False)\n"
   ]
  },
  {
   "cell_type": "code",
   "execution_count": null,
   "metadata": {},
   "outputs": [],
   "source": [
    "import matplotlib.pyplot as plt\n",
    "plt.hist(subdata.obs['initial_states_probs'])\n"
   ]
  },
  {
   "cell_type": "code",
   "execution_count": null,
   "metadata": {},
   "outputs": [],
   "source": [
    "\n",
    "plt.hist(subdata.obs['terminal_states_probs'])\n"
   ]
  },
  {
   "cell_type": "code",
   "execution_count": null,
   "metadata": {},
   "outputs": [],
   "source": [
    "scv.tl.recover_latent_time(subdata, root_key='initial_states_probs', end_key='terminal_states_probs')\n"
   ]
  },
  {
   "cell_type": "code",
   "execution_count": null,
   "metadata": {},
   "outputs": [],
   "source": [
    "scv.tl.paga(subdata, groups='leiden', root_key='initial_states_probs', end_key='terminal_states_probs', \n",
    "            use_time_prior='velocity_pseudotime')\n"
   ]
  },
  {
   "cell_type": "code",
   "execution_count": null,
   "metadata": {},
   "outputs": [],
   "source": [
    "sc.set_figure_params(10)\n",
    "import matplotlib.pyplot as plt\n",
    "plt.rcParams[\"figure.figsize\"] = (12,10)"
   ]
  },
  {
   "cell_type": "code",
   "execution_count": null,
   "metadata": {},
   "outputs": [],
   "source": [
    "cr.pl.cluster_fates(subdata, mode=\"paga_pie\", cluster_key=\"leiden\", basis='umap',\n",
    "                    legend_kwargs={'loc': 'top right out'}, legend_loc='top left out',\n",
    "                    node_size_scale=5, edge_width_scale=1, max_edge_width=4, title='directed PAGA')\n"
   ]
  },
  {
   "cell_type": "code",
   "execution_count": null,
   "metadata": {},
   "outputs": [],
   "source": [
    "cr.tl.lineage_drivers(subdata, use_raw=False, backward=False)"
   ]
  },
  {
   "cell_type": "code",
   "execution_count": null,
   "metadata": {},
   "outputs": [],
   "source": [
    "### Calculate lineage drivers, per clsuter\n",
    "sc.pl.umap(subdata,color=['leiden'], legend_loc='on data')"
   ]
  },
  {
   "cell_type": "code",
   "execution_count": null,
   "metadata": {},
   "outputs": [],
   "source": [
    "cr.tl.lineage_drivers(subdata, use_raw=True, backward=False,cluster_key='leiden', clusters=['8','9','0','11'])\n",
    "lin_drivers_c8_9_0_11=subdata.raw.var['to 5']\n",
    "\n",
    "cr.tl.lineage_drivers(subdata, use_raw=True, backward=False,cluster_key='leiden', clusters=['16','3','7','1'])\n",
    "lin_drivers_c16_3_7_1=subdata.raw.var['to 5']\n",
    "\n",
    "cr.tl.lineage_drivers(subdata, use_raw=True, backward=False,cluster_key='leiden', clusters=['15','13'])\n",
    "lin_drivers_c15_13=subdata.raw.var['to 5']\n",
    "\n",
    "\n",
    "cr.tl.lineage_drivers(subdata, use_raw=True, backward=False,cluster_key='leiden', clusters=['11','5','6'])\n",
    "lin_drivers_c11_5_6=subdata.raw.var['to 5']\n"
   ]
  },
  {
   "cell_type": "code",
   "execution_count": null,
   "metadata": {
    "scrolled": true
   },
   "outputs": [],
   "source": [
    "sc.set_figure_params()\n",
    "cr.tl.lineage_drivers(subdata)"
   ]
  },
  {
   "cell_type": "code",
   "execution_count": null,
   "metadata": {},
   "outputs": [],
   "source": [
    "cr.pl.lineage_drivers(subdata, lineage=\"5\", n_genes=10)"
   ]
  },
  {
   "cell_type": "code",
   "execution_count": null,
   "metadata": {},
   "outputs": [],
   "source": [
    "oi=list(subdata.var['to 5'].sort_values(ascending=False)[0:50].index)+list(subdata.var['to 5'].sort_values()[0:50].index)"
   ]
  },
  {
   "cell_type": "code",
   "execution_count": null,
   "metadata": {},
   "outputs": [],
   "source": [
    "mygenes=cr.pl.heatmap(subdata, model, \n",
    "              genes=oi,\n",
    "              show_absorption_probabilities=True,use_raw=True\n",
    "              ,show_all_genes=True,cluster_genes=True,\n",
    "              lineages=\"5\", n_jobs=4, backend='loky',figsize=(10,18),return_genes=True)"
   ]
  },
  {
   "cell_type": "code",
   "execution_count": null,
   "metadata": {},
   "outputs": [],
   "source": [
    "cdata=adata.copy()"
   ]
  },
  {
   "cell_type": "code",
   "execution_count": null,
   "metadata": {},
   "outputs": [],
   "source": [
    "#cdata.uns['iroot']=np.where(cdata.obs['CELL']==list(subdata[subdata.uns['iroot']].obs['CELL'])[0])[0][0]\n",
    "scv.tl.latent_time(cdata,min_likelihood=0.2, min_confidence=0.9) # #,root_key='iroot' min_likelihood=0.2, min_confidence=0.9\n",
    "#scv.tl.latent_time(adata)\n",
    "scv.pl.scatter(cdata, color='latent_time', color_map='gnuplot', size=30,\n",
    "               save='-subsettrajectorymap-'+velosubset+'.LatentTime.pdf')"
   ]
  },
  {
   "cell_type": "code",
   "execution_count": null,
   "metadata": {},
   "outputs": [],
   "source": [
    "sc.pl.umap(cdata, color=['root_cells','end_points'],\n",
    "           save='-subsettrajectorymap-'+velosubset+'.RootAndEnd.pdf')"
   ]
  },
  {
   "cell_type": "code",
   "execution_count": null,
   "metadata": {},
   "outputs": [],
   "source": [
    "sc.pl.umap(adatanocc, color=['root_cells','end_points'])"
   ]
  },
  {
   "cell_type": "code",
   "execution_count": null,
   "metadata": {},
   "outputs": [],
   "source": [
    "#### save and re-read files after the cellrank analysis part\n",
    "#adata.write(WD+'analyzed/'+analysis_name+'/velocity/Velo-'+velosubset+'-'+mysubset+'-'+subcat+'-dyn.h5ad')\n",
    "#subdata.write(WD+'analyzed/'+analysis_name+'/velocity/Velo-'+velosubset+'-'+mysubset+'-'+subcat+'-dyn.subsampled.h5ad')\n",
    "#adata=sc.read(WD+'analyzed/'+analysis_name+'/velocity/Velo-'+velosubset+'-'+mysubset+'-'+subcat+'-dyn.h5ad')\n",
    "#subdata=sc.read(WD+'analyzed/'+analysis_name+'/velocity/Velo-'+velosubset+'-'+mysubset+'-'+subcat+'-dyn.subsampled.h5ad')\n",
    "\n",
    "#tdata.write(\"Fullanalysis/analyzed/sw_besca2_immune/velocity/Velo-CD8Tcell-All-PBMCandTIL-dyn_after_terminal_initial_exclude.h5ad\")\n",
    "#alldata.write(\"Fullanalysis/analyzed/sw_besca2_immune/velocity/Velo-CD8Tcell-All-PBMCandTIL-dyn_after_terminal_initial.h5ad\")\n",
    "\n",
    "adata=sc.read(WD+'analyzed/'+analysis_name+'/velocity/Velo-'+velosubset+'-'+mysubset+'-'+subcat+'-dyn.h5ad')\n",
    "tdata=sc.read(\"Fullanalysis/analyzed/sw_besca2_immune/velocity/Velo-CD8Tcell-All-PBMCandTIL-dyn_after_terminal_initial_exclude.h5ad\")\n",
    "alldata=sc.read(\"Fullanalysis/analyzed/sw_besca2_immune/velocity/Velo-CD8Tcell-All-PBMCandTIL-dyn_after_terminal_initial.h5ad\")"
   ]
  },
  {
   "cell_type": "code",
   "execution_count": null,
   "metadata": {},
   "outputs": [],
   "source": [
    "sc.set_figure_params()"
   ]
  },
  {
   "cell_type": "code",
   "execution_count": null,
   "metadata": {},
   "outputs": [],
   "source": [
    "scv.pl.scatter(alldata, color_gradients=['S_score', 'G2M_score'], smooth=True, perc=[5, 95], \n",
    "               save='CellCycle'+velosubset+'-'+mysubset+'-'+subcat+'.svg')\n"
   ]
  },
  {
   "cell_type": "code",
   "execution_count": null,
   "metadata": {},
   "outputs": [],
   "source": [
    "scv.pl.velocity_embedding_stream(alldata, basis='umap',color=['Sample type', 'leiden','celltype3_pub'],\n",
    "                                 min_mass=3.25,save='Fulldata-'+velosubset+'-'+mysubset+'-'+subcat+'.svg')"
   ]
  },
  {
   "cell_type": "code",
   "execution_count": null,
   "metadata": {},
   "outputs": [],
   "source": [
    "xdata=tdata.copy()\n",
    "scv.pp.neighbors(xdata)\n",
    "\n",
    "scv.utils.randomized_velocity(xdata)\n",
    "#scv.pl.velocity_embedding_stream(adata, vkey=['velocity', 'velocity_random'])"
   ]
  },
  {
   "cell_type": "code",
   "execution_count": null,
   "metadata": {},
   "outputs": [],
   "source": [
    "scv.pl.velocity_embedding_stream(xdata, vkey=['velocity_random'], color='Sample type')"
   ]
  },
  {
   "cell_type": "code",
   "execution_count": null,
   "metadata": {},
   "outputs": [],
   "source": [
    "sc.set_figure_params()"
   ]
  },
  {
   "cell_type": "code",
   "execution_count": null,
   "metadata": {},
   "outputs": [],
   "source": [
    "#set(tdata.obs.columns)"
   ]
  },
  {
   "cell_type": "code",
   "execution_count": null,
   "metadata": {},
   "outputs": [],
   "source": [
    "sc.pl.umap(tdata,color=['leiden'])"
   ]
  },
  {
   "cell_type": "code",
   "execution_count": null,
   "metadata": {},
   "outputs": [],
   "source": [
    "sc.pl.umap(tdata,color=['leiden'], legend_loc='on data',save='Finalumap-'+velosubset+'.leiden.tdata.svg')"
   ]
  },
  {
   "cell_type": "code",
   "execution_count": null,
   "metadata": {},
   "outputs": [],
   "source": [
    "sc.pl.umap(tdata,color=['celltype3_pub'],save='Finalumap-'+velosubset+'.celltype3_pub.tdata.svg')"
   ]
  },
  {
   "cell_type": "markdown",
   "metadata": {},
   "source": [
    "### Plot distinct sets of genes of interest "
   ]
  },
  {
   "cell_type": "code",
   "execution_count": null,
   "metadata": {},
   "outputs": [],
   "source": [
    "goi=['KLRC2', 'CXCR6', 'CXCL13', 'HAVCR2', 'ITGA1', 'FOS',\n",
    "     'CD69', 'KLRF1', 'ZNF683', 'KLRG1',\n",
    "      'HSPA1A', 'HSPA1B', 'ATF3', 'DUSP4', 'TIGIT',\n",
    "     'CCL4', 'GZMB','PRF1', 'XCL1', 'XCL2', 'CAV1', 'CRTAM',\n",
    "     'CD200', 'FCRL6', 'MATK', 'GZMA', 'HLA-DQA1', 'ACTN1', \n",
    "      'ENTPD1', 'DUSP1', 'IL18R1','CXCR5','CXCR3','SLAMF6',\n",
    "     'CTLA4', 'PRDM1', 'TYMS', 'MCM10', 'CDC45', 'ZWINT', 'CLSPN',\n",
    "     'CDC20', 'DLGAP5', 'BIRC5', 'AURKB', 'CDCA2',\n",
    "    'STMN1', 'MKI67', 'TCF7', 'PLAC8', 'GZMK', 'IFNG', 'IL2', 'PDCD1',\n",
    "     'LAG3', 'TOX', 'ITGAE', 'CD28', \n",
    "     'CD27', 'TNFRSF9', 'CD101', 'CD38', 'PIK3R1']"
   ]
  },
  {
   "cell_type": "code",
   "execution_count": null,
   "metadata": {},
   "outputs": [],
   "source": [
    "goi=['CDCA2','CDC20','DLGAP5','MKI67','BIRC5','AURKB','TYMS','STMN1',\n",
    "     'CD40LG','TMIGD2','ACTN1','KLF2','PLAC8','TCF7','SELL','CCR7','IL7R',  'PTGER2',\n",
    "      'PIK3R1','KLRG1','ZNF683','FCRL6','MATK','GNLY',\n",
    "     'XCL1','XCL2','CD200','CXCR3','SLAMF6','IL2','IL18R1','CXCR5','ID3','S1PR1','KLF3','IFNG','CCL4','CCL3','CXCL13',\n",
    "     'KLRF1','KLRB1','CRTAM','CD28','CAV1','IFITM1','CXCR6','KLRC2','ITGA1','CD101','CD69','FOS','GZMK','CD27',\n",
    "     'HLA-DQA1','GZMB','GZMA','PRF1','TNFRSF9','PRDM1','TOX','TIGIT','LAG3','HAVCR2','PDCD1',\n",
    "     'ENTPD1','CTLA4','ITGAE','CD38','DUSP4','DUSP1','ATF3','HSPA1A','HSPA1B']"
   ]
  },
  {
   "cell_type": "code",
   "execution_count": null,
   "metadata": {},
   "outputs": [],
   "source": [
    "average_obs,fraction_obs=bc.get_means(tdata, 'leiden')"
   ]
  },
  {
   "cell_type": "code",
   "execution_count": null,
   "metadata": {},
   "outputs": [],
   "source": [
    "mycol=['#6A3A4C','#5A0007','#5A0007','#6A3A4C','#6A3A4C','#5A0007','#004D43','#5A0007','#6B7900','#6A3A4C','#D16100','#D16100','#6B7900']\n",
    "#mycol=['0','1','3','5','6','7','8','9','10','11','13','15','16']\n",
    "#mycol=['#6A3A4C','#6A3A4C','#6A3A4C','#6A3A4C','#6A3A4C','#6A3A4C','#004D43','#004D43','#6B7900','#6A3A4C','#6A3A4C','#6A3A4C','#6B7900']"
   ]
  },
  {
   "cell_type": "code",
   "execution_count": null,
   "metadata": {},
   "outputs": [],
   "source": [
    "mycol=pd.Series(mycol)\n",
    "mycol.index=['0','1','3','5','6','7','8','9','10','11','13','15','16']"
   ]
  },
  {
   "cell_type": "code",
   "execution_count": null,
   "metadata": {},
   "outputs": [],
   "source": [
    "myorder=['16','10','3','7','1','9','8','15','13','6','0','11','5']"
   ]
  },
  {
   "cell_type": "code",
   "execution_count": null,
   "metadata": {},
   "outputs": [],
   "source": [
    "### Plot parameters for publication \n",
    "def set_pub():    \n",
    "    small_size = 10\n",
    "    medium_size = 12\n",
    "    large_size = 14\n",
    "\n",
    "    resolution = 300 #in dpi\n",
    "    plt.rcParams['font.weight'] = 'normal'\n",
    "    #plt.rc('font', **{'family':'sans-serif','sans-serif':['Helvetica']})\n",
    "    plt.rc('axes', titlesize=large_size, titleweight = \"bold\")               # fontsize of the axes title\n",
    "    plt.rc('axes', labelsize=medium_size, labelweight = \"bold\")               # fontsize of the x and y labels\n",
    "    plt.rc('xtick', labelsize=small_size)               # fontsize of the tick labels\n",
    "    plt.rc('ytick', labelsize=small_size)               # fontsize of the tick labels\n",
    "    plt.rc('legend', fontsize=small_size, title_fontsize = medium_size)               # legend fontsize\n",
    "    plt.rc('figure', titlesize=large_size, titleweight = \"bold\")              # fontsize of the figure title\n",
    "    plt.rc('savefig', dpi=resolution)                   # higher res outputs\n",
    "\n",
    "    plt.rcParams['svg.fonttype'] = 'none'\n",
    "\n",
    "\n",
    "set_pub()"
   ]
  },
  {
   "cell_type": "code",
   "execution_count": null,
   "metadata": {},
   "outputs": [],
   "source": [
    "sns.set(font_scale=0.6)\n",
    "a=sns.clustermap(average_obs.loc[myorder,goi],col_cluster=False, row_cluster=False,figsize=(15,4),\n",
    "                 cmap='viridis',row_colors=list(mycol[myorder]),metric='correlation', \n",
    "                 )\n",
    "#a.savefig(figdir+'Heatmap-goi-'+velosubset+'.celltype3_pub.tdata.nc.pdf')\n",
    "#a.savefig(figdir+'Heatmap-goi-'+velosubset+'.celltype3_pub.tdata.nc.svg')\n",
    "a.savefig(figdir+'Heatmap-goi-'+velosubset+'.celltype3_pub.tdata.nc.svg', format='svg', bbox_inches=\"tight\", dpi=300)"
   ]
  },
  {
   "cell_type": "code",
   "execution_count": null,
   "metadata": {},
   "outputs": [],
   "source": [
    "a=sns.clustermap(average_obs.loc[myorder,goi],col_cluster=True, row_cluster=False,figsize=(15,4),\n",
    "                 cmap='viridis',row_colors=list(mycol[myorder]),metric='cosine', standard_scale=1,\n",
    "                 )\n",
    "#a.savefig(figdir+'Heatmap-goi-'+velosubset+'.celltype3_pub.tdata.standard.pdf')\n",
    "a.savefig(figdir+'Heatmap-goi-'+velosubset+'.celltype3_pub.tdata.standard.svg', format='svg', bbox_inches=\"tight\", dpi=300)"
   ]
  },
  {
   "cell_type": "code",
   "execution_count": null,
   "metadata": {},
   "outputs": [],
   "source": [
    "a=sns.clustermap(average_obs.loc[myorder,goi],col_cluster=False, row_cluster=False,figsize=(15,4),\n",
    "                 cmap='viridis',row_colors=list(mycol[myorder]),metric='cosine', standard_scale=1,\n",
    "                 )\n",
    "#a.savefig(figdir+'Heatmap-goi-'+velosubset+'.celltype3_pub.tdata.nc.standard.pdf')\n",
    "a.savefig(figdir+'Heatmap-goi-'+velosubset+'.celltype3_pub.tdata.nc.standard.svg', format='svg', bbox_inches=\"tight\", dpi=300)"
   ]
  },
  {
   "cell_type": "code",
   "execution_count": null,
   "metadata": {},
   "outputs": [],
   "source": [
    "sns.set(font_scale=0.6)\n",
    "a=sns.clustermap(fraction_obs.loc[:,goi],col_cluster=False, row_cluster=True,figsize=(15,4),\n",
    "                 cmap='viridis',row_colors=mycol,metric='correlation')\n",
    "#a.savefig(figdir+'Heatmap-goi-'+velosubset+'.celltype3_pub.tdata.nc.pdf')\n",
    "a.savefig(figdir+'Heatmap-goi-'+velosubset+'.celltype3_pub.tdata.nc.svg', format='svg', bbox_inches=\"tight\", dpi=300)"
   ]
  },
  {
   "cell_type": "code",
   "execution_count": null,
   "metadata": {},
   "outputs": [],
   "source": [
    "sc.pl.matrixplot(tdata,var_names=goiclus,vmax=2,groupby='leiden',dendrogram=True)"
   ]
  },
  {
   "cell_type": "code",
   "execution_count": null,
   "metadata": {},
   "outputs": [],
   "source": [
    "sc.pl.matrixplot(tdata,var_names=goi,groupby='leiden',dendrogram=False, \n",
    "                 standard_scale='var', categories_order=myorder,\n",
    "                 save='Heatmap-goi-'+velosubset+'.celltype3_pub.tdata.nc.scanpy_zscore.svg')\n",
    "\n"
   ]
  },
  {
   "cell_type": "code",
   "execution_count": null,
   "metadata": {},
   "outputs": [],
   "source": [
    "sc.pl.matrixplot(tdata,var_names=['STMN1','BIRC5','MKI67','CCR7','TCF7','SELL','PLAC8','IL7R','LTB','CD160','FCRL6',\n",
    "                                  'GZMK','GZMB','PRF1','IFNG','XCL1','XCL2','CRTAM','CXCR6','KLRC2','SNAP47','CXCL13',\n",
    "                                  'PDCD1','TOX','HAVCR2','ATF3','HSPA1A','HSPH1'],vmax=2,groupby='leiden',dendrogram=True)"
   ]
  },
  {
   "cell_type": "markdown",
   "metadata": {},
   "source": [
    "### Plot and explore other markers "
   ]
  },
  {
   "cell_type": "code",
   "execution_count": null,
   "metadata": {},
   "outputs": [],
   "source": [
    "#Fairfax et al. https://www.nature.com/articles/s41591-019-0734-6?proof=t\n",
    "largeclones=['PRF1', 'CCL4', 'GNLY','ITGB1']\n",
    "#Sade-Feldmann et al. \n",
    "sade={}\n",
    "sade['good']=['PLAC8', 'LTB', 'LY9', 'SELL', 'TCF7',  'CCR7']\n",
    "sade['bad']=['CCL3', 'CD38', 'HAVCR2', 'ENTPD1', 'WARS']\n",
    "\n",
    "#Li et al. https://www.sciencedirect.com/science/article/pii/S009286741831568X\n",
    "#Cyt from li et al. likely correspond to out cluster 7 (and the other NK-Tlike cells that we removed)\n",
    "#Dys from Li et al. - most of our TIL clusters except for 9, 1, 3\n",
    "#Nai from Li et al. - 10/2\n",
    "#Mem from Li et al. - 3/1/9\n",
    "li={}\n",
    "li['NaiTcell']=['CCR7','IL7R','TCF7']\n",
    "li['MemTcell']=[ 'SELL', 'C1orf21', 'KLRB1', 'ARL4C']\n",
    "li['CD8Cyt']=['GZMH', 'GNLY', 'FGFBP2', 'CX3CR1','KLF2','TBX21', 'PLAC8', 'FGR','SPON2', 'MYBL1','ZNF683','KLRG1']\n",
    "li['CD8Dys']=['PDCD1','LAG3','TIGIT', 'CXCL13','RBPJ', 'ZBED2', 'ETV1', 'ID3', 'MAF', 'PRDM1','EOMES', 'IFNG', \n",
    "              'HAVCR2','PTMS','FAM3C','ICOS','TNFRSF4', 'CCL4L2', 'PRDM1','SPOCK2', 'CCL3', 'TOX', 'ENTPD1','ITGAE']\n",
    "li['CD8Trans']=['GZMK']\n",
    "li['CD4Treg']=['FOXP3','IKZF2','IL2RA'] #ENTPD1, ITGAE, KLRG1\n",
    "li['TExh']=['TNFRSF9', 'CSF1', 'TIGIT']\n",
    "\n",
    "#Wu et al. https://www.nature.com/articles/s41586-020-2056-8\n",
    "# EM from Wu et al. corresponds to our exh-like cluster, in particular the NR one; why EM?\n",
    "# Il7 from Wu et al. is cluster 7, see Cyt from Li et al. above\n",
    "# RM from Wu et al. could be cluster 8\n",
    "# Eff Wu et al. could be cluster 0\n",
    "wucd4=['IL6ST','CRIP1']\n",
    "wueff=['CX3CR1','GNLY', 'NKG7',  'GZMH', 'KLRD1', 'GZMB', 'PRF1', \n",
    "       'IFITM2', 'LITAF','ITGB2','GZMA','GPR56','KLRC2','GZMM','RAP1B']\n",
    "wuem=['GZMK','CCL4',   'DUSP2', 'CD74','DNAJB1','FOS','CCL3','IFNG']\n",
    "wurm=['CCL4', 'XCL1',   'XCL2',   'ZNF683']\n",
    "wuil7=['NCR3','KLRB1','LYAR','IL7R']\n",
    "\n",
    "litgoi=largeclones+sade['good']+sade['bad']+li['NaiTcell']+li['MemTcell']+li['CD8Cyt']+li['CD8Dys']+li['CD8Trans']+li['TExh']\n",
    "litgoi=list(set(litgoi+wueff+wuem+wurm+wuil7))"
   ]
  },
  {
   "cell_type": "code",
   "execution_count": null,
   "metadata": {},
   "outputs": [],
   "source": [
    "yost_exh=['Krt86','Layn','Entpd1','Acp5','Galnt2','Tigit','Havcr2','Gzmb','Ahi1','Atp8b4','Itgae',\n",
    "          'Vcam1','Golim4','Mtss1','Jaml','Sox4','Pde7b','Cxcr6','Csf1','Tnfrsf18','Asb2','Gem','Sla2',\n",
    "          'Myo7a','Sqle']\n",
    "yost_act=['Nfkbia','Junb','Jun','Tnf','Ier2','Ifng','Slc2a3','Cd69','Fos','Nr4a2','Ubc','Gadd45b','Nr4a1',\n",
    "         'Tsc22d3','Hspa1b','Dusp1','Zfp36l1','Ppp1r15a','Actb','Bhlhe40','Fosb','Pim1',\n",
    "         'Clic1','Hspa1a','Cdkn1a','Nfkbiz','Zc3h12a','Tmsb10','Csrnp1']"
   ]
  },
  {
   "cell_type": "code",
   "execution_count": null,
   "metadata": {},
   "outputs": [],
   "source": [
    "mat_cytotox=['PRF1', 'GZMB', 'GZMA', 'GZMH', 'NKG7', 'GNLY']\n",
    "mat_nk=['KLRD1', 'FGFBP2', 'FCGR3A', 'S1PR5', 'KLRC1','KLRC3', 'KLRB1',  'KLRC2']\n",
    "mat_cytotxnk=['GZMB','GNLY', 'NKG7','PRF1', 'KLRD1', 'FGFBP2', 'FCGR3A', 'S100A4','GPR56', 'GZMH']\n",
    "mat_ifn=['CLIC1', 'CD74', 'PSME2', 'APOBEC3G', 'HLA-DRB1', 'HLA-DRA', 'MT2A', 'HLA-DRB5', 'IFI6', 'CRIP1']\n",
    "mat_em=['IL7R','GPR183', 'TNFAIP3', 'CD55','TOB1', 'CCR7', 'NFKBIA', 'FOS', 'KLRB1', 'PIM2']\n",
    "mat_chemokine=['RGS1','CCL4', 'GZMK', 'CCL4L1', 'CCL4L2','CD74', 'ZFP36','DUSP4', 'HLA-DRB1','HLA-DRB5']\n",
    "mat_stress=['HSPA1B', 'HSPA1A','DNAJB1', 'HSP90AA1', 'HSPH1', 'HSPD1', 'HSPA6', 'HSP90AB1', 'ZFAND2A', 'HSPE1']"
   ]
  },
  {
   "cell_type": "code",
   "execution_count": null,
   "metadata": {},
   "outputs": [],
   "source": [
    "# Signature from https://www.nature.com/articles/nature19330\n",
    "resource={}\n",
    "resource['UP']=['TCF7','PDCD1','SLAMF6','CXCR3','CD28','BCL6','PLAGL1']\n",
    "resource['DN']=['HAVCR2','CD244','ENTPD1']\n",
    "resourceext={}\n",
    "resourceext['UP']=['TCF7','PDCD1','SLAMF6','CXCR3','CD28','BCL6','PLAGL1','ICOS','TNFSF14','TNFSF4','IL2','TNF','LAG3', 'CTLA4','BCL6']\n",
    "resourceext['DN']=['HAVCR2','CD244','ENTPD1','PRDM1','ID2','IL2RB','KLRG1','CCL3','CCL4','CCL5','CSF1']\n",
    "\n",
    "sigs={}\n",
    "sigs['resourceCD8Tcell']=resource\n",
    "sigs['resourceCD8Tcellext']=resourceext"
   ]
  },
  {
   "cell_type": "code",
   "execution_count": null,
   "metadata": {},
   "outputs": [],
   "source": [
    "bc.tl.sig.combined_signature_score(adata, signature_dict=sigs)\n",
    "sc.tl.score_genes(adata,gene_list=mat_cytotox,score_name='mat_cytotox')\n",
    "sc.tl.score_genes(adata,gene_list=mat_nk,score_name='mat_nk')\n",
    "sc.tl.score_genes(adata,gene_list=mat_cytotxnk,score_name='mat_cytotxnk')\n",
    "sc.tl.score_genes(adata,gene_list=mat_ifn,score_name='mat_ifn')\n",
    "sc.tl.score_genes(adata,gene_list=mat_em,score_name='mat_em')\n",
    "sc.tl.score_genes(adata,gene_list=mat_chemokine,score_name='mat_chemokine')\n",
    "sc.tl.score_genes(adata,gene_list=mat_stress,score_name='mat_stress')"
   ]
  },
  {
   "cell_type": "code",
   "execution_count": null,
   "metadata": {},
   "outputs": [],
   "source": [
    "bc.tl.sig.combined_signature_score(tdata, signature_dict=sigs)\n",
    "sc.tl.score_genes(tdata,gene_list=mat_cytotox,score_name='mat_cytotox')\n",
    "sc.tl.score_genes(tdata,gene_list=mat_nk,score_name='mat_nk')\n",
    "sc.tl.score_genes(tdata,gene_list=mat_cytotxnk,score_name='mat_cytotxnk')\n",
    "sc.tl.score_genes(tdata,gene_list=mat_ifn,score_name='mat_ifn')\n",
    "sc.tl.score_genes(tdata,gene_list=mat_em,score_name='mat_em')\n",
    "sc.tl.score_genes(tdata,gene_list=mat_chemokine,score_name='mat_chemokine')\n",
    "sc.tl.score_genes(tdata,gene_list=mat_stress,score_name='mat_stress')"
   ]
  },
  {
   "cell_type": "code",
   "execution_count": null,
   "metadata": {},
   "outputs": [],
   "source": [
    "#bc.tl.sig.combined_signature_score(tdata, signature_dict=sigs)\n",
    "sc.tl.score_genes(adata,gene_list=sigs['resourceCD8Tcell']['UP'],score_name='resourceCD8Tcell_UP')\n",
    "sc.tl.score_genes(adata,gene_list=sigs['resourceCD8Tcell']['DN'],score_name='resourceCD8Tcell_DOWN')"
   ]
  },
  {
   "cell_type": "code",
   "execution_count": null,
   "metadata": {},
   "outputs": [],
   "source": [
    "#bc.tl.sig.combined_signature_score(tdata, signature_dict=sigs)\n",
    "sc.tl.score_genes(tdata,gene_list=sigs['resourceCD8Tcell']['UP'],score_name='resourceCD8Tcell_UP')\n",
    "sc.tl.score_genes(tdata,gene_list=sigs['resourceCD8Tcell']['DN'],score_name='resourceCD8Tcell_DOWN')"
   ]
  },
  {
   "cell_type": "code",
   "execution_count": null,
   "metadata": {},
   "outputs": [],
   "source": [
    "sc.tl.score_genes(tdata,gene_list=yost_act,score_name='Activation_Yost')\n",
    "sc.tl.score_genes(tdata,gene_list=yost_exh,score_name='Exhaustion_Yost')\n",
    "#Th17=['Cd163l1','Abi3bp','Il17a','Kcnc1','Rorc', 'Cryba4']\n",
    "#sc.tl.score_genes(adata,gene_list=Th17,score_name='score_Th17_scanpy')\n",
    "#https://www.cell.com/cell/pdfExtended/S0092-8674(15)01696-7\n",
    "#Ifna=['Ifit3','Slfn5','Ifit1','Rsad2','Oas3','Cxcl10','Ifi204','Irf7','Oas2','Rfp4','Stat1','Usp18','Socs1','Gbp4','Ifn7']\n",
    "#sc.tl.score_genes(adata,gene_list=Ifna,score_name='score_Ifna_scanpy')"
   ]
  },
  {
   "cell_type": "code",
   "execution_count": null,
   "metadata": {},
   "outputs": [],
   "source": [
    "sc.pl.matrixplot(adata, var_names=list(set(sigs['resourceCD8Tcellext']['UP']).union(set(sigs['resourceCD8Tcellext']['DN']))), \n",
    "                 groupby='leiden',standard_scale='var',dendrogram=True, save='Heatmap-resource-leiden.svg')"
   ]
  },
  {
   "cell_type": "code",
   "execution_count": null,
   "metadata": {},
   "outputs": [],
   "source": [
    "sc.pl.umap(tdata,color=litgoi, color_map='viridis')"
   ]
  },
  {
   "cell_type": "code",
   "execution_count": null,
   "metadata": {},
   "outputs": [],
   "source": [
    "sc.pl.umap(tdata,color=['IFITM1','GZMA'], color_map='viridis')"
   ]
  },
  {
   "cell_type": "code",
   "execution_count": null,
   "metadata": {},
   "outputs": [],
   "source": [
    "average_obs,fraction_obs=bc.get_means(tdata[tdata.obs['Sample type']=='TIL'], 'leiden')\n",
    "\n",
    "tdata_mature.uns['celltype3_pub_colors']\n",
    "\n",
    "mycol=['#6A3A4C','#5A0007','#5A0007','#6A3A4C','#6A3A4C','#5A0007','#004D43','#004D43','#6B7900','#6A3A4C','#D16100','#D16100','#6B7900']\n",
    "#mycol=['0','1','3','5','6','7','8','9','10','11','13','15','16']\n",
    "#mycol=['#6A3A4C','#6A3A4C','#6A3A4C','#6A3A4C','#6A3A4C','#6A3A4C','#004D43','#004D43','#6B7900','#6A3A4C','#6A3A4C','#6A3A4C','#6B7900']\n"
   ]
  },
  {
   "cell_type": "code",
   "execution_count": null,
   "metadata": {},
   "outputs": [],
   "source": [
    "\n",
    "sns.set(font_scale=0.7)\n",
    "a=sns.clustermap(fraction_obs.loc[:,litgoi+['MKI67','STMN1']],col_cluster=True, row_cluster=True,figsize=(16,4),\n",
    "                 cmap='viridis',row_colors=mycol,metric='correlation',vmax=1)\n",
    "a.savefig(figdir+'Heatmap-litgoi-'+velosubset+'.celltype3_pub.tdata_tumorOnly.pdf')\n",
    "a.savefig(figdir+'Heatmap-litgoi-'+velosubset+'.celltype3_pub.tdata_tumorOnly.svg', format='svg', bbox_inches=\"tight\", dpi=300)"
   ]
  },
  {
   "cell_type": "markdown",
   "metadata": {},
   "source": [
    "#### Explore differential expression among the clusters "
   ]
  },
  {
   "cell_type": "code",
   "execution_count": null,
   "metadata": {},
   "outputs": [],
   "source": [
    "### Difference 0,6 vs. 11,5?\n",
    "#cluster 5 versus 6, cluster 15 R+TF versus both NR, \n",
    "#cluster 13 R+TF versus both NR, cluster 9 R+TF versus both NR, \n",
    "#cluster 0 R+TF versus both NR, Velo driver genes: 9 to 0, 9 to 11, 0 to 6, 0 to 11. \n",
    "    \n",
    "#subt=tdata[tdata.obs['leiden'].isin(['5','6'])].copy()\n",
    "subt=tdata[tdata.obs['leiden'].isin(['8'])].copy()\n",
    "#tmp=subt.obs['leiden'].copy()\n",
    "#tmp[subt.obs['leiden']=='6']='0'\n",
    "#tmp[subt.obs['leiden']=='11']='5'\n",
    "#subt.obs['leidens']=list(tmp)"
   ]
  },
  {
   "cell_type": "code",
   "execution_count": null,
   "metadata": {},
   "outputs": [],
   "source": [
    "set(subt.obs['Respond'])"
   ]
  },
  {
   "cell_type": "code",
   "execution_count": null,
   "metadata": {},
   "outputs": [],
   "source": [
    "DEgenesS=bc.tl.dge.get_de(subt,'Respond',demethod='wilcoxon',topnr=5000, logfc=1,padj=0.05)\n"
   ]
  },
  {
   "cell_type": "code",
   "execution_count": null,
   "metadata": {},
   "outputs": [],
   "source": [
    "#DEgenes['0']\n",
    "for i in DEgenesS.keys():\n",
    "    DEgenesS[i].sort_values('Log2FC',ascending=False).to_csv(figdir+'/DEresponsegenes_c8_'+velosubset+'-'+mysubset+'_'+subcat+'_subdata_leiden_'+i+'.tsv',sep='\\t')"
   ]
  },
  {
   "cell_type": "code",
   "execution_count": null,
   "metadata": {},
   "outputs": [],
   "source": [
    "sc.tl.dendrogram(tdata,groupby='leiden')"
   ]
  },
  {
   "cell_type": "code",
   "execution_count": null,
   "metadata": {},
   "outputs": [],
   "source": [
    "\n",
    "### Select only top genes (in order of p-val) for 2 clusters and plot expression per cluster\n",
    "tops=list(DEgenesS['5'][0:50].sort_values('Log2FC',ascending=False)['Name'])\n",
    "sc.pl.dotplot(tdata, var_names=tops,groupby='leiden', dendrogram=True)"
   ]
  },
  {
   "cell_type": "code",
   "execution_count": null,
   "metadata": {},
   "outputs": [],
   "source": [
    "tops=list(DEgenesS['0'][0:50].sort_values('Log2FC',ascending=False)['Name'])\n",
    "sc.pl.dotplot(tdata, var_names=tops,groupby='leiden', dendrogram=True)"
   ]
  },
  {
   "cell_type": "code",
   "execution_count": null,
   "metadata": {},
   "outputs": [],
   "source": [
    "sc.pl.umap(adata,color='leiden')"
   ]
  },
  {
   "cell_type": "code",
   "execution_count": null,
   "metadata": {},
   "outputs": [],
   "source": [
    "#DEgenes=bc.tl.dge.get_de(tdata,'leiden',demethod='wilcoxon',topnr=5000, logfc=1,padj=0.05)\n",
    "DEgenes=bc.tl.dge.get_de(adata,'leiden',demethod='wilcoxon',topnr=5000, logfc=1,padj=0.05)\n"
   ]
  },
  {
   "cell_type": "code",
   "execution_count": null,
   "metadata": {},
   "outputs": [],
   "source": [
    "DEgenes=bc.tl.dge.get_de(tdata,'leiden',demethod='wilcoxon',topnr=5000, logfc=1,padj=0.05)\n",
    "\n",
    "\n"
   ]
  },
  {
   "cell_type": "code",
   "execution_count": null,
   "metadata": {},
   "outputs": [],
   "source": [
    "#DEgenes['0']\n",
    "for i in DEgenes.keys():\n",
    "    DEgenes[i].sort_values('Log2FC',ascending=False).to_csv(figdir+'/Topclustergenes_'+velosubset+'-'+mysubset+'_'+subcat+'_tdata_leiden_'+i+'.tsv',sep='\\t')"
   ]
  },
  {
   "cell_type": "code",
   "execution_count": null,
   "metadata": {},
   "outputs": [],
   "source": [
    "for i in DEgenes.keys():\n",
    "    DEgenes[i].sort_values('Log2FC',ascending=False).to_csv(figdir+'/Topclustergenes_'+velosubset+'-'+mysubset+'_'+subcat+'_adata_leiden_'+i+'.tsv',sep='\\t')"
   ]
  },
  {
   "cell_type": "code",
   "execution_count": null,
   "metadata": {},
   "outputs": [],
   "source": [
    "### Select only top genes (in order of p-val) for 2 clusters and plot expression per cluster\n",
    "tops=list(DEgenes['14'][0:50].sort_values('Log2FC',ascending=False)['Name'])\n",
    "sc.pl.dotplot(tdata, var_names=tops,groupby='leiden', dendrogram=True)"
   ]
  },
  {
   "cell_type": "code",
   "execution_count": null,
   "metadata": {},
   "outputs": [],
   "source": [
    "### Select only top genes (in order of p-val) for 2 clusters and plot expression per cluster\n",
    "tops=list(DEgenes['13'][0:50].sort_values('Log2FC',ascending=False)['Name'])\n",
    "sc.pl.dotplot(tdata, var_names=tops,groupby='leiden', dendrogram=True)"
   ]
  },
  {
   "cell_type": "code",
   "execution_count": null,
   "metadata": {},
   "outputs": [],
   "source": [
    "### Select only top genes (in order of p-val) for 2 clusters and plot expression per cluster\n",
    "tops=list(DEgenes['3'][0:50].sort_values('Log2FC',ascending=False)['Name'])\n",
    "sc.pl.dotplot(tdata, var_names=tops,groupby='leiden', dendrogram=True)"
   ]
  },
  {
   "cell_type": "code",
   "execution_count": null,
   "metadata": {},
   "outputs": [],
   "source": [
    "sc.set_figure_params()"
   ]
  },
  {
   "cell_type": "code",
   "execution_count": null,
   "metadata": {},
   "outputs": [],
   "source": [
    "cr.pl.initial_states(tdata, discrete=True, save='scvelo_Initial_states_CD8Tcell.PAGA.svg')\n"
   ]
  },
  {
   "cell_type": "code",
   "execution_count": null,
   "metadata": {},
   "outputs": [],
   "source": [
    "cr.pl.terminal_states(tdata, discrete=True, save='scvelo_Terminal_states_CD8Tcell.PAGA.svg')\n"
   ]
  },
  {
   "cell_type": "code",
   "execution_count": null,
   "metadata": {},
   "outputs": [],
   "source": [
    "cr.tl.lineages(tdata)\n",
    "cr.pl.lineages(tdata, same_plot=False)\n",
    "\n"
   ]
  },
  {
   "cell_type": "code",
   "execution_count": null,
   "metadata": {},
   "outputs": [],
   "source": [
    "#scv.tl.recover_latent_time(tdata, root_key='initial_states_probs', end_key='terminal_states_probs')\n"
   ]
  },
  {
   "cell_type": "code",
   "execution_count": null,
   "metadata": {},
   "outputs": [],
   "source": [
    "scv.tl.recover_latent_time(tdata, root_key='initial_states_probs', end_key='terminal_states_probs')\n",
    "\n"
   ]
  },
  {
   "cell_type": "code",
   "execution_count": null,
   "metadata": {},
   "outputs": [],
   "source": [
    "scv.tl.paga(tdata, groups='leiden', root_key='initial_states_probs', end_key='terminal_states_probs', \n",
    "            use_time_prior='velocity_pseudotime')\n",
    "\n",
    "\n",
    "sc.set_figure_params(10)\n",
    "import matplotlib.pyplot as plt\n",
    "plt.rcParams[\"figure.figsize\"] = (5,5)\n",
    "\n",
    "\n",
    "\n",
    "cr.pl.cluster_fates(tdata, mode=\"paga_pie\", cluster_key=\"leiden\", basis='umap',\n",
    "                    legend_kwargs={'loc': 'top right out'}, legend_loc='top left out',\n",
    "                    node_size_scale=1, edge_width_scale=1, max_edge_width=4, title='directed PAGA', \n",
    "                   save='DirectedGraphCD8Tcell.PAGA.svg')\n"
   ]
  },
  {
   "cell_type": "code",
   "execution_count": null,
   "metadata": {},
   "outputs": [],
   "source": [
    "cr.pl.lineages(tdata, same_plot=False)"
   ]
  },
  {
   "cell_type": "code",
   "execution_count": null,
   "metadata": {},
   "outputs": [],
   "source": [
    "sc.pl.umap(tdata,color=['latent_time'])"
   ]
  },
  {
   "cell_type": "markdown",
   "metadata": {},
   "source": [
    "#### Stratify analysis per response class "
   ]
  },
  {
   "cell_type": "code",
   "execution_count": null,
   "metadata": {},
   "outputs": [],
   "source": [
    "rdata=tdata[tdata.obs['RCat'].isin(['R'])].copy()\n",
    "tfdata=tdata[tdata.obs['RCat'].isin(['TF'])].copy()\n",
    "\n",
    "nrdata=tdata[tdata.obs['RCat'].isin(['NR_adj'])].copy()\n",
    "nrnadjdata=tdata[tdata.obs['RCat'].isin(['NR_nadj'])].copy()"
   ]
  },
  {
   "cell_type": "code",
   "execution_count": null,
   "metadata": {},
   "outputs": [],
   "source": [
    "cr.pl.initial_states(rdata, discrete=True)"
   ]
  },
  {
   "cell_type": "code",
   "execution_count": null,
   "metadata": {},
   "outputs": [],
   "source": [
    "len(rdata)"
   ]
  },
  {
   "cell_type": "code",
   "execution_count": null,
   "metadata": {},
   "outputs": [],
   "source": [
    "len(tfdata)"
   ]
  },
  {
   "cell_type": "code",
   "execution_count": null,
   "metadata": {},
   "outputs": [],
   "source": [
    "len(nrdata)"
   ]
  },
  {
   "cell_type": "code",
   "execution_count": null,
   "metadata": {},
   "outputs": [],
   "source": [
    "len(nrnadjdata)"
   ]
  },
  {
   "cell_type": "code",
   "execution_count": null,
   "metadata": {},
   "outputs": [],
   "source": [
    "nrbdata=tdata[tdata.obs['RCat'].isin(['NR_adj','NR_nadj'])].copy()\n",
    "rbdata=tdata[tdata.obs['RCat'].isin(['R','TF'])].copy()\n"
   ]
  },
  {
   "cell_type": "code",
   "execution_count": null,
   "metadata": {},
   "outputs": [],
   "source": [
    "scv.tl.paga(rbdata, groups='leiden', root_key='initial_states_probs', end_key='terminal_states_probs', \n",
    "            use_time_prior='velocity_pseudotime')\n",
    "\n",
    "\n",
    "sc.set_figure_params(10)\n",
    "import matplotlib.pyplot as plt\n",
    "plt.rcParams[\"figure.figsize\"] = (5,5)\n",
    "\n",
    "\n",
    "\n",
    "cr.pl.cluster_fates(rbdata, mode=\"paga_pie\", cluster_key=\"leiden\", basis='umap',\n",
    "                    legend_kwargs={'loc': 'top right out'}, legend_loc='top left out',\n",
    "                    node_size_scale=1, edge_width_scale=1, max_edge_width=4, title='directed PAGA', \n",
    "                   save='DirectedGraphCD8Tcell.PAGA.rbdata.svg')\n"
   ]
  },
  {
   "cell_type": "code",
   "execution_count": null,
   "metadata": {},
   "outputs": [],
   "source": [
    "cnames=['0','1','3','5','6','7','8','9','10','11','13','15','16']\n",
    "tconf=scv.get_df(rbdata, 'paga/transitions_confidence', precision=2).T\n",
    "tconf.index=cnames\n",
    "tconf.columns=cnames\n",
    "tconf.to_csv(figdir+'/Transitionstable_'+velosubset+'-'+mysubset+'_'+subcat+'_leiden_rbdata.tsv',sep='\\t')"
   ]
  },
  {
   "cell_type": "code",
   "execution_count": null,
   "metadata": {},
   "outputs": [],
   "source": [
    "scv.tl.paga(nrbdata, groups='leiden', root_key='initial_states_probs', end_key='terminal_states_probs', \n",
    "            use_time_prior='velocity_pseudotime')\n",
    "\n",
    "\n",
    "sc.set_figure_params(10)\n",
    "import matplotlib.pyplot as plt\n",
    "plt.rcParams[\"figure.figsize\"] = (5,5)\n",
    "\n",
    "\n",
    "\n",
    "cr.pl.cluster_fates(nrbdata, mode=\"paga_pie\", cluster_key=\"leiden\", basis='umap',\n",
    "                    legend_kwargs={'loc': 'top right out'}, legend_loc='top left out',\n",
    "                    node_size_scale=1, edge_width_scale=1, max_edge_width=4, title='directed PAGA',\n",
    "                    save='DirectedGraphCD8Tcell.PAGA.nrbdata.svg')\n"
   ]
  },
  {
   "cell_type": "code",
   "execution_count": null,
   "metadata": {},
   "outputs": [],
   "source": [
    "tconf=scv.get_df(nrbdata, 'paga/transitions_confidence', precision=2).T\n",
    "tconf.index=cnames\n",
    "tconf.columns=cnames\n",
    "tconf.to_csv(figdir+'/Transitionstable_'+velosubset+'-'+mysubset+'_'+subcat+'_leiden_nrbdata.tsv',sep='\\t')"
   ]
  },
  {
   "cell_type": "code",
   "execution_count": null,
   "metadata": {},
   "outputs": [],
   "source": [
    "tconf.style.background_gradient(cmap='Blues').format('{:.2g}')\n"
   ]
  },
  {
   "cell_type": "markdown",
   "metadata": {},
   "source": [
    "#### Redo the same analysis but only with a subset of clusters - remove naive/memory T cells"
   ]
  },
  {
   "cell_type": "code",
   "execution_count": null,
   "metadata": {},
   "outputs": [],
   "source": [
    "nrbdata_mature=nrbdata[nrbdata.obs['leiden'].isin(['9','8','11','6','5','13','15','0'])].copy()\n",
    "rbdata_mature=rbdata[rbdata.obs['leiden'].isin(['9','8','11','6','5','13','15','0'])].copy()"
   ]
  },
  {
   "cell_type": "code",
   "execution_count": null,
   "metadata": {},
   "outputs": [],
   "source": [
    "tdata_mature=tdata[tdata.obs['leiden'].isin(['9','8','11','6','5','13','15','0'])].copy()"
   ]
  },
  {
   "cell_type": "code",
   "execution_count": null,
   "metadata": {},
   "outputs": [],
   "source": [
    "scv.tl.paga(tdata_mature, groups='leiden', root_key='initial_states_probs', end_key='terminal_states_probs', \n",
    "            use_time_prior='velocity_pseudotime')\n",
    "\n",
    "\n",
    "sc.set_figure_params(10)\n",
    "import matplotlib.pyplot as plt\n",
    "plt.rcParams[\"figure.figsize\"] = (5,5)\n",
    "\n",
    "\n",
    "\n",
    "cr.pl.cluster_fates(tdata_mature, mode=\"paga_pie\", cluster_key=\"leiden\", basis='umap',\n",
    "                    legend_kwargs={'loc': 'top right out'}, legend_loc='top left out',\n",
    "                    node_size_scale=1, edge_width_scale=1, max_edge_width=4, title='directed PAGA',\n",
    "                    save='DirectedGraphCD8Tcell.PAGA.tdata_mature.svg')\n"
   ]
  },
  {
   "cell_type": "code",
   "execution_count": null,
   "metadata": {},
   "outputs": [],
   "source": [
    "cr.tl.lineage_drivers(tdata_mature)\n",
    "\n",
    "lin_drivers_sub=tdata_mature.raw.var['to 5']\n",
    "\n",
    "lin_drivers_sub[np.abs(lin_drivers_sub)>0.05].sort_values(ascending=False)[0:15]"
   ]
  },
  {
   "cell_type": "code",
   "execution_count": null,
   "metadata": {},
   "outputs": [],
   "source": [
    "scv.tl.paga(nrbdata_mature, groups='leiden', root_key='initial_states_probs', end_key='terminal_states_probs', \n",
    "            use_time_prior='velocity_pseudotime')\n",
    "\n",
    "\n",
    "sc.set_figure_params(10)\n",
    "import matplotlib.pyplot as plt\n",
    "plt.rcParams[\"figure.figsize\"] = (5,5)\n",
    "\n",
    "\n",
    "\n",
    "cr.pl.cluster_fates(nrbdata_mature, mode=\"paga_pie\", cluster_key=\"leiden\", basis='umap',\n",
    "                    legend_kwargs={'loc': 'top right out'}, legend_loc='top left out',\n",
    "                    node_size_scale=1, edge_width_scale=1, max_edge_width=4, title='directed PAGA',\n",
    "                   save='DirectedGraphCD8Tcell.PAGA.nrbdata_mature.svg')\n"
   ]
  },
  {
   "cell_type": "code",
   "execution_count": null,
   "metadata": {},
   "outputs": [],
   "source": [
    "cnames=['0','5','6','8','9','11','13','15']\n",
    "tconf=scv.get_df(nrbdata_mature, 'paga/transitions_confidence', precision=2).T\n",
    "tconf.index=cnames\n",
    "tconf.columns=cnames\n",
    "tconf.to_csv(figdir+'/Transitionstable_'+velosubset+'-'+mysubset+'_'+subcat+'_leiden_nrbdata_mature.tsv',sep='\\t')"
   ]
  },
  {
   "cell_type": "code",
   "execution_count": null,
   "metadata": {},
   "outputs": [],
   "source": [
    "tconf.style.background_gradient(cmap='Blues').format('{:.2g}')\n"
   ]
  },
  {
   "cell_type": "code",
   "execution_count": null,
   "metadata": {},
   "outputs": [],
   "source": [
    "cr.tl.lineage_drivers(nrbdata_mature)\n",
    "\n",
    "lin_drivers_sub=nrbdata_mature.raw.var['to 5']\n",
    "\n",
    "lin_drivers_sub[np.abs(lin_drivers_sub)>0.05].sort_values(ascending=False)[0:15]"
   ]
  },
  {
   "cell_type": "code",
   "execution_count": null,
   "metadata": {},
   "outputs": [],
   "source": [
    "lin_drivers_sub[np.abs(lin_drivers_sub)>0.05].sort_values(ascending=True)[0:15]"
   ]
  },
  {
   "cell_type": "code",
   "execution_count": null,
   "metadata": {},
   "outputs": [],
   "source": [
    "scv.tl.paga(rbdata_mature, groups='leiden', root_key='initial_states_probs', end_key='terminal_states_probs', \n",
    "            use_time_prior='velocity_pseudotime')\n",
    "\n",
    "\n",
    "sc.set_figure_params(10)\n",
    "import matplotlib.pyplot as plt\n",
    "plt.rcParams[\"figure.figsize\"] = (5,5)\n",
    "\n",
    "\n",
    "\n",
    "cr.pl.cluster_fates(rbdata_mature, mode=\"paga_pie\", cluster_key=\"leiden\", basis='umap',\n",
    "                    legend_kwargs={'loc': 'top right out'}, legend_loc='top left out',\n",
    "                    node_size_scale=1, edge_width_scale=1, max_edge_width=4, title='directed PAGA',\n",
    "                   save='DirectedGraphCD8Tcell.PAGA.rbdata_mature.svg')\n"
   ]
  },
  {
   "cell_type": "code",
   "execution_count": null,
   "metadata": {},
   "outputs": [],
   "source": [
    "cnames=['0','5','6','8','9','11','13','15']\n",
    "tconf=scv.get_df(rbdata_mature, 'paga/transitions_confidence', precision=2).T\n",
    "tconf.index=cnames\n",
    "tconf.columns=cnames\n",
    "tconf.to_csv(figdir+'/Transitionstable_'+velosubset+'-'+mysubset+'_'+subcat+'_leiden_rbdata_mature.tsv',sep='\\t')"
   ]
  },
  {
   "cell_type": "code",
   "execution_count": null,
   "metadata": {},
   "outputs": [],
   "source": [
    "tconf.style.background_gradient(cmap='Blues').format('{:.2g}')\n"
   ]
  },
  {
   "cell_type": "code",
   "execution_count": null,
   "metadata": {},
   "outputs": [],
   "source": [
    "cr.tl.lineage_drivers(rbdata_mature)\n",
    "\n",
    "lin_drivers_sub=rbdata_mature.raw.var['to 5']\n",
    "\n",
    "lin_drivers_sub[np.abs(lin_drivers_sub)>0.05].sort_values(ascending=False)[0:15]"
   ]
  },
  {
   "cell_type": "code",
   "execution_count": null,
   "metadata": {},
   "outputs": [],
   "source": [
    "len(nrbdata)"
   ]
  },
  {
   "cell_type": "markdown",
   "metadata": {},
   "source": [
    "#### Get the transition confidence "
   ]
  },
  {
   "cell_type": "code",
   "execution_count": null,
   "metadata": {},
   "outputs": [],
   "source": [
    "scv.tl.paga(rdata, groups='leiden', root_key='initial_states_probs', end_key='terminal_states_probs', \n",
    "            use_time_prior='velocity_pseudotime')\n",
    "\n",
    "cr.pl.cluster_fates(rdata, mode=\"paga_pie\", cluster_key=\"leiden\", basis='umap',\n",
    "                    legend_kwargs={'loc': 'top right out'}, legend_loc='top left out',\n",
    "                    node_size_scale=1, edge_width_scale=1, max_edge_width=4, title='directed PAGA')\n"
   ]
  },
  {
   "cell_type": "code",
   "execution_count": null,
   "metadata": {},
   "outputs": [],
   "source": [
    "cnames=['0','1','3','5','6','7','8','9','10','11','13','15','16']\n",
    "tconf=scv.get_df(rdata, 'paga/transitions_confidence', precision=2).T\n",
    "tconf.index=cnames\n",
    "tconf.columns=cnames\n",
    "tconf.to_csv(figdir+'/Transitionstable_'+velosubset+'-'+mysubset+'_'+subcat+'_leiden_rdata.tsv',sep='\\t')\n",
    "tconf.style.background_gradient(cmap='Blues').format('{:.2g}')\n"
   ]
  },
  {
   "cell_type": "code",
   "execution_count": null,
   "metadata": {},
   "outputs": [],
   "source": [
    "scv.tl.paga(tfdata, groups='leiden', root_key='initial_states_probs', end_key='terminal_states_probs', \n",
    "            use_time_prior='velocity_pseudotime')\n",
    "\n",
    "cr.pl.cluster_fates(tfdata, mode=\"paga_pie\", cluster_key=\"leiden\", basis='umap',\n",
    "                    legend_kwargs={'loc': 'top right out'}, legend_loc='top left out',\n",
    "                    node_size_scale=1, edge_width_scale=1, max_edge_width=4, title='directed PAGA')\n"
   ]
  },
  {
   "cell_type": "code",
   "execution_count": null,
   "metadata": {},
   "outputs": [],
   "source": [
    "cnames=['0','1','3','5','6','7','8','9','10','11','13','15','16']\n",
    "tconf=scv.get_df(tfdata, 'paga/transitions_confidence', precision=2).T\n",
    "tconf.index=cnames\n",
    "tconf.columns=cnames\n",
    "tconf.to_csv(figdir+'/Transitionstable_'+velosubset+'-'+mysubset+'_'+subcat+'_leiden_tfdata.tsv',sep='\\t')\n",
    "tconf.style.background_gradient(cmap='Blues').format('{:.2g}')\n"
   ]
  },
  {
   "cell_type": "code",
   "execution_count": null,
   "metadata": {},
   "outputs": [],
   "source": [
    "scv.tl.paga(nrdata, groups='leiden', root_key='initial_states_probs', end_key='terminal_states_probs', \n",
    "            use_time_prior='velocity_pseudotime')\n",
    "\n",
    "cr.pl.cluster_fates(nrdata, mode=\"paga_pie\", cluster_key=\"leiden\", basis='umap',\n",
    "                    legend_kwargs={'loc': 'top right out'}, legend_loc='top left out',\n",
    "                    node_size_scale=1, edge_width_scale=1, max_edge_width=4, title='directed PAGA')\n"
   ]
  },
  {
   "cell_type": "code",
   "execution_count": null,
   "metadata": {},
   "outputs": [],
   "source": [
    "cnames=['0','1','3','5','6','7','8','9','10','11','13','15','16']\n",
    "tconf=scv.get_df(nrdata, 'paga/transitions_confidence', precision=2).T\n",
    "tconf.index=cnames\n",
    "tconf.columns=cnames\n",
    "tconf.to_csv(figdir+'/Transitionstable_'+velosubset+'-'+mysubset+'_'+subcat+'_leiden_nrdata.tsv',sep='\\t')\n",
    "tconf.style.background_gradient(cmap='Blues').format('{:.2g}')\n"
   ]
  },
  {
   "cell_type": "code",
   "execution_count": null,
   "metadata": {},
   "outputs": [],
   "source": [
    "scv.tl.paga(nrnadjdata, groups='leiden', root_key='initial_states_probs', end_key='terminal_states_probs', \n",
    "            use_time_prior='velocity_pseudotime')\n",
    "\n",
    "cr.pl.cluster_fates(nrnadjdata, mode=\"paga_pie\", cluster_key=\"leiden\", basis='umap',\n",
    "                    legend_kwargs={'loc': 'top right out'}, legend_loc='top left out',\n",
    "                    node_size_scale=1, edge_width_scale=1, max_edge_width=4, title='directed PAGA')\n"
   ]
  },
  {
   "cell_type": "code",
   "execution_count": null,
   "metadata": {},
   "outputs": [],
   "source": [
    "cnames=['0','1','3','5','6','7','8','9','10','11','13','15','16']\n",
    "tconf=scv.get_df(nrnadjdata, 'paga/transitions_confidence', precision=2).T\n",
    "tconf.index=cnames\n",
    "tconf.columns=cnames\n",
    "tconf.to_csv(figdir+'/Transitionstable_'+velosubset+'-'+mysubset+'_'+subcat+'_leiden_nrnadjdata.tsv',sep='\\t')\n",
    "tconf.style.background_gradient(cmap='Blues').format('{:.2g}')\n"
   ]
  },
  {
   "cell_type": "markdown",
   "metadata": {},
   "source": [
    "#### Expore values per individual patient as well "
   ]
  },
  {
   "cell_type": "code",
   "execution_count": null,
   "metadata": {},
   "outputs": [],
   "source": [
    "cnames=['0','1','3','5','6','7','8','9','10','11','13','15','16']"
   ]
  },
  {
   "cell_type": "code",
   "execution_count": null,
   "metadata": {},
   "outputs": [],
   "source": [
    "Resp=[tdata[tdata.obs['PatientID']==x.split('-')[0]].obs['RCat'][0] for x in list(set(tdata.obs['PatientID']))]"
   ]
  },
  {
   "cell_type": "code",
   "execution_count": null,
   "metadata": {},
   "outputs": [],
   "source": [
    "pattrans={}\n",
    "for i in list(set(tdata.obs['PatientID'])):\n",
    "    sub=tdata[tdata.obs['PatientID']==i].copy()\n",
    "    scv.tl.paga(sub, groups='leiden', root_key='initial_states_probs', end_key='terminal_states_probs', \n",
    "            use_time_prior='velocity_pseudotime')\n",
    "    tmp=scv.get_df(sub, 'paga/transitions_confidence', precision=2).T\n",
    "    sc.pl.umap(sub,color='leiden')\n",
    "    tmp.index=list(sub.obs['leiden'].cat.categories)\n",
    "    tmp.columns=list(sub.obs['leiden'].cat.categories)\n",
    "    pattrans[i]=pd.DataFrame(0,index=cnames,columns=cnames).add(tmp, fill_value=0)"
   ]
  },
  {
   "cell_type": "code",
   "execution_count": null,
   "metadata": {},
   "outputs": [],
   "source": [
    "### Version only with Mature data\n",
    "pattrans={}\n",
    "for i in list(set(tdata_mature.obs['PatientID'])):\n",
    "    sub=tdata_mature[tdata_mature.obs['PatientID']==i].copy()\n",
    "    scv.tl.paga(sub, groups='leiden', root_key='initial_states_probs', end_key='terminal_states_probs', \n",
    "            use_time_prior='velocity_pseudotime')\n",
    "    tmp=scv.get_df(sub, 'paga/transitions_confidence', precision=2).T\n",
    "    sc.pl.umap(sub,color='leiden')\n",
    "    tmp.index=list(sub.obs['leiden'].cat.categories)\n",
    "    tmp.columns=list(sub.obs['leiden'].cat.categories)\n",
    "    pattrans[i]=pd.DataFrame(0,index=cnames,columns=cnames).add(tmp, fill_value=0)"
   ]
  },
  {
   "cell_type": "code",
   "execution_count": null,
   "metadata": {},
   "outputs": [],
   "source": [
    "pattrans.keys()"
   ]
  },
  {
   "cell_type": "code",
   "execution_count": null,
   "metadata": {},
   "outputs": [],
   "source": [
    "for i in pattrans.keys():\n",
    "    print(i)\n",
    "    toplot=pattrans[i].loc[pattrans[i].mean()>0,:].copy()\n",
    "    toplot=toplot.loc[:,toplot.mean()>0].copy()\n",
    "    plt.figure()\n",
    "    a=sns.heatmap(toplot, annot=True, linewidths=.5, annot_kws={\"size\":10})\n",
    "    fig = a.get_figure()\n",
    "    fig.savefig(figdir+'Transitions-perPatient-Heatmap-'+velosubset+'.PatientNr-'+i+'.PBMCandTIL.tdata.pdf')"
   ]
  },
  {
   "cell_type": "code",
   "execution_count": null,
   "metadata": {},
   "outputs": [],
   "source": [
    "Rs=pd.DataFrame(Resp).copy()\n",
    "Rs.index=list(set(tdata.obs['PatientID']))"
   ]
  },
  {
   "cell_type": "code",
   "execution_count": null,
   "metadata": {},
   "outputs": [],
   "source": [
    "toC8={}\n",
    "for k in pattrans.keys():\n",
    "    toC8[k]=pattrans[k].loc[:,'8']\n",
    "toC8=pd.melt(pd.DataFrame(toC8).reset_index(), id_vars='index')\n",
    "toC8.columns=['leiden','Patient','Transition']\n",
    "toC8['RCat']=list(Rs.loc[list(toC8.Patient),:].iloc[:,0])"
   ]
  },
  {
   "cell_type": "code",
   "execution_count": null,
   "metadata": {},
   "outputs": [],
   "source": [
    "subplot=toC6.copy()\n",
    "cchoice=['13']\n",
    "outtxt='13to6'\n",
    "a=sns.boxplot(data=subplot.loc[subplot.leiden.isin(cchoice),:],x='RCat',y='Transition',\n",
    "            order=['R','TF','NR_nadj','NR_adj'],palette=color_dict)\n",
    "a=sns.swarmplot(data=subplot.loc[subplot.leiden.isin(cchoice),:],x='RCat',y='Transition',\n",
    "              color=\".25\",order=['R','TF','NR_nadj','NR_adj'])\n",
    "fig = a.get_figure()\n",
    "#fig.savefig(figdir+'Transitions-perPatient-'+velosubset+'.8and9to11.PBMCandTIL.tdata.pdf')\n",
    "fig.savefig(figdir+'Transitions-perPatient-'+velosubset+'.'+outtxt+'.PBMCandTIL.tdata.pdf')\n"
   ]
  },
  {
   "cell_type": "code",
   "execution_count": null,
   "metadata": {},
   "outputs": [],
   "source": [
    "mtoC11=toC11.loc[toC11.leiden.isin(['8','9']),:].groupby('RCat')['Transition'].mean()\n",
    "mtoC6=toC6.loc[toC6.leiden.isin(['0']),:].groupby('RCat')['Transition'].mean()\n",
    "mtoC0=toC0.loc[toC0.leiden.isin(['8','9']),:].groupby('RCat')['Transition'].mean()\n",
    "mtoC5=toC5.loc[toC5.leiden.isin(['11','9']),:].groupby('RCat')['Transition'].mean()"
   ]
  },
  {
   "cell_type": "code",
   "execution_count": null,
   "metadata": {},
   "outputs": [],
   "source": [
    "trans=pd.DataFrame([mtoC11,mtoC5,mtoC6,mtoC0])\n",
    "trans.index=['toC11','toC5','toC6','toC0']"
   ]
  },
  {
   "cell_type": "code",
   "execution_count": null,
   "metadata": {},
   "outputs": [],
   "source": [
    "a=sns.heatmap(trans, annot=True, linewidths=.5, annot_kws={\"size\":10})\n",
    "fig = a.get_figure()\n",
    "#fig.savefig(figdir+'Transitions-MeanperPatient-'+velosubset+'.4paths.PBMCandTIL.tdata.pdf')\n",
    "fig.savefig(figdir+'Transitions-MeanperPatient-'+velosubset+'.4paths.TILonly.tdata.pdf')\n"
   ]
  },
  {
   "cell_type": "markdown",
   "metadata": {},
   "source": [
    "### Check differences between cell nrs. per Response Category"
   ]
  },
  {
   "cell_type": "code",
   "execution_count": null,
   "metadata": {},
   "outputs": [],
   "source": [
    "from scipy import stats\n",
    "import itertools\n",
    "\n",
    "\n",
    "def getPs(cellFreqs,myconditions,name1):\n",
    "    totest=list(itertools.combinations(myconditions, 2))\n",
    "    pwilc={}\n",
    "    pt={}\n",
    "    for pairs in totest:\n",
    "        pwilc[pairs[0]+'-'+pairs[1]]=stats.mannwhitneyu(list(cellFreqs.loc[cellFreqs[name1]==pairs[0],:].iloc[:,1]), \n",
    "                           list(cellFreqs.loc[cellFreqs[name1]==pairs[1],:].iloc[:,1]))[1]\n",
    "        pt[pairs[0]+'-'+pairs[1]]=stats.ttest_ind(list(cellFreqs.loc[cellFreqs[name1]==pairs[0],:].iloc[:,1]), \n",
    "                           list(cellFreqs.loc[cellFreqs[name1]==pairs[1],:].iloc[:,1]))[1]\n",
    "\n",
    "    myps=pd.DataFrame([pwilc,pt]).transpose()\n",
    "    myps.columns=['MannWhitney','T-test']\n",
    "    return(myps)\n"
   ]
  },
  {
   "cell_type": "code",
   "execution_count": null,
   "metadata": {},
   "outputs": [],
   "source": [
    "#sc.pl.umap(adata,color='leiden')\n",
    "tildata=adata[adata.obs['Sample type']=='TIL'].copy()"
   ]
  },
  {
   "cell_type": "code",
   "execution_count": null,
   "metadata": {},
   "outputs": [],
   "source": [
    "tildata.obs['gleiden']=list(tildata.obs['leiden'])"
   ]
  },
  {
   "cell_type": "code",
   "execution_count": null,
   "metadata": {},
   "outputs": [],
   "source": [
    "newc=tildata.obs['gleiden'].copy()\n",
    "newc=newc.replace('4', '5').copy()\n",
    "newc=newc.replace('2', '5').copy()\n",
    "newc=newc.replace('1', '3').copy()\n",
    "newc=newc.replace('14', '13').copy()\n",
    "newc=newc.replace('12', '13').copy()\n",
    "newc=newc.replace('15', '13').copy()"
   ]
  },
  {
   "cell_type": "code",
   "execution_count": null,
   "metadata": {},
   "outputs": [],
   "source": [
    "tildata.obs['gleiden']=list(newc)"
   ]
  },
  {
   "cell_type": "code",
   "execution_count": null,
   "metadata": {},
   "outputs": [],
   "source": [
    "sc.pl.umap(tildata,color='gleiden', legend_loc='on data')"
   ]
  },
  {
   "cell_type": "code",
   "execution_count": null,
   "metadata": {},
   "outputs": [],
   "source": [
    "sc.pl.umap(tildata,color='leiden', legend_loc='on data')"
   ]
  },
  {
   "cell_type": "code",
   "execution_count": null,
   "metadata": {},
   "outputs": [],
   "source": [
    "propdir=figdir+'/frequencies/'\n",
    "\n",
    "#mysubs=['celltype4_pub','celltype3_pub','celltype2_pub', 'celltype1']\n",
    "#mysubs=['leiden','gleiden']\n",
    "mysubs=['gleiden']\n",
    "#mysubs=['celltype3_pub']\n",
    "for what in mysubs:    \n",
    "    df1=bc.tl.count_occurrence_subset_conditions(tildata, subset_variable = 'PatientID', count_variable = what, condition_identifier = 'RCat',  return_percentage = True)\n",
    "    df1.to_csv(propdir+velosubset+'TILtdata_celltypeFreq_'+what+'.tsv')\n",
    "    df2=bc.tl.count_occurrence_subset_conditions(tildata, subset_variable = 'PatientID', count_variable = what, condition_identifier = 'RCat',  return_percentage = False)\n",
    "    df2.to_csv(propdir+velosubset+'TILtdata_celltypeNrs_'+what+'.tsv')\n",
    "    \n"
   ]
  },
  {
   "cell_type": "code",
   "execution_count": null,
   "metadata": {},
   "outputs": [],
   "source": [
    "what='gleiden'\n",
    "tilfreq=pd.read_csv(propdir+velosubset+'TILtdata_celltypeFreq_'+what+'.tsv')\n",
    "\n",
    "tilfreq.index=tilfreq.iloc[:,0]\n",
    "\n",
    "\n",
    "rs=[x.split(' ')[2] for x in list(tilfreq.drop(columns=['Unnamed: 0']).columns)]\n",
    "patid=[x.split(' ')[1] for x in list(tilfreq.drop(columns=['Unnamed: 0']).columns)]\n",
    "\n",
    "toplot=tilfreq.drop(columns=['Unnamed: 0']).transpose()\n",
    "toplot['RCat']=rs\n",
    "\n",
    "\n",
    "\n",
    "fig, axes = plt.subplots(3, 6,figsize=(16,12), gridspec_kw={'wspace': 0.5, 'left': 0.25})\n",
    "plt.subplots_adjust(left=0.2, right=0.98, top=0.86, bottom=0.1)\n",
    "\n",
    "axes = axes.flatten()\n",
    "pvalsn={}\n",
    "pvals={}\n",
    "i=0\n",
    "for mycell in list(tilfreq.index):\n",
    "    ax=sns.boxplot(y=mycell,x='RCat',data=toplot,ax=axes[i],\n",
    "                   palette=color_dict,orient='v',order=['R','TF','NR_nadj','NR_adj'])\n",
    "    ax=sns.swarmplot(y=mycell,x='RCat',data=toplot,color='black',ax=axes[i]\n",
    "                    ,order=['R','TF','NR_nadj','NR_adj'])\n",
    "    ax.set_xticklabels(ax.get_xticklabels(), rotation=90,fontsize=10)\n",
    "    ax.tick_params(axis='y', labelsize=10)\n",
    "    ax.set_ylabel(ylabel='Perc '+str(mycell),fontsize=10)\n",
    "    ax.set_xlabel(xlabel='Response ',fontsize=10)\n",
    "    prov=toplot.loc[:,['RCat',mycell]].groupby('RCat')[mycell].mean()\n",
    "    if len(prov[prov==0])<2:\n",
    "        pvalsn[mycell]=getPs(toplot.loc[:,['RCat',mycell]],['R','TF','NR_nadj','NR_adj'],'RCat').loc['R-NR_nadj',:]\n",
    "        pvals[mycell]=getPs(toplot.loc[:,['RCat',mycell]],['R','TF','NR_nadj','NR_adj'],'RCat').loc['TF-NR_adj',:]\n",
    "\n",
    "    i=i+1\n"
   ]
  },
  {
   "cell_type": "code",
   "execution_count": null,
   "metadata": {},
   "outputs": [],
   "source": [
    "fig.savefig(figdir+'Celltypefreq-Response-mature-'+what+velosubset+'.TILonly.pdf')"
   ]
  },
  {
   "cell_type": "code",
   "execution_count": null,
   "metadata": {},
   "outputs": [],
   "source": [
    "pd.DataFrame.from_dict(pvalsn, orient='index').sort_values(by='MannWhitney')"
   ]
  },
  {
   "cell_type": "code",
   "execution_count": null,
   "metadata": {},
   "outputs": [],
   "source": [
    "pd.DataFrame.from_dict(pvals, orient='index').sort_values(by='MannWhitney')"
   ]
  },
  {
   "cell_type": "code",
   "execution_count": null,
   "metadata": {},
   "outputs": [],
   "source": [
    "pd.DataFrame.from_dict(pvals, orient='index').to_csv(figdir+'Pval-CellTypeFreq-TIL-'+velosubset+what+'-per-Response-adj.tsv',sep='\\t')\n",
    "\n",
    "pd.DataFrame.from_dict(pvalsn, orient='index').to_csv(figdir+'Pval-CellTypeFreq-TIL-'+velosubset+what+'-per-Response-nadj.tsv',sep='\\t')\n"
   ]
  },
  {
   "cell_type": "code",
   "execution_count": null,
   "metadata": {},
   "outputs": [],
   "source": [
    "DEgenesS=bc.tl.dge.get_de(tildata[tildata.obs['leiden'].isin(['0','5'])],'gleiden',demethod='wilcoxon',topnr=5000, logfc=1,padj=0.05)\n"
   ]
  },
  {
   "cell_type": "code",
   "execution_count": null,
   "metadata": {},
   "outputs": [],
   "source": [
    "### Select only top genes (in order of p-val) for 2 clusters and plot expression per cluster\n",
    "tops=list(DEgenesS['5'][0:50].sort_values('Log2FC',ascending=False)['Name'])\n",
    "sc.pl.dotplot(tdata, var_names=tops,groupby='leiden', dendrogram=True)\n"
   ]
  },
  {
   "cell_type": "code",
   "execution_count": null,
   "metadata": {},
   "outputs": [],
   "source": [
    "tops=list(DEgenesS['0'][0:50].sort_values('Log2FC',ascending=False)['Name'])\n",
    "sc.pl.dotplot(tdata, var_names=tops,groupby='leiden', dendrogram=True)\n"
   ]
  },
  {
   "cell_type": "code",
   "execution_count": null,
   "metadata": {},
   "outputs": [],
   "source": [
    "nr33=tdata[tdata.obs['PatientID']=='33'].copy()\n",
    "scv.tl.paga(nr33, groups='leiden', root_key='initial_states_probs', end_key='terminal_states_probs', \n",
    "            use_time_prior='velocity_pseudotime')\n",
    "\n",
    "cr.pl.cluster_fates(nr33, mode=\"paga_pie\", cluster_key=\"leiden\", basis='umap',\n",
    "                    legend_kwargs={'loc': 'top right out'}, legend_loc='top left out',\n",
    "                    node_size_scale=1, edge_width_scale=1, max_edge_width=4, title='directed PAGA')\n"
   ]
  },
  {
   "cell_type": "markdown",
   "metadata": {},
   "source": [
    "### Lineage drivers "
   ]
  },
  {
   "cell_type": "markdown",
   "metadata": {},
   "source": [
    "#### Obtain velo driver genes for specific subsets of the data"
   ]
  },
  {
   "cell_type": "code",
   "execution_count": null,
   "metadata": {},
   "outputs": [],
   "source": [
    "subp=rbdata[rbdata.obs['leiden'].isin(['8','11','5'])].copy()\n",
    "#subp=nrbdata[nrbdata.obs['leiden'].isin(['8','0','6'])].copy()\n",
    "#subp=nrbdata[nrbdata.obs['leiden'].isin(['15','13','0'])].copy()\n",
    "#subp=rbdata[rbdata.obs['leiden'].isin(['9','0','6'])].copy()\n",
    "#subp=nrbdata[nrbdata.obs['leiden'].isin(['9','11','5'])].copy()\n",
    "#subp=rbdata[rbdata.obs['leiden'].isin(['8','13','0','6'])].copy()\n",
    "#subp=nrbdata[nrbdata.obs['leiden'].isin(['8','13','0','11','5'])].copy()\n",
    "#subp=tdata[tdata.obs['leiden'].isin(['0','6'])].copy()\n",
    "#subp=tdata[tdata.obs['leiden'].isin(['15','13','0'])].copy()\n",
    "\n",
    "scv.tl.paga(subp, groups='leiden', root_key='initial_states_probs', end_key='terminal_states_probs', \n",
    "            use_time_prior='velocity_pseudotime')\n"
   ]
  },
  {
   "cell_type": "code",
   "execution_count": null,
   "metadata": {},
   "outputs": [],
   "source": [
    "sc.set_figure_params(10)\n",
    "import matplotlib.pyplot as plt\n",
    "plt.rcParams[\"figure.figsize\"] = (5,5)\n"
   ]
  },
  {
   "cell_type": "code",
   "execution_count": null,
   "metadata": {},
   "outputs": [],
   "source": [
    "\n",
    "cr.pl.cluster_fates(subp, mode=\"paga_pie\", cluster_key=\"leiden\", basis='umap',\n",
    "                    legend_kwargs={'loc': 'top right out'}, legend_loc='top left out',\n",
    "                    node_size_scale=1, edge_width_scale=1, max_edge_width=4, title='directed PAGA')\n"
   ]
  },
  {
   "cell_type": "code",
   "execution_count": null,
   "metadata": {},
   "outputs": [],
   "source": [
    "cr.tl.lineage_drivers(subp)"
   ]
  },
  {
   "cell_type": "code",
   "execution_count": null,
   "metadata": {},
   "outputs": [],
   "source": [
    "lin_drivers_sub=subp.raw.var['to 5']"
   ]
  },
  {
   "cell_type": "code",
   "execution_count": null,
   "metadata": {},
   "outputs": [],
   "source": [
    "lin_drivers_sub[np.abs(lin_drivers_sub)>0.05].sort_values(ascending=False)[0:20]"
   ]
  },
  {
   "cell_type": "code",
   "execution_count": null,
   "metadata": {},
   "outputs": [],
   "source": [
    "lin_drivers_sub[np.abs(lin_drivers_sub)>0.05].sort_values(ascending=True)[0:20]"
   ]
  },
  {
   "cell_type": "code",
   "execution_count": null,
   "metadata": {
    "scrolled": true
   },
   "outputs": [],
   "source": [
    "#lin_drivers_sub[np.abs(lin_drivers_sub)>0.1]"
   ]
  },
  {
   "cell_type": "code",
   "execution_count": null,
   "metadata": {},
   "outputs": [],
   "source": [
    "#lin_drivers_sub[np.abs(lin_drivers_sub)>0.1].sort_values(ascending=False).to_csv(figdir+'/Lingenes_'+velosubset+'-'+mysubset+'_'+subcat+'_tdata_leiden_0to6.tsv',sep='\\t')\n",
    "#lin_drivers_sub[np.abs(lin_drivers_sub)>0.1].sort_values(ascending=False).to_csv(figdir+'/Lingenes_'+velosubset+'-'+mysubset+'_'+subcat+'_nrbdata_leiden_8to0and6.tsv',sep='\\t')\n",
    "lin_drivers_sub[np.abs(lin_drivers_sub)>0.1].sort_values(ascending=False).to_csv(figdir+'/Lingenes_'+velosubset+'-'+mysubset+'_'+subcat+'_rbdata_leiden_8to11and5.tsv',sep='\\t')"
   ]
  },
  {
   "cell_type": "code",
   "execution_count": null,
   "metadata": {},
   "outputs": [],
   "source": [
    "#lindnr=pd.read_csv(figdir+'/Lingenes_'+velosubset+'-'+mysubset+'_'+subcat+'_nrbdata_leiden_9to5inNRs.tsv',sep='\\t')\n",
    "#lindnr=pd.read_csv(figdir+'/Lingenes_'+velosubset+'-'+mysubset+'_'+subcat+'_leiden_15to11inNRs.tsv',sep='\\t')\n",
    "#lindr=pd.read_csv(figdir+'/Lingenes_'+velosubset+'-'+mysubset+'_'+subcat+'_leiden_15to11inRTFs.tsv',sep='\\t')\n",
    "lindr=pd.read_csv(figdir+'/Lingenes_'+velosubset+'-'+mysubset+'_'+subcat+'_rdata_leiden_0to6inRTFs.tsv',sep='\\t')\n"
   ]
  },
  {
   "cell_type": "code",
   "execution_count": null,
   "metadata": {},
   "outputs": [],
   "source": [
    "cdata=subp[subp.obs['Sample type']=='TIL'].copy()\n",
    "#=bc.tl.dge.get_de(subdataa,'RCat',demethod='wilcoxon',topnr=5000, logfc=np.log(1.5),padj=0.1)\n",
    "### try on individual tissues separately\n",
    "b1DE=bc.tl.dge.get_de(cdata[cdata.obs['Lesion'].isin(['LN'])].copy(),'Respond',topnr=5000, logfc=np.log(1.5),padj=0.1)\n",
    "b2DE=bc.tl.dge.get_de(cdata[cdata.obs['Lesion'].isin(['Brain'])].copy(),'Respond',topnr=5000, logfc=np.log(1.5),padj=0.1)\n",
    "b3DE=bc.tl.dge.get_de(cdata[cdata.obs['Lesion'].isin(['Lung','Sinon','Subc'])].copy(),'Respond',topnr=5000, logfc=np.log(1.5),padj=0.1)\n",
    "\n",
    "allDE1=bc.tl.dge.get_de(cdata[cdata.obs['Response3'].isin(['R','NR'])],'Respond',topnr=5000, logfc=np.log(1.5),padj=0.1)\n",
    "allDE2=bc.tl.dge.get_de(cdata[cdata.obs['Response3'].isin(['TF','PD'])],'Respond',topnr=5000, logfc=np.log(1.5),padj=0.1)\n",
    "allDE=bc.tl.dge.get_de(cdata,'Respond',topnr=5000, logfc=np.log(1.5),padj=0.1)\n",
    "\n",
    "#=bc.tl.dge.get_de(subdataa,'RCat',demethod='wilcoxon',topnr=5000, logfc=np.log(1.5),padj=0.1)\n",
    "### try on individual tissues separately\n",
    "b1DE=bc.tl.dge.get_de(cdata[cdata.obs['Lesion'].isin(['LN'])].copy(),'Respond',topnr=5000, logfc=np.log(1.5),padj=0.1)\n",
    "b2DE=bc.tl.dge.get_de(cdata[cdata.obs['Lesion'].isin(['Brain'])].copy(),'Respond',topnr=5000, logfc=np.log(1.5),padj=0.1)\n",
    "b3DE=bc.tl.dge.get_de(cdata[cdata.obs['Lesion'].isin(['Lung','Sinon','Subc'])].copy(),'Respond',topnr=5000, logfc=np.log(1.5),padj=0.1)\n",
    "\n",
    "allDE1=bc.tl.dge.get_de(cdata[cdata.obs['Response3'].isin(['R','NR'])],'Respond',topnr=5000, logfc=np.log(1.5),padj=0.1)\n",
    "allDE2=bc.tl.dge.get_de(cdata[cdata.obs['Response3'].isin(['TF','PD'])],'Respond',topnr=5000, logfc=np.log(1.5),padj=0.1)\n",
    "allDE=bc.tl.dge.get_de(cdata,'Respond',topnr=5000, logfc=np.log(1.5),padj=0.1)\n"
   ]
  },
  {
   "cell_type": "code",
   "execution_count": null,
   "metadata": {},
   "outputs": [],
   "source": [
    "### Intersection of all combinations\n",
    "strDE=set(b1DE['PD']['Name']).intersection(set(allDE['PD']['Name'])).intersection((set(b2DE['PD']['Name'])).intersection(set(b3DE['PD']['Name']))).intersection((set(allDE1['PD']['Name'])).intersection(set(allDE2['PD']['Name'])))\n",
    "strDE2=set(b1DE['R']['Name']).intersection(set(allDE['R']['Name'])).intersection((set(b2DE['R']['Name'])).intersection(set(b3DE['R']['Name']))).intersection((set(allDE1['R']['Name'])).intersection(set(allDE2['R']['Name'])))\n",
    "\n",
    "strDE"
   ]
  },
  {
   "cell_type": "code",
   "execution_count": null,
   "metadata": {},
   "outputs": [],
   "source": [
    "strDE2"
   ]
  },
  {
   "cell_type": "code",
   "execution_count": null,
   "metadata": {},
   "outputs": [],
   "source": [
    "strDE.intersection(set(lindnr.iloc[:,0]))"
   ]
  },
  {
   "cell_type": "code",
   "execution_count": null,
   "metadata": {},
   "outputs": [],
   "source": [
    "strDE2.intersection(set(lindr.iloc[:,0]))"
   ]
  },
  {
   "cell_type": "code",
   "execution_count": null,
   "metadata": {},
   "outputs": [],
   "source": [
    "### Complete comparison + LN only + Brain | Others + RvsNR | PDvsTF\n",
    "strDE=set(b1DE['PD']['Name']).intersection(set(allDE['PD']['Name'])).intersection((set(b2DE['PD']['Name'])).union(set(b3DE['PD']['Name']))).intersection((set(allDE1['PD']['Name'])).union(set(allDE2['PD']['Name'])))\n",
    "strDE2=set(b1DE['R']['Name']).intersection(set(allDE['R']['Name'])).intersection((set(b2DE['R']['Name'])).union(set(b3DE['R']['Name']))).intersection((set(allDE1['R']['Name'])).union(set(allDE2['R']['Name'])))\n",
    "\n",
    "#strDE\n"
   ]
  },
  {
   "cell_type": "code",
   "execution_count": null,
   "metadata": {},
   "outputs": [],
   "source": [
    "len(strDE.intersection(set(lindnr.iloc[:,0])))"
   ]
  },
  {
   "cell_type": "code",
   "execution_count": null,
   "metadata": {},
   "outputs": [],
   "source": [
    "strDE2"
   ]
  },
  {
   "cell_type": "code",
   "execution_count": null,
   "metadata": {},
   "outputs": [],
   "source": [
    "strDE2.intersection(set(lindr.iloc[:,0]))"
   ]
  },
  {
   "cell_type": "code",
   "execution_count": null,
   "metadata": {},
   "outputs": [],
   "source": [
    "set(lindr.iloc[:,0])"
   ]
  },
  {
   "cell_type": "code",
   "execution_count": null,
   "metadata": {},
   "outputs": [],
   "source": [
    "strDE.intersection(set(lindr.iloc[:,0]))"
   ]
  },
  {
   "cell_type": "code",
   "execution_count": null,
   "metadata": {},
   "outputs": [],
   "source": [
    "set(lindr.iloc[:,0])"
   ]
  },
  {
   "cell_type": "code",
   "execution_count": null,
   "metadata": {},
   "outputs": [],
   "source": [
    "strDE.intersection(set(lindr.iloc[:,0]))\n"
   ]
  },
  {
   "cell_type": "code",
   "execution_count": null,
   "metadata": {},
   "outputs": [],
   "source": [
    "strDE2\n",
    "set()\n"
   ]
  },
  {
   "cell_type": "code",
   "execution_count": null,
   "metadata": {},
   "outputs": [],
   "source": [
    "sc.set_figure_params()"
   ]
  },
  {
   "cell_type": "code",
   "execution_count": null,
   "metadata": {},
   "outputs": [],
   "source": [
    "#scv.pl.scatter(tdata, ['CCL3L3'], color=['leiden', 'velocity'])"
   ]
  },
  {
   "cell_type": "code",
   "execution_count": null,
   "metadata": {},
   "outputs": [],
   "source": [
    "scv.pl.velocity(tdata, ['CXCR6', 'SNAP47','TIGIT','FAM3C','APOBEC3G','FCRL6'], ncols=2, add_outline=True)"
   ]
  },
  {
   "cell_type": "code",
   "execution_count": null,
   "metadata": {},
   "outputs": [],
   "source": [
    "scv.pl.velocity(tdata_mature, ['ATF3','CCR7','SELL','CXCR6','STMN1','SNAP47'], ncols=2, add_outline=True,color='leiden')"
   ]
  },
  {
   "cell_type": "code",
   "execution_count": null,
   "metadata": {},
   "outputs": [],
   "source": [
    "#rlin9to06=set(tdata.var.loc[tdata.var['velocity_genes']==True,:].index).intersection(set(lin_drivers_sub[np.abs(lin_drivers_sub)>0.05].index))\n",
    "#rlin8to06=set(tdata.var.loc[tdata.var['velocity_genes']==True,:].index).intersection(set(lin_drivers_sub[np.abs(lin_drivers_sub)>0.05].index))\n",
    "#nrlin9to115=set(tdata.var.loc[tdata.var['velocity_genes']==True,:].index).intersection(set(lin_drivers_sub[np.abs(lin_drivers_sub)>0.05].index))\n",
    "#nrlin13to11=set(tdata.var.loc[tdata.var['velocity_genes']==True,:].index).intersection(set(lin_drivers_sub[np.abs(lin_drivers_sub)>0.05].index))"
   ]
  },
  {
   "cell_type": "code",
   "execution_count": null,
   "metadata": {},
   "outputs": [],
   "source": [
    "lindnr=pd.read_csv(figdir+'/Lingenes_'+velosubset+'-'+mysubset+'_'+subcat+'_nrbdata_leiden_9to5inNRs.tsv',sep='\\t')\n",
    "lindr=pd.read_csv(figdir+'/Lingenes_'+velosubset+'-'+mysubset+'_'+subcat+'_rdata_leiden_0to6inRTFs.tsv',sep='\\t')\n"
   ]
  },
  {
   "cell_type": "code",
   "execution_count": null,
   "metadata": {},
   "outputs": [],
   "source": [
    "ddata=subp[subp.obs['Sample type'].isin(['TIL'])].copy()\n",
    "\n",
    "\n",
    "ddata.obs['R_clus']=ddata.obs['RCat'].astype(str)+'-'+[x.replace(\"-\", \"_\") for x in ddata.obs['leiden'].astype(str)]\n",
    "ddata.obs['Pat_clus']=ddata.obs['PatientID'].astype(str)+'-'+[x.replace(\"-\", \"_\") for x in ddata.obs['leiden'].astype(str)]\n",
    "dfPat = ddata.obs.groupby('Pat_clus')['velocity_length', 'velocity_confidence','latent_time'].mean().T\n",
    "\n",
    "#dfPat.to_csv(figdir+'Velocity-per_patient'+velosubset+'-'+mysubset+'-'+subcat+'.tsv',sep='\\t')\n",
    "\n",
    "Resp=[ddata[ddata.obs['PatientID']==x.split('-')[0]].obs['RCat'][0] for x in list(dfPat.columns)]\n",
    "PatientID=[x.split('-')[0]  for x in list(dfPat.columns)]\n",
    "ClusterID=[x.split('-')[1]  for x in list(dfPat.columns)]\n",
    "\n",
    "mydf=pd.DataFrame([list(dfPat.loc['velocity_length',:]),Resp,PatientID,ClusterID]).transpose()\n",
    "mydf.index=dfPat.columns\n",
    "mydf.columns=['velocity_length','Response','PatientID','Cluster']\n",
    "\n",
    "mydfl=pd.DataFrame([list(dfPat.loc['latent_time',:]),Resp,PatientID,ClusterID]).transpose()\n",
    "mydfl.index=dfPat.columns\n",
    "mydfl.columns=['latent_time','Response','PatientID','Cluster']\n",
    "\n",
    "mydf.groupby('PatientID', as_index=False)['velocity_length']\n",
    "mydfl.groupby('PatientID', as_index=False)['latent_time']\n",
    "\n",
    "mydf['velocity_length']=mydf['velocity_length'].astype('float')\n",
    "mydfl['latent_time']=mydfl['latent_time'].astype('float')\n",
    "\n",
    "color_dict = {'R': 'coral', 'TF': 'firebrick', 'NR_nadj': 'lightskyblue','NR_adj': 'royalblue'}"
   ]
  },
  {
   "cell_type": "code",
   "execution_count": null,
   "metadata": {},
   "outputs": [],
   "source": [
    "#corder=['8','6','1','21']\n",
    "\n",
    "#velMean=mydf.groupby('PatientID')['velocity_length'].mean()\n",
    "velMean=mydfl.groupby('PatientID')['latent_time'].mean()\n",
    "patid=[ddata[ddata.obs['PatientID']==x.split('-')[0]].obs['RCat'][0]  for x in list(velMean.index)]\n",
    "totest=pd.DataFrame([list(velMean),patid]).transpose()\n",
    "totest.columns=['Val','Cat']\n",
    "\n",
    "ss.mannwhitneyu(list(totest.loc[totest['Cat']=='R',:]['Val']),list(totest.loc[totest['Cat']=='NR_nadj',:]['Val']))\n"
   ]
  },
  {
   "cell_type": "code",
   "execution_count": null,
   "metadata": {},
   "outputs": [],
   "source": [
    "ss.mannwhitneyu(list(totest.loc[totest['Cat']=='TF',:]['Val']),list(totest.loc[totest['Cat']=='NR_adj',:]['Val']))\n",
    "\n"
   ]
  },
  {
   "cell_type": "code",
   "execution_count": null,
   "metadata": {},
   "outputs": [],
   "source": [
    "#totest"
   ]
  },
  {
   "cell_type": "code",
   "execution_count": null,
   "metadata": {},
   "outputs": [],
   "source": [
    "#set(mydf['Response'])\n",
    "### Velocity length\n",
    "totestk=totest.copy()\n",
    "\n",
    "fig=sns.boxplot(y='Val',x='Cat',data=totestk,palette=color_dict,order=['R','TF','NR_nadj','NR_adj'])\n",
    "fig=sns.swarmplot(x='Cat',y='Val',data=totestk,color='black',order=['R','TF','NR_nadj','NR_adj'])\n",
    "#fig.figure.savefig(figdir+'Velocitylen-'+velosubset+'-'+mysubset+'-'+subcat+'-per-response.subsettrajectorymap.pdf') \n"
   ]
  },
  {
   "cell_type": "code",
   "execution_count": null,
   "metadata": {},
   "outputs": [],
   "source": [
    "\n",
    "\n",
    "totest=list(itertools.combinations(['R','TF','NR_nadj','NR_adj'], 2))\n",
    "pwilc={}\n",
    "pt={}\n",
    "for pairs in totest:\n",
    "    pwilc[pairs[0]+'-'+pairs[1]]=stats.mannwhitneyu(list(totestk.loc[totestk['Cat']==pairs[0],:]['Val']), \n",
    "                           list(totestk.loc[totestk['Cat']==pairs[1],:]['Val']))[1]\n",
    "    pt[pairs[0]+'-'+pairs[1]]=stats.ttest_ind(list(totestk.loc[totestk['Cat']==pairs[0],:]['Val']), \n",
    "                           list(totestk.loc[totestk['Cat']==pairs[1],:]['Val']))[1]\n",
    "\n",
    "myps=pd.DataFrame([pwilc,pt]).transpose()\n",
    "myps.columns=['MannWhitney','T-test']\n",
    "\n",
    "#myps.to_csv(figdir+'Pval-Velocitylen-'+velosubset+'-'+mysubset+'-'+subcat+'-per-response.subsettrajectorymap.pdf',sep='\\t')\n",
    "\n",
    "myps"
   ]
  },
  {
   "cell_type": "code",
   "execution_count": null,
   "metadata": {},
   "outputs": [],
   "source": [
    "cdata=ddata.copy()\n",
    "#=bc.tl.dge.get_de(subdataa,'RCat',demethod='wilcoxon',topnr=5000, logfc=np.log(1.5),padj=0.1)\n",
    "### try on individual tissues separately\n",
    "b1DE=bc.tl.dge.get_de(cdata[cdata.obs['Lesion'].isin(['LN'])].copy(),'Respond',topnr=5000, logfc=np.log(1.5),padj=0.1)\n",
    "b2DE=bc.tl.dge.get_de(cdata[cdata.obs['Lesion'].isin(['Brain'])].copy(),'Respond',topnr=5000, logfc=np.log(1.5),padj=0.1)\n",
    "b3DE=bc.tl.dge.get_de(cdata[cdata.obs['Lesion'].isin(['Lung','Sinon','Subc'])].copy(),'Respond',topnr=5000, logfc=np.log(1.5),padj=0.1)\n",
    "\n",
    "allDE1=bc.tl.dge.get_de(cdata[cdata.obs['Response3'].isin(['R','NR'])],'Respond',topnr=5000, logfc=np.log(1.5),padj=0.1)\n",
    "allDE2=bc.tl.dge.get_de(cdata[cdata.obs['Response3'].isin(['TF','PD'])],'Respond',topnr=5000, logfc=np.log(1.5),padj=0.1)\n",
    "allDE=bc.tl.dge.get_de(cdata,'Respond',topnr=5000, logfc=np.log(1.5),padj=0.1)\n",
    "\n",
    "#=bc.tl.dge.get_de(subdataa,'RCat',demethod='wilcoxon',topnr=5000, logfc=np.log(1.5),padj=0.1)\n",
    "### try on individual tissues separately\n",
    "b1DE=bc.tl.dge.get_de(cdata[cdata.obs['Lesion'].isin(['LN'])].copy(),'Respond',topnr=5000, logfc=np.log(1.5),padj=0.1)\n",
    "b2DE=bc.tl.dge.get_de(cdata[cdata.obs['Lesion'].isin(['Brain'])].copy(),'Respond',topnr=5000, logfc=np.log(1.5),padj=0.1)\n",
    "b3DE=bc.tl.dge.get_de(cdata[cdata.obs['Lesion'].isin(['Lung','Sinon','Subc'])].copy(),'Respond',topnr=5000, logfc=np.log(1.5),padj=0.1)\n",
    "\n",
    "allDE1=bc.tl.dge.get_de(cdata[cdata.obs['Response3'].isin(['R','NR'])],'Respond',topnr=5000, logfc=np.log(1.5),padj=0.1)\n",
    "allDE2=bc.tl.dge.get_de(cdata[cdata.obs['Response3'].isin(['TF','PD'])],'Respond',topnr=5000, logfc=np.log(1.5),padj=0.1)\n",
    "allDE=bc.tl.dge.get_de(cdata,'Respond',topnr=5000, logfc=np.log(1.5),padj=0.1)\n"
   ]
  },
  {
   "cell_type": "code",
   "execution_count": null,
   "metadata": {},
   "outputs": [],
   "source": [
    "lindnr=pd.read_csv(figdir+'/Lingenes_'+velosubset+'-'+mysubset+'_'+subcat+'_leiden_3to9inNRs.tsv',sep='\\t')\n",
    "lindr=pd.read_csv(figdir+'/Lingenes_'+velosubset+'-'+mysubset+'_'+subcat+'_leiden_3to9inRTF.tsv',sep='\\t')\n",
    "\n",
    "#Lingenes_CD8Tcell-All_PBMCandTIL_leiden_3to9inNRs.tsv"
   ]
  },
  {
   "cell_type": "code",
   "execution_count": null,
   "metadata": {},
   "outputs": [],
   "source": [
    "### Intersection of all combinations\n",
    "strDE=set(b1DE['PD']['Name']).intersection(set(allDE['PD']['Name'])).intersection((set(b2DE['PD']['Name'])).intersection(set(b3DE['PD']['Name']))).intersection((set(allDE1['PD']['Name'])).intersection(set(allDE2['PD']['Name'])))\n",
    "strDE2=set(b1DE['R']['Name']).intersection(set(allDE['R']['Name'])).intersection((set(b2DE['R']['Name'])).intersection(set(b3DE['R']['Name']))).intersection((set(allDE1['R']['Name'])).intersection(set(allDE2['R']['Name'])))\n",
    "\n"
   ]
  },
  {
   "cell_type": "code",
   "execution_count": null,
   "metadata": {},
   "outputs": [],
   "source": [
    "strDE"
   ]
  },
  {
   "cell_type": "code",
   "execution_count": null,
   "metadata": {
    "scrolled": true
   },
   "outputs": [],
   "source": [
    "strDE.intersection(set(lindnr.iloc[:,0]))"
   ]
  },
  {
   "cell_type": "code",
   "execution_count": null,
   "metadata": {},
   "outputs": [],
   "source": [
    "strDE.intersection(set(lindr.iloc[:,0]))"
   ]
  },
  {
   "cell_type": "code",
   "execution_count": null,
   "metadata": {},
   "outputs": [],
   "source": [
    "#set(lindr.iloc[:,0])"
   ]
  },
  {
   "cell_type": "code",
   "execution_count": null,
   "metadata": {},
   "outputs": [],
   "source": [
    "strDE2"
   ]
  },
  {
   "cell_type": "code",
   "execution_count": null,
   "metadata": {},
   "outputs": [],
   "source": [
    "### Complete comparison + LN only + Brain | Others + RvsNR | PDvsTF\n",
    "strDE=set(b1DE['PD']['Name']).intersection(set(allDE['PD']['Name'])).intersection((set(b2DE['PD']['Name'])).union(set(b3DE['PD']['Name']))).intersection((set(allDE1['PD']['Name'])).union(set(allDE2['PD']['Name'])))\n",
    "strDE2=set(b1DE['R']['Name']).intersection(set(allDE['R']['Name'])).intersection((set(b2DE['R']['Name'])).union(set(b3DE['R']['Name']))).intersection((set(allDE1['R']['Name'])).union(set(allDE2['R']['Name'])))\n",
    "\n",
    "#strDE\n"
   ]
  },
  {
   "cell_type": "code",
   "execution_count": null,
   "metadata": {},
   "outputs": [],
   "source": [
    "strDE.intersection(set(lindnr.iloc[:,0]))"
   ]
  },
  {
   "cell_type": "code",
   "execution_count": null,
   "metadata": {},
   "outputs": [],
   "source": [
    "strDE2.intersection(set(lindr.iloc[:,0]))"
   ]
  },
  {
   "cell_type": "code",
   "execution_count": null,
   "metadata": {},
   "outputs": [],
   "source": [
    "#subp=nrbdata[nrbdata.obs['leiden'].isin(['3','1','9'])].copy()\n",
    "subp=rbdata[rbdata.obs['leiden'].isin(['15','13','0','11','6'])].copy()\n"
   ]
  },
  {
   "cell_type": "code",
   "execution_count": null,
   "metadata": {},
   "outputs": [],
   "source": [
    "scv.tl.paga(subp, groups='leiden', root_key='initial_states_probs', end_key='terminal_states_probs', \n",
    "            use_time_prior='velocity_pseudotime')\n"
   ]
  },
  {
   "cell_type": "code",
   "execution_count": null,
   "metadata": {},
   "outputs": [],
   "source": [
    "cr.pl.cluster_fates(subp, mode=\"paga_pie\", cluster_key=\"leiden\", basis='umap',\n",
    "                    legend_kwargs={'loc': 'top right out'}, legend_loc='top left out',\n",
    "                    node_size_scale=1, edge_width_scale=1, max_edge_width=4, title='directed PAGA')\n"
   ]
  },
  {
   "cell_type": "code",
   "execution_count": null,
   "metadata": {},
   "outputs": [],
   "source": [
    "cr.tl.lineage_drivers(subp)\n",
    "lin_drivers_sub=subp.raw.var['to 5']"
   ]
  },
  {
   "cell_type": "code",
   "execution_count": null,
   "metadata": {},
   "outputs": [],
   "source": [
    "lin_drivers_sub[np.abs(lin_drivers_sub)>0.1].sort_values(ascending=False)\n"
   ]
  },
  {
   "cell_type": "code",
   "execution_count": null,
   "metadata": {},
   "outputs": [],
   "source": [
    "lin_drivers_sub[np.abs(lin_drivers_sub)>0.1].sort_values(ascending=True)[0:20]"
   ]
  },
  {
   "cell_type": "code",
   "execution_count": null,
   "metadata": {},
   "outputs": [],
   "source": [
    "lin_drivers_sub[np.abs(lin_drivers_sub)>0.1].sort_values(ascending=False)[0:20]"
   ]
  },
  {
   "cell_type": "code",
   "execution_count": null,
   "metadata": {},
   "outputs": [],
   "source": [
    "lin_drivers_sub[np.abs(lin_drivers_sub)>0.1].sort_values(ascending=False).to_csv(figdir+'/Lingenes_'+velosubset+'-'+mysubset+'_'+subcat+'_leiden_15to11inRTFs.tsv',sep='\\t')"
   ]
  },
  {
   "cell_type": "code",
   "execution_count": null,
   "metadata": {},
   "outputs": [],
   "source": [
    "sc.pl.umap(subp,color=['LTB','EEF1A1','GLTSCR2','HSPA1A','DNAJA1','DNAJB1','LMNA','KLF6'], color_map='viridis')"
   ]
  },
  {
   "cell_type": "code",
   "execution_count": null,
   "metadata": {},
   "outputs": [],
   "source": [
    "sc.pl.umap(subp,color=['IL7R','LTB','EEF1A1','GLTSCR2','NKG7','CCL4','GZMH','GZMA'], color_map='viridis')"
   ]
  },
  {
   "cell_type": "code",
   "execution_count": null,
   "metadata": {},
   "outputs": [],
   "source": [
    "#subp=nrbdata[nrbdata.obs['leiden'].isin(['3','1','9'])].copy()\n",
    "subp=nrbdata[nrbdata.obs['Sample type'].isin(['PBMC'])].copy()\n",
    "\n",
    "\n",
    "scv.tl.paga(subp, groups='leiden', root_key='initial_states_probs', end_key='terminal_states_probs', \n",
    "            use_time_prior='velocity_pseudotime')\n",
    "\n",
    "\n",
    "cr.pl.cluster_fates(subp, mode=\"paga_pie\", cluster_key=\"leiden\", basis='umap',\n",
    "                    legend_kwargs={'loc': 'top right out'}, legend_loc='top left out',\n",
    "                    node_size_scale=1, edge_width_scale=1, max_edge_width=4, title='directed PAGA')\n",
    "\n",
    "\n"
   ]
  },
  {
   "cell_type": "code",
   "execution_count": null,
   "metadata": {},
   "outputs": [],
   "source": [
    "cr.tl.lineage_drivers(subp)\n",
    "lin_drivers_sub=subp.raw.var['to 5']\n",
    "\n",
    "lin_drivers_sub[np.abs(lin_drivers_sub)>0.1].sort_values(ascending=False)\n"
   ]
  },
  {
   "cell_type": "markdown",
   "metadata": {},
   "source": [
    "## Analysis per response subtype"
   ]
  },
  {
   "cell_type": "code",
   "execution_count": null,
   "metadata": {},
   "outputs": [],
   "source": [
    "scv.tl.paga(rdata, groups='leiden', root_key='initial_states_probs', end_key='terminal_states_probs', \n",
    "            use_time_prior='velocity_pseudotime')\n",
    "scv.tl.paga(tfdata, groups='leiden', root_key='initial_states_probs', end_key='terminal_states_probs', \n",
    "            use_time_prior='velocity_pseudotime')\n"
   ]
  },
  {
   "cell_type": "code",
   "execution_count": null,
   "metadata": {},
   "outputs": [],
   "source": [
    "scv.tl.paga(nrdata, groups='leiden', root_key='initial_states_probs', end_key='terminal_states_probs', \n",
    "            use_time_prior='velocity_pseudotime')\n",
    "scv.tl.paga(nrnadjdata, groups='leiden', root_key='initial_states_probs', end_key='terminal_states_probs', \n",
    "            use_time_prior='velocity_pseudotime')\n"
   ]
  },
  {
   "cell_type": "code",
   "execution_count": null,
   "metadata": {},
   "outputs": [],
   "source": [
    "scv.tl.paga(nrbdata, groups='leiden', root_key='initial_states_probs', end_key='terminal_states_probs', \n",
    "            use_time_prior='velocity_pseudotime')\n"
   ]
  },
  {
   "cell_type": "code",
   "execution_count": null,
   "metadata": {},
   "outputs": [],
   "source": [
    "#sc.set_figure_params(10)\n",
    "#import matplotlib.pyplot as plt\n",
    "#plt.rcParams[\"figure.figsize\"] = (12,10)\n",
    "\n",
    "cr.pl.cluster_fates(nrdata, mode=\"paga_pie\", cluster_key=\"leiden\", basis='umap',\n",
    "                    legend_kwargs={'loc': 'top right out'}, legend_loc='top left out',\n",
    "                    node_size_scale=1, edge_width_scale=1, max_edge_width=4,  title='directed PAGA', \n",
    "                    save='-subsettrajectorymap-'+velosubset+'.nrdata.PAGA.pdf')\n"
   ]
  },
  {
   "cell_type": "code",
   "execution_count": null,
   "metadata": {},
   "outputs": [],
   "source": [
    "cr.pl.cluster_fates(nrnadjdata, mode=\"paga_pie\", cluster_key=\"leiden\", basis='umap',\n",
    "                    legend_kwargs={'loc': 'top right out'}, legend_loc='top left out',\n",
    "                    node_size_scale=1, edge_width_scale=1, max_edge_width=4,  title='directed PAGA', \n",
    "                    save='-subsettrajectorymap-'+velosubset+'.nrnadjdata.PAGA.pdf')\n"
   ]
  },
  {
   "cell_type": "code",
   "execution_count": null,
   "metadata": {},
   "outputs": [],
   "source": [
    "cr.pl.cluster_fates(rdata, mode=\"paga_pie\", cluster_key=\"leiden\", basis='umap',\n",
    "                    legend_kwargs={'loc': 'top right out'}, legend_loc='top left out',\n",
    "                    node_size_scale=1, edge_width_scale=1, max_edge_width=4,  title='directed PAGA', \n",
    "                    save='-subsettrajectorymap-'+velosubset+'.rdata.PAGA.pdf')\n"
   ]
  },
  {
   "cell_type": "code",
   "execution_count": null,
   "metadata": {},
   "outputs": [],
   "source": [
    "cr.pl.cluster_fates(tfdata, mode=\"paga_pie\", cluster_key=\"leiden\", basis='umap',\n",
    "                    legend_kwargs={'loc': 'top right out'}, legend_loc='top left out',\n",
    "                    node_size_scale=1, edge_width_scale=1, max_edge_width=4,  title='directed PAGA',\n",
    "                    save='-subsettrajectorymap-'+velosubset+'.tfdata.PAGA.pdf')\n"
   ]
  },
  {
   "cell_type": "code",
   "execution_count": null,
   "metadata": {},
   "outputs": [],
   "source": [
    "sc.pl.violin(tdata, keys='latent_time',groupby='celltype3_pub',\n",
    "             order=['naive CD8-positive T cell',\n",
    "                    'effector memory CD8-positive T cell',\n",
    "                    'proliferating CD8-positive T cell',\n",
    "                    'cytokine secreting effector CD8-positive T cell',\n",
    " 'exhausted-like CD8-positive T cell'],rotation=90, save='-latent_time_per_celltype.tdata.svg')"
   ]
  },
  {
   "cell_type": "code",
   "execution_count": null,
   "metadata": {},
   "outputs": [],
   "source": [
    "color_dict"
   ]
  },
  {
   "cell_type": "code",
   "execution_count": null,
   "metadata": {},
   "outputs": [],
   "source": [
    "from matplotlib import rcParams\n",
    "rcParams['figure.figsize'] = 7,4\n",
    "sc.pl.violin(tdata[tdata.obs['Sample type']=='TIL'], keys='latent_time',groupby='PatientID',\n",
    "             order=['63','72','40','86','33','91','29','87',\n",
    "                    '13','34','67','68','69','83','79','82','11','43','64','77'],\n",
    "            palette=['coral','coral','coral','lightskyblue','lightskyblue','lightskyblue','lightskyblue','lightskyblue',\n",
    "                  'firebrick','firebrick','firebrick','firebrick','firebrick','firebrick','firebrick','firebrick','firebrick',\n",
    "                  'royalblue','royalblue','royalblue'],save='-latent_time_per_patient.tdata_TIL.svg')"
   ]
  },
  {
   "cell_type": "code",
   "execution_count": null,
   "metadata": {},
   "outputs": [],
   "source": [
    "from matplotlib import rcParams\n",
    "rcParams['figure.figsize'] = 7,4\n",
    "sc.pl.violin(tdata[tdata.obs['leiden'].isin(['8','9'])], keys='latent_time',groupby='PatientID',\n",
    "             order=['63','72','40','86','33','91','29','87',\n",
    "                    '13','34','67','68','69','83','79','82','11','43','64','77'],\n",
    "            palette=['coral','coral','coral','lightskyblue','lightskyblue','lightskyblue','lightskyblue','lightskyblue',\n",
    "                  'firebrick','firebrick','firebrick','firebrick','firebrick','firebrick','firebrick','firebrick','firebrick',\n",
    "                  'royalblue','royalblue','royalblue'],save='-latent_time_per_patient.tdata_C8-9.svg')"
   ]
  },
  {
   "cell_type": "code",
   "execution_count": null,
   "metadata": {},
   "outputs": [],
   "source": [
    "from matplotlib import rcParams\n",
    "rcParams['figure.figsize'] = 7,4\n",
    "sc.pl.violin(tdata[tdata.obs['leiden'].isin(['13','15'])], keys='latent_time',groupby='PatientID',\n",
    "             order=['63','72','40','86','33','91','29','87',\n",
    "                    '13','34','67','68','69','83','79','82','11','43','64','77'],\n",
    "            palette=['coral','coral','coral','lightskyblue','lightskyblue','lightskyblue','lightskyblue','lightskyblue',\n",
    "                  'firebrick','firebrick','firebrick','firebrick','firebrick','firebrick','firebrick','firebrick','firebrick',\n",
    "                  'royalblue','royalblue','royalblue'])"
   ]
  },
  {
   "cell_type": "code",
   "execution_count": null,
   "metadata": {},
   "outputs": [],
   "source": [
    "from matplotlib import rcParams\n",
    "rcParams['figure.figsize'] = 7,4\n",
    "sc.pl.violin(tdata[tdata.obs['leiden'].isin(['0','6','11','5'])], keys='latent_time',groupby='PatientID',\n",
    "             order=['63','72','40','86','33','91','29','87',\n",
    "                    '13','34','67','68','69','83','79','82','11','43','64','77'],\n",
    "            palette=['coral','coral','coral','lightskyblue','lightskyblue','lightskyblue','lightskyblue','lightskyblue',\n",
    "                  'firebrick','firebrick','firebrick','firebrick','firebrick','firebrick','firebrick','firebrick','firebrick',\n",
    "                  'royalblue','royalblue','royalblue'])"
   ]
  },
  {
   "cell_type": "code",
   "execution_count": null,
   "metadata": {},
   "outputs": [],
   "source": [
    "from matplotlib import rcParams\n",
    "rcParams['figure.figsize'] = 7,4\n",
    "sc.pl.violin(tdata[tdata.obs['leiden'].isin(['10','1','3'])], keys='latent_time',groupby='PatientID',\n",
    "             order=['63','72','40','86','33','91','29','87',\n",
    "                    '13','34','67','68','69','83','79','82','11','43','64','77'],\n",
    "            palette=['coral','coral','coral','lightskyblue','lightskyblue','lightskyblue','lightskyblue','lightskyblue',\n",
    "                  'firebrick','firebrick','firebrick','firebrick','firebrick','firebrick','firebrick','firebrick','firebrick',\n",
    "                  'royalblue','royalblue','royalblue'])"
   ]
  },
  {
   "cell_type": "code",
   "execution_count": null,
   "metadata": {},
   "outputs": [],
   "source": [
    "from matplotlib import rcParams\n",
    "rcParams['figure.figsize'] = 7,4\n",
    "sc.pl.violin(tdata[tdata.obs['leiden'].isin(['8','9','13','15'])], keys='velocity_length',groupby='PatientID',\n",
    "             order=['63','72','40','86','33','91','29','87',\n",
    "                    '13','34','67','68','69','83','79','82','11','43','64','77'],\n",
    "            palette=['coral','coral','coral','lightskyblue','lightskyblue','lightskyblue','lightskyblue','lightskyblue',\n",
    "                  'firebrick','firebrick','firebrick','firebrick','firebrick','firebrick','firebrick','firebrick','firebrick',\n",
    "                  'royalblue','royalblue','royalblue'])"
   ]
  },
  {
   "cell_type": "code",
   "execution_count": null,
   "metadata": {},
   "outputs": [],
   "source": [
    "set(tdata.obs['celltype3_pub'])"
   ]
  },
  {
   "cell_type": "code",
   "execution_count": null,
   "metadata": {},
   "outputs": [],
   "source": [
    "sc.set_figure_params()"
   ]
  },
  {
   "cell_type": "code",
   "execution_count": null,
   "metadata": {},
   "outputs": [],
   "source": [
    "sc.pl.violin(tdata, keys='latent_time',groupby='leiden',\n",
    "             order=['10','16','3','15','1','13','8','9','0','6','11','5'],\n",
    "             save='-latent_time_per_cluster.tdata.svg')"
   ]
  },
  {
   "cell_type": "code",
   "execution_count": null,
   "metadata": {},
   "outputs": [],
   "source": [
    "sc.pl.violin(tdata[tdata.obs['Sample type']=='TIL'], keys='latent_time',groupby='leiden',\n",
    "             order=['10','16','3','15','1','13','8','9','0','6','11','5'],\n",
    "            save='-latent_time_per_cluster.tdata_TIL.svg')"
   ]
  },
  {
   "cell_type": "code",
   "execution_count": null,
   "metadata": {},
   "outputs": [],
   "source": [
    "scv.tl.paga(tdata, groups='leiden', root_key='initial_states_probs', end_key='terminal_states_probs', \n",
    "            use_time_prior='velocity_pseudotime')\n",
    "\n"
   ]
  },
  {
   "cell_type": "code",
   "execution_count": null,
   "metadata": {},
   "outputs": [],
   "source": [
    "sc.set_figure_params(10)\n",
    "import matplotlib.pyplot as plt\n",
    "plt.rcParams[\"figure.figsize\"] = (12,10)\n",
    "\n",
    "cr.pl.cluster_fates(tdata, mode=\"paga_pie\", cluster_key=\"leiden\", basis='umap',\n",
    "                    legend_kwargs={'loc': 'top right out'}, legend_loc='top left out',\n",
    "                    node_size_scale=5, edge_width_scale=1, max_edge_width=4, title='directed PAGA')\n"
   ]
  },
  {
   "cell_type": "code",
   "execution_count": null,
   "metadata": {},
   "outputs": [],
   "source": [
    "sc.set_figure_params()"
   ]
  },
  {
   "cell_type": "code",
   "execution_count": null,
   "metadata": {},
   "outputs": [],
   "source": [
    "cr.tl.lineage_drivers(rdata, use_raw=False, backward=False)\n"
   ]
  },
  {
   "cell_type": "code",
   "execution_count": null,
   "metadata": {},
   "outputs": [],
   "source": [
    "cr.tl.lineage_drivers(subp, use_raw=False, backward=False)\n"
   ]
  },
  {
   "cell_type": "code",
   "execution_count": null,
   "metadata": {},
   "outputs": [],
   "source": [
    "cr.pl.lineage_drivers(subp, lineage=\"5\", n_genes=10)"
   ]
  },
  {
   "cell_type": "code",
   "execution_count": null,
   "metadata": {},
   "outputs": [],
   "source": [
    "\n",
    "cr.pl.lineage_drivers(rdata, lineage=\"5\", n_genes=10)"
   ]
  },
  {
   "cell_type": "code",
   "execution_count": null,
   "metadata": {},
   "outputs": [],
   "source": [
    "cr.tl.lineage_drivers(tfdata, use_raw=False, backward=False)\n",
    "\n",
    "cr.pl.lineage_drivers(tfdata, lineage=\"5\", n_genes=10)"
   ]
  },
  {
   "cell_type": "code",
   "execution_count": null,
   "metadata": {},
   "outputs": [],
   "source": [
    "\n",
    "cr.tl.lineage_drivers(nrnadjdata, use_raw=False, backward=False)\n",
    "\n",
    "cr.pl.lineage_drivers(nrnadjdata, lineage=\"5\", n_genes=10)"
   ]
  },
  {
   "cell_type": "code",
   "execution_count": null,
   "metadata": {},
   "outputs": [],
   "source": [
    "cr.tl.lineage_drivers(nrbdata, use_raw=False, backward=False)\n",
    "cr.tl.lineage_drivers(rbdata, use_raw=False, backward=False)\n"
   ]
  },
  {
   "cell_type": "code",
   "execution_count": null,
   "metadata": {},
   "outputs": [],
   "source": [
    "cr.tl.lineage_drivers(tdata, use_raw=False, backward=False)\n",
    "\n",
    "#cr.tl.lineage_drivers(subdata, use_raw=True, backward=False,cluster_key='leiden', clusters=['8','9','0','11'])\n",
    "\n",
    "cr.pl.lineage_drivers(tdata, lineage=\"5\", n_genes=10)"
   ]
  },
  {
   "cell_type": "code",
   "execution_count": null,
   "metadata": {},
   "outputs": [],
   "source": [
    "scv.pl.velocity_embedding_stream(rdata, basis='umap',color=['Sample type'],\n",
    "                                 min_mass=3.4)"
   ]
  },
  {
   "cell_type": "code",
   "execution_count": null,
   "metadata": {},
   "outputs": [],
   "source": [
    "scv.pl.velocity_embedding_stream(nrnadjdata, basis='umap',color=['Sample type'],\n",
    "                                 min_mass=3.4)"
   ]
  },
  {
   "cell_type": "code",
   "execution_count": null,
   "metadata": {},
   "outputs": [],
   "source": [
    "scv.pl.velocity_embedding_stream(tdata, basis='umap',color=['Sample type'],\n",
    "                                 min_mass=3.4, \n",
    "                                 save='-velo-'+velosubset+'-'+mysubset+'-'+subcat+'-dyn-SampleType.tdata.svg')"
   ]
  },
  {
   "cell_type": "code",
   "execution_count": null,
   "metadata": {},
   "outputs": [],
   "source": [
    "scv.pl.velocity_embedding_stream(tdata, basis='umap',color=['celltype3_pub'],legend_loc='right',\n",
    "                                 min_mass=3.4, \n",
    "                                 save='-velo-'+velosubset+'-'+mysubset+'-'+subcat+'-dyn-celltype.tdata.svg')"
   ]
  },
  {
   "cell_type": "code",
   "execution_count": null,
   "metadata": {},
   "outputs": [],
   "source": [
    "root_idx = np.where(tdata.obs['initial_states'] == '10')[0][0]\n",
    "tdata.uns['iroot'] = root_idx\n",
    "sc.tl.dpt(tdata)\n",
    "\n"
   ]
  },
  {
   "cell_type": "code",
   "execution_count": null,
   "metadata": {},
   "outputs": [],
   "source": [
    "scv.pl.scatter(tdata, color=['leiden', root_idx, 'latent_time', 'dpt_pseudotime'], fontsize=16,\n",
    "               cmap='viridis', perc=[2, 98], colorbar=True, rescale_color=[0, 1],\n",
    "               title=['leiden', 'root cell', 'latent time', 'dpt pseudotime'],\n",
    "              save='-LatentTime-Pseudotime-CD8Tcell-All-PBMCandTIL-dyn-SampleType.tdata.svg')\n"
   ]
  },
  {
   "cell_type": "code",
   "execution_count": null,
   "metadata": {},
   "outputs": [],
   "source": [
    "#model = cr.ul.models.GAM(subdata)\n",
    "model = cr.ul.models.GAM(tdata)\n",
    "cr.pl.gene_trends(tdata, model=model, data_key='X',\n",
    "                  genes=['GZMB','CREM', 'XCL1','PDCD1','TOX','HAVCR2'], ncols=3,use_raw=True,\n",
    "                  time_key='latent_time', same_plot=True, hide_cells=True,\n",
    "                  figsize=(15, 4), n_test_points=200)\n"
   ]
  },
  {
   "cell_type": "code",
   "execution_count": null,
   "metadata": {},
   "outputs": [],
   "source": [
    "#range(0,1,0.1)\n",
    "mypart={}\n",
    "mysplits=np.arange(0, 1, 0.05)\n",
    "\n",
    "mysplits"
   ]
  },
  {
   "cell_type": "code",
   "execution_count": null,
   "metadata": {},
   "outputs": [],
   "source": [
    "def chunkIt(seq, num):\n",
    "    avg = len(seq) / float(num)\n",
    "    out = []\n",
    "    last = 0.0\n",
    "\n",
    "    while last < len(seq):\n",
    "        out.append(seq[int(last):int(last + avg)])\n",
    "        last += avg\n",
    "\n",
    "    return out"
   ]
  },
  {
   "cell_type": "code",
   "execution_count": null,
   "metadata": {},
   "outputs": [],
   "source": [
    "\n",
    "def get_partition(rdata,myg,category):\n",
    "    mypart=pd.DataFrame()\n",
    "    mysplits=np.arange(0, 1, 0.05)\n",
    "    for i in range(len(mysplits)-1):\n",
    "        tmp=rdata[(rdata.obs['latent_time']>=mysplits[i])&(rdata.obs['latent_time']<mysplits[i+1])].raw[:,myg].X.todense().flatten().tolist()[0]\n",
    "        tmp=pd.DataFrame([sum(x)/len(x) for x in chunkIt(tmp, min(len(tmp),20))])\n",
    "        tmp['Lat']=mysplits[i+1]\n",
    "        tmp['Cat']=category\n",
    "        mypart=pd.concat([mypart,tmp])\n",
    "    return(mypart)"
   ]
  },
  {
   "cell_type": "code",
   "execution_count": null,
   "metadata": {},
   "outputs": [],
   "source": [
    "boldg=[ 'XCL1','XCL2','IFITM1','CD69','KLRB1','ZNF331','ITGAL',\n",
    "       'LGALS9','DUSP1','DUSP4','AMICA1','ITGA1','KLRK1','KLRD1','HAVCR2','CD2',\n",
    "                            'KLRC2','CXCR6','FAM3C','PRF1','TNFRSF1B',\n",
    "                            'RDH10','TNFSF4','TIGIT','LAG3','CCL3','CCL4','CCL4L1','CCL4L2','GRN','NAMPT',\n",
    "                            'TNFSF13B','HSPA6','HSPH1','SERPINH1','HSPA1A','HSPA1B']\n",
    "\n",
    "boldgr=[ 'XCL1','XCL2','IFITM1','AMICA1','ITGA1','KLRK1','KLRD1','HAVCR2','CD2',\n",
    "                            'KLRC2','CXCR6','FAM3C','PRF1','TNFRSF1B',\n",
    "                            'RDH10','TNFSF4','TIGIT','LAG3']\n",
    "\n",
    "\n",
    "boldgnr=[ 'CD69','KLRB1','ZNF331','ITGAL',\n",
    "       'LGALS9','DUSP1','DUSP4','CCL3','CCL4','CCL4L1','CCL4L2','GRN','NAMPT',\n",
    "                            'TNFSF13B','HSPA6','HSPH1','SERPINH1','HSPA1A','HSPA1B']"
   ]
  },
  {
   "cell_type": "code",
   "execution_count": null,
   "metadata": {},
   "outputs": [],
   "source": [
    "myg='HSPA1A' #\n",
    "myg='HSPA1B' #\n",
    "myg='ATF3' #\n",
    "myg='SERPINH1' #\n",
    "\n",
    "#for myg in ['HSPA6','HSPH1','CCL4L1','CCL4L2','KLRC2','FAM3C','CCL4','PRF1','TNFRSF1b','RDH10','LAG3']:\n",
    "for myg in ['KLRC2','RDH10','PRF1','CXCR6','XCL1','DUSP1','CD69','ZNF331']:\n",
    "#for myg in boldg:\n",
    "    \n",
    "    #rpart=get_partition(rdata[rdata.obs['Sample type']=='TIL'],myg,'R')\n",
    "    rpart=get_partition(rdata,myg,'R')\n",
    "\n",
    "    tfpart=get_partition(tfdata,myg,'TF')\n",
    "    nrpart=get_partition(nrdata,myg,'NR_adj')\n",
    "    nrnadjpart=get_partition(nrnadjdata,myg,'NR_nadj')\n",
    "\n",
    "    rpart.columns=[myg,'Latent_Time','RCat']\n",
    "    tfpart.columns=[myg,'Latent_Time','RCat']\n",
    "    nrpart.columns=[myg,'Latent_Time','RCat']\n",
    "    nrnadjpart.columns=[myg,'Latent_Time','RCat']\n",
    "\n",
    "    mypart=pd.concat([rpart,tfpart,nrpart,nrnadjpart])\n",
    "\n",
    "    fig=sns.lineplot(data=mypart, y=myg, x=\"Latent_Time\",hue=\"RCat\")\n",
    "    cxcr6=mypart.copy()\n",
    "    fig.figure.savefig(figdir+'ExprPerTime-'+velosubset+'-'+mysubset+'-'+subcat+'-'+myg+'-per-response.subsettrajectorymap.svg')\n",
    "    plt.clf()"
   ]
  },
  {
   "cell_type": "code",
   "execution_count": null,
   "metadata": {},
   "outputs": [],
   "source": [
    "aha"
   ]
  },
  {
   "cell_type": "code",
   "execution_count": null,
   "metadata": {},
   "outputs": [],
   "source": [
    "myg='HSPA1A' #\n",
    "myg='HSPA1B' #\n",
    "myg='ATF3' #\n",
    "myg='SERPINH1' #\n",
    "\n",
    "#for myg in ['HSPA6','HSPH1','CCL4L1','CCL4L2','KLRC2','FAM3C','CCL4','PRF1','TNFRSF1b','RDH10','LAG3']:\n",
    "#for myg in boldg:\n",
    "#for myg in ['DUSP4','KLRC2','RDH10','PRF1','CXCR6','XCL1','DUSP1','CD69','ZNF331']:\n",
    "#for myg in ['DUSP4','LAG3','HSPH1','HSPA1A','HSPA1B']:\n",
    "#for myg in ['AMICA1','SELL','DNAJA1','PPP1R15A','BTG1','TSC22D3','NAMPT','BTLA']:\n",
    "for myg in ['XCL2','RDH10','IFITM1','ITGAL','CD2','GRN','TNFSP13B','SERPINH1']:\n",
    "    #rpart=get_partition(rdata[rdata.obs['Sample type']=='TIL'],myg,'R')\n",
    "    rbpart=get_partition(rbdata,myg,'R')\n",
    "\n",
    "    nrbpart=get_partition(nrbdata,myg,'NR')\n",
    "\n",
    "    rbpart.columns=[myg,'Latent_Time','RCat']\n",
    "    nrbpart.columns=[myg,'Latent_Time','RCat']\n",
    "\n",
    "    mypart=pd.concat([rbpart,nrbpart]).reset_index(drop=True)\n",
    "\n",
    "    fig=sns.lineplot(data=mypart, y=myg, x=\"Latent_Time\",hue=\"RCat\")\n",
    "    cxcr6=mypart.copy()\n",
    "    #fig.figure.savefig(figdir+'ExprPerTime-'+velosubset+'-'+mysubset+'-'+subcat+'-'+myg+'-per-response-simple.subsettrajectorymap.pdf')\n",
    "    fig.figure.savefig(figdir+'ExprPerTime-'+velosubset+'-'+mysubset+'-'+subcat+'-'+myg+'-per-response-simple.subsettrajectorymap.svg', format='svg', bbox_inches=\"tight\", dpi=300)\n",
    "    plt.clf()"
   ]
  },
  {
   "cell_type": "code",
   "execution_count": null,
   "metadata": {},
   "outputs": [],
   "source": [
    "myg='HSPA1A' #\n",
    "myg='HSPA1B' #\n",
    "myg='ATF3' #\n",
    "myg='SERPINH1' #\n",
    "\n",
    "#for myg in ['HSPA6','HSPH1','CCL4L1','CCL4L2','KLRC2','FAM3C','CCL4','PRF1','TNFRSF1b','RDH10','LAG3']:\n",
    "for myg in boldg:\n",
    "    #rpart=get_partition(rdata[rdata.obs['Sample type']=='TIL'],myg,'R')\n",
    "    rbpart=get_partition(rbdata_mature,myg,'R')\n",
    "\n",
    "    nrbpart=get_partition(nrbdata_mature,myg,'NR')\n",
    "\n",
    "    rbpart.columns=[myg,'Latent_Time','RCat']\n",
    "    nrbpart.columns=[myg,'Latent_Time','RCat']\n",
    "\n",
    "    mypart=pd.concat([rbpart,nrbpart])\n",
    "\n",
    "    fig=sns.lineplot(data=mypart, y=myg, x=\"Latent_Time\",hue=\"RCat\")\n",
    "    cxcr6=mypart.copy()\n",
    "    fig.figure.savefig(figdir+'ExprPerTime-'+velosubset+'-'+mysubset+'-'+subcat+'-'+myg+'-per-response-simple-mature.subsettrajectorymap.pdf')\n",
    "    plt.clf()"
   ]
  },
  {
   "cell_type": "code",
   "execution_count": null,
   "metadata": {},
   "outputs": [],
   "source": [
    "set(tdata.obs['Respond'])"
   ]
  },
  {
   "cell_type": "code",
   "execution_count": null,
   "metadata": {},
   "outputs": [],
   "source": [
    "tdata.obs['leidenRcat']=tdata.obs['leiden'].astype('str')+tdata.obs['RCat'].astype('str')\n",
    "tdata.obs['leidenRespond']=tdata.obs['leiden'].astype('str')+tdata.obs['Respond'].astype('str')"
   ]
  },
  {
   "cell_type": "code",
   "execution_count": null,
   "metadata": {
    "scrolled": true
   },
   "outputs": [],
   "source": [
    "#sc.pl.matrixplot(tdata[tdata.obs['leiden'].isin(['1','9','11','0','5','6'])],\n",
    "#                 var_names=boldg,\n",
    "#                 groupby='leidenRcat',dendrogram=True,standard_scale='var',\n",
    "#                svg='-boldg-c1-9-11-0-5-6.CD8Tvelo.leidenRespond.svg')"
   ]
  },
  {
   "cell_type": "code",
   "execution_count": null,
   "metadata": {},
   "outputs": [],
   "source": [
    "sc.pl.matrixplot(tdata[tdata.obs['leiden'].isin(['1','9','11','0','5','6'])],\n",
    "                 var_names=boldg,\n",
    "                 groupby='leidenRespond',categories_order=['1R','1PD','9R','9PD','0R','0PD',\n",
    "                                                           '11R','11PD','6R','6PD','5R','5PD'],standard_scale='var',\n",
    "                 save='-boldg-c1-9-11-0-5-6.CD8Tvelo.leidenRespond.svg')"
   ]
  },
  {
   "cell_type": "code",
   "execution_count": null,
   "metadata": {},
   "outputs": [],
   "source": [
    "sc.pl.matrixplot(tdata[tdata.obs['leiden'].isin(['1','9','11','0','5','6'])],\n",
    "                 var_names=boldgr,\n",
    "                 groupby='leidenRespond',categories_order=['1R','1PD','9R','9PD','0R','0PD',\n",
    "                                                           '11R','11PD','6R','6PD','5R','5PD'],standard_scale='var')"
   ]
  },
  {
   "cell_type": "code",
   "execution_count": null,
   "metadata": {},
   "outputs": [],
   "source": [
    "sc.pl.matrixplot(tdata[tdata.obs['leiden'].isin(['15','13','8','11','0','5','6'])],\n",
    "                 var_names=boldg,\n",
    "                 groupby='leidenRespond',categories_order=['15R','15PD','13R','13PD','8R','8PD','0R','0PD',\n",
    "                                                           '11R','11PD','6R','6PD','5R','5PD'],standard_scale='var',\n",
    "                      save='-boldg-c1-15-13-8-11-0-5-6.CD8Tvelo.leidenRespond.svg')"
   ]
  },
  {
   "cell_type": "code",
   "execution_count": null,
   "metadata": {},
   "outputs": [],
   "source": [
    "sc.pl.matrixplot(tdata[tdata.obs['leiden'].isin(['1','9','11','0','5','6'])],\n",
    "                 var_names=boldgnr,\n",
    "                 groupby='leidenRespond',categories_order=['1R','1PD','9R','9PD','0R','0PD',\n",
    "                                                           '11R','11PD','6R','6PD','5R','5PD'],standard_scale='var')"
   ]
  },
  {
   "cell_type": "code",
   "execution_count": null,
   "metadata": {},
   "outputs": [],
   "source": [
    "sc.pl.dotplot(tdata[tdata.obs['leiden'].isin(['1','9','11','0','5','6'])],\n",
    "                 var_names=boldg,\n",
    "                 groupby='leidenRespond',categories_order=['1R','1PD','9R','9PD','0R','0PD',\n",
    "                                                           '11R','11PD','6R','6PD','5R','5PD'])"
   ]
  },
  {
   "cell_type": "code",
   "execution_count": null,
   "metadata": {},
   "outputs": [],
   "source": []
  },
  {
   "cell_type": "code",
   "execution_count": null,
   "metadata": {},
   "outputs": [],
   "source": [
    "sns.lineplot(data=mypart, y=myg, x=\"Latent_Time\",hue=\"RCat\")\n",
    "itm2a=mypart.copy()"
   ]
  },
  {
   "cell_type": "code",
   "execution_count": null,
   "metadata": {},
   "outputs": [],
   "source": [
    "sns.lineplot(data=mypart, y=myg, x=\"Latent_Time\",hue=\"RCat\")\n",
    "klf10=mypart.copy()"
   ]
  },
  {
   "cell_type": "code",
   "execution_count": null,
   "metadata": {},
   "outputs": [],
   "source": [
    "\n",
    "mygenes=cr.pl.heatmap(tdata, model, \n",
    "              genes=subdatamstat.var['to 5'].sort_values(ascending=False).index[:50],\n",
    "              show_absorption_probabilities=True,use_raw=True\n",
    "              ,show_all_genes=True,cluster_genes=True,\n",
    "              lineages=\"5\", n_jobs=4, backend='loky',figsize=(10,15),return_genes=True)"
   ]
  },
  {
   "cell_type": "code",
   "execution_count": null,
   "metadata": {},
   "outputs": [],
   "source": []
  },
  {
   "cell_type": "code",
   "execution_count": null,
   "metadata": {},
   "outputs": [],
   "source": [
    "#lin_drivers_c8_9.sort_values(ascending=True)[0:40]"
   ]
  },
  {
   "cell_type": "code",
   "execution_count": null,
   "metadata": {},
   "outputs": [],
   "source": [
    "#cr.tl.lineage_drivers(subdata, use_raw=True, backward=False,cluster_key='leiden', clusters=['8','9','0','11'])\n",
    "cr.tl.lineage_drivers(rdata, use_raw=True, backward=False,cluster_key='leiden')\n",
    "lin_drivers_r=rdata.raw.var['to 5']\n",
    "\n",
    "\n",
    "cr.tl.lineage_drivers(nrdata, use_raw=True, backward=False,cluster_key='leiden')\n",
    "lin_drivers_nr=nrdata.raw.var['to 5']\n",
    "\n",
    "cr.tl.lineage_drivers(tfdata, use_raw=True, backward=False,cluster_key='leiden')\n",
    "lin_drivers_tf=tfdata.raw.var['to 5']\n",
    "\n",
    "cr.tl.lineage_drivers(nrnadjdata, use_raw=True, backward=False,cluster_key='leiden')\n",
    "lin_drivers_nrnadj=nrnadjdata.raw.var['to 5']\n",
    "\n",
    "cr.tl.lineage_drivers(rbdata, use_raw=True, backward=False,cluster_key='leiden')\n",
    "lin_drivers_rb=rbdata.raw.var['to 5']\n",
    "\n",
    "cr.tl.lineage_drivers(nrbdata, use_raw=True, backward=False,cluster_key='leiden')\n",
    "lin_drivers_nrb=nrbdata.raw.var['to 5']\n",
    "\n",
    "\n",
    "sc.set_figure_params()\n",
    "cr.tl.lineage_drivers(tdata)\n",
    "\n",
    "#\n"
   ]
  },
  {
   "cell_type": "code",
   "execution_count": null,
   "metadata": {},
   "outputs": [],
   "source": [
    "set(lin_drivers_rb[np.abs(lin_drivers_rb)>0.1].index)-set(lin_drivers_nrb[np.abs(lin_drivers_nrb)>0.1].index)"
   ]
  },
  {
   "cell_type": "code",
   "execution_count": null,
   "metadata": {},
   "outputs": [],
   "source": [
    "set(lin_drivers_nrb[np.abs(lin_drivers_nrb)>0.1].index)-set(lin_drivers_rb[np.abs(lin_drivers_rb)>0.1].index)"
   ]
  },
  {
   "cell_type": "code",
   "execution_count": null,
   "metadata": {},
   "outputs": [],
   "source": [
    "choicen=set(lin_drivers_nr[np.abs(lin_drivers_nr)>0.1].index).intersection(set(lin_drivers_nrnadj[np.abs(lin_drivers_nrnadj)>0.1].index))-set(lin_drivers_tf[np.abs(lin_drivers_tf)>0.1].index)-set(lin_drivers_r[np.abs(lin_drivers_r)>0.1].index)"
   ]
  },
  {
   "cell_type": "code",
   "execution_count": null,
   "metadata": {},
   "outputs": [],
   "source": [
    "lin_drivers_nr[np.abs(lin_drivers_nr)>0.1].sort_values(ascending=True)"
   ]
  },
  {
   "cell_type": "code",
   "execution_count": null,
   "metadata": {},
   "outputs": [],
   "source": [
    "choicen"
   ]
  },
  {
   "cell_type": "code",
   "execution_count": null,
   "metadata": {},
   "outputs": [],
   "source": [
    "choice=set(lin_drivers_r[np.abs(lin_drivers_r)>0.1].index).intersection(set(lin_drivers_tf[np.abs(lin_drivers_tf)>0.1].index))-set(lin_drivers_nrnadj[np.abs(lin_drivers_nrnadj)>0.1].index)-set(lin_drivers_nr[np.abs(lin_drivers_nr)>0.1].index)"
   ]
  },
  {
   "cell_type": "code",
   "execution_count": null,
   "metadata": {},
   "outputs": [],
   "source": [
    "choice"
   ]
  },
  {
   "cell_type": "code",
   "execution_count": null,
   "metadata": {},
   "outputs": [],
   "source": [
    "lin_drivers_r[np.abs(lin_drivers_r)>0.1].to_csv(figdir+'/Lingenes_'+velosubset+'-'+mysubset+'_'+subcat+'_rdata_leiden_'+i+'.tsv',sep='\\t')"
   ]
  },
  {
   "cell_type": "code",
   "execution_count": null,
   "metadata": {},
   "outputs": [],
   "source": [
    "lin_drivers_r.sort_values(ascending=False)[0:100]"
   ]
  },
  {
   "cell_type": "code",
   "execution_count": null,
   "metadata": {},
   "outputs": [],
   "source": [
    "lin_drivers_tf.sort_values(ascending=False)[0:100]"
   ]
  },
  {
   "cell_type": "code",
   "execution_count": null,
   "metadata": {},
   "outputs": [],
   "source": [
    "lin_drivers_nr.sort_values(ascending=False)[0:100]"
   ]
  },
  {
   "cell_type": "code",
   "execution_count": null,
   "metadata": {},
   "outputs": [],
   "source": [
    "lin_drivers_nrnadj.sort_values(ascending=False)[0:100]"
   ]
  },
  {
   "cell_type": "code",
   "execution_count": null,
   "metadata": {},
   "outputs": [],
   "source": [
    "tdata.raw.var['to 5']"
   ]
  },
  {
   "cell_type": "code",
   "execution_count": null,
   "metadata": {},
   "outputs": [],
   "source": [
    "lin_drivers=tdata.raw.var['to 5']\n"
   ]
  },
  {
   "cell_type": "code",
   "execution_count": null,
   "metadata": {},
   "outputs": [],
   "source": [
    "DEgenes=bc.tl.dge.get_de(tdata,'leiden',demethod='wilcoxon',topnr=5000, logfc=1,padj=0.05)\n"
   ]
  },
  {
   "cell_type": "code",
   "execution_count": null,
   "metadata": {},
   "outputs": [],
   "source": [
    "### Select only top genes (in order of p-val) for 2 clusters  plot expression per cluster\n",
    "tops=list(DEgenes['8']['Name'][0:20])+list(DEgenes['9']['Name'][0:20])\n",
    "sc.pl.dotplot(adata, var_names=tops,groupby='leiden',dendrogram=True)"
   ]
  },
  {
   "cell_type": "code",
   "execution_count": null,
   "metadata": {},
   "outputs": [],
   "source": [
    "sc.pl.umap(tdata,color=list(lin_drivers_r.sort_values(ascending=True).index[0:8]))\n"
   ]
  },
  {
   "cell_type": "code",
   "execution_count": null,
   "metadata": {},
   "outputs": [],
   "source": [
    "sc.pl.umap(tdata,color=list(lin_drivers_tf.sort_values(ascending=True).index[0:8]))\n"
   ]
  },
  {
   "cell_type": "code",
   "execution_count": null,
   "metadata": {},
   "outputs": [],
   "source": [
    "sc.pl.umap(tdata,color=list(lin_drivers_nr.sort_values(ascending=False).index[0:8]))\n"
   ]
  },
  {
   "cell_type": "code",
   "execution_count": null,
   "metadata": {},
   "outputs": [],
   "source": [
    "choice.intersection(DEgenes['8']['Name'])\n"
   ]
  },
  {
   "cell_type": "code",
   "execution_count": null,
   "metadata": {},
   "outputs": [],
   "source": [
    "choice.intersection(DEgenes['15']['Name'])"
   ]
  },
  {
   "cell_type": "code",
   "execution_count": null,
   "metadata": {},
   "outputs": [],
   "source": [
    "sc.pl.umap(rdata,color=['IRF8','LRRN3','ADTRP', 'DGKA','WDR41','WDR70','TFAM','AKT2'])\n"
   ]
  },
  {
   "cell_type": "code",
   "execution_count": null,
   "metadata": {},
   "outputs": [],
   "source": [
    "sc.pl.umap(tfdata,color=list(lin_drivers_r[list(choice)].sort_values(ascending=True).index[0:8]))\n"
   ]
  },
  {
   "cell_type": "code",
   "execution_count": null,
   "metadata": {},
   "outputs": [],
   "source": [
    "subdata.var['to 5'].sort_values(ascending=False).to_csv(figdir+'/CellRank_TopLineageGenes_'+velosubset+'-'+mysubset+'_'+subcat+'_tdata.tsv',sep='\\t')\n"
   ]
  },
  {
   "cell_type": "code",
   "execution_count": null,
   "metadata": {},
   "outputs": [],
   "source": [
    "list(subdata.var['to 5'].sort_values(ascending=False).index[0:20])\n"
   ]
  },
  {
   "cell_type": "code",
   "execution_count": null,
   "metadata": {},
   "outputs": [],
   "source": [
    "list(subdata.var['to 5'].sort_values(ascending=True).index[0:20])\n"
   ]
  },
  {
   "cell_type": "code",
   "execution_count": null,
   "metadata": {},
   "outputs": [],
   "source": [
    "cr.pl.lineage_drivers(subdata, lineage=\"5\", n_genes=10)\n"
   ]
  },
  {
   "cell_type": "code",
   "execution_count": null,
   "metadata": {},
   "outputs": [],
   "source": [
    "rdata.obs['leidenvar']=rdata.obs['leiden']"
   ]
  },
  {
   "cell_type": "code",
   "execution_count": null,
   "metadata": {},
   "outputs": [],
   "source": [
    "rdata.obs['leidenvar']=rdata.obs['leidenvar'].replace('0','8')\n",
    "rdata.obs['leidenvar']=rdata.obs['leidenvar'].replace('13','15')\n",
    "rdata.obs['leidenvar']=rdata.obs['leidenvar'].replace('16','10')\n",
    "rdata.obs['leidenvar']=rdata.obs['leidenvar'].replace('11','5')"
   ]
  },
  {
   "cell_type": "code",
   "execution_count": null,
   "metadata": {},
   "outputs": [],
   "source": [
    "scv.tl.rank_dynamical_genes(rdata, groupby='leidenvar')\n",
    "df = scv.get_df(rdata, 'rank_dynamical_genes/names')\n",
    "df.head(10)\n"
   ]
  },
  {
   "cell_type": "code",
   "execution_count": null,
   "metadata": {},
   "outputs": [],
   "source": [
    "scv.tl.rank_dynamical_genes(tdata, groupby='leiden')\n"
   ]
  },
  {
   "cell_type": "code",
   "execution_count": null,
   "metadata": {},
   "outputs": [],
   "source": [
    "df = scv.get_df(tdata, 'rank_dynamical_genes/names')\n",
    "df.head(10)\n"
   ]
  },
  {
   "cell_type": "code",
   "execution_count": null,
   "metadata": {},
   "outputs": [],
   "source": [
    "df.head(50).to_csv(figdir+'/TopDynamicGenesPerCluster_'+velosubset+'-'+mysubset+'_'+subcat+'_loom-dyn_Top50Ranked.tdata.tsv',sep='\\t')\n"
   ]
  },
  {
   "cell_type": "code",
   "execution_count": null,
   "metadata": {},
   "outputs": [],
   "source": [
    "cdata=tdata.copy()"
   ]
  },
  {
   "cell_type": "code",
   "execution_count": null,
   "metadata": {},
   "outputs": [],
   "source": [
    "transitiongenes1=cdata.raw.var['to 5'][list(df.head(50)['10'])][np.abs(cdata.raw.var['to 5'][list(df.head(50)['10'])])>0.01].sort_values()\n",
    "transitiongenes2=cdata.raw.var['to 5'][list(df.head(50)['16'])][np.abs(cdata.raw.var['to 5'][list(df.head(50)['16'])])>0.01].sort_values()\n",
    "initialgenes=list(set(transitiongenes1.index).union(set(transitiongenes2.index)))\n",
    "\n",
    "transitiongenes1=cdata.raw.var['to 5'][list(df.head(50)['3'])][np.abs(cdata.raw.var['to 5'][list(df.head(50)['3'])])>0.01].sort_values()\n",
    "transitiongenes2=cdata.raw.var['to 5'][list(df.head(50)['1'])][np.abs(cdata.raw.var['to 5'][list(df.head(50)['1'])])>0.01].sort_values()\n",
    "transitiongenes=list(set(transitiongenes1.index).union(set(transitiongenes2.index)))\n",
    "\n",
    "tamcxgenes1=cdata.raw.var['to 5'][list(df.head(50)['8'])][np.abs(cdata.raw.var['to 5'][list(df.head(50)['8'])])>0.01].sort_values()\n",
    "tamcxgenes2=cdata.raw.var['to 5'][list(df.head(50)['9'])][np.abs(cdata.raw.var['to 5'][list(df.head(50)['9'])])>0.01].sort_values()\n",
    "tamcxgenes=list(set(tamcxgenes1.index).union(set(tamcxgenes2.index)))\n",
    "\n",
    "tamcxgenes1=cdata.raw.var['to 5'][list(df.head(50)['13'])][np.abs(cdata.raw.var['to 5'][list(df.head(50)['13'])])>0.01].sort_values()\n",
    "tamcxgenes2=cdata.raw.var['to 5'][list(df.head(50)['15'])][np.abs(cdata.raw.var['to 5'][list(df.head(50)['15'])])>0.01].sort_values()\n",
    "ccgenes=list(set(tamcxgenes1.index).union(set(tamcxgenes2.index)))\n",
    "\n",
    "tamcxgenes1=cdata.raw.var['to 5'][list(df.head(50)['11'])][np.abs(cdata.raw.var['to 5'][list(df.head(50)['11'])])>0.01].sort_values()\n",
    "tamcxgenes2=cdata.raw.var['to 5'][list(df.head(50)['5'])][np.abs(cdata.raw.var['to 5'][list(df.head(50)['5'])])>0.01].sort_values()\n",
    "tamcxgenes3=cdata.raw.var['to 5'][list(df.head(50)['6'])][np.abs(cdata.raw.var['to 5'][list(df.head(50)['6'])])>0.01].sort_values()\n",
    "exhgenes=list(set(tamcxgenes1.index).union(set(tamcxgenes2.index)).union(set(tamcxgenes3.index)))\n"
   ]
  },
  {
   "cell_type": "code",
   "execution_count": null,
   "metadata": {},
   "outputs": [],
   "source": [
    "aall=list(set(transitiongenes).union(set(initialgenes)).union(set(tamcxgenes)).union(set(ccgenes)).union(set(exhgenes)))"
   ]
  },
  {
   "cell_type": "code",
   "execution_count": null,
   "metadata": {},
   "outputs": [],
   "source": [
    "set(aall)"
   ]
  },
  {
   "cell_type": "code",
   "execution_count": null,
   "metadata": {},
   "outputs": [],
   "source": [
    "#set(tamcxgenes)"
   ]
  },
  {
   "cell_type": "code",
   "execution_count": null,
   "metadata": {},
   "outputs": [],
   "source": [
    "#set(initialgenes).union(set(transitiongenes)).union(set(tamcxgenes))-set(ccgenes)-set(exhgenes)"
   ]
  },
  {
   "cell_type": "code",
   "execution_count": null,
   "metadata": {},
   "outputs": [],
   "source": [
    "a1=list(set(initialgenes).union(set(transitiongenes))-set(ccgenes)-set(exhgenes))\n",
    "#union(set(tamcxgenes))\n",
    "a2=list(set(ccgenes)-set(exhgenes)-set(initialgenes))\n",
    "a3=list(set(exhgenes)-set(initialgenes).union(set(transitiongenes)))\n"
   ]
  },
  {
   "cell_type": "code",
   "execution_count": null,
   "metadata": {},
   "outputs": [],
   "source": [
    "a3"
   ]
  },
  {
   "cell_type": "code",
   "execution_count": null,
   "metadata": {},
   "outputs": [],
   "source": [
    "#cdata.var['to 5'].sort_values(ascending=True)[0:30]\n",
    "scv.pl.heatmap(cdata, var_names=aall, sortby='latent_time', \n",
    "               col_color='leiden', n_convolve=30,show=True,\n",
    "               row_cluster=True,\n",
    "               font_scale=0.6,  figsize=(6, 12))\n"
   ]
  },
  {
   "cell_type": "code",
   "execution_count": null,
   "metadata": {},
   "outputs": [],
   "source": [
    "#cdata.var['to 5'].sort_values(ascending=True)[0:30]\n",
    "scv.pl.heatmap(cdata, var_names=a2, sortby='latent_time', \n",
    "               col_color='leiden', n_convolve=30,show=True,\n",
    "               row_cluster=True,\n",
    "               font_scale=0.6,  figsize=(6, 7))\n"
   ]
  },
  {
   "cell_type": "code",
   "execution_count": null,
   "metadata": {
    "scrolled": false
   },
   "outputs": [],
   "source": [
    "#cdata.var['to 5'].sort_values(ascending=True)[0:30]\n",
    "scv.pl.heatmap(cdata, var_names=a1, sortby='latent_time', \n",
    "               col_color='leiden', n_convolve=30,show=True,\n",
    "               row_cluster=True,\n",
    "               font_scale=0.6,  figsize=(6, 7))\n"
   ]
  },
  {
   "cell_type": "code",
   "execution_count": null,
   "metadata": {},
   "outputs": [],
   "source": [
    "ssdata=tdata[tdata.obs['Sample type']=='TIL'].copy()\n",
    "#ssdata=tdata[tdata.obs['leiden'].isin(['8','9','15'])].copy()\n",
    "\n",
    "#=bc.tl.dge.get_de(subdataa,'RCat',demethod='wilcoxon',topnr=5000, logfc=np.log(1.5),padj=0.1)\n",
    "### try on individual tissues separately\n",
    "b1DE=bc.tl.dge.get_de(ssdata[ssdata.obs['Lesion'].isin(['LN'])].copy(),'Respond',topnr=5000, logfc=np.log(1.5),padj=0.1)\n",
    "b2DE=bc.tl.dge.get_de(ssdata[ssdata.obs['Lesion'].isin(['Brain'])].copy(),'Respond',topnr=5000, logfc=np.log(1.5),padj=0.1)\n",
    "b3DE=bc.tl.dge.get_de(ssdata[ssdata.obs['Lesion'].isin(['Lung','Sinon','Subc'])].copy(),'Respond',topnr=5000, logfc=np.log(1.5),padj=0.1)\n",
    "\n",
    "allDE1=bc.tl.dge.get_de(ssdata[ssdata.obs['Response3'].isin(['R','NR'])],'Respond',topnr=5000, logfc=np.log(1.5),padj=0.1)\n",
    "allDE2=bc.tl.dge.get_de(ssdata[ssdata.obs['Response3'].isin(['TF','PD'])],'Respond',topnr=5000, logfc=np.log(1.5),padj=0.1)\n",
    "allDE=bc.tl.dge.get_de(ssdata,'Respond',topnr=5000, logfc=np.log(1.5),padj=0.1)\n",
    "\n"
   ]
  },
  {
   "cell_type": "code",
   "execution_count": null,
   "metadata": {},
   "outputs": [],
   "source": [
    "### Intersection of all combinations\n",
    "strDE=set(b1DE['PD']['Name']).intersection(set(allDE['PD']['Name'])).intersection((set(b2DE['PD']['Name'])).intersection(set(b3DE['PD']['Name']))).intersection((set(allDE1['PD']['Name'])).intersection(set(allDE2['PD']['Name'])))\n",
    "strDE2=set(b1DE['R']['Name']).intersection(set(allDE['R']['Name'])).intersection((set(b2DE['R']['Name'])).intersection(set(b3DE['R']['Name']))).intersection((set(allDE1['R']['Name'])).intersection(set(allDE2['R']['Name'])))\n",
    "\n"
   ]
  },
  {
   "cell_type": "code",
   "execution_count": null,
   "metadata": {},
   "outputs": [],
   "source": [
    "strDE"
   ]
  },
  {
   "cell_type": "code",
   "execution_count": null,
   "metadata": {},
   "outputs": [],
   "source": [
    "strDE2"
   ]
  },
  {
   "cell_type": "code",
   "execution_count": null,
   "metadata": {},
   "outputs": [],
   "source": [
    "### Complete comparison + LN only + Brain | Others + RvsNR | PDvsTF\n",
    "strDE=set(b1DE['PD']['Name']).intersection(set(allDE['PD']['Name'])).intersection((set(b2DE['PD']['Name'])).union(set(b3DE['PD']['Name']))).intersection((set(allDE1['PD']['Name'])).union(set(allDE2['PD']['Name'])))\n",
    "strDE2=set(b1DE['R']['Name']).intersection(set(allDE['R']['Name'])).intersection((set(b2DE['R']['Name'])).union(set(b3DE['R']['Name']))).intersection((set(allDE1['R']['Name'])).union(set(allDE2['R']['Name'])))\n",
    "\n"
   ]
  },
  {
   "cell_type": "code",
   "execution_count": null,
   "metadata": {},
   "outputs": [],
   "source": [
    "strDE"
   ]
  },
  {
   "cell_type": "code",
   "execution_count": null,
   "metadata": {},
   "outputs": [],
   "source": [
    "strDE2"
   ]
  },
  {
   "cell_type": "code",
   "execution_count": null,
   "metadata": {},
   "outputs": [],
   "source": [
    "sc.pl.umap(cdata,color=list(cdata.var['to 5'][transitiongenes].sort_values().index))\n"
   ]
  },
  {
   "cell_type": "code",
   "execution_count": null,
   "metadata": {},
   "outputs": [],
   "source": [
    "tmp=cdata.var['to 5'][list(set(tamcxgenes)-set(transitiongenes)-set(exhgenes))].sort_values()\n",
    "tmp"
   ]
  },
  {
   "cell_type": "code",
   "execution_count": null,
   "metadata": {},
   "outputs": [],
   "source": [
    "sc.pl.umap(cdata,color=list(tmp.sort_values().index))\n"
   ]
  },
  {
   "cell_type": "code",
   "execution_count": null,
   "metadata": {},
   "outputs": [],
   "source": [
    "scv.pl.velocity(cdata, ['CRTAM', 'IL7R','PLAUR'], ncols=2, add_outline=True)\n"
   ]
  },
  {
   "cell_type": "code",
   "execution_count": null,
   "metadata": {},
   "outputs": [],
   "source": [
    "ofinterest=set([item for sublist in df.head(50).values.tolist() for item in sublist])\n",
    "ofinterest=cdata.var['to 5'][list(ofinterest)][np.abs(cdata.var['to 5'][list(ofinterest)])>0.1]\n"
   ]
  },
  {
   "cell_type": "code",
   "execution_count": null,
   "metadata": {},
   "outputs": [],
   "source": [
    "ofinterest.sort_values()"
   ]
  },
  {
   "cell_type": "code",
   "execution_count": null,
   "metadata": {},
   "outputs": [],
   "source": [
    "velogenes=cdata.var.loc[(adata.var['velocity_genes']==True)&(cdata.var['fit_likelihood']>.1),:]\n"
   ]
  },
  {
   "cell_type": "code",
   "execution_count": null,
   "metadata": {},
   "outputs": [],
   "source": [
    "list(set(velogenes.index))"
   ]
  },
  {
   "cell_type": "code",
   "execution_count": null,
   "metadata": {},
   "outputs": [],
   "source": [
    "len(set(ofinterest.index)-set(velogenes.index))/len(set(ofinterest)) ## How many are specific \n"
   ]
  },
  {
   "cell_type": "code",
   "execution_count": null,
   "metadata": {},
   "outputs": [],
   "source": [
    "ofinterest=ofinterest[list(set(ofinterest.index).intersection(set(velogenes.index)))].sort_values()\n"
   ]
  },
  {
   "cell_type": "code",
   "execution_count": null,
   "metadata": {},
   "outputs": [],
   "source": [
    "top_genes = cdata.var['fit_likelihood'].sort_values(ascending=False).index#[:300]\n",
    "top_genes1=cdata.var['fit_likelihood'].sort_values(ascending=False).index[:250]\n"
   ]
  },
  {
   "cell_type": "code",
   "execution_count": null,
   "metadata": {},
   "outputs": [],
   "source": [
    "invelo=[]\n",
    "for x in list(top_genes):\n",
    "    invelo=invelo+list(set([x]).intersection(set(velogenes.index)))\n",
    "\n",
    "\n",
    "scv.pl.heatmap(cdata, var_names=list(ofinterest.index), sortby='latent_time', \n",
    "               col_color='leiden', n_convolve=30,show=True,\n",
    "               font_scale=0.6,  figsize=(6, 7))\n"
   ]
  },
  {
   "cell_type": "code",
   "execution_count": null,
   "metadata": {},
   "outputs": [],
   "source": [
    "scv.pl.heatmap(cdata, var_names=list(ofinterest.index), sortby='latent_time', \n",
    "               col_color='celltype3_pub', n_convolve=30,show=True,row_cluster=True,\n",
    "               font_scale=0.6,  figsize=(6, 7))\n",
    "\n"
   ]
  },
  {
   "cell_type": "code",
   "execution_count": null,
   "metadata": {},
   "outputs": [],
   "source": [
    "sc.pl.umap(cdata,color=list(ofinterest.index))"
   ]
  },
  {
   "cell_type": "code",
   "execution_count": null,
   "metadata": {},
   "outputs": [],
   "source": [
    "#ddata=subdata.copy()\n",
    "ddata=tdata.copy()"
   ]
  },
  {
   "cell_type": "code",
   "execution_count": null,
   "metadata": {},
   "outputs": [],
   "source": [
    "sc.pl.umap(ddata,color=['latent_time','leiden'])"
   ]
  },
  {
   "cell_type": "code",
   "execution_count": null,
   "metadata": {},
   "outputs": [],
   "source": [
    "#ddata=ddata[ddata.obs['Sample type'].isin(['TIL'])].copy()\n",
    "#ddata=ddata[ddata.obs['leiden'].isin(['9','8','0','5','6','4','11','2','15','13','12','14'])].copy()\n",
    "#ddata=ddata[ddata.obs['celltype3_pub'].isin(['cytokine secreting effector CD8-positive T cell',\n",
    "#                                             'exhausted-like CD8-positive T cell'])].copy()"
   ]
  },
  {
   "cell_type": "code",
   "execution_count": null,
   "metadata": {},
   "outputs": [],
   "source": [
    "#set(adata.obs['celltype3_pub'])"
   ]
  },
  {
   "cell_type": "code",
   "execution_count": null,
   "metadata": {},
   "outputs": [],
   "source": [
    "sc.pl.umap(ddata,color=['latent_time','leiden'])"
   ]
  },
  {
   "cell_type": "code",
   "execution_count": null,
   "metadata": {},
   "outputs": [],
   "source": [
    "sc.pl.umap(ddata,color=['leiden'], legend_loc='on data')"
   ]
  },
  {
   "cell_type": "code",
   "execution_count": null,
   "metadata": {},
   "outputs": [],
   "source": [
    "exh=['LAG3','CD38','PDCD1','ENTPD1','ITGAE','HAVCR2','CTLA4','TOX',\n",
    "     'LAYN','IFNG','PRF1','GNLY','XCL1','XCL2','GZMM','KLRB1','ITGB1', 'ARL4C','IL7R','CCR7','SELL','TCF7',]\n",
    "sc.pl.dotplot(ddata,var_names=exh,groupby='celltype3_pub')"
   ]
  },
  {
   "cell_type": "code",
   "execution_count": null,
   "metadata": {},
   "outputs": [],
   "source": [
    "sc.pl.dotplot(ddata,var_names=exh,groupby='leiden', dendrogram=True)"
   ]
  },
  {
   "cell_type": "code",
   "execution_count": null,
   "metadata": {},
   "outputs": [],
   "source": [
    "ddata=tdata.copy()\n",
    "#ddata=ddata[ddata.obs['Sample type'].isin(['TIL'])].copy()\n",
    "#ddata=ddata[ddata.obs['Sample type'].isin(['TIL'])].copy()\n",
    "#ddata=ddata[ddata.obs['Sample type'].isin(['TIL'])].copy()\n"
   ]
  },
  {
   "cell_type": "code",
   "execution_count": null,
   "metadata": {},
   "outputs": [],
   "source": [
    "ddata.obs['R_clus']=ddata.obs['RCat'].astype(str)+'-'+[x.replace(\"-\", \"_\") for x in ddata.obs['leiden'].astype(str)]\n",
    "ddata.obs['Pat_clus']=ddata.obs['PatientID'].astype(str)+'-'+[x.replace(\"-\", \"_\") for x in ddata.obs['leiden'].astype(str)]\n",
    "dfPat = ddata.obs.groupby('Pat_clus')['velocity_length', 'velocity_confidence','latent_time'].mean().T"
   ]
  },
  {
   "cell_type": "code",
   "execution_count": null,
   "metadata": {},
   "outputs": [],
   "source": [
    "dfPat.to_csv(figdir+'Velocity-per_patient'+velosubset+'-'+mysubset+'-'+subcat+'-newest.tsv',sep='\\t')"
   ]
  },
  {
   "cell_type": "code",
   "execution_count": null,
   "metadata": {},
   "outputs": [],
   "source": [
    "dfPat"
   ]
  },
  {
   "cell_type": "code",
   "execution_count": null,
   "metadata": {},
   "outputs": [],
   "source": [
    "Resp=[ddata[ddata.obs['PatientID']==x.split('-')[0]].obs['RCat'][0] for x in list(dfPat.columns)]\n",
    "PatientID=[x.split('-')[0]  for x in list(dfPat.columns)]\n",
    "ClusterID=[x.split('-')[1]  for x in list(dfPat.columns)]"
   ]
  },
  {
   "cell_type": "code",
   "execution_count": null,
   "metadata": {},
   "outputs": [],
   "source": [
    "mydf=pd.DataFrame([list(dfPat.loc['velocity_length',:]),Resp,PatientID,ClusterID]).transpose()\n",
    "mydf.index=dfPat.columns\n",
    "mydf.columns=['velocity_length','Response','PatientID','Cluster']\n",
    "\n",
    "mydfl=pd.DataFrame([list(dfPat.loc['latent_time',:]),Resp,PatientID,ClusterID]).transpose()\n",
    "mydfl.index=dfPat.columns\n",
    "mydfl.columns=['latent_time','Response','PatientID','Cluster']"
   ]
  },
  {
   "cell_type": "code",
   "execution_count": null,
   "metadata": {},
   "outputs": [],
   "source": [
    "mydf.groupby('PatientID', as_index=False)['velocity_length']"
   ]
  },
  {
   "cell_type": "code",
   "execution_count": null,
   "metadata": {},
   "outputs": [],
   "source": [
    "color_dict = {'R': 'coral', 'TF': 'firebrick', 'NR_nadj': 'lightskyblue','NR_adj': 'royalblue'}"
   ]
  },
  {
   "cell_type": "markdown",
   "metadata": {},
   "source": [
    "#### Velocity test first"
   ]
  },
  {
   "cell_type": "code",
   "execution_count": null,
   "metadata": {},
   "outputs": [],
   "source": [
    "#corder=['8','6','1','21']\n",
    "mydf['velocity_length']=mydf['velocity_length'].astype('float')\n",
    "velMean=mydf.groupby('PatientID')['velocity_length'].mean()\n",
    "patid=[ddata[ddata.obs['PatientID']==x.split('-')[0]].obs['RCat'][0]  for x in list(velMean.index)]\n",
    "totest=pd.DataFrame([list(velMean),patid]).transpose()\n",
    "totest.columns=['Val','Cat']"
   ]
  },
  {
   "cell_type": "code",
   "execution_count": null,
   "metadata": {},
   "outputs": [],
   "source": [
    "ss.mannwhitneyu(list(totest.loc[totest['Cat']=='R',:]['Val']),list(totest.loc[totest['Cat']=='NR_nadj',:]['Val']))"
   ]
  },
  {
   "cell_type": "code",
   "execution_count": null,
   "metadata": {},
   "outputs": [],
   "source": [
    "ss.mannwhitneyu(list(totest.loc[totest['Cat']=='TF',:]['Val']),list(totest.loc[totest['Cat']=='NR_adj',:]['Val']))"
   ]
  },
  {
   "cell_type": "code",
   "execution_count": null,
   "metadata": {},
   "outputs": [],
   "source": [
    "set(mydf['Response'])"
   ]
  },
  {
   "cell_type": "code",
   "execution_count": null,
   "metadata": {},
   "outputs": [],
   "source": [
    "totestk=totest.copy()"
   ]
  },
  {
   "cell_type": "code",
   "execution_count": null,
   "metadata": {},
   "outputs": [],
   "source": [
    "fig=sns.boxplot(y='Val',x='Cat',data=totestk,palette=color_dict,order=['R','TF','NR_nadj','NR_adj'])\n",
    "fig=sns.swarmplot(x='Cat',y='Val',data=totestk,color='black',order=['R','TF','NR_nadj','NR_adj'])\n",
    "#fig.figure.savefig(figdir+'Velocitylen-'+velosubset+'-'+mysubset+'-'+subcat+'-per-response.subsettrajectorymap.pdf')\n",
    "#fig.figure.savefig(figdir+'Velocitylen-'+velosubset+'-'+mysubset+'-'+subcat+'-per-response.subsettrajectorymap.svg', format='svg', bbox_inches=\"tight\", dpi=300)"
   ]
  },
  {
   "cell_type": "code",
   "execution_count": null,
   "metadata": {},
   "outputs": [],
   "source": [
    "fig=sns.boxplot(y='Val',x='Cat',data=totestk,palette=color_dict,order=['R','TF','NR_nadj','NR_adj'])\n",
    "fig=sns.swarmplot(x='Cat',y='Val',data=totestk,color='black',order=['R','TF','NR_nadj','NR_adj'])\n",
    "#fig.figure.savefig(figdir+'Velocitylen-'+velosubset+'-'+mysubset+'-'+subcat+'-per-response.subsettrajectorymap.pdf')\n",
    "fig.figure.savefig(figdir+'Velocitylen-'+velosubset+'-'+mysubset+'-'+subcat+'-per-response.subsettrajectorymap.svg', format='svg', bbox_inches=\"tight\", dpi=300)"
   ]
  },
  {
   "cell_type": "code",
   "execution_count": null,
   "metadata": {},
   "outputs": [],
   "source": [
    "totest=list(itertools.combinations(['R','TF','NR_nadj','NR_adj'], 2))\n",
    "pwilc={}\n",
    "pt={}\n",
    "for pairs in totest:\n",
    "    pwilc[pairs[0]+'-'+pairs[1]]=stats.mannwhitneyu(list(totestk.loc[totestk['Cat']==pairs[0],:]['Val']), \n",
    "                           list(totestk.loc[totestk['Cat']==pairs[1],:]['Val']))[1]\n",
    "    pt[pairs[0]+'-'+pairs[1]]=stats.ttest_ind(list(totestk.loc[totestk['Cat']==pairs[0],:]['Val']), \n",
    "                           list(totestk.loc[totestk['Cat']==pairs[1],:]['Val']))[1]\n",
    "\n",
    "myps=pd.DataFrame([pwilc,pt]).transpose()\n",
    "myps.columns=['MannWhitney','T-test']\n",
    "\n",
    "#myps.to_csv(figdir+'Pval-Velocitylen-'+velosubset+'-'+mysubset+'-'+subcat+'-per-response.subsettrajectorymap.csv',sep='\\t')"
   ]
  },
  {
   "cell_type": "code",
   "execution_count": null,
   "metadata": {},
   "outputs": [],
   "source": [
    "myps"
   ]
  },
  {
   "cell_type": "code",
   "execution_count": null,
   "metadata": {},
   "outputs": [],
   "source": [
    "corder=list(set(mydf['Cluster']))"
   ]
  },
  {
   "cell_type": "code",
   "execution_count": null,
   "metadata": {},
   "outputs": [],
   "source": [
    "#corder=['15','14','1','9','8','0','11','6','5']\n",
    "for i in corder:\n",
    "    sns.boxplot(y='velocity_length',x='Response',data=mydf.loc[mydf['Cluster']==i,:],\n",
    "                palette=color_dict,order=['R','TF','NR_nadj','NR_adj'])\n",
    "    sns.swarmplot(x='Response',y='velocity_length',data=mydf.loc[mydf['Cluster']==i,:],\n",
    "                  color='black',order=['R','TF','NR_nadj','NR_adj'])\n",
    "    print('Cluster '+i)\n",
    "    plt.figure()"
   ]
  },
  {
   "cell_type": "markdown",
   "metadata": {},
   "source": [
    "#### Latent time next"
   ]
  },
  {
   "cell_type": "code",
   "execution_count": null,
   "metadata": {},
   "outputs": [],
   "source": [
    "mydfl"
   ]
  },
  {
   "cell_type": "code",
   "execution_count": null,
   "metadata": {},
   "outputs": [],
   "source": [
    "#corder=['8','6','1','21']\n",
    "mydfl['latent_time']=mydfl['latent_time'].astype('float')\n",
    "velMean=mydfl.groupby('PatientID')['latent_time'].mean()\n",
    "patid=[ddata[ddata.obs['PatientID']==x.split('-')[0]].obs['RCat'][0]  for x in list(velMean.index)]\n",
    "totest=pd.DataFrame([list(velMean),patid]).transpose()\n",
    "totest.columns=['Val','Cat']\n",
    "\n",
    "ss.mannwhitneyu(list(totest.loc[totest['Cat']=='R',:]['Val']),list(totest.loc[totest['Cat']=='NR_nadj',:]['Val']))\n",
    "\n"
   ]
  },
  {
   "cell_type": "code",
   "execution_count": null,
   "metadata": {},
   "outputs": [],
   "source": [
    "ss.mannwhitneyu(list(totest.loc[totest['Cat']=='TF',:]['Val']),list(totest.loc[totest['Cat']=='NR_adj',:]['Val']))"
   ]
  },
  {
   "cell_type": "code",
   "execution_count": null,
   "metadata": {},
   "outputs": [],
   "source": [
    "totestk=totest.copy()"
   ]
  },
  {
   "cell_type": "code",
   "execution_count": null,
   "metadata": {},
   "outputs": [],
   "source": [
    "import matplotlib.pyplot as plt\n",
    "plt.rcParams[\"figure.figsize\"] = (3,4)"
   ]
  },
  {
   "cell_type": "code",
   "execution_count": null,
   "metadata": {},
   "outputs": [],
   "source": [
    "fig=sns.boxplot(y='Val',x='Cat',data=totestk,palette=color_dict,order=['R','TF','NR_nadj','NR_adj'])\n",
    "fig=sns.swarmplot(x='Cat',y='Val',data=totestk,color='black',order=['R','TF','NR_nadj','NR_adj'])\n",
    "#fig.figure.savefig(figdir+'LatentTime-'+velosubset+'-'+mysubset+'-'+subcat+'-per-response.subsettrajectorymap-allTILs.svg')\n"
   ]
  },
  {
   "cell_type": "code",
   "execution_count": null,
   "metadata": {},
   "outputs": [],
   "source": [
    "fig=sns.boxplot(y='Val',x='Cat',data=totestk,palette=color_dict,order=['R','TF','NR_nadj','NR_adj'])\n",
    "fig=sns.swarmplot(x='Cat',y='Val',data=totestk,color='black',order=['R','TF','NR_nadj','NR_adj'])\n",
    "#fig.figure.savefig(figdir+'LatentTime-'+velosubset+'-'+mysubset+'-'+subcat+'-per-response.subsettrajectorymap-allTILs.svg')\n",
    "fig.figure.savefig(figdir+'LatentTime-'+velosubset+'-'+mysubset+'-'+subcat+'-per-response.subsettrajectorymap.svg', format='svg', bbox_inches=\"tight\", dpi=300)"
   ]
  },
  {
   "cell_type": "code",
   "execution_count": null,
   "metadata": {},
   "outputs": [],
   "source": [
    "#sc.pl.umap(ddata, color=['latent_time', 'dpt_pseudotime'])\n",
    "sc.pl.umap(ddata, color=['latent_time'])"
   ]
  },
  {
   "cell_type": "code",
   "execution_count": null,
   "metadata": {},
   "outputs": [],
   "source": [
    "i='5'\n",
    "sns.boxplot(y='latent_time',x='Response',data=mydfl.loc[mydfl['Cluster'].isin([i]),:],\n",
    "                palette=color_dict,order=['R','TF','NR_nadj','NR_adj'])\n",
    "sns.swarmplot(x='Response',y='latent_time',data=mydfl.loc[mydfl['Cluster'].isin([i]),:],\n",
    "                  color='black',order=['R','TF','NR_nadj','NR_adj']).set_title('Cluster ' + i)\n"
   ]
  },
  {
   "cell_type": "code",
   "execution_count": null,
   "metadata": {},
   "outputs": [],
   "source": [
    "### Cluster 9 p=0.018; 8 0.018; 11 0.037; 0 0.068\n",
    "### Cluster 9 0.035; 8 0.035; 11 0.07; 0 0.14; 6 0.39; 5 0.14\n",
    "tmp=mydfl.loc[mydfl['Cluster'].isin([i]),:].copy()\n",
    "a1=ss.mannwhitneyu(list(tmp.loc[tmp['Response']=='R',:]['latent_time']),list(tmp.loc[tmp['Response']=='NR_nadj',:]['latent_time']))\n"
   ]
  },
  {
   "cell_type": "code",
   "execution_count": null,
   "metadata": {},
   "outputs": [],
   "source": [
    "a2=ss.mannwhitneyu(list(tmp.loc[tmp['Response']=='TF',:]['latent_time']),list(tmp.loc[tmp['Response']=='NR_adj',:]['latent_time']))\n"
   ]
  },
  {
   "cell_type": "code",
   "execution_count": null,
   "metadata": {},
   "outputs": [],
   "source": [
    "pvals=pd.Series([a1[1], a2[1]])\n",
    "pvals.index=['R-NR','TF-NR']\n",
    "pvals"
   ]
  },
  {
   "cell_type": "code",
   "execution_count": null,
   "metadata": {},
   "outputs": [],
   "source": [
    "corder=list(set(mydf['Cluster']))\n",
    "pvalslist={}\n",
    "for i in corder:\n",
    "    fig=sns.boxplot(y='latent_time',x='Response',data=mydfl.loc[mydf['Cluster']==i,:],\n",
    "                palette=color_dict,order=['R','TF','NR_nadj','NR_adj'])\n",
    "    fig=sns.swarmplot(x='Response',y='latent_time',data=mydfl.loc[mydfl['Cluster']==i,:],\n",
    "                  color='black',order=['R','TF','NR_nadj','NR_adj']).set_title('Cluster '+i)\n",
    "    \n",
    "    tmp=mydfl.loc[mydfl['Cluster'].isin([i]),:].copy()\n",
    "    a1=ss.mannwhitneyu(list(tmp.loc[tmp['Response']=='R',:]['latent_time']),list(tmp.loc[tmp['Response']=='NR_nadj',:]['latent_time']))\n",
    "    a2=ss.mannwhitneyu(list(tmp.loc[tmp['Response']=='TF',:]['latent_time']),list(tmp.loc[tmp['Response']=='NR_adj',:]['latent_time']))\n",
    "    pvals=pd.Series([a1[1], a2[1]])\n",
    "    pvals.index=['R-NR','TF-NR']\n",
    "    pvalslist['Cluster_'+i]=pvals\n",
    "\n",
    "    print('Cluster '+i)\n",
    "    fig.figure.savefig(figdir+'LatentTime-'+velosubset+'-'+mysubset+'-'+subcat+'-per-response.subsettrajectorymap.cluster-'+i+'.svg', format='svg', bbox_inches=\"tight\", dpi=300)\n",
    "    plt.figure()"
   ]
  },
  {
   "cell_type": "code",
   "execution_count": null,
   "metadata": {},
   "outputs": [],
   "source": [
    "pd.DataFrame(pvalslist)"
   ]
  },
  {
   "cell_type": "code",
   "execution_count": null,
   "metadata": {},
   "outputs": [],
   "source": [
    "pd.DataFrame(pvalslist).to_csv(figdir+'LatentTimePerClusterPatient-'+velosubset+'-'+mysubset+'-'+subcat+'-per-response.pvals.subsettrajectorymap.csv',sep='\\t')"
   ]
  },
  {
   "cell_type": "code",
   "execution_count": null,
   "metadata": {},
   "outputs": [],
   "source": [
    "figdir"
   ]
  },
  {
   "cell_type": "code",
   "execution_count": null,
   "metadata": {},
   "outputs": [],
   "source": [
    "mydfl.to_csv(figdir+'LatentTimePerClusterPatient-'+velosubset+'-'+mysubset+'-'+subcat+'-per-response.subsettrajectorymap.csv',sep='\\t')"
   ]
  },
  {
   "cell_type": "code",
   "execution_count": null,
   "metadata": {},
   "outputs": [],
   "source": [
    "totestk"
   ]
  },
  {
   "cell_type": "code",
   "execution_count": null,
   "metadata": {},
   "outputs": [],
   "source": [
    "\n",
    "totestk.to_csv(figdir+'LatentTimePerPatient-'+velosubset+'-'+mysubset+'-'+subcat+'-per-response.subsettrajectorymap.csv',sep='\\t')"
   ]
  },
  {
   "cell_type": "code",
   "execution_count": null,
   "metadata": {},
   "outputs": [],
   "source": [
    "plt.figure(figsize=(4,3))\n",
    "mydat=ddata.obs.loc[:,['RCat','latent_time']]\n",
    "fig=sns.violinplot(x='RCat',y='latent_time',data=mydat, palette=color_dict, order=['R','TF','NR_nadj','NR_adj'])\n",
    "fig.figure.savefig(figdir+'LatentTime-'+velosubset+'-'+mysubset+'-'+subcat+'-per-response-violins.svg') \n"
   ]
  },
  {
   "cell_type": "code",
   "execution_count": null,
   "metadata": {},
   "outputs": [],
   "source": [
    "lt={}\n",
    "for resp in  list(color_dict.keys()):\n",
    "    lt[resp]=ddata[ddata.obs['RCat']==resp].obs['latent_time']\n",
    "mydat=ddata.obs.loc[:,['RCat','latent_time']]\n",
    "\n",
    "plt.figure(figsize=(4,3))\n",
    "myc=list(color_dict.values())\n",
    "i=0\n",
    "# Iterate through the five airlines\n",
    "for resp in list(color_dict.keys()):\n",
    "    subset = lt[resp]\n",
    "    sns.distplot(subset, hist = False, kde = True,\n",
    "                 kde_kws = {'linewidth': 3},\n",
    "                 label = resp,color=myc[i])\n",
    "    i=i+1\n",
    "\n",
    "# Plot formatting\n",
    "plt.legend(prop={'size': 10}, title = 'Responders')\n",
    "plt.title('Density Plot across Responses')\n",
    "plt.xlabel('Latent time')\n",
    "plt.ylabel('Density')\n",
    "#plt.savefig(outpath+'/LatentTime_RvsNR_CD8TNK_CCtoExh_TILonly.pdf')\n",
    "#plt.savefig(figdir+'LatentTime-'+velosubset+'-'+mysubset+'-'+subcat+'-per-response-desity.pdf')\n",
    "plt.savefig(figdir+'LatentTime-'+velosubset+'-'+mysubset+'-'+subcat+'.density.svg', format='svg', bbox_inches=\"tight\", dpi=300)"
   ]
  },
  {
   "cell_type": "code",
   "execution_count": null,
   "metadata": {},
   "outputs": [],
   "source": [
    "! jupyter nbconvert --to html scvelo-CD8T.ipynb"
   ]
  },
  {
   "cell_type": "code",
   "execution_count": null,
   "metadata": {},
   "outputs": [],
   "source": []
  }
 ],
 "metadata": {
  "kernelspec": {
   "display_name": "besca_py39_dev",
   "language": "python",
   "name": "besca_py39_dev"
  },
  "language_info": {
   "codemirror_mode": {
    "name": "ipython",
    "version": 3
   },
   "file_extension": ".py",
   "mimetype": "text/x-python",
   "name": "python",
   "nbconvert_exporter": "python",
   "pygments_lexer": "ipython3",
   "version": "3.9.12"
  }
 },
 "nbformat": 4,
 "nbformat_minor": 4
}
