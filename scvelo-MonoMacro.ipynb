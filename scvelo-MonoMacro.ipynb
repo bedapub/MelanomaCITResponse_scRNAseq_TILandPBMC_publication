{
 "cells": [
  {
   "cell_type": "code",
   "execution_count": null,
   "metadata": {},
   "outputs": [],
   "source": [
    "import scanpy as sc\n",
    "import besca as bc\n",
    "import os\n",
    "import bbknn\n",
    "import numpy as np\n",
    "import scvelo as scv\n",
    "import pandas as pd\n",
    "import cellrank as cr"
   ]
  },
  {
   "cell_type": "code",
   "execution_count": null,
   "metadata": {},
   "outputs": [],
   "source": [
    "import seaborn as sns\n",
    "import matplotlib.pyplot as plt\n",
    "import scipy.stats as ss\n",
    "from scipy import stats\n",
    "import itertools\n"
   ]
  },
  {
   "cell_type": "code",
   "execution_count": null,
   "metadata": {},
   "outputs": [],
   "source": [
    "color_dict = {'R': 'coral', 'TF': 'firebrick', 'NR_nadj': 'lightskyblue','NR_adj': 'royalblue'}\n"
   ]
  },
  {
   "cell_type": "code",
   "execution_count": null,
   "metadata": {},
   "outputs": [],
   "source": [
    "sc.logging.print_versions()"
   ]
  },
  {
   "cell_type": "code",
   "execution_count": null,
   "metadata": {},
   "outputs": [],
   "source": [
    "species='human'\n",
    "scv.settings.set_figure_params('scvelo')"
   ]
  },
  {
   "cell_type": "markdown",
   "metadata": {},
   "source": [
    "# Reading the h5ad"
   ]
  },
  {
   "cell_type": "code",
   "execution_count": null,
   "metadata": {},
   "outputs": [],
   "source": [
    "WD='/Fullanalysis/'\n",
    "analysis_name='sw_besca2_immune'\n",
    "dcdata=sc.read('/Fullanalysis/analyzed/sw_besca2_immune/sw_besca2_immune.annotated.filtered.h5ad')"
   ]
  },
  {
   "cell_type": "code",
   "execution_count": null,
   "metadata": {},
   "outputs": [],
   "source": [
    "outpath='Fullanalysis/analyzed/sw_besca2_immune/velocity/'"
   ]
  },
  {
   "cell_type": "code",
   "execution_count": null,
   "metadata": {},
   "outputs": [],
   "source": [
    "velosubset='MonoMacro'"
   ]
  },
  {
   "cell_type": "code",
   "execution_count": null,
   "metadata": {},
   "outputs": [],
   "source": [
    "set(dcdata.obs['celltype2_pub'])"
   ]
  },
  {
   "cell_type": "code",
   "execution_count": null,
   "metadata": {},
   "outputs": [],
   "source": [
    "sc.set_figure_params()"
   ]
  },
  {
   "cell_type": "code",
   "execution_count": null,
   "metadata": {},
   "outputs": [],
   "source": [
    "sc.pl.umap(dcdata, color=['leiden', 'leiden_TNK', 'Sample type'],legend_loc='on data', legend_fontsize=0.6)"
   ]
  },
  {
   "cell_type": "code",
   "execution_count": null,
   "metadata": {},
   "outputs": [],
   "source": [
    "sc.set_figure_params()\n",
    "import matplotlib.pyplot as plt\n",
    "plt.rcParams[\"figure.figsize\"] = (12,10)"
   ]
  },
  {
   "cell_type": "code",
   "execution_count": null,
   "metadata": {},
   "outputs": [],
   "source": [
    "sc.pl.umap(dcdata, color=['celltype3_rc_cells'], size=8)"
   ]
  },
  {
   "cell_type": "code",
   "execution_count": null,
   "metadata": {},
   "outputs": [],
   "source": [
    "sc.pl.umap(dcdata, color=['celltype3_merged'], size=8)"
   ]
  },
  {
   "cell_type": "code",
   "execution_count": null,
   "metadata": {},
   "outputs": [],
   "source": [
    "sc.set_figure_params()\n",
    "sc.pl.umap(dcdata,color=['CD8A','CD8B','CD4','CD3D'], color_map='viridis')"
   ]
  },
  {
   "cell_type": "code",
   "execution_count": null,
   "metadata": {},
   "outputs": [],
   "source": [
    "set(dcdata.obs['celltype3_pub'])"
   ]
  },
  {
   "cell_type": "code",
   "execution_count": null,
   "metadata": {},
   "outputs": [],
   "source": [
    "set(dcdata.obs['celltype2_pub'])"
   ]
  },
  {
   "cell_type": "code",
   "execution_count": null,
   "metadata": {},
   "outputs": [],
   "source": [
    "dcdata=dcdata[(dcdata.obs['celltype2_pub'].isin(['macrophage','classical monocyte','non-classical monocyte']))].copy()\n"
   ]
  },
  {
   "cell_type": "code",
   "execution_count": null,
   "metadata": {},
   "outputs": [],
   "source": [
    "dcdata.obs['leidenf']=dcdata.obs['leiden'].copy()"
   ]
  },
  {
   "cell_type": "code",
   "execution_count": null,
   "metadata": {},
   "outputs": [],
   "source": [
    "sc.pl.umap(dcdata, color=['leiden', 'celltype3_pub','celltype3', 'Sample type'])"
   ]
  },
  {
   "cell_type": "code",
   "execution_count": null,
   "metadata": {},
   "outputs": [],
   "source": [
    "sc.pl.umap(dcdata, color=['celltype3_pub'],legend_fontsize=8) #14, 34, 3, 31\n"
   ]
  },
  {
   "cell_type": "code",
   "execution_count": null,
   "metadata": {},
   "outputs": [],
   "source": [
    "sc.pl.umap(dcdata, color=['CD8A','CD8B','CD4','CD3D'])"
   ]
  },
  {
   "cell_type": "code",
   "execution_count": null,
   "metadata": {},
   "outputs": [],
   "source": [
    "sc.pl.umap(dcdata, color=['celltype3_rc_cells'],legend_fontsize=8) #14, 34, 3, 31\n"
   ]
  },
  {
   "cell_type": "code",
   "execution_count": null,
   "metadata": {},
   "outputs": [],
   "source": [
    "#sc.pp.neighbors(dcdata)\n",
    "bbknn.bbknn(dcdata, batch_key='PatientID', use_rep='X_pca')"
   ]
  },
  {
   "cell_type": "code",
   "execution_count": null,
   "metadata": {},
   "outputs": [],
   "source": [
    "sc.tl.diffmap(dcdata)\n",
    "\n",
    "\n",
    "sc.pp.neighbors(dcdata, n_neighbors=10, use_rep='X_diffmap')\n",
    "sc.tl.leiden(dcdata, resolution=0.75)\n",
    "\n",
    "\n",
    "sc.tl.paga(dcdata, groups='leiden')\n",
    "\n",
    "sc.pl.umap(dcdata,color='leiden')\n"
   ]
  },
  {
   "cell_type": "code",
   "execution_count": null,
   "metadata": {},
   "outputs": [],
   "source": [
    "sc.pl.paga(dcdata)\n"
   ]
  },
  {
   "cell_type": "code",
   "execution_count": null,
   "metadata": {},
   "outputs": [],
   "source": [
    "\n",
    "sc.tl.umap(dcdata, init_pos='paga')\n",
    "\n",
    "sc.pl.umap(dcdata,color=['leiden','leidenf'],legend_loc='on data')"
   ]
  },
  {
   "cell_type": "code",
   "execution_count": null,
   "metadata": {},
   "outputs": [],
   "source": [
    "sc.pl.umap(dcdata, color=['celltype3_pub'],legend_fontsize=8) #14, 34, 3, 31\n"
   ]
  },
  {
   "cell_type": "code",
   "execution_count": null,
   "metadata": {},
   "outputs": [],
   "source": [
    "sc.pl.umap(dcdata, color=['PatientID'],legend_fontsize=8) #14, 34, 3, 31\n"
   ]
  },
  {
   "cell_type": "code",
   "execution_count": null,
   "metadata": {},
   "outputs": [],
   "source": [
    "sc.pl.umap(dcdata, color=['Sample type'],legend_fontsize=8) #14, 34, 3, 31\n"
   ]
  },
  {
   "cell_type": "code",
   "execution_count": null,
   "metadata": {},
   "outputs": [],
   "source": [
    "if skipread==True:\n",
    "    loom=scv.read('/pstore/data/biomics/_pre_portfolio/ONC/scSEQ/ROCHE_INHOUSE/Schlieren_Project_Support_8/Fullanalysis/loom_afterconcat.h5ad')"
   ]
  },
  {
   "cell_type": "code",
   "execution_count": null,
   "metadata": {},
   "outputs": [],
   "source": [
    "adata=scv.utils.merge(dcdata, loom).copy()"
   ]
  },
  {
   "cell_type": "code",
   "execution_count": null,
   "metadata": {},
   "outputs": [],
   "source": [
    "#adata.write(\"/pstore/data/biomics/_pre_portfolio/ONC/scSEQ/ROCHE_INHOUSE/Schlieren_Project_Support_8/Fullanalysis/CD8Tcells-loom.h5ad\", compression=\"gzip\")\n"
   ]
  },
  {
   "cell_type": "code",
   "execution_count": null,
   "metadata": {},
   "outputs": [],
   "source": [
    "#adata=scv.read(\"/pstore/data/biomics/_pre_portfolio/ONC/scSEQ/ROCHE_INHOUSE/Schlieren_Project_Support_8/Fullanalysis/CD8Tcells-loom.h5ad\")"
   ]
  },
  {
   "cell_type": "code",
   "execution_count": null,
   "metadata": {},
   "outputs": [],
   "source": [
    "sc.set_figure_params(6)\n",
    "sc.pl.umap(adata,color=['PatientID'],ncols=2,\n",
    "           save='-subsettrajectorymap-'+velosubset+'.PatientID.pdf')"
   ]
  },
  {
   "cell_type": "code",
   "execution_count": null,
   "metadata": {},
   "outputs": [],
   "source": [
    "sc.pl.umap(adata,color=['RCat'],ncols=2,\n",
    "           save='-subsettrajectorymap-'+velosubset+'.RCat.pdf')"
   ]
  },
  {
   "cell_type": "code",
   "execution_count": null,
   "metadata": {},
   "outputs": [],
   "source": [
    "sc.pl.umap(adata,color=['Sample type'],ncols=2,\n",
    "           save='-subsettrajectorymap-'+velosubset+'.SampleType.pdf')"
   ]
  },
  {
   "cell_type": "code",
   "execution_count": null,
   "metadata": {},
   "outputs": [],
   "source": [
    "sc.pl.umap(adata,color=['Lesion'],ncols=2,\n",
    "           save='-subsettrajectorymap-'+velosubset+'.Lesion.pdf')"
   ]
  },
  {
   "cell_type": "code",
   "execution_count": null,
   "metadata": {},
   "outputs": [],
   "source": [
    "sc.set_figure_params(6)"
   ]
  },
  {
   "cell_type": "code",
   "execution_count": null,
   "metadata": {},
   "outputs": [],
   "source": [
    "sc.pl.umap(adata,color=['leiden'],ncols=2,\n",
    "           save='-subsettrajectorymap-'+velosubset+'.leiden.pdf', legend_loc='on data')"
   ]
  },
  {
   "cell_type": "code",
   "execution_count": null,
   "metadata": {},
   "outputs": [],
   "source": [
    "\n",
    "#adata.write(WD+'/analyzed/'+analysis_name+'/'+analysis_name+'.annotated.'+velosubset+'.h5ad')\n"
   ]
  },
  {
   "cell_type": "code",
   "execution_count": null,
   "metadata": {},
   "outputs": [],
   "source": [
    "adata=sc.read(WD+'/analyzed/'+analysis_name+'/'+analysis_name+'.annotated.'+velosubset+'.h5ad')"
   ]
  },
  {
   "cell_type": "code",
   "execution_count": null,
   "metadata": {},
   "outputs": [],
   "source": [
    "##### Take monocytes only partially in #####\n",
    "\n",
    "subdata=adata[adata.obs['leiden'].isin(['5','29','12','14','16','19','22','23','7','13','7'])].copy() #'1',"
   ]
  },
  {
   "cell_type": "code",
   "execution_count": null,
   "metadata": {},
   "outputs": [],
   "source": [
    "#sc.pp.neighbors(dcdata)\n",
    "bbknn.bbknn(subdata, batch_key='PatientID', use_rep='X_pca')\n",
    "\n",
    "sc.tl.diffmap(subdata)\n",
    "\n",
    "\n",
    "sc.pp.neighbors(subdata, n_neighbors=10, use_rep='X_diffmap')\n",
    "sc.tl.leiden(subdata, resolution=0.5)\n",
    "\n",
    "\n",
    "sc.tl.paga(subdata, groups='leiden')\n",
    "\n",
    "sc.pl.umap(subdata,color='leiden')\n"
   ]
  },
  {
   "cell_type": "code",
   "execution_count": null,
   "metadata": {},
   "outputs": [],
   "source": [
    "#subdata\n",
    "sc.pl.umap(adata,color=['leiden'],legend_loc='on data')"
   ]
  },
  {
   "cell_type": "code",
   "execution_count": null,
   "metadata": {},
   "outputs": [],
   "source": [
    "#subdata\n",
    "sc.pl.umap(subdata,color=['leiden'],legend_loc='on data')"
   ]
  },
  {
   "cell_type": "code",
   "execution_count": null,
   "metadata": {},
   "outputs": [],
   "source": [
    "sc.pl.umap(adata,color=['leiden'],legend_loc='on data')"
   ]
  },
  {
   "cell_type": "code",
   "execution_count": null,
   "metadata": {},
   "outputs": [],
   "source": [
    "catorder=corder=['2','5','10','7','13','8']"
   ]
  },
  {
   "cell_type": "code",
   "execution_count": null,
   "metadata": {},
   "outputs": [],
   "source": [
    "sc.pl.umap(adata,color=['celltype3_pub'],\n",
    "           save='-subsettrajectorymap-'+velosubset+'.celltype3_pub.pdf')"
   ]
  },
  {
   "cell_type": "code",
   "execution_count": null,
   "metadata": {},
   "outputs": [],
   "source": [
    "scv.pp.filter_and_normalize(subdata)\n",
    "scv.pp.moments(subdata)\n",
    "scv.pp.neighbors(subdata)\n",
    "\n",
    "scv.tl.recover_dynamics(subdata)\n",
    "scv.tl.velocity(subdata,mode='dynamical')\n",
    "scv.tl.velocity_graph(subdata)"
   ]
  },
  {
   "cell_type": "code",
   "execution_count": null,
   "metadata": {},
   "outputs": [],
   "source": [
    "scv.pp.filter_and_normalize(adata)\n",
    "scv.pp.moments(adata)\n",
    "scv.pp.neighbors(adata)\n",
    "\n",
    "scv.tl.recover_dynamics(adata)\n",
    "scv.tl.velocity(adata,mode='dynamical')\n",
    "scv.tl.velocity_graph(adata)"
   ]
  },
  {
   "cell_type": "code",
   "execution_count": null,
   "metadata": {},
   "outputs": [],
   "source": [
    "mysubset='All'\n",
    "subcat='PBMCandTIL'\n"
   ]
  },
  {
   "cell_type": "code",
   "execution_count": null,
   "metadata": {},
   "outputs": [],
   "source": [
    "#subcat='TILonly'\n",
    "subdata.write(WD+'analyzed/'+analysis_name+'/velocity/Velo-'+velosubset+'-'+mysubset+'-'+subcat+'-dyn.subsampled.h5ad')"
   ]
  },
  {
   "cell_type": "code",
   "execution_count": null,
   "metadata": {},
   "outputs": [],
   "source": [
    "#subcat='TILonly'\n",
    "adata.write(WD+'analyzed/'+analysis_name+'/velocity/Velo-'+velosubset+'-'+mysubset+'-'+subcat+'-dyn.h5ad')"
   ]
  },
  {
   "cell_type": "code",
   "execution_count": null,
   "metadata": {},
   "outputs": [],
   "source": [
    "adata=sc.read(WD+'analyzed/'+analysis_name+'/velocity/Velo-'+velosubset+'-'+mysubset+'-'+subcat+'-dyn.h5ad')\n",
    "subdata=sc.read(WD+'analyzed/'+analysis_name+'/velocity/Velo-'+velosubset+'-'+mysubset+'-'+subcat+'-dyn.subsampled.origmap.h5ad')"
   ]
  },
  {
   "cell_type": "code",
   "execution_count": null,
   "metadata": {},
   "outputs": [],
   "source": [
    "sc.pl.umap(adata, color='RCat')"
   ]
  },
  {
   "cell_type": "markdown",
   "metadata": {},
   "source": [
    "### Heatmaps "
   ]
  },
  {
   "cell_type": "code",
   "execution_count": null,
   "metadata": {},
   "outputs": [],
   "source": [
    "goi=list(set(['S100A12', 'S100A9', 'S100A8', 'LGALS2', 'LYZ', 'FCN1', 'C1QB', 'C1QA', 'C1QC', 'TREM2', 'LGMN', \n",
    "     'HLA-DQA1', 'HLA-DPA1', 'IL1B', 'PTX3', \n",
    "     'EREG', 'IL8', 'PTGS2', 'AREG', 'APOE', 'SLC7A8', 'A2M', 'TOP2A', 'CCL20', \n",
    "     'CXCL3', 'SPP1', 'HILPDA', 'SLAMF9', 'TNFSF14', 'SLC2A1', 'HK2', \n",
    "     'CXCL11', 'CXCL10', 'CXCL9', 'ISG15', 'IFIT3', 'MARCO', 'FN1', 'FBP1', 'MRC1', \n",
    "     'CLEC9A', 'C3', 'AXL', 'PLAC8', 'MARCKSL1', 'CD36', 'CD68', \n",
    "     'CCL4', 'EGR1', 'NR4A1', 'NR4A2', 'NLRP3', 'FOLR2', 'PTX3', 'G0S2', 'CD300E', \n",
    "     'GAS6', 'IL6', 'INHBA', 'GPNMB', 'IDO1', 'IFIT1', 'IFIT2',\n",
    "     'CD274', 'VSIG4', 'EGR1', 'EGR2', 'EGR3', 'EGR4', 'NLRP3', 'TLR10', 'TLR1', 'TLR3', 'TLR7', \n",
    "     'CXCL12', 'TNF', 'IL18', 'NFKB1', 'SELL']))"
   ]
  },
  {
   "cell_type": "code",
   "execution_count": null,
   "metadata": {},
   "outputs": [],
   "source": [
    "sc.pl.dotplot(subdata, var_names=goi,groupby='celltype3_pub')"
   ]
  },
  {
   "cell_type": "code",
   "execution_count": null,
   "metadata": {},
   "outputs": [],
   "source": [
    "average_obs,fraction_obs=bc.get_means(subdata, 'leiden')\n",
    "\n"
   ]
  },
  {
   "cell_type": "code",
   "execution_count": null,
   "metadata": {},
   "outputs": [],
   "source": [
    "subdata.uns['celltype3_pub_colors']\n"
   ]
  },
  {
   "cell_type": "code",
   "execution_count": null,
   "metadata": {},
   "outputs": [],
   "source": [
    "sc.set_figure_params(6)"
   ]
  },
  {
   "cell_type": "code",
   "execution_count": null,
   "metadata": {},
   "outputs": [],
   "source": [
    "sc.pl.umap(subdata, color=['leiden'], legend_loc='on data', save='-leiden-'+velosubset+'-'+mysubset+'-'+subcat+'.pdf')"
   ]
  },
  {
   "cell_type": "code",
   "execution_count": null,
   "metadata": {},
   "outputs": [],
   "source": [
    "sc.pl.umap(subdata, color=['celltype3_pub'], save='-celltype3_pub-'+velosubset+'-'+mysubset+'-'+subcat+'.pdf')"
   ]
  },
  {
   "cell_type": "code",
   "execution_count": null,
   "metadata": {},
   "outputs": [],
   "source": [
    "sc.pl.umap(subdata, color=['CXCL9','PTX3'], color_map='viridis', save='-CXCL9-PTX3-'+velosubset+'-'+mysubset+'-'+subcat+'.pdf')"
   ]
  },
  {
   "cell_type": "code",
   "execution_count": null,
   "metadata": {},
   "outputs": [],
   "source": [
    "#'CCL3','CCL4', 'TIMP1', 'MIF', 'LGALS1','TREM1', 'MT1X'\n",
    "sc.pl.umap(subdata, color=['TREM1','NR4A2'], color_map='viridis', save='-TREM1-NR4A2-'+velosubset+'-'+mysubset+'-'+subcat+'.pdf')"
   ]
  },
  {
   "cell_type": "code",
   "execution_count": null,
   "metadata": {},
   "outputs": [],
   "source": [
    "goi=['S100A12',  'S100A8','FCN1', 'SELL', 'CD300E', 'MARCKSL1', 'CD68', 'CD163', 'MSR1',\n",
    "'NR4A1','TREM2','HLA-DQA1', 'HLA-DPA1', 'NLRP3', 'FN1', \n",
    "'AREG', 'ISG15', 'IFIT1', 'IFIT3', 'IFI27','CXCL11', 'CXCL10', 'CXCL9','CD274','IDO1', 'TNF',\n",
    " 'AXL',  'MARCO', 'PTX3', 'CD36', 'MRC1', 'GPNMB', \n",
    "'LGALS2','APOE', 'EREG', 'INHBA', 'HILPDA', 'SPP1',\n",
    "'CXCL12',  'CCL20', 'CXCL3', 'IL8', 'CCL4', 'IL6', 'IL1B', 'IL18','FOLR2',\n",
    "'C1QB', 'LGMN', 'GAS6','G0S2', 'C3',\n",
    "      'SLAMF9', 'TNFSF14', 'VSIG4', 'TLR10', 'TLR1', \n",
    "     'TLR3', 'TLR7',  'EGR3', 'EGR4', 'NFKB1','SLC2A1', 'HK2', 'FBP1', 'CX3CR1','PTGS2']\n",
    "#PTX3, IL8, EREG, PTGS2"
   ]
  },
  {
   "cell_type": "code",
   "execution_count": null,
   "metadata": {},
   "outputs": [],
   "source": [
    "\n",
    "mycol=['#B79762','#0000A6','#B79762','#0000A6','#7A4900','#7A4900','#A30059','#3B5DFF','#0000A6','#B79762']\n",
    "\n",
    "sns.set(font_scale=0.6)\n",
    "#a=sns.clustermap(fraction_obs.loc[:,goi],col_cluster=True, row_cluster=True,figsize=(15,4),\n",
    "#                 cmap='viridis',metric='correlation',row_colors=mycol, vmax=0.8, standard_scale=1) #row_colors=mycol,\n",
    "a=sns.clustermap(average_obs.loc[:,goi],col_cluster=True, row_cluster=True,figsize=(15,4),\n",
    "                 cmap='viridis',metric='correlation',row_colors=mycol, vmax=0.8, standard_scale=1) #row_colors=mycol,\n",
    "a.savefig(figdir+'Heatmap-goi-'+velosubset+'.celltype3_pub.dyn-subsampled.08.pdf')\n",
    "#a.savefig(figdir+'Heatmap-goi-'+velosubset+'.celltype3_pub.dyn-subsampled.08.eps', format='eps')\n"
   ]
  },
  {
   "cell_type": "code",
   "execution_count": null,
   "metadata": {},
   "outputs": [],
   "source": [
    "figdir"
   ]
  },
  {
   "cell_type": "code",
   "execution_count": null,
   "metadata": {},
   "outputs": [],
   "source": [
    "sns.set(font_scale=0.6)\n",
    "#a=sns.clustermap(fraction_obs.loc[:,goi],col_cluster=True, row_cluster=True,figsize=(15,4),\n",
    "#                 cmap='viridis',metric='correlation',row_colors=mycol) #row_colors=mycol,\n",
    "a=sns.clustermap(average_obs.loc[:,goi],col_cluster=True, row_cluster=True,figsize=(15,4),\n",
    "                 cmap='viridis',metric='correlation',row_colors=mycol) #row_colors=mycol,\n",
    "a.savefig(figdir+'Heatmap-goi-'+velosubset+'.celltype3_pub.dyn-subsampled.pdf')\n",
    "#a.savefig(figdir+'Heatmap-goi-'+velosubset+'.celltype3_pub.dyn-subsampled.eps', format='eps')"
   ]
  },
  {
   "cell_type": "code",
   "execution_count": null,
   "metadata": {},
   "outputs": [],
   "source": [
    "DEgenes12vs19=bc.tl.dge.get_de(subdata[subdata.obs['leiden'].isin(['12','19'])],'leiden',demethod='wilcoxon',topnr=5000, logfc=1,padj=0.05)\n"
   ]
  },
  {
   "cell_type": "code",
   "execution_count": null,
   "metadata": {},
   "outputs": [],
   "source": [
    "#DEgenes['0']\n",
    "for i in DEgenes12vs19.keys():\n",
    "    DEgenes12vs19[i].sort_values('Log2FC',ascending=False).to_csv(figdir+'/DEclustergenes_12vs19_'+velosubset+'-'+mysubset+'_'+subcat+'_subdata_leiden_'+i+'.tsv',sep='\\t')"
   ]
  },
  {
   "cell_type": "code",
   "execution_count": null,
   "metadata": {},
   "outputs": [],
   "source": [
    "DEgenes12vs19['12'].iloc[0:20,:]"
   ]
  },
  {
   "cell_type": "code",
   "execution_count": null,
   "metadata": {},
   "outputs": [],
   "source": [
    "DEgenes12vs19['19'].iloc[0:30,:]"
   ]
  },
  {
   "cell_type": "code",
   "execution_count": null,
   "metadata": {},
   "outputs": [],
   "source": [
    "DEgenes=bc.tl.dge.get_de(subdata,'leiden',demethod='wilcoxon',topnr=5000, logfc=1,padj=0.05)\n"
   ]
  },
  {
   "cell_type": "code",
   "execution_count": null,
   "metadata": {},
   "outputs": [],
   "source": []
  },
  {
   "cell_type": "code",
   "execution_count": null,
   "metadata": {},
   "outputs": [],
   "source": [
    "#DEgenes['0']\n",
    "for i in DEgenes.keys():\n",
    "    DEgenes[i].sort_values('Log2FC',ascending=False).to_csv(figdir+'/Topclustergenes_'+velosubset+'-'+mysubset+'_'+subcat+'_subdata_leiden_'+i+'.tsv',sep='\\t')"
   ]
  },
  {
   "cell_type": "code",
   "execution_count": null,
   "metadata": {},
   "outputs": [],
   "source": [
    "clustercomp=bc.tl.count_occurrence_subset(adata, 'leiden', count_variable ='PatientID', return_percentage = True)\n",
    "clustercomp[clustercomp.max().sort_values().index].transpose()\n",
    "\n",
    "sc.set_figure_params()\n",
    "import matplotlib.pyplot as plt\n",
    "plt.rcParams[\"figure.figsize\"] = (12,5)\n",
    "\n",
    "clustercomp=clustercomp[clustercomp.max().sort_values().index].copy()\n",
    "ax=clustercomp.transpose().plot(kind='bar', stacked=True)\n",
    "ax.set_ylabel('Percentage donor per cluster')\n",
    "ax.legend(loc='center left', bbox_to_anchor=(1, 0.5))\n",
    "ax.figure.savefig(figdir+'Clustercomp-'+velosubset+'.PatientID.pdf',bbox_inches='tight')\n",
    "ax.figure.savefig(figdir+'Clustercomp-'+velosubset+'.PatientID.eps', format='eps')"
   ]
  },
  {
   "cell_type": "code",
   "execution_count": null,
   "metadata": {},
   "outputs": [],
   "source": [
    "clustercomp=bc.tl.count_occurrence_subset(adata, 'leiden', count_variable ='RCat', return_percentage = True)\n",
    "clustercomp[clustercomp.max().sort_values().index].transpose()\n",
    "\n",
    "sc.set_figure_params()\n",
    "import matplotlib.pyplot as plt\n",
    "plt.rcParams[\"figure.figsize\"] = (12,5)\n",
    "\n",
    "clustercomp=clustercomp[clustercomp.max().sort_values().index].copy()\n",
    "ax=clustercomp.transpose().plot(kind='bar', stacked=True)\n",
    "ax.set_ylabel('Percentage donor per cluster')\n",
    "ax.legend(loc='center left', bbox_to_anchor=(1, 0.5))\n",
    "ax.figure.savefig(figdir+'Clustercomp-'+velosubset+'.RCat.pdf',bbox_inches='tight')\n",
    "ax.figure.savefig(figdir+'Clustercomp-'+velosubset+'.RCat.eps', format='eps')"
   ]
  },
  {
   "cell_type": "code",
   "execution_count": null,
   "metadata": {},
   "outputs": [],
   "source": [
    "clustercomp=bc.tl.count_occurrence_subset(adata, 'leiden', count_variable ='Lesion', return_percentage = True)\n",
    "clustercomp[clustercomp.max().sort_values().index].transpose()\n",
    "\n",
    "sc.set_figure_params()\n",
    "import matplotlib.pyplot as plt\n",
    "plt.rcParams[\"figure.figsize\"] = (12,5)\n",
    "\n",
    "clustercomp=clustercomp[clustercomp.max().sort_values().index].copy()\n",
    "ax=clustercomp.transpose().plot(kind='bar', stacked=True)\n",
    "ax.set_ylabel('Percentage donor per cluster')\n",
    "ax.legend(loc='center left', bbox_to_anchor=(1, 0.5))\n",
    "ax.figure.savefig(figdir+'Clustercomp-'+velosubset+'.Lesion.pdf',bbox_inches='tight')\n",
    "ax.figure.savefig(figdir+'Clustercomp-'+velosubset+'.Lesion.eps', format='eps')"
   ]
  },
  {
   "cell_type": "code",
   "execution_count": null,
   "metadata": {},
   "outputs": [],
   "source": [
    "sc.set_figure_params()"
   ]
  },
  {
   "cell_type": "code",
   "execution_count": null,
   "metadata": {},
   "outputs": [],
   "source": [
    "scv.tl.velocity_confidence(subdata)\n",
    "keys = 'velocity_length', 'velocity_confidence'\n",
    "scv.pl.scatter(subdata, c=keys, cmap='coolwarm', perc=[5, 95])\n"
   ]
  },
  {
   "cell_type": "code",
   "execution_count": null,
   "metadata": {},
   "outputs": [],
   "source": [
    "scv.tl.velocity_confidence(adata)\n",
    "keys = 'velocity_length', 'velocity_confidence'\n",
    "scv.pl.scatter(adata, c=keys, cmap='coolwarm', perc=[5, 95])\n"
   ]
  },
  {
   "cell_type": "code",
   "execution_count": null,
   "metadata": {},
   "outputs": [],
   "source": [
    "scv.pl.velocity_graph(adata, threshold=.2, color='leiden')"
   ]
  },
  {
   "cell_type": "code",
   "execution_count": null,
   "metadata": {},
   "outputs": [],
   "source": [
    "scv.pl.velocity_graph(subdata, threshold=.2, color='leiden')"
   ]
  },
  {
   "cell_type": "code",
   "execution_count": null,
   "metadata": {},
   "outputs": [],
   "source": [
    "scv.pl.velocity_embedding_stream(adata, basis='umap',color=['leiden','Sample type'], save='-Velocity')"
   ]
  },
  {
   "cell_type": "code",
   "execution_count": null,
   "metadata": {},
   "outputs": [],
   "source": [
    "scv.pl.velocity_embedding_stream(adata, basis='umap',color=['leiden','Sample type'],\n",
    "                                 save=scv.settings.figdir+'-trajectorymap-EntireMap-'+velosubset+'-'+mysubset+'-'+subcat+'.Velocity-Sample_Type.svg')"
   ]
  },
  {
   "cell_type": "code",
   "execution_count": null,
   "metadata": {},
   "outputs": [],
   "source": [
    "sc.set_figure_params(10)"
   ]
  },
  {
   "cell_type": "code",
   "execution_count": null,
   "metadata": {},
   "outputs": [],
   "source": [
    "scv.settings.plot_prefix = \"\""
   ]
  },
  {
   "cell_type": "code",
   "execution_count": null,
   "metadata": {},
   "outputs": [],
   "source": [
    "scv.settings.figdir='sandbox/'"
   ]
  },
  {
   "cell_type": "code",
   "execution_count": null,
   "metadata": {},
   "outputs": [],
   "source": [
    "scv.pl.velocity_embedding_stream(subdata, basis='umap',color=['leiden','Sample type'],\n",
    "                                save=scv.settings.figdir+'-trajectorymap-'+velosubset+'-'+mysubset+'-'+subcat+'.Velocity-Sample_Type.svg')"
   ]
  },
  {
   "cell_type": "code",
   "execution_count": null,
   "metadata": {},
   "outputs": [],
   "source": [
    "scv.pl.velocity_embedding_stream(subdata, basis='umap',color=['leiden','Sample type'],\n",
    "                                save=scv.settings.figdir+'-trajectorymap-'+velosubset+'-'+mysubset+'-'+subcat+'.Velocity-Sample_Type.pdf')"
   ]
  },
  {
   "cell_type": "code",
   "execution_count": null,
   "metadata": {},
   "outputs": [],
   "source": [
    "scv.pl.velocity_embedding_stream(subdata, basis='umap',color=['leiden','Sample type'],\n",
    "                                save=scv.settings.figdir+'-trajectorymap-'+velosubset+'-'+mysubset+'-'+subcat+'.Velocity-Sample_Type.png')"
   ]
  },
  {
   "cell_type": "code",
   "execution_count": null,
   "metadata": {},
   "outputs": [],
   "source": [
    "scv.pl.velocity_embedding_stream(adata, basis='umap',color=['celltype3_pub'])"
   ]
  },
  {
   "cell_type": "code",
   "execution_count": null,
   "metadata": {},
   "outputs": [],
   "source": [
    "#sc.set_figure_params(10)\n",
    "#import matplotlib.pyplot as plt\n",
    "#plt.rcParams[\"figure.figsize\"] = (12,10)"
   ]
  },
  {
   "cell_type": "code",
   "execution_count": null,
   "metadata": {},
   "outputs": [],
   "source": [
    "figdir=outpath\n"
   ]
  },
  {
   "cell_type": "code",
   "execution_count": null,
   "metadata": {},
   "outputs": [],
   "source": [
    "figdir=os.path.join(outpath+'/publication/')\n",
    "scv.settings.figdir = figdir\n",
    "if not os.path.exists(figdir):\n",
    "    os.makedirs(figdir)"
   ]
  },
  {
   "cell_type": "code",
   "execution_count": null,
   "metadata": {},
   "outputs": [],
   "source": [
    "scv.tl.score_genes_cell_cycle(adata)\n",
    "scv.pl.scatter(adata, color_gradients=['S_score', 'G2M_score'], smooth=True, perc=[5, 95],\n",
    "               save='CellCycle-velo-'+velosubset+'-'+mysubset+'-'+subcat+'-dyn-CCPhase.png')\n",
    "s_genes, g2m_genes = scv.utils.get_phase_marker_genes(adata)\n",
    "#s_genes = scv.get_df(adata[:, s_genes], 'spearmans_score', sort_values=True).index\n",
    "#g2m_genes = scv.get_df(adata[:, g2m_genes], 'spearmans_score', sort_values=True).index\n",
    "#kwargs = dict(frameon=False, ylabel='cell cycle genes')\n",
    "#scv.pl.scatter(adata, list(s_genes[:2]) + list(g2m_genes[:3]), **kwargs)\n",
    "#save='CellCycle-velo-'+velosubset+'-'+mysubset+'-'+subcat+'-dyn.png'"
   ]
  },
  {
   "cell_type": "code",
   "execution_count": null,
   "metadata": {},
   "outputs": [],
   "source": [
    "scv.pl.velocity_embedding_stream(adata, basis='umap',color=['Sample type'],\n",
    "                                 min_mass=3.4, \n",
    "                                 save='-velo-'+velosubset+'-'+mysubset+'-'+subcat+'-dyn-SampleType.svg')"
   ]
  },
  {
   "cell_type": "code",
   "execution_count": null,
   "metadata": {},
   "outputs": [],
   "source": [
    "scv.pl.velocity_embedding_stream(adata, basis='umap',color=['celltype3_pub'],\n",
    "                                 min_mass=3.4, legend_loc='right',\n",
    "                                 save='-velo-'+velosubset+'-'+mysubset+'-'+subcat+'-dyn-celltype3_pub.svg')"
   ]
  },
  {
   "cell_type": "code",
   "execution_count": null,
   "metadata": {},
   "outputs": [],
   "source": [
    "scv.pl.velocity_embedding_stream(adata, basis='umap',color=['Sample type'],\n",
    "                                 min_mass=3.25, \n",
    "                                 save='-velo-'+velosubset+'-'+mysubset+'-'+subcat+'-dyn-SampleType.pdf')"
   ]
  },
  {
   "cell_type": "code",
   "execution_count": null,
   "metadata": {},
   "outputs": [],
   "source": []
  },
  {
   "cell_type": "code",
   "execution_count": null,
   "metadata": {},
   "outputs": [],
   "source": [
    "sc.set_figure_params(10)\n",
    "import matplotlib.pyplot as plt\n",
    "plt.rcParams[\"figure.figsize\"] = (12,10)"
   ]
  },
  {
   "cell_type": "code",
   "execution_count": null,
   "metadata": {},
   "outputs": [],
   "source": [
    "\n",
    "scv.pl.velocity_embedding_stream(adata, basis='umap',color=['celltype3_merged'], \n",
    "                                 legend_loc='best', \n",
    "                                save='-velo-'+velosubset+'-'+mysubset+'-'+subcat+'-dyn-celltype3.png') #min_mass=3.25,"
   ]
  },
  {
   "cell_type": "code",
   "execution_count": null,
   "metadata": {},
   "outputs": [],
   "source": [
    "scv.pl.velocity_embedding_stream(adata, basis='umap',color=['leiden'], legend_loc='on data')"
   ]
  },
  {
   "cell_type": "code",
   "execution_count": null,
   "metadata": {},
   "outputs": [],
   "source": [
    "scv.pl.velocity_embedding_stream(adata, basis='umap',color=['leiden_TNK'], legend_loc='on data')"
   ]
  },
  {
   "cell_type": "code",
   "execution_count": null,
   "metadata": {},
   "outputs": [],
   "source": [
    "sc.set_figure_params()"
   ]
  },
  {
   "cell_type": "code",
   "execution_count": null,
   "metadata": {},
   "outputs": [],
   "source": [
    "sc.pl.umap(adata,color=['XCL1','CCR7','SELL','MKI67', 'STMN1','ENTPD1','CD38','TOX','CD4','CD8A','CD8B', 'CD3D'], color_map='viridis')"
   ]
  },
  {
   "cell_type": "code",
   "execution_count": null,
   "metadata": {},
   "outputs": [],
   "source": [
    "goi=['CD68','CD163','TREM1','MARCO','G0S2','CCL4','CXCL2','AREG','IL1B','TREM2','SPP1','MSR1','CX3CR1','MAF',\n",
    "                        'SIGLEC1', 'CD38','ENTPD1','CD9','C3','FCGR3A','FCGR1A','C1QA','CSF3R','FCN1','VCAN','S100A8',\n",
    "     'S100A12','ISG15','CXCL9','CXCL10','CXCL11','CXCL16', 'CD14','EGR1','LYVE1','FN1', 'INHBA','NLRP3']\n",
    "sc.pl.umap(adata,color=goi, color_map='viridis')"
   ]
  },
  {
   "cell_type": "code",
   "execution_count": null,
   "metadata": {},
   "outputs": [],
   "source": [
    "sc.pl.dotplot(adata, var_names=goi, groupby='leiden', dendrogram=True)"
   ]
  },
  {
   "cell_type": "code",
   "execution_count": null,
   "metadata": {},
   "outputs": [],
   "source": [
    "goi=['CD68','CD163','TREM1','MARCO','G0S2','CCL4','CXCL2','AREG','IL1B','TREM2','SPP1','MSR1','CX3CR1','MAF',\n",
    "                        'SIGLEC1', 'CD38','ENTPD1','CD9','C3','FCGR3A','FCGR1A','C1QA','CSF3R','FCN1','VCAN','S100A8',\n",
    "     'S100A12','ISG15','CXCL9','CXCL10','CXCL11','CXCL16', 'CD14','EGR1','LYVE1','FN1', 'INHBA','NLRP3']\n",
    "\n",
    "sc.pl.dotplot(subdata, var_names=goi, groupby='leiden', dendrogram=True)"
   ]
  },
  {
   "cell_type": "code",
   "execution_count": null,
   "metadata": {},
   "outputs": [],
   "source": [
    "sc.pl.dotplot(adata, var_names=goi, \n",
    "              groupby='celltype3_pub', dendrogram=True)"
   ]
  },
  {
   "cell_type": "code",
   "execution_count": null,
   "metadata": {},
   "outputs": [],
   "source": [
    "sc.pl.dotplot(subdata, var_names=goi, \n",
    "              groupby='celltype3_pub', dendrogram=True)"
   ]
  },
  {
   "cell_type": "code",
   "execution_count": null,
   "metadata": {},
   "outputs": [],
   "source": [
    "scv.pl.velocity_embedding(adata, dpi=120, arrow_size=2, arrow_length=2,color=['leiden','celltype3_merged'])"
   ]
  },
  {
   "cell_type": "code",
   "execution_count": null,
   "metadata": {},
   "outputs": [],
   "source": [
    "sc.pl.umap(adata,color=['leiden'],legend_loc='on data')"
   ]
  },
  {
   "cell_type": "code",
   "execution_count": null,
   "metadata": {},
   "outputs": [],
   "source": [
    "sc.pl.umap(adata,color=['leidenf'],legend_loc='on data')"
   ]
  },
  {
   "cell_type": "code",
   "execution_count": null,
   "metadata": {},
   "outputs": [],
   "source": [
    "sc.pl.umap(subdata,color=['leiden'],legend_loc='on data')"
   ]
  },
  {
   "cell_type": "code",
   "execution_count": null,
   "metadata": {},
   "outputs": [],
   "source": [
    "subdata=subdata[subdata.obs.sample(frac=0.5).index].copy()"
   ]
  },
  {
   "cell_type": "code",
   "execution_count": null,
   "metadata": {},
   "outputs": [],
   "source": [
    "cr.settings.verbosity = 2\n",
    "cr.tl.terminal_states(subdata, cluster_key='leiden', weight_connectivities=0.2)\n"
   ]
  },
  {
   "cell_type": "code",
   "execution_count": null,
   "metadata": {},
   "outputs": [],
   "source": [
    "cr.pl.terminal_states(subdata)\n",
    "\n",
    "cr.tl.initial_states(subdata, cluster_key='leiden') \n"
   ]
  },
  {
   "cell_type": "code",
   "execution_count": null,
   "metadata": {},
   "outputs": [],
   "source": [
    "cr.pl.initial_states(subdata, discrete=True)\n"
   ]
  },
  {
   "cell_type": "code",
   "execution_count": null,
   "metadata": {},
   "outputs": [],
   "source": [
    "cr.pl.terminal_states(subdata, discrete=True)\n"
   ]
  },
  {
   "cell_type": "code",
   "execution_count": null,
   "metadata": {},
   "outputs": [],
   "source": [
    "cr.tl.lineages(subdata)\n"
   ]
  },
  {
   "cell_type": "code",
   "execution_count": null,
   "metadata": {},
   "outputs": [],
   "source": [
    "cr.pl.lineages(subdata, same_plot=False)\n"
   ]
  },
  {
   "cell_type": "code",
   "execution_count": null,
   "metadata": {},
   "outputs": [],
   "source": [
    "import matplotlib.pyplot as plt\n",
    "plt.hist(subdata.obs['initial_states_probs'])\n"
   ]
  },
  {
   "cell_type": "code",
   "execution_count": null,
   "metadata": {},
   "outputs": [],
   "source": [
    "\n",
    "plt.hist(subdata.obs['terminal_states_probs'])\n"
   ]
  },
  {
   "cell_type": "code",
   "execution_count": null,
   "metadata": {},
   "outputs": [],
   "source": [
    "scv.tl.recover_latent_time(subdata, root_key='initial_states_probs', end_key='terminal_states_probs')\n"
   ]
  },
  {
   "cell_type": "code",
   "execution_count": null,
   "metadata": {},
   "outputs": [],
   "source": [
    "\n",
    "\n",
    "\n",
    "scv.tl.paga(subdata, groups='leiden', root_key='initial_states_probs', end_key='terminal_states_probs', \n",
    "            use_time_prior='velocity_pseudotime')\n"
   ]
  },
  {
   "cell_type": "code",
   "execution_count": null,
   "metadata": {},
   "outputs": [],
   "source": [
    "sc.set_figure_params(10)\n",
    "import matplotlib.pyplot as plt\n",
    "plt.rcParams[\"figure.figsize\"] = (12,10)"
   ]
  },
  {
   "cell_type": "code",
   "execution_count": null,
   "metadata": {},
   "outputs": [],
   "source": [
    "sc.set_figure_params()"
   ]
  },
  {
   "cell_type": "code",
   "execution_count": null,
   "metadata": {},
   "outputs": [],
   "source": [
    "cr.pl.cluster_fates(subdata, mode=\"paga_pie\", cluster_key=\"leiden\", basis='umap',\n",
    "                    legend_kwargs={'loc': 'top right out'}, legend_loc='top left out',\n",
    "                    node_size_scale=1, edge_width_scale=1, max_edge_width=4, title='directed PAGA')\n"
   ]
  },
  {
   "cell_type": "code",
   "execution_count": null,
   "metadata": {},
   "outputs": [],
   "source": [
    "cnames=['5','7','12','13','14','16','19','22','23','29']\n",
    "tconf=scv.get_df(subdata, 'paga/transitions_confidence', precision=2).T\n",
    "tconf.index=cnames\n",
    "tconf.columns=cnames\n",
    "tconf.to_csv(figdir+'/Transitionstable_'+velosubset+'-'+mysubset+'_'+subcat+'_leiden.tsv',sep='\\t')\n",
    "\n",
    "tconf.style.background_gradient(cmap='Blues').format('{:.2g}')\n"
   ]
  },
  {
   "cell_type": "code",
   "execution_count": null,
   "metadata": {},
   "outputs": [],
   "source": [
    "#tran_conf"
   ]
  },
  {
   "cell_type": "code",
   "execution_count": null,
   "metadata": {},
   "outputs": [],
   "source": [
    "#sns.clustermap(tran_conf)"
   ]
  },
  {
   "cell_type": "code",
   "execution_count": null,
   "metadata": {},
   "outputs": [],
   "source": [
    "cr.tl.lineage_drivers(subdata, use_raw=False, backward=False)"
   ]
  },
  {
   "cell_type": "code",
   "execution_count": null,
   "metadata": {},
   "outputs": [],
   "source": [
    "sc.pl.umap(subdata,color=list(subdata.var['to 14'].sort_values().index[1:13]))"
   ]
  },
  {
   "cell_type": "code",
   "execution_count": null,
   "metadata": {},
   "outputs": [],
   "source": [
    "sc.pl.umap(subdata,color=list(subdata.var['to 14'].sort_values(ascending=False).index[1:13]))"
   ]
  },
  {
   "cell_type": "code",
   "execution_count": null,
   "metadata": {},
   "outputs": [],
   "source": [
    "subdata.var['to 14'].sort_values(ascending=False).to_csv(figdir+'/CellRank_TopLineageGenes_'+velosubset+'-'+mysubset+'_'+subcat+'_subset.tsv',sep='\\t')"
   ]
  },
  {
   "cell_type": "code",
   "execution_count": null,
   "metadata": {},
   "outputs": [],
   "source": [
    "list(subdata.var['to 14'].sort_values(ascending=False).index[0:20])"
   ]
  },
  {
   "cell_type": "code",
   "execution_count": null,
   "metadata": {},
   "outputs": [],
   "source": [
    "list(subdata.var['to 14'].sort_values(ascending=True).index[0:20])"
   ]
  },
  {
   "cell_type": "code",
   "execution_count": null,
   "metadata": {},
   "outputs": [],
   "source": [
    "cr.pl.lineage_drivers(subdata, lineage=\"14\", n_genes=10)"
   ]
  },
  {
   "cell_type": "code",
   "execution_count": null,
   "metadata": {},
   "outputs": [],
   "source": [
    "root_idx = np.where(subdata.obs['initial_states'] == '5')[0][1]\n",
    "subdata.uns['iroot'] = root_idx\n",
    "sc.tl.dpt(subdata)\n",
    "\n",
    "scv.pl.scatter(subdata, color=['leiden', root_idx, 'latent_time', 'dpt_pseudotime'], fontsize=16,\n",
    "               cmap='viridis', perc=[2, 98], colorbar=True, rescale_color=[0, 1],\n",
    "               title=['leiden', 'root cell', 'latent time', 'dpt pseudotime'])\n"
   ]
  },
  {
   "cell_type": "code",
   "execution_count": null,
   "metadata": {},
   "outputs": [],
   "source": [
    "#subcat='TILonly'\n",
    "#subdata.write(WD+'analyzed/'+analysis_name+'/velocity/Velo-'+velosubset+'-'+mysubset+'-'+subcat+'-dyn.subsampled.origmap.h5ad')\n",
    "subdata=sc.read(WD+'analyzed/'+analysis_name+'/velocity/Velo-'+velosubset+'-'+mysubset+'-'+subcat+'-dyn.subsampled.origmap.h5ad')"
   ]
  },
  {
   "cell_type": "code",
   "execution_count": null,
   "metadata": {},
   "outputs": [],
   "source": [
    "cr.pl.initial_states(subdata, discrete=True)\n"
   ]
  },
  {
   "cell_type": "code",
   "execution_count": null,
   "metadata": {},
   "outputs": [],
   "source": [
    "cr.pl.terminal_states(subdata, discrete=True)"
   ]
  },
  {
   "cell_type": "code",
   "execution_count": null,
   "metadata": {},
   "outputs": [],
   "source": [
    "scv.tl.recover_latent_time(subdata, root_key='initial_states_probs', end_key='terminal_states_probs')\n"
   ]
  },
  {
   "cell_type": "code",
   "execution_count": null,
   "metadata": {},
   "outputs": [],
   "source": [
    "root_idx = np.where(subdata.obs['initial_states'] == '5')[0][1]\n",
    "subdata.uns['iroot'] = root_idx\n",
    "sc.tl.dpt(subdata)\n",
    "\n",
    "scv.pl.scatter(subdata, color=['leiden', root_idx, 'latent_time', 'dpt_pseudotime'], fontsize=16,\n",
    "               cmap='viridis', perc=[2, 98], colorbar=True, rescale_color=[0, 1],\n",
    "               title=['leiden', 'root cell', 'latent time', 'dpt pseudotime'])"
   ]
  },
  {
   "cell_type": "code",
   "execution_count": null,
   "metadata": {},
   "outputs": [],
   "source": [
    "cdata=subdata.copy()"
   ]
  },
  {
   "cell_type": "code",
   "execution_count": null,
   "metadata": {},
   "outputs": [],
   "source": [
    "scv.tl.rank_dynamical_genes(cdata, groupby='leiden')\n"
   ]
  },
  {
   "cell_type": "code",
   "execution_count": null,
   "metadata": {},
   "outputs": [],
   "source": [
    "df = scv.get_df(cdata, 'rank_dynamical_genes/names')\n",
    "df.head(10)\n"
   ]
  },
  {
   "cell_type": "code",
   "execution_count": null,
   "metadata": {},
   "outputs": [],
   "source": [
    "df.head(50).to_csv(figdir+'/TopDynamicGenesPerCluster_'+velosubset+'-'+mysubset+'_'+subcat+'_loom-dyn_Top50Ranked.subsampled.tsv',sep='\\t')\n"
   ]
  },
  {
   "cell_type": "code",
   "execution_count": null,
   "metadata": {},
   "outputs": [],
   "source": [
    "transitiongenes1=cdata.var['to 14'][list(df.head(50)['29'])][np.abs(cdata.var['to 14'][list(df.head(50)['29'])])>0.1].sort_values()\n",
    "transitiongenes2=cdata.var['to 14'][list(df.head(50)['5'])][np.abs(cdata.var['to 14'][list(df.head(50)['5'])])>0.1].sort_values()\n",
    "transitiongenes=list(set(transitiongenes1.index).union(set(transitiongenes2.index)))\n",
    "\n",
    "tamcxgenes1=cdata.var['to 14'][list(df.head(50)['19'])][np.abs(cdata.var['to 14'][list(df.head(50)['19'])])>0.1].sort_values()\n",
    "tamcxgenes2=cdata.var['to 14'][list(df.head(50)['22'])][np.abs(cdata.var['to 14'][list(df.head(50)['22'])])>0.1].sort_values()\n",
    "tamcxgenes=list(set(tamcxgenes1.index).union(set(tamcxgenes2.index)))"
   ]
  },
  {
   "cell_type": "code",
   "execution_count": null,
   "metadata": {},
   "outputs": [],
   "source": [
    "cdata.var['to 14'][transitiongenes].sort_values()"
   ]
  },
  {
   "cell_type": "code",
   "execution_count": null,
   "metadata": {},
   "outputs": [],
   "source": [
    "sc.pl.umap(cdata,color=list(cdata.var['to 14'][transitiongenes].sort_values().index))"
   ]
  },
  {
   "cell_type": "code",
   "execution_count": null,
   "metadata": {},
   "outputs": [],
   "source": [
    "cdata.var['to 14'][list(set(tamcxgenes)-set(transitiongenes))].sort_values()"
   ]
  },
  {
   "cell_type": "code",
   "execution_count": null,
   "metadata": {},
   "outputs": [],
   "source": [
    "sc.pl.umap(cdata,color=list(cdata.var['to 14'][list(set(tamcxgenes)-set(transitiongenes))].sort_values().index))"
   ]
  },
  {
   "cell_type": "code",
   "execution_count": null,
   "metadata": {},
   "outputs": [],
   "source": [
    "scv.pl.velocity(cdata, ['VCAN', 'S100A8','SOD2', 'PLAUR', 'HLA-DPB1','MS4A6A'], ncols=2, add_outline=True)\n"
   ]
  },
  {
   "cell_type": "code",
   "execution_count": null,
   "metadata": {},
   "outputs": [],
   "source": [
    "ofinterest=set([item for sublist in df.head(50).values.tolist() for item in sublist])\n",
    "ofinterest=cdata.var['to 14'][list(ofinterest)][np.abs(cdata.var['to 14'][list(ofinterest)])>0.1]"
   ]
  },
  {
   "cell_type": "code",
   "execution_count": null,
   "metadata": {},
   "outputs": [],
   "source": [
    "ofinterest"
   ]
  },
  {
   "cell_type": "code",
   "execution_count": null,
   "metadata": {},
   "outputs": [],
   "source": [
    "velogenes=cdata.var.loc[(cdata.var['velocity_genes']==True)&(cdata.var['fit_likelihood']>.1),:]"
   ]
  },
  {
   "cell_type": "code",
   "execution_count": null,
   "metadata": {},
   "outputs": [],
   "source": [
    "len(set(ofinterest.index)-set(velogenes.index))/len(set(ofinterest)) ## How many are specific "
   ]
  },
  {
   "cell_type": "code",
   "execution_count": null,
   "metadata": {},
   "outputs": [],
   "source": [
    "ofinterest=ofinterest[list(set(ofinterest.index).intersection(set(velogenes.index)))].sort_values()"
   ]
  },
  {
   "cell_type": "code",
   "execution_count": null,
   "metadata": {},
   "outputs": [],
   "source": [
    "top_genes = cdata.var['fit_likelihood'].sort_values(ascending=False).index#[:300]\n",
    "top_genes1=cdata.var['fit_likelihood'].sort_values(ascending=False).index[:250]\n",
    "\n",
    "invelo=[]\n",
    "for x in list(top_genes):\n",
    "    invelo=invelo+list(set([x]).intersection(set(velogenes.index)))\n"
   ]
  },
  {
   "cell_type": "code",
   "execution_count": null,
   "metadata": {},
   "outputs": [],
   "source": [
    "scv.pl.heatmap(cdata, var_names=list(ofinterest.index), sortby='latent_time', \n",
    "               col_color='leiden', n_convolve=30,show=True,\n",
    "               font_scale=0.8,  figsize=(6, 6))"
   ]
  },
  {
   "cell_type": "code",
   "execution_count": null,
   "metadata": {},
   "outputs": [],
   "source": [
    "scv.pl.heatmap(cdata, var_names=list(ofinterest.index), sortby='latent_time', \n",
    "               col_color='celltype3_pub', n_convolve=30,show=True,\n",
    "               font_scale=0.8,  figsize=(6, 6))"
   ]
  },
  {
   "cell_type": "code",
   "execution_count": null,
   "metadata": {},
   "outputs": [],
   "source": [
    "sc.pl.umap(cdata,color=list(ofinterest.index))"
   ]
  },
  {
   "cell_type": "code",
   "execution_count": null,
   "metadata": {},
   "outputs": [],
   "source": [
    "rdata=subdata[subdata.obs['RCat'].isin(['R'])].copy()\n",
    "tfdata=subdata[subdata.obs['RCat'].isin(['TF'])].copy()\n",
    "\n",
    "nrdata=subdata[subdata.obs['RCat'].isin(['NR_adj'])].copy()\n",
    "nrnadjdata=subdata[subdata.obs['RCat'].isin(['NR_nadj'])].copy()\n"
   ]
  },
  {
   "cell_type": "code",
   "execution_count": null,
   "metadata": {},
   "outputs": [],
   "source": [
    "rbdata=subdata[subdata.obs['RCat'].isin(['R','TF'])].copy()\n",
    "nrbdata=subdata[subdata.obs['RCat'].isin(['NR_adj','NR_nadj'])].copy()\n",
    "\n",
    "rbdata_til=rbdata[rbdata.obs['Sample type'].isin(['TIL'])].copy()\n",
    "nrbdata_til=nrbdata[nrbdata.obs['Sample type'].isin(['TIL'])].copy()\n"
   ]
  },
  {
   "cell_type": "code",
   "execution_count": null,
   "metadata": {},
   "outputs": [],
   "source": []
  },
  {
   "cell_type": "code",
   "execution_count": null,
   "metadata": {},
   "outputs": [],
   "source": [
    "len(rdata)\n"
   ]
  },
  {
   "cell_type": "code",
   "execution_count": null,
   "metadata": {},
   "outputs": [],
   "source": [
    "len(tfdata)\n"
   ]
  },
  {
   "cell_type": "code",
   "execution_count": null,
   "metadata": {},
   "outputs": [],
   "source": [
    "len(nrdata)\n"
   ]
  },
  {
   "cell_type": "code",
   "execution_count": null,
   "metadata": {},
   "outputs": [],
   "source": [
    "len(nrnadjdata)\n"
   ]
  },
  {
   "cell_type": "code",
   "execution_count": null,
   "metadata": {},
   "outputs": [],
   "source": [
    "sc.set_figure_params(10)"
   ]
  },
  {
   "cell_type": "code",
   "execution_count": null,
   "metadata": {},
   "outputs": [],
   "source": [
    "cr.pl.initial_states(rbdata, discrete=True)\n"
   ]
  },
  {
   "cell_type": "code",
   "execution_count": null,
   "metadata": {},
   "outputs": [],
   "source": [
    "cr.pl.terminal_states(rbdata, discrete=True)\n"
   ]
  },
  {
   "cell_type": "code",
   "execution_count": null,
   "metadata": {},
   "outputs": [],
   "source": [
    "cr.pl.initial_states(nrbdata, discrete=True)\n"
   ]
  },
  {
   "cell_type": "code",
   "execution_count": null,
   "metadata": {},
   "outputs": [],
   "source": [
    "cr.pl.terminal_states(nrbdata, discrete=True)\n"
   ]
  },
  {
   "cell_type": "code",
   "execution_count": null,
   "metadata": {},
   "outputs": [],
   "source": [
    "cr.pl.initial_states(rdata, discrete=True)\n"
   ]
  },
  {
   "cell_type": "code",
   "execution_count": null,
   "metadata": {},
   "outputs": [],
   "source": [
    "cr.pl.terminal_states(rdata, discrete=True)\n"
   ]
  },
  {
   "cell_type": "code",
   "execution_count": null,
   "metadata": {},
   "outputs": [],
   "source": [
    "cr.pl.initial_states(tfdata, discrete=True)\n"
   ]
  },
  {
   "cell_type": "code",
   "execution_count": null,
   "metadata": {},
   "outputs": [],
   "source": [
    "cr.pl.terminal_states(tfdata, discrete=True)\n"
   ]
  },
  {
   "cell_type": "code",
   "execution_count": null,
   "metadata": {},
   "outputs": [],
   "source": [
    "cr.pl.initial_states(nrdata, discrete=True)\n"
   ]
  },
  {
   "cell_type": "code",
   "execution_count": null,
   "metadata": {},
   "outputs": [],
   "source": [
    "cr.pl.terminal_states(nrdata, discrete=True)\n"
   ]
  },
  {
   "cell_type": "code",
   "execution_count": null,
   "metadata": {},
   "outputs": [],
   "source": [
    "cr.pl.initial_states(nrnadjdata, discrete=True)"
   ]
  },
  {
   "cell_type": "code",
   "execution_count": null,
   "metadata": {},
   "outputs": [],
   "source": [
    "cr.pl.terminal_states(nrnadjdata, discrete=True)\n"
   ]
  },
  {
   "cell_type": "code",
   "execution_count": null,
   "metadata": {},
   "outputs": [],
   "source": [
    "cr.pl.initial_states(nrbdata_til, discrete=True)\n"
   ]
  },
  {
   "cell_type": "code",
   "execution_count": null,
   "metadata": {},
   "outputs": [],
   "source": [
    "cr.pl.terminal_states(nrbdata_til, discrete=True)\n"
   ]
  },
  {
   "cell_type": "code",
   "execution_count": null,
   "metadata": {},
   "outputs": [],
   "source": [
    "cr.pl.initial_states(rbdata_til, discrete=True)\n"
   ]
  },
  {
   "cell_type": "code",
   "execution_count": null,
   "metadata": {},
   "outputs": [],
   "source": [
    "cr.pl.terminal_states(rbdata_til, discrete=True)\n"
   ]
  },
  {
   "cell_type": "code",
   "execution_count": null,
   "metadata": {},
   "outputs": [],
   "source": [
    "#nrbdata=subdata[subdata.obs['RCat'].isin(['NR_adj','NR_nadj'])].copy()\n",
    "#rbdata=subdata[subdata.obs['RCat'].isin(['R','TF'])].copy()\n"
   ]
  },
  {
   "cell_type": "code",
   "execution_count": null,
   "metadata": {},
   "outputs": [],
   "source": [
    "scv.tl.paga(rbdata_til, groups='leiden', root_key='initial_states_probs', end_key='terminal_states_probs', \n",
    "            use_time_prior='velocity_pseudotime')\n",
    "\n",
    "\n",
    "sc.set_figure_params(10)\n",
    "import matplotlib.pyplot as plt\n",
    "plt.rcParams[\"figure.figsize\"] = (5,5)\n",
    "\n",
    "\n",
    "\n",
    "cr.pl.cluster_fates(rbdata_til, mode=\"paga_pie\", cluster_key=\"leiden\", basis='umap',\n",
    "                    legend_kwargs={'loc': 'top right out'}, legend_loc='top left out',\n",
    "                    node_size_scale=1, edge_width_scale=1, max_edge_width=4, title='directed PAGA', \n",
    "                   save='-subsettrajectorymap-'+velosubset+'.rbdata_til.PAGA.svg')\n"
   ]
  },
  {
   "cell_type": "code",
   "execution_count": null,
   "metadata": {},
   "outputs": [],
   "source": [
    "cr.tl.lineage_drivers(rbdata_til)\n",
    "\n",
    "lin_drivers_sub=rbdata_til.raw.var['to 14']\n",
    "\n",
    "lin_drivers_sub[np.abs(lin_drivers_sub)>0.05].sort_values(ascending=False)[0:15]\n",
    "\n",
    "tran_conf_rb_til=pd.DataFrame(rbdata_til.uns['paga']['transitions_confidence'].todense()).transpose()"
   ]
  },
  {
   "cell_type": "code",
   "execution_count": null,
   "metadata": {},
   "outputs": [],
   "source": [
    "cnames=['5','7','12','13','14','16','19','22','23','29']\n",
    "tconf=scv.get_df(rbdata_til, 'paga/transitions_confidence', precision=2).T\n",
    "tconf.index=cnames\n",
    "tconf.columns=cnames\n",
    "#tconf.to_csv(figdir+'/Transitionstable_'+velosubset+'-'+mysubset+'_'+subcat+'_leiden.rbdata_TIL.tsv',sep='\\t')\n",
    "\n",
    "tconf.style.background_gradient(cmap='Blues').format('{:.2g}')\n"
   ]
  },
  {
   "cell_type": "code",
   "execution_count": null,
   "metadata": {},
   "outputs": [],
   "source": [
    "scv.tl.paga(nrbdata_til, groups='leiden', root_key='initial_states_probs', end_key='terminal_states_probs', \n",
    "            use_time_prior='velocity_pseudotime')\n",
    "\n",
    "\n",
    "sc.set_figure_params(10)\n",
    "import matplotlib.pyplot as plt\n",
    "plt.rcParams[\"figure.figsize\"] = (5,5)\n",
    "\n",
    "\n",
    "\n",
    "cr.pl.cluster_fates(nrbdata_til, mode=\"paga_pie\", cluster_key=\"leiden\", basis='umap',\n",
    "                    legend_kwargs={'loc': 'top right out'}, legend_loc='top left out',\n",
    "                    node_size_scale=1, edge_width_scale=1, max_edge_width=4, title='directed PAGA',\n",
    "                    save='-subsettrajectorymap-'+velosubset+'.nrbdata_til.PAGA.svg')\n",
    "\n",
    "\n",
    "cr.tl.lineage_drivers(nrbdata_til)\n",
    "\n",
    "lin_drivers_sub=nrbdata_til.raw.var['to 14']\n",
    "\n",
    "lin_drivers_sub[np.abs(lin_drivers_sub)>0.05].sort_values(ascending=False)[0:15]\n",
    "\n",
    "tran_conf_rb_til=pd.DataFrame(nrbdata_til.uns['paga']['transitions_confidence'].todense()).transpose()"
   ]
  },
  {
   "cell_type": "code",
   "execution_count": null,
   "metadata": {},
   "outputs": [],
   "source": [
    "cnames=['5','7','12','13','14','16','19','22','23','29']\n",
    "tconf=scv.get_df(nrbdata_til, 'paga/transitions_confidence', precision=2).T\n",
    "tconf.index=cnames\n",
    "tconf.columns=cnames\n",
    "#tconf.to_csv(figdir+'/Transitionstable_'+velosubset+'-'+mysubset+'_'+subcat+'_leiden.nrbdata_TIL.tsv',sep='\\t')\n",
    "\n",
    "tconf.style.background_gradient(cmap='Blues').format('{:.2g}')\n"
   ]
  },
  {
   "cell_type": "code",
   "execution_count": null,
   "metadata": {},
   "outputs": [],
   "source": [
    "scv.tl.paga(rbdata, groups='leiden', root_key='initial_states_probs', end_key='terminal_states_probs', \n",
    "            use_time_prior='velocity_pseudotime')\n",
    "\n",
    "\n",
    "sc.set_figure_params(10)\n",
    "import matplotlib.pyplot as plt\n",
    "plt.rcParams[\"figure.figsize\"] = (5,5)\n",
    "\n",
    "\n",
    "\n",
    "cr.pl.cluster_fates(rbdata, mode=\"paga_pie\", cluster_key=\"leiden\", basis='umap',\n",
    "                    legend_kwargs={'loc': 'top right out'}, legend_loc='top left out',\n",
    "                    node_size_scale=1, edge_width_scale=1, max_edge_width=4, title='directed PAGA',\n",
    "                    save='-subsettrajectorymap-'+velosubset+'.rbdata.PAGA.svg')\n"
   ]
  },
  {
   "cell_type": "code",
   "execution_count": null,
   "metadata": {},
   "outputs": [],
   "source": [
    "\n",
    "\n",
    "cr.tl.lineage_drivers(rbdata)\n",
    "\n",
    "lin_drivers_sub=rbdata.raw.var['to 14']\n",
    "\n",
    "lin_drivers_sub[np.abs(lin_drivers_sub)>0.05].sort_values(ascending=False)[0:15]\n",
    "\n",
    "tran_conf_rb=pd.DataFrame(rbdata.uns['paga']['transitions_confidence'].todense()).transpose()"
   ]
  },
  {
   "cell_type": "code",
   "execution_count": null,
   "metadata": {},
   "outputs": [],
   "source": [
    "cnames=['5','7','12','13','14','16','19','22','23','29']\n",
    "tconf=scv.get_df(rbdata, 'paga/transitions_confidence', precision=2).T\n",
    "tconf.index=cnames\n",
    "tconf.columns=cnames\n",
    "#tconf.to_csv(figdir+'/Transitionstable_'+velosubset+'-'+mysubset+'_'+subcat+'_leiden.rbdata.tsv',sep='\\t')\n",
    "\n",
    "tconf.style.background_gradient(cmap='Blues').format('{:.2g}')\n"
   ]
  },
  {
   "cell_type": "code",
   "execution_count": null,
   "metadata": {},
   "outputs": [],
   "source": [
    "scv.tl.paga(nrbdata, groups='leiden', root_key='initial_states_probs', end_key='terminal_states_probs', \n",
    "            use_time_prior='velocity_pseudotime')\n",
    "\n",
    "\n",
    "sc.set_figure_params(10)\n",
    "import matplotlib.pyplot as plt\n",
    "plt.rcParams[\"figure.figsize\"] = (5,5)\n",
    "\n",
    "\n",
    "\n",
    "cr.pl.cluster_fates(nrbdata, mode=\"paga_pie\", cluster_key=\"leiden\", basis='umap',\n",
    "                    legend_kwargs={'loc': 'top right out'}, legend_loc='top left out',\n",
    "                    node_size_scale=1, edge_width_scale=1, max_edge_width=4, title='directed PAGA',\n",
    "                    save='-subsettrajectorymap-'+velosubset+'.nrbdata.PAGA.svg')\n",
    "\n",
    "\n",
    "cr.tl.lineage_drivers(nrbdata)\n",
    "\n",
    "lin_drivers_sub=nrbdata.raw.var['to 14']\n",
    "\n",
    "lin_drivers_sub[np.abs(lin_drivers_sub)>0.05].sort_values(ascending=False)[0:15]\n",
    "\n",
    "tran_conf_nrb=pd.DataFrame(nrbdata.uns['paga']['transitions_confidence'].todense()).transpose()"
   ]
  },
  {
   "cell_type": "code",
   "execution_count": null,
   "metadata": {},
   "outputs": [],
   "source": [
    "cnames=['5','7','12','13','14','16','19','22','23','29']\n",
    "tconf=scv.get_df(nrbdata, 'paga/transitions_confidence', precision=2).T\n",
    "tconf.index=cnames\n",
    "tconf.columns=cnames\n",
    "#tconf.to_csv(figdir+'/Transitionstable_'+velosubset+'-'+mysubset+'_'+subcat+'_leiden.nrbdata.tsv',sep='\\t')\n",
    "\n",
    "tconf.style.background_gradient(cmap='Blues').format('{:.2g}')\n"
   ]
  },
  {
   "cell_type": "code",
   "execution_count": null,
   "metadata": {},
   "outputs": [],
   "source": [
    "scv.tl.paga(rdata, groups='leiden', root_key='initial_states_probs', end_key='terminal_states_probs', \n",
    "            use_time_prior='velocity_pseudotime')\n",
    "\n",
    "\n",
    "sc.set_figure_params(10)\n",
    "import matplotlib.pyplot as plt\n",
    "plt.rcParams[\"figure.figsize\"] = (5,5)\n",
    "\n",
    "\n",
    "\n",
    "cr.pl.cluster_fates(rdata, mode=\"paga_pie\", cluster_key=\"leiden\", basis='umap',\n",
    "                    legend_kwargs={'loc': 'top right out'}, legend_loc='top left out',\n",
    "                    node_size_scale=1, edge_width_scale=1, max_edge_width=4, title='directed PAGA',\n",
    "                    save='-subsettrajectorymap-'+velosubset+'.rdata.PAGA.svg')\n",
    "\n",
    "\n",
    "cr.tl.lineage_drivers(rdata)\n",
    "\n",
    "lin_drivers_sub=rdata.raw.var['to 14']\n",
    "\n",
    "lin_drivers_sub[np.abs(lin_drivers_sub)>0.05].sort_values(ascending=False)[0:15]\n",
    "tran_conf_r=pd.DataFrame(nrbdata.uns['paga']['transitions_confidence'].todense()).transpose()"
   ]
  },
  {
   "cell_type": "code",
   "execution_count": null,
   "metadata": {},
   "outputs": [],
   "source": [
    "cnames=['5','7','12','13','14','16','19','22','23','29']\n",
    "tconf=scv.get_df(rbdata, 'paga/transitions_confidence', precision=2).T\n",
    "tconf.index=cnames\n",
    "tconf.columns=cnames\n",
    "#tconf.to_csv(figdir+'/Transitionstable_'+velosubset+'-'+mysubset+'_'+subcat+'_leiden.rdata.tsv',sep='\\t')\n",
    "\n",
    "tconf.style.background_gradient(cmap='Blues').format('{:.2g}')\n"
   ]
  },
  {
   "cell_type": "code",
   "execution_count": null,
   "metadata": {},
   "outputs": [],
   "source": [
    "scv.tl.paga(nrdata, groups='leiden', root_key='initial_states_probs', end_key='terminal_states_probs', \n",
    "            use_time_prior='velocity_pseudotime')\n",
    "\n",
    "\n",
    "cr.pl.cluster_fates(nrdata, mode=\"paga_pie\", cluster_key=\"leiden\", basis='umap',\n",
    "                    legend_kwargs={'loc': 'top right out'}, legend_loc='top left out',\n",
    "                    node_size_scale=1, edge_width_scale=1, max_edge_width=4, title='directed PAGA',\n",
    "                    save='-subsettrajectorymap-'+velosubset+'.nrdata.PAGA.svg')\n",
    "\n",
    "\n",
    "cr.tl.lineage_drivers(nrdata)\n",
    "\n",
    "lin_drivers_sub=nrdata.raw.var['to 14']\n",
    "\n",
    "lin_drivers_sub[np.abs(lin_drivers_sub)>0.05].sort_values(ascending=False)[0:15]\n",
    "tran_conf_nr=pd.DataFrame(nrdata.uns['paga']['transitions_confidence'].todense()).transpose()"
   ]
  },
  {
   "cell_type": "code",
   "execution_count": null,
   "metadata": {},
   "outputs": [],
   "source": [
    "cnames=['5','7','12','13','14','16','19','22','23','29']\n",
    "tconf=scv.get_df(nrbdata, 'paga/transitions_confidence', precision=2).T\n",
    "tconf.index=cnames\n",
    "tconf.columns=cnames\n",
    "#tconf.to_csv(figdir+'/Transitionstable_'+velosubset+'-'+mysubset+'_'+subcat+'_leiden.nrdata.tsv',sep='\\t')\n",
    "\n",
    "tconf.style.background_gradient(cmap='Blues').format('{:.2g}')\n"
   ]
  },
  {
   "cell_type": "code",
   "execution_count": null,
   "metadata": {},
   "outputs": [],
   "source": [
    "scv.tl.paga(tfdata, groups='leiden', root_key='initial_states_probs', end_key='terminal_states_probs', \n",
    "            use_time_prior='velocity_pseudotime')\n",
    "\n",
    "\n",
    "cr.pl.cluster_fates(tfdata, mode=\"paga_pie\", cluster_key=\"leiden\", basis='umap',\n",
    "                    legend_kwargs={'loc': 'top right out'}, legend_loc='top left out',\n",
    "                    node_size_scale=1, edge_width_scale=1, max_edge_width=4, title='directed PAGA',\n",
    "                    save='-subsettrajectorymap-'+velosubset+'.tfdata.PAGA.svg')\n",
    "\n",
    "\n",
    "cr.tl.lineage_drivers(tfdata)\n",
    "\n",
    "\n",
    "lin_drivers_sub=tfdata.raw.var['to 14']\n",
    "\n",
    "lin_drivers_sub[np.abs(lin_drivers_sub)>0.05].sort_values(ascending=False)[0:15]\n",
    "tran_conf_tf=pd.DataFrame(tfdata.uns['paga']['transitions_confidence'].todense()).transpose()"
   ]
  },
  {
   "cell_type": "code",
   "execution_count": null,
   "metadata": {},
   "outputs": [],
   "source": [
    "cnames=['5','7','12','13','14','16','19','22','23','29']\n",
    "tconf=scv.get_df(tfdata, 'paga/transitions_confidence', precision=2).T\n",
    "tconf.index=cnames\n",
    "tconf.columns=cnames\n",
    "#tconf.to_csv(figdir+'/Transitionstable_'+velosubset+'-'+mysubset+'_'+subcat+'_leiden.tfdata.tsv',sep='\\t')\n",
    "\n",
    "tconf.style.background_gradient(cmap='Blues').format('{:.2g}')\n"
   ]
  },
  {
   "cell_type": "code",
   "execution_count": null,
   "metadata": {},
   "outputs": [],
   "source": [
    "scv.tl.paga(nrnadjdata, groups='leiden', root_key='initial_states_probs', end_key='terminal_states_probs', \n",
    "            use_time_prior='velocity_pseudotime')\n",
    "\n",
    "\n",
    "cr.pl.cluster_fates(nrnadjdata, mode=\"paga_pie\", cluster_key=\"leiden\", basis='umap',\n",
    "                    legend_kwargs={'loc': 'top right out'}, legend_loc='top left out',\n",
    "                    node_size_scale=1, edge_width_scale=1, max_edge_width=4, title='directed PAGA',\n",
    "                    save='-subsettrajectorymap-'+velosubset+'.nrnadjdata.PAGA.svg')\n",
    "\n",
    "\n",
    "cr.tl.lineage_drivers(nrnadjdata)\n",
    "\n",
    "lin_drivers_sub=nrnadjdata.raw.var['to 14']\n",
    "\n",
    "lin_drivers_sub[np.abs(lin_drivers_sub)>0.05].sort_values(ascending=False)[0:15]\n",
    "tran_conf_nrnadj=pd.DataFrame(nrnadjdata.uns['paga']['transitions_confidence'].todense()).transpose()"
   ]
  },
  {
   "cell_type": "markdown",
   "metadata": {},
   "source": [
    "### Genes for specific paths "
   ]
  },
  {
   "cell_type": "code",
   "execution_count": null,
   "metadata": {},
   "outputs": [],
   "source": [
    "sc.set_figure_params(10)\n",
    "import matplotlib.pyplot as plt\n",
    "plt.rcParams[\"figure.figsize\"] = (5,5)"
   ]
  },
  {
   "cell_type": "code",
   "execution_count": null,
   "metadata": {},
   "outputs": [],
   "source": [
    "#subp"
   ]
  },
  {
   "cell_type": "code",
   "execution_count": null,
   "metadata": {},
   "outputs": [],
   "source": [
    "sc.pl.umap(subdata,color=['CD3D','CD2','MSR1','TREM2','CD63'], color_map='viridis')"
   ]
  },
  {
   "cell_type": "code",
   "execution_count": null,
   "metadata": {},
   "outputs": [],
   "source": [
    "sc.pl.dotplot(subdata,var_names=['CD3D','CD2', 'GZMA','MSR1','TREM2','HLA-DRA','CD63' ,\n",
    "                                 'G0S2','NLRP3', 'CXCL9', 'ISG15','MARCO','IL1B','SPP1'], \n",
    "              groupby='leiden', dendrogram=True)"
   ]
  },
  {
   "cell_type": "code",
   "execution_count": null,
   "metadata": {},
   "outputs": [],
   "source": [
    "#subp=rbdata[rbdata.obs['leiden'].isin(['5','29','19'])].copy()\n",
    "#subp=rbdata[rbdata.obs['leiden'].isin(['5','29','19'])].copy()\n",
    "#subp=rbdata[rbdata.obs['leiden'].isin(['22','14'])].copy()\n",
    "#[nrbdata.obs['leiden'].isin(['7','22','5','29','19','14','12','23','16','13'])].copy()\n",
    "\n",
    "#subp=nrdata[nrdata.obs['leiden'].isin(['7','22','5','29','19','14','12','23','16','13'])].copy()\n",
    "#subp=subdata[subdata.obs['leiden'].isin(['7','13','16','22','23'])].copy()\n",
    "#subp=subdata[subdata.obs['leiden'].isin(['7','13','16','22','23'])].copy()\n",
    "subp=subdata[subdata.obs['leiden'].isin(['16','22','14'])].copy()\n",
    "\n",
    "#subp=subp[subp.obs['RCat'].isin(['NR_adj','NR_nadj'])].copy()\n",
    "subp=subp[subp.obs['RCat'].isin(['TF','R'])].copy()\n",
    "\n",
    "#subp=subp.copy()\n",
    "scv.tl.paga(subp, groups='leiden', root_key='initial_states_probs', end_key='terminal_states_probs', \n",
    "            use_time_prior='velocity_pseudotime')\n",
    "\n"
   ]
  },
  {
   "cell_type": "code",
   "execution_count": null,
   "metadata": {},
   "outputs": [],
   "source": [
    "cr.pl.cluster_fates(subp, mode=\"paga_pie\", cluster_key=\"leiden\", basis='umap',\n",
    "                    legend_kwargs={'loc': 'top right out'}, legend_loc='top left out',\n",
    "                    node_size_scale=1, edge_width_scale=1, max_edge_width=4, title='directed PAGA')\n"
   ]
  },
  {
   "cell_type": "code",
   "execution_count": null,
   "metadata": {},
   "outputs": [],
   "source": [
    "cr.tl.lineage_drivers(subp)"
   ]
  },
  {
   "cell_type": "code",
   "execution_count": null,
   "metadata": {},
   "outputs": [],
   "source": [
    "lin_drivers_sub=subp.raw.var['to 14']\n",
    "\n",
    "lin_drivers_sub[np.abs(lin_drivers_sub)>0.05].sort_values(ascending=False)[0:15]"
   ]
  },
  {
   "cell_type": "code",
   "execution_count": null,
   "metadata": {},
   "outputs": [],
   "source": [
    "\n",
    "\n",
    "lin_drivers_sub[np.abs(lin_drivers_sub)>0.05].sort_values(ascending=False)[0:15]\n",
    "\n",
    "lin_drivers_sub[np.abs(lin_drivers_sub)>0.05].sort_values(ascending=True)[0:15]"
   ]
  },
  {
   "cell_type": "code",
   "execution_count": null,
   "metadata": {},
   "outputs": [],
   "source": [
    "set(velogenes.index).intersection(set(lin_drivers_sub[np.abs(lin_drivers_sub)>0.05].sort_values(ascending=True).index))"
   ]
  },
  {
   "cell_type": "code",
   "execution_count": null,
   "metadata": {},
   "outputs": [],
   "source": [
    "up=set(velogenes.index).intersection(set(lin_drivers_sub[np.abs(lin_drivers_sub)>0.05].sort_values(ascending=True)[0:40].index))"
   ]
  },
  {
   "cell_type": "code",
   "execution_count": null,
   "metadata": {},
   "outputs": [],
   "source": [
    "down=set(velogenes.index).intersection(set(lin_drivers_sub[np.abs(lin_drivers_sub)>0.05].sort_values(ascending=False)[0:40].index))"
   ]
  },
  {
   "cell_type": "code",
   "execution_count": null,
   "metadata": {},
   "outputs": [],
   "source": [
    "##down=set(lin_drivers_sub[np.abs(lin_drivers_sub)>0.05].sort_values(ascending=False)[0:40].index)"
   ]
  },
  {
   "cell_type": "code",
   "execution_count": null,
   "metadata": {},
   "outputs": [],
   "source": [
    "up"
   ]
  },
  {
   "cell_type": "code",
   "execution_count": null,
   "metadata": {},
   "outputs": [],
   "source": [
    "down"
   ]
  },
  {
   "cell_type": "code",
   "execution_count": null,
   "metadata": {},
   "outputs": [],
   "source": [
    "lin_drivers_sub[np.abs(lin_drivers_sub)>0.05].sort_values(ascending=False).to_csv(figdir+'/Lingenes_'+velosubset+'-'+mysubset+'_'+subcat+'_rbdata_leiden_14-16-22.tsv',sep='\\t')"
   ]
  },
  {
   "cell_type": "code",
   "execution_count": null,
   "metadata": {},
   "outputs": [],
   "source": [
    "figdir+'/Lingenes_'+velosubset+'-'+mysubset+'_'+subcat+'_rbdata_leiden_5-29-19.tsv'"
   ]
  },
  {
   "cell_type": "code",
   "execution_count": null,
   "metadata": {},
   "outputs": [],
   "source": [
    "scv.pl.velocity(subp, list(up)[0:6], ncols=2, add_outline=True,color='leiden')"
   ]
  },
  {
   "cell_type": "code",
   "execution_count": null,
   "metadata": {},
   "outputs": [],
   "source": [
    "adatapbmc=adata[adata.obs['Sample type']=='PBMC'].copy()\n",
    "adatatil=adata[adata.obs['Sample type']=='TIL'].copy()"
   ]
  },
  {
   "cell_type": "code",
   "execution_count": null,
   "metadata": {},
   "outputs": [],
   "source": [
    "set(adata.obs['celltype3_pub'])"
   ]
  },
  {
   "cell_type": "code",
   "execution_count": null,
   "metadata": {},
   "outputs": [],
   "source": [
    "adatanocc=adata[adata.obs['celltype3_pub']!='non-classical monocyte'].copy()"
   ]
  },
  {
   "cell_type": "code",
   "execution_count": null,
   "metadata": {},
   "outputs": [],
   "source": [
    "scv.tl.latent_time(adatanocc,min_likelihood=0.2, min_confidence=0.9) # #,root_key='iroot'\n",
    "#scv.tl.latent_time(adata)\n",
    "scv.pl.scatter(adatanocc, color='latent_time', color_map='gnuplot', size=30)"
   ]
  },
  {
   "cell_type": "code",
   "execution_count": null,
   "metadata": {},
   "outputs": [],
   "source": [
    "scv.tl.latent_time(adatapbmc,min_likelihood=0.2, min_confidence=0.9) # #,root_key='iroot'\n",
    "#scv.tl.latent_time(adata)\n",
    "scv.pl.scatter(adatapbmc, color='latent_time', color_map='gnuplot', size=30)"
   ]
  },
  {
   "cell_type": "code",
   "execution_count": null,
   "metadata": {},
   "outputs": [],
   "source": [
    "scv.tl.latent_time(adatatil,min_likelihood=0.2, min_confidence=0.9) # #,root_key='iroot'\n",
    "#scv.tl.latent_time(adata)\n",
    "scv.pl.scatter(adatatil, color='latent_time', color_map='gnuplot', size=30)"
   ]
  },
  {
   "cell_type": "code",
   "execution_count": null,
   "metadata": {},
   "outputs": [],
   "source": [
    "cdata=adata.copy()"
   ]
  },
  {
   "cell_type": "code",
   "execution_count": null,
   "metadata": {},
   "outputs": [],
   "source": [
    "scv.tl.latent_time(cdata,min_likelihood=0.2, min_confidence=0.9) # #,root_key='iroot'\n",
    "#scv.tl.latent_time(adata)\n",
    "scv.pl.scatter(cdata, color='latent_time', color_map='gnuplot', size=30)"
   ]
  },
  {
   "cell_type": "code",
   "execution_count": null,
   "metadata": {},
   "outputs": [],
   "source": [
    "#sc.pl.umap(adata[adata.obs['root_cells']>0.5], color=['leiden','celltype3'])"
   ]
  },
  {
   "cell_type": "code",
   "execution_count": null,
   "metadata": {},
   "outputs": [],
   "source": [
    "sc.pl.umap(cdata, color=['root_cells','end_points'])"
   ]
  },
  {
   "cell_type": "code",
   "execution_count": null,
   "metadata": {},
   "outputs": [],
   "source": [
    "sc.pl.umap(adatanocc, color=['root_cells','end_points'])"
   ]
  },
  {
   "cell_type": "code",
   "execution_count": null,
   "metadata": {},
   "outputs": [],
   "source": [
    "#adata.write(\"/pstore/data/biomics/_pre_portfolio/ONC/scSEQ/ROCHE_INHOUSE/Schlieren_Project_Support_8/Fullanalysis/CD8Tcells-loom-dyn.pathNaitoTExh.h5ad\")\n",
    "#adata.write(\"/pstore/data/biomics/_pre_portfolio/ONC/scSEQ/ROCHE_INHOUSE/Schlieren_Project_Support_8/Fullanalysis/CD8Tcells-loom-dyn.h5ad\")\n",
    "#adata.write(\"/pstore/data/biostats/users/kamthont/scvelo/loom.h5ad\", compression=\"gzip\")\n",
    "#adata=scv.read(\"/pstore/data/biostats/users/kamthont/scvelo/loom.h5ad\")\n",
    "#adata.write(\"/pstore/data/biomics/_pre_portfolio/ONC/scSEQ/ROCHE_INHOUSE/Schlieren_Project_Support_8/Fullanalysis/CD8Tcells-\"+mysubset+\"_\"+subcat+\"_loom-dyn.h5ad\")\n",
    "adata.write(WD+'analyzed/'+analysis_name+'/velocity/Velo-'+velosubset+'-'+mysubset+'-'+subcat+'-dyn.h5ad')\n",
    "\n"
   ]
  },
  {
   "cell_type": "code",
   "execution_count": null,
   "metadata": {},
   "outputs": [],
   "source": [
    "adata=sc.read(WD+'analyzed/'+analysis_name+'/velocity/Velo-'+velosubset+'-'+mysubset+'-'+subcat+'-dyn.h5ad')"
   ]
  },
  {
   "cell_type": "code",
   "execution_count": null,
   "metadata": {},
   "outputs": [],
   "source": [
    "ddata=cdata.copy()"
   ]
  },
  {
   "cell_type": "code",
   "execution_count": null,
   "metadata": {},
   "outputs": [],
   "source": [
    "ddata.obs['R_clus']=ddata.obs['RCat'].astype(str)+'-'+[x.replace(\"-\", \"_\") for x in ddata.obs['leiden'].astype(str)]\n",
    "ddata.obs['Pat_clus']=ddata.obs['PatientID'].astype(str)+'-'+[x.replace(\"-\", \"_\") for x in ddata.obs['leiden'].astype(str)]\n",
    "dfPat = ddata.obs.groupby('Pat_clus')['velocity_length', 'velocity_confidence','latent_time'].mean().T"
   ]
  },
  {
   "cell_type": "code",
   "execution_count": null,
   "metadata": {},
   "outputs": [],
   "source": [
    "dfPat"
   ]
  },
  {
   "cell_type": "code",
   "execution_count": null,
   "metadata": {},
   "outputs": [],
   "source": [
    "Resp=[ddata[ddata.obs['PatientID']==x.split('-')[0]].obs['RCat'][0] for x in list(dfPat.columns)]\n",
    "PatientID=[x.split('-')[0]  for x in list(dfPat.columns)]\n",
    "ClusterID=[x.split('-')[1]  for x in list(dfPat.columns)]"
   ]
  },
  {
   "cell_type": "code",
   "execution_count": null,
   "metadata": {},
   "outputs": [],
   "source": [
    "mydf=pd.DataFrame([list(dfPat.loc['velocity_length',:]),Resp,PatientID,ClusterID]).transpose()\n",
    "mydf.index=dfPat.columns\n",
    "mydf.columns=['velocity_length','Response','PatientID','Cluster']\n",
    "\n",
    "mydfl=pd.DataFrame([list(dfPat.loc['latent_time',:]),Resp,PatientID,ClusterID]).transpose()\n",
    "mydfl.index=dfPat.columns\n",
    "mydfl.columns=['latent_time','Response','PatientID','Cluster']"
   ]
  },
  {
   "cell_type": "code",
   "execution_count": null,
   "metadata": {},
   "outputs": [],
   "source": [
    "mydf.groupby('PatientID', as_index=False)['velocity_length']"
   ]
  },
  {
   "cell_type": "code",
   "execution_count": null,
   "metadata": {},
   "outputs": [],
   "source": [
    "color_dict = {'R': 'coral', 'TF': 'firebrick', 'NR_nadj': 'lightskyblue','NR_adj': 'royalblue'}"
   ]
  },
  {
   "cell_type": "markdown",
   "metadata": {},
   "source": [
    "#### Velocity test first"
   ]
  },
  {
   "cell_type": "code",
   "execution_count": null,
   "metadata": {},
   "outputs": [],
   "source": [
    "#corder=['8','6','1','21']\n",
    "mydf['velocity_length']=mydf['velocity_length'].astype('float')\n",
    "velMean=mydf.groupby('PatientID')['velocity_length'].mean()\n",
    "patid=[ddata[ddata.obs['PatientID']==x.split('-')[0]].obs['RCat'][0]  for x in list(velMean.index)]\n",
    "totest=pd.DataFrame([list(velMean),patid]).transpose()\n",
    "totest.columns=['Val','Cat']"
   ]
  },
  {
   "cell_type": "code",
   "execution_count": null,
   "metadata": {},
   "outputs": [],
   "source": [
    "ss.mannwhitneyu(list(totest.loc[totest['Cat']=='R',:]['Val']),list(totest.loc[totest['Cat']=='NR_nadj',:]['Val']))"
   ]
  },
  {
   "cell_type": "code",
   "execution_count": null,
   "metadata": {},
   "outputs": [],
   "source": [
    "ss.mannwhitneyu(list(totest.loc[totest['Cat']=='TF',:]['Val']),list(totest.loc[totest['Cat']=='NR_adj',:]['Val']))"
   ]
  },
  {
   "cell_type": "code",
   "execution_count": null,
   "metadata": {},
   "outputs": [],
   "source": [
    "set(mydf['Response'])"
   ]
  },
  {
   "cell_type": "code",
   "execution_count": null,
   "metadata": {},
   "outputs": [],
   "source": [
    "totestk=totest.copy()"
   ]
  },
  {
   "cell_type": "code",
   "execution_count": null,
   "metadata": {},
   "outputs": [],
   "source": [
    "fig=sns.boxplot(y='Val',x='Cat',data=totestk,palette=color_dict,order=['R','TF','NR_nadj','NR_adj'])\n",
    "fig=sns.swarmplot(x='Cat',y='Val',data=totestk,color='black',order=['R','TF','NR_nadj','NR_adj'])\n",
    "fig.figure.savefig(figdir+'Velocitylen-'+velosubset+'-'+mysubset+'-'+subcat+'-per-response.pdf') "
   ]
  },
  {
   "cell_type": "code",
   "execution_count": null,
   "metadata": {},
   "outputs": [],
   "source": [
    "totest=list(itertools.combinations(['R','TF','NR_nadj','NR_adj'], 2))\n",
    "pwilc={}\n",
    "pt={}\n",
    "for pairs in totest:\n",
    "    pwilc[pairs[0]+'-'+pairs[1]]=stats.mannwhitneyu(list(totestk.loc[totestk['Cat']==pairs[0],:]['Val']), \n",
    "                           list(totestk.loc[totestk['Cat']==pairs[1],:]['Val']))[1]\n",
    "    pt[pairs[0]+'-'+pairs[1]]=stats.ttest_ind(list(totestk.loc[totestk['Cat']==pairs[0],:]['Val']), \n",
    "                           list(totestk.loc[totestk['Cat']==pairs[1],:]['Val']))[1]\n",
    "\n",
    "myps=pd.DataFrame([pwilc,pt]).transpose()\n",
    "myps.columns=['MannWhitney','T-test']\n",
    "\n",
    "myps.to_csv(figdir+'Pval-Velocitylen-'+velosubset+'-'+mysubset+'-'+subcat+'-per-response.pdf',sep='\\t')"
   ]
  },
  {
   "cell_type": "code",
   "execution_count": null,
   "metadata": {},
   "outputs": [],
   "source": [
    "myps"
   ]
  },
  {
   "cell_type": "code",
   "execution_count": null,
   "metadata": {},
   "outputs": [],
   "source": [
    "corder=list(set(mydf['Cluster']))"
   ]
  },
  {
   "cell_type": "code",
   "execution_count": null,
   "metadata": {},
   "outputs": [],
   "source": [
    "for i in corder:\n",
    "    sns.boxplot(y='velocity_length',x='Response',data=mydf.loc[mydf['Cluster']==i,:],\n",
    "                palette=color_dict,order=['R','TF','NR_nadj','NR_adj'])\n",
    "    sns.swarmplot(x='Response',y='velocity_length',data=mydf.loc[mydf['Cluster']==i,:],\n",
    "                  color='black',order=['R','TF','NR_nadj','NR_adj'])\n",
    "    print('Cluster '+i)\n",
    "    plt.figure()"
   ]
  },
  {
   "cell_type": "markdown",
   "metadata": {},
   "source": [
    "#### Latent time next"
   ]
  },
  {
   "cell_type": "code",
   "execution_count": null,
   "metadata": {},
   "outputs": [],
   "source": [
    "mydfl"
   ]
  },
  {
   "cell_type": "code",
   "execution_count": null,
   "metadata": {},
   "outputs": [],
   "source": [
    "#corder=['8','6','1','21']\n",
    "mydfl['latent_time']=mydfl['latent_time'].astype('float')\n",
    "velMean=mydfl.groupby('PatientID')['latent_time'].mean()\n",
    "patid=[ddata[ddata.obs['PatientID']==x.split('-')[0]].obs['RCat'][0]  for x in list(velMean.index)]\n",
    "totest=pd.DataFrame([list(velMean),patid]).transpose()\n",
    "totest.columns=['Val','Cat']\n",
    "\n",
    "ss.mannwhitneyu(list(totest.loc[totest['Cat']=='R',:]['Val']),list(totest.loc[totest['Cat']=='NR_nadj',:]['Val']))\n",
    "\n"
   ]
  },
  {
   "cell_type": "code",
   "execution_count": null,
   "metadata": {},
   "outputs": [],
   "source": [
    "ss.mannwhitneyu(list(totest.loc[totest['Cat']=='TF',:]['Val']),list(totest.loc[totest['Cat']=='NR_adj',:]['Val']))"
   ]
  },
  {
   "cell_type": "code",
   "execution_count": null,
   "metadata": {},
   "outputs": [],
   "source": [
    "totestk=totest.copy()"
   ]
  },
  {
   "cell_type": "code",
   "execution_count": null,
   "metadata": {},
   "outputs": [],
   "source": [
    "fig=sns.boxplot(y='Val',x='Cat',data=totestk,palette=color_dict,order=['R','TF','NR_nadj','NR_adj'])\n",
    "fig=sns.swarmplot(x='Cat',y='Val',data=totestk,color='black',order=['R','TF','NR_nadj','NR_adj'])\n",
    "fig.figure.savefig(figdir+'LatentTime-'+velosubset+'-'+mysubset+'-'+subcat+'-per-response.pdf') "
   ]
  },
  {
   "cell_type": "code",
   "execution_count": null,
   "metadata": {},
   "outputs": [],
   "source": [
    "corder=list(set(mydf['Cluster']))\n",
    "\n",
    "for i in corder:\n",
    "    sns.boxplot(y='latent_time',x='Response',data=mydfl.loc[mydf['Cluster']==i,:],\n",
    "                palette=color_dict,order=['R','TF','NR_nadj','NR_adj'])\n",
    "    sns.swarmplot(x='Response',y='latent_time',data=mydfl.loc[mydfl['Cluster']==i,:],\n",
    "                  color='black',order=['R','TF','NR_nadj','NR_adj'])\n",
    "    print('Cluster '+i)\n",
    "    plt.figure()"
   ]
  },
  {
   "cell_type": "markdown",
   "metadata": {},
   "source": [
    "### Latent time\n",
    "\n",
    "The dynamical model recovers the latent time of the underlying cellular processes. This latent time represents the cell’s internal clock and approximates the real time experienced by cells as they differentiate, based only on its transcriptional dynamics. "
   ]
  },
  {
   "cell_type": "code",
   "execution_count": null,
   "metadata": {},
   "outputs": [],
   "source": [
    "scv.tl.rank_dynamical_genes(cdata, groupby='leiden')\n"
   ]
  },
  {
   "cell_type": "code",
   "execution_count": null,
   "metadata": {},
   "outputs": [],
   "source": [
    "df = scv.get_df(cdata, 'rank_dynamical_genes/names')\n",
    "df.head(10)\n",
    "#r"
   ]
  },
  {
   "cell_type": "code",
   "execution_count": null,
   "metadata": {},
   "outputs": [],
   "source": [
    "scv.tl.rank_dynamical_genes(cdata, groupby='celltype3_pub')\n"
   ]
  },
  {
   "cell_type": "code",
   "execution_count": null,
   "metadata": {},
   "outputs": [],
   "source": [
    "df = scv.get_df(cdata, 'rank_dynamical_genes/names')\n",
    "df.head(10)\n",
    "#r"
   ]
  },
  {
   "cell_type": "code",
   "execution_count": null,
   "metadata": {},
   "outputs": [],
   "source": [
    "scv.tl.rank_dynamical_genes(cdata, groupby='leiden')\n"
   ]
  },
  {
   "cell_type": "code",
   "execution_count": null,
   "metadata": {},
   "outputs": [],
   "source": [
    "df = scv.get_df(cdata, 'rank_dynamical_genes/names')\n",
    "df.head(10)\n",
    "#r"
   ]
  },
  {
   "cell_type": "code",
   "execution_count": null,
   "metadata": {},
   "outputs": [],
   "source": [
    "df.head(50).to_csv(figdir+'/TopDynamicGenesPerCluster_'+velosubset+'-'+mysubset+'_'+subcat+'_loom-dyn_Top50Ranked.tsv',sep='\\t')"
   ]
  },
  {
   "cell_type": "code",
   "execution_count": null,
   "metadata": {},
   "outputs": [],
   "source": [
    "ofinterest=set([item for sublist in df.head(25).values.tolist() for item in sublist])\n",
    "\n"
   ]
  },
  {
   "cell_type": "code",
   "execution_count": null,
   "metadata": {},
   "outputs": [],
   "source": [
    "scv.pl.velocity(cdata, ['VCAN', 'S100A8','FCN1'], ncols=2, add_outline=True)"
   ]
  },
  {
   "cell_type": "code",
   "execution_count": null,
   "metadata": {},
   "outputs": [],
   "source": [
    "scv.pl.velocity(cdata, ['BCL2A1', 'CD36','FGR'], ncols=2, add_outline=True)"
   ]
  },
  {
   "cell_type": "code",
   "execution_count": null,
   "metadata": {},
   "outputs": [],
   "source": [
    "velogenes=cdata.var.loc[(cdata.var['velocity_genes']==True)&(cdata.var['fit_likelihood']>.1),:]"
   ]
  },
  {
   "cell_type": "code",
   "execution_count": null,
   "metadata": {},
   "outputs": [],
   "source": [
    "velogenes.sort_values('fit_likelihood', ascending=False)"
   ]
  },
  {
   "cell_type": "code",
   "execution_count": null,
   "metadata": {},
   "outputs": [],
   "source": [
    "set(list(velogenes.index))"
   ]
  },
  {
   "cell_type": "code",
   "execution_count": null,
   "metadata": {},
   "outputs": [],
   "source": [
    "top_genes = cdata.var['fit_likelihood'].sort_values(ascending=False).index#[:300]\n"
   ]
  },
  {
   "cell_type": "code",
   "execution_count": null,
   "metadata": {},
   "outputs": [],
   "source": [
    "top_genes1=cdata.var['fit_likelihood'].sort_values(ascending=False).index[:250]"
   ]
  },
  {
   "cell_type": "code",
   "execution_count": null,
   "metadata": {},
   "outputs": [],
   "source": [
    "invelo=[]\n",
    "for x in list(top_genes):\n",
    "    invelo=invelo+list(set([x]).intersection(set(velogenes.index)))"
   ]
  },
  {
   "cell_type": "code",
   "execution_count": null,
   "metadata": {},
   "outputs": [],
   "source": [
    "scv.pl.heatmap(cdata, var_names=top_genes1, sortby='latent_time', \n",
    "               col_color='leiden', n_convolve=30,\n",
    "               font_scale=0.5,  figsize=(8, 6))"
   ]
  },
  {
   "cell_type": "code",
   "execution_count": null,
   "metadata": {},
   "outputs": [],
   "source": [
    "scv.pl.heatmap(cdata, var_names=invelo, sortby='latent_time', \n",
    "               col_color='celltype3_pub', n_convolve=30,\n",
    "               font_scale=0.5,  figsize=(8, 6))"
   ]
  },
  {
   "cell_type": "code",
   "execution_count": null,
   "metadata": {},
   "outputs": [],
   "source": [
    "scv.pl.heatmap(cdata, var_names=invelo[0:50], \n",
    "               sortby='latent_time', col_color='celltype3_pub', n_convolve=30,\n",
    "               font_scale=0.5,  figsize=(8, 6))"
   ]
  },
  {
   "cell_type": "code",
   "execution_count": null,
   "metadata": {},
   "outputs": [],
   "source": [
    "scv.pl.heatmap(cdata, var_names=invelo[50:100], \n",
    "               sortby='latent_time', col_color='celltype3_pub', n_convolve=30,\n",
    "               font_scale=0.5,  figsize=(8, 6))"
   ]
  },
  {
   "cell_type": "code",
   "execution_count": null,
   "metadata": {},
   "outputs": [],
   "source": [
    "if (len(invelo)>100):\n",
    "    scv.pl.heatmap(cdata, var_names=invelo[100:len(invelo)], \n",
    "               sortby='latent_time', col_color='celltype3_pub', n_convolve=30,\n",
    "               font_scale=0.5,  figsize=(8, 6))"
   ]
  },
  {
   "cell_type": "code",
   "execution_count": null,
   "metadata": {},
   "outputs": [],
   "source": [
    "velogenes.sort_values('fit_likelihood', ascending=False).to_csv(figdir+'/VelocityInfoPerGene_'+velosubset+'-'+mysubset+'_'+subcat+'_loom-dyn_allVeloGenesRanked.tsv',sep='\\t')"
   ]
  },
  {
   "cell_type": "code",
   "execution_count": null,
   "metadata": {},
   "outputs": [],
   "source": [
    "tkey='latent_time'\n",
    "var_names=invelo\n",
    "var_names = [name for name in var_names if name in adata.var_names]\n",
    "xkey='Ms'\n",
    "time = cdata.obs[tkey].values\n",
    "time = time[np.isfinite(time)]\n",
    "\n",
    "df = pd.DataFrame(cdata[:, var_names].layers[xkey][np.argsort(time)], columns=var_names)"
   ]
  },
  {
   "cell_type": "code",
   "execution_count": null,
   "metadata": {},
   "outputs": [],
   "source": [
    "list(adata.obs.columns)"
   ]
  },
  {
   "cell_type": "code",
   "execution_count": null,
   "metadata": {},
   "outputs": [],
   "source": [
    "max_sort = np.argsort(np.argmax(df.values, axis=0))\n",
    "df = pd.DataFrame(df.values[:, max_sort], columns=df.columns[max_sort])\n",
    "df.index=pd.DataFrame([cdata.obs['celltype3_merged'][np.argsort(time)],\n",
    "                       cdata.obs['leiden'][np.argsort(time)],cdata.obs['latent_time'][np.argsort(time)]]).transpose().index\n",
    "df=pd.concat([df,pd.DataFrame([cdata.obs['celltype3_merged'][np.argsort(time)],\n",
    "                               cdata.obs['leiden'][np.argsort(time)],cdata.obs['latent_time'][np.argsort(time)]]).transpose()], axis=1)"
   ]
  },
  {
   "cell_type": "code",
   "execution_count": null,
   "metadata": {},
   "outputs": [],
   "source": [
    "def getMeans(adata,myvar):\n",
    "    gene_ids = adata.raw.var.index.values\n",
    "    clusters = adata.obs[myvar].cat.categories\n",
    "    obs = adata.raw[:,gene_ids].X.toarray()\n",
    "    obs = pd.DataFrame(obs,columns=gene_ids,index=adata.obs[myvar])\n",
    "    average_obs = obs.groupby(level=0).mean()\n",
    "    obs_bool = obs.astype(bool)\n",
    "    fraction_obs = obs_bool.groupby(level=0).sum()/obs_bool.groupby(level=0).count()\n",
    "    return(average_obs,fraction_obs)\n"
   ]
  },
  {
   "cell_type": "code",
   "execution_count": null,
   "metadata": {},
   "outputs": [],
   "source": [
    "avg,fct=getMeans(cdata,'leiden')"
   ]
  },
  {
   "cell_type": "code",
   "execution_count": null,
   "metadata": {},
   "outputs": [],
   "source": [
    "avg.loc[:,ofinterest]"
   ]
  },
  {
   "cell_type": "code",
   "execution_count": null,
   "metadata": {},
   "outputs": [],
   "source": []
  },
  {
   "cell_type": "code",
   "execution_count": null,
   "metadata": {},
   "outputs": [],
   "source": [
    "scv.settings.set_figure_params('scvelo')\n",
    "\n",
    "plt.figure(figsize=(4,3))\n",
    "mydat=ddata.obs.loc[:,['RCat','latent_time']]\n",
    "fig=sns.violinplot(x='RCat',y='latent_time',data=mydat, palette=color_dict, order=['R','TF','NR_nadj','NR_adj'])\n",
    "fig.figure.savefig(figdir+'LatentTime-'+velosubset+'-'+mysubset+'-'+subcat+'-per-response-violins.pdf') "
   ]
  },
  {
   "cell_type": "code",
   "execution_count": null,
   "metadata": {},
   "outputs": [],
   "source": []
  },
  {
   "cell_type": "code",
   "execution_count": null,
   "metadata": {},
   "outputs": [],
   "source": [
    "lt={}\n",
    "for resp in  list(color_dict.keys()):\n",
    "    lt[resp]=cdata[cdata.obs['RCat']==resp].obs['latent_time']\n",
    "mydat=cdata.obs.loc[:,['RCat','latent_time']]\n",
    "\n",
    "plt.figure(figsize=(4,3))\n",
    "myc=list(color_dict.values())\n",
    "i=0\n",
    "# Iterate through the five airlines\n",
    "for resp in list(color_dict.keys()):\n",
    "    subset = lt[resp]\n",
    "    sns.distplot(subset, hist = False, kde = True,\n",
    "                 kde_kws = {'linewidth': 3},\n",
    "                 label = resp,color=myc[i])\n",
    "    i=i+1\n",
    "\n",
    "# Plot formatting\n",
    "plt.legend(prop={'size': 10}, title = 'Responders')\n",
    "plt.title('Density Plot across Responses')\n",
    "plt.xlabel('Latent time')\n",
    "plt.ylabel('Density')\n",
    "#plt.savefig(outpath+'/LatentTime_RvsNR_CD8TNK_CCtoExh_TILonly.pdf')\n",
    "plt.savefig(figdir+'LatentTime-'+velosubset+'-'+mysubset+'-'+subcat+'-per-response-desity.pdf')"
   ]
  },
  {
   "cell_type": "code",
   "execution_count": null,
   "metadata": {},
   "outputs": [],
   "source": [
    "### check avg. per patient as well\n",
    "r_nr=ss.mannwhitneyu(x=mydat.loc[mydat['RCat']=='R','latent_time'], y=mydat.loc[mydat['RCat']=='NR_nadj','latent_time'])[1]\n",
    "### check avg. per patient as well\n",
    "r_tf=ss.mannwhitneyu(x=mydat.loc[mydat['RCat']=='R','latent_time'], y=mydat.loc[mydat['RCat']=='TF','latent_time'])[1]\n",
    "### check avg. per patient as well\n",
    "r_pd=ss.mannwhitneyu(x=mydat.loc[mydat['RCat']=='R','latent_time'], y=mydat.loc[mydat['RCat']=='NR_adj','latent_time'])[1]\n",
    "### check avg. per patient as well\n",
    "tf_pd=ss.mannwhitneyu(x=mydat.loc[mydat['RCat']=='TF','latent_time'], y=mydat.loc[mydat['RCat']=='NR_adj','latent_time'])[1]\n",
    "### check avg. per patient as well\n",
    "tf_nr=ss.mannwhitneyu(x=mydat.loc[mydat['RCat']=='TF','latent_time'], y=mydat.loc[mydat['RCat']=='NR_nadj','latent_time'])[1]\n",
    "### check avg. per patient as well\n",
    "pd_nr=ss.mannwhitneyu(x=mydat.loc[mydat['RCat']=='NR_adj','latent_time'], y=mydat.loc[mydat['RCat']=='NR_nadj','latent_time'])[1]\n",
    "myp=pd.Series([r_nr,r_tf,r_pd,tf_pd,tf_nr,pd_nr])\n",
    "myp.index=['R-NR_nadj','R-TF','R-NR_adj','TF-NR_adj','TF-NR_nadj','NR_adj-NR_nadj']\n",
    "myp"
   ]
  },
  {
   "cell_type": "code",
   "execution_count": null,
   "metadata": {},
   "outputs": [],
   "source": [
    "plt.figure(figsize=(4,3))\n",
    "(-1*np.log10((myp+1.163760e-80).sort_values())).plot.bar()\n",
    "plt.ylabel('-log10(p)')\n",
    "plt.savefig(figdir+'LatentTime-'+velosubset+'-'+mysubset+'-'+subcat+'-per-response-violins-pvals.pdf') "
   ]
  },
  {
   "cell_type": "markdown",
   "metadata": {},
   "source": [
    "### Top-likelihood genes\n",
    "\n",
    "Driver genes display pronounced dynamic behavior and are systematically detected via their characterization by high likelihoods in the dynamic model. "
   ]
  },
  {
   "cell_type": "code",
   "execution_count": null,
   "metadata": {},
   "outputs": [],
   "source": [
    "#top_genes = adata.var['fit_likelihood'].sort_values(ascending=False).index\n",
    "scv.pl.scatter(cdata, basis=list(velogenes.sort_values('fit_likelihood', ascending=False).index)[0:10], ncols=5, frameon=False)"
   ]
  },
  {
   "cell_type": "code",
   "execution_count": null,
   "metadata": {},
   "outputs": [],
   "source": [
    "scv.pl.velocity(cdata, var_names=['VCAN','CD36','ZNF331',  'HLA-DQA1', 'CD83','SOD2','FGR'], ncols=2)"
   ]
  },
  {
   "cell_type": "code",
   "execution_count": null,
   "metadata": {},
   "outputs": [],
   "source": [
    "scv.pl.velocity(cdata, var_names=['LST1','FCN1'], ncols=2)"
   ]
  },
  {
   "cell_type": "markdown",
   "metadata": {},
   "source": [
    "### Cluster-specific top-likelihood genes\n",
    "\n",
    "Moreover, partial gene likelihoods can be computed for a each cluster of cells to enable cluster-specific identification of potential drivers."
   ]
  },
  {
   "cell_type": "code",
   "execution_count": null,
   "metadata": {},
   "outputs": [],
   "source": [
    "scv.tl.rank_dynamical_genes(cdata, groupby='leiden')\n",
    "df = scv.get_df(cdata, 'rank_dynamical_genes/names')\n",
    "df.head(5)"
   ]
  },
  {
   "cell_type": "code",
   "execution_count": null,
   "metadata": {},
   "outputs": [],
   "source": [
    "df.shape"
   ]
  },
  {
   "cell_type": "code",
   "execution_count": null,
   "metadata": {},
   "outputs": [],
   "source": [
    "test_genes=df.head(5).drop_duplicates"
   ]
  },
  {
   "cell_type": "code",
   "execution_count": null,
   "metadata": {},
   "outputs": [],
   "source": [
    "! jupyter nbconvert --to html scvelo-MonoMacro.ipynb"
   ]
  },
  {
   "cell_type": "code",
   "execution_count": null,
   "metadata": {},
   "outputs": [],
   "source": []
  }
 ],
 "metadata": {
  "kernelspec": {
   "display_name": "besca_sandbox",
   "language": "python",
   "name": "besca_sandbox"
  },
  "language_info": {
   "codemirror_mode": {
    "name": "ipython",
    "version": 3
   },
   "file_extension": ".py",
   "mimetype": "text/x-python",
   "name": "python",
   "nbconvert_exporter": "python",
   "pygments_lexer": "ipython3",
   "version": "3.8.12"
  }
 },
 "nbformat": 4,
 "nbformat_minor": 4
}
