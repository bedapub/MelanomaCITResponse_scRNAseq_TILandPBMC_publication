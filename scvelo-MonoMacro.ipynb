{
 "cells": [
  {
   "cell_type": "code",
   "execution_count": null,
   "metadata": {},
   "outputs": [],
   "source": [
    "import scanpy as sc\n",
    "import besca as bc\n",
    "import os\n",
    "import bbknn\n",
    "import numpy as np\n",
    "import scvelo as scv\n",
    "import pandas as pd"
   ]
  },
  {
   "cell_type": "code",
   "execution_count": null,
   "metadata": {},
   "outputs": [],
   "source": [
    "import seaborn as sns\n",
    "import matplotlib.pyplot as plt\n",
    "import scipy.stats as ss\n",
    "from scipy import stats\n",
    "import itertools\n"
   ]
  },
  {
   "cell_type": "code",
   "execution_count": null,
   "metadata": {},
   "outputs": [],
   "source": [
    "color_dict = {'R': 'coral', 'TF': 'firebrick', 'R_nadj': 'lightskyblue','R_adj': 'royalblue'}\n"
   ]
  },
  {
   "cell_type": "code",
   "execution_count": null,
   "metadata": {},
   "outputs": [],
   "source": [
    "sc.logging.print_versions()"
   ]
  },
  {
   "cell_type": "markdown",
   "metadata": {},
   "source": [
    "# Reading the h5ad"
   ]
  },
  {
   "cell_type": "code",
   "execution_count": null,
   "metadata": {},
   "outputs": [],
   "source": [
    "WD=''\n",
    "analysis_name='sw_besca2_immune'\n",
    "#dcdata=sc.read(WD+'analyzed/'+analysis_name+'/'+analysis_name+'.annotated.h5ad')\n",
    "dcdata=sc.read('/Fullanalysis/analyzed/sw_besca2_immune/sw_besca2_immune.annotated.h5ad')"
   ]
  },
  {
   "cell_type": "code",
   "execution_count": null,
   "metadata": {},
   "outputs": [],
   "source": [
    "outpath='/Fullanalysis/analyzed/sw_besca2_immune/velocity/'"
   ]
  },
  {
   "cell_type": "code",
   "execution_count": null,
   "metadata": {},
   "outputs": [],
   "source": [
    "velosubset='MonoMacro'"
   ]
  },
  {
   "cell_type": "code",
   "execution_count": null,
   "metadata": {},
   "outputs": [],
   "source": [
    "set(dcdata.obs['celltype2_merged'])"
   ]
  },
  {
   "cell_type": "code",
   "execution_count": null,
   "metadata": {},
   "outputs": [],
   "source": [
    "sc.set_figure_params()"
   ]
  },
  {
   "cell_type": "code",
   "execution_count": null,
   "metadata": {},
   "outputs": [],
   "source": [
    "sc.pl.umap(dcdata, color=['leiden', 'leiden_TNK', 'Sample type'],legend_loc='on data', legend_fontsize=0.6)"
   ]
  },
  {
   "cell_type": "code",
   "execution_count": null,
   "metadata": {},
   "outputs": [],
   "source": [
    "sc.set_figure_params()\n",
    "import matplotlib.pyplot as plt\n",
    "plt.rcParams[\"figure.figsize\"] = (12,10)"
   ]
  },
  {
   "cell_type": "code",
   "execution_count": null,
   "metadata": {},
   "outputs": [],
   "source": [
    "sc.pl.umap(dcdata, color=['celltype3_rc_cells'], size=8)"
   ]
  },
  {
   "cell_type": "code",
   "execution_count": null,
   "metadata": {},
   "outputs": [],
   "source": [
    "sc.pl.umap(dcdata, color=['celltype3_merged'], size=8)"
   ]
  },
  {
   "cell_type": "code",
   "execution_count": null,
   "metadata": {},
   "outputs": [],
   "source": [
    "sc.set_figure_params()\n",
    "sc.pl.umap(dcdata,color=['CD8A','CD8B','CD4','CD3D'], color_map='viridis')"
   ]
  },
  {
   "cell_type": "code",
   "execution_count": null,
   "metadata": {},
   "outputs": [],
   "source": [
    "set(dcdata.obs['celltype2_merged'])"
   ]
  },
  {
   "cell_type": "code",
   "execution_count": null,
   "metadata": {},
   "outputs": [],
   "source": [
    "#dcdata=dcdata[(dcdata.obs['celltype2'].isin(['CD8-positive, alpha-beta T cell']))|(dcdata.obs['celltype2_rc_cells'].isin(['CD8-positive, alpha-beta T cell']))|(dcdata.obs['celltype2_rc_sample'].isin(['CD8-positive, alpha-beta T cell']))].copy()\n",
    "#dcdata=dcdata[(dcdata.obs['celltype2'].isin(['CD8-positive, alpha-beta T cell']))|(dcdata.obs['celltype2_rc_cells'].isin(['CD8-positive, alpha-beta T cell']))].copy()\n",
    "dcdata=dcdata[(dcdata.obs['celltype2_merged'].isin(['macrophage', 'classical monocyte',\n",
    "                                                    'non-classical monocyte','myeloid leukocyte']))].copy()\n",
    "#dcdata=dcdata[(dcdata.obs['celltype3_merged']!='proliferating CD4-positive, alpha-beta T cell')].copy()"
   ]
  },
  {
   "cell_type": "code",
   "execution_count": null,
   "metadata": {},
   "outputs": [],
   "source": [
    "#dcdata=dcdata[(dcdata.obs['celltype3_rc_cells']!='proliferating CD4-positive, alpha-beta T cell')].copy()\n",
    "#dcdata=dcdata[(dcdata.obs['celltype3_rc_sample']!='proliferating CD4-positive, alpha-beta T cell')].copy()\n",
    "#dcdata=dcdata[(dcdata.obs['celltype3']!='naive thymus-derived CD4-positive, alpha-beta T cell')].copy()\n",
    "#dcdata=dcdata[(dcdata.obs['celltype3_rc_cells']!='naive thymus-derived CD4-positive, alpha-beta T cell')].copy()\n",
    "#dcdata=dcdata[(dcdata.obs['celltype3']!='central memory CD4-positive, alpha-beta T cell')].copy()\n",
    "#dcdata=dcdata[(dcdata.obs['celltype3']!='CD4-positive, alpha-beta cytotoxic T cell')].copy()\n",
    "#dcdata=dcdata[(dcdata.obs['celltype1_rc_cells']=='T cell')].copy()\n",
    "\n",
    "\n",
    "#dcdata=dcdata[dcdata.obs['celltype2_TNK'].isin(['CD8Tcell'])]\n",
    "#dcdata=dcdata[~dcdata.obs['leiden_TNK'].isin(['14','34','3','31'])].copy()"
   ]
  },
  {
   "cell_type": "code",
   "execution_count": null,
   "metadata": {},
   "outputs": [],
   "source": [
    "#sub=(((dcdata.raw[:,'CD8A'].X.todense()+dcdata.raw[:,'CD8B'].X.todense())>0)|(dcdata.raw[:,'CD4'].X.todense()==0))"
   ]
  },
  {
   "cell_type": "code",
   "execution_count": null,
   "metadata": {},
   "outputs": [],
   "source": [
    "dcdata.obs['leidenf']=dcdata.obs['leiden'].copy()"
   ]
  },
  {
   "cell_type": "code",
   "execution_count": null,
   "metadata": {},
   "outputs": [],
   "source": [
    "sc.pl.umap(dcdata, color=['leiden', 'celltype3_merged','celltype3', 'Sample type'])"
   ]
  },
  {
   "cell_type": "code",
   "execution_count": null,
   "metadata": {},
   "outputs": [],
   "source": [
    "sc.pl.umap(dcdata, color=['celltype3_merged'],legend_fontsize=8) #14, 34, 3, 31\n"
   ]
  },
  {
   "cell_type": "code",
   "execution_count": null,
   "metadata": {},
   "outputs": [],
   "source": [
    "sc.pl.umap(dcdata, color=['celltype3'],legend_fontsize=8) #14, 34, 3, 31\n"
   ]
  },
  {
   "cell_type": "code",
   "execution_count": null,
   "metadata": {},
   "outputs": [],
   "source": [
    "sc.pl.umap(dcdata, color=['CLEC9A','CLEC10A','MSR1'])"
   ]
  },
  {
   "cell_type": "code",
   "execution_count": null,
   "metadata": {},
   "outputs": [],
   "source": [
    "sc.pl.umap(dcdata, color=['celltype3_rc_cells'],legend_fontsize=8) #14, 34, 3, 31\n"
   ]
  },
  {
   "cell_type": "code",
   "execution_count": null,
   "metadata": {},
   "outputs": [],
   "source": [
    "loom=scv.read('loom_afterconcat.h5ad')"
   ]
  },
  {
   "cell_type": "code",
   "execution_count": null,
   "metadata": {},
   "outputs": [],
   "source": [
    "adata=scv.utils.merge(dcdata, loom).copy()"
   ]
  },
  {
   "cell_type": "code",
   "execution_count": null,
   "metadata": {
    "scrolled": true
   },
   "outputs": [],
   "source": [
    "sc.set_figure_params(6)\n",
    "sc.pl.umap(adata,color=['PatientID'],ncols=2)"
   ]
  },
  {
   "cell_type": "code",
   "execution_count": null,
   "metadata": {},
   "outputs": [],
   "source": [
    "adata=sc.read(WD+'/analyzed/'+analysis_name+'/'+analysis_name+'.annotated.'+velosubset+'.h5ad')"
   ]
  },
  {
   "cell_type": "code",
   "execution_count": null,
   "metadata": {},
   "outputs": [],
   "source": [
    "sc.pl.umap(adata,color=['leiden'],legend_loc='on data')"
   ]
  },
  {
   "cell_type": "code",
   "execution_count": null,
   "metadata": {},
   "outputs": [],
   "source": [
    "#catorder=['8','12','10','6','4','5','3','1']\n",
    "catorder=corder=['2','5','10','7','13','8']"
   ]
  },
  {
   "cell_type": "code",
   "execution_count": null,
   "metadata": {},
   "outputs": [],
   "source": [
    "#adata=adata[adata.obs['leiden'].isin(catorder)].copy()"
   ]
  },
  {
   "cell_type": "code",
   "execution_count": null,
   "metadata": {
    "scrolled": true
   },
   "outputs": [],
   "source": [
    "scv.pp.filter_and_normalize(adata)\n",
    "scv.pp.moments(adata)\n",
    "scv.pp.neighbors(adata)\n",
    "\n",
    "scv.tl.recover_dynamics(adata)\n",
    "scv.tl.velocity(adata,mode='dynamical')\n",
    "scv.tl.velocity_graph(adata)"
   ]
  },
  {
   "cell_type": "code",
   "execution_count": null,
   "metadata": {},
   "outputs": [],
   "source": [
    "mysubset='All'\n",
    "subcat='PBMCandTIL'\n"
   ]
  },
  {
   "cell_type": "code",
   "execution_count": null,
   "metadata": {},
   "outputs": [],
   "source": [
    "#subcat='TILonly'\n",
    "adata.write(WD+'analyzed/'+analysis_name+'/velocity/Velo-'+velosubset+'-'+mysubset+'-'+subcat+'-dyn.h5ad')"
   ]
  },
  {
   "cell_type": "code",
   "execution_count": null,
   "metadata": {},
   "outputs": [],
   "source": [
    "#adata=sc.read(WD+'analyzed/'+analysis_name+'/velocity/Velo-'+velosubset+'-'+mysubset+'-'+subcat+'-dyn.h5ad')"
   ]
  },
  {
   "cell_type": "code",
   "execution_count": null,
   "metadata": {},
   "outputs": [],
   "source": [
    "#scv.pl.velocity(adata, ['NR4A2',  'ZNF331', 'CREM','PRDM1','LYST','PKM'], ncols=2,groupby='leiden')"
   ]
  },
  {
   "cell_type": "code",
   "execution_count": null,
   "metadata": {},
   "outputs": [],
   "source": [
    "scv.pl.scatter(adata, 'CREM', color=['celltype3', 'velocity']) #               add_outline='ProgExh, TermExh'"
   ]
  },
  {
   "cell_type": "code",
   "execution_count": null,
   "metadata": {},
   "outputs": [],
   "source": [
    "scv.pl.scatter(adata, 'NR4A2', color=['celltype3', 'velocity']) #    "
   ]
  },
  {
   "cell_type": "code",
   "execution_count": null,
   "metadata": {},
   "outputs": [],
   "source": [
    "scv.tl.velocity_confidence(adata)\n",
    "keys = 'velocity_length', 'velocity_confidence'\n",
    "scv.pl.scatter(adata, c=keys, cmap='coolwarm', perc=[5, 95])\n"
   ]
  },
  {
   "cell_type": "code",
   "execution_count": null,
   "metadata": {},
   "outputs": [],
   "source": [
    "scv.pl.velocity_graph(adata, threshold=.2, color='leiden')"
   ]
  },
  {
   "cell_type": "code",
   "execution_count": null,
   "metadata": {},
   "outputs": [],
   "source": [
    "scv.pl.velocity_embedding_stream(adata, basis='umap',color=['leiden','Sample type'])"
   ]
  },
  {
   "cell_type": "code",
   "execution_count": null,
   "metadata": {},
   "outputs": [],
   "source": [
    "scv.pl.velocity_embedding_stream(adata, basis='umap',color=['leiden','Sample type'])"
   ]
  },
  {
   "cell_type": "code",
   "execution_count": null,
   "metadata": {},
   "outputs": [],
   "source": [
    "sc.set_figure_params(10)\n",
    "import matplotlib.pyplot as plt\n",
    "plt.rcParams[\"figure.figsize\"] = (12,10)"
   ]
  },
  {
   "cell_type": "code",
   "execution_count": null,
   "metadata": {},
   "outputs": [],
   "source": []
  },
  {
   "cell_type": "code",
   "execution_count": null,
   "metadata": {},
   "outputs": [],
   "source": [
    "figdir=outpath\n"
   ]
  },
  {
   "cell_type": "code",
   "execution_count": null,
   "metadata": {},
   "outputs": [],
   "source": [
    "figdir=os.path.join(outpath+'/publication/')\n",
    "scv.settings.figdir = figdir\n",
    "if not os.path.exists(figdir):\n",
    "    os.makedirs(figdir)"
   ]
  },
  {
   "cell_type": "code",
   "execution_count": null,
   "metadata": {},
   "outputs": [],
   "source": [
    "scv.tl.score_genes_cell_cycle(adata)\n",
    "scv.pl.scatter(adata, color_gradients=['S_score', 'G2M_score'], smooth=True, perc=[5, 95],\n",
    "               save='CellCycle-velo-'+velosubset+'-'+mysubset+'-'+subcat+'-dyn-CCPhase.png')\n",
    "s_genes, g2m_genes = scv.utils.get_phase_marker_genes(adata)\n",
    "#s_genes = scv.get_df(adata[:, s_genes], 'spearmans_score', sort_values=True).index\n",
    "#g2m_genes = scv.get_df(adata[:, g2m_genes], 'spearmans_score', sort_values=True).index\n",
    "#kwargs = dict(frameon=False, ylabel='cell cycle genes')\n",
    "#scv.pl.scatter(adata, list(s_genes[:2]) + list(g2m_genes[:3]), **kwargs)\n",
    "#save='CellCycle-velo-'+velosubset+'-'+mysubset+'-'+subcat+'-dyn.png'"
   ]
  },
  {
   "cell_type": "code",
   "execution_count": null,
   "metadata": {},
   "outputs": [],
   "source": [
    "scv.pl.velocity_embedding_stream(adata, basis='umap',color=['Sample type'],\n",
    "                                 min_mass=3.25, \n",
    "                                 save='-velo-'+velosubset+'-'+mysubset+'-'+subcat+'-dyn-SampleType.png')"
   ]
  },
  {
   "cell_type": "code",
   "execution_count": null,
   "metadata": {},
   "outputs": [],
   "source": [
    "sc.set_figure_params(10)\n",
    "import matplotlib.pyplot as plt\n",
    "plt.rcParams[\"figure.figsize\"] = (12,10)"
   ]
  },
  {
   "cell_type": "code",
   "execution_count": null,
   "metadata": {},
   "outputs": [],
   "source": [
    "\n",
    "scv.pl.velocity_embedding_stream(adata, basis='umap',color=['celltype3_merged'], \n",
    "                                 legend_loc='side', min_mass=3.25,\n",
    "                                save='-velo-'+velosubset+'-'+mysubset+'-'+subcat+'-dyn-celltype3.png')"
   ]
  },
  {
   "cell_type": "code",
   "execution_count": null,
   "metadata": {},
   "outputs": [],
   "source": [
    "scv.pl.velocity_embedding_stream(adata, basis='umap',color=['leiden'], legend_loc='on data')"
   ]
  },
  {
   "cell_type": "code",
   "execution_count": null,
   "metadata": {},
   "outputs": [],
   "source": [
    "scv.pl.velocity_embedding_stream(adata, basis='umap',color=['leiden_TNK'], legend_loc='on data')"
   ]
  },
  {
   "cell_type": "code",
   "execution_count": null,
   "metadata": {},
   "outputs": [],
   "source": [
    "sc.set_figure_params()"
   ]
  },
  {
   "cell_type": "code",
   "execution_count": null,
   "metadata": {},
   "outputs": [],
   "source": [
    "sc.pl.umap(adata,color=['XCL1','CCR7','SELL','MKI67', 'STMN1','ENTPD1','CD38','TOX'], color_map='viridis')"
   ]
  },
  {
   "cell_type": "code",
   "execution_count": null,
   "metadata": {},
   "outputs": [],
   "source": [
    "sc.pl.umap(adata,color=['leiden'],legend_loc='on data')"
   ]
  },
  {
   "cell_type": "code",
   "execution_count": null,
   "metadata": {},
   "outputs": [],
   "source": [
    "sc.pl.umap(adata,color=['leidenf'],legend_loc='on data')"
   ]
  },
  {
   "cell_type": "code",
   "execution_count": null,
   "metadata": {},
   "outputs": [],
   "source": [
    "#adata.uns['iroot'] = np.flatnonzero(((adata.obs['leiden']  == '11')&(adata.obs['celltype3']  == 'naive thymus-derived CD8-positive, alpha-beta T cell')&(adata.obs['Sample type']  == 'TIL')))[0]\n",
    "#adata.uns['iroot'] =np.flatnonzero(((adata.obs['root_cells']>0.8)&((adata.obs['celltype3']  == 'naive thymus-derived CD8-positive, alpha-beta T cell')|(adata.obs['celltype3_TNK']  == 'NaiCD8Tcell'))))[0]\n",
    "#root_key='iroot'"
   ]
  },
  {
   "cell_type": "code",
   "execution_count": null,
   "metadata": {},
   "outputs": [],
   "source": [
    "adatapbmc=adata[adata.obs['Sample type']=='PBMC'].copy()\n",
    "adatatil=adata[adata.obs['Sample type']=='TIL'].copy()"
   ]
  },
  {
   "cell_type": "code",
   "execution_count": null,
   "metadata": {},
   "outputs": [],
   "source": [
    "set(adata.obs['celltype3_merged'])"
   ]
  },
  {
   "cell_type": "code",
   "execution_count": null,
   "metadata": {},
   "outputs": [],
   "source": [
    "adatanocc=adata[adata.obs['celltype3_merged']!='proliferating CD8-positive, alpha-beta T cell'].copy()"
   ]
  },
  {
   "cell_type": "code",
   "execution_count": null,
   "metadata": {},
   "outputs": [],
   "source": [
    "scv.tl.latent_time(adatanocc,min_likelihood=0.2, min_confidence=0.9) # #,root_key='iroot'\n",
    "#scv.tl.latent_time(adata)\n",
    "scv.pl.scatter(adatanocc, color='latent_time', color_map='gnuplot', size=30)"
   ]
  },
  {
   "cell_type": "code",
   "execution_count": null,
   "metadata": {},
   "outputs": [],
   "source": [
    "scv.tl.latent_time(adatapbmc,min_likelihood=0.2, min_confidence=0.9) # #,root_key='iroot'\n",
    "#scv.tl.latent_time(adata)\n",
    "scv.pl.scatter(adatapbmc, color='latent_time', color_map='gnuplot', size=30)"
   ]
  },
  {
   "cell_type": "code",
   "execution_count": null,
   "metadata": {},
   "outputs": [],
   "source": [
    "scv.tl.latent_time(adatatil,min_likelihood=0.2, min_confidence=0.9) # #,root_key='iroot'\n",
    "#scv.tl.latent_time(adata)\n",
    "scv.pl.scatter(adatatil, color='latent_time', color_map='gnuplot', size=30)"
   ]
  },
  {
   "cell_type": "code",
   "execution_count": null,
   "metadata": {},
   "outputs": [],
   "source": [
    "scv.tl.latent_time(adata,min_likelihood=0.2, min_confidence=0.9) # #,root_key='iroot'\n",
    "#scv.tl.latent_time(adata)\n",
    "scv.pl.scatter(adata, color='latent_time', color_map='gnuplot', size=30)"
   ]
  },
  {
   "cell_type": "code",
   "execution_count": null,
   "metadata": {},
   "outputs": [],
   "source": [
    "scv.pl.scatter(adata, color='latent_time', color_map='gnuplot', size=30)"
   ]
  },
  {
   "cell_type": "code",
   "execution_count": null,
   "metadata": {},
   "outputs": [],
   "source": [
    "#sc.pl.umap(adata[adata.obs['root_cells']>0.5], color=['leiden','celltype3'])"
   ]
  },
  {
   "cell_type": "code",
   "execution_count": null,
   "metadata": {},
   "outputs": [],
   "source": [
    "sc.pl.umap(adata, color=['root_cells','end_points'])"
   ]
  },
  {
   "cell_type": "code",
   "execution_count": null,
   "metadata": {},
   "outputs": [],
   "source": [
    "sc.pl.umap(adatanocc, color=['root_cells','end_points'])"
   ]
  },
  {
   "cell_type": "code",
   "execution_count": null,
   "metadata": {},
   "outputs": [],
   "source": [
    "adata.write(WD+'analyzed/'+analysis_name+'/velocity/Velo-'+velosubset+'-'+mysubset+'-'+subcat+'-dyn.h5ad')\n",
    "\n"
   ]
  },
  {
   "cell_type": "code",
   "execution_count": null,
   "metadata": {},
   "outputs": [],
   "source": [
    "adata=sc.read(WD+'analyzed/'+analysis_name+'/velocity/Velo-'+velosubset+'-'+mysubset+'-'+subcat+'-dyn.h5ad')"
   ]
  },
  {
   "cell_type": "code",
   "execution_count": null,
   "metadata": {},
   "outputs": [],
   "source": [
    "adata.obs['RCat']=adata.obs['Response3'].copy()\n",
    "adata.obs['RCat']=list(adata.obs['RCat'].replace('NR', 'NR_nadj'))\n",
    "adata.obs['RCat']=list(adata.obs['RCat'].replace('PD', 'NR_adj'))"
   ]
  },
  {
   "cell_type": "code",
   "execution_count": null,
   "metadata": {},
   "outputs": [],
   "source": [
    "### Remove two uncertain patients\n",
    "ddata=adata[adata.obs['PatientID']!='P38'].copy()\n",
    "ddata=adata[adata.obs['PatientID']!='P12'].copy()"
   ]
  },
  {
   "cell_type": "code",
   "execution_count": null,
   "metadata": {},
   "outputs": [],
   "source": [
    "ddata.obs['PatientID']=ddata.obs['PatientID'].astype(str)"
   ]
  },
  {
   "cell_type": "code",
   "execution_count": null,
   "metadata": {},
   "outputs": [],
   "source": [
    "ddata.obs['R_clus']=ddata.obs['RCat'].astype(str)+'-'+[x.replace(\"-\", \"_\") for x in ddata.obs['celltype3_merged'].astype(str)]\n",
    "ddata.obs['Pat_clus']=ddata.obs['PatientID'].astype(str)+'-'+[x.replace(\"-\", \"_\") for x in ddata.obs['celltype3_merged'].astype(str)]\n",
    "dfPat = ddata.obs.groupby('Pat_clus')['velocity_length', 'velocity_confidence','latent_time'].mean().T"
   ]
  },
  {
   "cell_type": "code",
   "execution_count": null,
   "metadata": {},
   "outputs": [],
   "source": [
    "dfPat"
   ]
  },
  {
   "cell_type": "code",
   "execution_count": null,
   "metadata": {},
   "outputs": [],
   "source": [
    "Resp=[ddata[ddata.obs['PatientID']==x.split('-')[0]].obs['RCat'][0] for x in list(dfPat.columns)]\n",
    "PatientID=[x.split('-')[0]  for x in list(dfPat.columns)]\n",
    "ClusterID=[x.split('-')[1]  for x in list(dfPat.columns)]"
   ]
  },
  {
   "cell_type": "code",
   "execution_count": null,
   "metadata": {},
   "outputs": [],
   "source": [
    "mydf=pd.DataFrame([list(dfPat.loc['velocity_length',:]),Resp,PatientID,ClusterID]).transpose()\n",
    "mydf.index=dfPat.columns\n",
    "mydf.columns=['velocity_length','Response','PatientID','Cluster']\n",
    "\n",
    "mydfl=pd.DataFrame([list(dfPat.loc['latent_time',:]),Resp,PatientID,ClusterID]).transpose()\n",
    "mydfl.index=dfPat.columns\n",
    "mydfl.columns=['latent_time','Response','PatientID','Cluster']"
   ]
  },
  {
   "cell_type": "code",
   "execution_count": null,
   "metadata": {},
   "outputs": [],
   "source": [
    "mydf.groupby('PatientID', as_index=False)['velocity_length']"
   ]
  },
  {
   "cell_type": "code",
   "execution_count": null,
   "metadata": {},
   "outputs": [],
   "source": [
    "color_dict = {'R': 'coral', 'TF': 'firebrick', 'NR_nadj': 'lightskyblue','NR_adj': 'royalblue'}"
   ]
  },
  {
   "cell_type": "markdown",
   "metadata": {},
   "source": [
    "#### Velocity test first"
   ]
  },
  {
   "cell_type": "code",
   "execution_count": null,
   "metadata": {},
   "outputs": [],
   "source": [
    "#corder=['8','6','1','21']\n",
    "mydf['velocity_length']=mydf['velocity_length'].astype('float')\n",
    "velMean=mydf.groupby('PatientID')['velocity_length'].mean()\n",
    "patid=[ddata[ddata.obs['PatientID']==x.split('-')[0]].obs['RCat'][0]  for x in list(velMean.index)]\n",
    "totest=pd.DataFrame([list(velMean),patid]).transpose()\n",
    "totest.columns=['Val','Cat']"
   ]
  },
  {
   "cell_type": "code",
   "execution_count": null,
   "metadata": {},
   "outputs": [],
   "source": [
    "ss.mannwhitneyu(list(totest.loc[totest['Cat']=='R',:]['Val']),list(totest.loc[totest['Cat']=='NR_nadj',:]['Val']))"
   ]
  },
  {
   "cell_type": "code",
   "execution_count": null,
   "metadata": {},
   "outputs": [],
   "source": [
    "ss.mannwhitneyu(list(totest.loc[totest['Cat']=='TF',:]['Val']),list(totest.loc[totest['Cat']=='NR_adj',:]['Val']))"
   ]
  },
  {
   "cell_type": "code",
   "execution_count": null,
   "metadata": {},
   "outputs": [],
   "source": [
    "set(mydf['Response'])"
   ]
  },
  {
   "cell_type": "code",
   "execution_count": null,
   "metadata": {},
   "outputs": [],
   "source": [
    "totestk=totest.copy()"
   ]
  },
  {
   "cell_type": "code",
   "execution_count": null,
   "metadata": {},
   "outputs": [],
   "source": [
    "fig=sns.boxplot(y='Val',x='Cat',data=totestk,palette=color_dict,order=['R','TF','NR_nadj','NR_adj'])\n",
    "fig=sns.swarmplot(x='Cat',y='Val',data=totestk,color='black',order=['R','TF','NR_nadj','NR_adj'])\n",
    "fig.figure.savefig(figdir+'Velocitylen-'+velosubset+'-'+mysubset+'-'+subcat+'-per-response.pdf') "
   ]
  },
  {
   "cell_type": "code",
   "execution_count": null,
   "metadata": {},
   "outputs": [],
   "source": [
    "totest=list(itertools.combinations(['R','TF','NR_nadj','NR_adj'], 2))\n",
    "pwilc={}\n",
    "pt={}\n",
    "for pairs in totest:\n",
    "    pwilc[pairs[0]+'-'+pairs[1]]=stats.mannwhitneyu(list(totestk.loc[totestk['Cat']==pairs[0],:]['Val']), \n",
    "                           list(totestk.loc[totestk['Cat']==pairs[1],:]['Val']))[1]\n",
    "    pt[pairs[0]+'-'+pairs[1]]=stats.ttest_ind(list(totestk.loc[totestk['Cat']==pairs[0],:]['Val']), \n",
    "                           list(totestk.loc[totestk['Cat']==pairs[1],:]['Val']))[1]\n",
    "\n",
    "myps=pd.DataFrame([pwilc,pt]).transpose()\n",
    "myps.columns=['MannWhitney','T-test']\n",
    "\n",
    "myps.to_csv(figdir+'Pval-Velocitylen-'+velosubset+'-'+mysubset+'-'+subcat+'-per-response.pdf',sep='\\t')"
   ]
  },
  {
   "cell_type": "code",
   "execution_count": null,
   "metadata": {},
   "outputs": [],
   "source": [
    "myps"
   ]
  },
  {
   "cell_type": "code",
   "execution_count": null,
   "metadata": {},
   "outputs": [],
   "source": [
    "corder=list(set(mydf['Cluster']))"
   ]
  },
  {
   "cell_type": "code",
   "execution_count": null,
   "metadata": {},
   "outputs": [],
   "source": [
    "for i in corder:\n",
    "    sns.boxplot(y='velocity_length',x='Response',data=mydf.loc[mydf['Cluster']==i,:],\n",
    "                palette=color_dict,order=['R','TF','NR_nadj','NR_adj'])\n",
    "    sns.swarmplot(x='Response',y='velocity_length',data=mydf.loc[mydf['Cluster']==i,:],\n",
    "                  color='black',order=['R','TF','NR_nadj','NR_adj'])\n",
    "    print('Cluster '+i)\n",
    "    plt.figure()"
   ]
  },
  {
   "cell_type": "markdown",
   "metadata": {},
   "source": [
    "#### Latent time next"
   ]
  },
  {
   "cell_type": "code",
   "execution_count": null,
   "metadata": {},
   "outputs": [],
   "source": [
    "mydfl"
   ]
  },
  {
   "cell_type": "code",
   "execution_count": null,
   "metadata": {},
   "outputs": [],
   "source": [
    "#corder=['8','6','1','21']\n",
    "mydfl['latent_time']=mydfl['latent_time'].astype('float')\n",
    "velMean=mydfl.groupby('PatientID')['latent_time'].mean()\n",
    "patid=[ddata[ddata.obs['PatientID']==x.split('-')[0]].obs['RCat'][0]  for x in list(velMean.index)]\n",
    "totest=pd.DataFrame([list(velMean),patid]).transpose()\n",
    "totest.columns=['Val','Cat']\n",
    "\n",
    "ss.mannwhitneyu(list(totest.loc[totest['Cat']=='R',:]['Val']),list(totest.loc[totest['Cat']=='NR_nadj',:]['Val']))\n",
    "\n"
   ]
  },
  {
   "cell_type": "code",
   "execution_count": null,
   "metadata": {},
   "outputs": [],
   "source": [
    "ss.mannwhitneyu(list(totest.loc[totest['Cat']=='TF',:]['Val']),list(totest.loc[totest['Cat']=='NR_adj',:]['Val']))"
   ]
  },
  {
   "cell_type": "code",
   "execution_count": null,
   "metadata": {},
   "outputs": [],
   "source": [
    "totestk=totest.copy()"
   ]
  },
  {
   "cell_type": "code",
   "execution_count": null,
   "metadata": {},
   "outputs": [],
   "source": [
    "fig=sns.boxplot(y='Val',x='Cat',data=totestk,palette=color_dict,order=['R','TF','NR_nadj','NR_adj'])\n",
    "fig=sns.swarmplot(x='Cat',y='Val',data=totestk,color='black',order=['R','TF','NR_nadj','NR_adj'])\n",
    "fig.figure.savefig(figdir+'LatentTime-'+velosubset+'-'+mysubset+'-'+subcat+'-per-response.pdf') "
   ]
  },
  {
   "cell_type": "code",
   "execution_count": null,
   "metadata": {},
   "outputs": [],
   "source": [
    "corder=list(set(mydf['Cluster']))\n",
    "\n",
    "for i in corder:\n",
    "    sns.boxplot(y='latent_time',x='Response',data=mydfl.loc[mydf['Cluster']==i,:],\n",
    "                palette=color_dict,order=['R','TF','NR_nadj','NR_adj'])\n",
    "    sns.swarmplot(x='Response',y='latent_time',data=mydfl.loc[mydfl['Cluster']==i,:],\n",
    "                  color='black',order=['R','TF','NR_nadj','NR_adj'])\n",
    "    print('Cluster '+i)\n",
    "    plt.figure()"
   ]
  },
  {
   "cell_type": "markdown",
   "metadata": {},
   "source": [
    "### Kinetic rate paramters\n",
    "\n",
    "The rates of RNA transcription, splicing and degradation are estimated without the need of any experimental data.\n",
    "\n",
    "They can be useful to better understand the cell identity and phenotypic heterogeneity."
   ]
  },
  {
   "cell_type": "code",
   "execution_count": null,
   "metadata": {},
   "outputs": [],
   "source": [
    "#adata.var['velocity_genes']"
   ]
  },
  {
   "cell_type": "code",
   "execution_count": null,
   "metadata": {},
   "outputs": [],
   "source": [
    "df = adata.var\n",
    "df = df[(df['fit_likelihood'] > .1) & df['velocity_genes'] == True]\n",
    "\n",
    "kwargs = dict(xscale='log', fontsize=16)\n",
    "with scv.GridSpec(ncols=3) as pl:\n",
    "    pl.hist(df['fit_alpha'], xlabel='transcription rate', **kwargs)\n",
    "    pl.hist(df['fit_beta'] * df['fit_scaling'], xlabel='splicing rate', xticks=[.1, .4, 1], **kwargs)    \n",
    "    pl.hist(df['fit_gamma'], xlabel='degradation rate', xticks=[.1, .4, 1], **kwargs)\n",
    "    \n",
    "scv.get_df(adata, 'fit*', dropna=True).head()"
   ]
  },
  {
   "cell_type": "markdown",
   "metadata": {},
   "source": [
    "The estimated gene-specific parameters comprise rates of transription (`fit_alpha`), splicing (`fit_beta`), degradation (`fit_gamma`), switching time point (`fit_t_`), a scaling parameter to adjust for under-represented unspliced reads (`fit_scaling`), standard deviation of unspliced and spliced reads (`fit_std_u`, `fit_std_s`), the gene likelihood (`fit_likelihood`), inferred steady-state levels (`fit_steady_u`, `fit_steady_s`) with their corresponding p-values (`fit_pval_steady_u`, `fit_pval_steady_s`), the overall model variance (`fit_variance`), and a scaling factor to align the gene-wise latent times to a universal, gene-shared latent time (`fit_alignment_scaling`)."
   ]
  },
  {
   "cell_type": "markdown",
   "metadata": {},
   "source": [
    "### Latent time\n",
    "\n",
    "The dynamical model recovers the latent time of the underlying cellular processes. This latent time represents the cell’s internal clock and approximates the real time experienced by cells as they differentiate, based only on its transcriptional dynamics. "
   ]
  },
  {
   "cell_type": "code",
   "execution_count": null,
   "metadata": {},
   "outputs": [],
   "source": [
    "#scv.tl.terminal_states(adata)\n",
    "#scv.pl.scatter(adata, color=[ 'root_cells', 'end_points'])\n",
    "#tl.latent_time(data[, vkey, min_likelihood, . . . ]) C\n",
    "#scvelo.tl.latent_time(data, vkey=’velocity’, min_likelihood=0.1, min_confidence=0.75,\n",
    "#min_corr_diffusion=None, weight_diffusi"
   ]
  },
  {
   "cell_type": "code",
   "execution_count": null,
   "metadata": {},
   "outputs": [],
   "source": [
    "scv.tl.rank_dynamical_genes(adata, groupby='leiden')\n"
   ]
  },
  {
   "cell_type": "code",
   "execution_count": null,
   "metadata": {},
   "outputs": [],
   "source": [
    "df = scv.get_df(adata, 'rank_dynamical_genes/names')\n",
    "df.head(10)\n",
    "#r"
   ]
  },
  {
   "cell_type": "code",
   "execution_count": null,
   "metadata": {},
   "outputs": [],
   "source": [
    "scv.tl.rank_dynamical_genes(adata, groupby='celltype3_merged')\n"
   ]
  },
  {
   "cell_type": "code",
   "execution_count": null,
   "metadata": {},
   "outputs": [],
   "source": [
    "df = scv.get_df(adata, 'rank_dynamical_genes/names')\n",
    "df.head(10)\n",
    "#r"
   ]
  },
  {
   "cell_type": "code",
   "execution_count": null,
   "metadata": {},
   "outputs": [],
   "source": [
    "df.head(50).to_csv(figdir+'/TopDynamicGenesPerCluster_'+velosubset+'-'+mysubset+'_'+subcat+'_loom-dyn_Top50Ranked.tsv',sep='\\t')"
   ]
  },
  {
   "cell_type": "code",
   "execution_count": null,
   "metadata": {},
   "outputs": [],
   "source": [
    "\n",
    "#for cluster in list(df.columns):\n",
    "#    scv.pl.scatter(adata, df[cluster][:5], ylabel='celltype3_merged', frameon=False)\n"
   ]
  },
  {
   "cell_type": "code",
   "execution_count": null,
   "metadata": {},
   "outputs": [],
   "source": [
    "ofinterest=set([item for sublist in df.head(25).values.tolist() for item in sublist])\n",
    "\n"
   ]
  },
  {
   "cell_type": "code",
   "execution_count": null,
   "metadata": {},
   "outputs": [],
   "source": [
    "velogenes=adata.var.loc[(adata.var['velocity_genes']==True)&(adata.var['fit_likelihood']>.1),:]"
   ]
  },
  {
   "cell_type": "code",
   "execution_count": null,
   "metadata": {},
   "outputs": [],
   "source": [
    "velogenes.sort_values('fit_likelihood', ascending=False)"
   ]
  },
  {
   "cell_type": "code",
   "execution_count": null,
   "metadata": {},
   "outputs": [],
   "source": [
    "set(list(velogenes.index))"
   ]
  },
  {
   "cell_type": "code",
   "execution_count": null,
   "metadata": {},
   "outputs": [],
   "source": [
    "top_genes = adata.var['fit_likelihood'].sort_values(ascending=False).index#[:300]\n"
   ]
  },
  {
   "cell_type": "code",
   "execution_count": null,
   "metadata": {},
   "outputs": [],
   "source": [
    "invelo=[]\n",
    "for x in list(top_genes):\n",
    "    invelo=invelo+list(set([x]).intersection(set(velogenes.index)))"
   ]
  },
  {
   "cell_type": "code",
   "execution_count": null,
   "metadata": {},
   "outputs": [],
   "source": [
    "scv.pl.heatmap(adata, var_names=invelo, sortby='latent_time', \n",
    "               col_color='celltype3_merged', n_convolve=30,\n",
    "               font_scale=0.5,  figsize=(8, 6))"
   ]
  },
  {
   "cell_type": "code",
   "execution_count": null,
   "metadata": {},
   "outputs": [],
   "source": [
    "scv.pl.heatmap(adata, var_names=invelo[0:50], \n",
    "               sortby='latent_time', col_color='celltype3_merged', n_convolve=30,\n",
    "               font_scale=0.5,  figsize=(8, 6))"
   ]
  },
  {
   "cell_type": "code",
   "execution_count": null,
   "metadata": {},
   "outputs": [],
   "source": [
    "scv.pl.heatmap(adata, var_names=invelo[50:100], \n",
    "               sortby='latent_time', col_color='celltype3_merged', n_convolve=30,\n",
    "               font_scale=0.5,  figsize=(8, 6))"
   ]
  },
  {
   "cell_type": "code",
   "execution_count": null,
   "metadata": {},
   "outputs": [],
   "source": [
    "if (len(invelo)>100):\n",
    "    scv.pl.heatmap(adata, var_names=invelo[100:len(invelo)], \n",
    "               sortby='latent_time', col_color='celltype3_merged', n_convolve=30,\n",
    "               font_scale=0.5,  figsize=(8, 6))"
   ]
  },
  {
   "cell_type": "code",
   "execution_count": null,
   "metadata": {},
   "outputs": [],
   "source": [
    "velogenes.sort_values('fit_likelihood', ascending=False).to_csv(figdir+'/VelocityInfoPerGene_'+velosubset+'-'+mysubset+'_'+subcat+'_loom-dyn_allVeloGenesRanked.tsv',sep='\\t')"
   ]
  },
  {
   "cell_type": "code",
   "execution_count": null,
   "metadata": {},
   "outputs": [],
   "source": [
    "tkey='latent_time'\n",
    "var_names=invelo\n",
    "var_names = [name for name in var_names if name in adata.var_names]\n",
    "xkey='Ms'\n",
    "time = adata.obs[tkey].values\n",
    "time = time[np.isfinite(time)]\n",
    "\n",
    "df = pd.DataFrame(adata[:, var_names].layers[xkey][np.argsort(time)], columns=var_names)"
   ]
  },
  {
   "cell_type": "code",
   "execution_count": null,
   "metadata": {},
   "outputs": [],
   "source": [
    "list(adata.obs.columns)"
   ]
  },
  {
   "cell_type": "code",
   "execution_count": null,
   "metadata": {},
   "outputs": [],
   "source": [
    "max_sort = np.argsort(np.argmax(df.values, axis=0))\n",
    "df = pd.DataFrame(df.values[:, max_sort], columns=df.columns[max_sort])\n",
    "df.index=pd.DataFrame([adata.obs['celltype3_merged'][np.argsort(time)],\n",
    "                       adata.obs['leiden'][np.argsort(time)],adata.obs['latent_time'][np.argsort(time)]]).transpose().index\n",
    "df=pd.concat([df,pd.DataFrame([adata.obs['celltype3_merged'][np.argsort(time)],\n",
    "                               adata.obs['leiden'][np.argsort(time)],adata.obs['latent_time'][np.argsort(time)]]).transpose()], axis=1)"
   ]
  },
  {
   "cell_type": "code",
   "execution_count": null,
   "metadata": {},
   "outputs": [],
   "source": [
    "def getMeans(adata,myvar):\n",
    "    gene_ids = adata.raw.var.index.values\n",
    "    clusters = adata.obs[myvar].cat.categories\n",
    "    obs = adata.raw[:,gene_ids].X.toarray()\n",
    "    obs = pd.DataFrame(obs,columns=gene_ids,index=adata.obs[myvar])\n",
    "    average_obs = obs.groupby(level=0).mean()\n",
    "    obs_bool = obs.astype(bool)\n",
    "    fraction_obs = obs_bool.groupby(level=0).sum()/obs_bool.groupby(level=0).count()\n",
    "    return(average_obs,fraction_obs)\n"
   ]
  },
  {
   "cell_type": "code",
   "execution_count": null,
   "metadata": {},
   "outputs": [],
   "source": [
    "avg,fct=getMeans(adata,'leiden')"
   ]
  },
  {
   "cell_type": "code",
   "execution_count": null,
   "metadata": {},
   "outputs": [],
   "source": [
    "avg.loc[:,ofinterest]"
   ]
  },
  {
   "cell_type": "code",
   "execution_count": null,
   "metadata": {},
   "outputs": [],
   "source": []
  },
  {
   "cell_type": "code",
   "execution_count": null,
   "metadata": {},
   "outputs": [],
   "source": [
    "scv.settings.set_figure_params('scvelo')\n",
    "\n",
    "plt.figure(figsize=(4,3))\n",
    "mydat=ddata.obs.loc[:,['RCat','latent_time']]\n",
    "fig=sns.violinplot(x='RCat',y='latent_time',data=mydat, palette=color_dict, order=['R','TF','NR_nadj','NR_adj'])\n",
    "fig.figure.savefig(figdir+'LatentTime-'+velosubset+'-'+mysubset+'-'+subcat+'-per-response-violins.pdf') "
   ]
  },
  {
   "cell_type": "code",
   "execution_count": null,
   "metadata": {},
   "outputs": [],
   "source": []
  },
  {
   "cell_type": "code",
   "execution_count": null,
   "metadata": {},
   "outputs": [],
   "source": [
    "lt={}\n",
    "for resp in  list(color_dict.keys()):\n",
    "    lt[resp]=ddata[ddata.obs['RCat']==resp].obs['latent_time']\n",
    "mydat=ddata.obs.loc[:,['RCat','latent_time']]\n",
    "\n",
    "plt.figure(figsize=(4,3))\n",
    "myc=list(color_dict.values())\n",
    "i=0\n",
    "# Iterate through the five airlines\n",
    "for resp in list(color_dict.keys()):\n",
    "    subset = lt[resp]\n",
    "    sns.distplot(subset, hist = False, kde = True,\n",
    "                 kde_kws = {'linewidth': 3},\n",
    "                 label = resp,color=myc[i])\n",
    "    i=i+1\n",
    "\n",
    "# Plot formatting\n",
    "plt.legend(prop={'size': 10}, title = 'Responders')\n",
    "plt.title('Density Plot across Responses')\n",
    "plt.xlabel('Latent time')\n",
    "plt.ylabel('Density')\n",
    "#plt.savefig(outpath+'/LatentTime_RvsNR_CD8TNK_CCtoExh_TILonly.pdf')\n",
    "plt.savefig(figdir+'LatentTime-'+velosubset+'-'+mysubset+'-'+subcat+'-per-response-desity.pdf')"
   ]
  },
  {
   "cell_type": "code",
   "execution_count": null,
   "metadata": {},
   "outputs": [],
   "source": [
    "### check avg. per patient as well\n",
    "r_nr=ss.mannwhitneyu(x=mydat.loc[mydat['RCat']=='R','latent_time'], y=mydat.loc[mydat['RCat']=='NR_nadj','latent_time'])[1]\n",
    "### check avg. per patient as well\n",
    "r_tf=ss.mannwhitneyu(x=mydat.loc[mydat['RCat']=='R','latent_time'], y=mydat.loc[mydat['RCat']=='TF','latent_time'])[1]\n",
    "### check avg. per patient as well\n",
    "r_pd=ss.mannwhitneyu(x=mydat.loc[mydat['RCat']=='R','latent_time'], y=mydat.loc[mydat['RCat']=='NR_adj','latent_time'])[1]\n",
    "### check avg. per patient as well\n",
    "tf_pd=ss.mannwhitneyu(x=mydat.loc[mydat['RCat']=='TF','latent_time'], y=mydat.loc[mydat['RCat']=='NR_adj','latent_time'])[1]\n",
    "### check avg. per patient as well\n",
    "tf_nr=ss.mannwhitneyu(x=mydat.loc[mydat['RCat']=='TF','latent_time'], y=mydat.loc[mydat['RCat']=='NR_nadj','latent_time'])[1]\n",
    "### check avg. per patient as well\n",
    "pd_nr=ss.mannwhitneyu(x=mydat.loc[mydat['RCat']=='NR_adj','latent_time'], y=mydat.loc[mydat['RCat']=='NR_nadj','latent_time'])[1]\n",
    "myp=pd.Series([r_nr,r_tf,r_pd,tf_pd,tf_nr,pd_nr])\n",
    "myp.index=['R-NR_nadj','R-TF','R-NR_adj','TF-NR_adj','TF-NR_nadj','NR_adj-NR_nadj']\n",
    "myp"
   ]
  },
  {
   "cell_type": "code",
   "execution_count": null,
   "metadata": {},
   "outputs": [],
   "source": [
    "plt.figure(figsize=(4,3))\n",
    "(-1*np.log10((myp+1.163760e-80).sort_values())).plot.bar()\n",
    "plt.ylabel('-log10(p)')\n",
    "plt.savefig(figdir+'LatentTime-'+velosubset+'-'+mysubset+'-'+subcat+'-per-response-violins-pvals.pdf') "
   ]
  },
  {
   "cell_type": "code",
   "execution_count": null,
   "metadata": {},
   "outputs": [],
   "source": [
    "latcat=adata.obs['leiden'].copy()\n",
    "latcat=latcat.cat.set_categories(['early','mid','late'])"
   ]
  },
  {
   "cell_type": "code",
   "execution_count": null,
   "metadata": {},
   "outputs": [],
   "source": [
    "latcat[adata.obs['latent_time']<=0.25]='early'\n",
    "latcat[adata.obs['latent_time']>0.5]='late'\n",
    "latcat[(adata.obs['latent_time']>0.25)&(adata.obs['latent_time']<=0.5)]='mid'\n",
    "adata.obs['latcat']=list(latcat)\n",
    "\n",
    "sc.pl.umap(adata,color=['latcat'],legend_loc='on data')"
   ]
  },
  {
   "cell_type": "code",
   "execution_count": null,
   "metadata": {},
   "outputs": [],
   "source": [
    "! jupyter nbconvert --to html scvelo-monomacro.ipynb"
   ]
  },
  {
   "cell_type": "code",
   "execution_count": null,
   "metadata": {},
   "outputs": [],
   "source": []
  }
 ],
 "metadata": {
  "kernelspec": {
   "display_name": "Python3.7 (besca_test)",
   "language": "python",
   "name": "besca_test"
  },
  "language_info": {
   "codemirror_mode": {
    "name": "ipython",
    "version": 3
   },
   "file_extension": ".py",
   "mimetype": "text/x-python",
   "name": "python",
   "nbconvert_exporter": "python",
   "pygments_lexer": "ipython3",
   "version": "3.7.1"
  }
 },
 "nbformat": 4,
 "nbformat_minor": 4
}
